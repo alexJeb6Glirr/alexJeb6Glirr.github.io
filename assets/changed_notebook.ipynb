{
 "cells": [
  {
   "cell_type": "markdown",
   "metadata": {},
   "source": [
    "# Topic Modeling"
   ]
  },
  {
   "cell_type": "markdown",
   "metadata": {},
   "source": [
    "Run in terminal or command prompt\n",
    "`python -m spacy download en`"
   ]
  },
  {
   "cell_type": "markdown",
   "metadata": {},
   "source": [
    "The core packages used in this tutorial are `nltk`, `re`, `gensim`, `spacy` and `pyLDAvis`. Besides this we will also using `matplotlib`, `numpy`, `pandas` and `plotly` for data handling and visualization. Let’s import them."
   ]
  },
  {
   "cell_type": "markdown",
   "metadata": {},
   "source": [
    "(to install and run jupyter notebooks, see: <https://www.csestack.org/install-use-jupyter-notebook-python-example/>)"
   ]
  },
  {
   "cell_type": "code",
   "execution_count": 2,
   "metadata": {},
   "outputs": [
    {
     "name": "stdout",
     "output_type": "stream",
     "text": [
      "CPU times: user 468 ms, sys: 163 ms, total: 631 ms\n",
      "Wall time: 1.08 s\n"
     ]
    },
    {
     "name": "stderr",
     "output_type": "stream",
     "text": [
      "[nltk_data] Downloading package stopwords to /home/ab/nltk_data...\n",
      "[nltk_data]   Package stopwords is already up-to-date!\n"
     ]
    },
    {
     "data": {
      "text/plain": [
       "True"
      ]
     },
     "execution_count": 2,
     "metadata": {},
     "output_type": "execute_result"
    }
   ],
   "source": [
    "%%time\n",
    "import nltk\n",
    "nltk.download('stopwords')\n"
   ]
  },
  {
   "cell_type": "markdown",
   "metadata": {},
   "source": [
    "We'll also need some libraries for data manipulation and visualization: `matplotlib`, `numpy` and `pandas`."
   ]
  },
  {
   "cell_type": "code",
   "execution_count": 3,
   "metadata": {},
   "outputs": [],
   "source": [
    "import re\n",
    "import numpy\n",
    "import pandas\n",
    "pandas.set_option(\"display.max_colwidth\", 30)\n",
    "from pprint import pprint"
   ]
  },
  {
   "cell_type": "code",
   "execution_count": 4,
   "metadata": {},
   "outputs": [],
   "source": [
    "# Gensim\n",
    "import gensim\n",
    "import gensim.corpora\n",
    "from gensim.utils import simple_preprocess\n",
    "from gensim.models import CoherenceModel\n",
    "\n",
    "# spacy for lemmatization\n",
    "import spacy\n",
    "\n",
    "# Plotting tools\n",
    "import pyLDAvis\n",
    "import pyLDAvis.gensim  # don't skip this\n",
    "import matplotlib.pyplot as plt\n",
    "%matplotlib inline\n",
    "\n",
    "import warnings\n",
    "warnings.filterwarnings(\"ignore\", category=DeprecationWarning)"
   ]
  },
  {
   "cell_type": "markdown",
   "metadata": {},
   "source": [
    "# Stopwords"
   ]
  },
  {
   "cell_type": "code",
   "execution_count": 5,
   "metadata": {
    "scrolled": true
   },
   "outputs": [
    {
     "name": "stdout",
     "output_type": "stream",
     "text": [
      "['i', 'me', 'my', 'myself', 'we', 'our', 'ours', 'ourselves', 'you', \"you're\", \"you've\", \"you'll\", \"you'd\", 'your', 'yours', 'yourself', 'yourselves', 'he', 'him', 'his', 'himself', 'she', \"she's\", 'her', 'hers', 'herself', 'it', \"it's\", 'its', 'itself', 'they', 'them', 'their', 'theirs', 'themselves', 'what', 'which', 'who', 'whom', 'this', 'that', \"that'll\", 'these', 'those', 'am', 'is', 'are', 'was', 'were', 'be', 'been', 'being', 'have', 'has', 'had', 'having', 'do', 'does', 'did', 'doing', 'a', 'an', 'the', 'and', 'but', 'if', 'or', 'because', 'as', 'until', 'while', 'of', 'at', 'by', 'for', 'with', 'about', 'against', 'between', 'into', 'through', 'during', 'before', 'after', 'above', 'below', 'to', 'from', 'up', 'down', 'in', 'out', 'on', 'off', 'over', 'under', 'again', 'further', 'then', 'once', 'here', 'there', 'when', 'where', 'why', 'how', 'all', 'any', 'both', 'each', 'few', 'more', 'most', 'other', 'some', 'such', 'no', 'nor', 'not', 'only', 'own', 'same', 'so', 'than', 'too', 'very', 's', 't', 'can', 'will', 'just', 'don', \"don't\", 'should', \"should've\", 'now', 'd', 'll', 'm', 'o', 're', 've', 'y', 'ain', 'aren', \"aren't\", 'couldn', \"couldn't\", 'didn', \"didn't\", 'doesn', \"doesn't\", 'hadn', \"hadn't\", 'hasn', \"hasn't\", 'haven', \"haven't\", 'isn', \"isn't\", 'ma', 'mightn', \"mightn't\", 'mustn', \"mustn't\", 'needn', \"needn't\", 'shan', \"shan't\", 'shouldn', \"shouldn't\", 'wasn', \"wasn't\", 'weren', \"weren't\", 'won', \"won't\", 'wouldn', \"wouldn't\"]\n",
      "CPU times: user 4.56 ms, sys: 132 µs, total: 4.69 ms\n",
      "Wall time: 4.05 ms\n"
     ]
    }
   ],
   "source": [
    "%%time\n",
    "\n",
    "# NLTK Stop words\n",
    "from nltk.corpus import stopwords\n",
    "stop_words = stopwords.words('english')\n",
    "\n",
    "print(stop_words)"
   ]
  },
  {
   "cell_type": "markdown",
   "metadata": {},
   "source": [
    "**NB:** however, it is always better to have your personal curated list. How can we create it? "
   ]
  },
  {
   "cell_type": "markdown",
   "metadata": {},
   "source": [
    "# Load our Dispatch data:"
   ]
  },
  {
   "cell_type": "code",
   "execution_count": 6,
   "metadata": {},
   "outputs": [
    {
     "name": "stdout",
     "output_type": "stream",
     "text": [
      "CPU times: user 1.41 s, sys: 105 ms, total: 1.52 s\n",
      "Wall time: 1.75 s\n"
     ]
    }
   ],
   "source": [
    "%%time\n",
    "\n",
    "dispatchFile = \"../../../Project/the-whole-dispatch.1.tsv\" # or: dispatch_1864_filtered.tsv\n",
    "dispatch = pandas.read_csv(dispatchFile, sep=\"\\t\", header=0)\n",
    "\n",
    "# add a column with all dates of each month changed to 1 (we can use that to aggregate our data into months)\n",
    "dispatch[\"month\"] = [re.sub(\"-\\d\\d$\", \"-01\", str(i)) for i in dispatch[\"date\"]]\n",
    "\n",
    "# reorder columns\n",
    "dispatch = dispatch[[\"month\", \"date\", \"type\", \"header\", \"content\"]]"
   ]
  },
  {
   "cell_type": "code",
   "execution_count": 7,
   "metadata": {
    "scrolled": true
   },
   "outputs": [
    {
     "data": {
      "text/html": [
       "<div>\n",
       "<style scoped>\n",
       "    .dataframe tbody tr th:only-of-type {\n",
       "        vertical-align: middle;\n",
       "    }\n",
       "\n",
       "    .dataframe tbody tr th {\n",
       "        vertical-align: top;\n",
       "    }\n",
       "\n",
       "    .dataframe thead th {\n",
       "        text-align: right;\n",
       "    }\n",
       "</style>\n",
       "<table border=\"1\" class=\"dataframe\">\n",
       "  <thead>\n",
       "    <tr style=\"text-align: right;\">\n",
       "      <th></th>\n",
       "      <th>month</th>\n",
       "      <th>date</th>\n",
       "      <th>type</th>\n",
       "      <th>header</th>\n",
       "      <th>content</th>\n",
       "    </tr>\n",
       "  </thead>\n",
       "  <tbody>\n",
       "    <tr>\n",
       "      <th>0</th>\n",
       "      <td>1860-02-01</td>\n",
       "      <td>1860-02-13</td>\n",
       "      <td>advert</td>\n",
       "      <td>N. A. Sturdivant,Attorney ...</td>\n",
       "      <td>\\n \\n\\n\\n Office on 11th,...</td>\n",
       "    </tr>\n",
       "    <tr>\n",
       "      <th>1</th>\n",
       "      <td>1860-02-01</td>\n",
       "      <td>1860-02-13</td>\n",
       "      <td>advert</td>\n",
       "      <td>NaN</td>\n",
       "      <td>\\n \\n\\n\\nDr. Geo. W. Brig...</td>\n",
       "    </tr>\n",
       "    <tr>\n",
       "      <th>2</th>\n",
       "      <td>1860-02-01</td>\n",
       "      <td>1860-02-13</td>\n",
       "      <td>advert</td>\n",
       "      <td>Preston M. Quarles, Notary...</td>\n",
       "      <td>\\n \\n\\n\\n --As Notary, wi...</td>\n",
       "    </tr>\n",
       "    <tr>\n",
       "      <th>3</th>\n",
       "      <td>1860-02-01</td>\n",
       "      <td>1860-02-13</td>\n",
       "      <td>advert</td>\n",
       "      <td>NaN</td>\n",
       "      <td>\\nHenry Coalter Cabell.\\n...</td>\n",
       "    </tr>\n",
       "    <tr>\n",
       "      <th>4</th>\n",
       "      <td>1860-02-01</td>\n",
       "      <td>1860-02-13</td>\n",
       "      <td>advert</td>\n",
       "      <td>Edward E. Orvis,Attorney a...</td>\n",
       "      <td>\\n \\n\\n\\n Will attend pro...</td>\n",
       "    </tr>\n",
       "    <tr>\n",
       "      <th>...</th>\n",
       "      <td>...</td>\n",
       "      <td>...</td>\n",
       "      <td>...</td>\n",
       "      <td>...</td>\n",
       "      <td>...</td>\n",
       "    </tr>\n",
       "    <tr>\n",
       "      <th>338364</th>\n",
       "      <td>1865-12-01</td>\n",
       "      <td>1865-12-30</td>\n",
       "      <td>ad-blank</td>\n",
       "      <td>Steamers.</td>\n",
       "      <td>\\n \\n     \\n \\n \\n</td>\n",
       "    </tr>\n",
       "    <tr>\n",
       "      <th>338365</th>\n",
       "      <td>1865-12-01</td>\n",
       "      <td>1865-12-30</td>\n",
       "      <td>ad-blank</td>\n",
       "      <td>NaN</td>\n",
       "      <td>\\n \\n\\n\\n    \\n</td>\n",
       "    </tr>\n",
       "    <tr>\n",
       "      <th>338366</th>\n",
       "      <td>1865-12-01</td>\n",
       "      <td>1865-12-30</td>\n",
       "      <td>ad-blank</td>\n",
       "      <td>NaN</td>\n",
       "      <td>\\n \\n    \\n</td>\n",
       "    </tr>\n",
       "    <tr>\n",
       "      <th>338367</th>\n",
       "      <td>1865-12-01</td>\n",
       "      <td>1865-12-30</td>\n",
       "      <td>ad-blank</td>\n",
       "      <td>NaN</td>\n",
       "      <td>\\n \\n    \\n</td>\n",
       "    </tr>\n",
       "    <tr>\n",
       "      <th>338368</th>\n",
       "      <td>1865-12-01</td>\n",
       "      <td>1865-12-30</td>\n",
       "      <td>ad-blank</td>\n",
       "      <td>NaN</td>\n",
       "      <td>\\n \\n        \\n</td>\n",
       "    </tr>\n",
       "  </tbody>\n",
       "</table>\n",
       "<p>338369 rows × 5 columns</p>\n",
       "</div>"
      ],
      "text/plain": [
       "             month        date      type                         header  \\\n",
       "0       1860-02-01  1860-02-13    advert  N. A. Sturdivant,Attorney ...   \n",
       "1       1860-02-01  1860-02-13    advert                            NaN   \n",
       "2       1860-02-01  1860-02-13    advert  Preston M. Quarles, Notary...   \n",
       "3       1860-02-01  1860-02-13    advert                            NaN   \n",
       "4       1860-02-01  1860-02-13    advert  Edward E. Orvis,Attorney a...   \n",
       "...            ...         ...       ...                            ...   \n",
       "338364  1865-12-01  1865-12-30  ad-blank                      Steamers.   \n",
       "338365  1865-12-01  1865-12-30  ad-blank                            NaN   \n",
       "338366  1865-12-01  1865-12-30  ad-blank                            NaN   \n",
       "338367  1865-12-01  1865-12-30  ad-blank                            NaN   \n",
       "338368  1865-12-01  1865-12-30  ad-blank                            NaN   \n",
       "\n",
       "                              content  \n",
       "0        \\n \\n\\n\\n Office on 11th,...  \n",
       "1        \\n \\n\\n\\nDr. Geo. W. Brig...  \n",
       "2        \\n \\n\\n\\n --As Notary, wi...  \n",
       "3        \\nHenry Coalter Cabell.\\n...  \n",
       "4        \\n \\n\\n\\n Will attend pro...  \n",
       "...                               ...  \n",
       "338364             \\n \\n     \\n \\n \\n  \n",
       "338365                \\n \\n\\n\\n    \\n  \n",
       "338366                    \\n \\n    \\n  \n",
       "338367                    \\n \\n    \\n  \n",
       "338368                \\n \\n        \\n  \n",
       "\n",
       "[338369 rows x 5 columns]"
      ]
     },
     "execution_count": 7,
     "metadata": {},
     "output_type": "execute_result"
    }
   ],
   "source": [
    "dispatch"
   ]
  },
  {
   "cell_type": "code",
   "execution_count": 8,
   "metadata": {},
   "outputs": [
    {
     "ename": "ValueError",
     "evalue": "unconverted data remains: 3",
     "output_type": "error",
     "traceback": [
      "\u001b[0;31m---------------------------------------------------------------------------\u001b[0m",
      "\u001b[0;31mTypeError\u001b[0m                                 Traceback (most recent call last)",
      "\u001b[0;32m~/Uni/2019W/Tools/python-scripts/.venv/lib/python3.7/site-packages/pandas/core/tools/datetimes.py\u001b[0m in \u001b[0;36m_convert_listlike_datetimes\u001b[0;34m(arg, box, format, name, tz, unit, errors, infer_datetime_format, dayfirst, yearfirst, exact)\u001b[0m\n\u001b[1;32m    447\u001b[0m             \u001b[0;32mtry\u001b[0m\u001b[0;34m:\u001b[0m\u001b[0;34m\u001b[0m\u001b[0;34m\u001b[0m\u001b[0m\n\u001b[0;32m--> 448\u001b[0;31m                 \u001b[0mvalues\u001b[0m\u001b[0;34m,\u001b[0m \u001b[0mtz\u001b[0m \u001b[0;34m=\u001b[0m \u001b[0mconversion\u001b[0m\u001b[0;34m.\u001b[0m\u001b[0mdatetime_to_datetime64\u001b[0m\u001b[0;34m(\u001b[0m\u001b[0marg\u001b[0m\u001b[0;34m)\u001b[0m\u001b[0;34m\u001b[0m\u001b[0;34m\u001b[0m\u001b[0m\n\u001b[0m\u001b[1;32m    449\u001b[0m                 \u001b[0;32mreturn\u001b[0m \u001b[0mDatetimeIndex\u001b[0m\u001b[0;34m.\u001b[0m\u001b[0m_simple_new\u001b[0m\u001b[0;34m(\u001b[0m\u001b[0mvalues\u001b[0m\u001b[0;34m,\u001b[0m \u001b[0mname\u001b[0m\u001b[0;34m=\u001b[0m\u001b[0mname\u001b[0m\u001b[0;34m,\u001b[0m \u001b[0mtz\u001b[0m\u001b[0;34m=\u001b[0m\u001b[0mtz\u001b[0m\u001b[0;34m)\u001b[0m\u001b[0;34m\u001b[0m\u001b[0;34m\u001b[0m\u001b[0m\n",
      "\u001b[0;32mpandas/_libs/tslibs/conversion.pyx\u001b[0m in \u001b[0;36mpandas._libs.tslibs.conversion.datetime_to_datetime64\u001b[0;34m()\u001b[0m\n",
      "\u001b[0;31mTypeError\u001b[0m: Unrecognized value type: <class 'str'>",
      "\nDuring handling of the above exception, another exception occurred:\n",
      "\u001b[0;31mValueError\u001b[0m                                Traceback (most recent call last)",
      "\u001b[0;32m<timed exec>\u001b[0m in \u001b[0;36m<module>\u001b[0;34m\u001b[0m\n",
      "\u001b[0;32m~/Uni/2019W/Tools/python-scripts/.venv/lib/python3.7/site-packages/pandas/util/_decorators.py\u001b[0m in \u001b[0;36mwrapper\u001b[0;34m(*args, **kwargs)\u001b[0m\n\u001b[1;32m    206\u001b[0m                 \u001b[0;32melse\u001b[0m\u001b[0;34m:\u001b[0m\u001b[0;34m\u001b[0m\u001b[0;34m\u001b[0m\u001b[0m\n\u001b[1;32m    207\u001b[0m                     \u001b[0mkwargs\u001b[0m\u001b[0;34m[\u001b[0m\u001b[0mnew_arg_name\u001b[0m\u001b[0;34m]\u001b[0m \u001b[0;34m=\u001b[0m \u001b[0mnew_arg_value\u001b[0m\u001b[0;34m\u001b[0m\u001b[0;34m\u001b[0m\u001b[0m\n\u001b[0;32m--> 208\u001b[0;31m             \u001b[0;32mreturn\u001b[0m \u001b[0mfunc\u001b[0m\u001b[0;34m(\u001b[0m\u001b[0;34m*\u001b[0m\u001b[0margs\u001b[0m\u001b[0;34m,\u001b[0m \u001b[0;34m**\u001b[0m\u001b[0mkwargs\u001b[0m\u001b[0;34m)\u001b[0m\u001b[0;34m\u001b[0m\u001b[0;34m\u001b[0m\u001b[0m\n\u001b[0m\u001b[1;32m    209\u001b[0m \u001b[0;34m\u001b[0m\u001b[0m\n\u001b[1;32m    210\u001b[0m         \u001b[0;32mreturn\u001b[0m \u001b[0mwrapper\u001b[0m\u001b[0;34m\u001b[0m\u001b[0;34m\u001b[0m\u001b[0m\n",
      "\u001b[0;32m~/Uni/2019W/Tools/python-scripts/.venv/lib/python3.7/site-packages/pandas/core/tools/datetimes.py\u001b[0m in \u001b[0;36mto_datetime\u001b[0;34m(arg, errors, dayfirst, yearfirst, utc, box, format, exact, unit, infer_datetime_format, origin, cache)\u001b[0m\n\u001b[1;32m    772\u001b[0m                 \u001b[0mresult\u001b[0m \u001b[0;34m=\u001b[0m \u001b[0mresult\u001b[0m\u001b[0;34m.\u001b[0m\u001b[0mtz_localize\u001b[0m\u001b[0;34m(\u001b[0m\u001b[0mtz\u001b[0m\u001b[0;34m)\u001b[0m\u001b[0;34m\u001b[0m\u001b[0;34m\u001b[0m\u001b[0m\n\u001b[1;32m    773\u001b[0m     \u001b[0;32melif\u001b[0m \u001b[0misinstance\u001b[0m\u001b[0;34m(\u001b[0m\u001b[0marg\u001b[0m\u001b[0;34m,\u001b[0m \u001b[0mABCSeries\u001b[0m\u001b[0;34m)\u001b[0m\u001b[0;34m:\u001b[0m\u001b[0;34m\u001b[0m\u001b[0;34m\u001b[0m\u001b[0m\n\u001b[0;32m--> 774\u001b[0;31m         \u001b[0mcache_array\u001b[0m \u001b[0;34m=\u001b[0m \u001b[0m_maybe_cache\u001b[0m\u001b[0;34m(\u001b[0m\u001b[0marg\u001b[0m\u001b[0;34m,\u001b[0m \u001b[0mformat\u001b[0m\u001b[0;34m,\u001b[0m \u001b[0mcache\u001b[0m\u001b[0;34m,\u001b[0m \u001b[0mconvert_listlike\u001b[0m\u001b[0;34m)\u001b[0m\u001b[0;34m\u001b[0m\u001b[0;34m\u001b[0m\u001b[0m\n\u001b[0m\u001b[1;32m    775\u001b[0m         \u001b[0;32mif\u001b[0m \u001b[0;32mnot\u001b[0m \u001b[0mcache_array\u001b[0m\u001b[0;34m.\u001b[0m\u001b[0mempty\u001b[0m\u001b[0;34m:\u001b[0m\u001b[0;34m\u001b[0m\u001b[0;34m\u001b[0m\u001b[0m\n\u001b[1;32m    776\u001b[0m             \u001b[0mresult\u001b[0m \u001b[0;34m=\u001b[0m \u001b[0marg\u001b[0m\u001b[0;34m.\u001b[0m\u001b[0mmap\u001b[0m\u001b[0;34m(\u001b[0m\u001b[0mcache_array\u001b[0m\u001b[0;34m)\u001b[0m\u001b[0;34m\u001b[0m\u001b[0;34m\u001b[0m\u001b[0m\n",
      "\u001b[0;32m~/Uni/2019W/Tools/python-scripts/.venv/lib/python3.7/site-packages/pandas/core/tools/datetimes.py\u001b[0m in \u001b[0;36m_maybe_cache\u001b[0;34m(arg, format, cache, convert_listlike)\u001b[0m\n\u001b[1;32m    154\u001b[0m         \u001b[0munique_dates\u001b[0m \u001b[0;34m=\u001b[0m \u001b[0munique\u001b[0m\u001b[0;34m(\u001b[0m\u001b[0marg\u001b[0m\u001b[0;34m)\u001b[0m\u001b[0;34m\u001b[0m\u001b[0;34m\u001b[0m\u001b[0m\n\u001b[1;32m    155\u001b[0m         \u001b[0;32mif\u001b[0m \u001b[0mlen\u001b[0m\u001b[0;34m(\u001b[0m\u001b[0munique_dates\u001b[0m\u001b[0;34m)\u001b[0m \u001b[0;34m<\u001b[0m \u001b[0mlen\u001b[0m\u001b[0;34m(\u001b[0m\u001b[0marg\u001b[0m\u001b[0;34m)\u001b[0m\u001b[0;34m:\u001b[0m\u001b[0;34m\u001b[0m\u001b[0;34m\u001b[0m\u001b[0m\n\u001b[0;32m--> 156\u001b[0;31m             \u001b[0mcache_dates\u001b[0m \u001b[0;34m=\u001b[0m \u001b[0mconvert_listlike\u001b[0m\u001b[0;34m(\u001b[0m\u001b[0munique_dates\u001b[0m\u001b[0;34m,\u001b[0m \u001b[0;32mTrue\u001b[0m\u001b[0;34m,\u001b[0m \u001b[0mformat\u001b[0m\u001b[0;34m)\u001b[0m\u001b[0;34m\u001b[0m\u001b[0;34m\u001b[0m\u001b[0m\n\u001b[0m\u001b[1;32m    157\u001b[0m             \u001b[0mcache_array\u001b[0m \u001b[0;34m=\u001b[0m \u001b[0mSeries\u001b[0m\u001b[0;34m(\u001b[0m\u001b[0mcache_dates\u001b[0m\u001b[0;34m,\u001b[0m \u001b[0mindex\u001b[0m\u001b[0;34m=\u001b[0m\u001b[0munique_dates\u001b[0m\u001b[0;34m)\u001b[0m\u001b[0;34m\u001b[0m\u001b[0;34m\u001b[0m\u001b[0m\n\u001b[1;32m    158\u001b[0m     \u001b[0;32mreturn\u001b[0m \u001b[0mcache_array\u001b[0m\u001b[0;34m\u001b[0m\u001b[0;34m\u001b[0m\u001b[0m\n",
      "\u001b[0;32m~/Uni/2019W/Tools/python-scripts/.venv/lib/python3.7/site-packages/pandas/core/tools/datetimes.py\u001b[0m in \u001b[0;36m_convert_listlike_datetimes\u001b[0;34m(arg, box, format, name, tz, unit, errors, infer_datetime_format, dayfirst, yearfirst, exact)\u001b[0m\n\u001b[1;32m    449\u001b[0m                 \u001b[0;32mreturn\u001b[0m \u001b[0mDatetimeIndex\u001b[0m\u001b[0;34m.\u001b[0m\u001b[0m_simple_new\u001b[0m\u001b[0;34m(\u001b[0m\u001b[0mvalues\u001b[0m\u001b[0;34m,\u001b[0m \u001b[0mname\u001b[0m\u001b[0;34m=\u001b[0m\u001b[0mname\u001b[0m\u001b[0;34m,\u001b[0m \u001b[0mtz\u001b[0m\u001b[0;34m=\u001b[0m\u001b[0mtz\u001b[0m\u001b[0;34m)\u001b[0m\u001b[0;34m\u001b[0m\u001b[0;34m\u001b[0m\u001b[0m\n\u001b[1;32m    450\u001b[0m             \u001b[0;32mexcept\u001b[0m \u001b[0;34m(\u001b[0m\u001b[0mValueError\u001b[0m\u001b[0;34m,\u001b[0m \u001b[0mTypeError\u001b[0m\u001b[0;34m)\u001b[0m\u001b[0;34m:\u001b[0m\u001b[0;34m\u001b[0m\u001b[0;34m\u001b[0m\u001b[0m\n\u001b[0;32m--> 451\u001b[0;31m                 \u001b[0;32mraise\u001b[0m \u001b[0me\u001b[0m\u001b[0;34m\u001b[0m\u001b[0;34m\u001b[0m\u001b[0m\n\u001b[0m\u001b[1;32m    452\u001b[0m \u001b[0;34m\u001b[0m\u001b[0m\n\u001b[1;32m    453\u001b[0m     \u001b[0;32mif\u001b[0m \u001b[0mresult\u001b[0m \u001b[0;32mis\u001b[0m \u001b[0;32mNone\u001b[0m\u001b[0;34m:\u001b[0m\u001b[0;34m\u001b[0m\u001b[0;34m\u001b[0m\u001b[0m\n",
      "\u001b[0;32m~/Uni/2019W/Tools/python-scripts/.venv/lib/python3.7/site-packages/pandas/core/tools/datetimes.py\u001b[0m in \u001b[0;36m_convert_listlike_datetimes\u001b[0;34m(arg, box, format, name, tz, unit, errors, infer_datetime_format, dayfirst, yearfirst, exact)\u001b[0m\n\u001b[1;32m    414\u001b[0m                 \u001b[0;32mtry\u001b[0m\u001b[0;34m:\u001b[0m\u001b[0;34m\u001b[0m\u001b[0;34m\u001b[0m\u001b[0m\n\u001b[1;32m    415\u001b[0m                     result, timezones = array_strptime(\n\u001b[0;32m--> 416\u001b[0;31m                         \u001b[0marg\u001b[0m\u001b[0;34m,\u001b[0m \u001b[0mformat\u001b[0m\u001b[0;34m,\u001b[0m \u001b[0mexact\u001b[0m\u001b[0;34m=\u001b[0m\u001b[0mexact\u001b[0m\u001b[0;34m,\u001b[0m \u001b[0merrors\u001b[0m\u001b[0;34m=\u001b[0m\u001b[0merrors\u001b[0m\u001b[0;34m\u001b[0m\u001b[0;34m\u001b[0m\u001b[0m\n\u001b[0m\u001b[1;32m    417\u001b[0m                     )\n\u001b[1;32m    418\u001b[0m                     \u001b[0;32mif\u001b[0m \u001b[0;34m\"%Z\"\u001b[0m \u001b[0;32min\u001b[0m \u001b[0mformat\u001b[0m \u001b[0;32mor\u001b[0m \u001b[0;34m\"%z\"\u001b[0m \u001b[0;32min\u001b[0m \u001b[0mformat\u001b[0m\u001b[0;34m:\u001b[0m\u001b[0;34m\u001b[0m\u001b[0;34m\u001b[0m\u001b[0m\n",
      "\u001b[0;32mpandas/_libs/tslibs/strptime.pyx\u001b[0m in \u001b[0;36mpandas._libs.tslibs.strptime.array_strptime\u001b[0;34m()\u001b[0m\n",
      "\u001b[0;31mValueError\u001b[0m: unconverted data remains: 3"
     ]
    }
   ],
   "source": [
    "%%time\n",
    "dispatch[\"month\"] = pandas.to_datetime(dispatch[\"month\"], format=\"%Y-%d-%m\")\n",
    "dispatch[\"date\"] = pandas.to_datetime(dispatch[\"date\"], format=\"%Y-%d-%m\")\n",
    "dispatch.head(5)"
   ]
  },
  {
   "cell_type": "code",
   "execution_count": 9,
   "metadata": {},
   "outputs": [
    {
     "data": {
      "text/html": [
       "<div>\n",
       "<style scoped>\n",
       "    .dataframe tbody tr th:only-of-type {\n",
       "        vertical-align: middle;\n",
       "    }\n",
       "\n",
       "    .dataframe tbody tr th {\n",
       "        vertical-align: top;\n",
       "    }\n",
       "\n",
       "    .dataframe thead th {\n",
       "        text-align: right;\n",
       "    }\n",
       "</style>\n",
       "<table border=\"1\" class=\"dataframe\">\n",
       "  <thead>\n",
       "    <tr style=\"text-align: right;\">\n",
       "      <th></th>\n",
       "      <th>month</th>\n",
       "      <th>date</th>\n",
       "      <th>type</th>\n",
       "      <th>header</th>\n",
       "      <th>content</th>\n",
       "    </tr>\n",
       "  </thead>\n",
       "  <tbody>\n",
       "    <tr>\n",
       "      <th>0</th>\n",
       "      <td>1860-01-02</td>\n",
       "      <td>1860-02-13</td>\n",
       "      <td>advert</td>\n",
       "      <td>N. A. Sturdivant,Attorney at Law.Richmond, Va.</td>\n",
       "      <td>\\n \\n\\n\\n Office on 11th, between Main and Fr...</td>\n",
       "    </tr>\n",
       "    <tr>\n",
       "      <th>1</th>\n",
       "      <td>1860-01-02</td>\n",
       "      <td>1860-02-13</td>\n",
       "      <td>advert</td>\n",
       "      <td>NaN</td>\n",
       "      <td>\\n \\n\\n\\nDr. Geo. W. Briggs offers his profes...</td>\n",
       "    </tr>\n",
       "    <tr>\n",
       "      <th>2</th>\n",
       "      <td>1860-01-02</td>\n",
       "      <td>1860-02-13</td>\n",
       "      <td>advert</td>\n",
       "      <td>Preston M. Quarles, Notary public for the City...</td>\n",
       "      <td>\\n \\n\\n\\n --As Notary, will take depositions ...</td>\n",
       "    </tr>\n",
       "    <tr>\n",
       "      <th>3</th>\n",
       "      <td>1860-01-02</td>\n",
       "      <td>1860-02-13</td>\n",
       "      <td>advert</td>\n",
       "      <td>NaN</td>\n",
       "      <td>\\nHenry Coalter Cabell.\\n\\nJ. H. Sands.Cabell...</td>\n",
       "    </tr>\n",
       "    <tr>\n",
       "      <th>4</th>\n",
       "      <td>1860-01-02</td>\n",
       "      <td>1860-02-13</td>\n",
       "      <td>advert</td>\n",
       "      <td>Edward E. Orvis,Attorney at Lawand Notary publ...</td>\n",
       "      <td>\\n \\n\\n\\n Will attend promptly to all busines...</td>\n",
       "    </tr>\n",
       "  </tbody>\n",
       "</table>\n",
       "</div>"
      ],
      "text/plain": [
       "       month        date    type  \\\n",
       "0 1860-01-02  1860-02-13  advert   \n",
       "1 1860-01-02  1860-02-13  advert   \n",
       "2 1860-01-02  1860-02-13  advert   \n",
       "3 1860-01-02  1860-02-13  advert   \n",
       "4 1860-01-02  1860-02-13  advert   \n",
       "\n",
       "                                              header  \\\n",
       "0     N. A. Sturdivant,Attorney at Law.Richmond, Va.   \n",
       "1                                                NaN   \n",
       "2  Preston M. Quarles, Notary public for the City...   \n",
       "3                                                NaN   \n",
       "4  Edward E. Orvis,Attorney at Lawand Notary publ...   \n",
       "\n",
       "                                             content  \n",
       "0   \\n \\n\\n\\n Office on 11th, between Main and Fr...  \n",
       "1   \\n \\n\\n\\nDr. Geo. W. Briggs offers his profes...  \n",
       "2   \\n \\n\\n\\n --As Notary, will take depositions ...  \n",
       "3   \\nHenry Coalter Cabell.\\n\\nJ. H. Sands.Cabell...  \n",
       "4   \\n \\n\\n\\n Will attend promptly to all busines...  "
      ]
     },
     "execution_count": 9,
     "metadata": {},
     "output_type": "execute_result"
    }
   ],
   "source": [
    "# you can change the parameter below, but it may become messy if it is too large\n",
    "# this parameter sets the width of columns\n",
    "pandas.set_option(\"display.max_colwidth\", 50)\n",
    "dispatch.head(5)"
   ]
  },
  {
   "cell_type": "markdown",
   "metadata": {},
   "source": [
    "The following checks data types in a dataframe (table). Let's run it to check if our \"date\" column was properly converted:"
   ]
  },
  {
   "cell_type": "code",
   "execution_count": 10,
   "metadata": {
    "scrolled": true
   },
   "outputs": [
    {
     "data": {
      "text/plain": [
       "month      datetime64[ns]\n",
       "date               object\n",
       "type               object\n",
       "header             object\n",
       "content            object\n",
       "dtype: object"
      ]
     },
     "execution_count": 10,
     "metadata": {},
     "output_type": "execute_result"
    }
   ],
   "source": [
    "dispatch.dtypes"
   ]
  },
  {
   "cell_type": "markdown",
   "metadata": {},
   "source": [
    "The following line prints a specific piece of our table (a cell from the second row, column `text`):"
   ]
  },
  {
   "cell_type": "code",
   "execution_count": 11,
   "metadata": {
    "scrolled": true
   },
   "outputs": [
    {
     "name": "stdout",
     "output_type": "stream",
     "text": [
      " \n",
      " \n",
      "\n",
      "\n",
      "Dr. Geo. W. Briggs offers his professional services to the citizens of Richmond and vicinity.  \n",
      "\n",
      "\n",
      " Office next door to Ed. Eacho's, on 14th street, between Main and Franklin.  \n",
      "\n",
      "\n",
      " Residence--27th and Broad sts., Church Hill.  \n",
      "\n",
      "\n",
      " ja 29--3m   \n",
      "\n"
     ]
    }
   ],
   "source": [
    "print(dispatch[\"content\"][1])"
   ]
  },
  {
   "cell_type": "markdown",
   "metadata": {},
   "source": [
    "The following command allows us to count instances of specific values in a specific column:"
   ]
  },
  {
   "cell_type": "code",
   "execution_count": 12,
   "metadata": {},
   "outputs": [
    {
     "data": {
      "text/plain": [
       "ad-blank      236125\n",
       "article        70281\n",
       "advert         18454\n",
       "orders         10871\n",
       "death           1025\n",
       "               ...  \n",
       "runaways           1\n",
       "obituaries         1\n",
       "alticle            1\n",
       "sales              1\n",
       "article            1\n",
       "Name: type, Length: 94, dtype: int64"
      ]
     },
     "execution_count": 12,
     "metadata": {},
     "output_type": "execute_result"
    }
   ],
   "source": [
    "dispatch['type'].value_counts()"
   ]
  },
  {
   "cell_type": "markdown",
   "metadata": {},
   "source": [
    "## Filtering your dataframe:\n",
    "\n",
    "1. Range of rows or columns by index positions\n",
    "2. Filtering by value(s)\n",
    "3. And many other ways (for more examples, see, [this tutorial](https://cmdlinetips.com/2018/02/how-to-subset-pandas-dataframe-based-on-values-of-a-column/))"
   ]
  },
  {
   "cell_type": "code",
   "execution_count": 13,
   "metadata": {},
   "outputs": [
    {
     "data": {
      "text/plain": [
       "338369"
      ]
     },
     "execution_count": 13,
     "metadata": {},
     "output_type": "execute_result"
    }
   ],
   "source": [
    "len(dispatch)\n"
   ]
  },
  {
   "cell_type": "markdown",
   "metadata": {},
   "source": [
    "Range of rows or columns by index positions:"
   ]
  },
  {
   "cell_type": "code",
   "execution_count": 90,
   "metadata": {},
   "outputs": [
    {
     "data": {
      "text/plain": [
       "10000"
      ]
     },
     "execution_count": 90,
     "metadata": {},
     "output_type": "execute_result"
    }
   ],
   "source": [
    "len(dispatch.loc[1:1000])"
   ]
  },
  {
   "cell_type": "markdown",
   "metadata": {},
   "source": [
    "Filtering by value(s):"
   ]
  },
  {
   "cell_type": "code",
   "execution_count": 98,
   "metadata": {},
   "outputs": [
    {
     "data": {
      "text/plain": [
       "7743"
      ]
     },
     "execution_count": 98,
     "metadata": {},
     "output_type": "execute_result"
    }
   ],
   "source": [
    "dispatch_a = dispatch[dispatch.type != \"ad-blank\"]\n",
    "dispatch_light = dispatch_a[dispatch_a.type != \"adverb\"]\n",
    "# strip down\n",
    "dispatch_light = dispatch_light.loc[1:10000]\n",
    "len(dispatch_light)"
   ]
  },
  {
   "cell_type": "markdown",
   "metadata": {},
   "source": [
    "Filtering affects index numbers of rows in the table (they are in the leftmost \"column\"). If you scroll the table generated below, you will see that some numbers are missing. We need to reset them (or renumber) so that we could merge with topic data that we will generate later.\n",
    "\n",
    "**NB**: reset can be done with the following command `dispatch_light_reset = dispatch_light.reset_index(drop=True)`"
   ]
  },
  {
   "cell_type": "code",
   "execution_count": 99,
   "metadata": {},
   "outputs": [
    {
     "data": {
      "text/html": [
       "<div>\n",
       "<style scoped>\n",
       "    .dataframe tbody tr th:only-of-type {\n",
       "        vertical-align: middle;\n",
       "    }\n",
       "\n",
       "    .dataframe tbody tr th {\n",
       "        vertical-align: top;\n",
       "    }\n",
       "\n",
       "    .dataframe thead th {\n",
       "        text-align: right;\n",
       "    }\n",
       "</style>\n",
       "<table border=\"1\" class=\"dataframe\">\n",
       "  <thead>\n",
       "    <tr style=\"text-align: right;\">\n",
       "      <th></th>\n",
       "      <th>month</th>\n",
       "      <th>date</th>\n",
       "      <th>type</th>\n",
       "      <th>header</th>\n",
       "      <th>content</th>\n",
       "    </tr>\n",
       "  </thead>\n",
       "  <tbody>\n",
       "    <tr>\n",
       "      <th>1</th>\n",
       "      <td>1860-01-02</td>\n",
       "      <td>1860-02-13</td>\n",
       "      <td>advert</td>\n",
       "      <td>NaN</td>\n",
       "      <td>\\n \\n\\n\\nDr. Geo. W. Briggs offers his profes...</td>\n",
       "    </tr>\n",
       "    <tr>\n",
       "      <th>2</th>\n",
       "      <td>1860-01-02</td>\n",
       "      <td>1860-02-13</td>\n",
       "      <td>advert</td>\n",
       "      <td>Preston M. Quarles, Notary public for the City...</td>\n",
       "      <td>\\n \\n\\n\\n --As Notary, will take depositions ...</td>\n",
       "    </tr>\n",
       "    <tr>\n",
       "      <th>3</th>\n",
       "      <td>1860-01-02</td>\n",
       "      <td>1860-02-13</td>\n",
       "      <td>advert</td>\n",
       "      <td>NaN</td>\n",
       "      <td>\\nHenry Coalter Cabell.\\n\\nJ. H. Sands.Cabell...</td>\n",
       "    </tr>\n",
       "    <tr>\n",
       "      <th>4</th>\n",
       "      <td>1860-01-02</td>\n",
       "      <td>1860-02-13</td>\n",
       "      <td>advert</td>\n",
       "      <td>Edward E. Orvis,Attorney at Lawand Notary publ...</td>\n",
       "      <td>\\n \\n\\n\\n Will attend promptly to all busines...</td>\n",
       "    </tr>\n",
       "    <tr>\n",
       "      <th>5</th>\n",
       "      <td>1860-01-02</td>\n",
       "      <td>1860-02-13</td>\n",
       "      <td>advert</td>\n",
       "      <td>Shockoe Hill GeneralAgency.G. W. H. Tyler.</td>\n",
       "      <td>\\n \\n\\n\\n Office on Marshall, between Sixth a...</td>\n",
       "    </tr>\n",
       "    <tr>\n",
       "      <th>6</th>\n",
       "      <td>1860-01-02</td>\n",
       "      <td>1860-02-13</td>\n",
       "      <td>advert</td>\n",
       "      <td>Henry Hudnall.,Attorney at Lawand Notary public,</td>\n",
       "      <td>\\n \\n\\n\\n Practices in all the Courts held in...</td>\n",
       "    </tr>\n",
       "    <tr>\n",
       "      <th>7</th>\n",
       "      <td>1860-01-02</td>\n",
       "      <td>1860-02-13</td>\n",
       "      <td>advert</td>\n",
       "      <td>A Card.Wm. F. Watson.Attorney at Law,United St...</td>\n",
       "      <td>\\n \\n\\n\\n Note.--In the latter capacity, will...</td>\n",
       "    </tr>\n",
       "    <tr>\n",
       "      <th>8</th>\n",
       "      <td>1860-01-02</td>\n",
       "      <td>1860-02-13</td>\n",
       "      <td>advert</td>\n",
       "      <td>Lawrence S. Marye,Attorney at Law,</td>\n",
       "      <td>\\n \\n\\n\\n Practices in the Courts of the city...</td>\n",
       "    </tr>\n",
       "    <tr>\n",
       "      <th>9</th>\n",
       "      <td>1860-01-02</td>\n",
       "      <td>1860-02-13</td>\n",
       "      <td>advert</td>\n",
       "      <td>Exchange Hotel and BallardHouse.Richmond, Janu...</td>\n",
       "      <td>\\n \\n\\n\\n The proprietors of this well-known ...</td>\n",
       "    </tr>\n",
       "    <tr>\n",
       "      <th>10</th>\n",
       "      <td>1860-01-02</td>\n",
       "      <td>1860-02-13</td>\n",
       "      <td>advert</td>\n",
       "      <td>Spotswood House,Richmond, Va.</td>\n",
       "      <td>\\n \\n\\n\\n This new Hotel, at the corner of Ma...</td>\n",
       "    </tr>\n",
       "    <tr>\n",
       "      <th>11</th>\n",
       "      <td>1860-01-02</td>\n",
       "      <td>1860-02-13</td>\n",
       "      <td>advert</td>\n",
       "      <td>Georgia State Lotteries.drawn by State authori...</td>\n",
       "      <td>\\n \\n\\n\\n The following splendid Schemes will...</td>\n",
       "    </tr>\n",
       "    <tr>\n",
       "      <th>12</th>\n",
       "      <td>1860-01-02</td>\n",
       "      <td>1860-02-13</td>\n",
       "      <td>advert</td>\n",
       "      <td>Wood, Eddy &amp;amp; Co.'sLotteries.</td>\n",
       "      <td>\\n \\n\\n\\n Authorized by the States of  \\n\\n\\n...</td>\n",
       "    </tr>\n",
       "    <tr>\n",
       "      <th>13</th>\n",
       "      <td>1860-01-02</td>\n",
       "      <td>1860-02-13</td>\n",
       "      <td>advert</td>\n",
       "      <td>Home-manufactured Iron.</td>\n",
       "      <td>\\n \\n\\n\\n --A large assortment, consisting of...</td>\n",
       "    </tr>\n",
       "    <tr>\n",
       "      <th>14</th>\n",
       "      <td>1860-01-02</td>\n",
       "      <td>1860-02-13</td>\n",
       "      <td>advert</td>\n",
       "      <td>Wilcox &amp;amp; Gibbs' Sewing Machine.</td>\n",
       "      <td>\\n \\n\\n\\n The highest premium awarded at the ...</td>\n",
       "    </tr>\n",
       "    <tr>\n",
       "      <th>15</th>\n",
       "      <td>1860-01-02</td>\n",
       "      <td>1860-02-13</td>\n",
       "      <td>advert</td>\n",
       "      <td>Special notice to creditors.</td>\n",
       "      <td>\\n \\n\\n\\n --Wm. J. Watkins,--All persons havi...</td>\n",
       "    </tr>\n",
       "    <tr>\n",
       "      <th>16</th>\n",
       "      <td>1860-01-02</td>\n",
       "      <td>1860-02-13</td>\n",
       "      <td>advert</td>\n",
       "      <td>Notice.</td>\n",
       "      <td>\\n \\n\\n\\n --Captains of Volunteer Companies t...</td>\n",
       "    </tr>\n",
       "    <tr>\n",
       "      <th>17</th>\n",
       "      <td>1860-01-02</td>\n",
       "      <td>1860-02-13</td>\n",
       "      <td>advert</td>\n",
       "      <td>Notice.</td>\n",
       "      <td>\\n \\n\\n\\n --Volunteer Officers of the State a...</td>\n",
       "    </tr>\n",
       "    <tr>\n",
       "      <th>18</th>\n",
       "      <td>1860-01-02</td>\n",
       "      <td>1860-02-13</td>\n",
       "      <td>advert</td>\n",
       "      <td>NaN</td>\n",
       "      <td>\\n \\n\\n\\nUse Laidley's Panetic, or Chemical B...</td>\n",
       "    </tr>\n",
       "    <tr>\n",
       "      <th>19</th>\n",
       "      <td>1860-01-02</td>\n",
       "      <td>1860-02-13</td>\n",
       "      <td>advert</td>\n",
       "      <td>Fine Art Gallery.</td>\n",
       "      <td>\\n \\n\\n\\n --There is at present on free exhib...</td>\n",
       "    </tr>\n",
       "    <tr>\n",
       "      <th>20</th>\n",
       "      <td>1860-01-02</td>\n",
       "      <td>1860-02-13</td>\n",
       "      <td>advert</td>\n",
       "      <td>Liquors, Liquors.</td>\n",
       "      <td>\\n \\n\\n\\n --Winston &amp;amp; Powers have now in ...</td>\n",
       "    </tr>\n",
       "  </tbody>\n",
       "</table>\n",
       "</div>"
      ],
      "text/plain": [
       "        month        date    type  \\\n",
       "1  1860-01-02  1860-02-13  advert   \n",
       "2  1860-01-02  1860-02-13  advert   \n",
       "3  1860-01-02  1860-02-13  advert   \n",
       "4  1860-01-02  1860-02-13  advert   \n",
       "5  1860-01-02  1860-02-13  advert   \n",
       "6  1860-01-02  1860-02-13  advert   \n",
       "7  1860-01-02  1860-02-13  advert   \n",
       "8  1860-01-02  1860-02-13  advert   \n",
       "9  1860-01-02  1860-02-13  advert   \n",
       "10 1860-01-02  1860-02-13  advert   \n",
       "11 1860-01-02  1860-02-13  advert   \n",
       "12 1860-01-02  1860-02-13  advert   \n",
       "13 1860-01-02  1860-02-13  advert   \n",
       "14 1860-01-02  1860-02-13  advert   \n",
       "15 1860-01-02  1860-02-13  advert   \n",
       "16 1860-01-02  1860-02-13  advert   \n",
       "17 1860-01-02  1860-02-13  advert   \n",
       "18 1860-01-02  1860-02-13  advert   \n",
       "19 1860-01-02  1860-02-13  advert   \n",
       "20 1860-01-02  1860-02-13  advert   \n",
       "\n",
       "                                               header  \\\n",
       "1                                                 NaN   \n",
       "2   Preston M. Quarles, Notary public for the City...   \n",
       "3                                                 NaN   \n",
       "4   Edward E. Orvis,Attorney at Lawand Notary publ...   \n",
       "5          Shockoe Hill GeneralAgency.G. W. H. Tyler.   \n",
       "6    Henry Hudnall.,Attorney at Lawand Notary public,   \n",
       "7   A Card.Wm. F. Watson.Attorney at Law,United St...   \n",
       "8                  Lawrence S. Marye,Attorney at Law,   \n",
       "9   Exchange Hotel and BallardHouse.Richmond, Janu...   \n",
       "10                      Spotswood House,Richmond, Va.   \n",
       "11  Georgia State Lotteries.drawn by State authori...   \n",
       "12                   Wood, Eddy &amp; Co.'sLotteries.   \n",
       "13                            Home-manufactured Iron.   \n",
       "14                Wilcox &amp; Gibbs' Sewing Machine.   \n",
       "15                       Special notice to creditors.   \n",
       "16                                            Notice.   \n",
       "17                                            Notice.   \n",
       "18                                                NaN   \n",
       "19                                  Fine Art Gallery.   \n",
       "20                                  Liquors, Liquors.   \n",
       "\n",
       "                                              content  \n",
       "1    \\n \\n\\n\\nDr. Geo. W. Briggs offers his profes...  \n",
       "2    \\n \\n\\n\\n --As Notary, will take depositions ...  \n",
       "3    \\nHenry Coalter Cabell.\\n\\nJ. H. Sands.Cabell...  \n",
       "4    \\n \\n\\n\\n Will attend promptly to all busines...  \n",
       "5    \\n \\n\\n\\n Office on Marshall, between Sixth a...  \n",
       "6    \\n \\n\\n\\n Practices in all the Courts held in...  \n",
       "7    \\n \\n\\n\\n Note.--In the latter capacity, will...  \n",
       "8    \\n \\n\\n\\n Practices in the Courts of the city...  \n",
       "9    \\n \\n\\n\\n The proprietors of this well-known ...  \n",
       "10   \\n \\n\\n\\n This new Hotel, at the corner of Ma...  \n",
       "11   \\n \\n\\n\\n The following splendid Schemes will...  \n",
       "12   \\n \\n\\n\\n Authorized by the States of  \\n\\n\\n...  \n",
       "13   \\n \\n\\n\\n --A large assortment, consisting of...  \n",
       "14   \\n \\n\\n\\n The highest premium awarded at the ...  \n",
       "15   \\n \\n\\n\\n --Wm. J. Watkins,--All persons havi...  \n",
       "16   \\n \\n\\n\\n --Captains of Volunteer Companies t...  \n",
       "17   \\n \\n\\n\\n --Volunteer Officers of the State a...  \n",
       "18   \\n \\n\\n\\nUse Laidley's Panetic, or Chemical B...  \n",
       "19   \\n \\n\\n\\n --There is at present on free exhib...  \n",
       "20   \\n \\n\\n\\n --Winston &amp; Powers have now in ...  "
      ]
     },
     "execution_count": 99,
     "metadata": {},
     "output_type": "execute_result"
    }
   ],
   "source": [
    "dispatch_light.head(20)"
   ]
  },
  {
   "cell_type": "markdown",
   "metadata": {},
   "source": [
    "You can read/print the text of any item in the following manner: `your_dataframe[\"column_name\"][row_number]`"
   ]
  },
  {
   "cell_type": "code",
   "execution_count": 100,
   "metadata": {},
   "outputs": [
    {
     "name": "stdout",
     "output_type": "stream",
     "text": [
      " \n",
      " \n",
      "\n",
      "\n",
      " Pat. Meal. Cox's sparkling Gelatine; Cooper's Isinglass and refined spread Isinglass; Chocolate; Cocoa; prepared Corn Starch; Tapioca; Sago; Arrow Root, &amp;c.  \n",
      "\n",
      "\n",
      " L. Wagner. Druggist.  \n",
      " Corner 6th and Broad sts.   \n",
      "\n"
     ]
    }
   ],
   "source": [
    "print(dispatch_light[\"content\"][786])"
   ]
  },
  {
   "cell_type": "markdown",
   "metadata": {},
   "source": [
    "# Preparing our data\n",
    "\n",
    "Do not rush to run the following code! There is a lot of data in the Dispatch and running all data may take quite a while. In class, let's use a smaller sample. At home, re-run this notebook with all the data (you can drop items of the type `ad-blank`)."
   ]
  },
  {
   "cell_type": "code",
   "execution_count": 101,
   "metadata": {},
   "outputs": [
    {
     "name": "stdout",
     "output_type": "stream",
     "text": [
      "CPU times: user 2.9 ms, sys: 0 ns, total: 2.9 ms\n",
      "Wall time: 2.47 ms\n"
     ]
    }
   ],
   "source": [
    "%%time\n",
    "dispatch_light.loc[:,\"textData\"] = dispatch_light[\"content\"].copy()"
   ]
  },
  {
   "cell_type": "code",
   "execution_count": 102,
   "metadata": {},
   "outputs": [
    {
     "name": "stdout",
     "output_type": "stream",
     "text": [
      "CPU times: user 77.7 ms, sys: 91.8 ms, total: 170 ms\n",
      "Wall time: 168 ms\n"
     ]
    }
   ],
   "source": [
    "%%time\n",
    "# nb: each value needs to be converted into string explicitly\n",
    "# you can clean up text more with the following command, but be careful\n",
    "dispatch_light.loc[:,\"textData\"] = [re.sub(\"'|\\\"\", \"\", str(i)) for i in dispatch_light[\"textData\"].copy()]"
   ]
  },
  {
   "cell_type": "code",
   "execution_count": 103,
   "metadata": {
    "scrolled": true
   },
   "outputs": [
    {
     "data": {
      "text/html": [
       "<div>\n",
       "<style scoped>\n",
       "    .dataframe tbody tr th:only-of-type {\n",
       "        vertical-align: middle;\n",
       "    }\n",
       "\n",
       "    .dataframe tbody tr th {\n",
       "        vertical-align: top;\n",
       "    }\n",
       "\n",
       "    .dataframe thead th {\n",
       "        text-align: right;\n",
       "    }\n",
       "</style>\n",
       "<table border=\"1\" class=\"dataframe\">\n",
       "  <thead>\n",
       "    <tr style=\"text-align: right;\">\n",
       "      <th></th>\n",
       "      <th>month</th>\n",
       "      <th>date</th>\n",
       "      <th>type</th>\n",
       "      <th>header</th>\n",
       "      <th>content</th>\n",
       "      <th>textData</th>\n",
       "    </tr>\n",
       "  </thead>\n",
       "  <tbody>\n",
       "    <tr>\n",
       "      <th>1</th>\n",
       "      <td>1860-01-02</td>\n",
       "      <td>1860-02-13</td>\n",
       "      <td>advert</td>\n",
       "      <td>NaN</td>\n",
       "      <td>\\n \\n\\n\\nDr. Geo. W. Briggs offers his profes...</td>\n",
       "      <td>\\n \\n\\n\\nDr. Geo. W. Briggs offers his profes...</td>\n",
       "    </tr>\n",
       "    <tr>\n",
       "      <th>2</th>\n",
       "      <td>1860-01-02</td>\n",
       "      <td>1860-02-13</td>\n",
       "      <td>advert</td>\n",
       "      <td>Preston M. Quarles, Notary public for the City...</td>\n",
       "      <td>\\n \\n\\n\\n --As Notary, will take depositions ...</td>\n",
       "      <td>\\n \\n\\n\\n --As Notary, will take depositions ...</td>\n",
       "    </tr>\n",
       "    <tr>\n",
       "      <th>3</th>\n",
       "      <td>1860-01-02</td>\n",
       "      <td>1860-02-13</td>\n",
       "      <td>advert</td>\n",
       "      <td>NaN</td>\n",
       "      <td>\\nHenry Coalter Cabell.\\n\\nJ. H. Sands.Cabell...</td>\n",
       "      <td>\\nHenry Coalter Cabell.\\n\\nJ. H. Sands.Cabell...</td>\n",
       "    </tr>\n",
       "    <tr>\n",
       "      <th>4</th>\n",
       "      <td>1860-01-02</td>\n",
       "      <td>1860-02-13</td>\n",
       "      <td>advert</td>\n",
       "      <td>Edward E. Orvis,Attorney at Lawand Notary publ...</td>\n",
       "      <td>\\n \\n\\n\\n Will attend promptly to all busines...</td>\n",
       "      <td>\\n \\n\\n\\n Will attend promptly to all busines...</td>\n",
       "    </tr>\n",
       "    <tr>\n",
       "      <th>5</th>\n",
       "      <td>1860-01-02</td>\n",
       "      <td>1860-02-13</td>\n",
       "      <td>advert</td>\n",
       "      <td>Shockoe Hill GeneralAgency.G. W. H. Tyler.</td>\n",
       "      <td>\\n \\n\\n\\n Office on Marshall, between Sixth a...</td>\n",
       "      <td>\\n \\n\\n\\n Office on Marshall, between Sixth a...</td>\n",
       "    </tr>\n",
       "  </tbody>\n",
       "</table>\n",
       "</div>"
      ],
      "text/plain": [
       "       month        date    type  \\\n",
       "1 1860-01-02  1860-02-13  advert   \n",
       "2 1860-01-02  1860-02-13  advert   \n",
       "3 1860-01-02  1860-02-13  advert   \n",
       "4 1860-01-02  1860-02-13  advert   \n",
       "5 1860-01-02  1860-02-13  advert   \n",
       "\n",
       "                                              header  \\\n",
       "1                                                NaN   \n",
       "2  Preston M. Quarles, Notary public for the City...   \n",
       "3                                                NaN   \n",
       "4  Edward E. Orvis,Attorney at Lawand Notary publ...   \n",
       "5         Shockoe Hill GeneralAgency.G. W. H. Tyler.   \n",
       "\n",
       "                                             content  \\\n",
       "1   \\n \\n\\n\\nDr. Geo. W. Briggs offers his profes...   \n",
       "2   \\n \\n\\n\\n --As Notary, will take depositions ...   \n",
       "3   \\nHenry Coalter Cabell.\\n\\nJ. H. Sands.Cabell...   \n",
       "4   \\n \\n\\n\\n Will attend promptly to all busines...   \n",
       "5   \\n \\n\\n\\n Office on Marshall, between Sixth a...   \n",
       "\n",
       "                                            textData  \n",
       "1   \\n \\n\\n\\nDr. Geo. W. Briggs offers his profes...  \n",
       "2   \\n \\n\\n\\n --As Notary, will take depositions ...  \n",
       "3   \\nHenry Coalter Cabell.\\n\\nJ. H. Sands.Cabell...  \n",
       "4   \\n \\n\\n\\n Will attend promptly to all busines...  \n",
       "5   \\n \\n\\n\\n Office on Marshall, between Sixth a...  "
      ]
     },
     "execution_count": 103,
     "metadata": {},
     "output_type": "execute_result"
    }
   ],
   "source": [
    "dispatch_light.head()"
   ]
  },
  {
   "cell_type": "markdown",
   "metadata": {},
   "source": [
    "# Tokenize and Clean Texts "
   ]
  },
  {
   "cell_type": "code",
   "execution_count": 104,
   "metadata": {},
   "outputs": [
    {
     "name": "stdout",
     "output_type": "stream",
     "text": [
      "CPU times: user 1.45 s, sys: 31.7 ms, total: 1.49 s\n",
      "Wall time: 1.49 s\n"
     ]
    }
   ],
   "source": [
    "%%time\n",
    "def sent_to_words(sentences):\n",
    "    for sentence in sentences:\n",
    "        yield(gensim.utils.simple_preprocess(str(sentence), deacc=True))  # deacc=True removes punctuations\n",
    "\n",
    "dispatch_light.loc[:,\"textDataLists\"] = list(sent_to_words(dispatch_light[\"textData\"].copy()))"
   ]
  },
  {
   "cell_type": "code",
   "execution_count": 105,
   "metadata": {},
   "outputs": [
    {
     "data": {
      "text/plain": [
       "1    [dr, geo, briggs, offers, his, professional, s...\n",
       "2    [as, notary, will, take, depositions, and, ack...\n",
       "3    [henry, coalter, cabell, sands, cabell, amp, s...\n",
       "4    [will, attend, promptly, to, all, business, pl...\n",
       "5    [office, on, marshall, between, sixth, and, se...\n",
       "Name: textDataLists, dtype: object"
      ]
     },
     "execution_count": 105,
     "metadata": {},
     "output_type": "execute_result"
    }
   ],
   "source": [
    "dispatch_light[\"textDataLists\"].head()"
   ]
  },
  {
   "cell_type": "code",
   "execution_count": 106,
   "metadata": {
    "scrolled": true
   },
   "outputs": [
    {
     "name": "stdout",
     "output_type": "stream",
     "text": [
      " \n",
      " \n",
      "\n",
      "\n",
      " --Having been kindly informed, by some of our patrons, that a report was in circulation, that we sold liquor by the small quantity, to be drank in the store, said report may have been put in circulation by interested parties, in order to injure us; or, the impression may have been made, on the minds of some, from an advertisement which was put in the Dispatch, previous to the holidays, headed Egg-Nog, Hot Whiskey Punch, &amp;c., which was only intended as a notice to the public that we had fine Irish Whiskey, Scotch Whiskey, and Jamaica Rum for sale, to those who wished to make the above drinks.  \n",
      "\n",
      "\n",
      " Be this as it may, we here say, that while we keep a choice stock of Brandies, Wines, Whiskeys, &amp;c., &amp;c., constantly on hand, we never have, or never intend to sell liquor of any kind to be drank in the store, while said business is under our control.\n",
      "\n",
      "We have said this much as being due to ourselves, as well as to those who have so liberally patronized us.  \n",
      "\n",
      "\n",
      "Minnis &amp; Co., Choice Family Grocery,  \n",
      "\n",
      "\n",
      " fe 12--3t 2d and Main streets.   \n",
      "\n"
     ]
    }
   ],
   "source": [
    "print(dispatch_light[\"content\"][100]) # our original text"
   ]
  },
  {
   "cell_type": "code",
   "execution_count": 107,
   "metadata": {},
   "outputs": [
    {
     "name": "stdout",
     "output_type": "stream",
     "text": [
      "['having', 'been', 'kindly', 'informed', 'by', 'some', 'of', 'our', 'patrons', 'that', 'report', 'was', 'in', 'circulation', 'that', 'we', 'sold', 'liquor', 'by', 'the', 'small', 'quantity', 'to', 'be', 'drank', 'in', 'the', 'store', 'said', 'report', 'may', 'have', 'been', 'put', 'in', 'circulation', 'by', 'interested', 'parties', 'in', 'order', 'to', 'injure', 'us', 'or', 'the', 'impression', 'may', 'have', 'been', 'made', 'on', 'the', 'minds', 'of', 'some', 'from', 'an', 'advertisement', 'which', 'was', 'put', 'in', 'the', 'dispatch', 'previous', 'to', 'the', 'holidays', 'headed', 'egg', 'nog', 'hot', 'whiskey', 'punch', 'amp', 'which', 'was', 'only', 'intended', 'as', 'notice', 'to', 'the', 'public', 'that', 'we', 'had', 'fine', 'irish', 'whiskey', 'scotch', 'whiskey', 'and', 'jamaica', 'rum', 'for', 'sale', 'to', 'those', 'who', 'wished', 'to', 'make', 'the', 'above', 'drinks', 'be', 'this', 'as', 'it', 'may', 'we', 'here', 'say', 'that', 'while', 'we', 'keep', 'choice', 'stock', 'of', 'brandies', 'wines', 'whiskeys', 'amp', 'amp', 'constantly', 'on', 'hand', 'we', 'never', 'have', 'or', 'never', 'intend', 'to', 'sell', 'liquor', 'of', 'any', 'kind', 'to', 'be', 'drank', 'in', 'the', 'store', 'while', 'said', 'business', 'is', 'under', 'our', 'control', 'we', 'have', 'said', 'this', 'much', 'as', 'being', 'due', 'to', 'ourselves', 'as', 'well', 'as', 'to', 'those', 'who', 'have', 'so', 'liberally', 'patronized', 'us', 'minnis', 'amp', 'co', 'choice', 'family', 'grocery', 'fe', 'and', 'main', 'streets']\n"
     ]
    }
   ],
   "source": [
    "print(dispatch_light[\"textDataLists\"][100]) # our `listed` text"
   ]
  },
  {
   "cell_type": "markdown",
   "metadata": {},
   "source": [
    "# Creating a frequency list"
   ]
  },
  {
   "cell_type": "markdown",
   "metadata": {},
   "source": [
    "## Identifying stop words and low frequency words"
   ]
  },
  {
   "cell_type": "markdown",
   "metadata": {},
   "source": [
    "Why would we want/need to identify and remove these?"
   ]
  },
  {
   "cell_type": "code",
   "execution_count": 108,
   "metadata": {},
   "outputs": [
    {
     "name": "stdout",
     "output_type": "stream",
     "text": [
      "--------------------------------------------------\n",
      "frequency_list\n",
      "22755\n",
      "low_frequency_words\n",
      "8616\n",
      "--------------------------------------------------\n",
      "CPU times: user 182 ms, sys: 3.28 ms, total: 185 ms\n",
      "Wall time: 185 ms\n"
     ]
    }
   ],
   "source": [
    "%%time\n",
    "\n",
    "vocabList = [item for sublist in dispatch_light[\"textDataLists\"] for item in sublist]\n",
    "\n",
    "freqDic = {}\n",
    "low_frequency_words = []\n",
    "\n",
    "# collecting frequencies, like we did before\n",
    "for v in vocabList:\n",
    "    if v in freqDic:\n",
    "        freqDic[v] += 1\n",
    "    else:\n",
    "        freqDic[v]  = 1\n",
    "\n",
    "# reformatting collected results\n",
    "freqList = []\n",
    "for k,v in freqDic.items():\n",
    "    val = \"%09d\\t%s\\t0\" % (v, k)\n",
    "    freqList.append(val)\n",
    "    # the cutoff value for low frequency items should be determined through the distribution of frequencies\n",
    "    # but it is always safe to remove items that have frequency 1 (most likely typos)\n",
    "    if v <= 1:\n",
    "        low_frequency_words.append(k)\n",
    "\n",
    "with open(\"./dispatch_freq_list.csv\", \"w\", encoding=\"utf8\") as f9:\n",
    "    f9.write(\"\\n\".join(sorted(freqList, reverse=True)))\n",
    "\n",
    "print(\"-\"*50)\n",
    "print(\"frequency_list\")\n",
    "print(len(freqList))    \n",
    "print(\"low_frequency_words\")\n",
    "print(len(low_frequency_words))\n",
    "print(\"-\"*50)"
   ]
  },
  {
   "cell_type": "code",
   "execution_count": 109,
   "metadata": {},
   "outputs": [
    {
     "name": "stdout",
     "output_type": "stream",
     "text": [
      "['abd', 'hamid', 'cosmopolitan', 'abode', 'mohammedan', 'mosque', 'caravanserai', 'koran', 'mindful', 'adage', 'saul', 'reassessment', 'oppenheimer', 'coghill', 'substituting', 'quisenbury', 'hebrew', 'mccamant', 'incorporation', 'smelting', 'appoints', 'acceding', 'adhering', 'reject', 'rann', 'gallanted', 'danced', 'feasted', 'tucked', 'snugly', 'sleigh', 'hatty', 'gaieties', 'footlights', 'wielded', 'cube', 'stow', 'aldermen', 'burging', 'prosecutor', 'kingstry', 'presentment', 'returnable', 'gwynn', 'convicting', 'chilton', 'unestimable', 'estimating', 'valuation', 'alms', 'fullest', 'burthens', 'extort', 'dilemma', 'contended', 'companionship', 'lockley', 'sullivan', 'edible', 'cabbaged', 'demolishment', 'intersects', 'cavity', 'penance', 'abstain', 'frivolity', 'peasley', 'surfeited', 'poulterers', 'decorations', 'busts', 'drapery', 'adornments', 'rosenberger', 'loebman', 'chose', 'waltzing', 'overpowering', 'fergusons', 'affaires', 'journalism', 'ethereal', 'meldrums', 'claret', 'lustrale', 'blistered', 'sinclairs', 'fringe', 'heffleys', 'cashion', 'grindstones', 'freshground', 'shortness', 'capability', 'recapitulate', 'snags', 'safer', 'navigable', 'baring', 'speculations']\n"
     ]
    }
   ],
   "source": [
    "print(low_frequency_words[100:200])"
   ]
  },
  {
   "cell_type": "markdown",
   "metadata": {},
   "source": [
    "After this, you can work through the generated frequency list and mark those that you want to consider stop words in the third column by changing `0` to `1`. After that, we can use this file to load stop words and you will have, in case you want to reconsider what counts as a stop word. This approach will allow you to adjust your stop word list based on your corpus.\n",
    "\n",
    "You should rename the frequency file so that it does not get overwritten when you re-run the script. "
   ]
  },
  {
   "cell_type": "code",
   "execution_count": 110,
   "metadata": {},
   "outputs": [
    {
     "name": "stdout",
     "output_type": "stream",
     "text": [
      "[\"she's\", \"should've\", 'above', 'through', 'having', 'from', \"mightn't\", 'up', 'been', 'at', 'into', 'needn', 'she', \"that'll\", 'with', 'y', 'weren', \"needn't\", 'between', 'mustn', 'were', 'very', 'th', 'their', 'ma', \"couldn't\", 'it', 'herself', 'this', 'would', 'again', 'why', 'hasn', 'yourself', \"isn't\", 'itself', 'themselves', 'have', 'was', 'could', 'both', 'don', \"shouldn't\", 'nor', 'had', 's', 'or', 'so', 'those', 'yours', 'most', 'couldn', 'hadn', 'ourselves', 'our', 'other', 'they', 'each', 'off', 'as', 'has', 'your', 'shan', \"you're\", 'doing', 'once', 'aren', 'the', 'd', 'mightn', 'there', \"aren't\", 'her', 'yourselves', \"you'd\", \"won't\", 'because', \"it's\", 'over', 'his', 'to', 'are', 'will', 'won', 'out', \"didn't\", 'myself', 'own', 'before', 'an', 'below', 'some', \"you'll\", 'did', 'all', 'do', 'while', 'also', 'no', 'without', 'against', \"don't\", 'isn', 'what', 'shouldn', 'wasn', 'not', 'he', 'under', 'being', 'until', 'should', 'am', 'and', 'you', 'same', 'after', 'every', 'here', 'them', 'hers', 'only', 'himself', 'that', 'few', \"haven't\", 'but', \"hadn't\", 'does', \"weren't\", 'in', 'we', 'for', 'if', 'its', 'further', 'by', 'haven', 'during', 'said', 'ain', 'shall', 'just', 'any', 've', 'on', 'which', 't', 'is', 'where', 'a', 'down', \"shan't\", \"hasn't\", 'ours', 'such', 'now', 'm', 're', 'him', 'more', 'didn', 'me', 'whom', 'of', 'my', 'when', \"you've\", 'i', 'too', 'then', 'than', 'how', 'll', 'o', 'can', 'about', 'upon', 'be', 'these', 'doesn', \"doesn't\", \"wasn't\", 'says', \"mustn't\", 'wouldn', 'who', \"wouldn't\", 'theirs']\n"
     ]
    }
   ],
   "source": [
    "with open(\"./dispatch_freq_list_manual.csv\", \"r\", encoding=\"utf8\") as f1:\n",
    "    data = f1.read().split(\"\\n\")\n",
    "    \n",
    "    stop_words_custom = []\n",
    "    \n",
    "    for d in data:\n",
    "        d = d.split(\"\\t\")\n",
    "        if d[2] == \"1\":\n",
    "            stop_words_custom.append(d[1])\n",
    " \n",
    "stop_words_custom.extend(stop_words) # adding stop words from nltk\n",
    "stop_words_custom = list(set(stop_words_custom))\n",
    "\n",
    "print(stop_words_custom)"
   ]
  },
  {
   "cell_type": "markdown",
   "metadata": {},
   "source": [
    "**NB:** One can also add bigrams and trigrams into the mix, before running topic modeling."
   ]
  },
  {
   "cell_type": "markdown",
   "metadata": {},
   "source": [
    "I have already prepared stopwords, let's use it:"
   ]
  },
  {
   "cell_type": "code",
   "execution_count": 33,
   "metadata": {},
   "outputs": [],
   "source": [
    "stop_words_custom = [\"the\", \"of\", \"and\", \"to\", \"in\", \"a\", \"that\", \"for\", \"on\", \"was\", \"is\", \"at\", \"be\", \"by\",\n",
    "                   \"from\", \"his\", \"he\", \"it\", \"with\", \"as\", \"this\", \"will\", \"which\", \"have\", \"or\", \"are\",\n",
    "                   \"they\", \"their\", \"not\", \"were\", \"been\", \"has\", \"our\", \"we\", \"all\", \"but\", \"one\", \"had\",\n",
    "                    \"who\", \"an\", \"no\", \"i\", \"them\", \"about\", \"him\", \"two\", \"upon\", \"may\", \"there\", \"any\",\n",
    "                   \"some\", \"so\", \"men\", \"when\", \"if\", \"day\", \"her\", \"under\", \"would\", \"c\", \"such\", \"made\",\n",
    "                   \"up\", \"last\", \"j\", \"time\", \"years\", \"other\", \"into\", \"said\", \"new\", \"very\", \"five\",\n",
    "                   \"after\", \"out\", \"these\", \"shall\", \"my\", \"w\", \"more\", \"its\", \"now\", \"before\", \"three\",\n",
    "                   \"m\", \"than\", \"h\", \"o'clock\", \"old\", \"being\", \"left\", \"can\", \"s\", \"man\", \"only\", \"same\",\n",
    "                   \"act\", \"first\", \"between\", \"above\", \"she\", \"you\", \"place\", \"following\", \"do\", \"per\",\n",
    "                   \"every\", \"most\", \"near\", \"us\", \"good\", \"should\", \"having\", \"great\", \"also\", \"over\",\n",
    "                   \"r\", \"could\", \"twenty\", \"people\", \"those\", \"e\", \"without\", \"four\", \"received\", \"p\", \"then\",\n",
    "                   \"what\", \"well\", \"where\", \"must\", \"says\", \"g\", \"large\", \"against\", \"back\", \"000\", \"through\",\n",
    "                   \"b\", \"off\", \"few\", \"me\", \"sent\", \"while\", \"make\", \"number\", \"many\", \"much\", \"give\",\n",
    "                   \"1\", \"six\", \"down\", \"several\", \"high\", \"since\", \"little\", \"during\", \"away\", \"until\",\n",
    "                   \"each\", \"5\", \"year\", \"present\", \"own\", \"t\", \"here\", \"d\", \"found\", \"reported\", \"2\",\n",
    "                   \"right\", \"given\", \"age\", \"your\", \"way\", \"side\", \"did\", \"part\", \"long\", \"next\", \"fifty\",\n",
    "                   \"another\", \"1st\", \"whole\", \"10\", \"still\", \"among\", \"3\", \"within\", \"get\", \"named\", \"f\",\n",
    "                   \"l\", \"himself\", \"ten\", \"both\", \"nothing\", \"again\", \"n\", \"thirty\", \"eight\", \"took\",\n",
    "                   \"never\", \"came\", \"called\", \"small\", \"passed\", \"just\", \"brought\", \"4\", \"further\",\n",
    "                   \"yet\", \"half\", \"far\", \"held\", \"soon\", \"main\", \"8\", \"second\", \"however\", \"say\",\n",
    "                   \"heavy\", \"thus\", \"hereby\", \"even\", \"ran\", \"come\", \"whom\", \"like\", \"cannot\", \"head\",\n",
    "                   \"ever\", \"themselves\", \"put\", \"12\", \"cause\", \"known\", \"7\", \"go\", \"6\", \"once\", \"therefore\",\n",
    "                   \"thursday\", \"full\", \"apply\", \"see\", \"though\", \"seven\", \"tuesday\", \"11\", \"done\",\n",
    "                   \"whose\", \"let\", \"how\", \"making\", \"immediately\", \"forty\", \"early\", \"wednesday\",\n",
    "                   \"either\", \"too\", \"amount\", \"fact\", \"heard\", \"receive\", \"short\", \"less\", \"100\",\n",
    "                   \"know\", \"might\", \"except\", \"supposed\", \"others\", \"doubt\", \"set\", \"works\"]"
   ]
  },
  {
   "cell_type": "markdown",
   "metadata": {},
   "source": [
    "# Text cleaning"
   ]
  },
  {
   "cell_type": "code",
   "execution_count": 111,
   "metadata": {},
   "outputs": [],
   "source": [
    "def remove_words(texts, word_list_filter):\n",
    "    return [[word for word in simple_preprocess(str(doc)) if word not in word_list_filter] for doc in texts]"
   ]
  },
  {
   "cell_type": "markdown",
   "metadata": {},
   "source": [
    "Removing `low_frequency_words` is going to take a while, so it is currently commented out. Run this at home."
   ]
  },
  {
   "cell_type": "code",
   "execution_count": 112,
   "metadata": {},
   "outputs": [],
   "source": [
    "dispatch_light.loc[:,\"textDataListsFiltered\"] = remove_words(dispatch_light[\"textDataLists\"], stop_words_custom)\n",
    "dispatch_light.loc[:,\"textDataListsFiltered\"] = remove_words(dispatch_light[\"textDataListsFiltered\"], low_frequency_words)\n"
   ]
  },
  {
   "cell_type": "code",
   "execution_count": 113,
   "metadata": {},
   "outputs": [
    {
     "data": {
      "text/plain": [
       "1    [dr, geo, briggs, offers, his, professional, s...\n",
       "2    [as, notary, will, take, depositions, and, ack...\n",
       "3    [henry, coalter, cabell, sands, cabell, amp, s...\n",
       "4    [will, attend, promptly, to, all, business, pl...\n",
       "5    [office, on, marshall, between, sixth, and, se...\n",
       "Name: textDataLists, dtype: object"
      ]
     },
     "execution_count": 113,
     "metadata": {},
     "output_type": "execute_result"
    }
   ],
   "source": [
    "dispatch_light[\"textDataLists\"].head()"
   ]
  },
  {
   "cell_type": "code",
   "execution_count": 114,
   "metadata": {},
   "outputs": [
    {
     "data": {
      "text/plain": [
       "1    [dr, geo, briggs, offers, professional, servic...\n",
       "2    [notary, take, depositions, acknowledgments, a...\n",
       "3    [henry, coalter, cabell, sands, cabell, amp, s...\n",
       "4    [attend, promptly, business, placed, hands, of...\n",
       "5    [office, marshall, sixth, seventh, streets, co...\n",
       "Name: textDataListsFiltered, dtype: object"
      ]
     },
     "execution_count": 114,
     "metadata": {},
     "output_type": "execute_result"
    }
   ],
   "source": [
    "dispatch_light[\"textDataListsFiltered\"].head()"
   ]
  },
  {
   "cell_type": "markdown",
   "metadata": {},
   "source": [
    "# Create the Dictionary and Corpus needed for Topic Modeling"
   ]
  },
  {
   "cell_type": "code",
   "execution_count": 115,
   "metadata": {},
   "outputs": [
    {
     "name": "stdout",
     "output_type": "stream",
     "text": [
      "[[(0, 1), (1, 1), (2, 1), (3, 1), (4, 1), (5, 1), (6, 1), (7, 1), (8, 1), (9, 1), (10, 1), (11, 1), (12, 1), (13, 1), (14, 1), (15, 1), (16, 1), (17, 1), (18, 1), (19, 1), (20, 1), (21, 1), (22, 1)], [(15, 2), (23, 1), (24, 1), (25, 1), (26, 1), (27, 1), (28, 1), (29, 1), (30, 1), (31, 1), (32, 1), (33, 1), (34, 1), (35, 1), (36, 1), (37, 1), (38, 2), (39, 1), (40, 1), (41, 1), (42, 1), (43, 1), (44, 1), (45, 1)], [(12, 1), (15, 1), (18, 2), (20, 1), (26, 1), (33, 1), (46, 1), (47, 1), (48, 1), (49, 2), (50, 1), (51, 1), (52, 1), (53, 1), (54, 1), (55, 1), (56, 1), (57, 1), (58, 1), (59, 1), (60, 1), (61, 2), (62, 1), (63, 1), (64, 1), (65, 1), (66, 1)]]\n",
      "--------------------------------------------------\n",
      "CPU times: user 646 ms, sys: 20.6 ms, total: 667 ms\n",
      "Wall time: 668 ms\n"
     ]
    }
   ],
   "source": [
    "%%time\n",
    "# Create Dictionary\n",
    "dictionary = gensim.corpora.Dictionary(dispatch_light[\"textDataListsFiltered\"])\n",
    "\n",
    "# Create Corpus\n",
    "texts = dispatch_light[\"textDataListsFiltered\"]\n",
    "\n",
    "# Term Document Frequency\n",
    "corpus = [dictionary.doc2bow(text) for text in texts] # bow == bag of words\n",
    "\n",
    "# View\n",
    "print(corpus[:3])\n",
    "print(\"-\"*50)"
   ]
  },
  {
   "cell_type": "markdown",
   "metadata": {},
   "source": [
    "This list above is a text: every tuple (like `(0, 1)`) represents a word (first number) and its frequency (second number). We can check which word is hiding behind a number by:"
   ]
  },
  {
   "cell_type": "code",
   "execution_count": 116,
   "metadata": {},
   "outputs": [
    {
     "data": {
      "text/plain": [
       "'citizens'"
      ]
     },
     "execution_count": 116,
     "metadata": {},
     "output_type": "execute_result"
    }
   ],
   "source": [
    "dictionary[3]"
   ]
  },
  {
   "cell_type": "markdown",
   "metadata": {},
   "source": [
    "# Building the Topic Model"
   ]
  },
  {
   "cell_type": "markdown",
   "metadata": {},
   "source": [
    "The following step takes quite a lot of time, so do not run it in class. You may want to leave it running overnight. Ideally, the number of passes should be at least a hundred—this increases the stability of topics, but also increases the amount of time required for generating the model. Good news is that you do not have to train the model every time: you can save it and load everytime you want to use it.\n",
    "\n",
    "\n",
    "On all the data, with 5 passes it took:\n",
    "```\n",
    "CPU times: user 44min 56s, sys: 7.42 s, total: 45min 4s\n",
    "Wall time: 7min 56s\n",
    "```\n",
    "\n",
    "On only 1864, with 100 passes and 20 updates:\n",
    "\n",
    "```\n",
    "CPU times: user 21min 46s, sys: 1min 35s, total: 23min 21s\n",
    "Wall time: 9min 21s\n",
    "```\n",
    "\n",
    "**NB:** You can comment out the entire chunk by selecting it and pressing `Ctrl+/` on Windows or `Cmd+/` on Mac. Pressing these combinations again will make code runnable again."
   ]
  },
  {
   "cell_type": "code",
   "execution_count": 123,
   "metadata": {},
   "outputs": [],
   "source": [
    "number_of_topics = 30"
   ]
  },
  {
   "cell_type": "code",
   "execution_count": 124,
   "metadata": {},
   "outputs": [
    {
     "name": "stdout",
     "output_type": "stream",
     "text": [
      "--------------------------------------------------\n",
      "CPU times: user 12min 51s, sys: 5min 55s, total: 18min 46s\n",
      "Wall time: 5min 47s\n"
     ]
    }
   ],
   "source": [
    "%%time\n",
    "# Build LDA model\n",
    "#number_of_topics = 30\n",
    "lda_model = gensim.models.LdaModel(corpus=corpus,\n",
    "                                   id2word=dictionary,\n",
    "                                   num_topics=number_of_topics,\n",
    "                                   update_every=20,\n",
    "                                   passes=100,\n",
    "                                   alpha='auto')\n",
    "print(\"-\"*50)\n",
    "path = \"./models_new/\"\n",
    "lda_model.save(path+'dispatch_1864.lda')"
   ]
  },
  {
   "cell_type": "markdown",
   "metadata": {},
   "source": [
    "These are just a couple of lines of code for saving your model; since we are not generating one, they are commented out."
   ]
  },
  {
   "cell_type": "code",
   "execution_count": 125,
   "metadata": {},
   "outputs": [],
   "source": [
    "path = \"./models_new/\"\n",
    "lda_model.save(path+'dispatch1864.lda')"
   ]
  },
  {
   "cell_type": "markdown",
   "metadata": {},
   "source": [
    "This line loads pre-generated model:"
   ]
  },
  {
   "cell_type": "code",
   "execution_count": 126,
   "metadata": {},
   "outputs": [],
   "source": [
    "lda_model = gensim.models.LdaModel.load(path+'dispatch_1864.lda')"
   ]
  },
  {
   "cell_type": "markdown",
   "metadata": {},
   "source": [
    "# View generated topics"
   ]
  },
  {
   "cell_type": "code",
   "execution_count": 127,
   "metadata": {},
   "outputs": [
    {
     "name": "stdout",
     "output_type": "stream",
     "text": [
      "[(14,\n",
      "  '0.019*\"remedy\" + 0.018*\"great\" + 0.015*\"diuretic\" + 0.015*\"standing\" + '\n",
      "  '0.014*\"long\" + 0.013*\"cure\" + 0.012*\"extract\" + 0.012*\"ladies\" + '\n",
      "  '0.012*\"buchu\" + 0.011*\"helmbolds\"'),\n",
      " (25,\n",
      "  '0.025*\"breckinridge\" + 0.025*\"bell\" + 0.020*\"douglas\" + 0.017*\"majority\" + '\n",
      "  '0.017*\"co\" + 0.011*\"counties\" + 0.011*\"official\" + 0.010*\"county\" + '\n",
      "  '0.010*\"vote\" + 0.008*\"stock\"'),\n",
      " (10,\n",
      "  '0.025*\"per\" + 0.021*\"cents\" + 0.016*\"virginia\" + 0.016*\"stock\" + '\n",
      "  '0.014*\"bbls\" + 0.014*\"oil\" + 0.013*\"sales\" + 0.011*\"amp\" + 0.010*\"bonds\" + '\n",
      "  '0.010*\"richings\"'),\n",
      " (29,\n",
      "  '0.023*\"st\" + 0.015*\"main\" + 0.011*\"amp\" + 0.008*\"broad\" + 0.008*\"late\" + '\n",
      "  '0.008*\"surgical\" + 0.008*\"sale\" + 0.007*\"styles\" + 0.007*\"meade\" + '\n",
      "  '0.007*\"week\"'),\n",
      " (11,\n",
      "  '0.018*\"week\" + 0.017*\"patients\" + 0.015*\"per\" + 0.013*\"persons\" + '\n",
      "  '0.011*\"rooms\" + 0.010*\"private\" + 0.010*\"white\" + 0.010*\"medical\" + '\n",
      "  '0.008*\"st\" + 0.008*\"physicians\"'),\n",
      " (27,\n",
      "  '0.020*\"street\" + 0.012*\"main\" + 0.012*\"cts\" + 0.008*\"teeth\" + 0.008*\"gold\" '\n",
      "  '+ 0.007*\"city\" + 0.007*\"oclock\" + 0.007*\"lewis\" + 0.007*\"south\" + '\n",
      "  '0.006*\"price\"'),\n",
      " (13,\n",
      "  '0.048*\"feet\" + 0.032*\"lot\" + 0.027*\"street\" + 0.022*\"acres\" + '\n",
      "  '0.020*\"heretofore\" + 0.020*\"charged\" + 0.017*\"st\" + 0.015*\"plan\" + '\n",
      "  '0.014*\"near\" + 0.013*\"estate\"'),\n",
      " (21,\n",
      "  '0.020*\"new\" + 0.019*\"amp\" + 0.016*\"mechanics\" + 0.016*\"institute\" + '\n",
      "  '0.012*\"co\" + 0.010*\"price\" + 0.010*\"virginia\" + 0.009*\"oil\" + 0.008*\"sts\" + '\n",
      "  '0.008*\"richmond\"'),\n",
      " (28,\n",
      "  '0.021*\"amp\" + 0.015*\"richmond\" + 0.008*\"train\" + 0.007*\"ts\" + '\n",
      "  '0.007*\"jacksons\" + 0.007*\"staunton\" + 0.007*\"railroad\" + 0.006*\"river\" + '\n",
      "  '0.006*\"farmers\" + 0.006*\"main\"'),\n",
      " (18,\n",
      "  '0.021*\"bank\" + 0.010*\"st\" + 0.009*\"talley\" + 0.009*\"notes\" + '\n",
      "  '0.009*\"virginia\" + 0.009*\"banks\" + 0.008*\"state\" + 0.008*\"john\" + '\n",
      "  '0.008*\"due\" + 0.007*\"day\"'),\n",
      " (3,\n",
      "  '0.024*\"goods\" + 0.018*\"ladies\" + 0.017*\"amp\" + 0.014*\"prices\" + '\n",
      "  '0.014*\"stock\" + 0.011*\"black\" + 0.010*\"new\" + 0.010*\"fine\" + 0.008*\"large\" '\n",
      "  '+ 0.008*\"cloaks\"'),\n",
      " (20,\n",
      "  '0.049*\"mrs\" + 0.041*\"miss\" + 0.014*\"jno\" + 0.010*\"good\" + 0.009*\"amp\" + '\n",
      "  '0.009*\"apply\" + 0.008*\"wm\" + 0.008*\"ts\" + 0.008*\"cook\" + 0.007*\"coke\"'),\n",
      " (26,\n",
      "  '0.012*\"south\" + 0.009*\"state\" + 0.008*\"states\" + 0.008*\"people\" + '\n",
      "  '0.008*\"may\" + 0.008*\"southern\" + 0.007*\"union\" + 0.006*\"men\" + 0.006*\"us\" + '\n",
      "  '0.006*\"government\"'),\n",
      " (8,\n",
      "  '0.010*\"mr\" + 0.009*\"messrs\" + 0.006*\"two\" + 0.006*\"one\" + 0.006*\"company\" + '\n",
      "  '0.006*\"col\" + 0.005*\"regiment\" + 0.005*\"last\" + 0.005*\"number\" + '\n",
      "  '0.005*\"capt\"'),\n",
      " (1,\n",
      "  '0.011*\"new\" + 0.011*\"one\" + 0.007*\"last\" + 0.006*\"time\" + 0.006*\"night\" + '\n",
      "  '0.006*\"mr\" + 0.005*\"take\" + 0.005*\"morning\" + 0.005*\"little\" + 0.005*\"old\"'),\n",
      " (15,\n",
      "  '0.015*\"amp\" + 0.015*\"apply\" + 0.010*\"oc\" + 0.009*\"ts\" + 0.008*\"gas\" + '\n",
      "  '0.008*\"freight\" + 0.008*\"street\" + 0.007*\"burners\" + 0.007*\"wm\" + '\n",
      "  '0.007*\"dispatch\"'),\n",
      " (24,\n",
      "  '0.010*\"one\" + 0.008*\"american\" + 0.006*\"prince\" + 0.006*\"two\" + '\n",
      "  '0.005*\"english\" + 0.005*\"great\" + 0.005*\"years\" + 0.004*\"england\" + '\n",
      "  '0.004*\"london\" + 0.004*\"times\"'),\n",
      " (6,\n",
      "  '0.011*\"washington\" + 0.010*\"state\" + 0.010*\"states\" + 0.009*\"new\" + '\n",
      "  '0.007*\"mr\" + 0.007*\"house\" + 0.007*\"nov\" + 0.006*\"convention\" + 0.006*\"day\" '\n",
      "  '+ 0.006*\"carolina\"'),\n",
      " (2,\n",
      "  '0.020*\"sale\" + 0.018*\"day\" + 0.014*\"amp\" + 0.014*\"terms\" + 0.013*\"fair\" + '\n",
      "  '0.011*\"auction\" + 0.011*\"one\" + 0.011*\"sell\" + 0.011*\"house\" + '\n",
      "  '0.011*\"oclock\"'),\n",
      " (23,\n",
      "  '0.068*\"amp\" + 0.027*\"co\" + 0.020*\"sale\" + 0.013*\"goods\" + 0.013*\"oil\" + '\n",
      "  '0.012*\"stock\" + 0.011*\"main\" + 0.009*\"large\" + 0.009*\"st\" + 0.008*\"call\"')]\n"
     ]
    }
   ],
   "source": [
    "# Print the Keyword in the 10 topics\n",
    "pprint(lda_model.print_topics())\n",
    "doc_lda = lda_model[corpus]"
   ]
  },
  {
   "cell_type": "markdown",
   "metadata": {},
   "source": [
    "How can we infer topics?"
   ]
  },
  {
   "cell_type": "code",
   "execution_count": null,
   "metadata": {},
   "outputs": [],
   "source": []
  },
  {
   "cell_type": "markdown",
   "metadata": {},
   "source": [
    "# Optimal Topic Number"
   ]
  },
  {
   "cell_type": "markdown",
   "metadata": {},
   "source": [
    "The common practice is to generate several models and calculate `coherence score` (*k*) for them all—the number with the highest `coherence score` is considered optimal.\n",
    "\n",
    "**NB**: Do not run the code below during the class, as it may take over 20 mins to complete only when used with 1864 data; results are below in a table.\n",
    "\n",
    "**NB:** You can comment out the entire chunk by selecting it and pressing `Ctrl+/` on Windows or `Cmd+/` on Mac. Pressing these combinations again will make code runnable again."
   ]
  },
  {
   "cell_type": "code",
   "execution_count": 129,
   "metadata": {},
   "outputs": [
    {
     "name": "stdout",
     "output_type": "stream",
     "text": [
      "Coherence Score for 2 topics:  0.3484652219309665\n",
      "Coherence Score for 6 topics:  0.4200037654459848\n",
      "Coherence Score for 10 topics:  0.3579533909453332\n",
      "Coherence Score for 14 topics:  0.36309270018553724\n",
      "Coherence Score for 18 topics:  0.37525638447389076\n",
      "Coherence Score for 22 topics:  0.38803388145172213\n",
      "Coherence Score for 26 topics:  0.413486016845448\n",
      "Coherence Score for 30 topics:  0.34881852614991776\n",
      "Coherence Score for 34 topics:  0.37876086002042625\n",
      "Coherence Score for 38 topics:  0.39461014775451003\n",
      "--------------------------------------------------\n",
      "CPU times: user 1min 13s, sys: 23.5 s, total: 1min 37s\n",
      "Wall time: 1min 6s\n"
     ]
    }
   ],
   "source": [
    "%%time\n",
    "\n",
    "for num in range(2, 40, 4):\n",
    "    lda_model_temp = gensim.models.LdaModel(corpus=corpus,id2word=dictionary,\n",
    "                                   num_topics=num, update_every=1, passes=1, alpha='auto')\n",
    "    coherence_model_lda = CoherenceModel(model=lda_model_temp,texts=dispatch_light[\"textDataListsFiltered\"],\n",
    "                                     dictionary=dictionary, coherence='c_v')\n",
    "    coherence_lda = coherence_model_lda.get_coherence()\n",
    "    print('Coherence Score for %d topics: ' % num, coherence_lda)\n",
    "    \n",
    "print(\"-\"*50)    "
   ]
  },
  {
   "cell_type": "markdown",
   "metadata": {},
   "source": [
    "It looks like 20 is the optimal number. Choosing the highest `coherence score` (often referred to as *k*) usually offers meaningful and interpretable topics. Yet, increasing the number of topics can sometimes provide more granular sub-topics.\n",
    "\n",
    "**NB:** This information, however, is based only on 1864, not the entire run."
   ]
  },
  {
   "cell_type": "markdown",
   "metadata": {},
   "source": [
    "| *n* of topics  | coherence score |\n",
    "| :------------:| ---------------:|\n",
    "| 02 topics |   0.323452271212917 |\n",
    "| 08 topics |   0.526666861582071 |\n",
    "| 14 topics |   0.533737136756214 |\n",
    "| **20 topics** |   **0.550748380632858** |\n",
    "| 26 topics |   0.523267186487719 |\n",
    "| 32 topics |   0.524391161619200 |\n",
    "| 38 topics |   0.517618656947555 |"
   ]
  },
  {
   "cell_type": "markdown",
   "metadata": {},
   "source": [
    "# Visualize topic-keywords"
   ]
  },
  {
   "cell_type": "markdown",
   "metadata": {},
   "source": [
    "`pyLDAvis` library offers a visual tool for exploring topics. **λ-parameter** is designed to \"slice\" topics words in such a way that topics would be easier to interpret. If you slide this parameter below 1, you will see that the selection of words changes and if you reach 0, only words unique to this topic will be shown.\n",
    "\n",
    "**NB:** Keep in mind that on the visualization below topics are numbered from 1 to 20, not from 0 to 19 as in the data!"
   ]
  },
  {
   "cell_type": "code",
   "execution_count": 130,
   "metadata": {},
   "outputs": [],
   "source": [
    "import pyLDAvis.gensim"
   ]
  },
  {
   "cell_type": "code",
   "execution_count": 131,
   "metadata": {},
   "outputs": [
    {
     "name": "stderr",
     "output_type": "stream",
     "text": [
      "/home/ab/Uni/2019W/Tools/python-scripts/.venv/lib/python3.7/site-packages/pyLDAvis/_prepare.py:257: FutureWarning:\n",
      "\n",
      "Sorting because non-concatenation axis is not aligned. A future version\n",
      "of pandas will change to not sort by default.\n",
      "\n",
      "To accept the future behavior, pass 'sort=False'.\n",
      "\n",
      "To retain the current behavior and silence the warning, pass 'sort=True'.\n",
      "\n",
      "\n"
     ]
    },
    {
     "data": {
      "text/html": [
       "\n",
       "<link rel=\"stylesheet\" type=\"text/css\" href=\"https://cdn.rawgit.com/bmabey/pyLDAvis/files/ldavis.v1.0.0.css\">\n",
       "\n",
       "\n",
       "<div id=\"ldavis_el450341406256159867685444818446\"></div>\n",
       "<script type=\"text/javascript\">\n",
       "\n",
       "var ldavis_el450341406256159867685444818446_data = {\"mdsDat\": {\"x\": [0.20141214148362657, 0.04174200813659977, 0.1950268377227484, 0.174587817490738, -0.2180867746153212, -0.1619228719211859, 0.19927948436877896, 0.2258682707767625, 0.022239124701865613, -0.19058679343655266, 0.027738991035030636, -0.055949745368110995, -0.09334939386334706, -0.13593090159730373, -0.04206062440727726, 0.19861401127276895, 0.03326734752849648, -0.030951620731407094, -0.02897062973169619, -0.009577531595987926, -0.12105770561417173, -0.03298447344010646, -0.13267837456058942, -0.10531456036975133, -0.07081831673678468, 0.03195320560086908, -0.027883247432262538, 0.20232575343966336, -0.015172366785377108, -0.08075906135071531], \"y\": [0.18295295881510726, -0.17323403783492342, 0.1366007072473172, 0.012719924719079075, 0.0972735893733988, 0.15175971374876598, 0.04105135771457506, 0.028579548520953305, -0.20067478794579516, 0.047213636659698, 0.016009849532735636, -0.08261407169046643, 0.01994002744213169, 0.07575215024752024, -0.01557886786416229, 0.08847294154167085, -0.09531437696220771, -0.09621840940955119, -0.014671046589737415, -0.15265494771648513, 0.0660503048635376, -0.06753433928866455, 0.015334634531278951, -0.009166528595146025, -0.04260113046501753, -0.1627551918782751, 0.015099043330481994, -0.03065964119266997, 0.014813859787010657, 0.13405312935783942], \"topics\": [1, 2, 3, 4, 5, 6, 7, 8, 9, 10, 11, 12, 13, 14, 15, 16, 17, 18, 19, 20, 21, 22, 23, 24, 25, 26, 27, 28, 29, 30], \"cluster\": [1, 1, 1, 1, 1, 1, 1, 1, 1, 1, 1, 1, 1, 1, 1, 1, 1, 1, 1, 1, 1, 1, 1, 1, 1, 1, 1, 1, 1, 1], \"Freq\": [8.515549659729004, 6.999181270599365, 5.4651288986206055, 4.9292378425598145, 4.770684242248535, 4.575382232666016, 4.235716342926025, 4.167233943939209, 3.677656888961792, 3.3595924377441406, 3.3277060985565186, 3.2156591415405273, 3.159923791885376, 3.0246312618255615, 2.906144142150879, 2.742027759552002, 2.731114149093628, 2.703803777694702, 2.669471025466919, 2.4328250885009766, 2.288581609725952, 2.253727674484253, 2.2022507190704346, 2.175992250442505, 2.162203311920166, 2.1170647144317627, 1.9864380359649658, 1.8292953968048096, 1.7330266237258911, 1.6427497863769531]}, \"tinfo\": {\"Category\": [\"Default\", \"Default\", \"Default\", \"Default\", \"Default\", \"Default\", \"Default\", \"Default\", \"Default\", \"Default\", \"Default\", \"Default\", \"Default\", \"Default\", \"Default\", \"Default\", \"Default\", \"Default\", \"Default\", \"Default\", \"Default\", \"Default\", \"Default\", \"Default\", \"Default\", \"Default\", \"Default\", \"Default\", \"Default\", \"Default\", \"Topic1\", \"Topic1\", \"Topic1\", \"Topic1\", \"Topic1\", \"Topic1\", \"Topic1\", \"Topic1\", \"Topic1\", \"Topic1\", \"Topic1\", \"Topic1\", \"Topic1\", \"Topic1\", \"Topic1\", \"Topic1\", \"Topic1\", \"Topic1\", \"Topic1\", \"Topic1\", \"Topic1\", \"Topic1\", \"Topic1\", \"Topic1\", \"Topic1\", \"Topic1\", \"Topic1\", \"Topic1\", \"Topic1\", \"Topic1\", \"Topic1\", \"Topic1\", \"Topic1\", \"Topic1\", \"Topic1\", \"Topic1\", \"Topic1\", \"Topic1\", \"Topic1\", \"Topic1\", \"Topic1\", \"Topic1\", \"Topic1\", \"Topic1\", \"Topic1\", \"Topic1\", \"Topic1\", \"Topic1\", \"Topic1\", \"Topic1\", \"Topic1\", \"Topic1\", \"Topic1\", \"Topic1\", \"Topic1\", \"Topic1\", \"Topic1\", \"Topic1\", \"Topic1\", \"Topic1\", \"Topic1\", \"Topic1\", \"Topic1\", \"Topic1\", \"Topic1\", \"Topic1\", \"Topic1\", \"Topic1\", \"Topic1\", \"Topic1\", \"Topic1\", \"Topic1\", \"Topic1\", \"Topic1\", \"Topic1\", \"Topic1\", \"Topic1\", \"Topic1\", \"Topic1\", \"Topic2\", \"Topic2\", \"Topic2\", \"Topic2\", \"Topic2\", \"Topic2\", \"Topic2\", \"Topic2\", \"Topic2\", \"Topic2\", \"Topic2\", \"Topic2\", \"Topic2\", \"Topic2\", \"Topic2\", \"Topic2\", \"Topic2\", \"Topic2\", \"Topic2\", \"Topic2\", \"Topic2\", \"Topic2\", \"Topic2\", \"Topic2\", \"Topic2\", \"Topic2\", \"Topic2\", \"Topic2\", \"Topic2\", \"Topic2\", \"Topic2\", \"Topic2\", \"Topic2\", \"Topic2\", \"Topic2\", \"Topic2\", \"Topic2\", \"Topic2\", \"Topic2\", \"Topic2\", \"Topic2\", \"Topic2\", \"Topic2\", \"Topic2\", \"Topic2\", \"Topic2\", \"Topic2\", \"Topic2\", \"Topic2\", \"Topic2\", \"Topic2\", \"Topic2\", \"Topic2\", \"Topic2\", \"Topic2\", \"Topic2\", \"Topic2\", \"Topic2\", \"Topic2\", \"Topic2\", \"Topic2\", \"Topic2\", \"Topic2\", \"Topic2\", \"Topic2\", \"Topic2\", \"Topic2\", \"Topic2\", \"Topic2\", \"Topic2\", \"Topic2\", \"Topic2\", \"Topic2\", \"Topic2\", \"Topic3\", \"Topic3\", \"Topic3\", \"Topic3\", \"Topic3\", \"Topic3\", \"Topic3\", \"Topic3\", \"Topic3\", \"Topic3\", \"Topic3\", \"Topic3\", \"Topic3\", \"Topic3\", \"Topic3\", \"Topic3\", \"Topic3\", \"Topic3\", \"Topic3\", \"Topic3\", \"Topic3\", \"Topic3\", \"Topic3\", \"Topic3\", \"Topic3\", \"Topic3\", \"Topic3\", \"Topic3\", \"Topic3\", \"Topic3\", \"Topic3\", \"Topic3\", \"Topic3\", \"Topic3\", \"Topic3\", \"Topic3\", \"Topic3\", \"Topic3\", \"Topic3\", \"Topic3\", \"Topic3\", \"Topic3\", \"Topic3\", \"Topic3\", \"Topic3\", \"Topic3\", \"Topic3\", \"Topic3\", \"Topic3\", \"Topic3\", \"Topic3\", \"Topic3\", \"Topic3\", \"Topic3\", \"Topic3\", \"Topic3\", \"Topic3\", \"Topic3\", \"Topic3\", \"Topic3\", \"Topic3\", \"Topic3\", \"Topic3\", \"Topic3\", \"Topic3\", \"Topic3\", \"Topic3\", \"Topic3\", \"Topic3\", \"Topic3\", \"Topic3\", \"Topic3\", \"Topic3\", \"Topic3\", \"Topic3\", \"Topic3\", \"Topic4\", \"Topic4\", \"Topic4\", \"Topic4\", \"Topic4\", \"Topic4\", \"Topic4\", \"Topic4\", \"Topic4\", \"Topic4\", \"Topic4\", \"Topic4\", \"Topic4\", \"Topic4\", \"Topic4\", \"Topic4\", \"Topic4\", \"Topic4\", \"Topic4\", \"Topic4\", \"Topic4\", \"Topic4\", \"Topic4\", \"Topic4\", \"Topic4\", \"Topic4\", \"Topic4\", \"Topic4\", \"Topic4\", \"Topic4\", \"Topic4\", \"Topic4\", \"Topic4\", \"Topic4\", \"Topic4\", \"Topic4\", \"Topic4\", \"Topic4\", \"Topic4\", \"Topic4\", \"Topic4\", \"Topic4\", \"Topic4\", \"Topic4\", \"Topic4\", \"Topic4\", \"Topic4\", \"Topic4\", \"Topic4\", \"Topic4\", \"Topic4\", \"Topic4\", \"Topic4\", \"Topic4\", \"Topic4\", \"Topic4\", \"Topic4\", \"Topic4\", \"Topic4\", \"Topic4\", \"Topic4\", \"Topic4\", \"Topic4\", \"Topic4\", \"Topic4\", \"Topic4\", \"Topic4\", \"Topic4\", \"Topic4\", \"Topic4\", \"Topic4\", \"Topic4\", \"Topic4\", \"Topic4\", \"Topic4\", \"Topic4\", \"Topic4\", \"Topic4\", \"Topic4\", \"Topic5\", \"Topic5\", \"Topic5\", \"Topic5\", \"Topic5\", \"Topic5\", \"Topic5\", \"Topic5\", \"Topic5\", \"Topic5\", \"Topic5\", \"Topic5\", \"Topic5\", \"Topic5\", \"Topic5\", \"Topic5\", \"Topic5\", \"Topic5\", \"Topic5\", \"Topic5\", \"Topic5\", \"Topic5\", \"Topic5\", \"Topic5\", \"Topic5\", \"Topic5\", \"Topic5\", \"Topic5\", \"Topic5\", \"Topic5\", \"Topic5\", \"Topic5\", \"Topic5\", \"Topic5\", \"Topic5\", \"Topic5\", \"Topic5\", \"Topic5\", \"Topic5\", \"Topic5\", \"Topic5\", \"Topic5\", \"Topic5\", \"Topic5\", \"Topic5\", \"Topic5\", \"Topic5\", \"Topic5\", \"Topic5\", \"Topic5\", \"Topic5\", \"Topic5\", \"Topic5\", \"Topic5\", \"Topic5\", \"Topic5\", \"Topic5\", \"Topic5\", \"Topic5\", \"Topic5\", \"Topic5\", \"Topic5\", \"Topic5\", \"Topic5\", \"Topic5\", \"Topic5\", \"Topic5\", \"Topic5\", \"Topic5\", \"Topic5\", \"Topic5\", \"Topic5\", \"Topic5\", \"Topic5\", \"Topic5\", \"Topic5\", \"Topic5\", \"Topic5\", \"Topic5\", \"Topic5\", \"Topic6\", \"Topic6\", \"Topic6\", \"Topic6\", \"Topic6\", \"Topic6\", \"Topic6\", \"Topic6\", \"Topic6\", \"Topic6\", \"Topic6\", \"Topic6\", \"Topic6\", \"Topic6\", \"Topic6\", \"Topic6\", \"Topic6\", \"Topic6\", \"Topic6\", \"Topic6\", \"Topic6\", \"Topic6\", \"Topic6\", \"Topic6\", \"Topic6\", \"Topic6\", \"Topic6\", \"Topic6\", \"Topic6\", \"Topic6\", \"Topic6\", \"Topic6\", \"Topic6\", \"Topic6\", \"Topic6\", \"Topic6\", \"Topic6\", \"Topic6\", \"Topic6\", \"Topic6\", \"Topic6\", \"Topic6\", \"Topic6\", \"Topic6\", \"Topic6\", \"Topic6\", \"Topic6\", \"Topic6\", \"Topic6\", \"Topic6\", \"Topic6\", \"Topic6\", \"Topic6\", \"Topic6\", \"Topic6\", \"Topic6\", \"Topic6\", \"Topic6\", \"Topic6\", \"Topic6\", \"Topic6\", \"Topic6\", \"Topic6\", \"Topic6\", \"Topic6\", \"Topic6\", \"Topic6\", \"Topic6\", \"Topic6\", \"Topic6\", \"Topic6\", \"Topic6\", \"Topic6\", \"Topic6\", \"Topic6\", \"Topic7\", \"Topic7\", \"Topic7\", \"Topic7\", \"Topic7\", \"Topic7\", \"Topic7\", \"Topic7\", \"Topic7\", \"Topic7\", \"Topic7\", \"Topic7\", \"Topic7\", \"Topic7\", \"Topic7\", \"Topic7\", \"Topic7\", \"Topic7\", \"Topic7\", \"Topic7\", \"Topic7\", \"Topic7\", \"Topic7\", \"Topic7\", \"Topic7\", \"Topic7\", \"Topic7\", \"Topic7\", \"Topic7\", \"Topic7\", \"Topic7\", \"Topic7\", \"Topic7\", \"Topic7\", \"Topic7\", \"Topic7\", \"Topic7\", \"Topic7\", \"Topic7\", \"Topic7\", \"Topic7\", \"Topic7\", \"Topic7\", \"Topic7\", \"Topic7\", \"Topic7\", \"Topic7\", \"Topic7\", \"Topic7\", \"Topic7\", \"Topic7\", \"Topic7\", \"Topic7\", \"Topic7\", \"Topic7\", \"Topic7\", \"Topic7\", \"Topic7\", \"Topic7\", \"Topic7\", \"Topic7\", \"Topic7\", \"Topic7\", \"Topic7\", \"Topic7\", \"Topic7\", \"Topic7\", \"Topic7\", \"Topic7\", \"Topic7\", \"Topic7\", \"Topic7\", \"Topic7\", \"Topic7\", \"Topic7\", \"Topic7\", \"Topic7\", \"Topic7\", \"Topic7\", \"Topic7\", \"Topic7\", \"Topic7\", \"Topic7\", \"Topic7\", \"Topic7\", \"Topic8\", \"Topic8\", \"Topic8\", \"Topic8\", \"Topic8\", \"Topic8\", \"Topic8\", \"Topic8\", \"Topic8\", \"Topic8\", \"Topic8\", \"Topic8\", \"Topic8\", \"Topic8\", \"Topic8\", \"Topic8\", \"Topic8\", \"Topic8\", \"Topic8\", \"Topic8\", \"Topic8\", \"Topic8\", \"Topic8\", \"Topic8\", \"Topic8\", \"Topic8\", \"Topic8\", \"Topic8\", \"Topic8\", \"Topic8\", \"Topic8\", \"Topic8\", \"Topic8\", \"Topic8\", \"Topic8\", \"Topic8\", \"Topic8\", \"Topic8\", \"Topic8\", \"Topic8\", \"Topic8\", \"Topic8\", \"Topic8\", \"Topic8\", \"Topic8\", \"Topic8\", \"Topic8\", \"Topic8\", \"Topic8\", \"Topic8\", \"Topic8\", \"Topic8\", \"Topic8\", \"Topic8\", \"Topic8\", \"Topic8\", \"Topic8\", \"Topic8\", \"Topic8\", \"Topic8\", \"Topic8\", \"Topic8\", \"Topic8\", \"Topic8\", \"Topic8\", \"Topic8\", \"Topic8\", \"Topic8\", \"Topic8\", \"Topic8\", \"Topic8\", \"Topic8\", \"Topic8\", \"Topic8\", \"Topic9\", \"Topic9\", \"Topic9\", \"Topic9\", \"Topic9\", \"Topic9\", \"Topic9\", \"Topic9\", \"Topic9\", \"Topic9\", \"Topic9\", \"Topic9\", \"Topic9\", \"Topic9\", \"Topic9\", \"Topic9\", \"Topic9\", \"Topic9\", \"Topic9\", \"Topic9\", \"Topic9\", \"Topic9\", \"Topic9\", \"Topic9\", \"Topic9\", \"Topic9\", \"Topic9\", \"Topic9\", \"Topic9\", \"Topic9\", \"Topic9\", \"Topic9\", \"Topic9\", \"Topic9\", \"Topic9\", \"Topic9\", \"Topic9\", \"Topic9\", \"Topic9\", \"Topic9\", \"Topic9\", \"Topic9\", \"Topic9\", \"Topic9\", \"Topic9\", \"Topic9\", \"Topic9\", \"Topic9\", \"Topic9\", \"Topic9\", \"Topic9\", \"Topic9\", \"Topic9\", \"Topic9\", \"Topic9\", \"Topic9\", \"Topic9\", \"Topic9\", \"Topic9\", \"Topic9\", \"Topic9\", \"Topic9\", \"Topic9\", \"Topic9\", \"Topic9\", \"Topic10\", \"Topic10\", \"Topic10\", \"Topic10\", \"Topic10\", \"Topic10\", \"Topic10\", \"Topic10\", \"Topic10\", \"Topic10\", \"Topic10\", \"Topic10\", \"Topic10\", \"Topic10\", \"Topic10\", \"Topic10\", \"Topic10\", \"Topic10\", \"Topic10\", \"Topic10\", \"Topic10\", \"Topic10\", \"Topic10\", \"Topic10\", \"Topic10\", \"Topic10\", \"Topic10\", \"Topic10\", \"Topic10\", \"Topic10\", \"Topic10\", \"Topic10\", \"Topic10\", \"Topic10\", \"Topic10\", \"Topic10\", \"Topic10\", \"Topic10\", \"Topic10\", \"Topic10\", \"Topic10\", \"Topic10\", \"Topic10\", \"Topic10\", \"Topic10\", \"Topic10\", \"Topic10\", \"Topic10\", \"Topic10\", \"Topic10\", \"Topic10\", \"Topic10\", \"Topic10\", \"Topic10\", \"Topic10\", \"Topic10\", \"Topic10\", \"Topic10\", \"Topic10\", \"Topic10\", \"Topic10\", \"Topic10\", \"Topic10\", \"Topic10\", \"Topic10\", \"Topic10\", \"Topic10\", \"Topic10\", \"Topic10\", \"Topic10\", \"Topic10\", \"Topic10\", \"Topic10\", \"Topic10\", \"Topic10\", \"Topic10\", \"Topic11\", \"Topic11\", \"Topic11\", \"Topic11\", \"Topic11\", \"Topic11\", \"Topic11\", \"Topic11\", \"Topic11\", \"Topic11\", \"Topic11\", \"Topic11\", \"Topic11\", \"Topic11\", \"Topic11\", \"Topic11\", \"Topic11\", \"Topic11\", \"Topic11\", \"Topic11\", \"Topic11\", \"Topic11\", \"Topic11\", \"Topic11\", \"Topic11\", \"Topic11\", \"Topic11\", \"Topic11\", \"Topic11\", \"Topic11\", \"Topic11\", \"Topic11\", \"Topic11\", \"Topic11\", \"Topic11\", \"Topic11\", \"Topic11\", \"Topic11\", \"Topic11\", \"Topic11\", \"Topic11\", \"Topic11\", \"Topic11\", \"Topic11\", \"Topic11\", \"Topic11\", \"Topic11\", \"Topic11\", \"Topic11\", \"Topic11\", \"Topic11\", \"Topic11\", \"Topic11\", \"Topic11\", \"Topic11\", \"Topic11\", \"Topic11\", \"Topic11\", \"Topic11\", \"Topic11\", \"Topic11\", \"Topic11\", \"Topic11\", \"Topic11\", \"Topic11\", \"Topic11\", \"Topic11\", \"Topic11\", \"Topic11\", \"Topic11\", \"Topic11\", \"Topic11\", \"Topic12\", \"Topic12\", \"Topic12\", \"Topic12\", \"Topic12\", \"Topic12\", \"Topic12\", \"Topic12\", \"Topic12\", \"Topic12\", \"Topic12\", \"Topic12\", \"Topic12\", \"Topic12\", \"Topic12\", \"Topic12\", \"Topic12\", \"Topic12\", \"Topic12\", \"Topic12\", \"Topic12\", \"Topic12\", \"Topic12\", \"Topic12\", \"Topic12\", \"Topic12\", \"Topic12\", \"Topic12\", \"Topic12\", \"Topic12\", \"Topic12\", \"Topic12\", \"Topic12\", \"Topic12\", \"Topic12\", \"Topic12\", \"Topic12\", \"Topic12\", \"Topic12\", \"Topic12\", \"Topic12\", \"Topic12\", \"Topic12\", \"Topic12\", \"Topic12\", \"Topic12\", \"Topic12\", \"Topic12\", \"Topic12\", \"Topic12\", \"Topic12\", \"Topic12\", \"Topic12\", \"Topic12\", \"Topic12\", \"Topic12\", \"Topic12\", \"Topic12\", \"Topic12\", \"Topic12\", \"Topic12\", \"Topic12\", \"Topic12\", \"Topic12\", \"Topic12\", \"Topic12\", \"Topic12\", \"Topic12\", \"Topic12\", \"Topic12\", \"Topic12\", \"Topic12\", \"Topic12\", \"Topic12\", \"Topic12\", \"Topic12\", \"Topic12\", \"Topic12\", \"Topic12\", \"Topic12\", \"Topic12\", \"Topic12\", \"Topic13\", \"Topic13\", \"Topic13\", \"Topic13\", \"Topic13\", \"Topic13\", \"Topic13\", \"Topic13\", \"Topic13\", \"Topic13\", \"Topic13\", \"Topic13\", \"Topic13\", \"Topic13\", \"Topic13\", \"Topic13\", \"Topic13\", \"Topic13\", \"Topic13\", \"Topic13\", \"Topic13\", \"Topic13\", \"Topic13\", \"Topic13\", \"Topic13\", \"Topic13\", \"Topic13\", \"Topic13\", \"Topic13\", \"Topic13\", \"Topic13\", \"Topic13\", \"Topic13\", \"Topic13\", \"Topic13\", \"Topic13\", \"Topic13\", \"Topic13\", \"Topic13\", \"Topic13\", \"Topic13\", \"Topic13\", \"Topic13\", \"Topic13\", \"Topic13\", \"Topic13\", \"Topic13\", \"Topic13\", \"Topic13\", \"Topic13\", \"Topic13\", \"Topic13\", \"Topic13\", \"Topic13\", \"Topic13\", \"Topic13\", \"Topic13\", \"Topic13\", \"Topic13\", \"Topic13\", \"Topic13\", \"Topic13\", \"Topic13\", \"Topic13\", \"Topic13\", \"Topic13\", \"Topic13\", \"Topic14\", \"Topic14\", \"Topic14\", \"Topic14\", \"Topic14\", \"Topic14\", \"Topic14\", \"Topic14\", \"Topic14\", \"Topic14\", \"Topic14\", \"Topic14\", \"Topic14\", \"Topic14\", \"Topic14\", \"Topic14\", \"Topic14\", \"Topic14\", \"Topic14\", \"Topic14\", \"Topic14\", \"Topic14\", \"Topic14\", \"Topic14\", \"Topic14\", \"Topic14\", \"Topic14\", \"Topic14\", \"Topic14\", \"Topic14\", \"Topic14\", \"Topic14\", \"Topic14\", \"Topic14\", \"Topic14\", \"Topic14\", \"Topic14\", \"Topic14\", \"Topic14\", \"Topic14\", \"Topic14\", \"Topic14\", \"Topic14\", \"Topic14\", \"Topic14\", \"Topic14\", \"Topic14\", \"Topic14\", \"Topic14\", \"Topic14\", \"Topic14\", \"Topic14\", \"Topic14\", \"Topic14\", \"Topic14\", \"Topic14\", \"Topic14\", \"Topic14\", \"Topic14\", \"Topic14\", \"Topic14\", \"Topic14\", \"Topic14\", \"Topic14\", \"Topic14\", \"Topic14\", \"Topic14\", \"Topic14\", \"Topic14\", \"Topic14\", \"Topic14\", \"Topic14\", \"Topic14\", \"Topic14\", \"Topic14\", \"Topic14\", \"Topic14\", \"Topic14\", \"Topic14\", \"Topic14\", \"Topic14\", \"Topic15\", \"Topic15\", \"Topic15\", \"Topic15\", \"Topic15\", \"Topic15\", \"Topic15\", \"Topic15\", \"Topic15\", \"Topic15\", \"Topic15\", \"Topic15\", \"Topic15\", \"Topic15\", \"Topic15\", \"Topic15\", \"Topic15\", \"Topic15\", \"Topic15\", \"Topic15\", \"Topic15\", \"Topic15\", \"Topic15\", \"Topic15\", \"Topic15\", \"Topic15\", \"Topic15\", \"Topic15\", \"Topic15\", \"Topic15\", \"Topic15\", \"Topic15\", \"Topic15\", \"Topic15\", \"Topic15\", \"Topic15\", \"Topic15\", \"Topic15\", \"Topic15\", \"Topic15\", \"Topic15\", \"Topic15\", \"Topic15\", \"Topic15\", \"Topic15\", \"Topic15\", \"Topic15\", \"Topic15\", \"Topic15\", \"Topic15\", \"Topic15\", \"Topic15\", \"Topic15\", \"Topic15\", \"Topic15\", \"Topic15\", \"Topic15\", \"Topic15\", \"Topic15\", \"Topic15\", \"Topic15\", \"Topic15\", \"Topic15\", \"Topic15\", \"Topic15\", \"Topic15\", \"Topic15\", \"Topic15\", \"Topic15\", \"Topic15\", \"Topic15\", \"Topic15\", \"Topic16\", \"Topic16\", \"Topic16\", \"Topic16\", \"Topic16\", \"Topic16\", \"Topic16\", \"Topic16\", \"Topic16\", \"Topic16\", \"Topic16\", \"Topic16\", \"Topic16\", \"Topic16\", \"Topic16\", \"Topic16\", \"Topic16\", \"Topic16\", \"Topic16\", \"Topic16\", \"Topic16\", \"Topic16\", \"Topic16\", \"Topic16\", \"Topic16\", \"Topic16\", \"Topic16\", \"Topic16\", \"Topic16\", \"Topic16\", \"Topic16\", \"Topic16\", \"Topic16\", \"Topic16\", \"Topic16\", \"Topic16\", \"Topic16\", \"Topic16\", \"Topic16\", \"Topic16\", \"Topic16\", \"Topic16\", \"Topic16\", \"Topic16\", \"Topic16\", \"Topic16\", \"Topic16\", \"Topic16\", \"Topic16\", \"Topic16\", \"Topic16\", \"Topic16\", \"Topic16\", \"Topic16\", \"Topic16\", \"Topic16\", \"Topic16\", \"Topic16\", \"Topic16\", \"Topic16\", \"Topic16\", \"Topic16\", \"Topic16\", \"Topic16\", \"Topic16\", \"Topic16\", \"Topic16\", \"Topic16\", \"Topic16\", \"Topic16\", \"Topic16\", \"Topic16\", \"Topic16\", \"Topic16\", \"Topic16\", \"Topic16\", \"Topic16\", \"Topic16\", \"Topic16\", \"Topic16\", \"Topic16\", \"Topic16\", \"Topic16\", \"Topic16\", \"Topic16\", \"Topic16\", \"Topic17\", \"Topic17\", \"Topic17\", \"Topic17\", \"Topic17\", \"Topic17\", \"Topic17\", \"Topic17\", \"Topic17\", \"Topic17\", \"Topic17\", \"Topic17\", \"Topic17\", \"Topic17\", \"Topic17\", \"Topic17\", \"Topic17\", \"Topic17\", \"Topic17\", \"Topic17\", \"Topic17\", \"Topic17\", \"Topic17\", \"Topic17\", \"Topic17\", \"Topic17\", \"Topic17\", \"Topic17\", \"Topic17\", \"Topic17\", \"Topic17\", \"Topic17\", \"Topic17\", \"Topic17\", \"Topic17\", \"Topic17\", \"Topic17\", \"Topic17\", \"Topic17\", \"Topic17\", \"Topic17\", \"Topic17\", \"Topic17\", \"Topic17\", \"Topic17\", \"Topic17\", \"Topic17\", \"Topic17\", \"Topic17\", \"Topic17\", \"Topic17\", \"Topic17\", \"Topic17\", \"Topic17\", \"Topic17\", \"Topic17\", \"Topic17\", \"Topic17\", \"Topic17\", \"Topic17\", \"Topic17\", \"Topic17\", \"Topic17\", \"Topic17\", \"Topic17\", \"Topic17\", \"Topic17\", \"Topic17\", \"Topic17\", \"Topic17\", \"Topic17\", \"Topic17\", \"Topic17\", \"Topic17\", \"Topic17\", \"Topic17\", \"Topic17\", \"Topic17\", \"Topic17\", \"Topic18\", \"Topic18\", \"Topic18\", \"Topic18\", \"Topic18\", \"Topic18\", \"Topic18\", \"Topic18\", \"Topic18\", \"Topic18\", \"Topic18\", \"Topic18\", \"Topic18\", \"Topic18\", \"Topic18\", \"Topic18\", \"Topic18\", \"Topic18\", \"Topic18\", \"Topic18\", \"Topic18\", \"Topic18\", \"Topic18\", \"Topic18\", \"Topic18\", \"Topic18\", \"Topic18\", \"Topic18\", \"Topic18\", \"Topic18\", \"Topic18\", \"Topic18\", \"Topic18\", \"Topic18\", \"Topic18\", \"Topic18\", \"Topic18\", \"Topic18\", \"Topic18\", \"Topic18\", \"Topic18\", \"Topic18\", \"Topic18\", \"Topic18\", \"Topic18\", \"Topic18\", \"Topic18\", \"Topic18\", \"Topic18\", \"Topic18\", \"Topic18\", \"Topic18\", \"Topic18\", \"Topic18\", \"Topic18\", \"Topic18\", \"Topic18\", \"Topic18\", \"Topic18\", \"Topic18\", \"Topic18\", \"Topic18\", \"Topic18\", \"Topic18\", \"Topic18\", \"Topic18\", \"Topic18\", \"Topic18\", \"Topic18\", \"Topic18\", \"Topic18\", \"Topic18\", \"Topic18\", \"Topic18\", \"Topic18\", \"Topic19\", \"Topic19\", \"Topic19\", \"Topic19\", \"Topic19\", \"Topic19\", \"Topic19\", \"Topic19\", \"Topic19\", \"Topic19\", \"Topic19\", \"Topic19\", \"Topic19\", \"Topic19\", \"Topic19\", \"Topic19\", \"Topic19\", \"Topic19\", \"Topic19\", \"Topic19\", \"Topic19\", \"Topic19\", \"Topic19\", \"Topic19\", \"Topic19\", \"Topic19\", \"Topic19\", \"Topic19\", \"Topic19\", \"Topic19\", \"Topic19\", \"Topic19\", \"Topic19\", \"Topic19\", \"Topic19\", \"Topic19\", \"Topic19\", \"Topic19\", \"Topic19\", \"Topic19\", \"Topic19\", \"Topic19\", \"Topic19\", \"Topic19\", \"Topic19\", \"Topic19\", \"Topic19\", \"Topic19\", \"Topic19\", \"Topic19\", \"Topic19\", \"Topic19\", \"Topic19\", \"Topic19\", \"Topic19\", \"Topic19\", \"Topic19\", \"Topic19\", \"Topic19\", \"Topic19\", \"Topic19\", \"Topic19\", \"Topic19\", \"Topic19\", \"Topic19\", \"Topic19\", \"Topic19\", \"Topic19\", \"Topic19\", \"Topic19\", \"Topic19\", \"Topic19\", \"Topic19\", \"Topic20\", \"Topic20\", \"Topic20\", \"Topic20\", \"Topic20\", \"Topic20\", \"Topic20\", \"Topic20\", \"Topic20\", \"Topic20\", \"Topic20\", \"Topic20\", \"Topic20\", \"Topic20\", \"Topic20\", \"Topic20\", \"Topic20\", \"Topic20\", \"Topic20\", \"Topic20\", \"Topic20\", \"Topic20\", \"Topic20\", \"Topic20\", \"Topic20\", \"Topic20\", \"Topic20\", \"Topic20\", \"Topic20\", \"Topic20\", \"Topic20\", \"Topic20\", \"Topic20\", \"Topic20\", \"Topic20\", \"Topic20\", \"Topic20\", \"Topic20\", \"Topic20\", \"Topic20\", \"Topic20\", \"Topic20\", \"Topic20\", \"Topic20\", \"Topic20\", \"Topic20\", \"Topic20\", \"Topic20\", \"Topic20\", \"Topic20\", \"Topic20\", \"Topic20\", \"Topic20\", \"Topic20\", \"Topic20\", \"Topic20\", \"Topic20\", \"Topic20\", \"Topic20\", \"Topic20\", \"Topic20\", \"Topic20\", \"Topic20\", \"Topic20\", \"Topic20\", \"Topic20\", \"Topic20\", \"Topic20\", \"Topic20\", \"Topic20\", \"Topic20\", \"Topic20\", \"Topic20\", \"Topic20\", \"Topic20\", \"Topic21\", \"Topic21\", \"Topic21\", \"Topic21\", \"Topic21\", \"Topic21\", \"Topic21\", \"Topic21\", \"Topic21\", \"Topic21\", \"Topic21\", \"Topic21\", \"Topic21\", \"Topic21\", \"Topic21\", \"Topic21\", \"Topic21\", \"Topic21\", \"Topic21\", \"Topic21\", \"Topic21\", \"Topic21\", \"Topic21\", \"Topic21\", \"Topic21\", \"Topic21\", \"Topic21\", \"Topic21\", \"Topic21\", \"Topic21\", \"Topic21\", \"Topic21\", \"Topic21\", \"Topic21\", \"Topic21\", \"Topic21\", \"Topic21\", \"Topic21\", \"Topic21\", \"Topic21\", \"Topic21\", \"Topic21\", \"Topic21\", \"Topic21\", \"Topic21\", \"Topic21\", \"Topic21\", \"Topic21\", \"Topic21\", \"Topic21\", \"Topic21\", \"Topic21\", \"Topic21\", \"Topic21\", \"Topic21\", \"Topic21\", \"Topic21\", \"Topic21\", \"Topic21\", \"Topic21\", \"Topic21\", \"Topic21\", \"Topic21\", \"Topic21\", \"Topic21\", \"Topic21\", \"Topic21\", \"Topic21\", \"Topic21\", \"Topic21\", \"Topic21\", \"Topic21\", \"Topic21\", \"Topic21\", \"Topic21\", \"Topic21\", \"Topic21\", \"Topic21\", \"Topic21\", \"Topic22\", \"Topic22\", \"Topic22\", \"Topic22\", \"Topic22\", \"Topic22\", \"Topic22\", \"Topic22\", \"Topic22\", \"Topic22\", \"Topic22\", \"Topic22\", \"Topic22\", \"Topic22\", \"Topic22\", \"Topic22\", \"Topic22\", \"Topic22\", \"Topic22\", \"Topic22\", \"Topic22\", \"Topic22\", \"Topic22\", \"Topic22\", \"Topic22\", \"Topic22\", \"Topic22\", \"Topic22\", \"Topic22\", \"Topic22\", \"Topic22\", \"Topic22\", \"Topic22\", \"Topic22\", \"Topic22\", \"Topic22\", \"Topic22\", \"Topic22\", \"Topic22\", \"Topic22\", \"Topic22\", \"Topic22\", \"Topic22\", \"Topic22\", \"Topic22\", \"Topic22\", \"Topic22\", \"Topic22\", \"Topic22\", \"Topic22\", \"Topic22\", \"Topic22\", \"Topic22\", \"Topic22\", \"Topic22\", \"Topic22\", \"Topic22\", \"Topic22\", \"Topic22\", \"Topic22\", \"Topic22\", \"Topic22\", \"Topic22\", \"Topic22\", \"Topic22\", \"Topic22\", \"Topic22\", \"Topic22\", \"Topic22\", \"Topic22\", \"Topic22\", \"Topic22\", \"Topic23\", \"Topic23\", \"Topic23\", \"Topic23\", \"Topic23\", \"Topic23\", \"Topic23\", \"Topic23\", \"Topic23\", \"Topic23\", \"Topic23\", \"Topic23\", \"Topic23\", \"Topic23\", \"Topic23\", \"Topic23\", \"Topic23\", \"Topic23\", \"Topic23\", \"Topic23\", \"Topic23\", \"Topic23\", \"Topic23\", \"Topic23\", \"Topic23\", \"Topic23\", \"Topic23\", \"Topic23\", \"Topic23\", \"Topic23\", \"Topic23\", \"Topic23\", \"Topic23\", \"Topic23\", \"Topic23\", \"Topic23\", \"Topic23\", \"Topic23\", \"Topic23\", \"Topic23\", \"Topic23\", \"Topic23\", \"Topic23\", \"Topic23\", \"Topic23\", \"Topic23\", \"Topic23\", \"Topic23\", \"Topic23\", \"Topic23\", \"Topic23\", \"Topic23\", \"Topic23\", \"Topic23\", \"Topic23\", \"Topic23\", \"Topic23\", \"Topic23\", \"Topic23\", \"Topic23\", \"Topic23\", \"Topic23\", \"Topic23\", \"Topic23\", \"Topic23\", \"Topic23\", \"Topic23\", \"Topic23\", \"Topic23\", \"Topic23\", \"Topic23\", \"Topic23\", \"Topic23\", \"Topic23\", \"Topic24\", \"Topic24\", \"Topic24\", \"Topic24\", \"Topic24\", \"Topic24\", \"Topic24\", \"Topic24\", \"Topic24\", \"Topic24\", \"Topic24\", \"Topic24\", \"Topic24\", \"Topic24\", \"Topic24\", \"Topic24\", \"Topic24\", \"Topic24\", \"Topic24\", \"Topic24\", \"Topic24\", \"Topic24\", \"Topic24\", \"Topic24\", \"Topic24\", \"Topic24\", \"Topic24\", \"Topic24\", \"Topic24\", \"Topic24\", \"Topic24\", \"Topic24\", \"Topic24\", \"Topic24\", \"Topic24\", \"Topic24\", \"Topic24\", \"Topic24\", \"Topic24\", \"Topic24\", \"Topic24\", \"Topic24\", \"Topic24\", \"Topic24\", \"Topic24\", \"Topic24\", \"Topic24\", \"Topic24\", \"Topic24\", \"Topic24\", \"Topic24\", \"Topic24\", \"Topic24\", \"Topic24\", \"Topic24\", \"Topic24\", \"Topic24\", \"Topic24\", \"Topic24\", \"Topic24\", \"Topic24\", \"Topic24\", \"Topic24\", \"Topic24\", \"Topic24\", \"Topic24\", \"Topic24\", \"Topic24\", \"Topic24\", \"Topic25\", \"Topic25\", \"Topic25\", \"Topic25\", \"Topic25\", \"Topic25\", \"Topic25\", \"Topic25\", \"Topic25\", \"Topic25\", \"Topic25\", \"Topic25\", \"Topic25\", \"Topic25\", \"Topic25\", \"Topic25\", \"Topic25\", \"Topic25\", \"Topic25\", \"Topic25\", \"Topic25\", \"Topic25\", \"Topic25\", \"Topic25\", \"Topic25\", \"Topic25\", \"Topic25\", \"Topic25\", \"Topic25\", \"Topic25\", \"Topic25\", \"Topic25\", \"Topic25\", \"Topic25\", \"Topic25\", \"Topic25\", \"Topic25\", \"Topic25\", \"Topic25\", \"Topic25\", \"Topic25\", \"Topic25\", \"Topic25\", \"Topic25\", \"Topic25\", \"Topic25\", \"Topic25\", \"Topic25\", \"Topic25\", \"Topic25\", \"Topic25\", \"Topic25\", \"Topic25\", \"Topic25\", \"Topic25\", \"Topic25\", \"Topic25\", \"Topic25\", \"Topic25\", \"Topic25\", \"Topic25\", \"Topic25\", \"Topic25\", \"Topic25\", \"Topic25\", \"Topic25\", \"Topic25\", \"Topic25\", \"Topic25\", \"Topic25\", \"Topic25\", \"Topic26\", \"Topic26\", \"Topic26\", \"Topic26\", \"Topic26\", \"Topic26\", \"Topic26\", \"Topic26\", \"Topic26\", \"Topic26\", \"Topic26\", \"Topic26\", \"Topic26\", \"Topic26\", \"Topic26\", \"Topic26\", \"Topic26\", \"Topic26\", \"Topic26\", \"Topic26\", \"Topic26\", \"Topic26\", \"Topic26\", \"Topic26\", \"Topic26\", \"Topic26\", \"Topic26\", \"Topic26\", \"Topic26\", \"Topic26\", \"Topic26\", \"Topic26\", \"Topic26\", \"Topic26\", \"Topic26\", \"Topic26\", \"Topic26\", \"Topic26\", \"Topic26\", \"Topic26\", \"Topic26\", \"Topic26\", \"Topic26\", \"Topic26\", \"Topic26\", \"Topic26\", \"Topic26\", \"Topic26\", \"Topic26\", \"Topic26\", \"Topic26\", \"Topic26\", \"Topic26\", \"Topic26\", \"Topic26\", \"Topic26\", \"Topic26\", \"Topic26\", \"Topic26\", \"Topic26\", \"Topic26\", \"Topic26\", \"Topic26\", \"Topic26\", \"Topic26\", \"Topic26\", \"Topic26\", \"Topic26\", \"Topic26\", \"Topic26\", \"Topic26\", \"Topic26\", \"Topic26\", \"Topic26\", \"Topic26\", \"Topic26\", \"Topic26\", \"Topic26\", \"Topic26\", \"Topic26\", \"Topic26\", \"Topic26\", \"Topic26\", \"Topic26\", \"Topic27\", \"Topic27\", \"Topic27\", \"Topic27\", \"Topic27\", \"Topic27\", \"Topic27\", \"Topic27\", \"Topic27\", \"Topic27\", \"Topic27\", \"Topic27\", \"Topic27\", \"Topic27\", \"Topic27\", \"Topic27\", \"Topic27\", \"Topic27\", \"Topic27\", \"Topic27\", \"Topic27\", \"Topic27\", \"Topic27\", \"Topic27\", \"Topic27\", \"Topic27\", \"Topic27\", \"Topic27\", \"Topic27\", \"Topic27\", \"Topic27\", \"Topic27\", \"Topic27\", \"Topic27\", \"Topic27\", \"Topic27\", \"Topic27\", \"Topic27\", \"Topic27\", \"Topic27\", \"Topic27\", \"Topic27\", \"Topic27\", \"Topic27\", \"Topic27\", \"Topic27\", \"Topic27\", \"Topic27\", \"Topic27\", \"Topic27\", \"Topic27\", \"Topic27\", \"Topic27\", \"Topic27\", \"Topic27\", \"Topic27\", \"Topic27\", \"Topic27\", \"Topic27\", \"Topic27\", \"Topic27\", \"Topic27\", \"Topic27\", \"Topic27\", \"Topic27\", \"Topic27\", \"Topic27\", \"Topic27\", \"Topic27\", \"Topic27\", \"Topic27\", \"Topic27\", \"Topic28\", \"Topic28\", \"Topic28\", \"Topic28\", \"Topic28\", \"Topic28\", \"Topic28\", \"Topic28\", \"Topic28\", \"Topic28\", \"Topic28\", \"Topic28\", \"Topic28\", \"Topic28\", \"Topic28\", \"Topic28\", \"Topic28\", \"Topic28\", \"Topic28\", \"Topic28\", \"Topic28\", \"Topic28\", \"Topic28\", \"Topic28\", \"Topic28\", \"Topic28\", \"Topic28\", \"Topic28\", \"Topic28\", \"Topic28\", \"Topic28\", \"Topic28\", \"Topic28\", \"Topic28\", \"Topic28\", \"Topic28\", \"Topic28\", \"Topic28\", \"Topic28\", \"Topic28\", \"Topic28\", \"Topic28\", \"Topic28\", \"Topic28\", \"Topic28\", \"Topic28\", \"Topic28\", \"Topic28\", \"Topic28\", \"Topic28\", \"Topic28\", \"Topic28\", \"Topic28\", \"Topic28\", \"Topic28\", \"Topic28\", \"Topic28\", \"Topic28\", \"Topic28\", \"Topic28\", \"Topic28\", \"Topic29\", \"Topic29\", \"Topic29\", \"Topic29\", \"Topic29\", \"Topic29\", \"Topic29\", \"Topic29\", \"Topic29\", \"Topic29\", \"Topic29\", \"Topic29\", \"Topic29\", \"Topic29\", \"Topic29\", \"Topic29\", \"Topic29\", \"Topic29\", \"Topic29\", \"Topic29\", \"Topic29\", \"Topic29\", \"Topic29\", \"Topic29\", \"Topic29\", \"Topic29\", \"Topic29\", \"Topic29\", \"Topic29\", \"Topic29\", \"Topic29\", \"Topic29\", \"Topic29\", \"Topic29\", \"Topic29\", \"Topic29\", \"Topic29\", \"Topic29\", \"Topic29\", \"Topic29\", \"Topic29\", \"Topic29\", \"Topic29\", \"Topic29\", \"Topic29\", \"Topic29\", \"Topic29\", \"Topic29\", \"Topic29\", \"Topic29\", \"Topic29\", \"Topic29\", \"Topic29\", \"Topic29\", \"Topic29\", \"Topic29\", \"Topic29\", \"Topic29\", \"Topic29\", \"Topic29\", \"Topic29\", \"Topic29\", \"Topic29\", \"Topic29\", \"Topic29\", \"Topic29\", \"Topic29\", \"Topic29\", \"Topic29\", \"Topic29\", \"Topic29\", \"Topic29\", \"Topic30\", \"Topic30\", \"Topic30\", \"Topic30\", \"Topic30\", \"Topic30\", \"Topic30\", \"Topic30\", \"Topic30\", \"Topic30\", \"Topic30\", \"Topic30\", \"Topic30\", \"Topic30\", \"Topic30\", \"Topic30\", \"Topic30\", \"Topic30\", \"Topic30\", \"Topic30\", \"Topic30\", \"Topic30\", \"Topic30\", \"Topic30\", \"Topic30\", \"Topic30\", \"Topic30\", \"Topic30\", \"Topic30\", \"Topic30\", \"Topic30\", \"Topic30\", \"Topic30\", \"Topic30\", \"Topic30\", \"Topic30\", \"Topic30\", \"Topic30\", \"Topic30\", \"Topic30\", \"Topic30\", \"Topic30\", \"Topic30\", \"Topic30\", \"Topic30\", \"Topic30\", \"Topic30\", \"Topic30\", \"Topic30\", \"Topic30\", \"Topic30\", \"Topic30\", \"Topic30\", \"Topic30\", \"Topic30\", \"Topic30\", \"Topic30\", \"Topic30\", \"Topic30\", \"Topic30\", \"Topic30\"], \"Freq\": [4825.0, 1063.0, 587.0, 2131.0, 1601.0, 861.0, 556.0, 559.0, 1904.0, 1257.0, 1102.0, 2244.0, 588.0, 1341.0, 2216.0, 942.0, 1986.0, 551.0, 548.0, 2013.0, 912.0, 444.0, 738.0, 830.0, 468.0, 553.0, 412.0, 278.0, 912.0, 626.0, 75.57769012451172, 62.649261474609375, 41.779239654541016, 40.777931213378906, 35.81001663208008, 35.79619216918945, 33.82253646850586, 33.79663848876953, 30.83806610107422, 28.84731674194336, 24.876779556274414, 24.869815826416016, 48.73773956298828, 21.89356231689453, 20.878252029418945, 19.9033203125, 19.900545120239258, 18.913915634155273, 18.912527084350586, 18.90859603881836, 37.79951095581055, 36.81238555908203, 17.91796875, 17.91707420349121, 17.911441802978516, 17.91259002685547, 17.900630950927734, 16.92632484436035, 16.923114776611328, 16.921241760253906, 107.16035461425781, 32.8734130859375, 30.030092239379883, 49.30256271362305, 50.15190505981445, 46.27891159057617, 81.84734344482422, 216.65695190429688, 141.0784454345703, 51.39128494262695, 296.03399658203125, 115.92807006835938, 75.58751678466797, 40.89238739013672, 109.78501892089844, 46.35224914550781, 79.29359436035156, 169.15509033203125, 423.441162109375, 270.95404052734375, 78.18016052246094, 260.5640563964844, 78.73426818847656, 92.2271728515625, 97.59243774414062, 75.61784362792969, 59.77500915527344, 298.3566589355469, 114.05397033691406, 218.63905334472656, 121.97659301757812, 293.35430908203125, 219.833251953125, 307.8450927734375, 154.92803955078125, 79.2018051147461, 70.64425659179688, 117.34724426269531, 150.74978637695312, 171.88449096679688, 117.34882354736328, 126.33222198486328, 139.50022888183594, 126.91850280761719, 164.4879608154297, 114.87372589111328, 146.90028381347656, 117.7065658569336, 104.29412078857422, 155.8979949951172, 133.2430419921875, 65.15943145751953, 58.24843978881836, 56.21909713745117, 133.17361450195312, 41.46810531616211, 34.569095611572266, 30.619384765625, 267.3298034667969, 114.37229919433594, 80.10011291503906, 26.669431686401367, 25.68634796142578, 19.76604461669922, 18.77066421508789, 89.08000946044922, 17.773334503173828, 94.43057250976562, 16.8007755279541, 16.785808563232422, 13.843815803527832, 13.836542129516602, 26.669748306274414, 30.324462890625, 11.87142562866211, 294.6974182128906, 10.862236976623535, 10.874735832214355, 9.89574909210205, 45.253021240234375, 156.62173461914062, 154.34347534179688, 198.11282348632812, 79.5904769897461, 120.41600036621094, 111.90379333496094, 74.35475158691406, 148.265625, 124.39252471923828, 161.6332550048828, 339.175048828125, 96.35964965820312, 370.6612243652344, 137.1367950439453, 298.2170104980469, 180.71823120117188, 220.08644104003906, 150.9191436767578, 411.59637451171875, 319.6675720214844, 338.7588195800781, 271.15850830078125, 540.1265258789062, 278.53912353515625, 189.5362548828125, 579.8115844726562, 165.18072509765625, 334.52716064453125, 335.4637145996094, 226.1353302001953, 159.37594604492188, 228.87033081054688, 260.02337646484375, 268.05810546875, 339.0405578613281, 420.9884338378906, 229.19818115234375, 213.76841735839844, 208.9794464111328, 181.91262817382812, 205.4336395263672, 205.4075469970703, 200.03407287597656, 54.131614685058594, 46.25978469848633, 35.44273376464844, 32.491355895996094, 29.545907974243164, 29.535776138305664, 25.588478088378906, 23.6363468170166, 23.62043571472168, 21.669828414916992, 20.690263748168945, 18.688488006591797, 17.73581886291504, 39.22080993652344, 16.749248504638672, 15.76933765411377, 33.40004348754883, 14.787811279296875, 14.777588844299316, 14.777363777160645, 14.765349388122559, 35.00796127319336, 13.80313777923584, 13.798983573913574, 13.798905372619629, 13.79867172241211, 13.797571182250977, 13.775214195251465, 12.81602668762207, 12.814605712890625, 26.363130569458008, 16.429346084594727, 133.38253784179688, 34.489662170410156, 23.26833152770996, 59.20184326171875, 28.25387191772461, 42.94498062133789, 46.510467529296875, 58.15162658691406, 48.753074645996094, 20.6369686126709, 22.949037551879883, 99.84752655029297, 102.55680084228516, 23.634828567504883, 33.69645309448242, 30.24604606628418, 193.29994201660156, 123.85145568847656, 44.865928649902344, 99.08272552490234, 91.23030853271484, 54.12422561645508, 38.09915542602539, 80.3114242553711, 69.99625396728516, 241.39132690429688, 92.09585571289062, 85.77267456054688, 128.5667266845703, 112.4560546875, 62.141944885253906, 104.36934661865234, 90.21829986572266, 75.93022918701172, 71.4939193725586, 73.27764129638672, 68.21236419677734, 59.60580062866211, 81.3388442993164, 72.47110748291016, 65.8945083618164, 67.6785888671875, 61.40595626831055, 58.139198303222656, 36.30668640136719, 67.56829071044922, 20.640195846557617, 19.671335220336914, 59.932830810546875, 25.132925033569336, 16.720815658569336, 15.739052772521973, 14.761324882507324, 14.75662612915039, 14.754502296447754, 14.737157821655273, 13.779485702514648, 13.779485702514648, 13.779485702514648, 13.778343200683594, 13.765908241271973, 32.10268783569336, 12.797383308410645, 12.797383308410645, 12.784797668457031, 12.784463882446289, 12.76870346069336, 12.767509460449219, 25.543121337890625, 24.577545166015625, 11.81525707244873, 11.792308807373047, 10.821659088134766, 9.85101318359375, 17.68882179260254, 68.88688659667969, 127.48873138427734, 229.8206329345703, 51.73936462402344, 43.32896041870117, 107.70743560791016, 46.6224479675293, 29.545616149902344, 96.19302368164062, 66.23291015625, 59.064849853515625, 24.011947631835938, 35.95918655395508, 21.288330078125, 93.2514419555664, 114.64054107666016, 36.13400650024414, 46.595829010009766, 77.48589324951172, 46.30591583251953, 69.08568572998047, 204.2043914794922, 59.792816162109375, 116.80915069580078, 211.4805145263672, 85.42796325683594, 143.2462615966797, 93.21674346923828, 96.21958923339844, 110.76993560791016, 68.12103271484375, 152.95867919921875, 148.79727172851562, 83.36385345458984, 178.32278442382812, 102.5041732788086, 76.34134674072266, 109.57504272460938, 113.34455871582031, 124.02027130126953, 100.29396057128906, 95.29721069335938, 93.85157012939453, 98.71096801757812, 97.50715637207031, 86.4435806274414, 78.0773696899414, 85.16741943359375, 30.212892532348633, 29.105409622192383, 25.346940994262695, 21.45177459716797, 21.451030731201172, 21.451030731201172, 18.53078269958496, 17.556711196899414, 17.55609130859375, 17.554136276245117, 17.550710678100586, 16.560640335083008, 54.32512283325195, 14.63587760925293, 14.635886192321777, 14.63587760925293, 14.635172843933105, 14.630013465881348, 14.62725830078125, 14.62071418762207, 14.627911567687988, 28.268024444580078, 13.662161827087402, 13.661861419677734, 14.53701400756836, 24.372713088989258, 39.951351165771484, 12.688424110412598, 11.711546897888184, 35.046356201171875, 54.40559768676758, 32.162960052490234, 78.1865234375, 50.37187957763672, 102.49977111816406, 68.9983901977539, 47.51248550415039, 44.17131805419922, 81.88663482666016, 25.725385665893555, 40.63841247558594, 158.0515899658203, 28.266521453857422, 127.56478881835938, 79.81239318847656, 1373.9940185546875, 251.49156188964844, 142.7733917236328, 45.39073944091797, 535.4246215820312, 54.88344955444336, 40.76995086669922, 150.67953491210938, 70.9154052734375, 56.90371322631836, 399.0332336425781, 94.41323852539062, 269.8594665527344, 119.921875, 63.19038772583008, 96.40690612792969, 239.0327911376953, 135.32896423339844, 163.57508850097656, 100.44110870361328, 218.9116668701172, 179.06124877929688, 102.2855453491211, 79.1163330078125, 176.0948944091797, 74.23401641845703, 99.24459075927734, 83.74322509765625, 115.91847229003906, 112.72614288330078, 95.3458480834961, 98.30879211425781, 86.759033203125, 86.03160095214844, 85.99173736572266, 65.20094299316406, 58.28408432006836, 51.55675506591797, 41.936519622802734, 40.961246490478516, 39.0130615234375, 32.1901969909668, 56.555335998535156, 25.36903190612793, 28.16718864440918, 24.39375877380371, 26.268844604492188, 31.868549346923828, 23.413928985595703, 20.487173080444336, 21.40854263305664, 19.521574020385742, 19.519393920898438, 18.546998977661133, 18.5457763671875, 17.572431564331055, 16.597373962402344, 15.623234748840332, 15.618593215942383, 15.616539001464844, 15.595614433288574, 14.648679733276367, 14.648683547973633, 14.648695945739746, 14.648683547973633, 28.27878189086914, 35.01754379272461, 53.865875244140625, 29.249221801757812, 149.414306640625, 36.0120964050293, 122.93981170654297, 100.9406967163086, 80.71849822998047, 210.8811492919922, 356.5254821777344, 121.7638168334961, 77.223876953125, 36.37710189819336, 33.04413986206055, 455.0351257324219, 265.1700744628906, 68.9043197631836, 97.87964630126953, 64.3185806274414, 84.83686065673828, 61.49620819091797, 53.369319915771484, 130.51638793945312, 109.00601959228516, 109.85328674316406, 185.66000366210938, 261.96063232421875, 103.68623352050781, 133.53955078125, 119.90029907226562, 143.40672302246094, 329.34393310546875, 144.43756103515625, 147.23410034179688, 195.37660217285156, 107.71983337402344, 152.7671356201172, 112.6670150756836, 88.0737533569336, 131.24925231933594, 102.36247253417969, 106.21427917480469, 115.7708511352539, 104.8243408203125, 38.32518768310547, 37.35047912597656, 32.44231033325195, 30.478382110595703, 28.506149291992188, 22.613040924072266, 20.650432586669922, 19.673629760742188, 19.657270431518555, 18.689510345458984, 17.672033309936523, 16.718082427978516, 16.70600700378418, 15.727294921875, 14.759147644042969, 13.781366348266602, 13.777647972106934, 13.769497871398926, 13.77763557434082, 13.771291732788086, 12.799160957336426, 12.786093711853027, 25.553190231323242, 12.736183166503906, 11.779546737670898, 10.8318452835083, 10.8316650390625, 10.831573486328125, 10.830406188964844, 10.824740409851074, 43.507904052734375, 31.39177703857422, 43.01065444946289, 28.331932067871094, 20.57818031311035, 32.084407806396484, 21.32741928100586, 29.186166763305664, 15.730448722839355, 54.22627639770508, 24.39818000793457, 45.37343978881836, 36.90842056274414, 25.50046157836914, 27.091264724731445, 60.955074310302734, 32.305870056152344, 54.28063201904297, 48.10805892944336, 36.44089889526367, 45.71017837524414, 65.1465072631836, 102.73560333251953, 85.09532928466797, 204.89730834960938, 123.6011962890625, 75.98867797851562, 52.82916259765625, 189.33609008789062, 87.5090103149414, 73.3669662475586, 105.53529357910156, 89.09616088867188, 48.74290466308594, 70.88311767578125, 100.85416412353516, 58.42392349243164, 59.36225128173828, 82.38140869140625, 56.550743103027344, 52.17269515991211, 53.749794006347656, 73.70826721191406, 62.552452087402344, 64.00100708007812, 62.680145263671875, 69.02991485595703, 51.080780029296875, 61.906856536865234, 54.041473388671875, 54.714874267578125, 58.212581634521484, 60.1610107421875, 56.45907974243164, 54.3674430847168, 35.06535339355469, 31.168798446655273, 29.222488403320312, 25.334047317504883, 22.41295623779297, 21.438283920288086, 20.46453285217285, 20.452608108520508, 19.49297523498535, 14.62845516204834, 14.627766609191895, 15.53126049041748, 13.65523624420166, 13.628998756408691, 12.682290077209473, 12.681607246398926, 12.681607246398926, 12.679764747619629, 12.668923377990723, 12.661538124084473, 11.70984172821045, 11.70984172821045, 11.70984172821045, 11.70984172821045, 11.70984172821045, 11.704414367675781, 11.703435897827148, 11.702730178833008, 35.02949523925781, 10.736534118652344, 95.57447814941406, 37.255271911621094, 97.70914459228516, 19.438716888427734, 79.51152038574219, 69.58541870117188, 38.98017120361328, 74.65510559082031, 16.572559356689453, 72.50279998779297, 29.927453994750977, 82.81140899658203, 27.581642150878906, 149.9676055908203, 63.92914581298828, 24.883657455444336, 42.433963775634766, 33.06294631958008, 41.13886260986328, 63.13387680053711, 46.71053695678711, 62.243499755859375, 92.88066864013672, 67.37118530273438, 175.8493194580078, 58.88479995727539, 89.59610748291016, 100.42212677001953, 49.46458053588867, 47.022621154785156, 107.19222259521484, 66.77171325683594, 93.74884033203125, 67.50205993652344, 100.54660034179688, 64.06652069091797, 61.695587158203125, 77.56612396240234, 62.475303649902344, 50.69443893432617, 58.26899337768555, 55.46590042114258, 52.35214614868164, 51.98900604248047, 97.07891082763672, 69.90750122070312, 42.73308181762695, 26.234323501586914, 26.234323501586914, 18.467464447021484, 56.2797737121582, 17.499677658081055, 17.497461318969727, 17.49612045288086, 33.982547760009766, 16.521583557128906, 16.518083572387695, 16.51792335510254, 32.04905319213867, 15.533312797546387, 27.13650131225586, 46.591102600097656, 10.695796966552734, 10.686789512634277, 9.732999801635742, 9.732786178588867, 9.725179672241211, 9.724311828613281, 9.72424030303955, 9.721208572387695, 9.715670585632324, 9.715670585632324, 8.7650146484375, 8.764997482299805, 94.12421417236328, 17.499677658081055, 125.15923309326172, 122.26113891601562, 228.1839599609375, 26.21297836303711, 15.558650016784668, 309.15380859375, 751.8781127929688, 114.92887878417969, 311.3689880371094, 33.816524505615234, 138.66134643554688, 135.1644744873047, 488.45074462890625, 336.0954895019531, 106.10406494140625, 56.922698974609375, 123.71984100341797, 182.6653289794922, 196.2749786376953, 130.9259490966797, 99.36583709716797, 217.424560546875, 70.23681640625, 419.8840637207031, 159.45233154296875, 89.40830993652344, 255.92379760742188, 91.08672332763672, 106.60112762451172, 113.12747192382812, 85.82109832763672, 84.40296173095703, 84.64875030517578, 92.85344696044922, 79.3169174194336, 63.846046447753906, 40.640254974365234, 37.73838806152344, 30.002578735351562, 20.335416793823242, 18.392793655395508, 18.378768920898438, 17.434358596801758, 17.4343204498291, 16.46766471862793, 16.467554092407227, 16.466156005859375, 15.500874519348145, 15.500726699829102, 15.49888801574707, 15.49691390991211, 14.534101486206055, 14.534101486206055, 14.534101486206055, 14.534101486206055, 14.534098625183105, 14.534098625183105, 14.53409194946289, 14.53409194946289, 14.534012794494629, 14.533958435058594, 14.532524108886719, 12.600279808044434, 147.0257110595703, 97.23368072509766, 78.80579376220703, 87.40116882324219, 154.8514404296875, 67.4896011352539, 19.368511199951172, 78.82654571533203, 33.87196350097656, 22.959577560424805, 40.324462890625, 29.03767204284668, 143.26168823242188, 59.475669860839844, 68.61787414550781, 58.04499816894531, 64.8434066772461, 52.14889907836914, 29.97862434387207, 46.657432556152344, 60.655494689941406, 102.40670013427734, 38.40264892578125, 564.5643920898438, 179.62957763671875, 87.76973724365234, 53.96271896362305, 226.53054809570312, 238.6962890625, 86.08892822265625, 118.24246978759766, 212.6172332763672, 71.3311996459961, 124.1632080078125, 83.23876953125, 88.32279968261719, 152.98703002929688, 120.72042846679688, 115.5213623046875, 94.46521759033203, 83.31649017333984, 97.5096435546875, 85.16032409667969, 85.72024536132812, 81.1318130493164, 85.54743957519531, 113.5526351928711, 72.80060577392578, 32.047847747802734, 26.227401733398438, 26.225894927978516, 25.258424758911133, 28.987171173095703, 18.463468551635742, 16.52316665649414, 14.584330558776855, 13.614788055419922, 13.613973617553711, 12.644333839416504, 12.644354820251465, 12.634370803833008, 11.67159366607666, 11.667829513549805, 24.140417098999023, 9.728424072265625, 9.71841812133789, 9.727004051208496, 19.384689331054688, 8.762324333190918, 7.7929606437683105, 7.79168176651001, 7.7876973152160645, 7.732543468475342, 6.822636127471924, 6.822092533111572, 6.81191873550415, 24.605792999267578, 37.544586181640625, 18.522207260131836, 68.27293395996094, 63.3860969543457, 46.11311340332031, 67.74213409423828, 28.704221725463867, 149.00015258789062, 66.60198211669922, 57.8723030090332, 45.15318298339844, 105.56394958496094, 132.96066284179688, 64.0364761352539, 27.597000122070312, 155.09524536132812, 25.658599853515625, 41.30716323852539, 57.24698257446289, 83.53002166748047, 31.21479034423828, 80.15011596679688, 88.25049591064453, 131.5074462890625, 87.09979248046875, 158.79443359375, 77.19197845458984, 82.66262817382812, 175.3980255126953, 97.1225357055664, 124.84614562988281, 65.8547592163086, 126.5922622680664, 67.56063842773438, 93.6283187866211, 73.49075317382812, 103.54837799072266, 84.4562759399414, 79.44489288330078, 69.25020599365234, 64.70121002197266, 53.14107894897461, 28.996877670288086, 21.274843215942383, 19.311901092529297, 15.48085880279541, 14.515270233154297, 14.515270233154297, 14.51527214050293, 14.51517105102539, 14.514012336730957, 14.507622718811035, 13.549615859985352, 13.549620628356934, 13.549610137939453, 13.549614906311035, 13.549614906311035, 13.549614906311035, 13.549381256103516, 13.547396659851074, 13.546320915222168, 12.583966255187988, 12.583827018737793, 13.415778160095215, 35.75961685180664, 21.273988723754883, 10.652569770812988, 10.65112590789795, 10.645659446716309, 10.613993644714355, 20.255891799926758, 20.30723762512207, 32.43208312988281, 71.53242492675781, 19.329320907592773, 95.62881469726562, 31.8964900970459, 34.09171676635742, 29.695451736450195, 51.20858383178711, 45.96665573120117, 22.236791610717773, 110.42772674560547, 24.106557846069336, 31.78350830078125, 74.85836029052734, 199.40940856933594, 38.02720642089844, 48.85962677001953, 26.021377563476562, 110.1230239868164, 21.27411460876465, 69.50069427490234, 94.44617462158203, 49.00246810913086, 84.19520568847656, 55.638710021972656, 39.87937927246094, 80.68537902832031, 64.1999282836914, 129.11276245117188, 73.37016296386719, 52.1912727355957, 124.22462463378906, 67.10138702392578, 203.03929138183594, 47.55726623535156, 51.963287353515625, 95.03594970703125, 83.25318145751953, 60.045143127441406, 73.3343505859375, 101.92988586425781, 66.40657043457031, 79.1695785522461, 79.7087631225586, 79.0689697265625, 71.19239044189453, 67.83499908447266, 64.95792388916016, 67.2420883178711, 61.21664810180664, 62.94205856323242, 90.71839141845703, 100.08251190185547, 49.217010498046875, 43.445194244384766, 128.7619171142578, 34.760337829589844, 31.865144729614258, 63.53022766113281, 18.36060333251953, 17.396587371826172, 17.322402954101562, 16.43178367614746, 16.429838180541992, 15.467123985290527, 15.454840660095215, 14.502725601196289, 14.502728462219238, 13.537919044494629, 13.537919044494629, 13.537908554077148, 13.48439884185791, 12.573101043701172, 12.573101043701172, 12.571968078613281, 11.608281135559082, 11.608281135559082, 11.605721473693848, 28.383140563964844, 18.292686462402344, 7.74709939956665, 15.46755313873291, 48.66590881347656, 69.05926513671875, 34.55953598022461, 280.7105712890625, 58.801944732666016, 27.563541412353516, 74.81855773925781, 176.40093994140625, 133.05621337890625, 73.78105926513672, 25.12237548828125, 336.47528076171875, 61.367000579833984, 184.6311798095703, 182.53176879882812, 98.15843963623047, 215.6072540283203, 49.128379821777344, 96.33361053466797, 111.29130554199219, 51.1907844543457, 208.772705078125, 51.66081619262695, 103.88434600830078, 83.995849609375, 97.8033676147461, 79.16576385498047, 116.219970703125, 140.8936767578125, 73.50704956054688, 57.862483978271484, 75.87663269042969, 58.82256317138672, 74.33621978759766, 66.24360656738281, 61.60185623168945, 63.77305603027344, 26.102806091308594, 23.21013641357422, 19.345962524414062, 37.66543960571289, 17.41090965270996, 17.397613525390625, 16.450252532958984, 16.437103271484375, 15.48462200164795, 15.48462200164795, 15.48462200164795, 15.48462200164795, 15.48462200164795, 14.518745422363281, 14.518742561340332, 29.006742477416992, 13.552865028381348, 13.552865028381348, 13.552865028381348, 13.550859451293945, 12.586989402770996, 12.586956977844238, 12.584874153137207, 10.634079933166504, 22.090044021606445, 9.683911323547363, 9.683844566345215, 9.655755996704102, 8.722994804382324, 18.216350555419922, 62.360557556152344, 31.895648956298828, 22.166513442993164, 29.417226791381836, 50.961387634277344, 55.08376693725586, 28.9788875579834, 29.97151756286621, 21.646337509155273, 20.144176483154297, 30.75266456604004, 64.19188690185547, 152.10572814941406, 24.17689323425293, 22.75647735595703, 33.01724624633789, 47.97953796386719, 384.1055908203125, 38.14153289794922, 71.10641479492188, 44.65680694580078, 44.39047622680664, 35.3425178527832, 23.18316650390625, 49.300819396972656, 102.14547729492188, 39.070377349853516, 119.04192352294922, 82.58167266845703, 45.511741638183594, 191.11964416503906, 75.97198486328125, 46.459964752197266, 84.94070434570312, 194.13343811035156, 56.17362594604492, 55.44004440307617, 87.38017272949219, 89.97035217285156, 105.99883270263672, 101.35577392578125, 58.67802429199219, 78.44048309326172, 74.4507827758789, 69.40010070800781, 54.11962127685547, 66.5874252319336, 62.20520782470703, 63.84394454956055, 53.34398651123047, 58.70899963378906, 40.43190383911133, 26.950380325317383, 19.18325424194336, 17.340099334716797, 16.376361846923828, 16.363483428955078, 16.359134674072266, 15.42159652709961, 15.418386459350586, 15.399917602539062, 15.378186225891113, 29.840131759643555, 14.45966911315918, 14.45966911315918, 14.459650993347168, 14.459640502929688, 14.459650993347168, 14.459659576416016, 14.459659576416016, 14.459659576416016, 14.459659576416016, 39.708595275878906, 13.474421501159668, 12.53577709197998, 12.530317306518555, 11.573803901672363, 11.569694519042969, 11.569694519042969, 44.13838195800781, 203.95468139648438, 18.934078216552734, 47.32088088989258, 57.65324401855469, 33.010066986083984, 66.1926498413086, 51.97140884399414, 61.14616775512695, 29.298404693603516, 74.60455322265625, 124.94185638427734, 71.90985870361328, 29.848453521728516, 226.13514709472656, 127.33502960205078, 59.14065170288086, 52.929168701171875, 26.57780647277832, 158.3782196044922, 99.8342514038086, 60.60749053955078, 63.287052154541016, 69.99919128417969, 62.80576705932617, 71.21422576904297, 132.3753662109375, 50.4002571105957, 93.19454193115234, 188.04135131835938, 90.35311889648438, 125.15267944335938, 85.42027282714844, 85.03641510009766, 65.91970825195312, 91.62090301513672, 88.00725555419922, 98.04602813720703, 102.9076156616211, 77.81085205078125, 83.10875701904297, 68.76566314697266, 65.55094909667969, 19.309553146362305, 16.42576026916504, 14.481183052062988, 13.537988662719727, 12.57318115234375, 12.57318115234375, 12.563577651977539, 8.701194763183594, 8.685843467712402, 7.745495796203613, 7.743715286254883, 7.743238925933838, 7.736816883087158, 7.732408046722412, 7.737250804901123, 17.963638305664062, 6.783808708190918, 6.782876968383789, 6.78064489364624, 6.773731231689453, 6.773329257965088, 6.771404266357422, 6.769967079162598, 6.769620418548584, 6.756661891937256, 13.5372314453125, 6.663053035736084, 5.815654277801514, 5.815038681030273, 5.814310073852539, 27.824167251586914, 38.03876876831055, 15.369623184204102, 18.463647842407227, 27.232662200927734, 10.602758407592773, 13.537988662719727, 14.012584686279297, 14.49245834350586, 9.659257888793945, 58.452980041503906, 10.961655616760254, 9.589004516601562, 18.318357467651367, 29.06211280822754, 30.07244300842285, 17.63117218017578, 19.592308044433594, 39.943702697753906, 23.900266647338867, 14.605276107788086, 47.54821014404297, 49.464969635009766, 22.614044189453125, 38.13017272949219, 40.60273742675781, 31.64944076538086, 41.74842071533203, 26.2199764251709, 77.39649200439453, 23.75757598876953, 109.04002380371094, 27.598770141601562, 27.01789665222168, 63.775150299072266, 55.486473083496094, 114.36643981933594, 87.73452758789062, 43.915740966796875, 69.43235778808594, 84.75540924072266, 65.98857879638672, 45.451324462890625, 40.621158599853516, 33.8656005859375, 53.11134719848633, 40.36008834838867, 55.814476013183594, 59.829952239990234, 51.22274398803711, 43.07221603393555, 49.10182571411133, 35.5211067199707, 44.6243782043457, 40.14118576049805, 39.48976135253906, 33.648563385009766, 108.09497833251953, 28.84599494934082, 20.200176239013672, 17.319828033447266, 17.319828033447266, 17.31809425354004, 17.31753921508789, 17.315832138061523, 16.358545303344727, 15.396865844726562, 14.438272476196289, 14.438272476196289, 14.436344146728516, 14.430851936340332, 13.477755546569824, 13.477742195129395, 13.476043701171875, 11.551753044128418, 10.593062400817871, 10.588377952575684, 10.586989402770996, 9.632110595703125, 40.07895278930664, 8.674251556396484, 8.674251556396484, 8.674251556396484, 8.674251556396484, 8.668103218078613, 17.29222297668457, 28.35299301147461, 27.88104820251465, 55.340240478515625, 15.397595405578613, 41.314964294433594, 70.1439437866211, 55.58058166503906, 64.23361206054688, 64.14390563964844, 53.103546142578125, 33.148311614990234, 90.84300994873047, 246.12625122070312, 43.77335739135742, 43.053016662597656, 46.25989532470703, 39.943077087402344, 18.195697784423828, 30.88408851623535, 73.34957885742188, 56.052330017089844, 103.42005157470703, 99.20028686523438, 49.19541931152344, 31.515239715576172, 77.04769897460938, 80.10223388671875, 33.61666488647461, 61.26854705810547, 44.36491012573242, 47.366424560546875, 100.90438842773438, 48.825103759765625, 77.23246765136719, 65.12626647949219, 91.06157684326172, 52.586307525634766, 92.11849212646484, 109.45474243164062, 65.85469055175781, 79.8854751586914, 85.48780822753906, 65.62428283691406, 72.21844482421875, 77.64180755615234, 71.88260650634766, 58.29210662841797, 72.28119659423828, 76.86591339111328, 98.11994934082031, 50.03459548950195, 44.26823425292969, 31.765111923217773, 22.150047302246094, 20.225566864013672, 18.283103942871094, 36.575748443603516, 17.339799880981445, 17.339149475097656, 17.337543487548828, 16.34540557861328, 15.418004989624023, 15.417189598083496, 15.415855407714844, 15.408235549926758, 14.456320762634277, 14.454846382141113, 14.450444221496582, 13.494619369506836, 13.49463176727295, 13.484288215637207, 12.532879829406738, 12.532879829406738, 12.532914161682129, 12.532876014709473, 11.558428764343262, 11.557068824768066, 15.415006637573242, 15.30435562133789, 73.00513458251953, 60.61663818359375, 81.93881225585938, 43.93052291870117, 131.151611328125, 45.32020950317383, 26.078933715820312, 26.71822738647461, 19.05946159362793, 22.283857345581055, 54.24282455444336, 25.062294006347656, 37.6580924987793, 31.76676368713379, 40.45766067504883, 31.489063262939453, 144.58807373046875, 54.10496520996094, 132.9851531982422, 72.19374084472656, 311.4109191894531, 54.80344772338867, 165.85797119140625, 34.46830749511719, 64.65933990478516, 54.997676849365234, 38.87269592285156, 53.053157806396484, 51.51407241821289, 67.52042388916016, 121.62028503417969, 47.801753997802734, 52.48701095581055, 77.4208984375, 76.07997131347656, 97.68766021728516, 68.91734313964844, 70.32671356201172, 67.57540893554688, 59.024497985839844, 59.16257095336914, 53.95005798339844, 56.7139778137207, 54.73605728149414, 55.39244842529297, 54.62452697753906, 73.70710754394531, 29.71816635131836, 26.848560333251953, 25.89211654663086, 22.037841796875, 19.1872501373291, 19.1872501373291, 19.183265686035156, 16.313358306884766, 15.355497360229492, 15.35482120513916, 46.8582763671875, 14.398064613342285, 14.398037910461426, 14.398037910461426, 14.383358001708984, 28.763269424438477, 13.440227508544922, 13.440227508544922, 13.440227508544922, 13.440223693847656, 13.439676284790039, 13.43864631652832, 13.437856674194336, 26.796279907226562, 12.482358932495117, 12.48239517211914, 12.482358932495117, 12.482358932495117, 75.50403594970703, 28.483469009399414, 19.1872501373291, 19.1872501373291, 58.80791091918945, 58.20170593261719, 24.930635452270508, 17.250043869018555, 39.160240173339844, 32.06094741821289, 52.49618148803711, 37.10529327392578, 58.019439697265625, 32.79836654663086, 92.03219604492188, 70.9788589477539, 30.678857803344727, 54.22063446044922, 41.212608337402344, 54.622314453125, 53.68132781982422, 40.893978118896484, 39.301116943359375, 52.484657287597656, 169.33056640625, 238.63885498046875, 55.008140563964844, 73.56959533691406, 61.262306213378906, 72.80938720703125, 79.42948150634766, 46.55995178222656, 53.50067901611328, 59.65095901489258, 65.02253723144531, 55.68159103393555, 68.93936157226562, 67.37240600585938, 57.39105224609375, 61.8946647644043, 54.067909240722656, 53.73781967163086, 52.62776184082031, 40.27771759033203, 31.675952911376953, 30.716793060302734, 24.956968307495117, 23.04056739807129, 22.088531494140625, 21.12286376953125, 18.24338722229004, 17.290180206298828, 16.333213806152344, 15.374427795410156, 15.373676300048828, 76.75176239013672, 12.49405574798584, 11.539107322692871, 10.580057144165039, 37.857112884521484, 21.12826156616211, 9.619489669799805, 9.611649513244629, 8.661524772644043, 8.65967845916748, 8.657946586608887, 7.686131000518799, 7.696935176849365, 7.675679683685303, 6.743946075439453, 6.743917942047119, 6.743917942047119, 6.743917942047119, 507.0715637207031, 13.45565128326416, 416.5016174316406, 11.538304328918457, 22.248170852661133, 54.45013427734375, 23.90792465209961, 23.939970016479492, 25.904726028442383, 148.27130126953125, 78.50837707519531, 70.31765747070312, 34.39125061035156, 32.465030670166016, 51.49873733520508, 23.04736328125, 32.318809509277344, 27.622201919555664, 27.851036071777344, 27.45784568786621, 56.915531158447266, 72.33325958251953, 87.51019287109375, 71.50878143310547, 59.55134963989258, 98.35800170898438, 44.64474868774414, 65.85806274414062, 35.91551208496094, 54.25905227661133, 84.71224212646484, 84.73579406738281, 45.74277114868164, 33.034915924072266, 44.11922836303711, 75.29959869384766, 91.4283447265625, 62.2216682434082, 46.33293914794922, 44.182640075683594, 38.364280700683594, 45.483421325683594, 38.67124938964844, 41.14058303833008, 39.994140625, 30.51201057434082, 31.180727005004883, 23.777244567871094, 21.937559127807617, 20.032621383666992, 20.032621383666992, 19.080835342407227, 18.128578186035156, 18.127986907958984, 18.126811981201172, 17.17536735534668, 16.223581314086914, 16.22191047668457, 16.210355758666992, 15.271278381347656, 15.271278381347656, 15.271278381347656, 15.271278381347656, 15.271278381347656, 15.27125072479248, 15.26998519897461, 15.269684791564941, 13.366183280944824, 13.366183280944824, 13.366183280944824, 13.366183280944824, 13.366183280944824, 13.366183280944824, 12.413631439208984, 12.413634300231934, 38.9121208190918, 51.67617416381836, 27.092809677124023, 152.65420532226562, 21.938507080078125, 149.94248962402344, 58.185768127441406, 20.976055145263672, 62.432125091552734, 34.27648162841797, 39.9662971496582, 37.511497497558594, 29.559438705444336, 67.80088806152344, 21.93828010559082, 26.695825576782227, 52.362918853759766, 50.34236526489258, 29.19891357421875, 62.442928314208984, 58.02510452270508, 21.883075714111328, 27.399974822998047, 190.8749542236328, 42.58293533325195, 93.29151153564453, 50.597938537597656, 51.176483154296875, 88.48858642578125, 45.741065979003906, 80.27252960205078, 119.45570373535156, 179.37567138671875, 92.44818115234375, 43.94809341430664, 64.39642333984375, 65.78531646728516, 51.865535736083984, 68.81777954101562, 49.34248352050781, 55.97281265258789, 66.70673370361328, 75.09019470214844, 71.31790161132812, 63.57126235961914, 60.317901611328125, 58.711692810058594, 62.537723541259766, 52.0634765625, 40.17787551879883, 31.58437728881836, 25.847806930541992, 24.884540557861328, 19.15338897705078, 17.215513229370117, 15.187719345092773, 14.372270584106445, 29.550941467285156, 13.41679859161377, 13.411097526550293, 83.9465103149414, 12.3961820602417, 11.50432300567627, 11.500654220581055, 64.36962890625, 10.548544883728027, 10.543231010437012, 36.761009216308594, 20.107500076293945, 30.300426483154297, 8.636215209960938, 7.679914474487305, 7.653285503387451, 13.417433738708496, 6.724044322967529, 6.724044322967529, 6.723949909210205, 6.7208099365234375, 6.7208099365234375, 241.8726806640625, 51.657840728759766, 12.461009979248047, 12.380777359008789, 25.96121597290039, 37.65574264526367, 23.54176139831543, 39.41461944580078, 36.35050582885742, 197.45652770996094, 81.51420593261719, 28.71096420288086, 232.59153747558594, 164.22462463378906, 88.31684875488281, 45.01839065551758, 26.039695739746094, 85.20511627197266, 61.24678421020508, 32.8326530456543, 33.669578552246094, 71.22138214111328, 46.66899108886719, 81.08231353759766, 213.8483123779297, 55.44676208496094, 117.7306900024414, 122.547119140625, 112.50891876220703, 86.41787719726562, 80.50963592529297, 97.87309265136719, 54.01084899902344, 50.02655029296875, 63.035736083984375, 50.86959457397461, 52.74766159057617, 51.72058868408203, 57.48368453979492, 54.763710021972656, 49.328041076660156, 50.06352233886719, 36.149715423583984, 33.298004150390625, 29.501190185546875, 28.54849624633789, 25.695369720458984, 24.743770599365234, 23.797077178955078, 22.846582412719727, 22.83637237548828, 19.043437957763672, 15.237187385559082, 30.447032928466797, 14.290743827819824, 14.290743827819824, 14.28951644897461, 14.287555694580078, 13.340056419372559, 13.340060234069824, 13.340060234069824, 13.337920188903809, 12.389366149902344, 12.387702941894531, 12.363194465637207, 10.488009452819824, 9.537317276000977, 9.536392211914062, 9.536392211914062, 9.534510612487793, 8.585822105407715, 17.05644416809082, 22.826032638549805, 15.145334243774414, 14.287033081054688, 14.290743827819824, 14.209280014038086, 62.287384033203125, 15.62975788116455, 26.14264488220215, 70.37850952148438, 29.428335189819336, 30.307205200195312, 27.639070510864258, 49.23136520385742, 21.638263702392578, 52.17778015136719, 31.38437271118164, 216.0303497314453, 43.91595458984375, 53.44264602661133, 42.81116485595703, 64.65804290771484, 72.17950439453125, 58.888641357421875, 42.45157241821289, 141.36709594726562, 75.70130157470703, 60.996620178222656, 45.05280303955078, 54.68302536010742, 49.94254684448242, 100.80011749267578, 42.904781341552734, 57.38078308105469, 46.70793533325195, 70.11042022705078, 41.778682708740234, 52.31058120727539, 52.361167907714844, 52.28415298461914, 56.4947395324707, 44.78333282470703, 44.91375732421875, 44.110843658447266, 44.78116989135742, 40.85810470581055, 37.0639762878418, 28.518709182739258, 27.569238662719727, 25.67072105407715, 25.67072105407715, 23.771440505981445, 22.82025146484375, 48.38222122192383, 21.86873435974121, 20.92253303527832, 15.203039169311523, 14.24842357635498, 13.325427055358887, 13.325427055358887, 13.325427055358887, 13.325427055358887, 13.325424194335938, 13.3250150680542, 12.375781059265137, 12.375782012939453, 12.364180564880371, 11.426149368286133, 11.425734519958496, 11.414292335510254, 20.913970947265625, 9.51445198059082, 7.627581596374512, 39.75001525878906, 28.492319107055664, 19.970565795898438, 49.7397346496582, 47.3796272277832, 97.69621276855469, 48.300289154052734, 255.6293487548828, 95.29771423339844, 41.19866943359375, 39.96515655517578, 68.40531158447266, 66.4919662475586, 163.7040252685547, 27.827390670776367, 49.04142379760742, 50.98182678222656, 52.77424621582031, 94.02327728271484, 42.76416015625, 52.261497497558594, 74.6031494140625, 42.13203430175781, 199.6187286376953, 97.43569946289062, 39.915985107421875, 61.466732025146484, 112.245361328125, 57.062049865722656, 125.36070251464844, 90.34990692138672, 56.27227020263672, 92.9072494506836, 58.50314712524414, 63.54039764404297, 57.50398254394531, 57.05426788330078, 55.2695426940918, 51.648834228515625, 52.27328872680664, 50.094818115234375, 64.44955444335938, 48.21459197998047, 32.23409652709961, 73.86444091796875, 18.02912712097168, 18.027997970581055, 16.13545036315918, 16.13545036315918, 15.186906814575195, 14.237125396728516, 14.231650352478027, 13.293375015258789, 13.293375015258789, 13.293375015258789, 26.490005493164062, 12.34601879119873, 9.472543716430664, 8.553718566894531, 28.194433212280273, 7.609237194061279, 38.99075698852539, 5.714508056640625, 5.714508056640625, 5.714508056640625, 11.398674964904785, 16.13545036315918, 4.767136573791504, 4.757560729980469, 4.754932403564453, 14.24073600769043, 86.609619140625, 33.34342956542969, 28.19264030456543, 79.18702697753906, 34.786293029785156, 77.89054107666016, 346.28485107421875, 40.67759704589844, 35.166629791259766, 32.67019271850586, 71.84385681152344, 77.68777465820312, 35.59258270263672, 66.34292602539062, 38.54804611206055, 30.991304397583008, 81.59639739990234, 51.38998031616211, 62.86662292480469, 248.0868682861328, 34.78546142578125, 40.981101989746094, 48.24710464477539, 125.58419799804688, 45.347869873046875, 40.955726623535156, 43.16893768310547, 101.53932189941406, 100.18910217285156, 78.4988784790039, 45.02610397338867, 102.51107025146484, 70.72638702392578, 51.920509338378906, 55.72573471069336, 52.67578887939453, 57.455448150634766, 51.79390335083008, 47.99934768676758, 44.621822357177734, 45.22922134399414, 44.6778564453125, 19.029455184936523, 18.075664520263672, 36.121559143066406, 17.1253719329834, 15.229670524597168, 15.229668617248535, 15.228767395019531, 30.42879867553711, 14.27972412109375, 14.27972412109375, 26.626235961914062, 11.42791748046875, 10.479926109313965, 10.476980209350586, 10.447620391845703, 9.529982566833496, 9.529982566833496, 9.523299217224121, 8.580035209655762, 8.580035209655762, 8.577593803405762, 8.556694984436035, 16.12958335876465, 15.229670524597168, 7.630082607269287, 7.61769437789917, 14.228870391845703, 13.299575805664062, 5.730169296264648, 11.424820899963379, 27.043819427490234, 26.587860107421875, 17.97796058654785, 15.121793746948242, 29.478853225708008, 29.043624877929688, 30.439292907714844, 81.55937957763672, 17.129358291625977, 30.01954460144043, 19.978809356689453, 33.057762145996094, 27.67144012451172, 34.72968673706055, 26.092966079711914, 32.34538650512695, 69.24537658691406, 58.81658172607422, 31.33961296081543, 158.1355743408203, 27.32754135131836, 125.83820343017578, 65.79472351074219, 119.3127670288086, 36.194114685058594, 43.2009391784668, 40.26772689819336, 87.7192153930664, 29.478851318359375, 43.77687072753906, 37.821258544921875, 42.66807556152344, 37.965084075927734, 69.20438385009766, 86.2377700805664, 72.05756378173828, 50.24049377441406, 63.14471435546875, 41.73480987548828, 59.624515533447266, 61.41804885864258, 52.226280212402344, 56.294708251953125, 43.52036666870117, 55.579185485839844, 50.06488800048828, 56.40485763549805, 46.928070068359375, 43.51543045043945, 47.77020263671875, 44.931331634521484, 46.852447509765625, 43.213314056396484, 28.36799430847168, 26.47456932067871, 26.47397232055664, 25.532320022583008, 23.64495849609375, 20.811290740966797, 18.921720504760742, 17.977170944213867, 17.03054428100586, 16.044517517089844, 15.142881393432617, 15.138766288757324, 14.197364807128906, 14.186346054077148, 30.05759048461914, 13.254627227783203, 13.254627227783203, 13.254627227783203, 13.254627227783203, 13.254627227783203, 13.251869201660156, 13.245257377624512, 12.307294845581055, 12.307173728942871, 11.365039825439453, 11.363822937011719, 11.355714797973633, 21.727964401245117, 10.420863151550293, 10.420838356018066, 28.36799430847168, 18.4616756439209, 24.587543487548828, 38.436302185058594, 20.82951545715332, 28.48080062866211, 70.96839141845703, 29.914398193359375, 46.66846466064453, 14.983078956604004, 32.558631896972656, 36.15595245361328, 28.353330612182617, 20.0438289642334, 40.53936004638672, 96.82777404785156, 44.81114196777344, 65.21563720703125, 43.46841049194336, 28.70681381225586, 167.3398895263672, 37.38764572143555, 55.84032440185547, 47.78775405883789, 99.21685028076172, 49.86709976196289, 54.109718322753906, 50.315677642822266, 50.17517852783203, 54.72245788574219, 56.02149200439453, 57.217750549316406, 39.23958969116211, 34.3169059753418, 36.22197341918945, 35.407875061035156, 35.68743896484375, 31.333524703979492, 34.64619827270508, 34.82903289794922, 34.77388381958008, 34.035484313964844, 55.92168426513672, 54.9712028503418, 44.551841735839844, 42.65999221801758, 36.01473617553711, 27.500577926635742, 27.50012969970703, 26.54133415222168, 22.766294479370117, 22.765382766723633, 116.41152954101562, 18.01991081237793, 16.13494300842285, 15.186908721923828, 13.288958549499512, 11.39768123626709, 55.111881256103516, 10.44677734375, 9.493289947509766, 27.464691162109375, 14.183737754821777, 6.646448135375977, 32.29661178588867, 5.714077949523926, 5.713139533996582, 5.704082489013672, 19.385818481445312, 10.441286087036133, 16.856590270996094, 4.767175674438477, 33.08992385864258, 26.43682098388672, 14.962679862976074, 14.784903526306152, 29.080244064331055, 49.703365325927734, 28.974985122680664, 157.4578094482422, 52.271873474121094, 41.90365982055664, 58.55975341796875, 22.652700424194336, 146.475341796875, 40.34525680541992, 42.4525146484375, 42.85438919067383, 66.60055541992188, 87.22454833984375, 43.68922805786133, 55.82755661010742, 78.89283752441406, 58.805572509765625, 60.16433334350586, 59.835689544677734, 61.59066390991211, 48.22064208984375, 38.00369644165039, 44.00959396362305, 40.06177520751953, 39.80276107788086, 37.850711822509766, 48.134029388427734, 185.8693084716797, 148.83909606933594, 15.121603012084961, 13.23613166809082, 13.214231491088867, 10.406124114990234, 10.389159202575684, 9.463090896606445, 9.460949897766113, 9.45901870727539, 8.519672393798828, 8.5185546875, 8.518739700317383, 8.51168441772461, 8.512654304504395, 16.06572914123535, 7.5763750076293945, 7.5752854347229, 7.566914081573486, 6.633172035217285, 6.63230037689209, 6.6315178871154785, 6.630692005157471, 5.68931245803833, 5.68931245803833, 5.686070442199707, 181.10597229003906, 4.745222091674805, 4.740311145782471, 14.124391555786133, 13.966333389282227, 15.466431617736816, 124.21793365478516, 77.56818389892578, 26.21118927001953, 33.914222717285156, 17.665159225463867, 71.5859146118164, 80.68084716796875, 19.688644409179688, 13.23613166809082, 19.627981185913086, 18.697568893432617, 16.671552658081055, 21.31481170654297, 13.354684829711914, 44.38264083862305, 14.021905899047852, 46.09645462036133, 45.981197357177734, 21.25343894958496, 35.967716217041016, 122.45079803466797, 30.55752182006836, 74.62577056884766, 27.385007858276367, 23.61710548400879, 42.324981689453125, 27.97492027282715, 56.52177047729492, 38.429039001464844, 45.66019058227539, 31.213153839111328, 55.332969665527344, 42.23609161376953, 27.95242691040039, 29.576261520385742, 32.42744064331055, 32.201045989990234, 28.070363998413086, 27.485923767089844, 105.00999450683594, 78.76510620117188, 57.195674896240234, 45.02165985107422, 39.39774703979492, 36.58579635620117, 15.96064567565918, 15.0274658203125, 14.090149879455566, 14.090150833129883, 14.089826583862305, 14.089741706848145, 13.152832984924316, 13.152832984924316, 13.152835845947266, 13.152832984924316, 13.152832984924316, 13.152832984924316, 13.152832984924316, 13.152435302734375, 13.151665687561035, 38.460426330566406, 12.2155122756958, 12.215513229370117, 12.2155122756958, 12.21551513671875, 12.2155122756958, 12.21551513671875, 12.2155122756958, 12.2155122756958, 130.71890258789062, 80.45532989501953, 101.09076690673828, 52.49992752075195, 53.91810607910156, 53.91810607910156, 15.958765029907227, 89.68697357177734, 85.1541748046875, 28.869722366333008, 51.41341781616211, 30.961183547973633, 47.02922821044922, 54.470855712890625, 95.73196411132812, 25.211551666259766, 47.87248611450195, 124.20170593261719, 40.994293212890625, 17.812253952026367, 65.25543212890625, 69.60423278808594, 57.55387878417969, 45.75700378417969, 80.81709289550781, 44.788108825683594, 63.903255462646484, 46.52956008911133, 47.601932525634766, 45.64598846435547, 39.41912841796875], \"Term\": [\"amp\", \"feet\", \"mrs\", \"sale\", \"co\", \"lot\", \"bbls\", \"miss\", \"main\", \"goods\", \"per\", \"street\", \"acres\", \"stock\", \"richmond\", \"oclock\", \"new\", \"court\", \"oil\", \"st\", \"wm\", \"point\", \"ladies\", \"county\", \"cents\", \"bank\", \"charged\", \"schr\", \"great\", \"order\", \"singers\", \"slavery\", \"shuttle\", \"revolution\", \"palmetto\", \"crisis\", \"consequences\", \"dissolution\", \"sectional\", \"whenever\", \"mistaken\", \"sovereign\", \"singer\", \"popularity\", \"withdraw\", \"ordnance\", \"needles\", \"abide\", \"governments\", \"opinions\", \"principles\", \"conservative\", \"unequaled\", \"equality\", \"thread\", \"courage\", \"sections\", \"gratis\", \"permit\", \"emergency\", \"rights\", \"secede\", \"consider\", \"disunion\", \"institutions\", \"constitutional\", \"constitution\", \"government\", \"let\", \"liberty\", \"people\", \"action\", \"laws\", \"interests\", \"power\", \"defence\", \"peace\", \"machines\", \"south\", \"southern\", \"resolved\", \"union\", \"federal\", \"political\", \"subject\", \"question\", \"flag\", \"states\", \"party\", \"us\", \"citizens\", \"may\", \"men\", \"state\", \"carolina\", \"true\", \"resolutions\", \"must\", \"country\", \"great\", \"ever\", \"present\", \"time\", \"north\", \"new\", \"make\", \"one\", \"made\", \"virginia\", \"negotiable\", \"dwelling\", \"fodder\", \"implements\", \"utensils\", \"trustee\", \"occupancy\", \"worbinton\", \"murray\", \"deed\", \"retained\", \"thereafter\", \"reside\", \"executor\", \"dtd\", \"timber\", \"cows\", \"pleasantly\", \"farming\", \"clopton\", \"fourteenth\", \"refectory\", \"beneficiary\", \"landrum\", \"td\", \"deitrick\", \"premises\", \"coco\", \"boar\", \"script\", \"carts\", \"trust\", \"title\", \"kitchen\", \"virtue\", \"added\", \"convenient\", \"recorded\", \"apperson\", \"aucts\", \"farm\", \"auction\", \"trustees\", \"fair\", \"excellent\", \"november\", \"valuable\", \"months\", \"credit\", \"terms\", \"cash\", \"sell\", \"land\", \"day\", \"court\", \"balance\", \"sale\", \"containing\", \"oclock\", \"house\", \"interest\", \"furniture\", \"acres\", \"county\", \"good\", \"one\", \"amp\", \"two\", \"next\", \"public\", \"rooms\", \"lot\", \"feet\", \"richmond\", \"russia\", \"royal\", \"plow\", \"chinese\", \"hammered\", \"italy\", \"victor\", \"treaty\", \"began\", \"emperor\", \"tinners\", \"enormous\", \"bolt\", \"ships\", \"countries\", \"metals\", \"wales\", \"spelter\", \"sufferers\", \"curiosity\", \"emanuel\", \"journals\", \"shampooing\", \"considers\", \"newspapers\", \"sardinian\", \"napier\", \"parliament\", \"consumptive\", \"empress\", \"spain\", \"admirable\", \"prince\", \"newspaper\", \"allies\", \"british\", \"memory\", \"garibaldi\", \"sea\", \"france\", \"correspondent\", \"tribune\", \"forts\", \"london\", \"england\", \"duke\", \"naples\", \"scarcely\", \"american\", \"english\", \"sheet\", \"times\", \"hundred\", \"visit\", \"press\", \"except\", \"war\", \"one\", \"work\", \"iron\", \"two\", \"great\", \"another\", \"years\", \"first\", \"five\", \"much\", \"french\", \"man\", \"four\", \"large\", \"good\", \"men\", \"new\", \"york\", \"well\", \"ala\", \"ga\", \"kings\", \"acquia\", \"senate\", \"delegates\", \"dine\", \"electors\", \"dayton\", \"checked\", \"toombs\", \"banner\", \"jeffersonville\", \"vouched\", \"decatur\", \"weilbacher\", \"reporting\", \"columbus\", \"vincennes\", \"zanesville\", \"deputy\", \"survey\", \"meetings\", \"episcopal\", \"stephens\", \"milledgeville\", \"scoured\", \"engage\", \"privileges\", \"curators\", \"laurel\", \"district\", \"convention\", \"washington\", \"alabama\", \"senator\", \"georgia\", \"citizen\", \"mount\", \"rev\", \"hon\", \"elected\", \"md\", \"lincolns\", \"elect\", \"bill\", \"election\", \"charlotte\", \"montgomery\", \"legislature\", \"gov\", \"secession\", \"states\", \"passed\", \"carolina\", \"state\", \"president\", \"nov\", \"united\", \"baltimore\", \"night\", \"tickets\", \"mr\", \"house\", \"church\", \"new\", \"north\", \"held\", \"va\", \"york\", \"day\", \"county\", \"last\", \"south\", \"city\", \"one\", \"next\", \"following\", \"richmond\", \"mats\", \"kerosine\", \"tete\", \"pitchers\", \"stebbins\", \"pullen\", \"castors\", \"warmers\", \"hods\", \"salts\", \"housekeepers\", \"urns\", \"medal\", \"rebuilt\", \"candlesticks\", \"sills\", \"japanned\", \"solferinos\", \"striped\", \"ext\", \"olive\", \"chandeliers\", \"eps\", \"trays\", \"bronze\", \"binford\", \"decorated\", \"maroon\", \"cobham\", \"diploma\", \"bulkley\", \"baskets\", \"candies\", \"smoking\", \"tea\", \"dove\", \"bonnets\", \"moncure\", \"davenport\", \"chewing\", \"fruits\", \"ware\", \"sumner\", \"sets\", \"caps\", \"amp\", \"oil\", \"examine\", \"dunlop\", \"co\", \"opening\", \"dishes\", \"tobacco\", \"purchasers\", \"dinner\", \"sale\", \"silver\", \"goods\", \"druggists\", \"solicited\", \"wholesale\", \"stock\", \"low\", \"call\", \"respectfully\", \"main\", \"large\", \"french\", \"class\", \"st\", \"cigars\", \"attention\", \"iron\", \"street\", \"richmond\", \"va\", \"made\", \"assortment\", \"sold\", \"ladies\", \"linseys\", \"velours\", \"merinos\", \"poplins\", \"magenta\", \"slips\", \"delaines\", \"kid\", \"marguerite\", \"ply\", \"sheetings\", \"ingrain\", \"satinets\", \"buggies\", \"antique\", \"shilling\", \"balmoral\", \"arab\", \"wireman\", \"linens\", \"fuchsia\", \"merinoes\", \"betn\", \"closest\", \"lombard\", \"rockaway\", \"mitteldorfer\", \"sulkies\", \"solferino\", \"barouches\", \"levy\", \"fulled\", \"heels\", \"milch\", \"cloaks\", \"wooden\", \"silks\", \"linen\", \"lace\", \"black\", \"ladies\", \"cloths\", \"carpets\", \"housekeeping\", \"plaid\", \"goods\", \"prices\", \"gaiters\", \"colored\", \"collars\", \"blankets\", \"bargains\", \"ask\", \"variety\", \"worth\", \"styles\", \"fine\", \"stock\", \"dry\", \"assortment\", \"dress\", \"broad\", \"amp\", \"sold\", \"call\", \"new\", \"cts\", \"large\", \"low\", \"fancy\", \"main\", \"sell\", \"best\", \"st\", \"great\", \"funeral\", \"grandfather\", \"detroit\", \"niagara\", \"burned\", \"apples\", \"drowned\", \"oswego\", \"residing\", \"chalet\", \"acquaintances\", \"terrible\", \"height\", \"brett\", \"explosion\", \"harrisburg\", \"reliability\", \"cwt\", \"chimney\", \"deck\", \"rigney\", \"prem\", \"bus\", \"hardwick\", \"forest\", \"surveying\", \"boiler\", \"trap\", \"mathematics\", \"gale\", \"snow\", \"milk\", \"falls\", \"help\", \"hamilton\", \"mother\", \"roof\", \"station\", \"daylight\", \"chicago\", \"buffalo\", \"dead\", \"occurred\", \"air\", \"struck\", \"died\", \"discovered\", \"death\", \"away\", \"fell\", \"route\", \"go\", \"night\", \"little\", \"new\", \"last\", \"fire\", \"children\", \"one\", \"morning\", \"friends\", \"time\", \"take\", \"took\", \"taken\", \"mr\", \"wife\", \"water\", \"old\", \"way\", \"open\", \"life\", \"may\", \"three\", \"near\", \"place\", \"house\", \"still\", \"york\", \"year\", \"many\", \"oclock\", \"st\", \"first\", \"week\", \"teacher\", \"colonel\", \"battalion\", \"latin\", \"troop\", \"oregon\", \"permission\", \"democrats\", \"adjutant\", \"monahan\", \"classical\", \"adjt\", \"vacation\", \"ashore\", \"algebra\", \"philosophy\", \"arithmetic\", \"geography\", \"grammar\", \"wing\", \"teaches\", \"tuition\", \"frazer\", \"botany\", \"chemistry\", \"stationed\", \"pickets\", \"commissioned\", \"merchandize\", \"twymans\", \"regiment\", \"wounded\", \"col\", \"assisted\", \"lieut\", \"camp\", \"motion\", \"troops\", \"bryant\", \"fort\", \"artillery\", \"companies\", \"captured\", \"messrs\", \"gen\", \"indians\", \"san\", \"cavalry\", \"francisco\", \"report\", \"news\", \"esq\", \"number\", \"officers\", \"mr\", \"arrived\", \"capt\", \"company\", \"army\", \"branches\", \"two\", \"lewis\", \"last\", \"general\", \"one\", \"following\", \"men\", \"new\", \"years\", \"four\", \"city\", \"state\", \"french\", \"several\", \"swamp\", \"deg\", \"harvies\", \"maddoxville\", \"winstons\", \"tempest\", \"fulton\", \"ropewalk\", \"filed\", \"listed\", \"concord\", \"olivia\", \"stanard\", \"exrs\", \"scotland\", \"parsons\", \"duvals\", \"hampton\", \"elm\", \"haley\", \"gwinn\", \"angles\", \"oakland\", \"maule\", \"claremont\", \"engraved\", \"haden\", \"jordon\", \"emett\", \"mitchells\", \"acre\", \"chelsea\", \"thence\", \"nos\", \"plan\", \"heirs\", \"irby\", \"charged\", \"feet\", \"boat\", \"heretofore\", \"shed\", \"fronting\", \"lots\", \"lot\", \"acres\", \"square\", \"mayos\", \"conveyed\", \"goddin\", \"estate\", \"adjoining\", \"running\", \"near\", \"mill\", \"street\", \"part\", \"wife\", \"st\", \"back\", \"land\", \"wm\", \"capt\", \"james\", \"line\", \"tincture\", \"hamptons\", \"sattler\", \"prescriptions\", \"putty\", \"compounded\", \"dye\", \"cures\", \"varnishes\", \"dressing\", \"furnaces\", \"mortimer\", \"plumbing\", \"cwts\", \"mowbray\", \"jobbing\", \"boilers\", \"roofing\", \"gault\", \"canot\", \"donnelly\", \"bogwell\", \"motts\", \"guttering\", \"leeching\", \"cupping\", \"wessons\", \"shopkeepers\", \"inks\", \"pollards\", \"rheumatism\", \"drugs\", \"paints\", \"chemicals\", \"brushes\", \"oils\", \"stuffs\", \"peterson\", \"seeds\", \"presses\", \"marcus\", \"shooters\", \"medicines\", \"stoves\", \"perfumery\", \"leeches\", \"bro\", \"fluid\", \"artists\", \"drug\", \"reliable\", \"articles\", \"keeps\", \"amp\", \"store\", \"fresh\", \"burning\", \"co\", \"main\", \"kinds\", \"hand\", \"sale\", \"cigars\", \"best\", \"druggists\", \"hotel\", \"street\", \"stock\", \"large\", \"streets\", \"take\", \"st\", \"corner\", \"wm\", \"well\", \"richmond\", \"dull\", \"doz\", \"pork\", \"mess\", \"unchanged\", \"parr\", \"quotations\", \"rosin\", \"heats\", \"ginter\", \"norberg\", \"arents\", \"mh\", \"centrals\", \"quoted\", \"pointer\", \"solvent\", \"unsettled\", \"offerings\", \"attractions\", \"nominally\", \"buoyant\", \"middling\", \"norfleet\", \"consols\", \"firmer\", \"polished\", \"potteries\", \"slut\", \"failures\", \"decline\", \"suspension\", \"currency\", \"bales\", \"quiet\", \"hose\", \"steady\", \"mixed\", \"cotton\", \"lower\", \"discount\", \"assistants\", \"firm\", \"banks\", \"qualities\", \"sixth\", \"market\", \"suspended\", \"closed\", \"produce\", \"flour\", \"rice\", \"wheat\", \"corn\", \"nov\", \"cent\", \"york\", \"heavy\", \"sales\", \"new\", \"business\", \"per\", \"exchange\", \"city\", \"money\", \"day\", \"white\", \"amp\", \"richmond\", \"street\", \"bank\", \"va\", \"shovels\", \"anthony\", \"pokers\", \"cinder\", \"edgemont\", \"scuttles\", \"moulds\", \"holman\", \"gaiter\", \"certified\", \"unhesitatingly\", \"blower\", \"regulate\", \"moleskin\", \"enamelled\", \"jams\", \"slabs\", \"cylinder\", \"heeled\", \"cos\", \"hawleys\", \"consignees\", \"trips\", \"tongs\", \"hogsheads\", \"berths\", \"alterations\", \"fitter\", \"seasons\", \"substantial\", \"langley\", \"sail\", \"cargo\", \"heller\", \"burners\", \"grates\", \"quick\", \"sailing\", \"sewed\", \"brass\", \"vacant\", \"gas\", \"fault\", \"colquitt\", \"engaged\", \"apply\", \"fenders\", \"oak\", \"shop\", \"freight\", \"carpenter\", \"passage\", \"dispatch\", \"calf\", \"wood\", \"works\", \"greater\", \"board\", \"boots\", \"oc\", \"kinds\", \"brick\", \"ts\", \"coal\", \"amp\", \"pine\", \"portion\", \"wm\", \"office\", \"church\", \"fine\", \"street\", \"give\", \"house\", \"co\", \"st\", \"per\", \"best\", \"received\", \"sale\", \"oclock\", \"new\", \"shares\", \"quote\", \"ton\", \"lb\", \"richings\", \"moxley\", \"landscapes\", \"mortgage\", \"kunkel\", \"allspice\", \"hearth\", \"lessees\", \"perfumeries\", \"bouquets\", \"unbleached\", \"peers\", \"gaston\", \"oz\", \"sulph\", \"costing\", \"renting\", \"emerys\", \"apto\", \"fonts\", \"refd\", \"venet\", \"comedy\", \"bbl\", \"int\", \"phosphate\", \"gothic\", \"bushel\", \"kegs\", \"manager\", \"cents\", \"tons\", \"dividend\", \"lbs\", \"sales\", \"bonds\", \"lumber\", \"scenery\", \"per\", \"recent\", \"bbls\", \"oil\", \"worth\", \"virginia\", \"liverpool\", \"cent\", \"cts\", \"shades\", \"stock\", \"caroline\", \"bank\", \"cheap\", \"last\", \"railroad\", \"richmond\", \"amp\", \"line\", \"bags\", \"large\", \"gold\", \"street\", \"ts\", \"sale\", \"roses\", \"lion\", \"colds\", \"stylish\", \"mortar\", \"durable\", \"savings\", \"compound\", \"garments\", \"swelled\", \"hoarseness\", \"eruptions\", \"cramps\", \"sores\", \"curer\", \"impure\", \"noah\", \"ulcers\", \"biles\", \"cholic\", \"lumsden\", \"diversities\", \"stjan\", \"mailerts\", \"creature\", \"coughs\", \"cashmere\", \"milliner\", \"entrances\", \"tylers\", \"limbs\", \"sign\", \"irving\", \"chronic\", \"apparel\", \"overcoats\", \"hull\", \"wearing\", \"clocks\", \"gelatine\", \"sparkling\", \"laidleys\", \"suits\", \"clothing\", \"wedding\", \"varied\", \"ezekiels\", \"vests\", \"main\", \"coats\", \"diseases\", \"cassimere\", \"spectacles\", \"pains\", \"tupman\", \"jewelry\", \"sts\", \"shirts\", \"corner\", \"dr\", \"gents\", \"street\", \"cheap\", \"watches\", \"price\", \"amp\", \"suit\", \"short\", \"best\", \"made\", \"st\", \"new\", \"style\", \"large\", \"house\", \"per\", \"cts\", \"richmond\", \"goods\", \"co\", \"call\", \"infirmary\", \"refinery\", \"matron\", \"supervision\", \"wellford\", \"mdse\", \"insanity\", \"keene\", \"knotts\", \"grating\", \"belvidere\", \"vault\", \"steward\", \"joynes\", \"mccaw\", \"dorsey\", \"settees\", \"contagious\", \"pembertons\", \"oftener\", \"airy\", \"fractions\", \"pox\", \"aim\", \"patronise\", \"whitney\", \"protoxide\", \"nobby\", \"velveteen\", \"surgeons\", \"patients\", \"sisters\", \"professors\", \"wards\", \"afforded\", \"trunks\", \"charges\", \"attending\", \"hunter\", \"college\", \"medical\", \"hospital\", \"consultation\", \"week\", \"private\", \"treatment\", \"patient\", \"denominations\", \"persons\", \"physicians\", \"visiting\", \"resident\", \"physician\", \"sugars\", \"surgical\", \"rooms\", \"difficulty\", \"slaves\", \"per\", \"charge\", \"white\", \"iron\", \"small\", \"particular\", \"attention\", \"may\", \"city\", \"st\", \"country\", \"day\", \"amp\", \"main\", \"proceeded\", \"entertainment\", \"instructors\", \"rhetoric\", \"maupin\", \"bledsoe\", \"palmerston\", \"proverbially\", \"listen\", \"catharine\", \"locust\", \"likenesses\", \"actions\", \"summoned\", \"galleries\", \"played\", \"portraiture\", \"balloon\", \"alexey\", \"flank\", \"sincere\", \"daring\", \"testimonial\", \"queenstown\", \"missed\", \"faculties\", \"excused\", \"mcchesny\", \"lordship\", \"germans\", \"audience\", \"study\", \"baby\", \"replied\", \"university\", \"poured\", \"powell\", \"blind\", \"literature\", \"sleep\", \"principal\", \"artist\", \"rocks\", \"watch\", \"princess\", \"attack\", \"crowded\", \"reading\", \"music\", \"reputation\", \"brave\", \"gentleman\", \"school\", \"thoroughly\", \"close\", \"know\", \"consignments\", \"might\", \"effort\", \"night\", \"friend\", \"made\", \"appearance\", \"history\", \"man\", \"young\", \"one\", \"mr\", \"get\", \"last\", \"day\", \"well\", \"evening\", \"course\", \"though\", \"give\", \"institute\", \"attention\", \"virginia\", \"good\", \"given\", \"next\", \"like\", \"richmond\", \"great\", \"city\", \"devisees\", \"talley\", \"mattoax\", \"deduct\", \"chula\", \"hardaway\", \"tf\", \"dividends\", \"discounted\", \"haxalls\", \"marketing\", \"thoroughbred\", \"pedigree\", \"deferred\", \"discounts\", \"grundy\", \"contingent\", \"aug\", \"admrs\", \"disbursements\", \"omnibus\", \"delicacies\", \"amateurs\", \"scales\", \"engravings\", \"architects\", \"draughtsmen\", \"lybrock\", \"assets\", \"executing\", \"loans\", \"principe\", \"fund\", \"doswell\", \"steger\", \"purchaser\", \"amelia\", \"statement\", \"directors\", \"september\", \"satisfactory\", \"due\", \"bank\", \"stockholders\", \"receipts\", \"debt\", \"circulation\", \"cultivate\", \"debts\", \"depot\", \"specie\", \"notes\", \"banks\", \"decd\", \"payments\", \"amount\", \"october\", \"annual\", \"oct\", \"payment\", \"tract\", \"virginia\", \"bills\", \"land\", \"year\", \"john\", \"condition\", \"state\", \"st\", \"paid\", \"county\", \"day\", \"railroad\", \"public\", \"stock\", \"made\", \"purchase\", \"one\", \"amp\", \"expresses\", \"arriving\", \"practices\", \"centum\", \"deupree\", \"chastain\", \"ross\", \"learning\", \"cottrell\", \"midlothian\", \"depositions\", \"bayly\", \"pertain\", \"acknowledgments\", \"messengers\", \"realize\", \"fondren\", \"civility\", \"jewish\", \"talcott\", \"trego\", \"landscape\", \"sceneries\", \"synagogue\", \"undone\", \"drayage\", \"attorneys\", \"akin\", \"rufus\", \"intercourse\", \"sundays\", \"packages\", \"courts\", \"freights\", \"express\", \"notary\", \"portrait\", \"joint\", \"periods\", \"lessons\", \"art\", \"certify\", \"arrival\", \"starke\", \"cashier\", \"forwarded\", \"leave\", \"accommodation\", \"daily\", \"adams\", \"richmond\", \"lynchburg\", \"office\", \"chesterfield\", \"immediately\", \"trains\", \"mayo\", \"points\", \"counties\", \"freight\", \"city\", \"rate\", \"train\", \"streets\", \"corner\", \"new\", \"va\", \"york\", \"per\", \"states\", \"public\", \"company\", \"st\", \"house\", \"street\", \"brogans\", \"staunton\", \"mulatto\", \"waynesboro\", \"pegged\", \"pairs\", \"peggy\", \"curly\", \"christiansburg\", \"bonsacks\", \"shawsville\", \"chattanooga\", \"stations\", \"inattention\", \"vision\", \"periscopic\", \"nailed\", \"stages\", \"herricks\", \"hob\", \"danes\", \"swts\", \"opticians\", \"crystals\", \"hagerty\", \"lewisburg\", \"telescopes\", \"millboro\", \"microscopes\", \"mathematical\", \"jacksons\", \"harman\", \"chinn\", \"absconded\", \"thick\", \"ashland\", \"wanting\", \"barns\", \"wade\", \"lexington\", \"webb\", \"sixteen\", \"springs\", \"nott\", \"train\", \"farmers\", \"sulphur\", \"tuesdays\", \"mondays\", \"saturdays\", \"thursdays\", \"fridays\", \"wednesdays\", \"send\", \"richmond\", \"amp\", \"shoes\", \"railroad\", \"dry\", \"river\", \"ts\", \"servants\", \"lewis\", \"assortment\", \"va\", \"make\", \"main\", \"st\", \"oc\", \"co\", \"time\", \"john\", \"house\", \"werth\", \"bedsteads\", \"mattresses\", \"meat\", \"feather\", \"carbon\", \"dining\", \"disc\", \"martha\", \"washstands\", \"pate\", \"divans\", \"coke\", \"wardrobes\", \"cpt\", \"cath\", \"tables\", \"hiring\", \"hoppe\", \"butler\", \"encumbrance\", \"excelled\", \"concerts\", \"exterminate\", \"sideboard\", \"blankinship\", \"refrigerator\", \"rat\", \"mice\", \"killer\", \"mrs\", \"sofas\", \"miss\", \"dray\", \"jane\", \"chairs\", \"beds\", \"cane\", \"buggy\", \"jno\", \"cook\", \"mary\", \"washer\", \"ironer\", \"load\", \"pastry\", \"marble\", \"bread\", \"accustomed\", \"mahogany\", \"horse\", \"young\", \"apply\", \"dr\", \"agent\", \"good\", \"woman\", \"hall\", \"jones\", \"geo\", \"ts\", \"wm\", \"yard\", \"aged\", \"furniture\", \"sale\", \"amp\", \"per\", \"jas\", \"thos\", \"ro\", \"well\", \"household\", \"general\", \"hill\", \"eddy\", \"premiums\", \"tuscaloosa\", \"sherry\", \"otard\", \"hennessey\", \"wallaces\", \"bumgardners\", \"cognac\", \"belvins\", \"jamaica\", \"jules\", \"medals\", \"robin\", \"hangers\", \"vieux\", \"castilon\", \"flasks\", \"abneys\", \"delaine\", \"monongahela\", \"setts\", \"copperas\", \"cochineal\", \"sazarac\", \"nutmegs\", \"brimstone\", \"petre\", \"govr\", \"flor\", \"apple\", \"delaware\", \"madeira\", \"mechanics\", \"richardsons\", \"institute\", \"wines\", \"connecticut\", \"missouri\", \"rye\", \"robertson\", \"maryland\", \"robes\", \"brandy\", \"whiskeys\", \"fairs\", \"agricultural\", \"kentucky\", \"wilmington\", \"butter\", \"louis\", \"vermont\", \"indiana\", \"new\", \"association\", \"price\", \"supplied\", \"keep\", \"oil\", \"brands\", \"sts\", \"co\", \"amp\", \"virginia\", \"whiskey\", \"cents\", \"fair\", \"fresh\", \"received\", \"pure\", \"franklin\", \"york\", \"richmond\", \"st\", \"state\", \"old\", \"next\", \"sale\", \"oc\", \"consignment\", \"kits\", \"arrd\", \"cld\", \"ira\", \"rockland\", \"prunes\", \"trooper\", \"booth\", \"ration\", \"schrs\", \"sergt\", \"reg\", \"comdg\", \"punctually\", \"drill\", \"hdqrs\", \"rady\", \"mdze\", \"salesman\", \"sailed\", \"sardines\", \"sergeants\", \"almonds\", \"discontinue\", \"pecan\", \"walnuts\", \"squads\", \"briel\", \"threshing\", \"schr\", \"assemble\", \"fatigue\", \"drums\", \"accoutrements\", \"parade\", \"nuts\", \"bridgford\", \"uniform\", \"order\", \"light\", \"antoni\", \"oclock\", \"nov\", \"evening\", \"steamship\", \"pleased\", \"hall\", \"attend\", \"member\", \"armory\", \"half\", \"arrived\", \"river\", \"amp\", \"door\", \"co\", \"st\", \"new\", \"york\", \"next\", \"richmond\", \"orders\", \"friday\", \"call\", \"capt\", \"company\", \"business\", \"main\", \"street\", \"auction\", \"fine\", \"appliances\", \"medicinal\", \"dissecting\", \"pianos\", \"chests\", \"porte\", \"trusses\", \"fringes\", \"pharmaceutists\", \"monnaies\", \"governing\", \"brackett\", \"obstetrical\", \"hospitals\", \"vendors\", \"elastic\", \"bottled\", \"airiness\", \"diem\", \"corsets\", \"mcconnal\", \"goldsmits\", \"crochet\", \"frs\", \"plush\", \"shetland\", \"tarlatans\", \"manufactories\", \"underwear\", \"plantations\", \"shirt\", \"examinations\", \"cyrus\", \"privacy\", \"wares\", \"meade\", \"include\", \"cambric\", \"surgical\", \"rules\", \"bet\", \"hancock\", \"post\", \"goldsmit\", \"baker\", \"instruments\", \"st\", \"resident\", \"petersburg\", \"hospital\", \"styles\", \"late\", \"medical\", \"medicine\", \"main\", \"broad\", \"week\", \"physicians\", \"full\", \"cheap\", \"amp\", \"machines\", \"corner\", \"quality\", \"sale\", \"rich\", \"made\", \"goods\", \"large\", \"richmond\", \"office\", \"per\", \"best\", \"street\", \"gentlemens\", \"newest\", \"cohoke\", \"tunstalls\", \"biglers\", \"signals\", \"behle\", \"superintends\", \"image\", \"gwatkin\", \"cappahoosic\", \"tenders\", \"compete\", \"oaks\", \"mattaponi\", \"shepherds\", \"saluda\", \"defies\", \"lurking\", \"tidy\", \"buskins\", \"brandies\", \"moodys\", \"devereux\", \"ale\", \"oxford\", \"ottoman\", \"urbanna\", \"matthews\", \"slippers\", \"hired\", \"landing\", \"volume\", \"arrive\", \"shore\", \"point\", \"page\", \"ties\", \"stopping\", \"saturdays\", \"thursdays\", \"west\", \"meadow\", \"portsmouth\", \"eastern\", \"fare\", \"dispatch\", \"mondays\", \"tuesdays\", \"norfolk\", \"fridays\", \"richmond\", \"leave\", \"wednesdays\", \"steamer\", \"stock\", \"chas\", \"street\", \"goods\", \"negro\", \"amp\", \"daily\", \"great\", \"fine\", \"corner\", \"oc\", \"river\", \"large\", \"next\", \"bitters\", \"hams\", \"laguayra\", \"wallace\", \"cider\", \"vinegar\", \"inestimable\", \"substantiated\", \"bandages\", \"mackerelerel\", \"liked\", \"woolhouse\", \"renovators\", \"weakened\", \"couch\", \"sutherlands\", \"frosts\", \"granulated\", \"breasts\", \"parks\", \"molasses\", \"eradicating\", \"dandruff\", \"glossy\", \"diarrh\\u0153a\", \"blasted\", \"baldness\", \"pippins\", \"juanita\", \"steamships\", \"hhds\", \"shoulders\", \"cheese\", \"sons\", \"rio\", \"bacon\", \"bbls\", \"loaf\", \"bakers\", \"jamestown\", \"coffee\", \"boxes\", \"pleasants\", \"sugar\", \"bottle\", \"yorktown\", \"extra\", \"sugars\", \"prime\", \"sale\", \"leaf\", \"suffering\", \"butter\", \"wm\", \"cut\", \"roanoke\", \"afternoon\", \"new\", \"richmond\", \"york\", \"passage\", \"amp\", \"state\", \"cary\", \"va\", \"public\", \"street\", \"years\", \"oclock\", \"use\", \"oc\", \"dist\", \"ralph\", \"royster\", \"eugene\", \"jefford\", \"prudently\", \"lathes\", \"wadsworth\", \"cowardin\", \"inloes\", \"beers\", \"postmaster\", \"minstrels\", \"wilcoxs\", \"brummel\", \"tardy\", \"trevillians\", \"eastham\", \"triplett\", \"luther\", \"gab\", \"christys\", \"minor\", \"keen\", \"samson\", \"spilman\", \"tightness\", \"christy\", \"abilities\", \"exors\", \"griffin\", \"industrious\", \"horace\", \"arch\", \"entrusted\", \"surplus\", \"gordon\", \"dudley\", \"reward\", \"walnut\", \"palmer\", \"jesse\", \"delivery\", \"mark\", \"winston\", \"patrick\", \"situation\", \"insurance\", \"jr\", \"experience\", \"wm\", \"vice\", \"county\", \"geo\", \"john\", \"secretary\", \"jos\", \"jail\", \"business\", \"carrington\", \"capital\", \"williams\", \"thomas\", \"kent\", \"corner\", \"city\", \"office\", \"jas\", \"years\", \"smith\", \"old\", \"ts\", \"man\", \"white\", \"president\", \"good\", \"streets\", \"richmond\", \"hand\", \"paid\", \"state\", \"apply\", \"main\", \"street\", \"hymans\", \"comr\", \"glen\", \"peck\", \"cove\", \"lotion\", \"baking\", \"semples\", \"moffetts\", \"pebble\", \"corinthian\", \"brazilian\", \"extracting\", \"dissatisfied\", \"enables\", \"electricity\", \"insert\", \"clasps\", \"adaptation\", \"preferring\", \"warrington\", \"candy\", \"donley\", \"plaintiffs\", \"salve\", \"cuffs\", \"odors\", \"rees\", \"vulcanite\", \"churchs\", \"hyman\", \"rewarded\", \"curtis\", \"marseilles\", \"finder\", \"workmen\", \"teeth\", \"powder\", \"wharf\", \"dentist\", \"pronounced\", \"comrs\", \"landed\", \"photographs\", \"bosoms\", \"cts\", \"watches\", \"gold\", \"jewelry\", \"plate\", \"street\", \"leaving\", \"lewis\", \"making\", \"main\", \"morning\", \"price\", \"cents\", \"line\", \"south\", \"oclock\", \"city\", \"thursday\", \"largest\", \"silver\", \"case\", \"river\", \"rocketts\", \"low\", \"made\", \"sale\", \"one\", \"sentenced\", \"jury\", \"convicted\", \"stealing\", \"imprisonment\", \"witnesses\", \"indicted\", \"prison\", \"arraigned\", \"misdemeanor\", \"mayor\", \"disorderly\", \"assaulting\", \"remanded\", \"watchmen\", \"indictment\", \"arrested\", \"drunk\", \"recovering\", \"engineer\", \"behavior\", \"prosecution\", \"guilty\", \"unlawful\", \"permitting\", \"learns\", \"fined\", \"beating\", \"penitentiary\", \"feloniously\", \"murder\", \"police\", \"offence\", \"sentence\", \"stolen\", \"answer\", \"discharged\", \"yesterday\", \"trial\", \"committed\", \"judge\", \"assault\", \"court\", \"term\", \"slave\", \"jail\", \"charge\", \"john\", \"named\", \"negro\", \"last\", \"saturday\", \"found\", \"morning\", \"night\", \"free\", \"grand\", \"two\", \"man\", \"three\", \"charged\", \"ind\", \"breckinridge\", \"douglas\", \"breckinridges\", \"webbing\", \"letchers\", \"goggin\", \"dtj\", \"epaulettes\", \"botetourt\", \"grayson\", \"gains\", \"teste\", \"doddridge\", \"worm\", \"affidavit\", \"leonard\", \"hereof\", \"accomac\", \"nansemond\", \"pltf\", \"barbour\", \"stafford\", \"dinwiddie\", \"northumberland\", \"wetzel\", \"ritchie\", \"bell\", \"loudoun\", \"plaintiff\", \"buttons\", \"regulation\", \"uniforms\", \"majority\", \"official\", \"tyler\", \"bells\", \"privates\", \"vote\", \"counties\", \"largely\", \"spurs\", \"buchanan\", \"gain\", \"selection\", \"votes\", \"culpeper\", \"returns\", \"binding\", \"hats\", \"military\", \"continuance\", \"caps\", \"co\", \"gives\", \"county\", \"inducements\", \"randolph\", \"james\", \"subscribers\", \"stock\", \"price\", \"goods\", \"cannot\", \"amp\", \"city\", \"charles\", \"offer\", \"received\", \"street\", \"assortment\", \"made\", \"diuretic\", \"helmbolds\", \"gravel\", \"dropsy\", \"sexual\", \"semon\", \"sleeve\", \"wertheimer\", \"lowenberg\", \"gonorrh\\u0153a\", \"balsamic\", \"restorative\", \"ocular\", \"mercurial\", \"hindrance\", \"apron\", \"curative\", \"confounded\", \"challenges\", \"braid\", \"invalid\", \"organs\", \"cleopatra\", \"excels\", \"lennet\", \"despairing\", \"garrick\", \"helmbold\", \"lulu\", \"embroider\", \"remedy\", \"buchu\", \"standing\", \"zouave\", \"kidneys\", \"bladder\", \"tenth\", \"cure\", \"extract\", \"walking\", \"coat\", \"jackets\", \"procure\", \"boys\", \"long\", \"rebecca\", \"equal\", \"great\", \"patterns\", \"chesnut\", \"little\", \"dress\", \"case\", \"diseases\", \"ladies\", \"found\", \"street\", \"goods\", \"main\", \"amp\", \"call\"], \"Total\": [4825.0, 1063.0, 587.0, 2131.0, 1601.0, 861.0, 556.0, 559.0, 1904.0, 1257.0, 1102.0, 2244.0, 588.0, 1341.0, 2216.0, 942.0, 1986.0, 551.0, 548.0, 2013.0, 912.0, 444.0, 738.0, 830.0, 468.0, 553.0, 412.0, 278.0, 912.0, 626.0, 76.50786590576172, 63.579505920410156, 42.70942687988281, 41.7081413269043, 36.7403678894043, 36.73542785644531, 34.75271987915039, 34.7530517578125, 31.77007293701172, 29.777578353881836, 25.806955337524414, 25.80159568786621, 50.61906433105469, 22.8237361907959, 21.823213577270508, 20.833576202392578, 20.830718994140625, 19.84408950805664, 19.842702865600586, 19.838790893554688, 39.66823959350586, 38.7173957824707, 18.84814453125, 18.84725570678711, 18.841615676879883, 18.843183517456055, 18.846403121948242, 17.85649871826172, 17.85329818725586, 17.851421356201172, 113.13664245605469, 34.73666000366211, 31.75018310546875, 52.61732482910156, 53.5709228515625, 49.63383102416992, 90.29977416992188, 250.88473510742188, 162.4168701171875, 56.472084045410156, 391.05316162109375, 142.0831756591797, 89.1244125366211, 45.60805892944336, 136.52565002441406, 52.49808120727539, 97.80186462402344, 235.87315368652344, 728.4901733398438, 433.71002197265625, 98.81803131103516, 437.962158203125, 103.00010681152344, 127.55685424804688, 139.18026733398438, 99.74742126464844, 74.22481536865234, 716.983642578125, 188.17283630371094, 494.9046630859375, 211.26889038085938, 851.521240234375, 547.9208374023438, 1069.4267578125, 380.8102111816406, 120.03626251220703, 98.04850006103516, 297.1857604980469, 519.4080200195312, 912.2001953125, 335.3173828125, 428.723388671875, 680.3413696289062, 534.018798828125, 1986.9693603515625, 460.1304626464844, 1877.906982421875, 1100.740966796875, 957.51708984375, 156.87777709960938, 134.173583984375, 66.0904769897461, 59.1789436340332, 57.194271087646484, 136.09869384765625, 42.40144729614258, 35.49951934814453, 31.549800872802734, 276.0867004394531, 118.27345275878906, 82.83271789550781, 27.599853515625, 26.616788864135742, 20.696460723876953, 19.701080322265625, 93.6016616821289, 18.703750610351562, 99.5764389038086, 17.731191635131836, 17.71622657775879, 14.774236679077148, 14.766963005065918, 28.55713653564453, 32.49494934082031, 12.801846504211426, 318.9496154785156, 11.792657852172852, 11.8121919631958, 10.826169967651367, 50.164024353027344, 177.73788452148438, 175.33584594726562, 228.08546447753906, 89.72835540771484, 137.76214599609375, 127.90809631347656, 83.75727844238281, 173.7275848388672, 146.39805603027344, 197.46656799316406, 445.22943115234375, 119.27019500732422, 556.4043579101562, 182.465087890625, 452.5881042480469, 255.66986083984375, 342.7947082519531, 217.743408203125, 802.0433959960938, 587.8241577148438, 664.8977661132812, 502.34796142578125, 1428.7684326171875, 551.9147338867188, 323.21978759765625, 2131.437255859375, 263.3697814941406, 942.8659057617188, 1122.8065185546875, 502.7886962890625, 250.0057830810547, 588.75, 830.7999877929688, 954.66748046875, 1877.906982421875, 4825.20556640625, 935.9346923828125, 847.6532592773438, 892.8215942382812, 420.2127990722656, 861.7626953125, 1063.1561279296875, 2216.73974609375, 55.06328582763672, 47.19305419921875, 36.373260498046875, 33.42292404174805, 30.476423263549805, 30.467391967773438, 26.533924102783203, 24.56686782836914, 24.552160263061523, 22.600343704223633, 21.620779037475586, 19.644384384155273, 18.66633415222168, 41.281070709228516, 17.679767608642578, 16.699851989746094, 35.38662338256836, 15.718331336975098, 15.708108901977539, 15.707938194274902, 15.713903427124023, 37.36549377441406, 14.733658790588379, 14.729503631591797, 14.729425430297852, 14.729225158691406, 14.729393005371094, 14.726285934448242, 13.74654769897461, 13.745142936706543, 28.452489852905273, 17.66470718383789, 153.76531982421875, 38.2683219909668, 25.524328231811523, 68.76128387451172, 31.415430068969727, 49.05010223388672, 53.9530143737793, 68.6609878540039, 56.90985107421875, 22.60371208190918, 25.534292221069336, 136.68504333496094, 141.9749755859375, 26.47869300842285, 40.227027893066406, 36.2913703918457, 421.0364685058594, 324.5467834472656, 70.37655639648438, 254.85360717773438, 226.3762969970703, 106.11539459228516, 56.86701965332031, 218.1693878173828, 175.53402709960938, 1877.906982421875, 409.29937744140625, 351.8368225097656, 935.9346923828125, 912.2001953125, 199.64675903320312, 834.6082153320312, 685.2388916015625, 424.4776916503906, 380.285888671875, 429.7508544921875, 444.3260498046875, 260.23828125, 1250.66455078125, 954.66748046875, 547.9208374023438, 1986.9693603515625, 957.9938354492188, 767.0103759765625, 37.29052734375, 69.65153503417969, 21.57078742980957, 20.601911544799805, 62.77037811279297, 26.480520248413086, 17.6524715423584, 16.669628143310547, 15.691904067993164, 15.68720531463623, 15.685108184814453, 15.679962158203125, 14.710064888000488, 14.710064888000488, 14.710064888000488, 14.708922386169434, 14.696487426757812, 34.31317138671875, 13.727962493896484, 13.727962493896484, 13.715377807617188, 13.715044021606445, 13.699283599853516, 13.69813060760498, 27.440828323364258, 26.451919555664062, 12.745837211608887, 12.728963851928711, 11.752239227294922, 10.78159236907959, 19.570030212402344, 79.50552368164062, 151.48880004882812, 282.6105651855469, 59.945926666259766, 50.959110260009766, 136.83270263671875, 57.82923126220703, 35.32563400268555, 139.96392822265625, 92.14752960205078, 88.20113372802734, 29.291072845458984, 49.136226654052734, 25.481868743896484, 166.44044494628906, 223.64183044433594, 52.72244644165039, 75.91259765625, 161.17510986328125, 77.46927642822266, 140.27371215820312, 716.983642578125, 121.78182983398438, 380.8102111816406, 1069.4267578125, 230.56307983398438, 602.973876953125, 307.0158386230469, 368.6800537109375, 492.2824401855469, 187.2468719482422, 1051.2723388671875, 1122.8065185546875, 307.5103454589844, 1986.9693603515625, 534.018798828125, 256.5511779785156, 855.3120727539062, 957.9938354492188, 1428.7684326171875, 830.7999877929688, 770.8750610351562, 728.4901733398438, 1552.0989990234375, 1877.906982421875, 847.6532592773438, 381.0771484375, 2216.73974609375, 31.143747329711914, 30.158790588378906, 26.27779769897461, 22.38262939453125, 22.381885528564453, 22.381885528564453, 19.461637496948242, 18.487565994262695, 18.486948013305664, 18.4849910736084, 18.48324966430664, 17.491497039794922, 57.399932861328125, 15.566737174987793, 15.566744804382324, 15.566737174987793, 15.566031455993652, 15.560872077941895, 15.558116912841797, 15.551572799682617, 15.56206226348877, 30.149215698242188, 14.59302043914795, 14.592720031738281, 15.555429458618164, 26.09384536743164, 42.797306060791016, 13.619283676147461, 12.64240550994873, 37.9338264465332, 59.35347366333008, 35.000675201416016, 89.36194610595703, 58.24175262451172, 124.56522369384766, 84.4936294555664, 56.3266487121582, 55.52997589111328, 115.30146789550781, 30.072433471679688, 51.606773376464844, 260.0963134765625, 34.0587043762207, 211.15072631835938, 126.20459747314453, 4825.20556640625, 548.9749755859375, 268.8707275390625, 62.14533233642578, 1601.7613525390625, 83.74186706542969, 56.47147750854492, 387.08648681640625, 130.94041442871094, 95.67886352539062, 2131.437255859375, 215.86790466308594, 1257.29833984375, 337.8450012207031, 114.51073455810547, 249.5065460205078, 1341.1517333984375, 511.0232849121094, 841.1856079101562, 311.83404541015625, 1904.2891845703125, 1250.66455078125, 429.7508544921875, 222.98097229003906, 2013.784423828125, 200.67080688476562, 637.1039428710938, 351.8368225097656, 2244.49462890625, 2216.73974609375, 855.3120727539062, 1100.740966796875, 499.1170349121094, 741.639404296875, 738.9343872070312, 66.2563247680664, 59.43445587158203, 52.609031677246094, 42.86735534667969, 41.89208221435547, 39.94389724731445, 33.121150970458984, 58.443145751953125, 26.29985809326172, 29.22263526916504, 25.324613571166992, 27.27359390258789, 33.11891555786133, 24.344806671142578, 21.417999267578125, 22.39878273010254, 20.45240020751953, 20.450220108032227, 19.477825164794922, 19.476604461669922, 18.503257751464844, 17.528200149536133, 16.55406379699707, 16.549419403076172, 16.547372817993164, 16.52644157409668, 15.579509735107422, 15.579514503479004, 15.5795259475708, 15.579514503479004, 30.187808990478516, 37.99031448364258, 59.3519401550293, 32.13726043701172, 188.3768768310547, 41.81730651855469, 168.49420166015625, 142.88833618164062, 113.09864807128906, 376.885498046875, 738.9343872070312, 196.20758056640625, 113.79518127441406, 44.65789031982422, 39.839481353759766, 1257.29833984375, 760.4945068359375, 116.04630279541016, 197.91336059570312, 106.11502838134766, 164.53916931152344, 100.39022064208984, 81.29801177978516, 330.94842529296875, 256.57952880859375, 261.7086181640625, 656.0721435546875, 1341.1517333984375, 279.62713623046875, 499.1170349121094, 415.82623291015625, 618.0955200195312, 4825.20556640625, 741.639404296875, 841.1856079101562, 1986.9693603515625, 396.6318664550781, 1250.66455078125, 511.0232849121094, 305.1512145996094, 1904.2891845703125, 664.8977661132812, 883.4315795898438, 2013.784423828125, 912.2001953125, 39.25931930541992, 38.28123474121094, 33.372886657714844, 31.408954620361328, 29.439598083496094, 23.543943405151367, 21.581209182739258, 20.604202270507812, 20.587892532348633, 19.620113372802734, 18.637401580810547, 17.65106201171875, 17.645885467529297, 16.657865524291992, 15.689803123474121, 14.711942672729492, 14.708224296569824, 14.700082778930664, 14.70877742767334, 14.702146530151367, 13.729737281799316, 13.716707229614258, 27.447620391845703, 13.724084854125977, 12.726232528686523, 11.762421607971191, 11.762247085571289, 11.762176513671875, 11.761006355285645, 11.75533390045166, 49.00236892700195, 35.239810943603516, 49.8073616027832, 32.32698059082031, 23.356916427612305, 39.219078063964844, 25.37946891784668, 37.26335144042969, 17.65073013305664, 85.09557342529297, 31.22883415222168, 71.5217514038086, 56.8066291809082, 34.231163024902344, 38.09622573852539, 126.0447769165039, 50.85175323486328, 114.77760314941406, 98.44872283935547, 63.38222885131836, 93.7186050415039, 196.9333038330078, 492.2824401855469, 344.94287109375, 1986.9693603515625, 770.8750610351562, 296.1297607421875, 144.32632446289062, 1877.906982421875, 406.2900085449219, 297.9147644042969, 680.3413696289062, 507.501953125, 125.1810302734375, 333.8623352050781, 1051.2723388671875, 221.655517578125, 245.1820068359375, 765.4783935546875, 236.12013244628906, 192.46514892578125, 215.64198303222656, 851.521240234375, 512.2207641601562, 605.3746337890625, 546.3942260742188, 1122.8065185546875, 181.82273864746094, 957.9938354492188, 314.2597961425781, 366.14495849609375, 942.8659057617188, 2013.784423828125, 685.2388916015625, 523.5097045898438, 35.99623489379883, 32.09968566894531, 30.1562442779541, 26.26491928100586, 23.34383201599121, 22.369157791137695, 21.395402908325195, 21.38347816467285, 20.42389678955078, 15.559328079223633, 15.558640480041504, 16.529268264770508, 14.586109161376953, 14.579177856445312, 13.613162994384766, 13.612480163574219, 13.612480163574219, 13.610637664794922, 13.599796295166016, 13.597599029541016, 12.640714645385742, 12.640714645385742, 12.640714645385742, 12.640714645385742, 12.640714645385742, 12.635287284851074, 12.634312629699707, 12.633682250976562, 37.93434143066406, 11.667407035827637, 104.88574981689453, 41.78772735595703, 114.86236572265625, 21.375404357910156, 94.11621856689453, 84.65670776367188, 45.7158088684082, 94.64210510253906, 18.460391998291016, 95.59104919433594, 36.09898376464844, 115.80721282958984, 33.03977584838867, 246.2168731689453, 91.27669525146484, 30.150461196899414, 58.060035705566406, 43.903358459472656, 58.03006362915039, 122.73697662353516, 81.80228424072266, 150.0805206298828, 312.3423767089844, 181.20263671875, 1051.2723388671875, 154.02041625976562, 355.5558166503906, 477.5445556640625, 117.51901245117188, 112.1705551147461, 935.9346923828125, 281.2467956542969, 770.8750610351562, 388.8675537109375, 1877.906982421875, 381.0771484375, 547.9208374023438, 1986.9693603515625, 834.6082153320312, 260.23828125, 1552.0989990234375, 1069.4267578125, 429.7508544921875, 403.1727294921875, 98.00988006591797, 70.83847045898438, 43.66404724121094, 27.165285110473633, 27.165285110473633, 19.398479461669922, 59.1605110168457, 18.430639266967773, 18.42842674255371, 18.427093505859375, 35.83436965942383, 17.452545166015625, 17.44904899597168, 17.44888687133789, 33.92292404174805, 16.464275360107422, 29.093704223632812, 50.43843078613281, 11.626765251159668, 11.617755889892578, 10.663966178894043, 10.663753509521484, 10.656185150146484, 10.655278205871582, 10.655206680297852, 10.652222633361816, 10.646636962890625, 10.646636962890625, 9.6959810256958, 9.695963859558105, 105.8352279663086, 19.376413345336914, 141.83155822753906, 141.5675048828125, 269.9529724121094, 30.121408462524414, 17.446537017822266, 412.8616027832031, 1063.1561279296875, 151.02444458007812, 457.47979736328125, 40.846309661865234, 196.9013214111328, 192.1282196044922, 861.7626953125, 588.75, 155.11886596679688, 77.42665100097656, 198.12753295898438, 325.44873046875, 396.6957702636719, 249.54830932617188, 174.80235290527344, 605.3746337890625, 128.65518188476562, 2244.49462890625, 497.9694519042969, 221.655517578125, 2013.784423828125, 287.16607666015625, 502.34796142578125, 912.7584838867188, 355.5558166503906, 403.54925537109375, 469.2315979003906, 93.78453826904297, 80.24800872802734, 64.77713012695312, 41.57134246826172, 38.66947937011719, 30.93367576599121, 21.26650047302246, 19.323875427246094, 19.330190658569336, 18.365440368652344, 18.365402221679688, 17.398746490478516, 17.398635864257812, 17.39723777770996, 16.431957244873047, 16.43181037902832, 16.42997169494629, 16.427997589111328, 15.465188026428223, 15.465188026428223, 15.465188026428223, 15.465188026428223, 15.465185165405273, 15.465185165405273, 15.465177536010742, 15.465177536010742, 15.465099334716797, 15.465044975280762, 15.46361255645752, 13.531365394592285, 166.2812957763672, 112.251220703125, 93.8809585571289, 106.05061340332031, 197.05831909179688, 83.24095916748047, 21.252626419067383, 106.90888977050781, 40.59310531616211, 26.1153564453125, 51.215877532958984, 34.81746292114258, 232.5782928466797, 84.27596282958984, 104.3140869140625, 85.50083923339844, 106.2998275756836, 85.13911437988281, 39.59922790527344, 74.96733856201172, 117.74703979492188, 270.9303894042969, 62.61507797241211, 4825.20556640625, 779.927734375, 254.45701599121094, 111.61724853515625, 1601.7613525390625, 1904.2891845703125, 289.4187316894531, 582.0912475585938, 2131.437255859375, 200.67080688476562, 883.4315795898438, 337.8450012207031, 423.3267517089844, 2244.49462890625, 1341.1517333984375, 1250.66455078125, 640.6571044921875, 507.501953125, 2013.784423828125, 755.9148559570312, 912.7584838867188, 767.0103759765625, 2216.73974609375, 114.48361206054688, 73.7315902709961, 32.97882080078125, 27.15837287902832, 27.1568660736084, 26.189395904541016, 30.06474494934082, 19.394868850708008, 17.454143524169922, 15.515303611755371, 14.545761108398438, 14.544946670532227, 13.57530689239502, 13.57532787322998, 13.565399169921875, 12.602651596069336, 12.599404335021973, 26.194746017456055, 10.659398078918457, 10.649392127990723, 10.659998893737793, 21.334627151489258, 9.693297386169434, 8.723934173583984, 8.722658157348633, 8.718670845031738, 8.663517951965332, 7.753609657287598, 7.753065586090088, 7.742978096008301, 28.03908920288086, 43.68445587158203, 21.375919342041016, 86.15613555908203, 81.53558349609375, 58.13278579711914, 90.94523620605469, 35.85099411010742, 229.68460083007812, 95.03347778320312, 81.44684600830078, 61.949623107910156, 196.5061798095703, 267.8009948730469, 108.51871490478516, 36.90164566040039, 421.2689514160156, 34.94454574584961, 68.9419174194336, 120.1253433227539, 215.0013885498047, 47.393367767333984, 233.34881591796875, 277.76153564453125, 602.973876953125, 298.6925048828125, 957.9938354492188, 257.3537292480469, 364.031494140625, 1986.9693603515625, 593.1549682617188, 1102.294677734375, 245.2148895263672, 1552.0989990234375, 365.9046325683594, 1428.7684326171875, 701.0578002929688, 4825.20556640625, 2216.73974609375, 2244.49462890625, 553.534912109375, 855.3120727539062, 54.07220458984375, 29.928001403808594, 22.20596694946289, 20.273225784301758, 16.411983489990234, 15.446398735046387, 15.446398735046387, 15.44640064239502, 15.44629955291748, 15.445140838623047, 15.438751220703125, 14.480744361877441, 14.480749130249023, 14.480738639831543, 14.480743408203125, 14.480743408203125, 14.480743408203125, 14.480509757995605, 14.478525161743164, 14.477449417114258, 13.515094757080078, 13.514955520629883, 14.467628479003906, 38.601112365722656, 23.1298885345459, 11.583698272705078, 11.582254409790039, 11.576787948608398, 11.545129776000977, 22.128864288330078, 22.20646095275879, 35.702613830566406, 80.14761352539062, 21.226558685302734, 109.22702026367188, 35.718387603759766, 40.502323150634766, 34.82412338256836, 65.54801940917969, 60.84009552001953, 25.9835262298584, 178.96974182128906, 29.78740119934082, 42.387020111083984, 132.48663330078125, 563.9720458984375, 59.06449890136719, 84.35202026367188, 35.66873550415039, 301.9873046875, 26.997682571411133, 156.26316833496094, 292.8212585449219, 103.33160400390625, 271.1573181152344, 135.8139190673828, 78.93920135498047, 309.88702392578125, 203.6216583251953, 852.892578125, 289.4187316894531, 145.44752502441406, 886.3128051757812, 253.90269470214844, 4825.20556640625, 120.10979461669922, 157.2078857421875, 912.7584838867188, 887.968017578125, 307.5103454589844, 656.0721435546875, 2244.49462890625, 501.7903747558594, 1122.8065185546875, 1601.7613525390625, 2013.784423828125, 1102.294677734375, 883.4315795898438, 816.365234375, 2131.437255859375, 942.8659057617188, 1986.9693603515625, 91.64955139160156, 101.29298400878906, 50.15377426147461, 44.37636184692383, 132.1697540283203, 35.69149398803711, 32.796302795410156, 65.57528686523438, 19.291757583618164, 18.327739715576172, 18.253557205200195, 17.362937927246094, 17.360990524291992, 16.398277282714844, 16.38599395751953, 15.433881759643555, 15.433884620666504, 14.469075202941895, 14.469075202941895, 14.469064712524414, 14.415555000305176, 13.504257202148438, 13.504257202148438, 13.503124237060547, 12.539437294006348, 12.539437294006348, 12.536977767944336, 30.87471580505371, 20.227569580078125, 8.678380012512207, 17.348861694335938, 57.93594741821289, 84.84200286865234, 42.368892669677734, 468.91314697265625, 81.3253402709961, 33.73455810546875, 111.69141387939453, 364.031494140625, 255.9345245361328, 124.84493255615234, 32.86749267578125, 1102.294677734375, 110.8687515258789, 556.9864501953125, 548.9749755859375, 256.57952880859375, 957.51708984375, 97.572509765625, 298.6925048828125, 396.6318664550781, 113.38219451904297, 1341.1517333984375, 123.00377655029297, 553.534912109375, 360.458251953125, 770.8750610351562, 455.3553771972656, 2216.73974609375, 4825.20556640625, 469.2315979003906, 225.09169006347656, 1250.66455078125, 257.901123046875, 2244.49462890625, 886.3128051757812, 2131.437255859375, 65.65968322753906, 27.033926010131836, 24.14126205444336, 20.27712631225586, 39.60002899169922, 18.34205436706543, 18.3287296295166, 17.38136863708496, 17.368221282958984, 16.415739059448242, 16.415739059448242, 16.415739059448242, 16.415739059448242, 16.415739059448242, 15.449865341186523, 15.44986343383789, 30.879640579223633, 14.483985900878906, 14.483985900878906, 14.483985900878906, 14.481980323791504, 13.518110275268555, 13.51807689666748, 13.516349792480469, 11.565200805664062, 24.137277603149414, 10.615032196044922, 10.614965438842773, 10.58687686920166, 9.654115676879883, 20.259624481201172, 70.54973602294922, 35.73214340209961, 25.06691551208496, 33.748817443847656, 61.66807174682617, 70.1783218383789, 34.83428192138672, 36.7047233581543, 25.122907638549805, 23.164352416992188, 38.634830474853516, 98.0412826538086, 308.3733215332031, 29.936952590942383, 28.02893829345703, 48.9627571105957, 85.5068359375, 1904.2891845703125, 64.57523345947266, 171.77023315429688, 84.36817169189453, 88.07430267333984, 60.83866500854492, 29.84423065185547, 121.21333312988281, 504.0251770019531, 79.61731719970703, 755.9148559570312, 370.2721862792969, 111.52489471435547, 2244.49462890625, 360.458251953125, 120.21385192871094, 531.2592163085938, 4825.20556640625, 217.0294647216797, 212.94964599609375, 883.4315795898438, 1100.740966796875, 2013.784423828125, 1986.9693603515625, 339.15924072265625, 1250.66455078125, 1122.8065185546875, 1102.294677734375, 396.6318664550781, 2216.73974609375, 1257.29833984375, 1601.7613525390625, 841.1856079101562, 59.6402473449707, 41.36315155029297, 27.88169288635254, 20.191673278808594, 18.271347045898438, 17.3076114654541, 17.29473876953125, 17.290388107299805, 16.352846145629883, 16.349634170532227, 16.3311710357666, 16.30944061279297, 31.717668533325195, 15.390920639038086, 15.390920639038086, 15.390902519226074, 15.390892028808594, 15.390902519226074, 15.390915870666504, 15.39091682434082, 15.39091682434082, 15.39091682434082, 42.35394287109375, 14.405688285827637, 13.467028617858887, 13.461569786071777, 12.50505542755127, 12.500946998596191, 12.500946998596191, 48.12626647949219, 233.41220092773438, 21.1905517578125, 56.82792663574219, 71.3713607788086, 39.61189270019531, 87.61708068847656, 70.02361297607422, 86.40909576416016, 36.62303924560547, 122.04872131347656, 240.68087768554688, 118.76212310791016, 38.72216796875, 523.5097045898438, 251.5375213623047, 93.97277069091797, 81.9874496459961, 33.72592544555664, 373.2323913574219, 219.849609375, 110.03567504882812, 121.53732299804688, 146.3755645751953, 125.20344543457031, 156.23724365234375, 420.2127990722656, 91.5945053100586, 261.535888671875, 1102.294677734375, 333.1580505371094, 701.0578002929688, 351.8368225097656, 417.4488525390625, 193.30104064941406, 637.1039428710938, 851.521240234375, 1552.0989990234375, 2013.784423828125, 519.4080200195312, 1428.7684326171875, 4825.20556640625, 1904.2891845703125, 20.24170684814453, 17.35926628112793, 15.430673599243164, 14.469145774841309, 13.504338264465332, 13.504338264465332, 13.494734764099121, 9.632351875305176, 9.624654769897461, 8.676655769348145, 8.674872398376465, 8.674395561218262, 8.667973518371582, 8.663565635681152, 8.671065330505371, 20.286497116088867, 7.714964389801025, 7.7140326499938965, 7.711804389953613, 7.704892635345459, 7.704484939575195, 7.702561378479004, 7.701168060302734, 7.700776100158691, 7.699484825134277, 15.4277982711792, 7.699620246887207, 6.746809959411621, 6.746194362640381, 6.7454657554626465, 32.85543441772461, 46.41800308227539, 18.292133331298828, 22.23970603942871, 34.82524490356445, 12.499513626098633, 16.384016036987305, 17.382585525512695, 18.343303680419922, 11.570509910583496, 96.02273559570312, 13.524879455566406, 11.555350303649902, 26.06512451171875, 47.34971237182617, 49.59617233276367, 25.125640869140625, 28.904769897460938, 77.26214599609375, 39.44390106201172, 20.388330459594727, 105.69136810302734, 122.44385528564453, 43.18983459472656, 105.41864013671875, 119.09441375732422, 78.01991271972656, 137.78024291992188, 58.31290817260742, 492.2824401855469, 48.37855911254883, 1100.740966796875, 67.15020751953125, 64.50792694091797, 444.3260498046875, 330.0865173339844, 1877.906982421875, 1051.2723388671875, 221.94456481933594, 770.8750610351562, 1428.7684326171875, 767.0103759765625, 277.1501159667969, 201.28265380859375, 126.35490417480469, 501.7903747558594, 216.28167724609375, 637.1039428710938, 957.51708984375, 954.66748046875, 404.2733459472656, 847.6532592773438, 206.70767211914062, 2216.73974609375, 912.2001953125, 1552.0989990234375, 34.579856872558594, 111.38467407226562, 29.777292251586914, 21.131757736206055, 18.25112533569336, 18.25112533569336, 18.2493953704834, 18.248836517333984, 18.247129440307617, 17.28984260559082, 16.328166961669922, 15.369572639465332, 15.369572639465332, 15.367648124694824, 15.362174034118652, 14.409055709838867, 14.409042358398438, 14.407343864440918, 12.483053207397461, 11.524391174316406, 11.519680976867676, 11.518291473388672, 10.56341552734375, 44.21732711791992, 9.605551719665527, 9.605551719665527, 9.605551719665527, 9.605551719665527, 9.601616859436035, 19.190828323364258, 31.65667724609375, 31.66257095336914, 64.45158386230469, 17.285869598388672, 48.14954376220703, 83.65415954589844, 67.10816192626953, 83.05036163330078, 83.73418426513672, 70.39405822753906, 42.28961944580078, 147.56552124023438, 553.534912109375, 64.44078063964844, 65.5198974609375, 75.8176498413086, 62.91271209716797, 21.16472053527832, 44.32951354980469, 156.5916290283203, 110.1318130493164, 279.1271667480469, 267.8009948730469, 100.3031005859375, 49.148521423339844, 222.31863403320312, 243.06655883789062, 55.99384689331055, 208.5956573486328, 108.28748321533203, 128.9346923828125, 957.51708984375, 139.9660186767578, 502.34796142578125, 314.2597961425781, 821.9349975585938, 172.97842407226562, 1069.4267578125, 2013.784423828125, 368.0082702636719, 830.7999877929688, 1428.7684326171875, 455.3553771972656, 892.8215942382812, 1341.1517333984375, 1100.740966796875, 298.19427490234375, 1877.906982421875, 4825.20556640625, 99.05120849609375, 50.96584701538086, 45.199485778808594, 32.69636535644531, 23.0813045501709, 21.156824111938477, 19.214365005493164, 38.484588623046875, 18.27105712890625, 18.27040672302246, 18.268800735473633, 17.276662826538086, 16.349262237548828, 16.34844970703125, 16.347122192382812, 16.339500427246094, 15.387580871582031, 15.386106491088867, 15.381705284118652, 14.42587947845459, 14.425891876220703, 14.415548324584961, 13.464139938354492, 13.464139938354492, 13.464174270629883, 13.464136123657227, 12.489691734313965, 12.48832893371582, 17.303239822387695, 17.304615020751953, 88.29405212402344, 78.73159790039062, 111.56299591064453, 55.864601135253906, 198.80636596679688, 58.64772033691406, 31.734872817993164, 32.853431701660156, 22.149873733520508, 27.009960174560547, 88.55810546875, 32.67460250854492, 58.03261947631836, 46.17790603637695, 69.20592498779297, 48.21040344238281, 497.3075866699219, 112.64057922363281, 454.4981994628906, 184.629150390625, 2216.73974609375, 131.45591735839844, 887.968017578125, 59.38468551635742, 184.07789611816406, 138.42678833007812, 77.0799331665039, 163.57518005371094, 153.5095672607422, 301.9873046875, 1552.0989990234375, 146.89138793945312, 199.12950134277344, 640.6571044921875, 755.9148559570312, 1986.9693603515625, 855.3120727539062, 957.9938354492188, 1102.294677734375, 716.983642578125, 892.8215942382812, 477.5445556640625, 2013.784423828125, 1122.8065185546875, 2244.49462890625, 55.55596160888672, 75.65773010253906, 30.649553298950195, 27.780006408691406, 26.823503494262695, 22.969228744506836, 20.118637084960938, 20.118637084960938, 20.114665985107422, 17.244749069213867, 16.286888122558594, 16.286216735839844, 49.84607696533203, 15.32945442199707, 15.329427719116211, 15.329427719116211, 15.31474781036377, 30.637910842895508, 14.371617317199707, 14.371617317199707, 14.371617317199707, 14.371613502502441, 14.371066093444824, 14.370036125183105, 14.369246482849121, 28.740266799926758, 13.413748741149902, 13.413785934448242, 13.413748741149902, 13.413748741149902, 82.44742584228516, 31.613021850585938, 21.06041145324707, 21.072303771972656, 74.91659545898438, 74.09479522705078, 28.751338958740234, 19.174470901489258, 50.68833923339844, 40.3841667175293, 75.81127166748047, 51.77452850341797, 96.96466064453125, 47.14877700805664, 199.12950134277344, 145.664306640625, 43.98967742919922, 124.28990936279297, 84.87650299072266, 138.48316955566406, 134.6583251953125, 83.92574310302734, 80.11682891845703, 165.2399444580078, 2216.73974609375, 4825.20556640625, 202.51358032226562, 455.3553771972656, 279.62713623046875, 515.6901245117188, 886.3128051757812, 155.28121948242188, 281.2467956542969, 499.1170349121094, 855.3120727539062, 460.1304626464844, 1904.2891845703125, 2013.784423828125, 852.892578125, 1601.7613525390625, 680.3413696289062, 821.9349975585938, 1122.8065185546875, 41.23796081542969, 32.60731506347656, 31.648164749145508, 25.88859748840332, 23.97191619873047, 23.019878387451172, 22.05421257019043, 19.174734115600586, 18.221542358398438, 17.26456069946289, 16.305774688720703, 16.30502700805664, 81.54104614257812, 13.425406455993652, 12.470457077026367, 11.511406898498535, 41.277801513671875, 23.037752151489258, 10.5508394241333, 10.543353080749512, 9.592873573303223, 9.59102725982666, 9.5892972946167, 8.617480278015137, 8.631089210510254, 8.63150691986084, 7.675293445587158, 7.675265312194824, 7.675265312194824, 7.675265312194824, 587.002685546875, 15.332674026489258, 559.2847290039062, 13.427885055541992, 26.835294723510742, 70.04762268066406, 29.773717880249023, 29.841407775878906, 34.68463897705078, 270.86236572265625, 128.4748077392578, 113.1590347290039, 50.85247802734375, 48.934478759765625, 92.33366394042969, 31.590347290039062, 53.901126861572266, 43.13508224487305, 44.60585021972656, 45.86540985107422, 194.29786682128906, 330.0865173339844, 563.9720458984375, 370.2721862792969, 251.1143798828125, 954.66748046875, 140.57321166992188, 386.49267578125, 83.85859680175781, 259.28472900390625, 886.3128051757812, 912.7584838867188, 203.3984375, 81.45347595214844, 250.0057830810547, 2131.437255859375, 4825.20556640625, 1102.294677734375, 306.30096435546875, 307.3130187988281, 147.45216369628906, 767.0103759765625, 159.5327911376953, 388.8675537109375, 312.2393798828125, 31.443574905395508, 32.39622116088867, 24.708845138549805, 22.869123458862305, 20.96418571472168, 20.96418571472168, 20.012405395507812, 19.060142517089844, 19.059555053710938, 19.05837631225586, 18.106931686401367, 17.1551456451416, 17.153474807739258, 17.14192008972168, 16.202842712402344, 16.202842712402344, 16.202842712402344, 16.202842712402344, 16.202842712402344, 16.202816009521484, 16.201549530029297, 16.201250076293945, 14.297748565673828, 14.297748565673828, 14.297748565673828, 14.297748565673828, 14.297748565673828, 14.297748565673828, 13.345196723937988, 13.345199584960938, 43.781368255615234, 59.18855667114258, 30.563358306884766, 209.5184783935547, 24.798830032348633, 216.28167724609375, 75.31849670410156, 23.814298629760742, 83.38484954833984, 42.11105728149414, 50.63030242919922, 49.930763244628906, 37.24930191040039, 107.63448333740234, 25.740665435791016, 35.32294845581055, 91.28378295898438, 86.5713119506836, 40.308685302734375, 129.67372131347656, 144.71884155273438, 26.78276824951172, 41.97376251220703, 1986.9693603515625, 100.88034057617188, 531.2592163085938, 149.7289581298828, 159.99240112304688, 548.9749755859375, 132.1515350341797, 504.0251770019531, 1601.7613525390625, 4825.20556640625, 957.51708984375, 132.0937957763672, 468.91314697265625, 556.4043579101562, 254.45701599121094, 816.365234375, 218.80117797851562, 395.7018737792969, 957.9938354492188, 2216.73974609375, 2013.784423828125, 1069.4267578125, 765.4783935546875, 847.6532592773438, 2131.437255859375, 852.892578125, 41.114620208740234, 32.51581573486328, 26.77924919128418, 25.815982818603516, 20.084836959838867, 18.170612335205078, 16.119163513183594, 15.303723335266113, 31.556922912597656, 14.34824275970459, 14.342541694641113, 89.81929779052734, 13.387045860290527, 12.43576717376709, 12.432106971740723, 69.94029998779297, 11.479988098144531, 11.475907325744629, 40.182289123535156, 21.98213005065918, 33.504642486572266, 9.567658424377441, 8.611357688903809, 8.58491325378418, 15.271533012390137, 7.655486583709717, 7.655486583709717, 7.655392169952393, 7.652252197265625, 7.652252197265625, 278.6080627441406, 59.545127868652344, 14.34547233581543, 14.335338592529297, 31.6348876953125, 49.949283599853516, 30.68168067932129, 56.46415328979492, 56.62839126586914, 626.5100708007812, 199.2716827392578, 46.93043899536133, 942.8659057617188, 602.973876953125, 277.1501159667969, 100.89916229248047, 46.48453140258789, 386.49267578125, 217.89837646484375, 73.65940856933594, 77.9636459350586, 363.9813232421875, 154.02041625976562, 515.6901245117188, 4825.20556640625, 234.8815460205078, 1601.7613525390625, 2013.784423828125, 1986.9693603515625, 957.9938354492188, 847.6532592773438, 2216.73974609375, 326.4258728027344, 267.3436584472656, 841.1856079101562, 355.5558166503906, 477.5445556640625, 593.1549682617188, 1904.2891845703125, 2244.49462890625, 445.22943115234375, 656.0721435546875, 37.08134078979492, 34.22962951660156, 30.432878494262695, 29.48012351989746, 26.626996994018555, 25.67540168762207, 24.72870445251465, 23.778209686279297, 23.777326583862305, 19.975065231323242, 16.168813705444336, 32.325897216796875, 15.222371101379395, 15.222371101379395, 15.221144676208496, 15.219182968139648, 14.271683692932129, 14.271687507629395, 14.271687507629395, 14.269547462463379, 13.320993423461914, 13.319330215454102, 13.315214157104492, 11.419636726379395, 10.468944549560547, 10.468019485473633, 10.468019485473633, 10.466137886047363, 9.517449378967285, 19.015562057495117, 25.700952529907227, 17.116413116455078, 16.151201248168945, 16.185327529907227, 16.178619384765625, 85.83187866210938, 18.06291961669922, 37.33596420288086, 156.23724365234375, 47.48918151855469, 53.5262336730957, 46.8121337890625, 123.75973510742188, 31.568153381347656, 147.4041748046875, 62.453067779541016, 2013.784423828125, 121.53732299804688, 177.2850341796875, 118.76212310791016, 261.7086181640625, 334.242431640625, 240.68087768554688, 129.32424926757812, 1904.2891845703125, 618.0955200195312, 523.5097045898438, 219.849609375, 450.79632568359375, 360.458251953125, 4825.20556640625, 235.87315368652344, 755.9148559570312, 335.64495849609375, 2131.437255859375, 228.23275756835938, 1100.740966796875, 1257.29833984375, 1250.66455078125, 2216.73974609375, 887.968017578125, 1102.294677734375, 883.4315795898438, 2244.49462890625, 41.78976821899414, 37.995635986328125, 29.45037078857422, 28.500900268554688, 26.60238265991211, 26.60238265991211, 24.703102111816406, 23.751930236816406, 50.36367416381836, 22.80040740966797, 21.85419464111328, 16.134735107421875, 15.18008804321289, 14.257089614868164, 14.257089614868164, 14.257089614868164, 14.257089614868164, 14.257086753845215, 14.256677627563477, 13.307443618774414, 13.30744457244873, 13.295843124389648, 12.35781192779541, 12.357397079467773, 12.348307609558105, 22.791170120239258, 10.446577072143555, 8.559244155883789, 44.69671630859375, 32.366668701171875, 22.784563064575195, 58.89906311035156, 56.27851486206055, 122.84931182861328, 61.17488479614258, 444.07733154296875, 164.1256103515625, 62.891117095947266, 60.88306427001953, 138.48316955566406, 134.6583251953125, 533.4774169921875, 40.92892837524414, 93.07746887207031, 101.89437866210938, 114.40451049804688, 292.8212585449219, 84.87650299072266, 124.28990936279297, 246.95965576171875, 83.92574310302734, 2216.73974609375, 497.3075866699219, 80.11682891845703, 239.3108367919922, 1341.1517333984375, 212.82789611816406, 2244.49462890625, 1257.29833984375, 299.80615234375, 4825.20556640625, 454.4981994628906, 912.2001953125, 656.0721435546875, 755.9148559570312, 852.892578125, 515.6901245117188, 1250.66455078125, 847.6532592773438, 65.38128662109375, 49.270206451416016, 33.165977478027344, 76.77042388916016, 18.960872650146484, 18.959741592407227, 17.067188262939453, 17.067188262939453, 16.1186466217041, 15.168865203857422, 15.163389205932617, 14.225113868713379, 14.225114822387695, 14.225114822387695, 28.457883834838867, 13.27775764465332, 10.404282569885254, 9.485466957092285, 31.37074851989746, 8.540975570678711, 44.646026611328125, 6.64624547958374, 6.64624547958374, 6.64624547958374, 13.285569190979004, 19.029930114746094, 5.698873996734619, 5.689298629760742, 5.686669826507568, 17.05034828186035, 108.38609313964844, 40.96881866455078, 35.276912689208984, 107.9349594116211, 45.66825866699219, 108.7506332397461, 556.9864501953125, 54.19834518432617, 50.43123245239258, 50.42680740356445, 145.65353393554688, 192.4306640625, 63.22201919555664, 178.0290069580078, 76.05204772949219, 54.21781539916992, 265.08612060546875, 125.20344543457031, 184.01258850097656, 2131.437255859375, 67.22354888916016, 92.75726318359375, 129.67372131347656, 912.7584838867188, 139.01577758789062, 105.71417999267578, 126.25165557861328, 1986.9693603515625, 2216.73974609375, 957.9938354492188, 156.26316833496094, 4825.20556640625, 1069.4267578125, 293.53955078125, 855.3120727539062, 892.8215942382812, 2244.49462890625, 834.6082153320312, 942.8659057617188, 276.9666442871094, 852.892578125, 45.60950469970703, 19.96110725402832, 19.0073184967041, 37.996482849121094, 18.057024002075195, 16.16132354736328, 16.16132164001465, 16.160419464111328, 32.302223205566406, 15.211376190185547, 15.211376190185547, 28.50297737121582, 12.359569549560547, 11.411578178405762, 11.408632278442383, 11.3792724609375, 10.461634635925293, 10.461634635925293, 10.454951286315918, 9.511687278747559, 9.511687278747559, 9.509246826171875, 9.49332046508789, 18.035493850708008, 17.042551040649414, 8.561735153198242, 8.549347877502441, 16.164033889770508, 15.191056251525879, 6.661819934844971, 13.311057090759277, 32.41129684448242, 32.47630310058594, 21.801713943481445, 18.044557571411133, 39.076988220214844, 39.12987518310547, 42.828609466552734, 145.4098663330078, 21.930198669433594, 46.818603515625, 27.630359649658203, 55.190303802490234, 43.216434478759766, 61.433837890625, 40.99144744873047, 56.5360221862793, 179.20950317382812, 144.6021728515625, 57.336978912353516, 912.7584838867188, 46.114112854003906, 830.7999877929688, 259.28472900390625, 821.9349975585938, 83.61004638671875, 124.68592834472656, 113.02412414550781, 593.1549682617188, 59.83283233642578, 160.9405517578125, 112.70004272460938, 159.59388732910156, 116.00609588623047, 755.9148559570312, 1552.0989990234375, 887.968017578125, 306.30096435546875, 834.6082153320312, 170.82278442382812, 765.4783935546875, 886.3128051757812, 444.3260498046875, 701.0578002929688, 230.56307983398438, 954.66748046875, 640.6571044921875, 2216.73974609375, 582.0912475585938, 368.0082702636719, 1069.4267578125, 563.9720458984375, 1904.2891845703125, 2244.49462890625, 29.29982566833496, 27.406400680541992, 27.405805587768555, 26.46417808532715, 24.57678985595703, 21.743122100830078, 19.853551864624023, 18.90900230407715, 17.96237564086914, 17.017559051513672, 16.0747127532959, 16.07059669494629, 15.12919807434082, 15.118228912353516, 32.130279541015625, 14.186457633972168, 14.186457633972168, 14.186457633972168, 14.186457633972168, 14.186457633972168, 14.183699607849121, 14.177087783813477, 13.23912525177002, 13.239004135131836, 12.296870231628418, 12.295656204223633, 12.294137954711914, 23.656566619873047, 11.352693557739258, 11.352668762207031, 31.193008422851562, 20.797834396362305, 28.386451721191406, 49.286285400390625, 24.616601943969727, 36.10898208618164, 110.15099334716797, 39.014015197753906, 87.5116195678711, 17.021982192993164, 55.43196105957031, 65.95825958251953, 46.7038459777832, 27.60470962524414, 90.62612915039062, 396.6318664550781, 120.21385192871094, 257.901123046875, 121.21333312988281, 54.77897644042969, 2244.49462890625, 101.60919952392578, 281.2467956542969, 209.2424774169922, 1904.2891845703125, 406.2900085449219, 531.2592163085938, 468.91314697265625, 469.2315979003906, 728.4901733398438, 942.8659057617188, 1552.0989990234375, 244.2924041748047, 137.22711181640625, 215.86790466308594, 280.4071350097656, 515.6901245117188, 112.437744140625, 511.0232849121094, 1100.740966796875, 2131.437255859375, 1877.906982421875, 56.853450775146484, 55.90301513671875, 45.48360824584961, 43.59174346923828, 36.95057678222656, 28.432321548461914, 28.43187141418457, 27.473121643066406, 23.698034286499023, 23.697147369384766, 122.37483215332031, 18.95166778564453, 17.066682815551758, 16.118648529052734, 14.220746994018555, 12.329421997070312, 59.79732894897461, 11.378519058227539, 10.425050735473633, 30.36212921142578, 16.12953758239746, 7.578214168548584, 37.08375549316406, 6.645816326141357, 6.6448774337768555, 6.6358489990234375, 22.738697052001953, 12.356834411621094, 19.961959838867188, 5.698913097381592, 40.010013580322266, 32.393768310546875, 18.0797176361084, 18.08582878112793, 37.223106384277344, 69.85015869140625, 40.11143493652344, 317.02587890625, 82.75503540039062, 64.20626068115234, 109.75245666503906, 32.56940460205078, 551.9147338867188, 78.69129943847656, 108.40103912353516, 113.02412414550781, 333.1580505371094, 821.9349975585938, 157.7833251953125, 299.80615234375, 770.8750610351562, 365.05303955078125, 397.7170104980469, 406.2900085449219, 492.2824401855469, 247.40260314941406, 126.45460510253906, 935.9346923828125, 444.3260498046875, 512.2207641601562, 412.8616027832031, 49.06590270996094, 190.6656951904297, 155.833251953125, 16.053478240966797, 14.168006896972656, 14.146878242492676, 11.33799934387207, 11.32103443145752, 10.394966125488281, 10.39282512664795, 10.390907287597656, 9.451547622680664, 9.450429916381836, 9.450672149658203, 9.443559646606445, 9.444706916809082, 17.932004928588867, 8.508249282836914, 8.507243156433105, 8.499054908752441, 7.565046310424805, 7.564174652099609, 7.563392162322998, 7.56256628036499, 6.62118673324585, 6.62118673324585, 6.617944717407227, 215.76724243164062, 5.677096366882324, 5.67218542098999, 16.991853713989258, 17.05699920654297, 18.945880889892578, 163.92672729492188, 102.8859634399414, 36.86574935913086, 50.36424255371094, 23.75412368774414, 125.6189956665039, 153.5095672607422, 27.41257667541504, 17.113393783569336, 29.58429527282715, 27.68096351623535, 23.82460594177246, 35.396881103515625, 18.125688552856445, 108.27617645263672, 19.95253562927246, 170.23826599121094, 180.9414825439453, 44.934181213378906, 126.20459747314453, 1601.7613525390625, 104.15178680419922, 830.7999877929688, 87.71044158935547, 62.924163818359375, 403.54925537109375, 120.961669921875, 1341.1517333984375, 531.2592163085938, 1257.29833984375, 306.0552673339844, 4825.20556640625, 1552.0989990234375, 216.2259521484375, 361.60186767578125, 816.365234375, 2244.49462890625, 499.1170349121094, 1100.740966796875, 105.94207000732422, 79.69718170166016, 58.127750396728516, 45.953731536865234, 40.32981872558594, 37.51786804199219, 16.892719268798828, 15.959538459777832, 15.022222518920898, 15.022223472595215, 15.021899223327637, 15.021814346313477, 14.084905624389648, 14.084905624389648, 14.084908485412598, 14.084905624389648, 14.084905624389648, 14.084905624389648, 14.084905624389648, 14.084507942199707, 14.083738327026367, 41.36905288696289, 13.147584915161133, 13.14758586883545, 13.147584915161133, 13.147587776184082, 13.147584915161133, 13.147587776184082, 13.147584915161133, 13.147584915161133, 150.1034698486328, 97.9957275390625, 131.16021728515625, 67.07322692871094, 71.75973510742188, 71.75973510742188, 17.869678497314453, 137.31263732910156, 132.7325897216797, 36.8965950012207, 86.65379333496094, 47.2274169921875, 98.502685546875, 145.78311157226562, 386.3188171386719, 41.772132873535156, 129.39822387695312, 912.2001953125, 118.14362335205078, 23.725811004638672, 344.94287109375, 415.82623291015625, 280.4071350097656, 171.77023315429688, 738.9343872070312, 397.7170104980469, 2244.49462890625, 1257.29833984375, 1904.2891845703125, 4825.20556640625, 841.1856079101562], \"loglift\": [30.0, 29.0, 28.0, 27.0, 26.0, 25.0, 24.0, 23.0, 22.0, 21.0, 20.0, 19.0, 18.0, 17.0, 16.0, 15.0, 14.0, 13.0, 12.0, 11.0, 10.0, 9.0, 8.0, 7.0, 6.0, 5.0, 4.0, 3.0, 2.0, 1.0, 2.4509999752044678, 2.448499917984009, 2.4412999153137207, 2.440700054168701, 2.4375998973846436, 2.4374001026153564, 2.4361000061035156, 2.4354000091552734, 2.433500051498413, 2.43149995803833, 2.4265999794006348, 2.426500082015991, 2.4254000186920166, 2.4217000007629395, 2.4189999103546143, 2.41759991645813, 2.41759991645813, 2.415299892425537, 2.415299892425537, 2.415299892425537, 2.4149999618530273, 2.4128000736236572, 2.4126999378204346, 2.4126999378204346, 2.412600040435791, 2.412600040435791, 2.411799907684326, 2.4098000526428223, 2.4098000526428223, 2.4098000526428223, 2.4089999198913574, 2.408099889755249, 2.407599925994873, 2.398200035095215, 2.3973000049591064, 2.3933000564575195, 2.365000009536743, 2.3166000843048096, 2.3224000930786133, 2.36899995803833, 2.1849000453948975, 2.2597999572753906, 2.2985000610351562, 2.354099988937378, 2.245300054550171, 2.3387999534606934, 2.253499984741211, 2.1308000087738037, 1.920699954032898, 1.992799997329712, 2.2290000915527344, 1.944000005722046, 2.1946001052856445, 2.1389999389648438, 2.108299970626831, 2.186300039291382, 2.246799945831299, 1.5865000486373901, 1.9625999927520752, 1.646299958229065, 1.9140000343322754, 1.3976000547409058, 1.5499999523162842, 1.218000054359436, 1.5638999938964844, 2.047499895095825, 2.135499954223633, 1.53410005569458, 1.226199984550476, 0.7942000031471252, 1.4133000373840332, 1.2414000034332275, 0.8787000179290771, 1.0263999700546265, -0.028300000354647636, 1.075600028038025, -0.08489999920129776, 0.22769999504089355, 0.24609999358654022, 2.65310001373291, 2.652400016784668, 2.64520001411438, 2.6435000896453857, 2.642199993133545, 2.637700080871582, 2.6370999813079834, 2.6328001022338867, 2.6294000148773193, 2.6270999908447266, 2.6257998943328857, 2.6257998943328857, 2.6250998973846436, 2.623800039291382, 2.6133999824523926, 2.6110000610351562, 2.6098999977111816, 2.6084001064300537, 2.606300115585327, 2.6054999828338623, 2.6054000854492188, 2.5943000316619873, 2.5943000316619873, 2.5910000801086426, 2.5901999473571777, 2.583899974822998, 2.5803000926971436, 2.577199935913086, 2.57669997215271, 2.569499969482422, 2.556299924850464, 2.532900094985962, 2.531899929046631, 2.5185000896453857, 2.5394999980926514, 2.5248000621795654, 2.525700092315674, 2.540299892425537, 2.5009000301361084, 2.496500015258789, 2.4591000080108643, 2.3873000144958496, 2.4460999965667725, 2.253200054168701, 2.373800039291382, 2.2421998977661133, 2.3124001026153564, 2.2163000106811523, 2.292799949645996, 1.992300033569336, 2.0501999855041504, 1.9850000143051147, 2.042799949645996, 1.6865999698638916, 1.9754999876022339, 2.1256000995635986, 1.3574999570846558, 2.1928999423980713, 1.6232000589370728, 1.451300024986267, 1.8602999448776245, 2.209199905395508, 1.7144999504089355, 1.4977999925613403, 1.38919997215271, 0.9476000070571899, 0.22040000557899475, 1.2524000406265259, 1.2818000316619873, 1.207200050354004, 1.822100043296814, 1.2254999876022339, 1.0154000520706177, 0.2540999948978424, 2.889699935913086, 2.8868000507354736, 2.8808999061584473, 2.878499984741211, 2.8757998943328857, 2.875699996948242, 2.870500087738037, 2.8682000637054443, 2.8680999279022217, 2.8647000789642334, 2.862799882888794, 2.8568999767303467, 2.855600118637085, 2.855600118637085, 2.8526999950408936, 2.8494999408721924, 2.8489999771118164, 2.8457999229431152, 2.8457000255584717, 2.8457000255584717, 2.8445000648498535, 2.841599941253662, 2.8415000438690186, 2.8415000438690186, 2.8415000438690186, 2.8415000438690186, 2.841399908065796, 2.8399999141693115, 2.836699962615967, 2.836699962615967, 2.8304998874664307, 2.8343000411987305, 2.7646000385284424, 2.802799940109253, 2.814199924468994, 2.7571001052856445, 2.8006999492645264, 2.773900032043457, 2.7583000659942627, 2.7407000064849854, 2.7520999908447266, 2.8157999515533447, 2.799999952316284, 2.5927000045776367, 2.5815000534057617, 2.7932000160217285, 2.729599952697754, 2.724600076675415, 2.1282999515533447, 1.9434000253677368, 2.4565999507904053, 1.9620000123977661, 1.9980000257492065, 2.2335000038146973, 2.5062999725341797, 1.9074000120162964, 1.9874000549316406, 0.8553000092506409, 1.4151999950408936, 1.495300054550171, 0.9217000007629395, 0.8134999871253967, 1.7396999597549438, 0.8277999758720398, 0.8791999816894531, 1.1857000589370728, 1.2354999780654907, 1.1377999782562256, 1.0327999591827393, 1.4328999519348145, 0.17399999499320984, 0.3285999894142151, 0.7886999845504761, -0.47279998660087585, 0.15940000116825104, 0.32710000872612, 2.9832000732421875, 2.979599952697754, 2.96589994430542, 2.9637999534606934, 2.96370005607605, 2.9577999114990234, 2.9558000564575195, 2.952500104904175, 2.948899984359741, 2.9488000869750977, 2.9488000869750977, 2.947999954223633, 2.9446001052856445, 2.9446001052856445, 2.9446001052856445, 2.9446001052856445, 2.9446001052856445, 2.9433999061584473, 2.9398000240325928, 2.9398000240325928, 2.93969988822937, 2.93969988822937, 2.9395999908447266, 2.9395999908447266, 2.9382998943328857, 2.936500072479248, 2.9342000484466553, 2.9335999488830566, 2.927500009536743, 2.9196999073028564, 2.908900022506714, 2.8666000366210938, 2.8375000953674316, 2.8032000064849854, 2.862799882888794, 2.8478000164031982, 2.7706000804901123, 2.794600009918213, 2.8313000202178955, 2.634999990463257, 2.679800033569336, 2.6089999675750732, 2.811300039291382, 2.6977999210357666, 2.830199956893921, 2.4305999279022217, 2.3417000770568848, 2.632200002670288, 2.521899938583374, 2.277600049972534, 2.4953999519348145, 2.3017001152038574, 1.75409996509552, 2.2985999584198, 1.8281999826431274, 1.38919997215271, 2.0171000957489014, 1.572700023651123, 1.8179999589920044, 1.666700005531311, 1.518399953842163, 1.9988000392913818, 1.0823999643325806, 0.9890000224113464, 1.704699993133545, 0.5992000102996826, 1.3595000505447388, 1.7978999614715576, 0.9550999999046326, 0.8755999803543091, 0.5659000277519226, 0.8956999778747559, 0.9194999933242798, 0.9606999754905701, 0.2547999918460846, 0.052000001072883606, 0.7269999980926514, 1.4247000217437744, -0.2492000013589859, 3.0123000144958496, 3.0071001052856445, 3.0065999031066895, 3.000200033187866, 3.000200033187866, 3.000200033187866, 2.9937000274658203, 2.990999937057495, 2.990999937057495, 2.990999937057495, 2.9909000396728516, 2.98799991607666, 2.987600088119507, 2.9809999465942383, 2.9809999465942383, 2.9809999465942383, 2.9809999465942383, 2.9809999465942383, 2.9809999465942383, 2.9809999465942383, 2.980799913406372, 2.978300094604492, 2.976799964904785, 2.976799964904785, 2.9749999046325684, 2.974400043487549, 2.973900079727173, 2.97189998626709, 2.966200113296509, 2.9635000228881836, 2.9556000232696533, 2.9581000804901123, 2.90910005569458, 2.8975000381469727, 2.8477001190185547, 2.840100049972534, 2.872499942779541, 2.813800096511841, 2.700500011444092, 2.8864998817443848, 2.8036999702453613, 2.544600009918213, 2.856300115585327, 2.5387001037597656, 2.5845000743865967, 1.7864999771118164, 2.26200008392334, 2.4096999168395996, 2.7284998893737793, 1.9469000101089478, 2.6201999187469482, 2.716900110244751, 2.0992000102996826, 2.4293999671936035, 2.5230000019073486, 1.3672000169754028, 2.2156999111175537, 1.5039000511169434, 2.0069000720977783, 2.448199987411499, 2.0917999744415283, 1.3179999589920044, 1.7139999866485596, 1.4050999879837036, 1.9098000526428223, 0.8794999718666077, 1.0989999771118164, 1.607200026512146, 2.006500005722046, 0.60589998960495, 2.0481998920440674, 1.1833000183105469, 1.607300043106079, 0.07930000126361847, 0.06379999965429306, 0.8486999869346619, 0.6270999908447266, 1.2929999828338623, 0.8884999752044678, 0.891700029373169, 3.0683999061584473, 3.0648999214172363, 3.064300060272217, 3.0625, 3.062000036239624, 3.0608999729156494, 3.055999994277954, 3.0515999794006348, 3.0483999252319336, 3.0476999282836914, 3.046999931335449, 3.0469000339508057, 3.0460000038146973, 3.0455000400543213, 3.0399999618530273, 3.039299964904785, 3.037899971008301, 3.037899971008301, 3.0355000495910645, 3.0355000495910645, 3.032900094985962, 3.029900074005127, 3.026599884033203, 3.026599884033203, 3.026599884033203, 3.0264999866485596, 3.022900104522705, 3.022900104522705, 3.022900104522705, 3.022900104522705, 3.019200086593628, 3.003000020980835, 2.987499952316284, 2.990299940109253, 2.852799892425537, 2.934999942779541, 2.7692999839782715, 2.7369000911712646, 2.7472000122070312, 2.5037999153137207, 2.3557000160217285, 2.6073999404907227, 2.6967999935150146, 2.8794000148773193, 2.8975000381469727, 2.0680999755859375, 2.030900001525879, 2.563199996948242, 2.3803999423980713, 2.5838000774383545, 2.422100067138672, 2.594399929046631, 2.663599967956543, 2.1540000438690186, 2.2283999919891357, 2.216399908065796, 1.822100043296814, 1.4514000415802002, 2.092400074005127, 1.7660000324249268, 1.84089994430542, 1.6234999895095825, 0.4000000059604645, 1.4485000371932983, 1.3416999578475952, 0.7649999856948853, 1.781000018119812, 0.9819999933242798, 1.5724999904632568, 1.8417999744415283, 0.4097000062465668, 1.2134000062942505, 0.9660999774932861, 0.22830000519752502, 0.9208999872207642, 3.137500047683716, 3.13700008392334, 3.1333000659942627, 3.131500005722046, 3.1294000148773193, 3.121299982070923, 3.117500066757202, 3.1154000759124756, 3.1154000759124756, 3.11299991607666, 3.1084001064300537, 3.107300043106079, 3.1068999767303467, 3.104099988937378, 3.1005001068115234, 3.096299886703491, 3.096299886703491, 3.0961999893188477, 3.0961999893188477, 3.0961999893188477, 3.091399908065796, 3.091399908065796, 3.090100049972534, 3.086899995803833, 3.0843000411987305, 3.079200029373169, 3.079200029373169, 3.079200029373169, 3.079200029373169, 3.0790998935699463, 3.0427000522613525, 3.0460000038146973, 3.014899969100952, 3.0297000408172607, 3.0350000858306885, 2.9607999324798584, 2.9876999855041504, 2.91729998588562, 3.0464000701904297, 2.7109999656677246, 2.914799928665161, 2.7065000534057617, 2.7304000854492188, 2.8671998977661133, 2.82069993019104, 2.4351000785827637, 2.7079999446868896, 2.4128000736236572, 2.445499897003174, 2.608099937438965, 2.4435999393463135, 2.0553998947143555, 1.5946999788284302, 1.7619999647140503, 0.8898000121116638, 1.3312000036239624, 1.8013999462127686, 2.156599998474121, 0.8672000169754028, 1.6262999773025513, 1.7603000402450562, 1.2980999946594238, 1.4218000173568726, 2.218400001525879, 1.611899971961975, 0.8174999952316284, 1.8281999826431274, 1.743299961090088, 0.9325000047683716, 1.7323999404907227, 1.8562999963760376, 1.7723000049591064, 0.7146999835968018, 1.058899998664856, 0.9146999716758728, 0.9962999820709229, 0.3725999891757965, 1.8919999599456787, 0.42239999771118164, 1.4011000394821167, 1.260699987411499, 0.376800000667572, -0.3490999937057495, 0.6654000282287598, 0.8967999815940857, 3.151700019836426, 3.1484999656677246, 3.1465001106262207, 3.1417999267578125, 3.137200117111206, 3.1354000568389893, 3.1333999633789062, 3.1333999633789062, 3.1312999725341797, 3.1161999702453613, 3.1161999702453613, 3.115600109100342, 3.111999988555908, 3.1105000972747803, 3.107100009918213, 3.107100009918213, 3.107100009918213, 3.107100009918213, 3.1070001125335693, 3.106600046157837, 3.1013998985290527, 3.1013998985290527, 3.1013998985290527, 3.1013998985290527, 3.1013998985290527, 3.1013998985290527, 3.1013998985290527, 3.1013998985290527, 3.098299980163574, 3.0947999954223633, 3.0850000381469727, 3.0631000995635986, 3.016200065612793, 3.082900047302246, 3.0092999935150146, 2.9818999767303467, 3.0185000896453857, 2.940700054168701, 3.069999933242798, 2.9014999866485596, 2.9904000759124756, 2.842600107192993, 2.9974000453948975, 2.6821000576019287, 2.8217999935150146, 2.9858999252319336, 2.8643999099731445, 2.8942999839782715, 2.833899974822998, 2.5130999088287354, 2.6175999641418457, 2.297800064086914, 1.9651000499725342, 2.188499927520752, 1.389799952507019, 2.216399908065796, 1.7994999885559082, 1.6186000108718872, 2.3125998973846436, 2.308500051498413, 1.0110000371932983, 1.7400000095367432, 1.0709999799728394, 1.426800012588501, 0.25060001015663147, 1.3947999477386475, 0.9940000176429749, -0.06530000269412994, 0.5856999754905701, 1.542099952697754, -0.10440000146627426, 0.21879999339580536, 1.072700023651123, 1.1296000480651855, 3.2934000492095947, 3.2897000312805176, 3.2813000679016113, 3.2679998874664307, 3.2679998874664307, 3.253700017929077, 3.253000020980835, 3.2511000633239746, 3.2511000633239746, 3.2511000633239746, 3.249799966812134, 3.2481000423431396, 3.2481000423431396, 3.2481000423431396, 3.2460999488830566, 3.2446999549865723, 3.233299970626831, 3.223599910736084, 3.219399929046631, 3.219399929046631, 3.2114999294281006, 3.2114999294281006, 3.2114999294281006, 3.2114999294281006, 3.2114999294281006, 3.211400032043457, 3.211400032043457, 3.211400032043457, 3.2019999027252197, 3.2019999027252197, 3.1856000423431396, 3.2009999752044678, 3.177799940109253, 3.1563000679016113, 3.1347999572753906, 3.1638998985290527, 3.1884000301361084, 3.0136001110076904, 2.9565000534057617, 3.0297999382019043, 2.918100118637085, 3.114000082015991, 2.952199935913086, 2.951200008392334, 2.7351999282836914, 2.742300033569336, 2.923099994659424, 2.995300054550171, 2.8320000171661377, 2.7253000736236572, 2.5992000102996826, 2.657900094985962, 2.73799991607666, 2.278899908065796, 2.6975998878479004, 1.6266000270843506, 2.164099931716919, 2.3949999809265137, 1.2400000095367432, 2.154599905014038, 1.7526999711990356, 1.214900016784668, 1.881500005722046, 1.7381999492645264, 1.5902999639511108, 3.3833999633789062, 3.381700038909912, 3.3789000511169434, 3.370699882507324, 3.36899995803833, 3.362799882888794, 3.348599910736084, 3.3440001010894775, 3.342900037765503, 3.3413000106811523, 3.3413000106811523, 3.338399887084961, 3.338399887084961, 3.3382999897003174, 3.3350000381469727, 3.3350000381469727, 3.3350000381469727, 3.3350000381469727, 3.3313000202178955, 3.3313000202178955, 3.3313000202178955, 3.3313000202178955, 3.3313000202178955, 3.3313000202178955, 3.3313000202178955, 3.3313000202178955, 3.3313000202178955, 3.3313000202178955, 3.331199884414673, 3.3220999240875244, 3.2702999114990234, 3.2497000694274902, 3.2183001041412354, 3.199899911880493, 3.1522998809814453, 3.1835999488830566, 3.30049991607666, 3.088599920272827, 3.2123000621795654, 3.2646000385284424, 3.1542999744415283, 3.2118000984191895, 2.908799886703491, 3.044800043106079, 2.9744999408721924, 3.00600004196167, 2.8991000652313232, 2.9031999111175537, 3.115000009536743, 2.919100046157837, 2.7300000190734863, 2.4203999042510986, 2.9045000076293945, 1.2477999925613403, 1.9249999523162842, 2.328900098800659, 2.666599988937378, 1.437399983406067, 1.3166999816894531, 2.1809000968933105, 1.7994999885559082, 1.0882999897003174, 2.3589999675750732, 1.4311000108718872, 1.9924999475479126, 1.826200008392334, 0.7074999809265137, 0.9854999780654907, 1.0113999843597412, 1.479099988937378, 1.5865000486373901, 0.36550000309944153, 1.2100000381469727, 1.027999997138977, 1.1469000577926636, 0.13860000669956207, 3.394700050354004, 3.390199899673462, 3.374300003051758, 3.368000030517578, 3.368000030517578, 3.3666999340057373, 3.3664000034332275, 3.3536999225616455, 3.348099946975708, 3.3410000801086426, 3.336699962615967, 3.336699962615967, 3.3317999839782715, 3.3317999839782715, 3.3317999839782715, 3.3261001110076904, 3.3261001110076904, 3.321199893951416, 3.311500072479248, 3.3113999366760254, 3.311300039291382, 3.306999921798706, 3.3018999099731445, 3.2899999618530273, 3.2899999618530273, 3.2899999618530273, 3.2892000675201416, 3.2750000953674316, 3.2750000953674316, 3.2748000621795654, 3.2723000049591064, 3.2513999938964844, 3.2595999240875244, 3.1702001094818115, 3.151099920272827, 3.171299934387207, 3.108299970626831, 3.1805999279022217, 2.970099925994873, 3.0473999977111816, 3.061199903488159, 3.0866000652313232, 2.7815001010894775, 2.702699899673462, 2.8754000663757324, 3.112299919128418, 2.403700113296509, 3.0940001010894775, 2.890700101852417, 2.6617000102996826, 2.45740008354187, 2.985300064086914, 2.3343000411987305, 2.2562999725341797, 1.8801000118255615, 2.1705000400543213, 1.6057000160217285, 2.198699951171875, 1.9204000234603882, 0.975600004196167, 1.593400001525879, 1.2247999906539917, 2.088200092315674, 0.8964999914169312, 1.7135000228881836, 0.6776999831199646, 1.1475000381469727, -0.43869999051094055, 0.13529999554157257, 0.0617000013589859, 1.3243000507354736, 0.8212000131607056, 3.419800043106079, 3.4054999351501465, 3.3942999839782715, 3.3886001110076904, 3.378700017929077, 3.375, 3.375, 3.375, 3.375, 3.375, 3.3749001026153564, 3.370699882507324, 3.370699882507324, 3.370699882507324, 3.370699882507324, 3.370699882507324, 3.370699882507324, 3.370699882507324, 3.370699882507324, 3.370699882507324, 3.365799903869629, 3.365799903869629, 3.3617000579833984, 3.3606998920440674, 3.3534998893737793, 3.353300094604492, 3.353300094604492, 3.353300094604492, 3.3529999256134033, 3.3487000465393066, 3.3477001190185547, 3.341099977493286, 3.3234000205993652, 3.3434998989105225, 3.3041999340057373, 3.3239998817443848, 3.2648000717163086, 3.2778000831604004, 3.1902999877929688, 3.1568000316619873, 3.281399965286255, 2.9542999267578125, 3.2255001068115234, 3.149199962615967, 2.866300106048584, 2.3975000381469727, 2.996799945831299, 2.8910999298095703, 3.121799945831299, 2.4284000396728516, 3.198899984359741, 2.6268999576568604, 2.3055999279022217, 2.6910998821258545, 2.2676000595092773, 2.5446999073028564, 2.754300117492676, 2.0915000438690186, 2.282900094985962, 1.5492000579833984, 2.0648000240325928, 2.4121999740600586, 1.4722000360488892, 2.1064000129699707, 0.2689000070095062, 2.510699987411499, 2.3301000595092773, 1.1749000549316406, 1.070099949836731, 1.8036999702453613, 1.24590003490448, 0.3452000021934509, 1.4148000478744507, 0.785099983215332, 0.4366999864578247, 0.1996999979019165, 0.6973999738693237, 0.8704000115394592, 0.906000018119812, -0.019099999219179153, 0.7026000022888184, -0.014999999664723873, 3.4444000720977783, 3.4426000118255615, 3.435800075531006, 3.4333999156951904, 3.428499937057495, 3.4282000064849854, 3.425800085067749, 3.4228999614715576, 3.4052000045776367, 3.4024999141693115, 3.4022998809814453, 3.3994998931884766, 3.3994998931884766, 3.396199941635132, 3.3961000442504883, 3.392400026321411, 3.392400026321411, 3.3880999088287354, 3.3880999088287354, 3.3880999088287354, 3.3877999782562256, 3.38319993019104, 3.38319993019104, 3.38319993019104, 3.377500057220459, 3.377500057220459, 3.3773999214172363, 3.370500087738037, 3.354099988937378, 3.341099977493286, 3.3397998809814453, 3.2802999019622803, 3.248800039291382, 3.2509000301361084, 2.941499948501587, 3.1303000450134277, 3.2525999546051025, 3.0539000034332275, 2.73009991645813, 2.80049991607666, 2.9286999702453613, 3.1858999729156494, 2.2679998874664307, 2.863100051879883, 2.350399971008301, 2.3534998893737793, 2.493799924850464, 1.9637000560760498, 2.7685000896453857, 2.322999954223633, 2.183799982070923, 2.65939998626709, 1.594599962234497, 2.587100028991699, 1.781599998474121, 1.9980000257492065, 1.3901000022888184, 1.7051000595092773, 0.5062999725341797, -0.07900000363588333, 1.6009000539779663, 2.0961999893188477, 0.6523000001907349, 1.9766000509262085, 0.04699999839067459, 0.8608999848365784, -0.08919999748468399, 3.4691998958587646, 3.4632999897003174, 3.4590001106262207, 3.4514000415802, 3.4482998847961426, 3.4463000297546387, 3.446199893951416, 3.4433000087738037, 3.4433000087738037, 3.440000057220459, 3.440000057220459, 3.440000057220459, 3.440000057220459, 3.440000057220459, 3.436199903488159, 3.436199903488159, 3.435800075531006, 3.4319000244140625, 3.4319000244140625, 3.4319000244140625, 3.4319000244140625, 3.427000045776367, 3.427000045776367, 3.427000045776367, 3.414400100708008, 3.4098000526428223, 3.406599998474121, 3.406599998474121, 3.4063000679016113, 3.3970000743865967, 3.3921000957489014, 3.375, 3.3847999572753906, 3.3754000663757324, 3.3610000610351562, 3.3076999187469482, 3.256200075149536, 3.314300060272217, 3.2957000732421875, 3.349400043487549, 3.3587000370025635, 3.27020001411438, 3.074899911880493, 2.791599988937378, 3.2846999168395996, 3.2899999618530273, 3.1043999195098877, 2.920599937438965, 1.8974000215530396, 2.97189998626709, 2.6164000034332275, 2.8622000217437744, 2.813199996948242, 2.955199956893921, 3.245800018310547, 2.59879994392395, 1.9021999835968018, 2.7864999771118164, 1.649899959564209, 1.9979000091552734, 2.602099895477295, 1.034999966621399, 1.9414000511169434, 2.5476999282836914, 1.6650999784469604, 0.28529998660087585, 2.1468000411987305, 2.152600049972534, 1.1848000288009644, 0.9940999746322632, 0.5540000200271606, 0.5227000117301941, 1.74399995803833, 0.7293000221252441, 0.7849000096321106, 0.7330999970436096, 1.506600022315979, -0.006899999920278788, 0.4921000003814697, 0.2759999930858612, 0.7402999997138977, 3.522599935531616, 3.5155999660491943, 3.5044000148773193, 3.4870998859405518, 3.4860000610351562, 3.4830000400543213, 3.4830000400543213, 3.4830000400543213, 3.4797000885009766, 3.4797000885009766, 3.479599952697754, 3.4795000553131104, 3.477299928665161, 3.4758999347686768, 3.4758999347686768, 3.4758999347686768, 3.4758999347686768, 3.4758999347686768, 3.4758999347686768, 3.4758999347686768, 3.4758999347686768, 3.4758999347686768, 3.47379994392395, 3.4714999198913574, 3.4667000770568848, 3.4667000770568848, 3.4609999656677246, 3.460900068283081, 3.460900068283081, 3.4518001079559326, 3.40339994430542, 3.425800085067749, 3.355299949645996, 3.324899911880493, 3.3559999465942383, 3.2578999996185303, 3.2402000427246094, 3.192500114440918, 3.315200090408325, 3.046099901199341, 2.882699966430664, 3.036600112915039, 3.27810001373291, 2.698899984359741, 2.857599973678589, 3.0752999782562256, 3.1006999015808105, 3.3001999855041504, 2.6810998916625977, 2.7488999366760254, 2.941999912261963, 2.8857998847961426, 2.8006999492645264, 2.848400115966797, 2.752700090408325, 2.38319993019104, 2.940999984741211, 2.506500005722046, 1.7698999643325806, 2.2335000038146973, 1.8152999877929688, 2.12280011177063, 1.9472999572753906, 2.4625000953674316, 1.5990999937057495, 1.2687000036239624, 0.7764000296592712, 0.5644000172615051, 1.6398999691009521, 0.6938999891281128, -0.7125999927520752, 0.16930000483989716, 3.549299955368042, 3.5411999225616455, 3.5329999923706055, 3.5299999713897705, 3.5250000953674316, 3.5250000953674316, 3.5250000953674316, 3.494800090789795, 3.493799924850464, 3.4828999042510986, 3.4828999042510986, 3.4828999042510986, 3.482800006866455, 3.482800006866455, 3.4825000762939453, 3.474900007247925, 3.4677999019622803, 3.4677999019622803, 3.4677999019622803, 3.4677000045776367, 3.4677000045776367, 3.467600107192993, 3.467600107192993, 3.467600107192993, 3.4658000469207764, 3.4656999111175537, 3.451900005340576, 3.447999954223633, 3.4479000568389893, 3.4479000568389893, 3.430299997329712, 3.39739990234375, 3.4223999977111816, 3.410399913787842, 3.3505001068115234, 3.4319000244140625, 3.4056999683380127, 3.38100004196167, 3.36080002784729, 3.4158999919891357, 3.100100040435791, 3.3863000869750977, 3.409899950027466, 3.243799924850464, 3.108299970626831, 3.0961999893188477, 3.242300033569336, 3.2076001167297363, 2.9367001056671143, 3.0954999923706055, 3.2629001140594482, 2.7976999282836914, 2.6900999546051025, 2.949399948120117, 2.5794999599456787, 2.520400047302246, 2.694200038909912, 2.4024999141693115, 2.7971999645233154, 1.746399998664856, 2.8852999210357666, 1.2843999862670898, 2.7072999477386475, 2.7262001037597656, 1.6553000211715698, 1.8133000135421753, 0.7979999780654907, 1.1130000352859497, 1.9763000011444092, 1.1892999410629272, 0.7717000246047974, 1.1434999704360962, 1.788599967956543, 1.9960999488830566, 2.2797999382019043, 1.3507000207901, 1.9177000522613525, 1.1615999937057495, 0.8235999941825867, 0.6712999939918518, 1.357300043106079, 0.7479000091552734, 1.8352999687194824, -0.3089999854564667, 0.4729999899864197, -0.07479999959468842, 3.573199987411499, 3.570499897003174, 3.568700075149536, 3.5553998947143555, 3.548099994659424, 3.548099994659424, 3.548099994659424, 3.548099994659424, 3.548099994659424, 3.545099973678589, 3.5416998863220215, 3.5380001068115234, 3.5380001068115234, 3.537899971008301, 3.537899971008301, 3.533600091934204, 3.533600091934204, 3.533600091934204, 3.522900104522705, 3.516200065612793, 3.516200065612793, 3.516200065612793, 3.50819993019104, 3.50219988822937, 3.498500108718872, 3.498500108718872, 3.498500108718872, 3.498500108718872, 3.498199939727783, 3.496299982070923, 3.4902000427246094, 3.473299980163574, 3.447999954223633, 3.484800100326538, 3.4474000930786133, 3.424299955368042, 3.4119999408721924, 3.3434998989105225, 3.333899974822998, 3.3185999393463135, 3.3568999767303467, 3.115299940109253, 2.7899999618530273, 3.21370005607605, 3.180500030517578, 3.1064000129699707, 3.146199941635132, 3.4493000507354736, 3.2390999794006348, 2.842099905014038, 2.925100088119507, 2.607599973678589, 2.6073999404907227, 2.8880999088287354, 3.156100034713745, 2.540800094604492, 2.4904000759124756, 3.0901999473571777, 2.3752999305725098, 2.7081000804901123, 2.599100112915039, 1.3502999544143677, 2.547300100326538, 1.7280000448226929, 2.026599884033203, 1.4003000259399414, 2.4096999168395996, 1.1486999988555908, 0.6881999969482422, 1.8797999620437622, 1.2587000131607056, 0.7843000292778015, 1.6633000373840332, 1.085800051689148, 0.7512999773025513, 0.8718000054359436, 1.9681999683380127, 0.34310001134872437, -0.5390999913215637, 3.601099967956543, 3.592099905014038, 3.5896999835968018, 3.5815999507904053, 3.5692999362945557, 3.565500020980835, 3.560800075531006, 3.5596001148223877, 3.558199882507324, 3.558199882507324, 3.558199882507324, 3.5550999641418457, 3.5518999099731445, 3.5518999099731445, 3.5518999099731445, 3.551800012588501, 3.548099994659424, 3.548099994659424, 3.548099994659424, 3.543800115585327, 3.543800115585327, 3.5436999797821045, 3.538800001144409, 3.538800001144409, 3.538800001144409, 3.538800001144409, 3.5329999923706055, 3.5329999923706055, 3.494999885559082, 3.4876999855041504, 3.4203999042510986, 3.3489999771118164, 3.3018999099731445, 3.3701999187469482, 3.194499969482422, 3.3526999950408936, 3.4142000675201416, 3.4038000106811523, 3.460200071334839, 3.4182000160217285, 3.120300054550171, 3.3452999591827393, 3.178100109100342, 3.2363998889923096, 3.073699951171875, 3.1846001148223877, 2.375200033187866, 2.87719988822937, 2.3815999031066895, 2.6714999675750732, 1.6477999687194824, 2.735599994659424, 1.9327000379562378, 3.066499948501587, 2.564300060272217, 2.6875, 2.9260001182556152, 2.484499931335449, 2.5185999870300293, 2.112600088119507, 1.0641000270843506, 2.4879000186920166, 2.277100086212158, 1.4973000288009644, 1.3143999576568604, 0.5978999733924866, 1.0920000076293945, 0.9987999796867371, 0.8185999989509583, 1.1133999824523926, 0.896399974822998, 1.429900050163269, 0.040800001472234726, 0.5893999934196472, -0.09130000323057175, 3.6064000129699707, 3.5971999168395996, 3.592400074005127, 3.589200019836426, 3.5880000591278076, 3.581899881362915, 3.575900077819824, 3.575900077819824, 3.575900077819824, 3.5678000450134277, 3.5643999576568604, 3.5643999576568604, 3.561500072479248, 3.5606000423431396, 3.5606000423431396, 3.5606000423431396, 3.560499906539917, 3.5601999759674072, 3.556299924850464, 3.556299924850464, 3.556299924850464, 3.556299924850464, 3.556299924850464, 3.556299924850464, 3.556299924850464, 3.553299903869629, 3.551300048828125, 3.551300048828125, 3.551300048828125, 3.551300048828125, 3.5353000164031982, 3.5190000534057617, 3.530100107192993, 3.529599905014038, 3.381200075149536, 3.3819000720977783, 3.4807000160217285, 3.5174999237060547, 3.365299940109253, 3.3924999237060547, 3.2558000087738037, 3.2901999950408936, 3.1096999645233154, 3.2604000568389893, 2.8515000343322754, 2.904400110244751, 3.2629001140594482, 2.7936999797821045, 2.9007999897003174, 2.693000078201294, 2.7035999298095703, 2.9042999744415283, 2.911099910736084, 2.4763998985290527, 1.0513999462127686, 0.616599977016449, 2.319999933242798, 1.8004000186920166, 2.1050000190734863, 1.6655999422073364, 1.2110999822616577, 2.418800115585327, 1.9637999534606934, 1.4989999532699585, 1.0465999841690063, 1.5113999843597412, 0.30469998717308044, 0.22579999268054962, 0.9244999885559082, 0.3698999881744385, 1.09089994430542, 0.8956999778747559, 0.5629000067710876, 3.6926000118255615, 3.6870999336242676, 3.686199903488159, 3.679500102996826, 3.676500082015991, 3.674799919128418, 3.6730000972747803, 3.666300058364868, 3.6637001037597656, 3.6607000827789307, 3.6572999954223633, 3.6572999954223633, 3.655600070953369, 3.644200086593628, 3.6384999752044678, 3.631700038909912, 3.6296000480651855, 3.6296000480651855, 3.623699903488159, 3.6236000061035156, 3.614000082015991, 3.614000082015991, 3.6138999462127686, 3.6017000675201416, 3.601599931716919, 3.59879994392395, 3.5868000984191895, 3.5868000984191895, 3.5868000984191895, 3.5868000984191895, 3.569700002670288, 3.5855000019073486, 3.421299934387207, 3.564500093460083, 3.528700113296509, 3.464200019836426, 3.4967000484466553, 3.495800018310547, 3.4242000579833984, 3.113600015640259, 3.223599910736084, 3.240299940109253, 3.325000047683716, 3.305799961090088, 3.1322999000549316, 3.4007999897003174, 3.2046000957489014, 3.270400047302246, 3.2451000213623047, 3.2030999660491943, 2.488300085067749, 2.197999954223633, 1.8529000282287598, 2.071700096130371, 2.2769999504089355, 1.4434000253677368, 2.5690999031066895, 1.9464999437332153, 2.8682000637054443, 2.1519999504089355, 1.368299961090088, 1.3392000198364258, 2.2239999771118164, 2.813699960708618, 1.9815000295639038, 0.37299999594688416, -0.2498999983072281, 0.84170001745224, 1.8273999691009521, 1.7766000032424927, 2.3696999549865723, 0.890999972820282, 2.2990000247955322, 1.4699000120162964, 1.6611000299453735, 3.7472000122070312, 3.739000082015991, 3.738800048828125, 3.7356998920440674, 3.731800079345703, 3.731800079345703, 3.729599952697754, 3.727099895477295, 3.727099895477295, 3.727099895477295, 3.724400043487549, 3.721400022506714, 3.721400022506714, 3.721400022506714, 3.7179999351501465, 3.7179999351501465, 3.7179999351501465, 3.7179999351501465, 3.7179999351501465, 3.7179999351501465, 3.7179999351501465, 3.7179999351501465, 3.70989990234375, 3.70989990234375, 3.70989990234375, 3.70989990234375, 3.70989990234375, 3.70989990234375, 3.704900026321411, 3.704900026321411, 3.6593000888824463, 3.6414999961853027, 3.6566998958587646, 3.460599899291992, 3.6547000408172607, 3.410900115966797, 3.519200086593628, 3.6503000259399414, 3.4879000186920166, 3.5713999271392822, 3.5406999588012695, 3.4911999702453613, 3.5460000038146973, 3.3150999546051025, 3.6173999309539795, 3.4972000122070312, 3.2214999198913574, 3.235100030899048, 3.4547998905181885, 3.0464999675750732, 2.863300085067749, 3.575200080871582, 3.3506999015808105, 1.434499979019165, 2.914799928665161, 2.0376999378204346, 2.6923000812530518, 2.637399911880493, 1.9521000385284424, 2.7163000106811523, 1.940000057220459, 1.1813000440597534, 0.48510000109672546, 1.4394999742507935, 2.6767001152038574, 1.7919000387191772, 1.6420999765396118, 2.186800003051758, 1.3037999868392944, 2.287899971008301, 1.8214000463485718, 1.1126999855041504, 0.3921000063419342, 0.436599999666214, 0.9545000195503235, 1.2364000082015991, 1.1073999404907227, 0.2485000044107437, 0.9811000227928162, 3.7695000171661377, 3.7634999752044678, 3.757200002670288, 3.7558000087738037, 3.7451000213623047, 3.738600015640259, 3.733099937438965, 3.72979998588562, 3.726900100708008, 3.7255001068115234, 3.725399971008301, 3.7249999046325684, 3.7156999111175537, 3.7146999835968018, 3.7146999835968018, 3.7095999717712402, 3.7079999446868896, 3.7077999114990234, 3.7035999298095703, 3.703399896621704, 3.6921000480651855, 3.690200090408325, 3.678100109100342, 3.6777000427246094, 3.663100004196167, 3.662899971008301, 3.662899971008301, 3.6628000736236572, 3.6628000736236572, 3.6628000736236572, 3.65120005607605, 3.6505000591278076, 3.6517999172210693, 3.6459999084472656, 3.594899892807007, 3.5100998878479004, 3.5276999473571777, 3.4330999851226807, 3.349299907684326, 2.6379001140594482, 2.898699998855591, 3.3011999130249023, 2.392899990081787, 2.4918999671936035, 2.6489999294281006, 2.9855000972747803, 3.213099956512451, 2.2804999351501465, 2.5234999656677246, 2.984600067138672, 2.952899932861328, 2.16129994392395, 2.598599910736084, 1.9424999952316284, 0.6761999726295471, 2.348900079727173, 1.1821000576019287, 0.9933000206947327, 0.9212999939918518, 1.3868999481201172, 1.4385000467300415, 0.6725000143051147, 1.9936000108718872, 2.1166000366210938, 1.2015000581741333, 1.8481999635696411, 1.589400053024292, 1.3530000448226929, 0.2921999990940094, 0.07940000295639038, 1.5924999713897705, 1.219599962234497, 3.7901999950408936, 3.788100004196167, 3.784600019454956, 3.783600091934204, 3.780100107192993, 3.778700113296509, 3.7772998809814453, 3.775700092315674, 3.7753000259399414, 3.767899990081787, 3.7562999725341797, 3.7558000087738037, 3.752500057220459, 3.752500057220459, 3.752500057220459, 3.752500057220459, 3.748199939727783, 3.748199939727783, 3.748199939727783, 3.748199939727783, 3.7432000637054443, 3.7432000637054443, 3.741499900817871, 3.730600118637085, 3.7225000858306885, 3.7225000858306885, 3.7225000858306885, 3.7225000858306885, 3.7126998901367188, 3.7070000171661377, 3.6970999240875244, 3.6933000087738037, 3.693000078201294, 3.691200017929077, 3.6858999729156494, 3.4951000213623047, 3.6710000038146973, 3.4593000411987305, 3.018199920654297, 3.337100028991699, 3.2469000816345215, 3.288800001144409, 2.893899917602539, 3.437999963760376, 2.7771999835968018, 3.1275999546051025, 1.583299994468689, 2.7976999282836914, 2.616499900817871, 2.7953999042510986, 2.41759991645813, 2.2829999923706055, 2.407900094985962, 2.70169997215271, 1.2151999473571777, 1.7158000469207764, 1.6660000085830688, 2.230600118637085, 1.7062000036239624, 1.8392000198364258, -0.052799999713897705, 2.1113998889923096, 1.2374999523162842, 1.8436000347137451, 0.40119999647140503, 2.1177000999450684, 0.7692000269889832, 0.6370999813079834, 0.640999972820282, 0.1459999978542328, 0.8285999894142151, 0.6152999997138977, 0.8185999989509583, -0.09880000352859497, 3.8050999641418457, 3.8029000759124756, 3.7955000400543213, 3.7945001125335693, 3.7920000553131104, 3.7920000553131104, 3.7892000675201416, 3.7876999378204346, 3.7874999046325684, 3.7860000133514404, 3.78410005569458, 3.768199920654297, 3.7643001079559326, 3.7600998878479004, 3.7600998878479004, 3.7600998878479004, 3.7600998878479004, 3.7600998878479004, 3.7600998878479004, 3.7551000118255615, 3.7551000118255615, 3.755000114440918, 3.749300003051758, 3.749300003051758, 3.749000072479248, 3.7416999340057373, 3.7342000007629395, 3.712399959564209, 3.710400104522705, 3.700200080871582, 3.6958999633789062, 3.6586999893188477, 3.655600070953369, 3.598599910736084, 3.591399908065796, 3.275399923324585, 3.28410005569458, 3.4047000408172607, 3.4066998958587646, 3.1224000453948975, 3.121999979019165, 2.6463000774383545, 3.4419000148773193, 3.1868999004364014, 3.135200023651123, 3.053999900817871, 2.691699981689453, 3.142199993133545, 2.9612998962402344, 2.6305999755859375, 3.1386001110076904, 1.420300006866455, 2.197700023651123, 3.13100004196167, 2.468400001525879, 1.347100019454956, 2.5113000869750977, 0.9426000118255615, 1.194700002670288, 2.1547999382019043, -0.12229999899864197, 1.7776000499725342, 1.1634999513626099, 1.3933000564575195, 1.2438000440597534, 1.0913000106811523, 1.5266000032424927, 0.6527000069618225, 0.9991000294685364, 3.819700002670288, 3.8124001026153564, 3.805500030517578, 3.7955000400543213, 3.7836999893188477, 3.7836999893188477, 3.777899980545044, 3.777899980545044, 3.7744998931884766, 3.770699977874756, 3.7706000804901123, 3.7662999629974365, 3.7662999629974365, 3.7662999629974365, 3.762399911880493, 3.7613000869750977, 3.7402000427246094, 3.730600118637085, 3.727299928665161, 3.7184998989105225, 3.6986000537872314, 3.683000087738037, 3.683000087738037, 3.683000087738037, 3.6809000968933105, 3.6689999103546143, 3.6554999351501465, 3.6552000045776367, 3.655100107192993, 3.6540000438690186, 3.609800100326538, 3.6280999183654785, 3.6098999977111816, 3.5243000984191895, 3.5618999004364014, 3.5002999305725098, 3.358799934387207, 3.547100067138672, 3.4735000133514404, 3.4000000953674316, 3.1273000240325928, 2.927000045776367, 3.259500026702881, 2.84689998626709, 3.1545000076293945, 3.2746999263763428, 2.6558001041412354, 2.94350004196167, 2.7600998878479004, 1.6833000183105469, 3.1751999855041504, 3.017199993133545, 2.845400094985962, 1.8504999876022339, 2.7137999534606934, 2.8857998847961426, 2.7609000205993652, 0.8600999712944031, 0.7372999787330627, 1.3322999477386475, 2.5896999835968018, -0.01759999990463257, 1.1180000305175781, 2.1017000675201416, 1.1030000448226929, 1.0038000345230103, 0.1687999963760376, 1.0543999671936035, 0.8562999963760376, 2.0083999633789062, 0.8971999883651733, 3.8345000743865967, 3.807300090789795, 3.8048999309539795, 3.804500102996826, 3.8022000789642334, 3.795799970626831, 3.795799970626831, 3.795799970626831, 3.7953999042510986, 3.7918999195098877, 3.7918999195098877, 3.7869999408721924, 3.7767999172210693, 3.7699999809265137, 3.7699999809265137, 3.769700050354004, 3.761899948120117, 3.761899948120117, 3.7618000507354736, 3.7520999908447266, 3.7520999908447266, 3.752000093460083, 3.751300096511841, 3.743499994277954, 3.7427000999450684, 3.7399001121520996, 3.739799976348877, 3.72760009765625, 3.7221999168395996, 3.7044999599456787, 3.7023000717163086, 3.674099922180176, 3.655100107192993, 3.6623001098632812, 3.6784000396728516, 3.5732998847961426, 3.5571000576019287, 3.513700008392334, 3.276900053024292, 3.608099937438965, 3.4107000827789307, 3.530900001525879, 3.342600107192993, 3.4093000888824463, 3.2848000526428223, 3.40339994430542, 3.2967000007629395, 2.9042000770568848, 2.9556000232696533, 3.2511000633239746, 2.102099895477295, 3.331899881362915, 1.9677000045776367, 2.483799934387207, 1.9251999855041504, 3.017899990081787, 2.7952001094818115, 2.8231000900268555, 1.9437999725341797, 3.1473000049591064, 2.5532000064849854, 2.7632999420166016, 2.5360000133514404, 2.7381999492645264, 1.4643000364303589, 0.964900016784668, 1.3437000513076782, 2.0473999977111816, 1.2735999822616577, 2.4458000659942627, 1.3027000427246094, 1.1857999563217163, 1.7142000198364258, 1.3330999612808228, 2.1877999305725098, 1.0116000175476074, 1.305999994277954, 0.18389999866485596, 1.3371000289916992, 1.7201000452041626, 0.7466999888420105, 1.3252999782562256, 0.15029999613761902, -0.09489999711513519, 3.8864998817443848, 3.884200096130371, 3.884200096130371, 3.882999897003174, 3.880199909210205, 3.875, 3.870800018310547, 3.868299961090088, 3.865600109100342, 3.8598999977111816, 3.859100103378296, 3.859100103378296, 3.855299949645996, 3.8552000522613525, 3.852099895477295, 3.8508999347686768, 3.8508999347686768, 3.8508999347686768, 3.8508999347686768, 3.8508999347686768, 3.8508999347686768, 3.850800037384033, 3.8457999229431152, 3.8457999229431152, 3.8399999141693115, 3.8399999141693115, 3.839400053024292, 3.8338000774383545, 3.833199977874756, 3.833199977874756, 3.823899984359741, 3.7997000217437744, 3.7751998901367188, 3.6702001094818115, 3.751800060272217, 3.68149995803833, 3.4791998863220215, 3.6531999111175537, 3.29010009765625, 3.7911999225616455, 3.386699914932251, 3.3176000118255615, 3.4196999073028564, 3.59879994392395, 3.1143999099731445, 2.5088000297546387, 2.931999921798706, 2.5439999103546143, 2.8933000564575195, 3.272700071334839, 1.32260000705719, 2.9189999103546143, 2.3020999431610107, 2.4421000480651855, 0.9642999768257141, 1.8210999965667725, 1.634600043296814, 1.6866999864578247, 1.6833000183105469, 1.3301000595092773, 1.0956000089645386, 0.6183000206947327, 2.090100049972534, 2.5327999591827393, 2.1338000297546387, 1.8494999408721924, 1.2481000423431396, 2.6410999298095703, 1.2275999784469604, 0.46549999713897705, -0.19689999520778656, -0.0917000025510788, 3.9846999645233154, 3.9844000339508057, 3.9804999828338623, 3.979599952697754, 3.975600004196167, 3.967900037765503, 3.967900037765503, 3.9667000770568848, 3.9611001014709473, 3.9611001014709473, 3.9512999057769775, 3.9507999420166016, 3.9451000690460205, 3.941699981689453, 3.933500051498413, 3.9226999282836914, 3.919600009918213, 3.915800094604492, 3.907599925994873, 3.900899887084961, 3.8726999759674072, 3.869999885559082, 3.86299991607666, 3.8501999378204346, 3.8501999378204346, 3.849900007247925, 3.8417000770568848, 3.8327999114990234, 3.832200050354004, 3.822700023651123, 3.811300039291382, 3.7980000972747803, 3.812000036239624, 3.7997000217437744, 3.7544000148773193, 3.6610000133514404, 3.6760001182556152, 3.3013999462127686, 3.541800022125244, 3.57450008392334, 3.3731000423431396, 3.6380999088287354, 2.6747000217437744, 3.333199977874756, 3.063800096511841, 3.031399965286255, 2.3912999629974365, 1.7581000328063965, 2.717099905014038, 2.3203999996185303, 1.7217999696731567, 2.1754000186920166, 2.112600088119507, 2.0857999324798584, 1.922700047492981, 2.365999937057495, 2.7990000247955322, 0.944100022315979, 1.5951000452041626, 1.4464000463485718, 1.611799955368042, 4.036099910736084, 4.029799938201904, 4.009399890899658, 3.995500087738037, 3.987299919128418, 3.9870998859405518, 3.9695000648498535, 3.969399929046631, 3.961400032043457, 3.961400032043457, 3.9612998962402344, 3.9514999389648438, 3.9514999389648438, 3.9514999389648438, 3.9514000415802, 3.9514000415802, 3.9453999996185303, 3.939300060272217, 3.939300060272217, 3.9391000270843506, 3.923799991607666, 3.923799991607666, 3.923799991607666, 3.923799991607666, 3.903599977493286, 3.903599977493286, 3.9035000801086426, 3.880199909210205, 3.875999927520752, 3.8757998943328857, 3.870500087738037, 3.8554000854492188, 3.852400064468384, 3.777899980545044, 3.7727999687194824, 3.714200019836426, 3.659899950027466, 3.7590999603271484, 3.4928998947143555, 3.4119999408721924, 3.724299907684326, 3.7983999252319336, 3.6449999809265137, 3.662899971008301, 3.6982998847961426, 3.548099994659424, 3.749799966812134, 3.1635000705718994, 3.7026000022888184, 2.748800039291382, 2.6854000091552734, 3.3066000938415527, 2.799999952316284, 1.4842000007629395, 2.8290998935699463, 1.645400047302246, 2.8912999629974365, 3.0752999782562256, 1.8004000186920166, 2.591099977493286, 0.8885999917984009, 1.4289000034332275, 0.739799976348877, 1.7724000215530396, -0.41290000081062317, 0.451200008392334, 2.009500026702881, 1.5516999959945679, 0.8294000029563904, -0.18889999389648438, 1.1771999597549438, 0.365200012922287, 4.099999904632568, 4.0970001220703125, 4.092599868774414, 4.0883002281188965, 4.085400104522705, 4.083600044250488, 4.052000045776367, 4.048600196838379, 4.0447001457214355, 4.0447001457214355, 4.0447001457214355, 4.0447001457214355, 4.040299892425537, 4.040299892425537, 4.040299892425537, 4.040299892425537, 4.040299892425537, 4.040299892425537, 4.040299892425537, 4.040299892425537, 4.040299892425537, 4.035900115966797, 4.035299777984619, 4.035299777984619, 4.035299777984619, 4.035299777984619, 4.035299777984619, 4.035299777984619, 4.035299777984619, 4.035299777984619, 3.9704999923706055, 3.911600112915039, 3.848400115966797, 3.863800048828125, 3.8229000568389893, 3.8229000568389893, 3.995699882507324, 3.6828999519348145, 3.664900064468384, 3.8635001182556152, 3.5868000984191895, 3.6865999698638916, 3.369499921798706, 3.124300003051758, 2.71370005607605, 3.6038999557495117, 3.1143999099731445, 2.114799976348877, 3.050299882888794, 3.8220999240875244, 2.443700075149536, 2.3213999271392822, 2.5253000259399414, 2.7860000133514404, 1.895799994468689, 1.9249999523162842, 0.5498999953269958, 0.8122000098228455, 0.4198000133037567, -0.5519000291824341, 1.048200011253357], \"logprob\": [30.0, 29.0, 28.0, 27.0, 26.0, 25.0, 24.0, 23.0, 22.0, 21.0, 20.0, 19.0, 18.0, 17.0, 16.0, 15.0, 14.0, 13.0, 12.0, 11.0, 10.0, 9.0, 8.0, 7.0, 6.0, 5.0, 4.0, 3.0, 2.0, 1.0, -6.163400173187256, -6.35099983215332, -6.756100177764893, -6.780399799346924, -6.910299777984619, -6.910699844360352, -6.967400074005127, -6.968200206756592, -7.059800148010254, -7.126500129699707, -7.274600028991699, -7.274899959564209, -6.602099895477295, -7.402299880981445, -7.44980001449585, -7.497600078582764, -7.497799873352051, -7.548600196838379, -7.548699855804443, -7.548900127410889, -6.856200218200684, -6.882699966430664, -7.602700233459473, -7.602799892425537, -7.603099822998047, -7.603000164031982, -7.603700160980225, -7.659599781036377, -7.659800052642822, -7.659900188446045, -5.814199924468994, -6.9959001541137695, -7.086299896240234, -6.5904998779296875, -6.573500156402588, -6.653800010681152, -6.083700180053711, -5.110199928283691, -5.5391998291015625, -6.548999786376953, -4.797999858856201, -5.735499858856201, -6.1631999015808105, -6.777599811553955, -5.789999961853027, -6.652200222015381, -6.1153998374938965, -5.357699871063232, -4.440100193023682, -4.886600017547607, -6.129499912261963, -4.9257001876831055, -6.122399806976318, -5.964300155639648, -5.907700061798096, -6.162799835205078, -6.397900104522705, -4.790200233459473, -5.751800060272217, -5.101099967956543, -5.684700012207031, -4.80709981918335, -5.095600128173828, -4.758900165557861, -5.4456000328063965, -6.116499900817871, -6.230899810791016, -5.723400115966797, -5.472899913787842, -5.341700077056885, -5.723400115966797, -5.649600028991699, -5.5503997802734375, -5.644999980926514, -5.385700225830078, -5.744699954986572, -5.498799800872803, -5.720300197601318, -5.841300010681152, -5.243199825286865, -5.400199890136719, -6.115600109100342, -6.227700233459473, -6.263199806213379, -5.4008002281188965, -6.567500114440918, -6.749499797821045, -6.870800018310547, -4.70389986038208, -5.552999973297119, -5.90910005569458, -7.008900165557861, -7.046500205993652, -7.3084001541137695, -7.360099792480469, -5.8028998374938965, -7.414700031280518, -5.744500160217285, -7.4710001945495605, -7.47189998626709, -7.664599895477295, -7.66510009765625, -7.008900165557861, -6.880499839782715, -7.818299770355225, -4.606500148773193, -7.907100200653076, -7.906000137329102, -8.000300407409668, -6.480100154876709, -5.23859977722168, -5.253200054168701, -5.003600120544434, -5.915500164031982, -5.501500129699707, -5.57480001449585, -5.98360013961792, -5.293399810791016, -5.468999862670898, -5.207099914550781, -4.46589994430542, -5.724299907684326, -4.377099990844727, -5.371399879455566, -4.594600200653076, -5.0954999923706055, -4.898399829864502, -5.275700092315674, -4.27239990234375, -4.525100231170654, -4.467100143432617, -4.689700126647949, -4.0005998611450195, -4.662899971008301, -5.047800064086914, -3.9296998977661133, -5.185400009155273, -4.479700088500977, -4.476900100708008, -4.871300220489502, -5.221099853515625, -4.859300136566162, -4.731599807739258, -4.701200008392334, -4.466300010681152, -4.249800205230713, -4.857800006866455, -4.927499771118164, -4.950200080871582, -5.088900089263916, -4.967299938201904, -4.967400074005127, -4.993899822235107, -6.053599834442139, -6.210700035095215, -6.477099895477295, -6.564000129699707, -6.65910005569458, -6.65939998626709, -6.8028998374938965, -6.882199764251709, -6.882900238037109, -6.969099998474121, -7.0152997970581055, -7.117099761962891, -7.169400215148926, -6.375800132751465, -7.2266998291015625, -7.286900043487549, -6.536499977111816, -7.351200103759766, -7.351900100708008, -7.351900100708008, -7.352700233459473, -6.4893999099731445, -7.420100212097168, -7.420400142669678, -7.420400142669678, -7.420400142669678, -7.420499801635742, -7.422100067138672, -7.49429988861084, -7.4944000244140625, -6.7729997634887695, -7.2459001541137695, -5.151800155639648, -6.504300117492676, -6.897900104522705, -5.964099884033203, -6.703800201416016, -6.285099983215332, -6.2052998542785645, -5.98199987411499, -6.158199787139893, -7.017899990081787, -6.9116997718811035, -5.441400051116943, -5.414599895477295, -6.882299900054932, -6.527599811553955, -6.6356000900268555, -4.780799865722656, -5.225900173187256, -6.241300106048584, -5.449100017547607, -5.531599998474121, -6.053699970245361, -6.404799938201904, -5.65910005569458, -5.796599864959717, -4.558599948883057, -5.522200107574463, -5.593299865722656, -5.188600063323975, -5.322400093078613, -5.915599822998047, -5.39709997177124, -5.542799949645996, -5.715199947357178, -5.775400161743164, -5.750800132751465, -5.822400093078613, -5.957300186157227, -5.646399974822998, -5.7617998123168945, -5.85699987411499, -5.8302001953125, -5.927499771118164, -5.9822001457214355, -6.349800109863281, -5.728700160980225, -6.914599895477295, -6.962600231170654, -5.848599910736084, -6.717599868774414, -7.125199794769287, -7.185699939727783, -7.249800205230713, -7.250100135803223, -7.25029993057251, -7.251399993896484, -7.318600177764893, -7.318600177764893, -7.318600177764893, -7.318699836730957, -7.3196001052856445, -6.472899913787842, -7.392600059509277, -7.392600059509277, -7.393499851226807, -7.393599987030029, -7.394800186157227, -7.394899845123291, -6.701399803161621, -6.739999771118164, -7.472400188446045, -7.474400043487549, -7.560299873352051, -7.654200077056885, -7.068900108337402, -5.7093000411987305, -5.093800067901611, -4.504499912261963, -5.99560022354126, -6.172999858856201, -5.262400150299072, -6.099699974060059, -6.5559000968933105, -5.375400066375732, -5.748600006103516, -5.8632001876831055, -6.763299942016602, -6.359399795532227, -6.883600234985352, -5.406499862670898, -5.199999809265137, -6.354599952697754, -6.100299835205078, -5.591700077056885, -6.106500148773193, -5.706500053405762, -4.622700214385986, -5.850900173187256, -5.181300163269043, -4.587699890136719, -5.494100093841553, -4.977200031280518, -5.406899929046631, -5.375199794769287, -5.234399795532227, -5.7204999923706055, -4.911600112915039, -4.939199924468994, -5.518599987030029, -4.758200168609619, -5.3119001388549805, -5.606599807739258, -5.245200157165527, -5.211400032043457, -5.121399879455566, -5.333700180053711, -5.384799957275391, -5.400100231170654, -5.349599838256836, -5.3618998527526855, -5.4822998046875, -5.584099769592285, -5.497200012207031, -6.500800132751465, -6.5381999015808105, -6.676499843597412, -6.843299865722656, -6.843299865722656, -6.843299865722656, -6.989699840545654, -7.043700218200684, -7.043700218200684, -7.043799877166748, -7.044000148773193, -7.102099895477295, -5.914100170135498, -7.225599765777588, -7.225599765777588, -7.225599765777588, -7.2256999015808105, -7.22599983215332, -7.226200103759766, -7.2266998291015625, -7.226200103759766, -6.567399978637695, -7.29449987411499, -7.29449987411499, -7.232399940490723, -6.71560001373291, -6.221399784088135, -7.3684000968933105, -7.448500156402588, -6.352399826049805, -5.912600040435791, -6.438300132751465, -5.550000190734863, -5.989699840545654, -5.279300212860107, -5.675000190734863, -6.048099994659424, -6.120999813079834, -5.503799915313721, -6.661600112915039, -6.204400062561035, -4.846199989318848, -6.567399978637695, -5.060500144958496, -5.529399871826172, -2.6835999488830566, -4.381700038909912, -4.94789981842041, -6.093800067901611, -3.6261000633239746, -5.903900146484375, -6.201200008392334, -4.894000053405762, -5.647600173950195, -5.867800235748291, -3.920099973678589, -5.361400127410889, -4.311200141906738, -5.122300148010254, -5.763000011444092, -5.3404998779296875, -4.432499885559082, -5.001399993896484, -4.811800003051758, -5.299499988555908, -4.520400047302246, -4.721399784088135, -5.281300067901611, -5.5381999015808105, -4.738100051879883, -5.601900100708008, -5.311500072479248, -5.481400012969971, -5.156199932098389, -5.184100151062012, -5.351600170135498, -5.321000099182129, -5.446000099182129, -5.454400062561035, -5.454899787902832, -5.689799785614014, -5.802000045776367, -5.924600124359131, -6.131199836730957, -6.154699802398682, -6.203400135040283, -6.395599842071533, -5.832099914550781, -6.633800029754639, -6.529200077056885, -6.672999858856201, -6.598899841308594, -6.405700206756592, -6.714000225067139, -6.847499847412109, -6.803500175476074, -6.8958001136779785, -6.895899772644043, -6.947000026702881, -6.9471001625061035, -7.000999927520752, -7.05810022354126, -7.118599891662598, -7.118800163269043, -7.11899995803833, -7.120299816131592, -7.183000087738037, -7.183000087738037, -7.183000087738037, -7.183000087738037, -6.525199890136719, -6.311500072479248, -5.880799770355225, -6.491499900817871, -4.860599994659424, -6.2835001945495605, -5.055600166320801, -5.252799987792969, -5.47629976272583, -4.515999794006348, -3.9909000396728516, -5.065199851989746, -5.520599842071533, -6.273399829864502, -6.369500160217285, -3.7469000816345215, -4.286900043487549, -5.6346001625061035, -5.283599853515625, -5.703499794006348, -5.426599979400635, -5.748300075531006, -5.890100002288818, -4.995800018310547, -5.175899982452393, -5.1682000160217285, -4.643400192260742, -4.299099922180176, -5.225900173187256, -4.972899913787842, -5.080699920654297, -4.901599884033203, -4.070199966430664, -4.894499778747559, -4.87529993057251, -4.592400074005127, -5.18779993057251, -4.838399887084961, -5.142899990081787, -5.389100074768066, -4.990200042724609, -5.238800048828125, -5.201900005340576, -5.115699768066406, -5.215000152587891, -6.144100189208984, -6.1697998046875, -6.310699939727783, -6.373199939727783, -6.440100193023682, -6.671599864959717, -6.762400150299072, -6.8109002113342285, -6.811699867248535, -6.862199783325195, -6.9182000160217285, -6.973700046539307, -6.974400043487549, -7.034800052642822, -7.098299980163574, -7.166900157928467, -7.167099952697754, -7.167699813842773, -7.167099952697754, -7.167600154876709, -7.240799903869629, -7.241799831390381, -6.5493998527526855, -7.245699882507324, -7.323800086975098, -7.407700061798096, -7.407700061798096, -7.407700061798096, -7.407800197601318, -7.408299922943115, -6.017199993133545, -6.343599796295166, -6.02869987487793, -6.446199893951416, -6.765900135040283, -6.321800231933594, -6.730199813842773, -6.416500091552734, -7.034599781036377, -5.796999931335449, -6.595699787139893, -5.975200176239014, -6.181700229644775, -6.551499843597412, -6.491000175476074, -5.679999828338623, -6.314899921417236, -5.796000003814697, -5.9166998863220215, -6.194499969482422, -5.967899799346924, -5.613500118255615, -5.1579999923706055, -5.346399784088135, -4.467700004577637, -4.973100185394287, -5.45959997177124, -5.8231000900268555, -4.5467000007629395, -5.318399906158447, -5.494699954986572, -5.131100177764893, -5.30049991607666, -5.903600215911865, -5.529099941253662, -5.176499843597412, -5.722400188446045, -5.706500053405762, -5.378799915313721, -5.755000114440918, -5.835599899291992, -5.805799961090088, -5.490099906921387, -5.654200077056885, -5.63129997253418, -5.652100086212158, -5.555600166320801, -5.856800079345703, -5.6645002365112305, -5.8003997802734375, -5.788000106811523, -5.726099967956543, -5.6930999755859375, -5.756700038909912, -5.794400215148926, -6.216700077056885, -6.334499835968018, -6.398900032043457, -6.5416998863220215, -6.6641998291015625, -6.708700180053711, -6.755199909210205, -6.755799770355225, -6.803800106048584, -7.09089994430542, -7.091000080108643, -7.031000137329102, -7.159800052642822, -7.1616997718811035, -7.233699798583984, -7.233699798583984, -7.233699798583984, -7.23390007019043, -7.2347002029418945, -7.235300064086914, -7.313399791717529, -7.313399791717529, -7.313399791717529, -7.313399791717529, -7.313399791717529, -7.313899993896484, -7.314000129699707, -7.3140997886657715, -6.217700004577637, -7.400199890136719, -5.214000225067139, -6.156099796295166, -5.19189977645874, -6.806600093841553, -5.3979997634887695, -5.531300067901611, -6.110799789428711, -5.460999965667725, -6.966100215911865, -5.490200042724609, -6.375100135803223, -5.3572998046875, -6.456699848175049, -4.763500213623047, -5.616099834442139, -6.559700012207031, -6.025899887084961, -6.2754998207092285, -6.0569000244140625, -5.628600120544434, -5.929900169372559, -5.6427998542785645, -5.242599964141846, -5.563700199127197, -4.6041998863220215, -5.698299884796143, -5.278600215911865, -5.1645002365112305, -5.872600078582764, -5.9232001304626465, -5.099299907684326, -5.5725998878479, -5.23330020904541, -5.561699867248535, -5.163300037384033, -5.613999843597412, -5.651700019836426, -5.422699928283691, -5.639100074768066, -5.848100185394287, -5.708799839019775, -5.7581000328063965, -5.815899848937988, -5.822800159454346, -5.073400020599365, -5.401700019836426, -5.893899917602539, -6.381800174713135, -6.381800174713135, -6.732900142669678, -5.618599891662598, -6.7866997718811035, -6.786799907684326, -6.786900043487549, -6.1230998039245605, -6.844200134277344, -6.844399929046631, -6.8445000648498535, -6.181600093841553, -6.905900001525879, -6.3480000495910645, -5.807499885559082, -7.2789998054504395, -7.279900074005127, -7.3734002113342285, -7.3734002113342285, -7.374199867248535, -7.374300003051758, -7.374300003051758, -7.374599933624268, -7.375199794769287, -7.375199794769287, -7.478099822998047, -7.478099822998047, -5.104300022125244, -6.7866997718811035, -4.819300174713135, -4.842700004577637, -4.218699932098389, -6.382599830627441, -6.904300212860107, -3.91510009765625, -3.0262999534606934, -4.904600143432617, -3.907900094985962, -6.127900123596191, -4.716899871826172, -4.742400169372559, -3.45770001411438, -3.8315000534057617, -4.984499931335449, -5.6072001457214355, -4.830900192260742, -4.441199779510498, -4.3694000244140625, -4.7743000984191895, -5.050099849700928, -4.267000198364258, -5.396999835968018, -3.6089000701904297, -4.577199935913086, -5.155700206756592, -4.104000091552734, -5.1371002197265625, -4.979800224304199, -4.920400142669678, -5.196599960327148, -5.2133002281188965, -5.210400104522705, -5.027400016784668, -5.184999942779541, -5.4019999504089355, -5.853700160980225, -5.927800178527832, -6.157199859619141, -6.54610013961792, -6.646500110626221, -6.647200107574463, -6.699999809265137, -6.699999809265137, -6.756999969482422, -6.756999969482422, -6.7571001052856445, -6.817500114440918, -6.817599773406982, -6.817699909210205, -6.817800045013428, -6.881899833679199, -6.881899833679199, -6.881899833679199, -6.881899833679199, -6.881899833679199, -6.881899833679199, -6.881899833679199, -6.881899833679199, -6.881899833679199, -6.881999969482422, -6.8821001052856445, -7.024700164794922, -4.567800045013428, -4.981299877166748, -5.191500186920166, -5.087900161743164, -4.515999794006348, -5.346499919891357, -6.594799995422363, -5.191199779510498, -6.035900115966797, -6.424699783325195, -5.861499786376953, -6.189799785614014, -4.593800067901611, -5.472899913787842, -5.329899787902832, -5.497200012207031, -5.386499881744385, -5.604300022125244, -6.1579999923706055, -5.71560001373291, -5.453199863433838, -4.929500102996826, -5.910299777984619, -3.222399950027466, -4.367499828338623, -5.083700180053711, -5.570099830627441, -4.1356000900268555, -4.083199977874756, -5.103099822998047, -4.785699844360352, -4.19890022277832, -5.291100025177002, -4.736800193786621, -5.13670015335083, -5.077400207519531, -4.52810001373291, -4.764999866485596, -4.809000015258789, -5.010200023651123, -5.135799884796143, -4.978499889373779, -5.113900184631348, -5.107399940490723, -5.162399768829346, -5.109399795532227, -4.8165998458862305, -5.261199951171875, -6.081699848175049, -6.282100200653076, -6.282199859619141, -6.319699764251709, -6.18209981918335, -6.6331000328063965, -6.744100093841553, -6.86899995803833, -6.937699794769287, -6.93779993057251, -7.01170015335083, -7.01170015335083, -7.012499809265137, -7.091700077056885, -7.092100143432617, -6.364999771118164, -7.273900032043457, -7.274899959564209, -7.27400016784668, -6.584400177001953, -7.378399848937988, -7.495699882507324, -7.495800018310547, -7.496399879455566, -7.503499984741211, -7.628699779510498, -7.628699779510498, -7.630199909210205, -6.345900058746338, -5.923399925231934, -6.629899978637695, -5.325399875640869, -5.399700164794922, -5.717800140380859, -5.333199977874756, -6.19189977645874, -4.545000076293945, -5.350200176239014, -5.490699768066406, -5.738800048828125, -4.889599800109863, -4.658899784088135, -5.389500141143799, -6.231200218200684, -4.504899978637695, -6.303999900817871, -5.827899932861328, -5.501500129699707, -5.123700141906738, -6.107999801635742, -5.164999961853027, -5.068699836730957, -4.6697998046875, -5.0817999839782715, -4.481299877166748, -5.202600002288818, -5.134099960327148, -4.381800174713135, -4.972899913787842, -4.721799850463867, -5.361499786376953, -4.707900047302246, -5.335899829864502, -5.0096001625061035, -5.251699924468994, -4.908899784088135, -5.11269998550415, -5.173799991607666, -5.311200141906738, -5.3790998458862305, -5.5416998863220215, -6.147500038146973, -6.457099914550781, -6.553899765014648, -6.775000095367432, -6.8394999504089355, -6.8394999504089355, -6.8394999504089355, -6.8394999504089355, -6.8394999504089355, -6.840000152587891, -6.908299922943115, -6.908299922943115, -6.908299922943115, -6.908299922943115, -6.908299922943115, -6.908299922943115, -6.908299922943115, -6.9085001945495605, -6.9085001945495605, -6.9822001457214355, -6.9822001457214355, -6.9182000160217285, -5.93779993057251, -6.457200050354004, -7.148900032043457, -7.14900016784668, -7.149499893188477, -7.152500152587891, -6.506199836730957, -6.503699779510498, -6.0355000495910645, -5.244500160217285, -6.552999973297119, -4.95419979095459, -6.052199840545654, -5.985599994659424, -6.123700141906738, -5.578700065612793, -5.686699867248535, -6.412899971008301, -4.810299873352051, -6.332200050354004, -6.055699825286865, -5.199100017547607, -4.219299793243408, -5.876399993896484, -5.625699996948242, -6.25570011138916, -4.8130998611450195, -6.457200050354004, -5.2733001708984375, -4.966599941253662, -5.622799873352051, -5.081500053405762, -5.495800018310547, -5.828800201416016, -5.124100208282471, -5.352700233459473, -4.6539998054504395, -5.219099998474121, -5.559700012207031, -4.692599773406982, -5.3084001541137695, -4.201300144195557, -5.652699947357178, -5.5640997886657715, -4.960400104522705, -5.092800140380859, -5.419600009918213, -5.219600200653076, -4.890399932861328, -5.318900108337402, -5.143099784851074, -5.136300086975098, -5.1442999839782715, -5.249300003051758, -5.297599792480469, -5.34089994430542, -5.306399822235107, -5.400199890136719, -5.372399806976318, -4.9893999099731445, -4.891200065612793, -5.600900173187256, -5.7256999015808105, -4.639200210571289, -5.948699951171875, -6.035699844360352, -5.345699787139893, -6.586999893188477, -6.640900135040283, -6.645199775695801, -6.697999954223633, -6.6981000900268555, -6.758500099182129, -6.759200096130371, -6.822800159454346, -6.822800159454346, -6.89169979095459, -6.89169979095459, -6.89169979095459, -6.895599842071533, -6.96560001373291, -6.96560001373291, -6.965700149536133, -7.045499801635742, -7.045499801635742, -7.0457000732421875, -6.151400089263916, -6.590700149536133, -7.449900150299072, -6.758399963378906, -5.612199783325195, -5.262199878692627, -5.954500198364258, -3.859800100326538, -5.422999858856201, -6.180699825286865, -5.18209981918335, -4.324399948120117, -4.606400012969971, -5.196100234985352, -6.273399829864502, -3.6786000728607178, -5.380300045013428, -4.278800010681152, -4.290200233459473, -4.910600185394287, -4.123700141906738, -5.602700233459473, -4.9293999671936035, -4.784999847412109, -5.561600208282471, -4.155900001525879, -5.552499771118164, -4.853899955749512, -5.066400051116943, -4.9141998291015625, -5.1255998611450195, -4.741700172424316, -4.549200057983398, -5.19980001449585, -5.4390997886657715, -5.168099880218506, -5.422599792480469, -5.188600063323975, -5.303800106048584, -5.376500129699707, -5.298099994659424, -6.191400051116943, -6.308800220489502, -6.490900039672852, -5.824699878692627, -6.59630012512207, -6.597099781036377, -6.65310001373291, -6.653900146484375, -6.713600158691406, -6.713600158691406, -6.713600158691406, -6.713600158691406, -6.713600158691406, -6.7779998779296875, -6.7779998779296875, -6.085899829864502, -6.846799850463867, -6.846799850463867, -6.846799850463867, -6.8470001220703125, -6.9207000732421875, -6.92080020904541, -6.920899868011475, -7.089300155639648, -6.35830020904541, -7.1828999519348145, -7.183000087738037, -7.1859002113342285, -7.287399768829346, -6.55109977722168, -5.320499897003174, -5.990900039672852, -6.354800224304199, -6.071800231933594, -5.522299766540527, -5.4446001052856445, -6.0868000984191895, -6.053199768066406, -6.378600120544434, -6.450500011444092, -6.027400016784668, -5.291500091552734, -4.428800106048584, -6.26800012588501, -6.32859992980957, -5.956399917602539, -5.582600116729736, -3.502500057220459, -5.812099933624268, -5.189199924468994, -5.654399871826172, -5.660399913787842, -5.888299942016602, -6.309999942779541, -5.555500030517578, -4.827000141143799, -5.788000106811523, -4.673900127410889, -5.039599895477295, -5.63539981842041, -4.200500011444092, -5.123000144958496, -5.614799976348877, -5.011499881744385, -4.184899806976318, -5.425000190734863, -5.4380998611450195, -4.983099937438965, -4.95389986038208, -4.789999961853027, -4.834799766540527, -5.38129997253418, -5.091100215911865, -5.1433000564575195, -5.213500022888184, -5.462200164794922, -5.254899978637695, -5.322999954223633, -5.296999931335449, -5.476600170135498, -5.34089994430542, -5.713799953460693, -6.119500160217285, -6.459400177001953, -6.560400009155273, -6.617599964141846, -6.6184000968933105, -6.61870002746582, -6.677700042724609, -6.6778998374938965, -6.679100036621094, -6.680500030517578, -6.017600059509277, -6.742099761962891, -6.742099761962891, -6.742099761962891, -6.742099761962891, -6.742099761962891, -6.742099761962891, -6.742099761962891, -6.742099761962891, -6.742099761962891, -5.731900215148926, -6.812699794769287, -6.884900093078613, -6.885300159454346, -6.964700222015381, -6.965099811553955, -6.965099811553955, -5.626100063323975, -4.095600128173828, -6.472499847412109, -5.55649995803833, -5.359000205993652, -5.916600227355957, -5.220900058746338, -5.462800025939941, -5.30019998550415, -6.035900115966797, -5.101200103759766, -4.585599899291992, -5.138000011444092, -6.017300128936768, -3.992300033569336, -4.5665998458862305, -5.333499908447266, -5.444499969482422, -6.133399963378906, -4.348499774932861, -4.809899806976318, -5.309000015258789, -5.2657999992370605, -5.164999961853027, -5.273399829864502, -5.147799968719482, -4.5278000831604, -5.493500232696533, -4.878799915313721, -4.176799774169922, -4.9096999168396, -4.583899974822998, -4.96589994430542, -4.970399856567383, -5.224999904632568, -4.8958001136779785, -4.935999870300293, -4.828000068664551, -4.779600143432617, -5.059199810028076, -4.993299961090088, -5.182700157165527, -5.230599880218506, -6.394700050354004, -6.55649995803833, -6.682499885559082, -6.749800205230713, -6.823800086975098, -6.823800086975098, -6.82450008392334, -7.19189977645874, -7.193600177764893, -7.308199882507324, -7.3084001541137695, -7.308499813079834, -7.309299945831299, -7.309899806976318, -7.309299945831299, -6.4670000076293945, -7.440800189971924, -7.440899848937988, -7.441199779510498, -7.442299842834473, -7.442299842834473, -7.442599773406982, -7.442800045013428, -7.44290018081665, -7.444799900054932, -6.749899864196777, -7.458700180053711, -7.594799995422363, -7.594900131225586, -7.59499979019165, -6.029399871826172, -5.716700077056885, -6.622900009155273, -6.439499855041504, -6.050899982452393, -6.994200229644775, -6.749800205230713, -6.715400218963623, -6.681700229644775, -7.087399959564209, -5.287099838256836, -6.960899829864502, -7.094699859619141, -6.447400093078613, -5.985899925231934, -5.951700210571289, -6.4857001304626465, -6.380199909210205, -5.667799949645996, -6.181399822235107, -6.673900127410889, -5.493599891662598, -5.454100131988525, -6.236700057983398, -5.714300155639648, -5.651500225067139, -5.900599956512451, -5.623700141906738, -6.088799953460693, -5.006400108337402, -6.187399864196777, -4.663599967956543, -6.037499904632568, -6.058800220489502, -5.199999809265137, -5.339200019836426, -4.615900039672852, -4.88100004196167, -5.572999954223633, -5.114999771118164, -4.915500164031982, -5.165800094604492, -5.538700103759766, -5.651000022888184, -5.832900047302246, -5.382900238037109, -5.65749979019165, -5.3333001136779785, -5.263800144195557, -5.419099807739258, -5.592400074005127, -5.461400032043457, -5.785200119018555, -5.557000160217285, -5.662899971008301, -5.679299831390381, -5.835400104522705, -4.668300151824951, -5.9893999099731445, -6.345600128173828, -6.499499797821045, -6.499499797821045, -6.499599933624268, -6.499599933624268, -6.49970006942749, -6.556600093841553, -6.617199897766113, -6.681399822235107, -6.681399822235107, -6.681600093841553, -6.682000160217285, -6.75029993057251, -6.75029993057251, -6.750400066375732, -6.9045000076293945, -6.991099834442139, -6.991600036621094, -6.991700172424316, -7.08620023727417, -5.6605000495910645, -7.190999984741211, -7.190999984741211, -7.190999984741211, -7.190999984741211, -7.191699981689453, -6.501100063323975, -6.0065999031066895, -6.023399829864502, -5.337800025939941, -6.617099761962891, -5.630099773406982, -5.100800037384033, -5.333499908447266, -5.188799858093262, -5.190199851989746, -5.3790998458862305, -5.850299835205078, -4.842199802398682, -3.8454999923706055, -5.572299957275391, -5.588900089263916, -5.517099857330322, -5.663899898529053, -6.450099945068359, -5.92110013961792, -5.056099891662598, -5.324999809265137, -4.712500095367432, -4.754199981689453, -5.45550012588501, -5.900899887084961, -5.006899833679199, -4.9679999351501465, -5.836299896240234, -5.236100196838379, -5.558899879455566, -5.4934000968933105, -4.737199783325195, -5.463099956512451, -5.004499912261963, -5.175000190734863, -4.839799880981445, -5.388899803161621, -4.8282999992370605, -4.655799865722656, -5.163899898529053, -4.970699787139893, -4.9029998779296875, -5.167399883270264, -5.071599960327148, -4.999199867248535, -5.076300144195557, -5.285900115966797, -5.070799827575684, -5.009300231933594, -4.755099773406982, -5.428599834442139, -5.551000118255615, -5.882900238037109, -6.2434000968933105, -6.3343000411987305, -6.435299873352051, -5.7418999671936035, -6.48829984664917, -6.48829984664917, -6.488399982452393, -6.547299861907959, -6.6057000160217285, -6.605800151824951, -6.605899810791016, -6.606400012969971, -6.670100212097168, -6.670300006866455, -6.670599937438965, -6.738999843597412, -6.738999843597412, -6.739799976348877, -6.812900066375732, -6.812900066375732, -6.812900066375732, -6.812900066375732, -6.893899917602539, -6.894000053405762, -6.605899810791016, -6.613100051879883, -5.05079984664917, -5.236700057983398, -4.935299873352051, -5.558700084686279, -4.464900016784668, -5.527500152587891, -6.0802001953125, -6.0559000968933105, -6.393700122833252, -6.237400054931641, -5.347799777984619, -6.119900226593018, -5.712699890136719, -5.882900238037109, -5.640999794006348, -5.891600131988525, -4.367400169372559, -5.350399971008301, -4.451000213623047, -5.0619001388549805, -3.6001999378204346, -5.337500095367432, -4.230100154876709, -5.801199913024902, -5.172100067138672, -5.334000110626221, -5.681000232696533, -5.369999885559082, -5.399400234222412, -5.128900051116943, -4.54040002822876, -5.4741997718811035, -5.38070011138916, -4.992000102996826, -5.009500026702881, -4.759500026702881, -5.108399868011475, -5.088099956512451, -5.127999782562256, -5.263299942016602, -5.261000156402588, -5.3531999588012695, -5.303299903869629, -5.338799953460693, -5.3267998695373535, -5.328000068664551, -5.02839994430542, -5.936699867248535, -6.038300037384033, -6.0746002197265625, -6.2357001304626465, -6.374300003051758, -6.374300003051758, -6.374499797821045, -6.536499977111816, -6.5970001220703125, -6.597099781036377, -5.481400012969971, -6.661399841308594, -6.661399841308594, -6.661399841308594, -6.662399768829346, -5.969399929046631, -6.730199813842773, -6.730199813842773, -6.730199813842773, -6.730199813842773, -6.730299949645996, -6.730400085449219, -6.730400085449219, -6.040200233459473, -6.804200172424316, -6.804200172424316, -6.804200172424316, -6.804200172424316, -5.004300117492676, -5.9791998863220215, -6.374300003051758, -6.374300003051758, -5.254199981689453, -5.264599800109863, -6.112400054931641, -6.4807000160217285, -5.660799980163574, -5.860899925231934, -5.367800235748291, -5.714700222015381, -5.2677001953125, -5.838099956512451, -4.806399822235107, -5.066100120544434, -5.904900074005127, -5.335400104522705, -5.609799861907959, -5.328100204467773, -5.345399856567383, -5.617499828338623, -5.657199859619141, -5.368000030517578, -4.196599960327148, -3.853600025177002, -5.321000099182129, -5.030300140380859, -5.2133002281188965, -5.0406999588012695, -4.95359992980957, -5.487800121307373, -5.348800182342529, -5.239999771118164, -5.153800010681152, -5.308899879455566, -5.095300197601318, -5.118299961090088, -5.278600215911865, -5.203100204467773, -5.3383002281188965, -5.344399929046631, -5.365300178527832, -5.539899826049805, -5.780099868774414, -5.8109002113342285, -6.018499851226807, -6.098400115966797, -6.140600204467773, -6.185299873352051, -6.331900119781494, -6.385499954223633, -6.442500114440918, -6.502999782562256, -6.502999782562256, -4.895100116729736, -6.710400104522705, -6.789899826049805, -6.876699924468994, -5.601900100708008, -6.185100078582764, -6.97189998626709, -6.972700119018555, -7.0767998695373535, -7.077000141143799, -7.077199935913086, -7.196300029754639, -7.194900035858154, -7.1975998878479, -7.327000141143799, -7.327000141143799, -7.327000141143799, -7.327000141143799, -3.006999969482422, -6.636300086975098, -3.2037999629974365, -6.789999961853027, -6.133399963378906, -5.238399982452393, -6.061500072479248, -6.060100078582764, -5.981200218200684, -4.236599922180176, -4.872499942779541, -4.982699871063232, -5.69789981842041, -5.755499839782715, -5.294099807739258, -6.098100185394287, -5.760000228881836, -5.917099952697754, -5.90880012512207, -5.922999858856201, -5.1940999031066895, -4.954400062561035, -4.763899803161621, -4.96589994430542, -5.148799896240234, -4.64709997177124, -5.4369001388549805, -5.0482001304626465, -5.6545000076293945, -5.2418999671936035, -4.79640007019043, -4.79610013961792, -5.412600040435791, -5.738100051879883, -5.448800086975098, -4.9141998291015625, -4.720099925994873, -5.105000019073486, -5.399799823760986, -5.447299957275391, -5.588500022888184, -5.418300151824951, -5.580599784851074, -5.518700122833252, -5.546899795532227, -5.756400108337402, -5.734799861907959, -6.005799770355225, -6.086400032043457, -6.177199840545654, -6.177199840545654, -6.225900173187256, -6.277100086212158, -6.277100086212158, -6.277200222015381, -6.331099987030029, -6.3881001472473145, -6.388199806213379, -6.388899803161621, -6.448599815368652, -6.448599815368652, -6.448599815368652, -6.448599815368652, -6.448599815368652, -6.448599815368652, -6.448699951171875, -6.448699951171875, -6.5817999839782715, -6.5817999839782715, -6.5817999839782715, -6.5817999839782715, -6.5817999839782715, -6.5817999839782715, -6.655799865722656, -6.655799865722656, -5.513199806213379, -5.229599952697754, -5.87529993057251, -4.146399974822998, -6.086299896240234, -4.164299964904785, -5.110899925231934, -6.131199836730957, -5.040500164031982, -5.640100002288818, -5.486499786376953, -5.549900054931641, -5.7881999015808105, -4.958000183105469, -6.086299896240234, -5.889999866485596, -5.216400146484375, -5.25570011138916, -5.8003997802734375, -5.040299892425537, -5.113699913024902, -6.088799953460693, -5.863999843597412, -3.9228999614715576, -5.423099994659424, -4.638800144195557, -5.2505998611450195, -5.239299774169922, -4.691699981689453, -5.351600170135498, -4.789100170135498, -4.391600131988525, -3.985100030899048, -4.647900104522705, -5.391499996185303, -5.009500026702881, -4.9882001876831055, -5.225900173187256, -4.9430999755859375, -5.2758002281188965, -5.149700164794922, -4.9741997718811035, -4.855899810791016, -4.907400131225586, -5.02239990234375, -5.074900150299072, -5.101900100708008, -5.03879976272583, -5.222099781036377, -5.46589994430542, -5.706500053405762, -5.9070000648498535, -5.945000171661377, -6.206699848175049, -6.313399791717529, -6.438700199127197, -6.493899822235107, -5.773099899291992, -6.562699794769287, -6.5630998611450195, -4.729000091552734, -6.6417999267578125, -6.7164998054504395, -6.716800212860107, -4.99459981918335, -6.803199768066406, -6.803699970245361, -5.554800033569336, -6.158100128173828, -5.748000144958496, -7.003200054168701, -7.12060022354126, -7.124100208282471, -6.562699794769287, -7.253499984741211, -7.253499984741211, -7.253499984741211, -7.254000186920166, -7.254000186920166, -3.670799970626831, -5.214600086212158, -6.636600017547607, -6.643099784851074, -5.902599811553955, -5.530700206756592, -6.000400066375732, -5.485099792480469, -5.565999984741211, -3.873699903488159, -4.758399963378906, -5.8018999099731445, -3.70989990234375, -4.058000087738037, -4.678299903869629, -5.352099895477295, -5.899600028991699, -4.714099884033203, -5.044300079345703, -5.667799949645996, -5.642600059509277, -4.893400192260742, -5.316100120544434, -4.763700008392334, -3.7939000129699707, -5.143799781799316, -4.3907999992370605, -4.3506999015808105, -4.436200141906738, -4.699999809265137, -4.7708001136779785, -4.575500011444092, -5.170000076293945, -5.246699810028076, -5.015500068664551, -5.229899883270264, -5.193699836730957, -5.213399887084961, -5.107699871063232, -5.156199932098389, -5.260700225830078, -5.2459001541137695, -5.548399925231934, -5.6305999755859375, -5.751699924468994, -5.7845001220703125, -5.889800071716309, -5.927499771118164, -5.9664998054504395, -6.007299900054932, -6.007699966430664, -6.1894001960754395, -6.412399768829346, -5.720099925994873, -6.476500034332275, -6.476500034332275, -6.476600170135498, -6.4766998291015625, -6.545300006866455, -6.545300006866455, -6.545300006866455, -6.545499801635742, -6.61929988861084, -6.6194000244140625, -6.621399879455566, -6.785900115966797, -6.880899906158447, -6.88100004196167, -6.88100004196167, -6.881199836730957, -6.986000061035156, -6.299600124359131, -6.008200168609619, -6.418399810791016, -6.4766998291015625, -6.476500034332275, -6.4822001457214355, -5.004300117492676, -6.386899948120117, -5.872499942779541, -4.882199764251709, -5.7540998458862305, -5.724699974060059, -5.81689977645874, -5.23960018157959, -6.061600208282471, -5.181399822235107, -5.689799785614014, -3.760699987411499, -5.353799819946289, -5.15749979019165, -5.379300117492676, -4.9670000076293945, -4.856900215148926, -5.060500144958496, -5.387700080871582, -4.184700012207031, -4.809299945831299, -5.025300025939941, -5.3282999992370605, -5.134500026702881, -5.225200176239014, -4.5229997634887695, -5.377099990844727, -5.086400032043457, -5.292200088500977, -4.886000156402588, -5.40369987487793, -5.178899765014648, -5.1778998374938965, -5.1793999671936035, -5.1020002365112305, -5.3343000411987305, -5.331399917602539, -5.349400043487549, -5.3343000411987305, -5.414000034332275, -5.511499881744385, -5.773499965667725, -5.807400226593018, -5.878799915313721, -5.878799915313721, -5.955599784851074, -5.996500015258789, -5.244999885559082, -6.039000034332275, -6.0833001136779785, -6.402599811553955, -6.46750020980835, -6.53439998626709, -6.53439998626709, -6.53439998626709, -6.53439998626709, -6.53439998626709, -6.5345001220703125, -6.608399868011475, -6.608399868011475, -6.609300136566162, -6.688199996948242, -6.688199996948242, -6.689199924468994, -6.083700180053711, -6.871300220489502, -7.092299938201904, -5.441500186920166, -5.774499893188477, -6.129799842834473, -5.217299938201904, -5.265900135040283, -4.542200088500977, -5.246699810028076, -3.580399990081787, -4.5671000480651855, -5.405700206756592, -5.436100006103516, -4.89870023727417, -4.927000045776367, -4.026000022888184, -5.798099994659424, -5.231400012969971, -5.192599773406982, -5.158100128173828, -4.580599784851074, -5.3684000968933105, -5.167799949645996, -4.8119001388549805, -5.383299827575684, -3.827699899673462, -4.544899940490723, -5.437300205230713, -5.0055999755859375, -4.40339994430542, -5.079999923706055, -4.292900085449219, -4.6203999519348145, -5.093900203704834, -4.59250020980835, -5.054999828338623, -4.972400188446045, -5.072299957275391, -5.080100059509277, -5.1118998527526855, -5.179599761962891, -5.167600154876709, -5.21019983291626, -4.951900005340576, -5.242099761962891, -5.644700050354004, -4.815499782562256, -6.225800037384033, -6.225800037384033, -6.336699962615967, -6.336699962615967, -6.397299766540527, -6.461900234222412, -6.462299823760986, -6.5304999351501465, -6.5304999351501465, -6.5304999351501465, -5.841000080108643, -6.604400157928467, -6.8694000244140625, -6.971399784088135, -5.778600215911865, -7.088399887084961, -5.454400062561035, -7.37470006942749, -7.37470006942749, -7.37470006942749, -6.684299945831299, -6.336699962615967, -7.556000232696533, -7.558000087738037, -7.558599948883057, -6.461599826812744, -4.656300067901611, -5.610899925231934, -5.77869987487793, -4.7459001541137695, -5.56850004196167, -4.762400150299072, -3.2704999446868896, -5.412099838256836, -5.557700157165527, -5.63129997253418, -4.843299865722656, -4.765100002288818, -5.545599937438965, -4.922900199890137, -5.465799808502197, -5.684000015258789, -4.716000080108643, -5.178299903869629, -4.9766998291015625, -3.6040000915527344, -5.56850004196167, -5.404600143432617, -5.241399765014648, -4.284800052642822, -5.303400039672852, -5.405300140380859, -5.35260009765625, -4.497300148010254, -4.510700225830078, -4.754700183868408, -5.310500144958496, -4.487800121307373, -4.85890007019043, -5.168000221252441, -5.097300052642822, -5.153600215911865, -5.066699981689453, -5.170499801635742, -5.246600151062012, -5.319499969482422, -5.306000232696533, -5.2972002029418945, -6.150700092315674, -6.202099800109863, -5.509799957275391, -6.256100177764893, -6.3734002113342285, -6.3734002113342285, -6.373499870300293, -5.681300163269043, -6.43779993057251, -6.43779993057251, -5.814799785614014, -6.660600185394287, -6.747200012207031, -6.747499942779541, -6.75029993057251, -6.842199802398682, -6.842199802398682, -6.842899799346924, -6.947199821472168, -6.947199821472168, -6.947500228881836, -6.949900150299072, -6.315999984741211, -6.3734002113342285, -7.064599990844727, -7.066199779510498, -6.441400051116943, -6.508900165557861, -7.350900173187256, -6.660900115966797, -5.799200057983398, -5.816199779510498, -6.207499980926514, -6.380499839782715, -5.7129998207092285, -5.72790002822876, -5.6809000968933105, -4.695300102233887, -6.255899906158447, -5.694799900054932, -6.1020002365112305, -5.598400115966797, -5.776299953460693, -5.549099922180176, -5.835000038146973, -5.620200157165527, -4.859000205993652, -5.022200107574463, -5.651800155639648, -4.033199787139893, -5.78879976272583, -4.26170015335083, -4.910099983215332, -4.314899921417236, -5.507800102233887, -5.3308000564575195, -5.401100158691406, -4.622499942779541, -5.7129998207092285, -5.317500114440918, -5.463799953460693, -5.343200206756592, -5.460000038146973, -4.859600067138672, -4.639500141143799, -4.819200038909912, -5.179800033569336, -4.951200008392334, -5.365300178527832, -5.008600234985352, -4.978899955749512, -5.14109992980957, -5.066100120544434, -5.323400020599365, -5.078800201416016, -5.183300018310547, -5.0640997886657715, -5.248000144958496, -5.323500156402588, -5.230199813842773, -5.291500091552734, -5.249599933624268, -5.33050012588501, -5.687699794769287, -5.756800174713135, -5.756800174713135, -5.793000221252441, -5.869800090789795, -5.997499942779541, -6.092700004577637, -6.143899917602539, -6.197999954223633, -6.257599830627441, -6.315400123596191, -6.315700054168701, -6.379899978637695, -6.38070011138916, -5.629799842834473, -6.448599815368652, -6.448599815368652, -6.448599815368652, -6.448599815368652, -6.448599815368652, -6.448800086975098, -6.4492998123168945, -6.522799968719482, -6.522799968719482, -6.602399826049805, -6.602499961853027, -6.6031999588012695, -5.954400062561035, -6.689199924468994, -6.689199924468994, -5.687699794769287, -6.117300033569336, -5.830699920654297, -5.383999824523926, -5.996600151062012, -5.683700084686279, -4.770699977874756, -5.6346001625061035, -5.189899921417236, -6.326000213623047, -5.549900054931641, -5.445099830627441, -5.688199996948242, -6.034999847412109, -5.330699920654297, -4.460000038146973, -5.230500221252441, -4.855299949645996, -5.260900020599365, -5.67579984664917, -3.912899971008301, -5.411600112915039, -5.010499954223633, -5.166200160980225, -4.435699939727783, -5.123600006103516, -5.041999816894531, -5.11460018157959, -5.117400169372559, -5.030700206756592, -5.007199764251709, -4.986100196838379, -5.36329984664917, -5.497300148010254, -5.443299770355225, -5.466000080108643, -5.458199977874756, -5.5883002281188965, -5.487800121307373, -5.482500076293945, -5.484099864959717, -5.5055999755859375, -4.926599979400635, -4.943699836730957, -5.153900146484375, -5.197299957275391, -5.366600036621094, -5.636300086975098, -5.63640022277832, -5.671800136566162, -5.825300216674805, -5.825300216674805, -4.193399906158447, -6.059100151062012, -6.169600009918213, -6.230100154876709, -6.36359977722168, -6.517099857330322, -4.941199779510498, -6.604300022125244, -6.699999809265137, -5.637700080871582, -6.298500061035156, -7.05649995803833, -5.475599765777588, -7.207600116729736, -7.207799911499023, -7.209400177001953, -5.986000061035156, -6.604800224304199, -6.125800132751465, -7.388800144195557, -5.451300144195557, -5.67579984664917, -6.244999885559082, -6.256899833679199, -5.58050012588501, -5.04449987411499, -5.584099769592285, -3.891400098800659, -4.994100093841553, -5.215199947357178, -4.880499839782715, -5.8302998542785645, -3.96370005607605, -5.2530999183654785, -5.202199935913086, -5.192699909210205, -4.751800060272217, -4.482100009918213, -5.173500061035156, -4.928299903869629, -4.582499980926514, -4.876299858093262, -4.853499889373779, -4.859000205993652, -4.829999923706055, -5.07480001449585, -5.312900066375732, -5.166100025177002, -5.2600998878479, -5.266600131988525, -5.31689977645874, -5.022500038146973, -3.6714000701904297, -3.8935999870300293, -6.1803998947143555, -6.313499927520752, -6.315199851989746, -6.554100036621094, -6.555699825286865, -6.649099826812744, -6.6493000984191895, -6.649499893188477, -6.7540998458862305, -6.754199981689453, -6.754199981689453, -6.755099773406982, -6.754899978637695, -6.119800090789795, -6.871500015258789, -6.871600151062012, -6.872700214385986, -7.00439977645874, -7.004499912261963, -7.004700183868408, -7.004799842834473, -7.157899856567383, -7.157899856567383, -7.1585001945495605, -3.6974000930786133, -7.339399814605713, -7.340400218963623, -6.248600006103516, -6.259799957275391, -6.157800197601318, -4.07450008392334, -4.545300006866455, -5.630300045013428, -5.372700214385986, -6.024899959564209, -4.6255998611450195, -4.50600004196167, -5.916399955749512, -6.313499927520752, -5.91949987411499, -5.968100070953369, -6.082799911499023, -5.837100028991699, -6.304599761962891, -5.103600025177002, -6.255899906158447, -5.065800189971924, -5.068299770355225, -5.840000152587891, -5.313899993896484, -4.088799953460693, -5.476900100708008, -4.584000110626221, -5.58650016784668, -5.734499931335449, -5.151100158691406, -5.565199851989746, -4.8618998527526855, -5.247700214385986, -5.075300216674805, -5.455699920654297, -4.8831000328063965, -5.153200149536133, -5.565999984741211, -5.509500026702881, -5.417500019073486, -5.424499988555908, -5.561800003051758, -5.582799911499023, -4.188899993896484, -4.476500034332275, -4.796500205993652, -5.035799980163574, -5.169300079345703, -5.243299961090088, -6.07289981842041, -6.1331000328063965, -6.197500228881836, -6.197500228881836, -6.197500228881836, -6.197500228881836, -6.26639986038208, -6.26639986038208, -6.26639986038208, -6.26639986038208, -6.26639986038208, -6.26639986038208, -6.26639986038208, -6.26639986038208, -6.26639986038208, -5.193399906158447, -6.3403000831604, -6.3403000831604, -6.3403000831604, -6.3403000831604, -6.3403000831604, -6.3403000831604, -6.3403000831604, -6.3403000831604, -3.969899892807007, -4.4552998542785645, -4.2270002365112305, -4.882199764251709, -4.855500221252441, -4.855500221252441, -6.072999954223633, -4.346700191497803, -4.398499965667725, -5.480199813842773, -4.90310001373291, -5.410299777984619, -4.992199897766113, -4.845300197601318, -4.281400203704834, -5.615699768066406, -4.9745001792907715, -4.021100044250488, -5.1296000480651855, -5.963099956512451, -4.664700031280518, -4.600200176239014, -4.790299892425537, -5.019599914550781, -4.450799942016602, -5.041100025177002, -4.6855998039245605, -5.002900123596191, -4.980100154876709, -5.02209997177124, -5.168700218200684]}, \"token.table\": {\"Topic\": [1, 15, 26, 21, 18, 19, 29, 11, 12, 14, 15, 18, 8, 22, 1, 7, 20, 18, 7, 4, 3, 6, 7, 9, 2, 9, 17, 1, 4, 6, 8, 22, 30, 16, 1, 4, 7, 9, 10, 18, 20, 27, 2, 3, 4, 7, 11, 27, 28, 29, 2, 6, 9, 12, 20, 8, 8, 3, 17, 29, 1, 15, 4, 7, 8, 11, 16, 25, 27, 6, 7, 8, 20, 1, 3, 4, 5, 9, 11, 12, 14, 17, 20, 22, 23, 24, 26, 2, 4, 10, 13, 21, 15, 7, 8, 16, 23, 15, 18, 4, 1, 4, 24, 16, 8, 3, 16, 13, 22, 12, 17, 8, 17, 29, 1, 2, 3, 5, 6, 8, 10, 11, 13, 14, 15, 16, 20, 21, 30, 1, 2, 3, 7, 9, 11, 12, 17, 28, 1, 2, 3, 4, 5, 6, 7, 8, 9, 10, 11, 12, 13, 14, 15, 17, 18, 19, 20, 21, 22, 23, 24, 25, 26, 27, 28, 29, 30, 9, 4, 8, 11, 16, 17, 1, 3, 4, 5, 6, 7, 8, 9, 16, 20, 24, 1, 16, 28, 12, 6, 17, 22, 14, 18, 26, 4, 8, 14, 16, 25, 26, 28, 2, 9, 10, 30, 21, 27, 7, 23, 2, 3, 4, 7, 9, 12, 13, 14, 15, 17, 18, 19, 20, 23, 25, 26, 30, 13, 6, 25, 26, 27, 17, 11, 8, 8, 11, 12, 22, 28, 1, 3, 8, 14, 19, 29, 28, 22, 3, 8, 28, 3, 5, 8, 18, 11, 18, 24, 3, 4, 8, 11, 16, 22, 18, 10, 16, 18, 19, 1, 4, 5, 6, 7, 8, 10, 11, 13, 14, 19, 20, 22, 27, 1, 8, 3, 16, 10, 16, 17, 4, 19, 22, 8, 1, 2, 6, 7, 1, 3, 28, 28, 1, 22, 17, 11, 15, 8, 12, 4, 8, 11, 13, 15, 16, 21, 3, 5, 6, 10, 12, 13, 14, 19, 23, 24, 27, 29, 1, 3, 16, 1, 4, 6, 7, 13, 15, 16, 19, 22, 1, 15, 16, 23, 27, 5, 6, 9, 10, 11, 12, 13, 14, 15, 16, 17, 18, 19, 21, 23, 25, 26, 27, 29, 30, 18, 11, 2, 5, 6, 17, 19, 20, 22, 27, 2, 20, 4, 16, 17, 1, 3, 7, 8, 16, 24, 26, 16, 22, 28, 1, 2, 3, 7, 9, 14, 16, 23, 27, 29, 8, 9, 11, 25, 5, 12, 13, 16, 19, 22, 23, 25, 2, 8, 9, 12, 17, 18, 20, 23, 25, 26, 28, 5, 10, 24, 25, 27, 2, 9, 12, 13, 16, 17, 20, 25, 11, 13, 17, 24, 16, 6, 30, 4, 5, 7, 8, 10, 11, 12, 14, 18, 21, 22, 28, 29, 25, 4, 11, 12, 13, 14, 17, 18, 20, 22, 23, 27, 4, 10, 11, 17, 20, 4, 29, 6, 21, 23, 24, 4, 19, 6, 5, 16, 21, 8, 18, 11, 13, 13, 15, 25, 7, 28, 4, 9, 20, 20, 26, 3, 11, 28, 24, 4, 7, 17, 20, 21, 29, 12, 29, 15, 21, 2, 12, 1, 2, 5, 6, 10, 11, 12, 13, 14, 16, 17, 19, 21, 23, 24, 25, 27, 8, 9, 16, 19, 23, 28, 6, 24, 14, 1, 4, 8, 10, 13, 16, 20, 27, 1, 4, 10, 11, 17, 18, 22, 26, 28, 11, 29, 5, 13, 25, 1, 4, 5, 6, 11, 14, 18, 19, 20, 23, 26, 14, 30, 5, 6, 22, 23, 24, 30, 20, 3, 25, 16, 3, 16, 12, 2, 2, 3, 4, 8, 11, 12, 13, 15, 16, 17, 23, 28, 29, 7, 8, 9, 12, 16, 27, 29, 10, 7, 10, 3, 2, 4, 11, 13, 17, 18, 28, 5, 7, 23, 30, 19, 20, 22, 5, 6, 10, 12, 19, 30, 6, 13, 27, 30, 8, 29, 5, 10, 25, 30, 23, 13, 3, 5, 10, 12, 13, 22, 25, 7, 8, 14, 15, 17, 19, 21, 27, 30, 23, 26, 30, 7, 8, 10, 17, 19, 24, 5, 10, 21, 5, 19, 21, 22, 25, 4, 10, 12, 14, 1, 16, 27, 4, 11, 14, 20, 27, 1, 25, 8, 29, 29, 7, 2, 7, 9, 12, 19, 20, 22, 22, 21, 1, 3, 18, 5, 10, 11, 14, 27, 1, 2, 4, 5, 6, 9, 10, 13, 14, 20, 23, 24, 25, 26, 29, 30, 19, 5, 26, 6, 10, 13, 23, 8, 20, 4, 20, 29, 14, 30, 3, 7, 24, 29, 6, 4, 8, 20, 5, 10, 21, 8, 11, 7, 6, 12, 3, 4, 5, 7, 10, 13, 7, 18, 7, 11, 13, 1, 2, 3, 7, 10, 11, 12, 13, 14, 15, 19, 22, 26, 28, 30, 24, 20, 5, 21, 25, 11, 29, 30, 6, 12, 13, 24, 1, 4, 5, 6, 10, 13, 14, 15, 17, 18, 19, 21, 22, 23, 24, 25, 27, 29, 30, 6, 23, 2, 8, 17, 18, 20, 22, 5, 22, 27, 5, 27, 1, 20, 28, 1, 2, 3, 6, 7, 8, 9, 11, 13, 14, 16, 17, 19, 20, 28, 29, 30, 10, 1, 3, 12, 13, 16, 17, 18, 26, 24, 5, 22, 29, 8, 9, 12, 20, 22, 24, 25, 1, 8, 29, 20, 5, 12, 13, 21, 1, 4, 5, 11, 21, 27, 9, 13, 16, 18, 20, 24, 29, 12, 20, 5, 6, 20, 2, 9, 20, 26, 2, 14, 20, 4, 6, 8, 9, 11, 12, 17, 18, 19, 20, 22, 23, 24, 25, 1, 3, 4, 5, 7, 8, 9, 15, 16, 27, 28, 29, 30, 2, 5, 6, 10, 11, 13, 14, 17, 24, 26, 17, 18, 14, 6, 14, 21, 5, 20, 16, 1, 3, 8, 1, 9, 11, 12, 13, 14, 17, 28, 11, 2, 5, 11, 13, 14, 15, 21, 27, 29, 18, 12, 17, 18, 15, 20, 7, 30, 5, 15, 1, 4, 8, 11, 12, 15, 18, 19, 23, 28, 30, 1, 2, 9, 15, 23, 28, 6, 15, 23, 2, 7, 8, 9, 12, 14, 15, 18, 23, 25, 26, 28, 29, 30, 4, 7, 22, 26, 29, 3, 5, 8, 9, 12, 15, 20, 24, 26, 29, 18, 19, 6, 13, 14, 19, 23, 24, 27, 30, 4, 7, 25, 9, 28, 10, 23, 8, 1, 30, 7, 16, 18, 22, 27, 29, 23, 5, 23, 3, 4, 7, 28, 29, 4, 7, 8, 14, 16, 20, 23, 27, 30, 7, 3, 19, 29, 14, 19, 20, 26, 26, 14, 18, 17, 2, 4, 7, 8, 9, 12, 15, 16, 17, 19, 25, 28, 27, 25, 5, 10, 21, 22, 24, 25, 12, 1, 3, 17, 20, 3, 4, 7, 8, 16, 1, 4, 8, 14, 16, 26, 1, 2, 3, 4, 5, 6, 7, 8, 9, 10, 11, 12, 13, 14, 15, 16, 17, 18, 19, 21, 22, 23, 24, 25, 26, 27, 28, 29, 30, 18, 9, 27, 1, 3, 5, 7, 9, 11, 15, 18, 23, 24, 25, 8, 22, 30, 5, 6, 21, 23, 5, 14, 27, 2, 1, 3, 7, 8, 11, 16, 20, 25, 29, 1, 4, 7, 8, 11, 13, 16, 28, 6, 5, 6, 7, 14, 19, 22, 24, 5, 6, 13, 24, 1, 5, 6, 8, 10, 11, 12, 13, 14, 15, 17, 18, 19, 20, 21, 22, 24, 26, 29, 5, 7, 12, 13, 18, 20, 22, 28, 2, 4, 8, 19, 22, 29, 30, 8, 14, 19, 5, 21, 2, 5, 11, 14, 15, 25, 21, 24, 13, 20, 4, 8, 20, 14, 6, 22, 23, 27, 1, 9, 15, 16, 26, 28, 8, 6, 9, 10, 14, 15, 19, 24, 27, 29, 12, 22, 4, 28, 22, 13, 8, 3, 4, 16, 28, 1, 5, 8, 10, 23, 2, 4, 5, 8, 9, 12, 13, 16, 17, 18, 19, 22, 23, 26, 28, 30, 24, 14, 10, 27, 9, 27, 20, 8, 9, 1, 3, 4, 11, 13, 15, 16, 17, 20, 30, 21, 22, 1, 1, 4, 1, 7, 3, 12, 22, 11, 13, 16, 23, 11, 1, 4, 8, 1, 3, 1, 15, 3, 15, 2, 3, 8, 17, 23, 29, 30, 17, 4, 9, 11, 18, 29, 1, 2, 19, 1, 4, 2, 3, 9, 16, 28, 2, 3, 9, 20, 29, 21, 27, 2, 7, 8, 11, 13, 16, 17, 19, 22, 28, 2, 5, 6, 7, 9, 10, 11, 12, 13, 14, 15, 18, 19, 20, 21, 23, 24, 25, 26, 3, 8, 11, 21, 23, 12, 13, 1, 5, 6, 11, 13, 19, 23, 27, 18, 7, 25, 10, 14, 3, 4, 7, 18, 23, 29, 3, 1, 2, 3, 4, 5, 6, 7, 8, 10, 11, 15, 16, 25, 26, 27, 30, 2, 4, 7, 8, 9, 16, 17, 18, 21, 25, 26, 28, 29, 30, 1, 1, 2, 4, 7, 8, 9, 11, 13, 15, 16, 19, 25, 27, 28, 2, 3, 4, 8, 9, 18, 24, 28, 29, 3, 8, 18, 26, 27, 26, 29, 2, 6, 21, 20, 14, 14, 2, 5, 6, 8, 11, 12, 17, 1, 23, 3, 16, 28, 19, 3, 6, 11, 13, 14, 20, 27, 27, 1, 29, 3, 17, 10, 30, 4, 10, 14, 30, 14, 10, 3, 19, 1, 11, 15, 20, 27, 1, 2, 3, 5, 7, 8, 14, 16, 19, 25, 7, 10, 12, 23, 27, 2, 3, 4, 6, 7, 10, 14, 15, 18, 19, 21, 23, 24, 25, 27, 25, 19, 16, 2, 4, 5, 8, 19, 26, 1, 2, 3, 4, 5, 7, 8, 10, 11, 12, 14, 15, 16, 17, 19, 20, 21, 22, 24, 27, 28, 29, 4, 7, 4, 3, 4, 7, 8, 3, 7, 8, 14, 16, 23, 28, 4, 11, 17, 19, 29, 4, 12, 17, 4, 2, 7, 8, 17, 26, 7, 11, 28, 5, 16, 17, 2, 3, 28, 1, 8, 16, 17, 24, 9, 2, 21, 6, 4, 8, 21, 28, 4, 17, 4, 11, 19, 24, 26, 8, 4, 15, 17, 23, 27, 18, 2, 8, 11, 16, 17, 26, 29, 30, 4, 30, 7, 18, 24, 17, 18, 25, 3, 4, 7, 8, 17, 27, 23, 1, 3, 7, 8, 11, 15, 16, 28, 4, 20, 2, 3, 5, 6, 8, 29, 3, 5, 11, 2, 8, 13, 17, 26, 17, 20, 4, 8, 28, 18, 22, 5, 11, 17, 17, 17, 3, 4, 7, 29, 14, 15, 25, 30, 5, 6, 28, 1, 4, 8, 10, 11, 12, 16, 18, 24, 29, 27, 23, 1, 26, 1, 4, 20, 1, 4, 30, 20, 14, 13, 17, 17, 29, 27, 10, 4, 5, 7, 9, 10, 14, 15, 17, 21, 22, 23, 15, 17, 20, 8, 29, 5, 14, 20, 11, 1, 2, 4, 7, 8, 10, 14, 15, 16, 17, 20, 24, 25, 26, 17, 12, 20, 18, 5, 6, 14, 19, 21, 22, 23, 24, 29, 30, 10, 1, 8, 22, 30, 7, 10, 18, 25, 5, 10, 13, 14, 21, 23, 25, 27, 30, 5, 10, 16, 22, 28, 6, 8, 10, 12, 13, 19, 24, 28, 30, 2, 29, 20, 26, 28, 1, 3, 12, 15, 17, 29, 3, 17, 22, 11, 5, 13, 17, 14, 9, 10, 2, 10, 3, 5, 7, 8, 9, 17, 24, 26, 21, 12, 1, 11, 14, 16, 23, 3, 4, 8, 1, 4, 8, 28, 1, 4, 8, 11, 22, 26, 28, 29, 4, 27, 9, 3, 30, 1, 13, 9, 3, 3, 26, 27, 12, 20, 4, 1, 7, 8, 11, 12, 13, 28, 8, 28, 1, 3, 8, 11, 14, 22, 24, 28, 3, 5, 6, 8, 12, 13, 14, 16, 9, 17, 3, 16, 14, 18, 23, 26, 29, 4, 5, 1, 5, 14, 15, 16, 23, 27, 30, 1, 25, 14, 2, 4, 8, 16, 17, 20, 23, 25, 28, 2, 9, 11, 17, 23, 26, 26, 29, 4, 7, 8, 9, 11, 13, 16, 22, 26, 28, 1, 3, 4, 5, 6, 7, 10, 13, 14, 16, 19, 27, 30, 18, 23, 5, 6, 8, 15, 17, 18, 23, 24, 27, 29, 30, 20, 2, 6, 8, 16, 17, 30, 1, 3, 7, 11, 12, 14, 15, 19, 22, 24, 27, 29, 3, 7, 8, 11, 13, 14, 17, 18, 20, 22, 23, 24, 25, 27, 16, 11, 17, 2, 26, 1, 8, 9, 26, 27, 7, 1, 3, 8, 10, 18, 25, 18, 9, 5, 20, 5, 8, 10, 13, 15, 17, 18, 23, 24, 25, 27, 28, 1, 3, 13, 25, 30, 27, 14, 23, 27, 16, 18, 11, 2, 3, 4, 5, 7, 9, 14, 16, 21, 24, 25, 27, 29, 15, 21, 7, 29, 5, 6, 7, 10, 13, 14, 22, 29, 7, 12, 14, 19, 24, 2, 5, 20, 24, 11, 13, 17, 19, 21, 27, 2, 5, 11, 22, 12, 13, 23, 20, 1, 4, 8, 1, 2, 3, 7, 9, 19, 26, 27, 7, 8, 11, 16, 28, 5, 12, 9, 17, 27, 2, 3, 5, 6, 7, 8, 9, 10, 11, 12, 13, 14, 16, 17, 19, 22, 23, 24, 28, 29, 22, 26, 28, 1, 3, 5, 7, 8, 10, 12, 13, 23, 25, 26, 28, 1, 4, 7, 10, 11, 19, 22, 25, 29, 11, 1, 2, 3, 4, 5, 7, 8, 9, 10, 11, 12, 13, 14, 15, 16, 17, 20, 23, 24, 26, 27, 28, 12, 1, 2, 3, 4, 5, 7, 8, 12, 13, 14, 16, 17, 18, 19, 22, 26, 28, 29, 1, 8, 16, 21, 21, 5, 8, 9, 10, 11, 13, 15, 16, 18, 19, 24, 25, 5, 10, 13, 14, 2, 1, 2, 3, 4, 6, 7, 8, 9, 11, 13, 15, 16, 17, 22, 28, 29, 18, 13, 7, 3, 7, 8, 3, 4, 3, 12, 18, 1, 3, 4, 5, 6, 7, 8, 10, 13, 14, 16, 19, 28, 30, 2, 3, 5, 7, 8, 10, 11, 19, 22, 28, 29, 2, 15, 3, 8, 11, 26, 8, 21, 9, 10, 12, 14, 15, 18, 19, 20, 21, 23, 24, 25, 26, 27, 29, 30, 8, 1, 3, 4, 6, 9, 11, 14, 15, 19, 20, 21, 24, 26, 28, 30, 9, 12, 13, 18, 19, 24, 27, 28, 9, 11, 18, 3, 5, 6, 8, 9, 10, 11, 13, 14, 15, 24, 2, 3, 5, 6, 10, 11, 14, 21, 25, 30, 1, 2, 4, 6, 7, 8, 11, 12, 13, 20, 22, 25, 27, 19, 24, 1, 3, 4, 7, 8, 16, 27, 1, 2, 3, 4, 5, 7, 11, 13, 16, 17, 22, 24, 25, 23, 2, 9, 27, 25, 23, 1, 5, 21, 6, 1, 2, 3, 5, 6, 8, 9, 11, 12, 13, 15, 16, 19, 21, 22, 23, 24, 27, 28, 29, 5, 6, 9, 16, 4, 9, 11, 17, 7, 10, 2, 12, 17, 19, 20, 28, 4, 29, 26, 3, 7, 29, 29, 12, 5, 6, 24, 7, 16, 3, 16, 20, 14, 30, 5, 9, 10, 12, 14, 13, 10, 5, 14, 1, 8, 20, 22, 25, 28, 29, 1, 3, 4, 5, 8, 10, 11, 12, 13, 16, 20, 28, 29, 3, 4, 8, 9, 14, 16, 20, 30, 24, 5, 11, 14, 23, 24, 4, 5, 8, 9, 10, 12, 20, 22, 23, 26, 27, 29, 8, 1, 4, 8, 20, 21, 29, 16, 1, 3, 4, 6, 7, 8, 10, 14, 16, 24, 26, 28, 29, 11, 1, 3, 4, 5, 6, 8, 9, 10, 11, 12, 14, 16, 17, 18, 19, 20, 25, 28, 29, 30, 1, 2, 3, 4, 8, 10, 12, 14, 15, 16, 17, 18, 20, 23, 25, 26, 27, 28, 29, 2, 3, 4, 7, 8, 12, 25, 28, 29, 27, 25, 1, 3, 4, 6, 7, 8, 16, 22, 23, 29, 2, 9, 22, 29, 1, 4, 5, 6, 7, 9, 11, 12, 13, 14, 17, 22, 27, 6, 23, 26, 23, 30, 1, 2, 3, 5, 6, 7, 8, 9, 11, 12, 13, 14, 16, 17, 19, 20, 21, 23, 24, 25, 26, 28, 4, 5, 6, 9, 10, 11, 12, 13, 14, 18, 19, 21, 22, 23, 24, 29, 30, 8, 13, 26, 13, 15, 1, 4, 8, 17, 21, 28, 23, 1, 3, 4, 8, 11, 1, 21, 8, 1, 3, 4, 6, 7, 8, 13, 14, 16, 19, 28, 7, 25, 12, 13, 15, 1, 30, 29, 1, 3, 4, 5, 6, 7, 8, 11, 12, 13, 14, 15, 16, 17, 19, 21, 24, 25, 26, 28, 30, 1, 8, 11, 12, 9, 26, 17, 4, 28, 10, 24, 9, 9, 19, 9, 1, 2, 3, 4, 5, 6, 7, 9, 11, 12, 14, 16, 21, 22, 28, 30, 4, 6, 7, 8, 10, 12, 15, 16, 18, 20, 22, 23, 24, 27, 30, 7, 29, 3, 4, 9, 16, 10, 25, 4, 8, 20, 23, 29, 1, 3, 5, 6, 7, 10, 12, 14, 15, 16, 17, 18, 19, 21, 23, 24, 25, 26, 28, 29, 21, 17, 7, 19, 20, 7, 9, 5, 12, 14, 19, 29, 12, 17, 22, 13, 11, 1, 5, 6, 7, 8, 11, 15, 18, 19, 23, 24, 28, 12, 6, 12, 29, 7, 2, 9, 1, 3, 4, 8, 11, 15, 16, 17, 18, 22, 26, 28, 29, 12, 20, 30, 30, 7, 8, 16, 21, 29, 1, 6, 9, 11, 12, 15, 17, 18, 22, 26, 30, 19, 13, 25, 2, 4, 7, 9, 10, 11, 12, 15, 20, 28, 29, 30, 11, 24, 7, 20, 1, 3, 6, 8, 16, 14, 19, 5, 12, 28, 12, 1, 3, 4, 5, 7, 17, 20, 1, 3, 26, 3, 4, 6, 7, 8, 10, 17, 20, 28, 29, 5, 11, 14, 19, 15, 16, 23, 23, 2, 3, 6, 10, 11, 12, 14, 15, 16, 20, 21, 23, 25, 26, 27, 29, 30, 1, 2, 3, 4, 5, 6, 7, 8, 9, 10, 11, 12, 13, 14, 15, 16, 17, 18, 19, 20, 23, 24, 25, 28, 29, 2, 11, 12, 13, 20, 5, 6, 20, 14, 27, 1, 2, 3, 4, 7, 8, 9, 11, 13, 19, 29, 1, 7, 15, 20, 27, 28, 27, 3, 24, 1, 2, 3, 4, 5, 8, 14, 15, 16, 18, 19, 26, 2, 28, 14, 19, 21, 23, 29, 1, 8, 21, 29, 7, 8, 21, 28, 28, 5, 6, 9, 29, 3, 16, 26, 25, 15, 6, 10, 26, 15, 27, 7, 15, 16, 21, 1, 11, 16, 7, 19, 23, 5, 10, 12, 13, 23, 26, 11, 13, 14, 18, 1, 2, 3, 4, 5, 11, 14, 15, 17, 18, 23, 26, 27, 29, 1, 4, 8, 30, 22, 9, 20, 1, 3, 5, 10, 12, 13, 15, 25, 28, 17, 20, 8, 14, 20, 3, 14, 19, 22, 30, 7, 8, 19, 16, 19, 20, 24, 26, 28, 21, 1, 2, 4, 7, 9, 10, 12, 13, 15, 16, 17, 20, 22, 26, 27, 28, 29, 12, 22, 25, 12, 20, 22, 5, 2, 4, 7, 9, 11, 12, 17, 20, 21, 22, 23, 25, 26, 29, 4, 26, 17, 26, 14, 22, 27, 29, 18, 2, 4, 6, 12, 14, 19, 20, 22, 26, 10, 2, 3, 4, 7, 8, 9, 12, 13, 17, 19, 20, 21, 22, 24, 25, 26, 27, 28, 29, 1, 18, 16, 20, 22, 26, 27, 29, 9, 2, 14, 20, 22, 26, 27, 28, 29, 1, 3, 15, 4, 8, 11, 13, 14, 17, 18, 19, 20, 22, 26, 25, 4, 8, 28, 21, 28, 26, 27, 15, 1, 5, 7, 10, 13, 21, 23, 28, 7, 10, 14, 16, 24, 5, 13, 25, 3, 6, 17, 19, 22, 26, 29, 1, 4, 8, 19, 21, 5, 6, 20, 14, 30, 20, 5, 6, 7, 10, 12, 14, 23, 25, 30, 4, 2, 8, 10, 23, 22, 15, 1, 3, 4, 7, 8, 16, 24, 27, 13, 4, 5, 6, 4, 5, 6, 8, 11, 15, 16, 17, 18, 23, 24, 25, 29, 30, 25, 10, 14, 1, 2, 3, 4, 9, 17, 11, 16, 22, 27, 4, 16, 24, 27, 2, 20, 18, 13, 8, 12, 1, 2, 3, 4, 5, 6, 8, 9, 10, 11, 12, 13, 14, 15, 16, 17, 18, 19, 20, 23, 24, 26, 27, 28, 29, 17, 24, 29, 4, 5, 7, 8, 13, 14, 16, 19, 20, 26, 27, 30, 1, 2, 3, 4, 7, 8, 11, 12, 13, 16, 17, 18, 21, 24, 28, 1, 2, 3, 4, 5, 7, 8, 10, 11, 12, 14, 16, 17, 23, 26, 28, 29, 26, 8, 4, 29, 1, 3, 22, 26, 13, 3, 13, 17, 23, 25, 26, 4, 9, 25, 1, 18, 28, 1, 3, 5, 7, 8, 9, 11, 12, 18, 19, 22, 24, 25, 27, 7, 8, 11, 16, 18, 19, 27, 10, 25, 10, 1, 4, 8, 13, 18, 30, 23, 29, 13, 1, 7, 18, 1, 4, 16, 25, 29, 6, 7, 8, 9, 12, 13, 17, 19, 20, 25, 27, 28, 29, 30, 8, 19, 1, 8, 19, 1, 8, 13, 25, 8, 22, 29, 1, 3, 7, 12, 13, 14, 16, 23, 25, 27, 1, 2, 5, 6, 7, 8, 12, 18, 22, 1, 2, 3, 4, 7, 14, 16, 27, 25, 16, 14, 16, 1, 4, 11, 29, 1, 3, 6, 7, 8, 9, 10, 12, 13, 18, 22, 23, 24, 27, 29, 6, 23, 27, 30, 6, 6, 14, 9, 16, 4, 6, 16, 1, 2, 3, 7, 8, 9, 11, 14, 16, 20, 21, 28, 30, 11, 13, 16, 22, 8, 13, 20, 15, 25, 17, 28, 16, 6, 3, 11, 16, 17, 20, 23, 24, 26, 28, 1, 3, 4, 6, 7, 8, 9, 11, 13, 16, 19, 25, 30, 16, 2, 5, 6, 9, 10, 14, 22, 24, 27, 2, 9, 11, 15, 27, 29, 3, 4, 5, 7, 17, 21, 25, 27, 28, 5, 6, 7, 10, 12, 13, 18, 19, 21, 23, 24, 25, 26, 27, 30, 3, 6, 11, 28, 30, 13, 19, 22, 26, 28, 14, 24, 26, 17, 9, 13, 18, 19, 28, 29, 1, 7, 10, 20, 21, 23, 25, 9, 1, 2, 3, 4, 5, 6, 7, 8, 9, 10, 11, 12, 13, 14, 15, 16, 17, 21, 23, 24, 25, 27, 28, 29, 3, 21, 6, 20, 26, 14, 2, 4, 5, 6, 9, 10, 11, 12, 13, 14, 15, 17, 18, 19, 20, 21, 22, 23, 24, 25, 26, 27, 29, 30, 1, 4, 8, 29, 1, 3, 4, 6, 7, 8, 9, 12, 14, 16, 19, 22, 25, 26, 27, 1, 4, 5, 6, 7, 8, 10, 14, 16, 23, 26, 27, 28, 29, 1, 2, 3, 4, 6, 7, 8, 12, 14, 16, 19, 20, 26, 28, 29, 11, 13, 26, 23, 1, 3, 4, 7, 8, 9, 10, 12, 16, 19, 20, 21, 23, 25, 27, 4, 7, 13, 20, 10, 14, 6, 1, 20, 26, 1, 2, 3, 5, 6, 10, 11, 13, 14, 26, 27, 28, 29, 30, 17, 5, 13, 18, 20, 27, 20, 7, 16, 20, 22, 26, 27, 28, 1, 4, 21, 19, 7, 15, 5, 24, 8, 20, 24, 17, 20, 9, 16, 1, 2, 3, 7, 8, 9, 11, 13, 14, 15, 16, 17, 18, 19, 20, 22, 23, 24, 26, 27, 28, 29, 30, 9, 11, 18, 20, 22, 4, 8, 28, 9, 18, 19, 15, 16, 23, 4, 10, 29, 15, 13, 22, 10, 17, 23, 9, 20, 23, 24, 20, 7, 11, 15, 16, 17, 21, 5, 16, 21, 1, 3, 12, 15, 23, 26, 30, 23, 5, 14, 15, 23, 25, 30, 5, 10, 13, 14, 15, 23, 25, 4, 3, 4, 8, 22, 3, 8, 11, 1, 3, 4, 6, 8, 14, 16, 18, 19, 20, 21, 22, 30, 4, 7, 8, 30, 6, 6, 11, 18, 1, 2, 5, 8, 10, 13, 17, 28, 3, 11, 20, 19, 11, 18, 1, 3, 8, 16, 25, 27, 4, 6, 1, 3, 4, 8, 16, 22, 29, 7, 21, 2, 5, 9, 28, 19, 4, 21, 14, 26, 26, 28, 8, 13, 20, 30, 16, 3, 4, 11, 21, 1, 9, 6, 11, 14, 27, 11, 25, 12, 8, 4, 5, 17, 19, 24, 1, 2, 4, 6, 8, 9, 11, 16, 17, 18, 19, 23, 26, 27, 28, 23, 21, 4, 8, 20, 22, 26, 29, 1, 2, 3, 4, 7, 9, 13, 14, 18, 28, 24, 3, 4, 6, 7, 8, 11, 14, 16, 17, 19, 22, 23, 27, 28, 29, 7, 14, 13, 28, 10, 3, 7, 17, 4, 8, 16, 17, 10, 12, 3, 4, 7, 10, 13, 1, 2, 3, 4, 6, 7, 8, 11, 12, 13, 14, 15, 16, 17, 18, 19, 20, 24, 26, 28, 5, 7, 15, 16, 19, 20, 23, 25, 1, 3, 4, 6, 7, 8, 9, 11, 12, 16, 17, 19, 25, 27, 19, 3, 28, 2, 8, 13, 14, 16, 19, 30, 1, 3, 4, 6, 7, 16, 19, 21, 22, 24, 27, 29, 30, 19, 1, 2, 3, 4, 7, 8, 22, 24, 26, 28, 29, 3, 3, 11, 2, 3, 4, 6, 7, 8, 9, 10, 11, 12, 14, 18, 22, 23, 24, 25, 26, 29, 1, 2, 1, 6, 12, 16, 19, 20, 23, 24, 26, 28, 1, 2, 3, 4, 5, 6, 7, 8, 9, 10, 11, 12, 13, 14, 15, 16, 18, 19, 20, 21, 22, 23, 25, 28, 29, 24, 1, 4, 8, 11, 16, 29, 3, 20, 3, 2, 4, 7, 8, 9, 10, 12, 13, 14, 15, 16, 17, 19, 21, 22, 23, 24, 25, 27, 28, 7, 1, 3, 4, 7, 8, 10, 13, 16, 22, 28, 14, 29, 15, 11, 11, 11, 1, 11, 12, 13, 16, 20, 22, 24, 25, 26, 27, 28, 29, 1, 2, 4, 5, 6, 7, 9, 11, 15, 18, 19, 21, 24, 27, 29, 1, 6, 9, 25, 17, 18, 2, 7, 8, 9, 11, 13, 17, 18, 5, 19, 1, 2, 4, 7, 8, 9, 10, 11, 12, 13, 16, 17, 19, 20, 22, 26, 28, 29, 2, 3, 4, 7, 8, 9, 11, 12, 13, 19, 20, 22, 26, 29, 1, 3, 4, 7, 8, 16, 17, 24, 28, 30, 21, 5, 22, 1, 2, 7, 12, 13, 9, 24, 23, 2, 5, 6, 9, 10, 11, 12, 13, 14, 17, 18, 19, 20, 21, 22, 24, 25, 26, 27, 29, 30, 2, 1, 3, 7, 8, 2, 4, 6, 7, 8, 12, 16, 18, 19, 20, 22, 24, 25, 27, 29, 2, 4, 8, 11, 17, 18, 19, 22, 24, 25, 29, 2, 3, 4, 5, 6, 7, 8, 14, 16, 17, 19, 21, 22, 28, 30, 27, 4, 28, 2, 3, 5, 6, 9, 10, 11, 13, 17, 19, 21, 25, 27, 29, 11, 1, 2, 3, 4, 9, 10, 11, 12, 13, 14, 15, 17, 18, 19, 20, 21, 22, 23, 24, 25, 26, 27, 29, 1, 3, 4, 8, 11, 18, 22, 29, 1, 3, 8, 29, 15, 5, 13, 18, 20, 21, 27, 5, 10, 11, 1, 2, 3, 4, 7, 8, 9, 10, 11, 13, 14, 16, 17, 19, 20, 21, 22, 23, 24, 25, 26, 28, 29, 5, 9, 17, 1, 2, 3, 4, 6, 7, 8, 9, 11, 12, 13, 14, 15, 16, 17, 18, 19, 20, 21, 22, 23, 25, 26, 27, 28, 29, 30, 1, 3, 4, 5, 7, 8, 13, 14, 16, 19, 23, 28, 3, 4, 5, 6, 7, 14, 1, 19, 1, 2, 3, 4, 5, 6, 8, 9, 10, 11, 12, 14, 22, 24, 25, 29, 1, 3, 6, 8, 10, 11, 12, 13, 14, 15, 17, 19, 21, 22, 24, 25, 1, 8, 1, 30, 7, 21, 24, 14, 15, 23, 24, 29, 13, 10, 18, 25, 8, 9, 13, 14, 19, 22, 24, 27, 29, 2, 3, 8, 9, 11, 15, 17, 18, 19, 24, 26, 27, 28, 1, 11, 14, 15, 16, 5, 10, 19, 9, 18, 20, 26, 16, 1, 1, 8, 22, 25, 3, 11, 9, 1, 2, 3, 4, 5, 8, 9, 11, 13, 15, 16, 17, 18, 20, 23, 30, 1, 5, 6, 7, 10, 13, 15, 17, 19, 1, 3, 4, 8, 14, 16, 28, 29, 1, 7, 12, 23, 25, 27, 1, 3, 4, 7, 8, 28, 14, 20, 27, 20, 15, 26, 30, 15, 23, 7, 17, 19, 26, 29, 15, 5, 6, 12, 30, 2, 9, 11, 12, 15, 17, 11, 17, 1, 3, 17, 28, 27, 22, 27, 17, 13, 19, 19, 15, 8, 28, 1, 3, 4, 7, 8, 9, 14, 16, 28, 29, 6, 9, 10, 11, 12, 13, 14, 15, 17, 18, 20, 23, 25, 27, 30, 13, 5, 10, 23, 7, 18, 19, 8, 1, 28, 3, 4, 5, 7, 8, 9, 10, 12, 14, 15, 19, 20, 28, 29, 18, 3, 10, 13, 16, 22, 23, 27, 28, 29, 10, 21, 21, 23, 8, 13, 5, 27, 7, 14, 15, 23, 25, 5, 10, 15, 16, 23, 25, 23, 8, 2, 12, 16, 21, 26, 25, 5, 1, 2, 3, 4, 6, 7, 8, 9, 10, 11, 12, 16, 18, 19, 20, 22, 27, 28, 6, 19, 29, 27, 1, 2, 8, 9, 11, 12, 18, 23, 3, 14, 27, 1, 16, 2, 2, 20, 25, 29, 1, 3, 5, 22, 3, 29, 10, 23, 6, 1, 3, 8, 9, 13, 16, 18, 19, 24, 28, 11, 1, 4, 18, 19, 24, 12, 1, 8, 28, 11, 1, 3, 4, 8, 11, 10, 6, 1, 11, 23, 1, 2, 3, 8, 9, 12, 16, 20, 28, 16, 18, 16, 4, 16, 24, 27, 29, 3, 4, 8, 20, 23, 28, 23, 26, 11, 16, 29, 3, 27, 28, 16, 20, 1, 3, 20, 28, 7, 15, 18, 27, 7, 2, 18, 20, 24, 28, 21, 10, 1, 2, 3, 4, 6, 7, 8, 9, 10, 11, 13, 15, 16, 17, 20, 22, 26, 28, 1, 4, 8, 15, 16, 17, 26, 1, 3, 11, 20, 1, 10, 11, 1, 2, 4, 5, 6, 8, 12, 13, 14, 20, 21, 26, 27, 29, 30, 1, 5, 6, 8, 10, 11, 12, 13, 14, 15, 20, 22, 23, 24, 27, 30, 10, 11, 13, 19, 22, 25, 3, 4, 29, 1, 3, 8, 16, 29, 8, 11, 16, 21, 28, 17, 23, 1, 25, 28, 1, 23, 1, 2, 3, 6, 8, 9, 11, 12, 15, 16, 18, 8, 29, 4, 16, 1, 5, 8, 23, 25, 30, 3, 4, 5, 8, 11, 22, 23, 1, 15, 19, 3, 7, 9, 26, 27, 28, 15, 16, 26, 22, 1, 2, 3, 4, 5, 9, 10, 11, 12, 13, 14, 15, 16, 17, 18, 19, 21, 23, 24, 25, 26, 27, 30, 5, 22, 2, 4, 5, 6, 7, 8, 9, 11, 17, 21, 6, 9, 17, 20, 4, 5, 9, 10, 13, 27, 29, 1, 5, 7, 10, 13, 14, 21, 23, 25, 27, 10, 6, 11, 14, 25, 5, 6, 10, 11, 12, 13, 14, 16, 21, 22, 23, 24, 29, 16, 1, 3, 7, 8, 28, 8, 12, 20, 29, 1, 2, 7, 11, 16, 11, 13, 11, 22, 2, 3, 4, 8, 9, 10, 11, 13, 15, 16, 17, 18, 19, 24, 25, 28, 26, 8, 9, 20, 27, 29, 20, 3, 4, 8, 11, 14, 16, 18, 20, 22, 28, 22, 4, 6, 7, 16, 28, 18, 7, 20, 22, 30, 5, 11, 17, 1, 3, 4, 5, 6, 8, 10, 12, 13, 15, 16, 17, 18, 19, 21, 22, 24, 25, 29, 30, 1, 3, 8, 13, 25, 2, 3, 4, 11, 16, 28, 5, 27, 13, 2, 15, 20, 22, 8, 16, 29, 12, 3, 29, 7, 1, 10, 18, 21, 23, 29, 30, 28, 1, 30, 25, 13, 1, 3, 16, 1, 4, 8, 9, 11, 28, 4, 3, 16, 20, 25, 29, 2, 1, 7, 15, 23, 29, 7, 1, 4, 1, 4, 17, 1, 5, 6, 7, 9, 10, 11, 14, 17, 18, 22, 24, 29, 30, 30, 2, 9, 28, 1, 8, 11, 17, 18, 29, 3, 4, 5, 7, 16, 20, 1, 3, 11, 16, 19, 24, 26, 17, 27, 16, 10, 14, 4, 8, 11, 20, 23, 29, 3, 4, 5, 6, 9, 13, 16, 20, 21, 23, 14, 21, 13, 16, 1, 2, 4, 5, 6, 8, 9, 10, 11, 12, 13, 14, 15, 16, 17, 18, 19, 20, 21, 22, 23, 24, 25, 26, 27, 29, 30, 1, 3, 4, 28, 7, 11, 22, 25, 29, 3, 4, 7, 8, 9, 12, 13, 16, 17, 19, 22, 24, 25, 27, 28, 2, 4, 9, 18, 20, 22, 24, 26, 29, 12, 13, 17, 24, 25, 29, 1, 17, 20, 21, 26, 14, 21, 21, 6, 2, 9, 11, 12, 15, 18, 26, 27, 22, 16, 18, 7, 25, 27, 10, 2, 5, 12, 14, 15, 18, 21, 23, 9, 14, 21, 11, 18, 3, 4, 7, 8, 24, 3, 26, 18, 20, 14, 22, 23, 27, 29, 2, 4, 7, 9, 16, 27, 3, 4, 7, 21, 12, 16, 8, 22, 3, 12, 2, 3, 5, 6, 9, 10, 12, 13, 14, 15, 17, 18, 19, 20, 21, 22, 23, 24, 25, 27, 28, 29, 30, 5, 6, 9, 11, 13, 15, 21, 27, 22, 23, 5, 24, 27, 18, 26, 8, 21, 22, 3, 6, 3, 8, 17, 21, 10, 2, 4, 6, 7, 8, 9, 11, 12, 16, 19, 22, 25, 26, 27, 28, 9, 19, 24, 14, 21, 6, 11, 17, 3, 9, 11, 18, 3, 9, 13, 6, 7, 8, 9, 16, 26, 12, 22, 22, 9, 24, 4, 2, 12, 1, 3, 13, 22, 12, 1, 4, 1, 4, 1, 4, 5, 8, 13, 18, 26, 1, 1, 10, 11, 13, 1, 18, 29, 2, 5, 6, 9, 11, 12, 14, 20, 24, 30, 27, 4, 8, 29, 4, 8, 22, 1, 3, 11, 12, 15, 19, 22, 25, 28, 29, 4, 28, 28, 3, 6, 17, 28, 22, 22, 29, 3, 4, 5, 6, 7, 19, 20, 24, 29, 5, 6, 12, 27, 15, 21, 1, 2, 3, 4, 5, 7, 8, 9, 10, 11, 19, 24, 25, 28, 12, 19, 30, 5, 6, 13, 29, 3, 13, 19, 1, 9, 12, 3, 10, 6, 24, 21, 23, 6, 3, 4, 14, 23, 3, 14, 19, 22, 24, 27, 5, 6, 10, 12, 14, 19, 28, 30, 8, 10, 2, 3, 12, 18, 28, 10, 3, 7, 24, 1, 3, 5, 6, 7, 8, 11, 14, 15, 19, 20, 28, 29, 7, 25, 12, 1, 20, 4, 14, 16, 24, 6, 21, 23, 5, 5, 6, 7, 11, 13, 14, 17, 22, 27, 29, 16, 1, 22, 1, 1, 15, 3, 5, 16, 20, 26, 7, 16, 19, 26, 29, 3, 4, 8, 11, 12, 1, 4, 15, 23, 28, 30, 1, 1, 2, 15, 17, 18, 19, 23, 30, 6, 16, 30, 5, 24, 6, 11, 2, 3, 7, 8, 9, 10, 11, 12, 13, 14, 15, 16, 17, 22, 24, 25, 26, 27, 28, 29, 3, 5, 8, 10, 11, 16, 17, 20, 22, 26, 28, 29, 3, 5, 19, 23, 3, 7, 20, 29, 12, 20, 2, 3, 4, 5, 6, 9, 10, 11, 12, 13, 14, 15, 17, 18, 20, 22, 23, 25, 26, 28, 30, 6, 5, 5, 6, 10, 13, 24, 11, 2, 3, 8, 11, 22, 25, 14, 1, 3, 4, 7, 9, 10, 12, 13, 16, 18, 19, 20, 23, 24, 27, 30, 1, 3, 4, 6, 10, 11, 15, 21, 30, 1, 3, 29, 7, 14, 23, 1, 4, 11, 17, 14, 19, 27, 29, 3, 26, 3, 4, 8, 16, 19, 23, 3, 29, 22, 2, 3, 7, 8, 9, 22, 27, 28, 2, 3, 4, 5, 6, 7, 8, 9, 10, 11, 12, 13, 14, 15, 16, 17, 18, 19, 20, 21, 22, 23, 24, 25, 26, 28, 29, 30, 29, 19, 23, 9, 1, 8, 27, 30, 3, 5, 18, 19, 20, 1, 2, 4, 7, 8, 9, 11, 12, 13, 14, 15, 16, 17, 18, 21, 22, 25, 26, 27, 29, 1, 3, 11, 17, 1, 3, 4, 6, 8, 15, 18, 19, 21, 23, 26, 29, 3, 7, 8, 8, 3, 19, 8, 19, 1, 11, 16, 26, 28, 4, 5, 8, 10, 12, 16, 18, 21, 22, 24, 27, 29, 1, 8, 12, 16, 22, 25, 16, 25, 28, 5, 4, 17, 4, 20, 15, 24, 1, 3, 5, 6, 7, 8, 11, 16, 21, 29, 14, 2, 5, 6, 10, 11, 13, 14, 17, 18, 21, 23, 24, 26, 28, 29, 30, 8, 13, 16, 17, 3, 28, 7, 22, 24, 25, 2, 5, 6, 8, 9, 10, 11, 12, 13, 14, 15, 17, 18, 19, 21, 22, 23, 25, 27, 28, 30, 5, 10, 2, 3, 4, 5, 6, 9, 10, 11, 12, 13, 14, 15, 17, 18, 19, 20, 21, 22, 23, 24, 25, 26, 27, 28, 29, 30, 2, 4, 7, 8, 9, 10, 11, 12, 14, 15, 17, 18, 23, 24, 25, 26, 28, 5, 7, 11, 16, 2, 5, 6, 9, 10, 14, 15, 17, 20, 21, 22, 23, 24, 25, 26, 1, 6, 7, 16, 10, 16, 3, 5, 6, 10, 12, 13, 14, 15, 17, 21, 23, 24, 25, 29, 5, 6, 10, 14, 23, 29, 14, 1, 3, 4, 8, 10, 15, 17, 2, 3, 5, 8, 9, 11, 17, 29, 12, 14, 25, 3, 1, 3, 7, 16, 19, 25, 30, 5, 11, 15, 25, 27, 29, 11, 15, 22, 25, 4, 5, 6, 8, 11, 13, 14, 16, 17, 20, 23, 27, 29, 30, 14, 15, 17, 30, 6, 13, 19, 21, 16, 5, 8, 18, 24, 24, 15, 1, 3, 5, 6, 7, 9, 14, 17, 20, 21, 24, 27, 8, 15, 7, 15, 23, 1, 17, 26, 4, 7, 4, 11, 16, 4, 11, 17, 25, 9, 14, 19, 18, 4, 20, 1, 3, 4, 5, 7, 8, 10, 11, 16, 17, 18, 19, 23, 24, 27, 30, 1, 2, 3, 4, 7, 8, 10, 11, 12, 16, 24, 26, 27, 30, 18, 17, 28, 26, 23, 2, 22, 5, 6, 11, 16, 8, 8, 14, 19, 26, 27, 19, 9, 24, 3, 30, 2, 3, 5, 8, 18, 26, 27, 28, 1, 2, 5, 6, 7, 9, 10, 11, 12, 13, 14, 15, 16, 17, 18, 19, 20, 23, 26, 7, 29, 16, 5, 17, 4, 9, 16, 2, 9, 7, 10, 19, 30, 2, 4, 5, 9, 12, 15, 20, 26, 28, 17, 3, 4, 14, 16, 27, 2, 3, 4, 5, 8, 9, 11, 12, 13, 15, 19, 20, 26, 28, 30, 1, 3, 7, 8, 11, 16, 28, 1, 1, 2, 3, 4, 5, 6, 7, 8, 9, 11, 12, 13, 16, 18, 19, 23, 25, 28, 29, 22, 2, 4, 7, 8, 9, 11, 12, 13, 16, 22, 24, 25, 27, 28, 9, 19, 24, 3, 4, 7, 8, 12, 19, 21, 25, 24, 14, 23, 24, 26, 2, 1, 2, 3, 4, 7, 8, 11, 12, 13, 16, 17, 18, 19, 20, 22, 23, 25, 26, 28, 30, 1, 3, 4, 5, 7, 9, 14, 16, 19, 25, 10, 3, 2, 3, 9, 30, 2, 4, 5, 10, 13, 15, 17, 18, 19, 21, 23, 24, 28, 13, 12, 22, 3, 10, 13, 1, 3, 4, 7, 8, 10, 16, 28, 4, 2, 17, 3, 7, 8, 18, 19, 24, 28, 7, 14, 18, 19, 24, 7, 5, 7, 15, 23, 25, 3, 18, 26, 1, 3, 10, 25, 28, 1, 3, 26, 12, 8, 22, 1, 3, 8, 1, 3, 4, 7, 8, 17, 28, 10, 12, 15, 23, 1, 2, 2, 17, 2, 4, 3, 5, 6, 8, 9, 10, 11, 12, 13, 14, 15, 16, 17, 18, 19, 20, 21, 22, 23, 24, 25, 26, 27, 30, 8, 9, 19, 24, 8, 24, 14, 23, 21, 1, 2, 3, 4, 7, 8, 9, 11, 12, 13, 14, 15, 16, 17, 18, 20, 22, 23, 26, 28, 29, 8, 20, 25, 28, 29, 14, 14, 13, 11, 23, 18, 1, 12, 8, 12, 22, 8, 29, 1, 2, 4, 5, 6, 7, 8, 9, 11, 12, 13, 14, 15, 23, 1, 3, 4, 6, 8, 14, 16, 18, 21, 3, 8, 16, 28, 7, 11, 24, 5, 1, 3, 5, 6, 7, 8, 10, 11, 14, 15, 16, 19, 24, 26, 30, 1, 3, 5, 7, 10, 11, 14, 17, 19, 20, 22, 23, 25, 27, 2, 2, 3, 4, 5, 6, 7, 8, 9, 10, 11, 13, 15, 16, 17, 18, 19, 20, 21, 22, 23, 25, 26, 29, 12, 26, 27, 8, 2, 4, 6, 9, 15, 16, 17, 23, 5, 14, 2, 5, 6, 7, 10, 13, 14, 17, 20, 21, 24, 29, 10, 15, 6, 15, 23, 13, 4, 21, 14, 15, 19, 21, 23, 4, 23, 26, 3, 21, 4, 25, 1, 2, 3, 4, 5, 6, 7, 8, 10, 11, 12, 13, 15, 16, 17, 18, 21, 25, 26, 27, 29, 30, 1, 2, 4, 9, 19, 3, 8, 9, 14, 15, 16, 23, 2, 3, 5, 15, 21, 3, 8, 24, 1, 4, 8, 16, 29, 4, 8, 29, 4, 27, 8, 19, 25, 26, 3, 7, 7, 30, 20, 25, 21, 5, 26, 22, 4, 8, 19, 1, 3, 8, 20, 3, 4, 8, 15, 27, 5, 6, 10, 11, 14, 20, 29, 14, 23, 5, 27, 17, 20, 1, 4, 8, 12, 13, 21, 29, 20, 7, 8, 16, 26, 14, 22, 27, 29, 28, 1, 2, 3, 5, 7, 8, 9, 14, 16, 20, 22, 24, 28, 1, 3, 4, 6, 7, 8, 14, 16, 19, 26, 28, 19, 25, 7, 14, 8, 19, 20, 25, 29, 7, 14, 16, 28, 19, 24, 1, 4, 6, 7, 8, 9, 11, 13, 15, 16, 20, 22, 23, 25, 28, 4, 1, 2, 3, 4, 5, 6, 7, 8, 10, 11, 16, 17, 18, 19, 20, 21, 23, 24, 25, 28, 30, 15, 20, 30, 10, 1, 2, 3, 4, 7, 9, 12, 16, 18, 19, 20, 21, 23, 24, 26, 27, 29, 13, 15, 26, 27, 6, 8, 11, 15, 16, 17, 19, 23, 25, 27, 1, 11, 19, 21, 22, 25, 19, 21, 3, 4, 5, 6, 7, 8, 10, 11, 13, 15, 18, 19, 20, 21, 23, 25, 26, 27, 28, 29, 15, 1, 5, 6, 10, 11, 21, 25, 27, 30, 2, 3, 7, 9, 13, 16, 20, 25, 28, 26, 2, 4, 8, 9, 17, 20, 26, 30, 4, 21, 5, 21, 23, 24, 8, 4, 9, 16, 22, 26, 9, 6, 1, 28, 2, 4, 5, 7, 8, 9, 10, 11, 12, 13, 14, 15, 17, 18, 20, 21, 22, 25, 26, 29, 3, 7, 14, 16, 17, 19, 20, 24, 28, 2, 7, 9, 10, 12, 13, 17, 20, 21, 24, 26, 29, 6, 14, 25, 2, 1, 3, 4, 5, 6, 7, 10, 11, 12, 15, 16, 18, 20, 28, 7, 22, 27, 1, 3, 5, 6, 7, 9, 10, 12, 13, 17, 28, 29, 3, 4, 6, 11, 13, 28, 30, 8, 16, 4, 6, 9, 12, 13, 14, 16, 20, 26, 1, 2, 3, 6, 7, 8, 9, 11, 17, 20, 23, 25, 26, 28, 1, 2, 3, 7, 8, 10, 11, 12, 15, 17, 18, 19, 20, 23, 24, 25, 26, 27, 28, 29, 30, 1, 4, 7, 8, 11, 16, 28, 29, 1, 3, 4, 6, 7, 8, 9, 11, 12, 13, 14, 15, 16, 18, 21, 22, 24, 25, 27, 29, 12, 16, 24, 25, 2, 3, 4, 7, 8, 14, 15, 16, 18, 19, 20, 26, 28, 4, 6, 30], \"Freq\": [0.9574639201164246, 0.06582820415496826, 0.8557667136192322, 0.9257634878158569, 0.04745565727353096, 0.9016574621200562, 0.9403751492500305, 0.01775559037923813, 0.11541134119033813, 0.1242891326546669, 0.25745606422424316, 0.4794009327888489, 0.12644268572330475, 0.8218774199485779, 0.24660442769527435, 0.11209291964769363, 0.6277203559875488, 0.9175181984901428, 0.965799868106842, 0.9707837104797363, 0.028345949947834015, 0.0661405473947525, 0.009448649361729622, 0.8881731033325195, 0.3889596462249756, 0.5707006454467773, 0.03906581923365593, 0.8164231777191162, 0.05630504712462425, 0.0070381308905780315, 0.014076261781156063, 0.0070381308905780315, 0.09149570018053055, 0.9229377508163452, 0.021665051579475403, 0.037913840264081955, 0.005416262894868851, 0.37913841009140015, 0.08124393969774246, 0.38997092843055725, 0.08124393969774246, 0.9163668751716614, 0.8710665702819824, 0.03629444167017937, 0.007258887868374586, 0.014517775736749172, 0.014517775736749172, 0.007258887868374586, 0.029035551473498344, 0.007258887868374586, 0.3205792009830475, 0.03606516122817993, 0.5249484777450562, 0.06812307983636856, 0.04808688163757324, 0.967979907989502, 0.9302828311920166, 0.9057608246803284, 0.9613032937049866, 0.9529147148132324, 0.1514696627855301, 0.8330831527709961, 0.023762064054608345, 0.23762065172195435, 0.11088963598012924, 0.11881032586097717, 0.1267310082912445, 0.34058958292007446, 0.03168275207281113, 0.331477552652359, 0.23326198756694794, 0.012276946566998959, 0.4051392376422882, 0.08760947734117508, 0.01991124451160431, 0.003982249181717634, 0.015928996726870537, 0.055751487612724304, 0.07964497804641724, 0.2030947059392929, 0.1672544628381729, 0.011946747079491615, 0.2389349490404129, 0.01991124451160431, 0.06371598690748215, 0.02389349415898323, 0.007964498363435268, 0.07668393850326538, 0.07668393850326538, 0.18623241782188416, 0.06572908908128738, 0.5696521401405334, 0.9024212956428528, 0.7595418095588684, 0.08763944357633591, 0.14606574177742004, 0.9108943939208984, 0.9096274375915527, 0.9608971476554871, 0.9653926491737366, 0.11677190661430359, 0.8674484491348267, 0.8908103108406067, 0.9076993465423584, 0.9549580812454224, 0.9011011123657227, 0.039178308099508286, 0.9275557398796082, 0.9318673014640808, 0.9497287273406982, 0.946663498878479, 0.029802633449435234, 0.834473729133606, 0.11921053379774094, 0.01662563905119896, 0.03325127810239792, 0.45839259028434753, 0.05225200578570366, 0.05462709814310074, 0.009500364772975445, 0.12825492024421692, 0.03800145909190178, 0.06175237149000168, 0.02850109338760376, 0.03325127810239792, 0.004750182386487722, 0.004750182386487722, 0.04275164008140564, 0.03087618574500084, 0.18441998958587646, 0.2473926693201065, 0.0674707293510437, 0.01799219474196434, 0.01349414512515068, 0.004498048685491085, 0.08096487075090408, 0.3463497459888458, 0.03148633986711502, 0.00041449011769145727, 0.08725016564130783, 0.002901430707424879, 0.008289801888167858, 0.2847546935081482, 0.06818362325429916, 0.004973881412297487, 0.00020724505884572864, 0.012641948647797108, 0.11709345877170563, 0.021553486585617065, 0.042070746421813965, 0.0292215533554554, 0.040205541998147964, 0.01429990865290165, 0.015957869589328766, 0.007875312119722366, 0.049531567841768265, 0.018859300762414932, 0.037096865475177765, 0.04435044154524803, 0.020931750535964966, 0.01927378959953785, 0.021346241235733032, 0.005181126296520233, 0.004559391178190708, 0.00041449011769145727, 0.011398478411138058, 0.009533273056149483, 0.9377561211585999, 0.08929552882909775, 0.21430926024913788, 0.05357731506228447, 0.01785910502076149, 0.6072095632553101, 0.14024770259857178, 0.31054848432540894, 0.020035386085510254, 0.06010615825653076, 0.025044232606887817, 0.13023000955581665, 0.13023000955581665, 0.0550973117351532, 0.03005307912826538, 0.08515039086341858, 0.010017693042755127, 0.17179632186889648, 0.10021451860666275, 0.7158179879188538, 0.9689921736717224, 0.9337940216064453, 0.3622382581233978, 0.617935836315155, 0.8592893481254578, 0.05926133692264557, 0.029630668461322784, 0.02978397347033024, 0.10424390435218811, 0.07445993274450302, 0.41697561740875244, 0.08935192227363586, 0.02978397347033024, 0.25316378474235535, 0.8519084453582764, 0.04029296711087227, 0.02878069132566452, 0.07482979446649551, 0.8907898664474487, 0.09136306494474411, 0.9768967032432556, 0.9708386659622192, 0.007092549931257963, 0.0017731374828144908, 0.03368961438536644, 0.02127765119075775, 0.056740399450063705, 0.3528543710708618, 0.028370199725031853, 0.030143337324261665, 0.017731375992298126, 0.04078216478228569, 0.017731375992298126, 0.07447177916765213, 0.1560361087322235, 0.05496726185083389, 0.024823924526572227, 0.07979118824005127, 0.9229738712310791, 0.9626594185829163, 0.977984607219696, 0.045867953449487686, 0.8256231546401978, 0.09173590689897537, 0.9369581341743469, 0.9625335931777954, 0.9550060033798218, 0.11543841660022736, 0.1923973709344864, 0.21805034577846527, 0.43610069155693054, 0.02565298229455948, 0.13614818453788757, 0.13614818453788757, 0.41695380210876465, 0.059564828872680664, 0.11912965774536133, 0.12763892114162445, 0.9705446362495422, 0.9709010124206543, 0.016723154112696648, 0.05016946420073509, 0.919773519039154, 0.1895485669374466, 0.06892675161361694, 0.08615843951702118, 0.6548041701316833, 0.048840321600437164, 0.15466101467609406, 0.797725260257721, 0.1038823351264, 0.07791174948215485, 0.3830660879611969, 0.0259705837816, 0.09738968312740326, 0.30515435338020325, 0.981049120426178, 0.12421223521232605, 0.20325638353824615, 0.6097691655158997, 0.05646010488271713, 0.014763940125703812, 0.033218864351511, 0.014763940125703812, 0.20669515430927277, 0.04060083627700806, 0.003690985031425953, 0.37648046016693115, 0.007381970062851906, 0.05536477640271187, 0.066437728703022, 0.022145910188555717, 0.07751068472862244, 0.033218864351511, 0.04060083627700806, 0.13850805163383484, 0.831048309803009, 0.1478756219148636, 0.8133159279823303, 0.7575905323028564, 0.1515181064605713, 0.07575905323028564, 0.1889471411705017, 0.7827810049057007, 0.013496224768459797, 0.9602736234664917, 0.2460084706544876, 0.03690127283334732, 0.6519224643707275, 0.04920169711112976, 0.09211098402738571, 0.18422196805477142, 0.7061842083930969, 0.9374991059303284, 0.11755789816379547, 0.8732872605323792, 0.93734210729599, 0.7263966798782349, 0.2582743763923645, 0.8888720870018005, 0.04678273946046829, 0.05947640538215637, 0.029738202691078186, 0.09912734478712082, 0.21808014810085297, 0.10904007405042648, 0.04956367239356041, 0.42624756693840027, 0.026045994833111763, 0.17430780827999115, 0.26847410202026367, 0.05810260400176048, 0.04608137533068657, 0.05409552901983261, 0.06411322206258774, 0.12021228671073914, 0.056099068373441696, 0.04407783970236778, 0.030053071677684784, 0.056099068373441696, 0.10081423074007034, 0.2822798490524292, 0.6048853993415833, 0.09637520462274551, 0.08719661086797714, 0.06425013393163681, 0.14226815104484558, 0.068839430809021, 0.11014308780431747, 0.05507154390215874, 0.09637520462274551, 0.2799470126628876, 0.03471856564283371, 0.7059441804885864, 0.023145711049437523, 0.1620199829339981, 0.05786427855491638, 0.1553906500339508, 0.11928980052471161, 0.007848013192415237, 0.08789774775505066, 0.028252847492694855, 0.023544039577245712, 0.023544039577245712, 0.03767046332359314, 0.14440344274044037, 0.08789774775505066, 0.01255682110786438, 0.05650569498538971, 0.023544039577245712, 0.05807529762387276, 0.05493609234690666, 0.0047088079154491425, 0.029822450131177902, 0.007848013192415237, 0.02511364221572876, 0.010987218469381332, 0.9607923030853271, 0.9390207529067993, 0.7614051699638367, 0.00898413173854351, 0.05839685723185539, 0.01796826347708702, 0.00898413173854351, 0.024706363677978516, 0.11005561798810959, 0.006738098803907633, 0.8470057845115662, 0.14344452321529388, 0.12174545973539352, 0.8522182106971741, 0.9023175835609436, 0.030472716316580772, 0.1929938644170761, 0.48756346106529236, 0.02031514421105385, 0.05078785866498947, 0.05078785866498947, 0.152363583445549, 0.8200246095657349, 0.054668307304382324, 0.054668307304382324, 0.04526996985077858, 0.26813751459121704, 0.12884530425071716, 0.0661638006567955, 0.31688979268074036, 0.0661638006567955, 0.07661072164773941, 0.003482305444777012, 0.017411528155207634, 0.006964610889554024, 0.12873488664627075, 0.08275813609361649, 0.06436744332313538, 0.7172371745109558, 0.039983704686164856, 0.039983704686164856, 0.2576727867126465, 0.044426340609788895, 0.2043611705303192, 0.11106584966182709, 0.11995112150907516, 0.18214799463748932, 0.09497695416212082, 0.027136273682117462, 0.06105661392211914, 0.027136273682117462, 0.013568136841058731, 0.10854509472846985, 0.04748847708106041, 0.3527715504169464, 0.2238742560148239, 0.0067840684205293655, 0.020352205261588097, 0.019828982651233673, 0.19828982651233673, 0.07931593060493469, 0.6940143704414368, 0.9570075869560242, 0.5878353118896484, 0.0030938698910176754, 0.11137931793928146, 0.05568965896964073, 0.009281610138714314, 0.1670689731836319, 0.06497126817703247, 0.877366304397583, 0.7892647385597229, 0.1392820179462433, 0.011606834828853607, 0.04642733931541443, 0.9074372053146362, 0.9778803586959839, 0.9319726824760437, 0.2603883743286133, 0.002712378976866603, 0.10307040065526962, 0.054247576743364334, 0.043398063629865646, 0.13019418716430664, 0.054247576743364334, 0.04611044004559517, 0.12205705046653748, 0.040685683488845825, 0.13290657103061676, 0.002712378976866603, 0.002712378976866603, 0.9305992126464844, 0.03071170300245285, 0.12465338408946991, 0.00903285387903452, 0.18788336217403412, 0.04516426846385002, 0.4444164037704468, 0.05058398097753525, 0.007226283196359873, 0.052390553057193756, 0.023485420271754265, 0.023485420271754265, 0.05974585562944412, 0.04107527807354927, 0.4966374337673187, 0.36967748403549194, 0.02987292781472206, 0.9566349387168884, 0.9254149198532104, 0.6076288819313049, 0.13945581018924713, 0.06972790509462357, 0.16933920979499817, 0.05215267837047577, 0.8865955471992493, 0.9628027677536011, 0.9142680764198303, 0.028570877388119698, 0.028570877388119698, 0.961658239364624, 0.9261047840118408, 0.0647779256105423, 0.9068909287452698, 0.33214452862739563, 0.044884394854307175, 0.6212000250816345, 0.08092687278985977, 0.8092687726020813, 0.06717333942651749, 0.10076000541448593, 0.8060800433158875, 0.9813748598098755, 0.9203637838363647, 0.9775107502937317, 0.06199805811047554, 0.8679727911949158, 0.9715378880500793, 0.04634623974561691, 0.004634623881429434, 0.004634623881429434, 0.013903871178627014, 0.08342322707176208, 0.8388668894767761, 0.31768569350242615, 0.6750821471214294, 0.9184889197349548, 0.9444665908813477, 0.9480622410774231, 0.9496103525161743, 0.09734766185283661, 0.05999332666397095, 0.08602816611528397, 0.1199866533279419, 0.1403617411851883, 0.05772942677140236, 0.07697257399559021, 0.020375091582536697, 0.09847961366176605, 0.013583394698798656, 0.032826539129018784, 0.046409931033849716, 0.02150704152882099, 0.04980578273534775, 0.012451445683836937, 0.04527798295021057, 0.02150704152882099, 0.03736485540866852, 0.05604728311300278, 0.1868242770433426, 0.0934121385216713, 0.560472846031189, 0.03736485540866852, 0.9665300250053406, 0.9773560762405396, 0.9665847420692444, 0.018024465069174767, 0.5587584376335144, 0.01201631035655737, 0.0660897046327591, 0.2523425221443176, 0.01201631035655737, 0.01201631035655737, 0.07209786027669907, 0.042867548763751984, 0.1000242754817009, 0.0785905048251152, 0.19290396571159363, 0.35008496046066284, 0.12145805358886719, 0.05715673044323921, 0.0071445913054049015, 0.05001213774085045, 0.25059470534324646, 0.7016652226448059, 0.9197571277618408, 0.038323212414979935, 0.9788733720779419, 0.08490642160177231, 0.03714656084775925, 0.0026533256750553846, 0.5598517060279846, 0.018573280423879623, 0.11409300565719604, 0.021226605400443077, 0.03714656084775925, 0.007959977723658085, 0.02387993223965168, 0.09286639839410782, 0.23690165579319, 0.7525111436843872, 0.006077580153942108, 0.5165942907333374, 0.13370676338672638, 0.03646548092365265, 0.20663772523403168, 0.09724128246307373, 0.9268370270729065, 0.10509759932756424, 0.8407807946205139, 0.962653636932373, 0.11505768448114395, 0.8054037690162659, 0.966801106929779, 0.9312412142753601, 0.029042841866612434, 0.041950773447752, 0.18716497719287872, 0.07422059774398804, 0.04840473830699921, 0.26138558983802795, 0.03226982429623604, 0.12262533605098724, 0.019361894577741623, 0.10649042576551437, 0.05163171887397766, 0.01613491214811802, 0.006453964859247208, 0.07945733517408371, 0.013242889195680618, 0.7614661455154419, 0.013242889195680618, 0.019864333793520927, 0.10594311356544495, 0.006621444597840309, 0.9699203372001648, 0.9351954460144043, 0.9129656553268433, 0.9643028974533081, 0.2188059687614441, 0.04688699170947075, 0.007814498618245125, 0.5196641683578491, 0.14066097140312195, 0.05470149219036102, 0.003907249309122562, 0.8521721363067627, 0.05326075851917267, 0.05326075851917267, 0.03550717234611511, 0.9278186559677124, 0.03168876841664314, 0.9506630301475525, 0.06875496357679367, 0.2946641445159912, 0.049110688269138336, 0.31430840492248535, 0.18662062287330627, 0.07857710123062134, 0.3199959993362427, 0.05517172813415527, 0.45240816473960876, 0.16551518440246582, 0.9493134021759033, 0.8659820556640625, 0.052595559507608414, 0.21038223803043365, 0.5128067135810852, 0.21038223803043365, 0.9108946323394775, 0.9147302508354187, 0.0207867082208395, 0.06755679845809937, 0.05716344714164734, 0.046770092099905014, 0.23904713988304138, 0.15590031445026398, 0.4053407907485962, 0.0685950517654419, 0.12347108870744705, 0.11661158502101898, 0.006859505083411932, 0.02057851478457451, 0.10289257764816284, 0.10975208133459091, 0.07545455545186996, 0.37041327357292175, 0.9280484914779663, 0.030934950336813927, 0.922999918460846, 0.026744985952973366, 0.41900479793548584, 0.1693849116563797, 0.26744985580444336, 0.10697994381189346, 0.9025377035140991, 0.41618889570236206, 0.22701211273670197, 0.3480852544307709, 0.009290702641010284, 0.1207791343331337, 0.6317678093910217, 0.06503491848707199, 0.176523357629776, 0.03287305682897568, 0.1314922273159027, 0.7560803294181824, 0.08218264579772949, 0.2452383190393448, 0.7357149720191956, 0.9333816170692444, 0.046365972608327866, 0.023182986304163933, 0.16228090226650238, 0.6491236090660095, 0.1390979140996933, 0.0637536570429802, 0.8925512433052063, 0.020979128777980804, 0.9755294322967529, 0.9343769550323486, 0.9605072140693665, 0.5156499147415161, 0.02750132791697979, 0.013750663958489895, 0.3575172424316406, 0.08250398188829422, 0.2833656370639801, 0.6907036900520325, 0.9147633910179138, 0.9092340469360352, 0.05817227065563202, 0.858040988445282, 0.07271533459424973, 0.2069617658853531, 0.6114779710769653, 0.009407352656126022, 0.0846661776304245, 0.07525882124900818, 0.003235745942220092, 0.055007677525281906, 0.027503838762640953, 0.09060088545084, 0.23135583102703094, 0.1003081202507019, 0.11001535505056381, 0.02912171185016632, 0.06147916987538338, 0.019414475187659264, 0.12295833975076675, 0.04530044272542, 0.004853618796914816, 0.05177193507552147, 0.02103234827518463, 0.025885967537760735, 0.9899927377700806, 0.9642935395240784, 0.8765292763710022, 0.06597031652927399, 0.7865691781044006, 0.07104495912790298, 0.07611959427595139, 0.9208905100822449, 0.05417003110051155, 0.27041375637054443, 0.033801719546318054, 0.6760343313217163, 0.1734769493341446, 0.8163621425628662, 0.03202169016003609, 0.7685205340385437, 0.12808676064014435, 0.03202169016003609, 0.9447600245475769, 0.20181845128536224, 0.028831206262111664, 0.7496113777160645, 0.9098035097122192, 0.06739285588264465, 0.9443790912628174, 0.046872157603502274, 0.8905709981918335, 0.9850677847862244, 0.11901816725730896, 0.8789033889770508, 0.06271432340145111, 0.035836756229400635, 0.17918378114700317, 0.09855107963085175, 0.4837961792945862, 0.13438783586025238, 0.9472588300704956, 0.03643302991986275, 0.03452088311314583, 0.12082308530807495, 0.8457615971565247, 0.0927245020866394, 0.14498740434646606, 0.025288501754403114, 0.010115399956703186, 0.09103860706090927, 0.1635323017835617, 0.026974400505423546, 0.028660301119089127, 0.07417960464954376, 0.015173100866377354, 0.028660301119089127, 0.08766680210828781, 0.14835920929908752, 0.021916700527071953, 0.03877570107579231, 0.9017508625984192, 0.9484648704528809, 0.138809934258461, 0.47812309861183167, 0.3701598048210144, 0.058851730078458786, 0.8239242434501648, 0.058851730078458786, 0.3193601965904236, 0.4742014706134796, 0.038710325956344604, 0.16451887786388397, 0.028531158342957497, 0.032097551971673965, 0.19496291875839233, 0.1747533529996872, 0.049929529428482056, 0.036852747201919556, 0.06300631165504456, 0.04279673844575882, 0.010699184611439705, 0.04279673844575882, 0.048740729689598083, 0.020209571346640587, 0.07489429414272308, 0.049929529428482056, 0.040419142693281174, 0.008321587927639484, 0.011887982487678528, 0.020209571346640587, 0.04636313393712044, 0.2678382694721222, 0.6963794827461243, 0.09449930489063263, 0.8268688917160034, 0.023624826222658157, 0.011812413111329079, 0.011812413111329079, 0.023624826222658157, 0.8728547692298889, 0.10071401298046112, 0.011190446093678474, 0.9635925889015198, 0.9169725179672241, 0.1340419352054596, 0.8042516112327576, 0.0335104838013649, 0.2777276039123535, 0.009802151471376419, 0.09475412964820862, 0.15029965341091156, 0.013069534674286842, 0.0032673836685717106, 0.009802151471376419, 0.019604302942752838, 0.016336917877197266, 0.039208605885505676, 0.006534767337143421, 0.11109104752540588, 0.06534767150878906, 0.026139069348573685, 0.0032673836685717106, 0.10128889232873917, 0.05227813869714737, 0.9699203372001648, 0.08077516406774521, 0.1366964429616928, 0.006213474553078413, 0.031067371368408203, 0.006213474553078413, 0.24853897094726562, 0.20504465699195862, 0.2733928859233856, 0.9609139561653137, 0.6338913440704346, 0.07923641800880432, 0.28525111079216003, 0.25312480330467224, 0.2418748289346695, 0.14343740046024323, 0.011249992065131664, 0.14343740046024323, 0.08156243711709976, 0.12374991178512573, 0.06053309887647629, 0.8474633693695068, 0.06053309887647629, 0.9556957483291626, 0.06238488852977753, 0.8983424305915833, 0.01247697789222002, 0.02495395578444004, 0.40702688694000244, 0.3072396516799927, 0.10241322219371796, 0.07090146094560623, 0.0840313583612442, 0.02888577990233898, 0.07316848635673523, 0.422751247882843, 0.09755797684192657, 0.17885629832744598, 0.040649157017469406, 0.09755797684192657, 0.08129831403493881, 0.7778445482254028, 0.18520107865333557, 0.21090523898601532, 0.6766543388366699, 0.10545261949300766, 0.3342646360397339, 0.15041908621788025, 0.016713231801986694, 0.48468372225761414, 0.8970572352409363, 0.019934603944420815, 0.05980381369590759, 0.044287048280239105, 0.06813392043113708, 0.0034066960215568542, 0.0374736562371254, 0.08857409656047821, 0.14648792147636414, 0.10901427268981934, 0.010220088064670563, 0.01703348010778427, 0.03406696021556854, 0.020440176129341125, 0.1192343607544899, 0.1192343607544899, 0.17714819312095642, 0.10698729008436203, 0.021397458389401436, 0.1283847540616989, 0.028529943898320198, 0.057059887796640396, 0.0035662429872900248, 0.04279491677880287, 0.11768601834774017, 0.014264971949160099, 0.12481850385665894, 0.11768601834774017, 0.03209618851542473, 0.2068420946598053, 0.5443804860115051, 0.0646451860666275, 0.14460106194019318, 0.06124280393123627, 0.05784042552113533, 0.04252972453832626, 0.0034023779444396496, 0.02211545780301094, 0.03232259303331375, 0.027219023555517197, 0.40458962321281433, 0.5779851675033569, 0.9420602321624756, 0.4622596204280853, 0.5333765149116516, 0.9257634878158569, 0.976279616355896, 0.9555739164352417, 0.9220142364501953, 0.06833190470933914, 0.15944109857082367, 0.7516509294509888, 0.010043773800134659, 0.026783397421240807, 0.291269451379776, 0.16739623248577118, 0.3214007616043091, 0.09374189376831055, 0.08035019040107727, 0.003347924677655101, 0.9576196074485779, 0.0021325910929590464, 0.008530364371836185, 0.04265182092785835, 0.5992581248283386, 0.03412145748734474, 0.05971255153417587, 0.13648582994937897, 0.10662955790758133, 0.008530364371836185, 0.9787020683288574, 0.9711792469024658, 0.2142336666584015, 0.765120267868042, 0.21414002776145935, 0.7709041237831116, 0.9683939814567566, 0.9229738712310791, 0.9287140369415283, 0.033168356865644455, 0.021011048927903175, 0.0840441957116127, 0.018009470775723457, 0.05702998861670494, 0.04502367600798607, 0.2701420485973358, 0.15308049321174622, 0.04502367600798607, 0.06003156676888466, 0.2011057585477829, 0.03902051970362663, 0.0072663575410842896, 0.02179907262325287, 0.748434841632843, 0.055708739906549454, 0.0726635754108429, 0.0920405313372612, 0.014280896633863449, 0.7426066398620605, 0.22849434614181519, 0.009249583818018436, 0.23123958706855774, 0.05087270960211754, 0.04162312671542168, 0.0601222924888134, 0.07862146198749542, 0.07862146198749542, 0.009249583818018436, 0.036998335272073746, 0.004624791909009218, 0.14799334108829498, 0.05549750104546547, 0.12949417531490326, 0.0601222924888134, 0.6828210949897766, 0.17070527374744415, 0.01896725408732891, 0.01896725408732891, 0.0948362648487091, 0.009397264569997787, 0.07047948241233826, 0.004698632284998894, 0.11276717483997345, 0.1409589648246765, 0.07047948241233826, 0.17384938895702362, 0.2678220272064209, 0.1409589648246765, 0.004698632284998894, 0.9453214406967163, 0.9210242033004761, 0.23026244342327118, 0.23303669691085815, 0.21084272861480713, 0.01664547808468342, 0.1387123167514801, 0.04161369428038597, 0.04438794031739235, 0.08322738856077194, 0.9561932682991028, 0.1700829118490219, 0.7937202453613281, 0.8773553371429443, 0.051609139889478683, 0.8203629851341248, 0.1697302758693695, 0.9493134021759033, 0.21074095368385315, 0.7586674094200134, 0.0841967910528183, 0.01683935895562172, 0.5725381970405579, 0.01683935895562172, 0.11787550896406174, 0.1683935821056366, 0.9764525890350342, 0.8645792007446289, 0.09975913912057877, 0.023502985015511513, 0.22327835857868195, 0.6345806121826172, 0.09401194006204605, 0.011751492507755756, 0.12471736967563629, 0.3672233819961548, 0.14550359547138214, 0.020786229521036148, 0.04850120097398758, 0.02771497145295143, 0.10393114387989044, 0.041572459042072296, 0.11085988581180573, 0.9518126249313354, 0.9574267268180847, 0.9021666049957275, 0.0474824532866478, 0.9665847420692444, 0.9445844292640686, 0.06186574324965477, 0.866120457649231, 0.9464471936225891, 0.8776508569717407, 0.07978644222021103, 0.9314494132995605, 0.12032115459442139, 0.2699096202850342, 0.13007692992687225, 0.03251923248171806, 0.03251923248171806, 0.19511538743972778, 0.06503846496343613, 0.009755769744515419, 0.04552692174911499, 0.039023078978061676, 0.0520307682454586, 0.006503846030682325, 0.8808501362800598, 0.9493234157562256, 0.36876314878463745, 0.3538132905960083, 0.07973257452249527, 0.03488299995660782, 0.024916429072618484, 0.12956543266773224, 0.937196671962738, 0.06358015537261963, 0.2384255826473236, 0.6358015537261963, 0.04768511652946472, 0.03458458557724953, 0.812737762928009, 0.06916917115449905, 0.03458458557724953, 0.05187688022851944, 0.5774631500244141, 0.0993993952870369, 0.09466609358787537, 0.08519948273897171, 0.04733304679393768, 0.08993278443813324, 0.02061724103987217, 0.10115334391593933, 0.012241487391293049, 0.06378459185361862, 0.05154310539364815, 0.03736875206232071, 0.03414730727672577, 0.03736875206232071, 0.02383868582546711, 0.010952909477055073, 0.08182467520236969, 0.03350301831960678, 0.02319439686834812, 0.0270601287484169, 0.06314030289649963, 0.025127263739705086, 0.00579859921708703, 0.07860323041677475, 0.02319439686834812, 0.01159719843417406, 0.022550107911229134, 0.01675150915980339, 0.025771552696824074, 0.012241487391293049, 0.05540883541107178, 0.03672446310520172, 0.02383868582546711, 0.0270601287484169, 0.012885776348412037, 0.9099118113517761, 0.9385083317756653, 0.9163668751716614, 0.01345406286418438, 0.11211718618869781, 0.35429030656814575, 0.08520906418561935, 0.058300938457250595, 0.07175499945878983, 0.0762396901845932, 0.05381625145673752, 0.031392812728881836, 0.12557125091552734, 0.01345406286418438, 0.9640945196151733, 0.9683923125267029, 0.9127151370048523, 0.058393578976392746, 0.790967583656311, 0.0796276107430458, 0.06901059299707413, 0.136222243309021, 0.8173335194587708, 0.02724445052444935, 0.9587624073028564, 0.028457965701818466, 0.19920575618743896, 0.04742994159460068, 0.04742994159460068, 0.09485988318920135, 0.3604675531387329, 0.04742994159460068, 0.12331785261631012, 0.03794395551085472, 0.05801985412836075, 0.08702978491783142, 0.04351489245891571, 0.029009927064180374, 0.5947034955024719, 0.10153474658727646, 0.029009927064180374, 0.04351489245891571, 0.9668012857437134, 0.08431339263916016, 0.22051194310188293, 0.022699758410453796, 0.4929090440273285, 0.05837081000208855, 0.05188516154885292, 0.06161363050341606, 0.2089623659849167, 0.6217904686927795, 0.08154629170894623, 0.08664292842149734, 0.019978007301688194, 0.3340073227882385, 0.026845447719097137, 0.004994501825422049, 0.14171898365020752, 0.013110566884279251, 0.04994501918554306, 0.022475257515907288, 0.03995601460337639, 0.018105069175362587, 0.014359192922711372, 0.00811606552451849, 0.038707390427589417, 0.019978007301688194, 0.07429321110248566, 0.07366890460252762, 0.012486254796385765, 0.011237628757953644, 0.07616615295410156, 0.24024951457977295, 0.007877033203840256, 0.2638806104660034, 0.16935621201992035, 0.161479189991951, 0.047262199223041534, 0.09846291691064835, 0.007877033203840256, 0.0807812288403511, 0.1615624576807022, 0.0807812288403511, 0.011540175415575504, 0.04616070166230202, 0.011540175415575504, 0.5885489583015442, 0.07742906361818314, 0.5884609222412109, 0.30971625447273254, 0.9491864442825317, 0.9092340469360352, 0.9327837824821472, 0.1235809326171875, 0.25402748584747314, 0.03432803601026535, 0.08925289660692215, 0.49432373046875, 0.9444081783294678, 0.9847074747085571, 0.04905504733324051, 0.9443097114562988, 0.10447286069393158, 0.8531950116157532, 0.03482428565621376, 0.9527256488800049, 0.6031190752983093, 0.03769494220614433, 0.2638646066188812, 0.08481362462043762, 0.01638689823448658, 0.03277379646897316, 0.6145086884498596, 0.18025588989257812, 0.14748208224773407, 0.00819344911724329, 0.9657415151596069, 0.495166152715683, 0.020210864022374153, 0.05052715912461281, 0.040421728044748306, 0.16168691217899323, 0.035369012504816055, 0.08084345608949661, 0.10610703378915787, 0.005052716005593538, 0.754948079586029, 0.23592127859592438, 0.9325864911079407, 0.029143327847123146, 0.9649585485458374, 0.957168459892273, 0.9498418569564819, 0.0622992217540741, 0.2491968870162964, 0.03114961087703705, 0.6541418433189392, 0.07771536707878113, 0.060445286333560944, 0.7167083621025085, 0.09498544782400131, 0.04317520186305046, 0.018846409395337105, 0.010470227338373661, 0.004188091028481722, 0.20940454304218292, 0.0607273168861866, 0.05025709047913551, 0.09004395455121994, 0.05235113576054573, 0.06282136589288712, 0.11307845264673233, 0.05444518104195595, 0.11098440736532211, 0.04606899991631508, 0.08166777342557907, 0.004188091028481722, 0.02931663580238819, 0.9222607612609863, 0.9205259084701538, 0.9698168635368347, 0.948683500289917, 0.43967199325561523, 0.545799732208252, 0.938546359539032, 0.02790617011487484, 0.9488097429275513, 0.23124271631240845, 0.12140242755413055, 0.005781068000942469, 0.023124272003769875, 0.1098402887582779, 0.09827814996242523, 0.04046747460961342, 0.30639660358428955, 0.06359174847602844, 0.9229738712310791, 0.8818231821060181, 0.0839831605553627, 0.9783406853675842, 0.9556427597999573, 0.025828182697296143, 0.9448764324188232, 0.03149588033556938, 0.9504733085632324, 0.9618973731994629, 0.9728899598121643, 0.2178930938243866, 0.19225861132144928, 0.4101516902446747, 0.17944136261940002, 0.9171516299247742, 0.9080864191055298, 0.06644535064697266, 0.02214844897389412, 0.9267871975898743, 0.04029509797692299, 0.20659999549388885, 0.7747499942779541, 0.9456920027732849, 0.9096282720565796, 0.6264955401420593, 0.06075108423829079, 0.007593885529786348, 0.09872051328420639, 0.14428383111953735, 0.007593885529786348, 0.049360256642103195, 0.9022112488746643, 0.04450954496860504, 0.3115668296813965, 0.02225477248430252, 0.13352863490581512, 0.4673502445220947, 0.023454340174794197, 0.8756287097930908, 0.09381736069917679, 0.151826411485672, 0.8383458256721497, 0.3381660282611847, 0.020189017057418823, 0.6258594989776611, 0.015141761861741543, 0.9893674254417419, 0.24129244685173035, 0.015567254275083542, 0.07783626765012741, 0.6149065494537354, 0.046701762825250626, 0.9092340469360352, 0.9331426620483398, 0.381622314453125, 0.014400841668248177, 0.06480378657579422, 0.3168185353279114, 0.01080063171684742, 0.06120358034968376, 0.07200421392917633, 0.05400315672159195, 0.018001053482294083, 0.003600210417062044, 0.039687007665634155, 0.007937401533126831, 0.047624412924051285, 0.010583202354609966, 0.047624412924051285, 0.11244652420282364, 0.019843503832817078, 0.037041209638118744, 0.037041209638118744, 0.1574251353740692, 0.037041209638118744, 0.10054042190313339, 0.0039687007665634155, 0.021166404709219933, 0.031749606132507324, 0.0754053145647049, 0.0754053145647049, 0.044978611171245575, 0.09128012508153915, 0.8610108494758606, 0.08785825222730637, 0.035143300890922546, 0.017571650445461273, 0.9110310077667236, 0.9670211672782898, 0.967581570148468, 0.15673667192459106, 0.008707593195140362, 0.08272213488817215, 0.6487156748771667, 0.06530694663524628, 0.008707593195140362, 0.021768981590867043, 0.004353796597570181, 0.9304332733154297, 0.035139646381139755, 0.9136308431625366, 0.04142969474196434, 0.9114532470703125, 0.0390855111181736, 0.045599762350320816, 0.013028504326939583, 0.33874109387397766, 0.03257125988602638, 0.5276544094085693, 0.9615511298179626, 0.2907155752182007, 0.01540214940905571, 0.10203924030065536, 0.053907524794340134, 0.08856236189603806, 0.02887902967631817, 0.06353386491537094, 0.01732741855084896, 0.06160859763622284, 0.019252687692642212, 0.1501709520816803, 0.0038505373522639275, 0.0019252686761319637, 0.05968333035707474, 0.009626343846321106, 0.03272956609725952, 0.31295138597488403, 0.1203659176826477, 0.02407318353652954, 0.04814636707305908, 0.034906115382909775, 0.007221954874694347, 0.09629273414611816, 0.021665863692760468, 0.026480501517653465, 0.027684159576892853, 0.15166105329990387, 0.03129513934254646, 0.09027443826198578, 0.007221954874694347, 0.9552525877952576, 0.28318387269973755, 0.04968138039112091, 0.04968138039112091, 0.024840690195560455, 0.04968138039112091, 0.0347769670188427, 0.05464951694011688, 0.024840690195560455, 0.029808828607201576, 0.20369365811347961, 0.029808828607201576, 0.08445834368467331, 0.07949020713567734, 0.004968137945979834, 0.5055128931999207, 0.009059370495378971, 0.08334621042013168, 0.02174248918890953, 0.010871244594454765, 0.05435622110962868, 0.02536623738706112, 0.2645336091518402, 0.02536623738706112, 0.00896354578435421, 0.12548963725566864, 0.7350107431411743, 0.12548963725566864, 0.9765310883522034, 0.9287286400794983, 0.030957620590925217, 0.9508377909660339, 0.010683570988476276, 0.032050713896751404, 0.9622742533683777, 0.9137572050094604, 0.9511291980743408, 0.6934767961502075, 0.009185123257339, 0.073480986058712, 0.032147929072380066, 0.05051817744970322, 0.04592561349272728, 0.09185122698545456, 0.9799804091453552, 0.9012247323989868, 0.19899989664554596, 0.716399610042572, 0.07959996163845062, 0.9046602249145508, 0.002521229675039649, 0.2722927927970886, 0.04538213089108467, 0.27985647320747375, 0.1361463963985443, 0.0176486074924469, 0.24455927312374115, 0.8946248888969421, 0.22068126499652863, 0.7172141075134277, 0.09449687600135803, 0.8504719138145447, 0.9699209928512573, 0.9229738712310791, 0.9275068044662476, 0.05097855627536774, 0.2913060486316681, 0.6554386019706726, 0.97088223695755, 0.9314901828765869, 0.9549311995506287, 0.9443979859352112, 0.09356322884559631, 0.8888506889343262, 0.035228073596954346, 0.07045614719390869, 0.8807018399238586, 0.0359671413898468, 0.064740851521492, 0.014386855997145176, 0.23018969595432281, 0.1438685655593872, 0.028773711994290352, 0.02158028446137905, 0.028773711994290352, 0.1007079929113388, 0.3237042725086212, 0.952375590801239, 0.9196862578392029, 0.966816782951355, 0.8668085932731628, 0.061914898455142975, 0.008800914511084557, 0.048405032604932785, 0.061606403440237045, 0.0374038890004158, 0.05280549079179764, 0.024202516302466393, 0.01320137269794941, 0.05720594897866249, 0.2926304340362549, 0.035203658044338226, 0.0374038890004158, 0.035203658044338226, 0.12981349229812622, 0.09681006520986557, 0.0660068616271019, 0.9027653336524963, 0.9045606851577759, 0.9087886214256287, 0.026018749922513962, 0.008672916330397129, 0.7111791372299194, 0.026018749922513962, 0.06071041524410248, 0.16478541493415833, 0.02869604341685772, 0.3779478669166565, 0.00979864876717329, 0.08678802847862244, 0.014697972685098648, 0.034995175898075104, 0.025896428152918816, 0.05319266393780708, 0.06579092890024185, 0.041994210332632065, 0.0006999034667387605, 0.058091990649700165, 0.05949179455637932, 0.05949179455637932, 0.01329816598445177, 0.0041994210332632065, 0.003499517450109124, 0.003499517450109124, 0.018897393718361855, 0.013998069800436497, 0.016797684133052826, 0.009098744951188564, 0.056654881685972214, 0.9064781069755554, 0.9559069275856018, 0.09787232428789139, 0.02796352095901966, 0.6291792392730713, 0.2237081676721573, 0.0871250107884407, 0.47047504782676697, 0.10455001145601273, 0.06970001012086868, 0.09583751112222672, 0.0784125104546547, 0.0871250107884407, 0.05275816470384598, 0.02637908235192299, 0.606718897819519, 0.19784311950206757, 0.09232679009437561, 0.13535000383853912, 0.1579083353281021, 0.6993083953857422, 0.9517292976379395, 0.16948628425598145, 0.009969781152904034, 0.1196373775601387, 0.4885192811489105, 0.19939562678337097, 0.9522418975830078, 0.8916124105453491, 0.10699348896741867, 0.934638261795044, 0.04673191159963608, 0.9464427828788757, 0.9670875072479248, 0.014488202519714832, 0.014488202519714832, 0.8762224912643433, 0.05714494735002518, 0.038096629083156586, 0.9110047221183777, 0.9118272066116333, 0.9881636500358582, 0.9373647570610046, 0.9257649779319763, 0.9661499857902527, 0.050685472786426544, 0.050685472786426544, 0.8785482048988342, 0.01689515821635723, 0.9440901875495911, 0.9550027251243591, 0.018119124695658684, 0.018119124695658684, 0.1087147518992424, 0.23554861545562744, 0.5979311466217041, 0.9353015422821045, 0.11860311776399612, 0.800571084022522, 0.08895234018564224, 0.058747563511133194, 0.8812134861946106, 0.9305481910705566, 0.15326489508152008, 0.006386037450283766, 0.051088299602270126, 0.03193018585443497, 0.4661807417869568, 0.17242300510406494, 0.012772074900567532, 0.0957905575633049, 0.9478411674499512, 0.912714958190918, 0.9588621854782104, 0.9531523585319519, 0.8901550769805908, 0.9832313656806946, 0.07526963949203491, 0.827966034412384, 0.01586737670004368, 0.30148017406463623, 0.4839549958705902, 0.03173475340008736, 0.10313794761896133, 0.05553581938147545, 0.9108943939208984, 0.01091768592596054, 0.04367074370384216, 0.10917685180902481, 0.06550611555576324, 0.02183537185192108, 0.5458842515945435, 0.06550611555576324, 0.1310122311115265, 0.9630379676818848, 0.9521990418434143, 0.1463228017091751, 0.09406466037034988, 0.5957428812980652, 0.13587117195129395, 0.02090325765311718, 0.9256117343902588, 0.026361696422100067, 0.9226593375205994, 0.026361696422100067, 0.07165532559156418, 0.023885106667876244, 0.09554042667150497, 0.7643234133720398, 0.03582766279578209, 0.9544972777366638, 0.93873530626297, 0.14958328008651733, 0.09972218424081802, 0.7229858636856079, 0.06548131257295609, 0.8512570261955261, 0.1718912422657013, 0.7121208906173706, 0.11050151288509369, 0.9316533803939819, 0.9113293290138245, 0.2359800636768341, 0.019665004685521126, 0.629280149936676, 0.09832502901554108, 0.4133428633213043, 0.13972152769565582, 0.17465192079544067, 0.26779961585998535, 0.7260302305221558, 0.2656208276748657, 0.9497844576835632, 0.054640840739011765, 0.10586663335561752, 0.054640840739011765, 0.04098062962293625, 0.0068301050923764706, 0.321014940738678, 0.010245157405734062, 0.06147094815969467, 0.321014940738678, 0.023905368521809578, 0.9260343909263611, 0.9857759475708008, 0.9783313274383545, 0.9866364598274231, 0.07546645402908325, 0.8678642511367798, 0.037733227014541626, 0.9312521815299988, 0.03801029548048973, 0.991107702255249, 0.91996169090271, 0.9616729021072388, 0.830009400844574, 0.14821596443653107, 0.9315662384033203, 0.952313244342804, 0.9064043164253235, 0.9699203372001648, 0.08089184015989304, 0.12772396206855774, 0.18307100236415863, 0.03831718489527702, 0.06811944395303726, 0.021287325769662857, 0.06386198103427887, 0.0510895811021328, 0.07237690687179565, 0.23416058719158173, 0.0510895811021328, 0.9096282720565796, 0.8677607774734497, 0.05785071849822998, 0.03850269317626953, 0.956150233745575, 0.8166295886039734, 0.03550563380122185, 0.13018733263015747, 0.9900776743888855, 0.0027007160242646933, 0.059415750205516815, 0.07562004774808884, 0.029707875102758408, 0.04321145638823509, 0.04591217264533043, 0.22415941953659058, 0.11883150041103363, 0.01890501193702221, 0.016204295679926872, 0.19445155560970306, 0.029707875102758408, 0.07832076400518417, 0.06481718271970749, 0.9369581341743469, 0.07447189092636108, 0.893662691116333, 0.9655279517173767, 0.036072760820388794, 0.28858208656311035, 0.08416977524757385, 0.11543283611536026, 0.11302798241376877, 0.0336679108440876, 0.043287310749292374, 0.07695522159337997, 0.03847761079668999, 0.1683395504951477, 0.9256516695022583, 0.042893726378679276, 0.02859581634402275, 0.915066123008728, 0.9792458415031433, 0.9730687141418457, 0.6269397139549255, 0.1200522780418396, 0.2401045560836792, 0.35519248247146606, 0.24567478895187378, 0.04143911972641945, 0.05327887088060379, 0.07991830259561539, 0.03255930915474892, 0.0562388077378273, 0.03551924601197243, 0.09767793118953705, 0.1247202455997467, 0.8641331195831299, 0.06975768506526947, 0.8370922207832336, 0.8788489699363708, 0.3719238340854645, 0.01788095384836197, 0.03933810070157051, 0.01788095384836197, 0.2038428783416748, 0.2181476354598999, 0.06437143683433533, 0.00357619090937078, 0.060795243829488754, 0.9663488268852234, 0.8833115100860596, 0.2101399004459381, 0.7004663348197937, 0.07004663348197937, 0.10842641443014145, 0.04065990447998047, 0.13553301990032196, 0.03388325497508049, 0.6166751980781555, 0.0609898567199707, 0.9063891768455505, 0.037766214460134506, 0.037766214460134506, 0.9957756996154785, 0.7241091132164001, 0.24136969447135925, 0.01609131321310997, 0.926831841468811, 0.9280358552932739, 0.034371696412563324, 0.9912532567977905, 0.9404461979866028, 0.09814084321260452, 0.10795492678880692, 0.03925633803009987, 0.058884505182504654, 0.1373971700668335, 0.04907042160630226, 0.500518262386322, 0.9558735489845276, 0.9858930110931396, 0.9139662981033325, 0.24008406698703766, 0.017148861661553383, 0.2572329342365265, 0.44587039947509766, 0.9198917150497437, 0.03924359008669853, 0.8241153955459595, 0.07848718017339706, 0.0680263340473175, 0.6689256429672241, 0.23809218406677246, 0.011337722651660442, 0.17885741591453552, 0.5142150521278381, 0.11625731736421585, 0.026828613132238388, 0.008942870423197746, 0.02235717698931694, 0.031300049275159836, 0.1028430163860321, 0.9598294496536255, 0.9163668751716614, 0.9460929036140442, 0.9545686841011047, 0.9127151370048523, 0.9523051381111145, 0.9626594185829163, 0.9282196164131165, 0.9734365344047546, 0.9457886219024658, 0.031123289838433266, 0.9336987137794495, 0.9668011665344238, 0.9381964802742004, 0.9427318572998047, 0.06793138384819031, 0.022643793374300003, 0.09812310338020325, 0.03773965686559677, 0.5660948157310486, 0.12076690047979355, 0.08302724361419678, 0.06587153673171997, 0.8892657160758972, 0.04930446296930313, 0.7254799604415894, 0.021130483597517014, 0.06339145451784134, 0.04226096719503403, 0.056347958743572235, 0.028173979371786118, 0.007043494842946529, 0.38207125663757324, 0.138654887676239, 0.06470561772584915, 0.08011171966791153, 0.030812198296189308, 0.120167575776577, 0.10168025642633438, 0.08011171966791153, 0.9387711882591248, 0.9369581341743469, 0.9671975374221802, 0.9216979146003723, 0.9445656538009644, 0.05541837215423584, 0.05541837215423584, 0.8312755823135376, 0.8658036589622498, 0.9490346312522888, 0.9593627452850342, 0.22411435842514038, 0.06955273449420929, 0.03864040598273277, 0.10819313675165176, 0.030912324786186218, 0.14683353900909424, 0.0077280811965465546, 0.3709478974342346, 0.9550461769104004, 0.9027653336524963, 0.9137572050094604, 0.17324033379554749, 0.019989268854260445, 0.4131115674972534, 0.019989268854260445, 0.006663090083748102, 0.17324033379554749, 0.05330472066998482, 0.10660944133996964, 0.019989268854260445, 0.35291528701782227, 0.49408140778541565, 0.04285399988293648, 0.06806223094463348, 0.012604117393493652, 0.025208234786987305, 0.9474561214447021, 0.026318226009607315, 0.025257069617509842, 0.15515057742595673, 0.14071796834468842, 0.046905986964702606, 0.046905986964702606, 0.046905986964702606, 0.16236688196659088, 0.3175174593925476, 0.021648917347192764, 0.03968968242406845, 0.3489231467247009, 0.09841422736644745, 0.00894674751907587, 0.014911246486008167, 0.14911246299743652, 0.03280474245548248, 0.0029822492506355047, 0.05666273459792137, 0.05368048697710037, 0.029822492972016335, 0.047715988010168076, 0.06560948491096497, 0.08648522943258286, 0.05842345580458641, 0.8763518333435059, 0.5318540930747986, 0.033473335206508636, 0.022315556183457375, 0.011157778091728687, 0.03719259425997734, 0.052069634199142456, 0.10413926839828491, 0.05578889325261116, 0.033473335206508636, 0.05578889325261116, 0.05578889325261116, 0.9383770823478699, 0.7508285641670227, 0.005480500403791666, 0.054805003106594086, 0.060285504907369614, 0.12057100981473923, 0.9127150774002075, 0.013750783167779446, 0.3666875660419464, 0.1145898625254631, 0.02750156633555889, 0.004583594389259815, 0.06417032331228256, 0.13292424380779266, 0.0687539204955101, 0.03208516165614128, 0.06417032331228256, 0.07792110741138458, 0.03208516165614128, 0.028546391054987907, 0.03262444585561752, 0.00407805573195219, 0.2691516876220703, 0.012234167195856571, 0.04078055918216705, 0.2242930680513382, 0.01631222292780876, 0.020390279591083527, 0.15496611595153809, 0.07340500503778458, 0.00815611146390438, 0.057092782109975815, 0.04485861212015152, 0.9091357588768005, 0.05210822448134422, 0.8858398199081421, 0.976827085018158, 0.9006547927856445, 0.052322253584861755, 0.13952600955963135, 0.06976300477981567, 0.5406633019447327, 0.17440751194953918, 0.9560349583625793, 0.09054035693407059, 0.03018012084066868, 0.06539025902748108, 0.07545030117034912, 0.658932626247406, 0.07545030117034912, 0.9893872141838074, 0.9742741584777832, 0.9645326733589172, 0.9283456206321716, 0.1546667218208313, 0.003772358875721693, 0.05658538267016411, 0.05658538267016411, 0.16598379611968994, 0.003772358875721693, 0.08299189805984497, 0.018861794844269753, 0.052813027054071426, 0.3093334436416626, 0.08676425367593765, 0.011317077092826366, 0.10547522455453873, 0.022601833567023277, 0.10547522455453873, 0.12054311484098434, 0.6403853297233582, 0.9253630042076111, 0.6739816665649414, 0.16338948905467987, 0.14296580851078033, 0.9074528813362122, 0.06481806188821793, 0.9040449261665344, 0.6667812466621399, 0.012580778449773788, 0.030553318560123444, 0.034147828817367554, 0.01617528684437275, 0.005391762126237154, 0.0323505736887455, 0.010783524252474308, 0.11861877143383026, 0.02336430363357067, 0.021567048504948616, 0.0017972540808841586, 0.025161556899547577, 0.22648166120052338, 0.764375627040863, 0.8633261919021606, 0.12046412378549576, 0.2228403389453888, 0.2883816063404083, 0.003277063835412264, 0.22611740231513977, 0.06554127484560013, 0.09831191599369049, 0.049155957996845245, 0.04587889462709427, 0.2622274160385132, 0.09615005552768707, 0.061186399310827255, 0.11363188177347183, 0.4632684588432312, 0.8203920125961304, 0.09115467220544815, 0.020256593823432922, 0.06076978147029877, 0.04119059816002846, 0.12357179820537567, 0.1853576898574829, 0.48742207884788513, 0.10984160006046295, 0.04805569723248482, 0.943998396396637, 0.04017014428973198, 0.06970840692520142, 0.836500883102417, 0.8057097792625427, 0.10071372240781784, 0.06714247912168503, 0.9594560265541077, 0.7669894695281982, 0.16504837572574615, 0.05825236812233925, 0.003762382548302412, 0.19282209873199463, 0.025396082550287247, 0.028217868879437447, 0.7073279023170471, 0.012227742932736874, 0.028217868879437447, 0.000940595637075603, 0.56798255443573, 0.06310917437076569, 0.01577729359269142, 0.33132314682006836, 0.8773602843284607, 0.3386128842830658, 0.6433644890785217, 0.9224878549575806, 0.12186897546052933, 0.8530828356742859, 0.028960229828953743, 0.03658134117722511, 0.0563962385058403, 0.2835054099559784, 0.012193781323730946, 0.007621113210916519, 0.0030484453309327364, 0.038105566054582596, 0.021339116618037224, 0.11126825213432312, 0.025911783799529076, 0.030484452843666077, 0.02743600681424141, 0.06096890568733215, 0.03505712002515793, 0.07621113210916519, 0.010669558309018612, 0.08840490877628326, 0.02438756264746189, 0.02438756264746189, 0.04397789388895035, 0.04397789388895035, 0.8355799913406372, 0.027015184983611107, 0.020261388272047043, 0.12494522333145142, 0.25664424896240234, 0.05740726739168167, 0.010130694136023521, 0.10468383878469467, 0.13845281302928925, 0.03376898169517517, 0.013507592491805553, 0.11143763363361359, 0.09793004393577576, 0.07124457508325577, 0.01526669505983591, 0.03053339011967182, 0.13740025460720062, 0.5394232273101807, 0.09668906778097153, 0.01526669505983591, 0.0865112766623497, 0.010177796706557274, 0.9175710678100586, 0.04815838858485222, 0.06567052751779556, 0.13134105503559113, 0.0788046345114708, 0.07734528928995132, 0.08172332495450974, 0.05545511096715927, 0.0394023172557354, 0.018971486017107964, 0.020430831238627434, 0.08610136061906815, 0.06421118229627609, 0.014593450352549553, 0.024808866903185844, 0.032105591148138046, 0.0014593451051041484, 0.010215415619313717, 0.0539957694709301, 0.06421118229627609, 0.004378035198897123, 0.010215415619313717, 0.014593450352549553, 0.9501771926879883, 0.00235583633184433, 0.09658928960561752, 0.17904356122016907, 0.01177918165922165, 0.04476089030504227, 0.01884669065475464, 0.10365679860115051, 0.08009843528270721, 0.00942334532737732, 0.04476089030504227, 0.00471167266368866, 0.13192683458328247, 0.09894512593746185, 0.030625874176621437, 0.03298170864582062, 0.07774259895086288, 0.01649085432291031, 0.00942334532737732, 0.8083549737930298, 0.18861617147922516, 0.908513605594635, 0.9257634878158569, 0.8991997241973877, 0.05116245895624161, 0.04651132598519325, 0.01860453188419342, 0.02790679596364498, 0.39069515466690063, 0.14883625507354736, 0.004651132971048355, 0.05116245895624161, 0.004651132971048355, 0.06511586159467697, 0.023255662992596626, 0.15813851356506348, 0.17618224024772644, 0.6107650995254517, 0.16443675756454468, 0.04698193073272705, 0.9835002422332764, 0.07085179537534714, 0.08922077715396881, 0.11021390557289124, 0.20468296110630035, 0.036737967282533646, 0.010496562346816063, 0.167944997549057, 0.026241404935717583, 0.0393621064722538, 0.060355231165885925, 0.013120702467858791, 0.01574484258890152, 0.05773109197616577, 0.00787242129445076, 0.04723453149199486, 0.036737967282533646, 0.9098246097564697, 0.9627401828765869, 0.9429342150688171, 0.1987633854150772, 0.0313836932182312, 0.7636698484420776, 0.9007494449615479, 0.0783260390162468, 0.08296964317560196, 0.24890893697738647, 0.6430147290229797, 0.03268655762076378, 0.06285876780748367, 0.04022961109876633, 0.06537311524152756, 0.07794486731290817, 0.13074623048305511, 0.010057402774691582, 0.09805967658758163, 0.05028701201081276, 0.09805967658758163, 0.027657857164740562, 0.04022961109876633, 0.15086103975772858, 0.11314577609300613, 0.15370528399944305, 0.23055793344974518, 0.0076852645725011826, 0.14986266195774078, 0.19597424566745758, 0.08453790843486786, 0.0038426322862505913, 0.07685264199972153, 0.019213160499930382, 0.06532474607229233, 0.011527896858751774, 0.9595722556114197, 0.9096274375915527, 0.8447300791740417, 0.029128622263669968, 0.07282155752182007, 0.029128622263669968, 0.7065303325653076, 0.27571916580200195, 0.1389935314655304, 0.03538016974925995, 0.09603188931941986, 0.050543103367090225, 0.04043447971343994, 0.08592326939105988, 0.037907324731349945, 0.08845042437314987, 0.1415206789970398, 0.0707603394985199, 0.03538016974925995, 0.03538016974925995, 0.10614051669836044, 0.025271551683545113, 0.005054309964179993, 0.015162930823862553, 0.9493134021759033, 0.05658792704343796, 0.12934382259845734, 0.08083989471197128, 0.016167977824807167, 0.04850393533706665, 0.08488188683986664, 0.012125983834266663, 0.052545931190252304, 0.052545931190252304, 0.012125983834266663, 0.10509186238050461, 0.044461939483881, 0.052545931190252304, 0.1940157413482666, 0.052545931190252304, 0.08940773457288742, 0.3642537295818329, 0.11589891463518143, 0.22517502307891846, 0.059605155140161514, 0.04635956510901451, 0.08609633147716522, 0.009934192523360252, 0.01790042407810688, 0.1790042370557785, 0.7876186370849609, 0.16986586153507233, 0.2373468279838562, 0.1721927970647812, 0.12100034207105637, 0.07678867876529694, 0.03025008551776409, 0.016288507729768753, 0.041884735226631165, 0.027923155575990677, 0.037230875343084335, 0.06515403091907501, 0.007859873585402966, 0.03143949434161186, 0.058949053287506104, 0.06680892407894135, 0.3458344340324402, 0.011789810843765736, 0.055019114166498184, 0.20435671508312225, 0.12182804197072983, 0.09038854390382767, 0.011221511289477348, 0.16832268238067627, 0.03740504011511803, 0.003740503918379545, 0.17580369114875793, 0.07855058461427689, 0.04488604515790939, 0.07855058461427689, 0.011221511289477348, 0.05984806269407272, 0.18702518939971924, 0.06358856707811356, 0.07481008023023605, 0.4885270893573761, 0.500442385673523, 0.08268125355243683, 0.06201094016432762, 0.12402188032865524, 0.020670313388109207, 0.020670313388109207, 0.49608752131462097, 0.16536250710487366, 0.13426658511161804, 0.0604199655354023, 0.0033566646743565798, 0.013426658697426319, 0.10741326957941055, 0.2450365275144577, 0.11412660032510757, 0.053706634789705276, 0.06713329255580902, 0.06377663463354111, 0.020139988511800766, 0.053706634789705276, 0.0604199655354023, 0.967272162437439, 0.2844064235687256, 0.705937385559082, 0.010157371871173382, 0.8650283813476562, 0.8756846189498901, 0.11626380681991577, 0.7944693565368652, 0.07750920206308365, 0.972801685333252, 0.11535143107175827, 0.0044365935027599335, 0.09760505706071854, 0.0199646707624197, 0.06433060765266418, 0.024401264265179634, 0.0199646707624197, 0.0022182967513799667, 0.06433060765266418, 0.03549274802207947, 0.0931684598326683, 0.0798586830496788, 0.03327444940805435, 0.06211230903863907, 0.04214763641357422, 0.12200631946325302, 0.011091483756899834, 0.03549274802207947, 0.022182967513799667, 0.051020823419094086, 0.0526449978351593, 0.921287477016449, 0.9465773701667786, 0.03380633518099785, 0.0465465672314167, 0.0775776132941246, 0.015515522100031376, 0.85335373878479, 0.9679230451583862, 0.9256535768508911, 0.6359853148460388, 0.04399898275732994, 0.04799889028072357, 0.07599823921918869, 0.17599593102931976, 0.015999630093574524, 0.9762886166572571, 0.014357184991240501, 0.9462043642997742, 0.25288137793540955, 0.03612590953707695, 0.6863923072814941, 0.9522250294685364, 0.9711063504219055, 0.11202424764633179, 0.5945902466773987, 0.28436926007270813, 0.9357454180717468, 0.9226086735725403, 0.8766546249389648, 0.081549271941185, 0.02038731798529625, 0.9212227463722229, 0.9127151370048523, 0.1564510315656662, 0.11175073683261871, 0.08381304889917374, 0.6146290302276611, 0.02793768420815468, 0.9718875288963318, 0.9699203372001648, 0.11941292881965637, 0.8756948113441467, 0.10955698788166046, 0.701164722442627, 0.06573419272899628, 0.021911397576332092, 0.010955698788166046, 0.05477849394083023, 0.021911397576332092, 0.24944224953651428, 0.023144127801060677, 0.061717670410871506, 0.06686080992221832, 0.17486673593521118, 0.11057749390602112, 0.07714708894491196, 0.025715695694088936, 0.04885982349514961, 0.007714708801358938, 0.1054343581199646, 0.005143139511346817, 0.03857354447245598, 0.13246114552021027, 0.09461510926485062, 0.11353812366724014, 0.06623057276010513, 0.09461510926485062, 0.45415249466896057, 0.028384530916810036, 0.009461510926485062, 0.981101393699646, 0.10759929567575455, 0.12553250789642334, 0.4124639630317688, 0.14346572756767273, 0.2151985913515091, 0.05013793334364891, 0.10798939317464828, 0.02314058318734169, 0.1465570330619812, 0.003856763942167163, 0.05399469658732414, 0.2082652598619461, 0.04242440313100815, 0.06556499004364014, 0.2545464336872101, 0.034710876643657684, 0.011570291593670845, 0.9551352858543396, 0.029232777655124664, 0.7892850041389465, 0.029232777655124664, 0.007308194413781166, 0.1315474957227707, 0.007308194413781166, 0.8894863724708557, 0.06307881325483322, 0.02703377790749073, 0.10362947732210159, 0.06307881325483322, 0.04055066779255867, 0.004505629651248455, 0.08110133558511734, 0.07659570127725601, 0.19824770092964172, 0.15319140255451202, 0.1802251785993576, 0.00901125930249691, 0.004505629651248455, 0.9667873978614807, 0.07373596727848053, 0.013950048014521599, 0.009964319877326488, 0.05779305845499039, 0.14946480095386505, 0.03587155416607857, 0.027900096029043198, 0.04384300857782364, 0.04982160031795502, 0.1315290331840515, 0.0059785922057926655, 0.10562179237604141, 0.06975024193525314, 0.04583587497472763, 0.06775737553834915, 0.001992864068597555, 0.013950048014521599, 0.011957184411585331, 0.04384300857782364, 0.033878687769174576, 0.002473573898896575, 0.05689220130443573, 0.0915222316980362, 0.05194505304098129, 0.00494714779779315, 0.05441862717270851, 0.13604655861854553, 0.06183934584259987, 0.08657508343458176, 0.1063636764883995, 0.0915222316980362, 0.046997904777526855, 0.014841443859040737, 0.05441862717270851, 0.01731501705944538, 0.05936577543616295, 0.04452433064579964, 0.002473573898896575, 0.012367869727313519, 0.14402057230472565, 0.19202743470668793, 0.038405485451221466, 0.07681097090244293, 0.0288041140884161, 0.06720960140228271, 0.13441920280456543, 0.019202742725610733, 0.2976425290107727, 0.9487041234970093, 0.9027653336524963, 0.2589709162712097, 0.07616791874170303, 0.0660121962428093, 0.04062288999557495, 0.3300609886646271, 0.03554502874612808, 0.09140150249004364, 0.025389306247234344, 0.06093433499336243, 0.015233583748340607, 0.4301752746105194, 0.5623005628585815, 0.006145361345261335, 0.8819898366928101, 0.011632365174591541, 0.011632365174591541, 0.046529460698366165, 0.15509819984436035, 0.019387274980545044, 0.015509819611907005, 0.10856874287128448, 0.0038774549029767513, 0.22876983880996704, 0.0697941929101944, 0.015509819611907005, 0.05816182494163513, 0.25203457474708557, 0.2534199655056, 0.6969048976898193, 0.0316774956882, 0.9009461998939514, 0.9319525957107544, 0.047136832028627396, 0.28072601556777954, 0.07541892677545547, 0.0031424553599208593, 0.05551671236753464, 0.015712277963757515, 0.009427365846931934, 0.001047485158778727, 0.01361730694770813, 0.03247204050421715, 0.047136832028627396, 0.038756951689720154, 0.0534217432141304, 0.0031424553599208593, 0.038756951689720154, 0.10265354067087173, 0.04399437457323074, 0.03666197881102562, 0.02723461389541626, 0.0031424553599208593, 0.05865916609764099, 0.01152233686298132, 0.00238606845960021, 0.2147461622953415, 0.3618870675563812, 0.003181424690410495, 0.05965171381831169, 0.014316410757601261, 0.011930342763662338, 0.027837466448545456, 0.049312081187963486, 0.02545139752328396, 0.003181424690410495, 0.02545139752328396, 0.014316410757601261, 0.04135851934552193, 0.07158205658197403, 0.03658638522028923, 0.03738173842430115, 0.12777960300445557, 0.10222368687391281, 0.7411217093467712, 0.8646100163459778, 0.057640668004751205, 0.16780845820903778, 0.5937837958335876, 0.16780845820903778, 0.02581668645143509, 0.012908343225717545, 0.012908343225717545, 0.9277118444442749, 0.8649390339851379, 0.055802516639232635, 0.01195768266916275, 0.031887155026197433, 0.03587304800748825, 0.9575308561325073, 0.8991999626159668, 0.9558966755867004, 0.04744785651564598, 0.05535583198070526, 0.1976993978023529, 0.01581595279276371, 0.01581595279276371, 0.09489571303129196, 0.0395398810505867, 0.05535583198070526, 0.03163190558552742, 0.13443559408187866, 0.30050310492515564, 0.966530978679657, 0.9488199353218079, 0.8958970904350281, 0.08399035036563873, 0.9174517393112183, 0.9520343542098999, 0.9805987477302551, 0.8661418557167053, 0.18855510652065277, 0.12278006225824356, 0.06467878818511963, 0.01863626018166542, 0.11510631442070007, 0.005481252912431955, 0.0032887517008930445, 0.014251257292926311, 0.028502514585852623, 0.038368768990039825, 0.05262002721428871, 0.035080019384622574, 0.04385002329945564, 0.004385002423077822, 0.025213763117790222, 0.017540009692311287, 0.07016003876924515, 0.008770004846155643, 0.004385002423077822, 0.0010962506057694554, 0.13593506813049316, 0.2913634777069092, 0.10134381800889969, 0.10134381800889969, 0.5067191123962402, 0.07512551546096802, 0.8263806700706482, 0.9022104144096375, 0.10786394029855728, 0.8629115223884583, 0.9699205160140991, 0.9648950099945068, 0.9377374053001404, 0.9392637610435486, 0.9047099351882935, 0.9468265771865845, 0.00824218150228262, 0.09615878015756607, 0.08242180943489075, 0.01648436300456524, 0.04945308715105057, 0.11539053916931152, 0.030221330001950264, 0.05769526958465576, 0.07417962700128555, 0.03846351057291031, 0.04395829886198044, 0.08516920357942581, 0.05769526958465576, 0.1950649470090866, 0.01098957471549511, 0.03846351057291031, 0.010349484160542488, 0.007762113586068153, 0.02328634075820446, 0.04657268151640892, 0.015524227172136307, 0.11125695705413818, 0.025873711332678795, 0.06209690868854523, 0.11643169820308685, 0.17076650261878967, 0.21992655098438263, 0.03622319549322128, 0.0750337615609169, 0.06209690868854523, 0.020698968321084976, 0.8990913033485413, 0.08562774211168289, 0.9843674898147583, 0.019826151430606842, 0.9318291544914246, 0.039652302861213684, 0.9844480752944946, 0.974219560623169, 0.021361982449889183, 0.21361982822418213, 0.042723964899778366, 0.5981355309486389, 0.1281718909740448, 0.03607681766152382, 0.029205042868852615, 0.09964073449373245, 0.08417924493551254, 0.01889738067984581, 0.2027173638343811, 0.027487099170684814, 0.04294859245419502, 0.03779476135969162, 0.005153831094503403, 0.07730747014284134, 0.022333268076181412, 0.049820367246866226, 0.029205042868852615, 0.029205042868852615, 0.03779476135969162, 0.029205042868852615, 0.08074335753917694, 0.029205042868852615, 0.027487099170684814, 0.9257634878158569, 0.9314494132995605, 0.9472398161888123, 0.8857109546661377, 0.06326507031917572, 0.9516078233718872, 0.9847918748855591, 0.41118839383125305, 0.15860123932361603, 0.046992961317300797, 0.11160828173160553, 0.27020952105522156, 0.9618874192237854, 0.9253988265991211, 0.9581891298294067, 0.9313253164291382, 0.9739807844161987, 0.12822817265987396, 0.06217123940587044, 0.17097090184688568, 0.06217123940587044, 0.0233142152428627, 0.29919907450675964, 0.019428512081503868, 0.06217123940587044, 0.06217123940587044, 0.019428512081503868, 0.06605693697929382, 0.019428512081503868, 0.9669493436813354, 0.9098270535469055, 0.06739459186792374, 0.016848647966980934, 0.9633973836898804, 0.09959693998098373, 0.8631734251976013, 0.05457000806927681, 0.00779571570456028, 0.29623720049858093, 0.019489288330078125, 0.08575286716222763, 0.15981216728687286, 0.042876433581113815, 0.027285004034638405, 0.10134430229663849, 0.0779571533203125, 0.01559143140912056, 0.0779571533203125, 0.03118286281824112, 0.8951050639152527, 0.04711079224944115, 0.912714958190918, 0.9912521243095398, 0.8661495447158813, 0.030933912843465805, 0.06186782568693161, 0.9540079832077026, 0.9402639269828796, 0.07213433086872101, 0.019672999158501625, 0.679811418056488, 0.002185888821259141, 0.04371777921915054, 0.06557666510343552, 0.008743555285036564, 0.034974221140146255, 0.028416555374860764, 0.010929444804787636, 0.03278833255171776, 0.9045606851577759, 0.19375179708003998, 0.8026859760284424, 0.32346975803375244, 0.0736614316701889, 0.028824038803577423, 0.16333621740341187, 0.01281068380922079, 0.032026708126068115, 0.09287745505571365, 0.08967478573322296, 0.12810683250427246, 0.0384320504963398, 0.016013354063034058, 0.9229736924171448, 0.0877787321805954, 0.8777872920036316, 0.04340701177716255, 0.9115472435951233, 0.3410433530807495, 0.13951773941516876, 0.031003940850496292, 0.062007881700992584, 0.4185532033443451, 0.9137572050094604, 0.9045606851577759, 0.973659873008728, 0.9079161882400513, 0.04323410242795944, 0.9711000323295593, 0.06511297821998596, 0.03255648910999298, 0.7162427306175232, 0.06511297821998596, 0.043408650904893875, 0.06511297821998596, 0.9477918744087219, 0.03079168125987053, 0.12316672503948212, 0.8313754200935364, 0.10808147490024567, 0.005146736744791269, 0.16469557583332062, 0.07720105350017548, 0.07205431908369064, 0.03088042140007019, 0.18528252840042114, 0.2933639883995056, 0.03088042140007019, 0.02573368512094021, 0.017201997339725494, 0.7912918329238892, 0.13761597871780396, 0.03440399467945099, 0.6062539219856262, 0.025260578840970993, 0.3620682954788208, 0.9196990132331848, 0.05905603617429733, 0.10157638043165207, 0.042520344257354736, 0.2078772485256195, 0.05433155223727226, 0.1133875921368599, 0.03543362021446228, 0.0968519002199173, 0.014173449017107487, 0.014173449017107487, 0.037795864045619965, 0.08740293234586716, 0.033071380108594894, 0.02598465606570244, 0.002362241502851248, 0.04015810415148735, 0.03070913814008236, 0.0017812508158385754, 0.2983595132827759, 0.0071250032633543015, 0.13270318508148193, 0.03117188811302185, 0.02493751049041748, 0.06145315244793892, 0.004453126806765795, 0.00979687925428152, 0.0017812508158385754, 0.01246875524520874, 0.07035940885543823, 0.002671876223757863, 0.06590627878904343, 0.014250006526708603, 0.021375009790062904, 0.00623437762260437, 0.04898439720273018, 0.047203145921230316, 0.021375009790062904, 0.014250006526708603, 0.04364064335823059, 0.022265635430812836, 0.027609387412667274, 0.0071250032633543015, 0.7083183526992798, 0.02507321536540985, 0.006268303841352463, 0.006268303841352463, 0.24446384608745575, 0.9738547205924988, 0.8061285614967346, 0.1567472219467163, 0.7837178111076355, 0.19949179887771606, 0.15019240975379944, 0.13252270221710205, 0.4019855558872223, 0.07067877799272537, 0.01325227040797472, 0.04859165847301483, 0.004417423624545336, 0.004417423624545336, 0.09718331694602966, 0.017669694498181343, 0.05742650851607323, 0.02730521559715271, 0.08191564679145813, 0.791851282119751, 0.05461043119430542, 0.8976370692253113, 0.064116932451725, 0.9556370973587036, 0.01985558122396469, 0.9530678987503052, 0.03259489685297012, 0.09235220402479172, 0.06518979370594025, 0.09235220402479172, 0.010864965617656708, 0.04345986247062683, 0.07605475932359695, 0.07605475932359695, 0.09235220402479172, 0.3531113862991333, 0.021729931235313416, 0.03802737966179848, 0.9800783395767212, 0.9742743968963623, 0.9708823561668396, 0.9132745265960693, 0.1107240691781044, 0.8857925534248352, 0.9782760739326477, 0.04764881357550621, 0.09529762715101242, 0.6432589888572693, 0.19059525430202484, 0.09950096905231476, 0.8291746973991394, 0.03316698968410492, 0.9848102927207947, 0.8921748399734497, 0.18241842091083527, 0.4218426048755646, 0.0798080563545227, 0.3078310787677765, 0.09256032109260559, 0.03085343912243843, 0.8330428600311279, 0.937471330165863, 0.9892648458480835, 0.9533030390739441, 0.9700191020965576, 0.9203637838363647, 0.9251368641853333, 0.9163668751716614, 0.05548320338129997, 0.060106802731752396, 0.1849440038204193, 0.6935400366783142, 0.9333421587944031, 0.05600052699446678, 0.9072837829589844, 0.28821641206741333, 0.2081563025712967, 0.4963727295398712, 0.12276134639978409, 0.061380673199892044, 0.17298190295696259, 0.12276134639978409, 0.13392147421836853, 0.38502421975135803, 0.04943747818470001, 0.8898745775222778, 0.057788051664829254, 0.8668208122253418, 0.07955628633499146, 0.4494929909706116, 0.02187797799706459, 0.02187797799706459, 0.019889071583747864, 0.047733768820762634, 0.06961175054311752, 0.035800326615571976, 0.10342317074537277, 0.0974564477801323, 0.01392234954982996, 0.011933442205190659, 0.011933442205190659, 0.01392234954982996, 0.8989639282226562, 0.04385190084576607, 0.04385190084576607, 0.9230504035949707, 0.9459872841835022, 0.9170874357223511, 0.05731796473264694, 0.05968676134943962, 0.2444314956665039, 0.23874704539775848, 0.07674012333154678, 0.06537121534347534, 0.031264495104551315, 0.2415892630815506, 0.034106720238924026, 0.0056844535283744335, 0.32696783542633057, 0.6539356708526611, 0.055972013622522354, 0.8955522179603577, 0.027986006811261177, 0.9846592545509338, 0.06352242082357407, 0.1693931370973587, 0.10587070882320404, 0.656398355960846, 0.06064470857381821, 0.012128941714763641, 0.9217995405197144, 0.008847668766975403, 0.05308601260185242, 0.03539067506790161, 0.15925803780555725, 0.3539067506790161, 0.38044974207878113, 0.9388669729232788, 0.0024780123494565487, 0.0024780123494565487, 0.042126208543777466, 0.03221416100859642, 0.20815302431583405, 0.03964819759130478, 0.05699428170919418, 0.07681837677955627, 0.1263786256313324, 0.007434036582708359, 0.024780122563242912, 0.03221416100859642, 0.06442832201719284, 0.08177440613508224, 0.04708223417401314, 0.05203825607895851, 0.10407651215791702, 0.09915360808372498, 0.23796866834163666, 0.6544138193130493, 0.9668011665344238, 0.8198158740997314, 0.14905743300914764, 0.9636367559432983, 0.17303243279457092, 0.07182478159666061, 0.11753146350383759, 0.03264762833714485, 0.05223620682954788, 0.03264762833714485, 0.01958857662975788, 0.15017908811569214, 0.05550096929073334, 0.05223620682954788, 0.04897144064307213, 0.01958857662975788, 0.16323813796043396, 0.01305905170738697, 0.9517292976379395, 0.9414619207382202, 0.25334450602531433, 0.7238414883613586, 0.4042459726333618, 0.115498848259449, 0.3547464609146118, 0.10724892467260361, 0.910172164440155, 0.0775301530957222, 0.01107573602348566, 0.01107573602348566, 0.025843383744359016, 0.06645441800355911, 0.04430294409394264, 0.5464029908180237, 0.06276250630617142, 0.1513683944940567, 0.9737210869789124, 0.11193098872900009, 0.0012166412780061364, 0.05474885553121567, 0.04136580228805542, 0.05961541831493378, 0.09611465781927109, 0.026766106486320496, 0.0036499237176030874, 0.11071435362100601, 0.06569862365722656, 0.023116182535886765, 0.04014915972948074, 0.03771587833762169, 0.021899541839957237, 0.009733130224049091, 0.14478030800819397, 0.01459969487041235, 0.1058477833867073, 0.030416030436754227, 0.15219110250473022, 0.8218319416046143, 0.023849671706557274, 0.42929407954216003, 0.04769934341311455, 0.21464703977108002, 0.25042155385017395, 0.023849671706557274, 0.9392637610435486, 0.16842317581176758, 0.14436271786689758, 0.15238288044929504, 0.04812090843915939, 0.3448665142059326, 0.10426196455955505, 0.01604030281305313, 0.01604030281305313, 0.02676266059279442, 0.9366930723190308, 0.9096271991729736, 0.006915525533258915, 0.006915525533258915, 0.1037328839302063, 0.04840867966413498, 0.11064840853214264, 0.006915525533258915, 0.09681735932826996, 0.08990182727575302, 0.04149315133690834, 0.069155253469944, 0.40801599621772766, 0.8792492151260376, 0.4282364249229431, 0.027334239333868027, 0.5375733971595764, 0.9326647520065308, 0.9838467836380005, 0.8871395587921143, 0.05544622242450714, 0.9253696203231812, 0.10625504702329636, 0.07500356435775757, 0.11875563859939575, 0.08750415593385696, 0.10000474750995636, 0.31876513361930847, 0.13125623762607574, 0.05000237375497818, 0.04791178181767464, 0.6068825721740723, 0.07985296845436096, 0.015970593318343163, 0.22358831763267517, 0.09429291635751724, 0.8132764101028442, 0.08250630646944046, 0.06034165620803833, 0.2068856805562973, 0.017240474000573158, 0.034480948001146317, 0.27584758400917053, 0.32756897807121277, 0.06034165620803833, 0.02310234121978283, 0.1270628720521927, 0.2310234159231186, 0.02310234121978283, 0.5775585174560547, 0.9615769982337952, 0.9753068685531616, 0.01711064577102661, 0.23690165579319, 0.7525111436843872, 0.9120205640792847, 0.11056644469499588, 0.12438724935054779, 0.010365604422986507, 0.29714730381965637, 0.2522296905517578, 0.0380072146654129, 0.1002008393406868, 0.0034552013967186213, 0.05873842164874077, 0.973538875579834, 0.8680956363677979, 0.004384321626275778, 0.06576482206583023, 0.0569961778819561, 0.9841364622116089, 0.9172714948654175, 0.11755379289388657, 0.21831418573856354, 0.18472738564014435, 0.06717359274625778, 0.025190098211169243, 0.3442646861076355, 0.025190098211169243, 0.008396699093282223, 0.933040976524353, 0.10610206425189972, 0.1679949313402176, 0.716188907623291, 0.0351858027279377, 0.11638381332159042, 0.4831281304359436, 0.005413200706243515, 0.027066001668572426, 0.03247920423746109, 0.01759290136396885, 0.009473101235926151, 0.048718806356191635, 0.01082640141248703, 0.06495840847492218, 0.01759290136396885, 0.02165280282497406, 0.10961730778217316, 0.9648441672325134, 0.18118366599082947, 0.8023847937583923, 0.041803691536188126, 0.5394666790962219, 0.02985978126525879, 0.021897172555327415, 0.21299977600574493, 0.15328021347522736, 0.2783496677875519, 0.08564604818820953, 0.021411512047052383, 0.5995223522186279, 0.016978198662400246, 0.016978198662400246, 0.8489099144935608, 0.10186919569969177, 0.9454729557037354, 0.03501751646399498, 0.9018040299415588, 0.9757197499275208, 0.04503193870186806, 0.9006387591362, 0.043976619839668274, 0.07516004145145416, 0.064765565097332, 0.019189797341823578, 0.14312390983104706, 0.12233496457338333, 0.023987246677279472, 0.05517067015171051, 0.09275069087743759, 0.009594898670911789, 0.02558639645576477, 0.06076769158244133, 0.06236684322357178, 0.016791073605418205, 0.007196174003183842, 0.023987246677279472, 0.011993623338639736, 0.0215885229408741, 0.0055970242246985435, 0.04157789424061775, 0.04157789424061775, 0.0023987246677279472, 0.0007995748892426491, 0.00799574889242649, 0.019189797341823578, 0.07295921444892883, 0.18239803612232208, 0.7295921444892883, 0.05101032927632332, 0.1311694085597992, 0.007287189830094576, 0.04372313991189003, 0.10202065855264664, 0.17489255964756012, 0.04372313991189003, 0.10930784791707993, 0.021861569955945015, 0.014574379660189152, 0.247764453291893, 0.05101032927632332, 0.0259445421397686, 0.02335008792579174, 0.06875303387641907, 0.12323657423257828, 0.16085615754127502, 0.12193934619426727, 0.04799740016460419, 0.01167504396289587, 0.1271282583475113, 0.08950866758823395, 0.04410571977496147, 0.02075563371181488, 0.00129722710698843, 0.03113345056772232, 0.1024809405207634, 0.050861287862062454, 0.05983680859208107, 0.04487760737538338, 0.03590208292007446, 0.06282864511013031, 0.05385312810540199, 0.026926564052700996, 0.05684496834874153, 0.0059836809523403645, 0.077787846326828, 0.08676336705684662, 0.02094288170337677, 0.12565729022026062, 0.21541251242160797, 0.05983680859208107, 0.011967361904680729, 0.0059836809523403645, 0.9281418919563293, 0.9518399834632874, 0.9197737574577332, 0.0510985404253006, 0.8527405261993408, 0.08976216614246368, 0.02244054153561592, 0.03366081044077873, 0.9689843654632568, 0.03581295907497406, 0.6714929938316345, 0.19697126746177673, 0.008953239768743515, 0.0626726746559143, 0.026859719306230545, 0.20826035737991333, 0.26776331663131714, 0.5206508636474609, 0.025984426960349083, 0.9614238142967224, 0.9041796922683716, 0.020108278840780258, 0.012064967304468155, 0.026140764355659485, 0.09450891613960266, 0.016086623072624207, 0.08847642689943314, 0.014075796119868755, 0.036194901913404465, 0.2915700674057007, 0.10255222767591476, 0.036194901913404465, 0.19505031406879425, 0.03217324614524841, 0.03217324614524841, 0.0984162837266922, 0.11809954047203064, 0.03936651349067688, 0.06889139860868454, 0.16730768978595734, 0.12794117629528046, 0.36414024233818054, 0.6783559322357178, 0.31578636169433594, 0.9699209928512573, 0.3288348913192749, 0.4777412712574005, 0.04343102499842644, 0.09927091002464294, 0.04343102499842644, 0.9127151370048523, 0.055766213685274124, 0.892259418964386, 0.9215030074119568, 0.07404676079750061, 0.07404676079750061, 0.8145143389701843, 0.8681364059448242, 0.06156995892524719, 0.024627983570098877, 0.036941975355148315, 0.9189306497573853, 0.9275267124176025, 0.03312595561146736, 0.23822493851184845, 0.14577944576740265, 0.02133357711136341, 0.06044513359665871, 0.0035555961076170206, 0.19200219213962555, 0.0462227500975132, 0.024889172986149788, 0.1991133838891983, 0.03200036287307739, 0.014222384430468082, 0.024889172986149788, 0.034794386476278305, 0.9394484758377075, 0.04952435940504074, 0.12381090223789215, 0.7923897504806519, 0.9031010866165161, 0.017707863822579384, 0.03541572764515877, 0.017707863822579384, 0.8500128984451294, 0.1275019347667694, 0.021250322461128235, 0.09738363325595856, 0.17621800303459167, 0.25041505694389343, 0.07883436977863312, 0.01391194760799408, 0.04173584282398224, 0.13448216021060944, 0.05564779043197632, 0.08347168564796448, 0.0695597380399704, 0.035127922892570496, 0.020073097199201584, 0.07527411729097366, 0.025091372430324554, 0.21076752245426178, 0.05520102009177208, 0.08029238879680634, 0.08029238879680634, 0.4114985167980194, 0.1838344931602478, 0.0919172465801239, 0.20802323520183563, 0.11610599607229233, 0.16448348760604858, 0.004837749991565943, 0.1741589903831482, 0.05321524664759636, 0.923276424407959, 0.9222544431686401, 0.8884665966033936, 0.04935925826430321, 0.20351582765579224, 0.7326570153236389, 0.020351583138108253, 0.020351583138108253, 0.040491729974746704, 0.027704868465662003, 0.10655719041824341, 0.046885162591934204, 0.046885162591934204, 0.18114721775054932, 0.025573724880814552, 0.11721290647983551, 0.15770463645458221, 0.002131143817678094, 0.049016308039426804, 0.0191802941262722, 0.029836012050509453, 0.10655719041824341, 0.040491729974746704, 0.7068456411361694, 0.1049770787358284, 0.06298624724149704, 0.11197555065155029, 0.9755293726921082, 0.9810383915901184, 0.9617545008659363, 0.922554612159729, 0.9350984692573547, 0.05451580509543419, 0.10903161019086838, 0.7632213234901428, 0.0956680178642273, 0.020293215289711952, 0.12465832382440567, 0.24641761183738708, 0.026091277599334717, 0.08407188951969147, 0.05798061564564705, 0.017394185066223145, 0.05508158355951309, 0.01159612275660038, 0.060879647731781006, 0.014495153911411762, 0.18843699991703033, 0.3997027575969696, 0.5021906495094299, 0.010248788632452488, 0.0819903090596199, 0.043321143835783005, 0.38989031314849854, 0.5523446202278137, 0.2398597151041031, 0.7564806342124939, 0.8844895362854004, 0.06317782402038574, 0.922203779220581, 0.9669208526611328, 0.7316089272499084, 0.07316089421510696, 0.0073160892352461815, 0.0073160892352461815, 0.0073160892352461815, 0.10974134504795074, 0.03658044710755348, 0.0073160892352461815, 0.0073160892352461815, 0.1294267773628235, 0.1346038430929184, 0.03623949736356735, 0.0336509607732296, 0.06212485209107399, 0.07506753504276276, 0.025885356590151787, 0.07506753504276276, 0.04141657054424286, 0.038828033953905106, 0.038828033953905106, 0.059536319226026535, 0.24849940836429596, 0.8893903493881226, 0.237884521484375, 0.07426638156175613, 0.02668948285281658, 0.5662811994552612, 0.04293525218963623, 0.006962473504245281, 0.024368656799197197, 0.01740618422627449, 0.9658226370811462, 0.11450686305761337, 0.7026557326316833, 0.05204857513308525, 0.07807286083698273, 0.046843718737363815, 0.8807319402694702, 0.07600945234298706, 0.17274875938892365, 0.020729850977659225, 0.1658388078212738, 0.04836965352296829, 0.40077710151672363, 0.04145970195531845, 0.062189552932977676, 0.006909950170665979, 0.2641758322715759, 0.22112494707107544, 0.023482296615839005, 0.10175661742687225, 0.037180300801992416, 0.07044688612222672, 0.03522344306111336, 0.04305087402462959, 0.037180300801992416, 0.009784289635717869, 0.03130972757935524, 0.019568579271435738, 0.037180300801992416, 0.06849002838134766, 0.9319526553153992, 0.07365825027227402, 0.14731650054454803, 0.705014705657959, 0.07365825027227402, 0.9127151370048523, 0.5927352905273438, 0.12014904618263245, 0.12014904618263245, 0.12815898656845093, 0.03203974664211273, 0.9667186141014099, 0.9118533730506897, 0.9462043642997742, 0.9369581341743469, 0.1141066923737526, 0.0380355641245842, 0.4183911979198456, 0.319498747587204, 0.053249791264534, 0.0608569011092186, 0.7164868116378784, 0.004239566624164581, 0.0678330659866333, 0.004239566624164581, 0.016958266496658325, 0.1823013722896576, 0.922943115234375, 0.9571039080619812, 0.1072005182504654, 0.06904440373182297, 0.043606989085674286, 0.037247635424137115, 0.08903093636035919, 0.06813592463731766, 0.010901747271418571, 0.024528931826353073, 0.0018169579561799765, 0.010901747271418571, 0.002725436817854643, 0.038156114518642426, 0.017261100932955742, 0.08176310360431671, 0.031796764582395554, 0.0990242063999176, 0.06541048735380173, 0.017261100932955742, 0.047240905463695526, 0.037247635424137115, 0.013627184554934502, 0.031796764582395554, 0.029071327298879623, 0.024528931826353073, 0.09815675020217896, 0.8834107518196106, 0.9787052273750305, 0.5886788964271545, 0.3924526274204254, 0.9617981314659119, 0.021005213260650635, 0.007351824548095465, 0.1150035411119461, 0.06879207491874695, 0.01785443164408207, 0.12550614774227142, 0.019954951480031013, 0.02940729819238186, 0.01785443164408207, 0.20165003836154938, 0.03465859964489937, 0.005776433739811182, 0.0204800833016634, 0.036233991384506226, 0.005251303315162659, 0.019954951480031013, 0.029932428151369095, 0.0740433782339096, 0.019429821521043777, 0.017329299822449684, 0.024681124836206436, 0.0519879013299942, 0.009977475740015507, 0.025206254795193672, 0.08540400862693787, 0.14030659198760986, 0.012200572527945042, 0.7564355134963989, 0.24992911517620087, 0.08693186938762665, 0.06954549252986908, 0.1760370284318924, 0.008693186566233635, 0.026079559698700905, 0.010866483673453331, 0.08041197806596756, 0.05215911939740181, 0.04129263758659363, 0.12170461565256119, 0.0021732966415584087, 0.013039779849350452, 0.043465934693813324, 0.01738637313246727, 0.04779144376516342, 0.12425775080919266, 0.028674865141510963, 0.15771175920963287, 0.09080374240875244, 0.03823315352201462, 0.052570588886737823, 0.01911657676100731, 0.033454012125730515, 0.02389572188258171, 0.06212887540459633, 0.2293989211320877, 0.06690802425146103, 0.01911657676100731, 0.1552913635969162, 0.040510792285203934, 0.15304076671600342, 0.002250599442049861, 0.004501198884099722, 0.040510792285203934, 0.04951319098472595, 0.05626498907804489, 0.04951319098472595, 0.1440383642911911, 0.029257794842123985, 0.06526738405227661, 0.11703117936849594, 0.09002397954463959, 0.002250599442049861, 0.04720444232225418, 0.8260777592658997, 0.11801110953092575, 0.9554622769355774, 0.1693318486213684, 0.06554780900478363, 0.0764724463224411, 0.15021373331546783, 0.12290214002132416, 0.021849269047379494, 0.07374128699302673, 0.060085490345954895, 0.07374128699302673, 0.02731158770620823, 0.04096738249063492, 0.046429697424173355, 0.013655793853104115, 0.019118111580610275, 0.032773904502391815, 0.018552487716078758, 0.07420995086431503, 0.2782873213291168, 0.5936796069145203, 0.7810078263282776, 0.1952519565820694, 0.9505754709243774, 0.2313934564590454, 0.1156967282295227, 0.6479016542434692, 0.00949512142688036, 0.1353054791688919, 0.052223168313503265, 0.01186890248209238, 0.030859146267175674, 0.17565974593162537, 0.3679359555244446, 0.01899024285376072, 0.035606708377599716, 0.030859146267175674, 0.035606708377599716, 0.033232927322387695, 0.007121341302990913, 0.04747560992836952, 0.9186578989028931, 0.9545289278030396, 0.12173771858215332, 0.04057924076914787, 0.04057924076914787, 0.7710055708885193, 0.932961642742157, 0.04418560117483139, 0.15906816720962524, 0.6185984015464783, 0.03534848242998123, 0.008837120607495308, 0.08837120234966278, 0.026511359959840775, 0.10013866424560547, 0.12016639858484268, 0.7610538601875305, 0.894604504108429, 0.9352940917015076, 0.9683773517608643, 0.9632751941680908, 0.911827027797699, 0.06711902469396591, 0.022373007610440254, 0.8949203491210938, 0.9738965034484863, 0.9795196652412415, 0.9385020136833191, 0.962653636932373, 0.344090074300766, 0.104518823325634, 0.04110290855169296, 0.08690329641103745, 0.008220581337809563, 0.03992854058742523, 0.021138638257980347, 0.022313008084893227, 0.012918056920170784, 0.10334445536136627, 0.021138638257980347, 0.004697475116699934, 0.025836113840341568, 0.024661745876073837, 0.007046212907880545, 0.005871844012290239, 0.022313008084893227, 0.03288232535123825, 0.005871844012290239, 0.019964270293712616, 0.009394950233399868, 0.016441162675619125, 0.019964270293712616, 0.2724444568157196, 0.0518941804766655, 0.5059682726860046, 0.012973545119166374, 0.1556825488805771, 0.03268646076321602, 0.008171615190804005, 0.9479073286056519, 0.7361806035041809, 0.19373174011707306, 0.06457724422216415, 0.9096271991729736, 0.8893091678619385, 0.9008337259292603, 0.8193622827529907, 0.0682801902294159, 0.10242028534412384, 0.9244487881660461, 0.07465975731611252, 0.9208036661148071, 0.058253414928913116, 0.19806161522865295, 0.722342312335968, 0.09773038327693939, 0.024432595819234848, 0.19546076655387878, 0.6841127276420593, 0.9656761288642883, 0.06681988388299942, 0.014318546280264854, 0.05727418512105942, 0.10977552086114883, 0.023864243179559708, 0.73024582862854, 0.9407676458358765, 0.03484324738383293, 0.9327555894851685, 0.004154879134148359, 0.09971710294485092, 0.016619516536593437, 0.5193598866462708, 0.24513788521289825, 0.02492927573621273, 0.08725246787071228, 0.9640770554542542, 0.023197505623102188, 0.046395011246204376, 0.22424255311489105, 0.32476508617401123, 0.13918504118919373, 0.22424255311489105, 0.11608994007110596, 0.6148467063903809, 0.06019478291273117, 0.025797763839364052, 0.06019478291273117, 0.06449440866708755, 0.051595527678728104, 0.9489547610282898, 0.10860798507928848, 0.32582396268844604, 0.0950319841504097, 0.4480079412460327, 0.89128178358078, 0.031831491738557816, 0.031831491738557816, 0.4015178680419922, 0.12045535445213318, 0.09855438023805618, 0.05475243553519249, 0.11315502971410751, 0.032851461321115494, 0.04015178605914116, 0.02007589302957058, 0.027376217767596245, 0.010950487107038498, 0.041976865381002426, 0.007300324738025665, 0.02555113658308983, 0.026361338794231415, 0.026361338794231415, 0.9226468205451965, 0.9229738712310791, 0.9698656797409058, 0.9884234666824341, 0.9573475122451782, 0.9175927042961121, 0.10559796541929245, 0.19088862836360931, 0.00812292005866766, 0.6092190146446228, 0.04467606171965599, 0.01624584011733532, 0.00812292005866766, 0.012184380553662777, 0.9580923318862915, 0.9576210975646973, 0.9120205640792847, 0.894604504108429, 0.9284766316413879, 0.9304664134979248, 0.2685435712337494, 0.31934911012649536, 0.0217738039791584, 0.3048332631587982, 0.0435476079583168, 0.036289673298597336, 0.062233056873083115, 0.9023793339729309, 0.23764589428901672, 0.049739837646484375, 0.07184643298387527, 0.09947967529296875, 0.13816621899604797, 0.14369286596775055, 0.25422585010528564, 0.8796868920326233, 0.08513098955154419, 0.37309029698371887, 0.007772714365273714, 0.5440900325775146, 0.06995443254709244, 0.8946020007133484, 0.9451109766960144, 0.037804439663887024, 0.9420661926269531, 0.9480350017547607, 0.8899986147880554, 0.9705809354782104, 0.08761190623044968, 0.10012789070606232, 0.7455951571464539, 0.06794392317533493, 0.9091517329216003, 0.03597775846719742, 0.11992586404085159, 0.09594068676233292, 0.743540346622467, 0.9687311053276062, 0.9282212853431702, 0.962803065776825, 0.8089036345481873, 0.1673593819141388, 0.9464226961135864, 0.11199204623699188, 0.8735379576683044, 0.9668015241622925, 0.9640519022941589, 0.16207462549209595, 0.7923648357391357, 0.03601658344268799, 0.4830547869205475, 0.5066184401512146, 0.046460192650556564, 0.22410210967063904, 0.008198857307434082, 0.06559085845947266, 0.010931810364127159, 0.0054659051820635796, 0.18584077060222626, 0.01913066767156124, 0.035528384149074554, 0.11478400975465775, 0.05192609876394272, 0.07105676829814911, 0.0300624780356884, 0.05192609876394272, 0.07378971576690674, 0.9511858820915222, 0.9258373975753784, 0.6191330552101135, 0.18442261219024658, 0.013173043727874756, 0.013173043727874756, 0.05269217491149902, 0.10538434982299805, 0.011668791994452477, 0.6417835354804993, 0.02625478059053421, 0.04959236457943916, 0.02625478059053421, 0.00875159353017807, 0.04084077104926109, 0.05250956118106842, 0.06417835503816605, 0.07876434177160263, 0.8901252150535583, 0.004922592081129551, 0.054148513823747635, 0.1649068295955658, 0.21659405529499054, 0.06645499169826508, 0.009845184162259102, 0.02461296133697033, 0.02461296133697033, 0.009845184162259102, 0.08614536374807358, 0.041842032223939896, 0.017229072749614716, 0.1230648010969162, 0.14767776429653168, 0.009845184162259102, 0.025252506136894226, 0.959595263004303, 0.9759774208068848, 0.015249647200107574, 0.9196065068244934, 0.12748897075653076, 0.8159294128417969, 0.050995588302612305, 0.06562281399965286, 0.853096604347229, 0.02187427133321762, 0.02187427133321762, 0.9699205160140991, 0.9711001515388489, 0.08492416888475418, 0.8492416739463806, 0.05661610886454582, 0.9737123847007751, 0.9806258082389832, 0.0332929901778698, 0.11985476315021515, 0.052317555993795395, 0.14553792774677277, 0.011414739303290844, 0.09607405960559845, 0.16741618514060974, 0.019975794479250908, 0.025683164596557617, 0.053268786519765854, 0.01807333715260029, 0.020927023142576218, 0.08370809257030487, 0.015219653025269508, 0.022829478606581688, 0.00856105424463749, 0.019975794479250908, 0.019975794479250908, 0.03424421697854996, 0.030439306050539017, 0.03066425584256649, 0.008517848327755928, 0.022146405652165413, 0.005110708996653557, 0.008517848327755928, 0.8637098670005798, 0.03747853264212608, 0.0238499753177166, 0.19196084141731262, 0.18670164048671722, 0.02629600651562214, 0.10781362652778625, 0.07888802140951157, 0.005259201396256685, 0.02629600651562214, 0.08414722234010696, 0.09992482513189316, 0.02103680558502674, 0.02629600651562214, 0.04207361117005348, 0.03944401070475578, 0.05522161349654198, 0.9788070917129517, 0.14996245503425598, 0.8247935175895691, 0.9825735688209534, 0.25885897874832153, 0.025885896757245064, 0.06471474468708038, 0.5177179574966431, 0.10354358702898026, 0.012942948378622532, 0.39369314908981323, 0.10431186109781265, 0.10431186109781265, 0.020189393311738968, 0.0908522680401802, 0.04374368488788605, 0.05383837968111038, 0.006729797460138798, 0.033648986369371414, 0.02691918984055519, 0.05047348141670227, 0.02355429157614708, 0.04374368488788605, 0.9141515493392944, 0.006337805185467005, 0.14576952159404755, 0.03168902546167374, 0.01267561037093401, 0.13943171501159668, 0.06337805092334747, 0.01267561037093401, 0.10140488296747208, 0.20280976593494415, 0.27886343002319336, 0.9412811398506165, 0.9504804611206055, 0.8452028632164001, 0.12429454177618027, 0.1238902285695076, 0.016518697142601013, 0.0016518696211278439, 0.033037394285202026, 0.105719655752182, 0.03634113445878029, 0.35845571756362915, 0.06772665679454803, 0.03799300268292427, 0.03964487090706825, 0.0016518696211278439, 0.01321495696902275, 0.028081784024834633, 0.052859827876091, 0.004955608863383532, 0.05120795965194702, 0.01321495696902275, 0.011563087813556194, 0.9601204991340637, 0.9944047331809998, 0.026683907955884933, 0.14676149189472198, 0.08338721841573715, 0.01667744293808937, 0.15009698271751404, 0.11007112264633179, 0.026683907955884933, 0.18678736686706543, 0.060038793832063675, 0.18678736686706543, 0.08253776282072067, 0.028183626011013985, 0.03422297537326813, 0.08958366513252258, 0.02516395039856434, 0.09813941270112991, 0.1031721979379654, 0.039255764335393906, 0.011072138324379921, 0.02264755591750145, 0.08807382732629776, 0.03170657902956009, 0.000503279035910964, 0.050831180065870285, 0.0075491853058338165, 0.002013116143643856, 0.04932134598493576, 0.0075491853058338165, 0.006039348430931568, 0.09612629562616348, 0.05687053129076958, 0.00503279035910964, 0.05133445933461189, 0.001006558071821928, 0.011575417593121529, 0.9737960696220398, 0.07334758341312408, 0.14669516682624817, 0.5745561122894287, 0.13447056710720062, 0.024449195712804794, 0.04889839142560959, 0.8884633183479309, 0.07839382439851761, 0.9504783749580383, 0.2524617314338684, 0.10145658254623413, 0.0035391829442232847, 0.04836883395910263, 0.004718910437077284, 0.06370529532432556, 0.03893101215362549, 0.020055370405316353, 0.012977004051208496, 0.015336459502577782, 0.05780665576457977, 0.02241482585668564, 0.02123509719967842, 0.06960393488407135, 0.09555794298648834, 0.016516188159585, 0.05898638442158699, 0.017695914953947067, 0.03657155856490135, 0.04247019439935684, 0.9551416039466858, 0.004062708467245102, 0.05484656244516373, 0.225480318069458, 0.2092294842004776, 0.04468979313969612, 0.08328552544116974, 0.01828218810260296, 0.15641427040100098, 0.07922281324863434, 0.12594395875930786, 0.9391301274299622, 0.03238379582762718, 0.9599272608757019, 0.9380863904953003, 0.9624797105789185, 0.9170174598693848, 0.05264017730951309, 0.024295466020703316, 0.06883715093135834, 0.012147733010351658, 0.020246222615242004, 0.012147733010351658, 0.1457727998495102, 0.30369332432746887, 0.14172355830669403, 0.020246222615242004, 0.11742808669805527, 0.028344711288809776, 0.05264017730951309, 0.2378193438053131, 0.04494223743677139, 0.19287709891796112, 0.11235559731721878, 0.024343712255358696, 0.033706679940223694, 0.08239410072565079, 0.06554076075553894, 0.024343712255358696, 0.05992298573255539, 0.007490373216569424, 0.05430520325899124, 0.011235559359192848, 0.05056001618504524, 0.9061819911003113, 0.014127535745501518, 0.0635739117860794, 0.8617796897888184, 0.05651014298200607, 0.20461153984069824, 0.7672932744026184, 0.3833378255367279, 0.03940856084227562, 0.0071651930920779705, 0.0035825965460389853, 0.10747789591550827, 0.03582596406340599, 0.3690074384212494, 0.050156351178884506, 0.2757229506969452, 0.6999121308326721, 0.0066337864845991135, 0.04311961308121681, 0.23715786635875702, 0.013267572969198227, 0.034827377647161484, 0.011609126813709736, 0.00995067972689867, 0.2189149558544159, 0.00995067972689867, 0.01990135945379734, 0.004975339863449335, 0.0066337864845991135, 0.02819359302520752, 0.01990135945379734, 0.27198526263237, 0.021559806540608406, 0.00829223357141018, 0.03151048719882965, 0.6584353446960449, 0.004419029224663973, 0.04198077693581581, 0.08396155387163162, 0.008838058449327946, 0.011047572828829288, 0.0022095146123319864, 0.013257087208330631, 0.022095145657658577, 0.0022095146123319864, 0.008838058449327946, 0.08175203949213028, 0.026514174416661263, 0.03314271941781044, 0.032016146928071976, 0.08004037290811539, 0.17929042875766754, 0.0032016148325055838, 0.29775017499923706, 0.03841937705874443, 0.08964521437883377, 0.15687912702560425, 0.03841937705874443, 0.08004037290811539, 0.9092340469360352, 0.1955564320087433, 0.7822257280349731, 0.023710161447525024, 0.15411604940891266, 0.04742032289505005, 0.5808989405632019, 0.2015363723039627, 0.9384221434593201, 0.911827027797699, 0.9196990132331848, 0.09966085106134415, 0.07855620235204697, 0.05041666701436043, 0.03048449568450451, 0.06917635351419449, 0.0035174416843801737, 0.1512499898672104, 0.01875969022512436, 0.05510658770799637, 0.02110465057194233, 0.02110465057194233, 0.06683139503002167, 0.03048449568450451, 0.06096899136900902, 0.03165697678923607, 0.06448643654584885, 0.05276162549853325, 0.00468992255628109, 0.02696705423295498, 0.01641472801566124, 0.04338178038597107, 0.9669481515884399, 0.01760357990860939, 0.05281073600053787, 0.651332437992096, 0.26405370235443115, 0.3552997410297394, 0.023333117365837097, 0.003181788604706526, 0.06151457875967026, 0.012727154418826103, 0.06469637155532837, 0.023333117365837097, 0.034999676048755646, 0.015908943489193916, 0.020151328295469284, 0.24711892008781433, 0.02121192403137684, 0.05090861767530441, 0.05939338728785515, 0.00530298100784421, 0.0287637822329998, 0.06232152879238129, 0.06711549311876297, 0.07190945744514465, 0.2924317717552185, 0.0862913429737091, 0.13423098623752594, 0.09587927162647247, 0.07190945744514465, 0.08149737864732742, 0.004793963860720396, 0.2015908807516098, 0.03291279450058937, 0.008228198625147343, 0.07405378669500351, 0.06171149015426636, 0.02057049795985222, 0.02057049795985222, 0.004114099312573671, 0.08639609068632126, 0.3291279673576355, 0.05759739130735397, 0.07405378669500351, 0.008228198625147343, 0.016456397250294685, 0.9229738712310791, 0.8947353363037109, 0.11062119901180267, 0.8296589851379395, 0.08572964370250702, 0.07190228253602982, 0.19358307123184204, 0.11338437348604202, 0.016592834144830704, 0.10232248157262802, 0.06084039434790611, 0.03871661424636841, 0.04977850243449211, 0.03871661424636841, 0.08019869774580002, 0.027654724195599556, 0.03595114126801491, 0.08296417444944382, 0.9381392598152161, 0.03153266757726669, 0.056308332830667496, 0.05743449926376343, 0.07657933235168457, 0.022523334249854088, 0.0011261666659265757, 0.025901833549141884, 0.09347183257341385, 0.03491116687655449, 0.03491116687655449, 0.01689250022172928, 0.0011261666659265757, 0.1869436651468277, 0.04166816920042038, 0.03378500044345856, 0.01801866665482521, 0.03491116687655449, 0.050677500665187836, 0.03378500044345856, 0.019144833087921143, 0.0810839980840683, 0.03491116687655449, 0.014640167355537415, 0.15452313423156738, 0.0607055202126503, 0.18763524293899536, 0.36975178122520447, 0.022074734792113304, 0.09381762146949768, 0.022074734792113304, 0.08829893916845322, 0.06803648918867111, 0.10691449046134949, 0.058316994458436966, 0.7581208944320679, 0.9096274375915527, 0.45721572637557983, 0.3333485424518585, 0.025502072647213936, 0.012751036323606968, 0.16029874980449677, 0.007286306470632553, 0.16818642616271973, 0.8048922419548035, 0.012013317085802555, 0.019595589488744736, 0.11365441977977753, 0.05617402121424675, 0.04572303965687752, 0.10712255537509918, 0.023514706641435623, 0.03265931457281113, 0.07054412364959717, 0.0156764704734087, 0.003919117618352175, 0.06009313836693764, 0.00783823523670435, 0.03919117897748947, 0.05617402121424675, 0.003919117618352175, 0.07838235795497894, 0.04441666975617409, 0.020901961252093315, 0.05878676846623421, 0.04180392250418663, 0.07838235795497894, 0.00783823523670435, 0.0156764704734087, 0.9638825058937073, 0.9740699529647827, 0.9548875689506531, 0.07827863842248917, 0.18052011728286743, 0.12833435833454132, 0.05218575894832611, 0.033547986298799515, 0.10064396262168884, 0.05378328263759613, 0.035145509988069534, 0.018637770786881447, 0.032482970505952835, 0.010650155134499073, 0.0053250775672495365, 0.017040247097611427, 0.06070588156580925, 0.03834055736660957, 0.009585139341652393, 0.022897832095623016, 0.008520123548805714, 0.011182662099599838, 0.010650155134499073, 0.0005325077218003571, 0.020235294476151466, 0.012247677892446518, 0.018105262890458107, 0.007455108221620321, 0.012780185788869858, 0.019702786579728127, 0.04676171392202377, 0.025978729128837585, 0.01039149146527052, 0.20782983303070068, 0.27017879486083984, 0.031174475327134132, 0.00519574573263526, 0.14548088610172272, 0.10911066085100174, 0.09352342784404755, 0.04156596586108208, 0.01039149146527052, 0.0716487467288971, 0.0716487467288971, 0.6567801833152771, 0.03582437336444855, 0.03582437336444855, 0.13135604560375214, 0.9577196836471558, 0.9045953750610352, 0.11013390123844147, 0.12290304899215698, 0.04309587553143501, 0.015961434692144394, 0.02713444083929062, 0.10055704414844513, 0.02713444083929062, 0.01276914868503809, 0.006384574342519045, 0.0015961435856297612, 0.03192286938428879, 0.06384573876857758, 0.3144402801990509, 0.041499730199575424, 0.04948044940829277, 0.030326727777719498, 0.03676179051399231, 0.01531741302460432, 0.07352358102798462, 0.024507861584424973, 0.14398369193077087, 0.05820617079734802, 0.06433313339948654, 0.04288875684142113, 0.021444378420710564, 0.08577751368284225, 0.049015723168849945, 0.05820617079734802, 0.04595223814249039, 0.1654280573129654, 0.012253930792212486, 0.09496796131134033, 0.9599888324737549, 0.9387925863265991, 0.04834531620144844, 0.9185610413551331, 0.9706757664680481, 0.9540079832077026, 0.9572513699531555, 0.8270081877708435, 0.016215845942497253, 0.12972676753997803, 0.9214094877243042, 0.04387664049863815, 0.9675808548927307, 0.08890966325998306, 0.7747842073440552, 0.12701380252838135, 0.0426502600312233, 0.05483604967594147, 0.012185788713395596, 0.1218578889966011, 0.10357920080423355, 0.012185788713395596, 0.5788249373435974, 0.006092894356697798, 0.06092894449830055, 0.3641222417354584, 0.059781264513731, 0.0027173301205039024, 0.0027173301205039024, 0.01902131177484989, 0.04347728192806244, 0.1793437898159027, 0.06249859556555748, 0.016303980723023415, 0.04347728192806244, 0.119562529027462, 0.07336791604757309, 0.016303980723023415, 0.049310747534036636, 0.01643691584467888, 0.5752920508384705, 0.2301168143749237, 0.11505840718746185, 0.14912502467632294, 0.8414912223815918, 0.9578031897544861, 0.19223128259181976, 0.1281541883945465, 0.021359030157327652, 0.6407709121704102, 0.9633386731147766, 0.9798486828804016, 0.04004061594605446, 0.200203076004982, 0.7607716917991638, 0.9366611242294312, 0.9506809711456299, 0.9545848369598389, 0.9718010425567627, 0.13053008913993835, 0.14057087898254395, 0.08434252440929413, 0.006024465896189213, 0.036146797239780426, 0.014057086780667305, 0.3192966878414154, 0.06426096707582474, 0.036146797239780426, 0.03213048353791237, 0.02811417356133461, 0.002008155221119523, 0.036146797239780426, 0.02409786358475685, 0.016065241768956184, 0.02811417356133461, 0.05690605565905571, 0.10863883793354034, 0.12415867298841476, 0.0051732780411839485, 0.06207933649420738, 0.0775991678237915, 0.34143632650375366, 0.14485177397727966, 0.07242588698863983, 0.6058260202407837, 0.09565673768520355, 0.07971394807100296, 0.04251410812139511, 0.010628527030348778, 0.12754231691360474, 0.031885579228401184, 0.005314263515174389, 0.057595144957304, 0.019198382273316383, 0.4479622542858124, 0.07679352909326553, 0.2879757285118103, 0.10239136964082718, 0.16422811150550842, 0.04926843196153641, 0.49268433451652527, 0.18065091967582703, 0.07390265166759491, 0.024634215980768204, 0.09496571868658066, 0.7280704975128174, 0.15827620029449463, 0.919919490814209, 0.6464403867721558, 0.012196988798677921, 0.32931870222091675, 0.8739902973175049, 0.12424372136592865, 0.09758133441209793, 0.024395333603024483, 0.09758133441209793, 0.6342786550521851, 0.12197666615247726, 0.9653205871582031, 0.21160684525966644, 0.3808923363685608, 0.050785645842552185, 0.3470352292060852, 0.14775484800338745, 0.12928548455238342, 0.08311209827661514, 0.12928548455238342, 0.10158145427703857, 0.4063258171081543, 0.3458903729915619, 0.651087760925293, 0.8077555894851685, 0.07157327979803085, 0.020449507981538773, 0.09202278405427933, 0.9402053356170654, 0.9143769145011902, 0.9824601411819458, 0.9108906388282776, 0.9718877077102661, 0.9692991971969604, 0.9443979859352112, 0.9096274971961975, 0.10019056499004364, 0.8516197800636292, 0.7569303512573242, 0.08438750356435776, 0.07671590894460678, 0.012785985134541988, 0.01022878848016262, 0.03068636544048786, 0.007671591360121965, 0.007671591360121965, 0.007671591360121965, 0.002557197120040655, 0.00816478580236435, 0.006350389216095209, 0.027215952053666115, 0.11339980363845825, 0.06441108882427216, 0.30481866002082825, 0.06259669363498688, 0.1705533117055893, 0.026308754459023476, 0.06168949231505394, 0.056246303021907806, 0.04082392901182175, 0.020865563303232193, 0.009071984328329563, 0.026308754459023476, 0.9216064214706421, 0.19172866642475128, 0.6614638566970825, 0.13421006500720978, 0.09029396623373032, 0.8577926754951477, 0.9132760763168335, 0.9347802400588989, 0.9522050023078918, 0.902951180934906, 0.002679295837879181, 0.13664409518241882, 0.018755070865154266, 0.045548029243946075, 0.10985112935304642, 0.042868733406066895, 0.016075775027275085, 0.018755070865154266, 0.06162380427122116, 0.4233287572860718, 0.07769957929849625, 0.010717183351516724, 0.02947225421667099, 0.002679295837879181, 0.9174726009368896, 0.09589077532291412, 0.10153141617774963, 0.15793775022029877, 0.05640634149312973, 0.12409394979476929, 0.2989535927772522, 0.028203170746564865, 0.0846095085144043, 0.045125070959329605, 0.7389469742774963, 0.25255149602890015, 0.9092340469360352, 0.9673081040382385, 0.9550060033798218, 0.9218310117721558, 0.25357991456985474, 0.7245140671730042, 0.020495224744081497, 0.05465393140912056, 0.4782218933105469, 0.20495223999023438, 0.23911094665527344, 0.045485638082027435, 0.21378250420093536, 0.45485639572143555, 0.004548564087599516, 0.20468537509441376, 0.07277702540159225, 0.9837136268615723, 0.9497944712638855, 0.11656001955270767, 0.39963436126708984, 0.01665143109858036, 0.1831657439470291, 0.27474862337112427, 0.8788429498672485, 0.9382275938987732, 0.12079190462827682, 0.28916850686073303, 0.009150901809334755, 0.1409238874912262, 0.05673559382557869, 0.11530136317014694, 0.06039595231413841, 0.0018301804084330797, 0.0054905409924685955, 0.04026396945118904, 0.0420941486954689, 0.01830180361866951, 0.0018301804084330797, 0.03477342799305916, 0.0054905409924685955, 0.01647162437438965, 0.03660360723733902, 0.0036603608168661594, 0.828324019908905, 0.15060436725616455, 0.8814944624900818, 0.9064126014709473, 0.011113046668469906, 0.029634790495038033, 0.029634790495038033, 0.8445915579795837, 0.04445218667387962, 0.03333913907408714, 0.052588507533073425, 0.8940045833587646, 0.38335874676704407, 0.07302071154117584, 0.5294001698493958, 0.049293871968984604, 0.8872897028923035, 0.9623738527297974, 0.25307637453079224, 0.09490364044904709, 0.5694218873977661, 0.07908637076616287, 0.2581503987312317, 0.04302506521344185, 0.12907519936561584, 0.5593258738517761, 0.9622453451156616, 0.9253082871437073, 0.9196123480796814, 0.9552061557769775, 0.9581613540649414, 0.08331882208585739, 0.05179278180003166, 0.002251859987154603, 0.09457812458276749, 0.03828161954879761, 0.02477046102285385, 0.08782254159450531, 0.03377790004014969, 0.5764761567115784, 0.006755580194294453, 0.9521805644035339, 0.04279377683997154, 0.336236834526062, 0.32401004433631897, 0.20174209773540497, 0.08558755367994308, 0.9456917643547058, 0.09261040389537811, 0.061740271747112274, 0.8026235103607178, 0.9234123826026917, 0.7212470173835754, 0.007839641533792019, 0.11759462207555771, 0.047037847340106964, 0.10191533714532852, 0.9607308506965637, 0.9797665476799011, 0.9639087915420532, 0.9703196883201599, 0.9736946225166321, 0.20991313457489014, 0.19083012640476227, 0.0572490356862545, 0.05088803172111511, 0.05088803172111511, 0.3307722210884094, 0.08269305527210236, 0.006361003965139389, 0.019083011895418167, 0.15755538642406464, 0.8192879557609558, 0.9073275923728943, 0.06446243077516556, 0.02148747816681862, 0.5264431834220886, 0.30082467198371887, 0.08594991266727448, 0.32320690155029297, 0.12120258808135986, 0.08080172538757324, 0.03232068940997124, 0.39592844247817993, 0.03232068940997124, 0.03508405387401581, 0.9472694396972656, 0.9028053283691406, 0.8800342679023743, 0.08000311255455017, 0.17942270636558533, 0.7689544558525085, 0.025631815195083618, 0.8544913530349731, 0.12207019329071045, 0.8057094216346741, 0.10986946523189545, 0.05127241834998131, 0.02929852344095707, 0.0472211055457592, 0.9444221258163452, 0.9734624028205872, 0.9163668751716614, 0.9477493166923523, 0.9249109625816345, 0.025082331150770187, 0.021947039291262627, 0.009405874647200108, 0.015676457434892654, 0.9569017291069031, 0.9862563610076904, 0.29389578104019165, 0.002332506235688925, 0.016327543184161186, 0.055980149656534195, 0.00466501247137785, 0.03032258152961731, 0.0676426813006401, 0.023325063288211823, 0.027990074828267097, 0.10263027995824814, 0.058312658220529556, 0.06297767162322998, 0.046650126576423645, 0.06297767162322998, 0.002332506235688925, 0.09563275426626205, 0.044317618012428284, 0.002332506235688925, 0.16915111243724823, 0.36866265535354614, 0.04770928621292114, 0.1344534456729889, 0.026023246347904205, 0.05638370290398598, 0.19083714485168457, 0.14067907631397247, 0.6682256460189819, 0.01758488453924656, 0.15826396644115448, 0.03829164803028107, 0.880707859992981, 0.03829164803028107, 0.08282209187746048, 0.033881764858961105, 0.02635248377919197, 0.03764640539884567, 0.08093976974487305, 0.03576408699154854, 0.07717513293027878, 0.04329336807131767, 0.15999722480773926, 0.0075292810797691345, 0.17505578696727753, 0.024470163509249687, 0.10164529830217361, 0.07152817398309708, 0.04141104593873024, 0.02103894203901291, 0.10256484150886536, 0.3484574854373932, 0.017094140872359276, 0.09862004220485687, 0.056542158126831055, 0.0460226871073246, 0.0460226871073246, 0.040762949734926224, 0.06180189177393913, 0.02103894203901291, 0.010519471019506454, 0.044707752764225006, 0.035503216087818146, 0.006574669387191534, 0.03944801539182663, 0.07064734399318695, 0.13586026430130005, 0.2934581935405731, 0.14672909677028656, 0.010868821293115616, 0.34236788749694824, 0.8649544715881348, 0.02601366862654686, 0.09755125641822815, 0.08447781205177307, 0.1267167180776596, 0.021119453012943268, 0.6124641299247742, 0.1267167180776596, 0.020828399807214737, 0.020828399807214737, 0.6040236353874207, 0.21869820356369019, 0.1145562008023262, 0.8843249082565308, 0.0947491005063057, 0.9579452276229858, 0.025209084153175354, 0.9827787280082703, 0.061784353107213974, 0.864980936050415, 0.06758435070514679, 0.003975550178438425, 0.039755500853061676, 0.0318044014275074, 0.09938874840736389, 0.023853300139307976, 0.043731048703193665, 0.12324205040931702, 0.5048948526382446, 0.0159022007137537, 0.039755500853061676, 0.21048976480960846, 0.757763147354126, 0.9359918236732483, 0.9386560320854187, 0.20304015278816223, 0.030456023290753365, 0.1421281099319458, 0.08121605962514877, 0.06091204658150673, 0.47714436054229736, 0.04162319004535675, 0.00832463800907135, 0.0499478280544281, 0.25806379318237305, 0.47450438141822815, 0.0332985520362854, 0.12486957013607025, 0.07038792967796326, 0.8270581364631653, 0.08798491209745407, 0.14432106912136078, 0.036080267280340195, 0.18040134012699127, 0.05412040278315544, 0.5953243970870972, 0.9237004518508911, 0.9596118927001953, 0.9343512654304504, 0.9281418323516846, 0.9305693507194519, 0.08512338995933533, 0.23408931493759155, 0.021280847489833832, 0.015680624172091484, 0.07504298537969589, 0.0011200446169823408, 0.06496258825063705, 0.0022400892339646816, 0.038081515580415726, 0.019040757790207863, 0.02800111472606659, 0.02576102502644062, 0.007840312086045742, 0.08064321428537369, 0.06608263403177261, 0.029121158644557, 0.021280847489833832, 0.012320490553975105, 0.035841427743434906, 0.05936236307024956, 0.04480178281664848, 0.010080401785671711, 0.02240089140832424, 0.9382587671279907, 0.9652426838874817, 0.4057757258415222, 0.003353518433868885, 0.06036333367228508, 0.06036333367228508, 0.010060555301606655, 0.11401962488889694, 0.06371685117483139, 0.010060555301606655, 0.19450406730175018, 0.07377740740776062, 0.02390795573592186, 0.09563182294368744, 0.836778461933136, 0.03586193546652794, 0.05345943197607994, 0.5422313809394836, 0.18328948318958282, 0.030548246577382088, 0.12219298630952835, 0.007637061644345522, 0.05345943197607994, 0.004570359364151955, 0.1051182672381401, 0.00914071872830391, 0.16453292965888977, 0.1965254545211792, 0.06398502737283707, 0.22394759953022003, 0.08226646482944489, 0.1051182672381401, 0.04113323241472244, 0.9826871156692505, 0.2764500081539154, 0.5897600054740906, 0.02764500118792057, 0.0921500027179718, 0.11023552715778351, 0.190677672624588, 0.1549256145954132, 0.0655454471707344, 0.1489669382572174, 0.050648756325244904, 0.0208553709089756, 0.0029793386347591877, 0.0029793386347591877, 0.0208553709089756, 0.1400289237499237, 0.047669418156147, 0.0446900799870491, 0.9089992642402649, 0.7619244456291199, 0.04010128602385521, 0.03007596544921398, 0.0902278944849968, 0.07017724961042404, 0.07406982779502869, 0.8394580483436584, 0.024689942598342896, 0.04937988519668579, 0.024529168382287025, 0.024529168382287025, 0.024529168382287025, 0.7726687788963318, 0.12264584004878998, 0.9645849466323853, 0.9872351884841919, 0.9583204984664917, 0.9585298895835876, 0.12517695128917694, 0.017568696290254593, 0.08784347772598267, 0.015372608788311481, 0.07905913144350052, 0.024156956002116203, 0.017568696290254593, 0.17349086701869965, 0.028549131006002426, 0.010980434715747833, 0.14494173228740692, 0.04392173886299133, 0.1625104397535324, 0.0329413041472435, 0.008784348145127296, 0.028549131006002426, 0.9518510103225708, 0.1430293172597885, 0.19070574641227722, 0.047676436603069305, 0.23838219046592712, 0.38141149282455444, 0.9120205640792847, 0.040846507996320724, 0.12253952026367188, 0.02723100408911705, 0.07488526403903961, 0.27911779284477234, 0.013615502044558525, 0.3267720639705658, 0.020423253998160362, 0.06126976013183594, 0.020423253998160362, 0.9060342907905579, 0.06919272989034653, 0.034596364945173264, 0.034596364945173264, 0.6919273138046265, 0.13838545978069305, 0.9180207252502441, 0.1915152370929718, 0.14363643527030945, 0.04787880927324295, 0.5984851121902466, 0.963593065738678, 0.3205133080482483, 0.6562891602516174, 0.04532285034656525, 0.0391981415450573, 0.03797319903969765, 0.09799535572528839, 0.11269465833902359, 0.052672501653432846, 0.0881958156824112, 0.07962122559547424, 0.025723779574036598, 0.0710466280579567, 0.0110244769603014, 0.01959907077252865, 0.056347329169511795, 0.0012249419232830405, 0.08452099561691284, 0.0012249419232830405, 0.046547792851924896, 0.047772735357284546, 0.0391981415450573, 0.0391981415450573, 0.15333445370197296, 0.18039348721504211, 0.07215739041566849, 0.5502001047134399, 0.027059022337198257, 0.8835052847862244, 0.047757044434547424, 0.023878522217273712, 0.023878522217273712, 0.011939261108636856, 0.8633051514625549, 0.04227156192064285, 0.9299743175506592, 0.9569807648658752, 0.947595477104187, 0.9670442938804626, 0.9120172262191772, 0.8963889479637146, 0.9152816534042358, 0.02860255166888237, 0.05720510333776474, 0.9668008089065552, 0.11725392192602158, 0.820777416229248, 0.9518483877182007, 0.1273917406797409, 0.5180597305297852, 0.13588452339172363, 0.02547834813594818, 0.11889895796775818, 0.016985565423965454, 0.05944947898387909, 0.9305990934371948, 0.11991728097200394, 0.8727313280105591, 0.9138766527175903, 0.9018036127090454, 0.04496462270617485, 0.04496462270617485, 0.8093631863594055, 0.14665506780147552, 0.08147504180669785, 0.5132927298545837, 0.008147504180669785, 0.1629500836133957, 0.08147504180669785, 0.952608585357666, 0.10140984505414963, 0.6084591150283813, 0.07605738937854767, 0.15211477875709534, 0.050704922527074814, 0.9782660603523254, 0.01645584963262081, 0.01645584963262081, 0.5183593034744263, 0.36202871799468994, 0.07405132800340652, 0.9714447259902954, 0.7241314053535461, 0.2753739356994629, 0.7893296480178833, 0.060717664659023285, 0.13155493140220642, 0.009620501659810543, 0.32068338990211487, 0.11865285784006119, 0.028861505910754204, 0.012827335856854916, 0.07696401327848434, 0.04810250923037529, 0.06092984601855278, 0.04810250923037529, 0.07696401327848434, 0.016034169122576714, 0.05130934342741966, 0.05772301182150841, 0.0705503448843956, 0.9319779872894287, 0.9638680219650269, 0.008454983122646809, 0.016909966245293617, 0.027706926688551903, 0.12929898500442505, 0.23089104890823364, 0.018471283838152885, 0.17547719180583954, 0.4063682556152344, 0.05715758353471756, 0.6858910322189331, 0.04286818951368332, 0.08573637902736664, 0.01428939588367939, 0.107170470058918, 0.9830214977264404, 0.075648233294487, 0.1788049191236496, 0.02750845067203045, 0.048139788210392, 0.1100338026881218, 0.5639232397079468, 0.048081930726766586, 0.8654747009277344, 0.9675761461257935, 0.8840441107749939, 0.10825029760599136, 0.0421999990940094, 0.1054999902844429, 0.6540999412536621, 0.0632999986410141, 0.1054999902844429, 0.0210999995470047, 0.026288952678442, 0.004381491802632809, 0.30232295393943787, 0.28041547536849976, 0.017525967210531235, 0.08762983977794647, 0.013144476339221, 0.004381491802632809, 0.07448536157608032, 0.1840226650238037, 0.08064896613359451, 0.8871386051177979, 0.9760175347328186, 0.02269808202981949, 0.00496224220842123, 0.09022258967161179, 0.038344599306583405, 0.05097576230764389, 0.014886727556586266, 0.006315581034868956, 0.01894674450159073, 0.03879571333527565, 0.03789348900318146, 0.025713438168168068, 0.05232910066843033, 0.030224567279219627, 0.025713438168168068, 0.020300082862377167, 0.018495630472898483, 0.14029613137245178, 0.07623808830976486, 0.014886727556586266, 0.033833470195531845, 0.0442090705037117, 0.025262324139475822, 0.09022258967161179, 0.04511129483580589, 0.025262324139475822, 0.009022259153425694, 0.011277823708951473, 0.00992448441684246, 0.9457589983940125, 0.008838869631290436, 0.008838869631290436, 0.01767773926258087, 0.9468498826026917, 0.15327933430671692, 0.06569114327430725, 0.7663966417312622, 0.9066258668899536, 0.015513191930949688, 0.06205276772379875, 0.003878297982737422, 0.023269787430763245, 0.1241055354475975, 0.032965533435344696, 0.11053149402141571, 0.032965533435344696, 0.05623532086610794, 0.14155787229537964, 0.1570710688829422, 0.10083574801683426, 0.032965533435344696, 0.06980936229228973, 0.03490468114614487, 0.24414697289466858, 0.02034558169543743, 0.05425488203763962, 0.1017279103398323, 0.25771069526672363, 0.006781860254704952, 0.08138232678174973, 0.1763283759355545, 0.04747302457690239, 0.07567574828863144, 0.15135149657726288, 0.06621628254652023, 0.26486513018608093, 0.387838214635849, 0.05675681307911873, 0.05925305187702179, 0.019751017913222313, 0.07900407165288925, 0.7900407314300537, 0.039502035826444626, 0.18792298436164856, 0.8053842186927795, 0.933384358882904, 0.968145489692688, 0.008893810212612152, 0.3112833797931671, 0.16008858382701874, 0.08004429191350937, 0.10672573000192642, 0.017787620425224304, 0.026681432500481606, 0.2757081389427185, 0.9355766177177429, 0.8654000163078308, 0.08653999865055084, 0.8274405002593994, 0.03940192610025406, 0.07880385220050812, 0.9130753874778748, 0.4331139028072357, 0.04283544048666954, 0.11184809356927872, 0.0023797466419637203, 0.31412655115127563, 0.023797467350959778, 0.038075946271419525, 0.03331645205616951, 0.9223771095275879, 0.9747229218482971, 0.015230045653879642, 0.9280804991722107, 0.9367991089820862, 0.05335120111703873, 0.25608575344085693, 0.49083104729652405, 0.04268096014857292, 0.16005359590053558, 0.9747197031974792, 0.9470036625862122, 0.8668896555900574, 0.05779264494776726, 0.06317228078842163, 0.06317228078842163, 0.6106653809547424, 0.08422970771789551, 0.16845941543579102, 0.37184855341911316, 0.005720746703445911, 0.03432448208332062, 0.5663539171218872, 0.011441493406891823, 0.005720746703445911, 0.9806897640228271, 0.04749346524477005, 0.11873365938663483, 0.8073889017105103, 0.8962929248809814, 0.05601830780506134, 0.059693221002817154, 0.8953983187675476, 0.11486290395259857, 0.8614717721939087, 0.27211683988571167, 0.008445005863904953, 0.18719762563705444, 0.018297512084245682, 0.0014075009385123849, 0.09993256628513336, 0.03143418952822685, 0.029088353738188744, 0.021581681445240974, 0.009852507151663303, 0.018766678869724274, 0.008445005863904953, 0.009852507151663303, 0.03518752381205559, 0.029557520523667336, 0.016890011727809906, 0.03284168988466263, 0.0201741810888052, 0.11635341495275497, 0.016420844942331314, 0.0004691669892054051, 0.008445005863904953, 0.007975839078426361, 0.008241045288741589, 0.07966344058513641, 0.0521932877600193, 0.22800225019454956, 0.48347464203834534, 0.054940301924943924, 0.06592836230993271, 0.027470150962471962, 0.9098299145698547, 0.045491497963666916, 0.9737629890441895, 0.911827027797699, 0.894536554813385, 0.05867666006088257, 0.8801499009132385, 0.7233891487121582, 0.25835326313972473, 0.940669059753418, 0.9504912495613098, 0.966215193271637, 0.07093939185142517, 0.023646464571356773, 0.7803333401679993, 0.0945858582854271, 0.9880030155181885, 0.09587647765874863, 0.04930790513753891, 0.035611264407634735, 0.12874841690063477, 0.10135513544082642, 0.01643596775829792, 0.08765849471092224, 0.08491916954517365, 0.035611264407634735, 0.03835059329867363, 0.02191462367773056, 0.046568576246500015, 0.046568576246500015, 0.04930790513753891, 0.1616203486919403, 0.10831641405820847, 0.3971601724624634, 0.4910343885421753, 0.927505612373352, 0.9092340469360352, 0.04523113742470741, 0.022615568712353706, 0.9046227335929871, 0.8266428112983704, 0.11021903902292252, 0.02755475975573063, 0.9655277132987976, 0.09127559512853622, 0.12170079350471497, 0.7606299519538879, 0.032668035477399826, 0.29401230812072754, 0.17150717973709106, 0.08167008310556412, 0.40018340945243835, 0.008167008869349957, 0.12921378016471863, 0.8686037063598633, 0.9063944220542908, 0.9433149099349976, 0.029478590935468674, 0.9414838552474976, 0.9236876964569092, 0.9711001515388489, 0.03706929087638855, 0.8711283206939697, 0.018534645438194275, 0.0741385817527771, 0.9527826905250549, 0.9500049948692322, 0.02878803014755249, 0.499024361371994, 0.4918954372406006, 0.05980142578482628, 0.03588085621595383, 0.023920569568872452, 0.1435234248638153, 0.07176171243190765, 0.22724542021751404, 0.4305702745914459, 0.9757610559463501, 0.9550893902778625, 0.837580680847168, 0.024634724482893944, 0.09853889793157578, 0.167893648147583, 0.0839468240737915, 0.7135480046272278, 0.5098528265953064, 0.09775938838720322, 0.1534070372581482, 0.006015962455421686, 0.09625539928674698, 0.02556784078478813, 0.02556784078478813, 0.022559858858585358, 0.06166361644864082, 0.986196756362915, 0.9519275426864624, 0.9558649063110352, 0.015931081026792526, 0.015931081026792526, 0.8438137769699097, 0.11774145811796188, 0.01962357573211193, 0.0847252756357193, 0.1573469489812851, 0.012103610672056675, 0.0847252756357193, 0.28443485498428345, 0.3146938979625702, 0.012103610672056675, 0.0181554164737463, 0.012103610672056675, 0.012103610672056675, 0.1105838194489479, 0.8293786644935608, 0.9849885702133179, 0.1278516948223114, 0.08523446321487427, 0.75290447473526, 0.014205744490027428, 0.9290056824684143, 0.9352110624313354, 0.05566732585430145, 0.006439928896725178, 0.09015900641679764, 0.07083921879529953, 0.2704769968986511, 0.03863957151770592, 0.30267664790153503, 0.01931978575885296, 0.10303886234760284, 0.09015900641679764, 0.6062020063400269, 0.14207860827445984, 0.10419097542762756, 0.14681455492973328, 0.9096288681030273, 0.925854504108429, 0.0322442427277565, 0.2753162384033203, 0.049606528133153915, 0.08433110266923904, 0.022322937846183777, 0.09177207946777344, 0.128976970911026, 0.02976391837000847, 0.017362285405397415, 0.014881959185004234, 0.10417371243238449, 0.0322442427277565, 0.044645875692367554, 0.06944914162158966, 0.7780555486679077, 0.19832788407802582, 0.96702641248703, 0.29987072944641113, 0.2204931676387787, 0.4498060643672943, 0.01763945445418358, 0.9502052664756775, 0.9929126501083374, 0.9209862351417542, 0.12241008132696152, 0.8323885202407837, 0.024482015520334244, 0.6394174695014954, 0.3552319407463074, 0.9476945996284485, 0.911827027797699, 0.9619957804679871, 0.9552905559539795, 0.937550961971283, 0.9447429180145264, 0.0242241770029068, 0.0778181254863739, 0.8949084877967834, 0.012560081668198109, 0.4898431897163391, 0.1130407378077507, 0.0753604918718338, 0.2512016296386719, 0.0376802459359169, 0.08394499123096466, 0.3407178819179535, 0.04937940463423729, 0.10863468796014786, 0.03950352221727371, 0.27158671617507935, 0.019751761108636856, 0.08394499123096466, 0.14360609650611877, 0.8329153656959534, 0.08410727232694626, 0.05607151240110397, 0.7289296984672546, 0.05607151240110397, 0.05607151240110397, 0.9699292778968811, 0.11442604660987854, 0.08173289149999619, 0.7846357226371765, 0.05165540426969528, 0.06574324518442154, 0.03756756708025932, 0.06104729697108269, 0.0798310786485672, 0.023479729890823364, 0.09861486405134201, 0.258277028799057, 0.07043918967247009, 0.1784459352493286, 0.004695945885032415, 0.028175674378871918, 0.03287162259221077, 0.1708616465330124, 0.8054906129837036, 0.9801708459854126, 0.9833894371986389, 0.9268818497657776, 0.05669758841395378, 0.8788126707077026, 0.04252319410443306, 0.9773560762405396, 0.7299954295158386, 0.17804767191410065, 0.08902383595705032, 0.963593065738678, 0.435451477766037, 0.06948693841695786, 0.009264925494790077, 0.02316231280565262, 0.02779477648437023, 0.08801679313182831, 0.013897388242185116, 0.08338432759046555, 0.1667686551809311, 0.07411940395832062, 0.9085617065429688, 0.9680147171020508, 0.019755402579903603, 0.9933618903160095, 0.047190841287374496, 0.8966259956359863, 0.08843918889760971, 0.12381486594676971, 0.14150270819664001, 0.053063515573740005, 0.5660108327865601, 0.07725806534290314, 0.1158870980143547, 0.7146371006965637, 0.019314516335725784, 0.05794354900717735, 0.027099061757326126, 0.08129718899726868, 0.13549530506134033, 0.7587737441062927, 0.9668011665344238, 0.41512516140937805, 0.05535002425312996, 0.00922500342130661, 0.04612502083182335, 0.3874501585960388, 0.07380002737045288, 0.990885317325592, 0.06882420927286148, 0.14529554545879364, 0.355591744184494, 0.1720605194568634, 0.06500063836574554, 0.042059239000082016, 0.11853057891130447, 0.026764968410134315, 0.08642661571502686, 0.8642661571502686, 0.947153627872467, 0.0926879420876503, 0.8650875091552734, 0.9763694405555725, 0.9028686881065369, 0.11258864402770996, 0.1054021343588829, 0.08863361179828644, 0.05270106717944145, 0.02874603681266308, 0.07665609568357468, 0.07186508923768997, 0.02874603681266308, 0.009582011960446835, 0.023955030366778374, 0.20361776649951935, 0.04072355106472969, 0.0023955029901117086, 0.01437301840633154, 0.016768520697951317, 0.07665609568357468, 0.00718650920316577, 0.03114154003560543, 0.00718650920316577, 0.0023955029901117086, 0.005854019895195961, 0.08781030029058456, 0.035124119371175766, 0.09366431832313538, 0.06439422070980072, 0.1053723618388176, 0.017562059685587883, 0.12878844141960144, 0.18147462606430054, 0.24586884677410126, 0.023416079580783844, 0.011708039790391922, 0.017169812694191933, 0.8584906458854675, 0.017169812694191933, 0.08584906160831451, 0.0408143550157547, 0.897915780544281, 0.0408143550157547, 0.02040717750787735, 0.0652201920747757, 0.8478625416755676, 0.23191863298416138, 0.0242705550044775, 0.025618920102715492, 0.11595931649208069, 0.19416444003582, 0.009438549168407917, 0.07011494040489197, 0.051237840205430984, 0.04988947510719299, 0.00404509250074625, 0.03640583157539368, 0.021573826670646667, 0.025618920102715492, 0.0242705550044775, 0.017528735101222992, 0.026967283338308334, 0.0080901850014925, 0.009438549168407917, 0.010786913335323334, 0.0013483641669154167, 0.03910256177186966, 0.9628020524978638, 0.9639562368392944, 0.5501667857170105, 0.0960608646273613, 0.18338891863822937, 0.1309920847415924, 0.03493122383952141, 0.9524259567260742, 0.09264838695526123, 0.0741187110543251, 0.02779451571404934, 0.03705935552716255, 0.02779451571404934, 0.7319222688674927, 0.9137572050094604, 0.5806530117988586, 0.016472425311803818, 0.12903399765491486, 0.002745404141023755, 0.04255376383662224, 0.015099722892045975, 0.012354318983852863, 0.02196323312819004, 0.008236212655901909, 0.02608134038746357, 0.020590532571077347, 0.015099722892045975, 0.01098161656409502, 0.002745404141023755, 0.07549861818552017, 0.01784512773156166, 0.6248414516448975, 0.016139816492795944, 0.05072513595223427, 0.05072513595223427, 0.011528439819812775, 0.106061652302742, 0.06225357577204704, 0.0461137592792511, 0.029973944649100304, 0.9689323306083679, 0.9138040542602539, 0.035146307200193405, 0.0431697815656662, 0.863395631313324, 0.0431697815656662, 0.0272400863468647, 0.03632011264562607, 0.42676132917404175, 0.5084816217422485, 0.49957817792892456, 0.15895669162273407, 0.17031075060367584, 0.1476026475429535, 0.9542997479438782, 0.9343900084495544, 0.010313035920262337, 0.09281732141971588, 0.010313035920262337, 0.12375643104314804, 0.5981560945510864, 0.1546955406665802, 0.17530128359794617, 0.7596389055252075, 0.9143881797790527, 0.05802002176642418, 0.01934000663459301, 0.01289333775639534, 0.11604004353284836, 0.6833469271659851, 0.01934000663459301, 0.04512668401002884, 0.03868001326918602, 0.02333914116024971, 0.00744866207242012, 0.027311760932207108, 0.08739763498306274, 0.05760298669338226, 0.02979464828968048, 0.011917859315872192, 0.12712383270263672, 0.04866459220647812, 0.022842563688755035, 0.0392296202480793, 0.011917859315872192, 0.052637211978435516, 0.05114747956395149, 0.012911014258861542, 0.05412694439291954, 0.028304915875196457, 0.033270690590143204, 0.019863098859786987, 0.0352570004761219, 0.061079028993844986, 0.10726073384284973, 0.00844181701540947, 0.0024828873574733734, 0.00744866207242012, 0.0009931549429893494, 0.011917859315872192, 0.018373366445302963, 0.9255106449127197, 0.9465397596359253, 0.03263930231332779, 0.9742651581764221, 0.07624263316392899, 0.03812131658196449, 0.10673968493938446, 0.770050585269928, 0.021655377000570297, 0.08662150800228119, 0.6929720640182495, 0.12993226945400238, 0.06496613472700119, 0.2880047559738159, 0.04301369935274124, 0.1973019689321518, 0.0009350804029963911, 0.051429420709609985, 0.014961286447942257, 0.0074806432239711285, 0.03085765242576599, 0.017766527831554413, 0.014961286447942257, 0.019636688753962517, 0.0018701608059927821, 0.08602739870548248, 0.008415723219513893, 0.05984514579176903, 0.0065455627627670765, 0.06639070808887482, 0.044883858412504196, 0.020571768283843994, 0.019636688753962517, 0.07224532216787338, 0.13244976103305817, 0.012040887027978897, 0.7706167697906494, 0.41563013195991516, 0.06276293843984604, 0.2845253050327301, 0.02928937040269375, 0.02371044270694256, 0.03905249387025833, 0.0822891891002655, 0.0013947319239377975, 0.05299981310963631, 0.0013947319239377975, 0.0013947319239377975, 0.00557892769575119, 0.10734407603740692, 0.7782445549964905, 0.08050805330276489, 0.9497211575508118, 0.04012351855635643, 0.942902684211731, 0.013217420317232609, 0.9780890941619873, 0.04398251324892044, 0.7477027177810669, 0.03298688307404518, 0.1649344265460968, 0.9864253401756287, 0.10864531248807907, 0.06685864925384521, 0.1128239780664444, 0.06267998367547989, 0.10028798133134842, 0.004178665578365326, 0.07939464598894119, 0.02925066091120243, 0.09193065017461777, 0.2548986077308655, 0.07103731483221054, 0.016714662313461304, 0.009910885244607925, 0.06937619298696518, 0.33697009086608887, 0.09910885244607925, 0.44598981738090515, 0.0396435409784317, 0.05864982679486275, 0.8210976123809814, 0.05864982679486275, 0.9382587671279907, 0.12461177259683609, 0.8515138030052185, 0.9474932551383972, 0.036442048847675323, 0.9458450675010681, 0.03152816742658615, 0.159496009349823, 0.1429964154958725, 0.0054998621344566345, 0.1264968365430832, 0.28049296140670776, 0.07149820774793625, 0.07149820774793625, 0.021999448537826538, 0.10999724268913269, 0.0054998621344566345, 0.961675226688385, 0.0454832948744297, 0.17820504307746887, 0.19535447657108307, 0.09022096544504166, 0.020877577364444733, 0.15583620965480804, 0.03355325013399124, 0.05815896764397621, 0.013421299867331982, 0.013421299867331982, 0.023114461451768875, 0.08351030945777893, 0.025351345539093018, 0.0007456277962774038, 0.04250078275799751, 0.020877577364444733, 0.015518123283982277, 0.15518122911453247, 0.13966311514377594, 0.6827974319458008, 0.18805523216724396, 0.7790859937667847, 0.06569971889257431, 0.032849859446287155, 0.6569971442222595, 0.2299489974975586, 0.026925571262836456, 0.1000092625617981, 0.03590076044201851, 0.017950380221009254, 0.04615812376141548, 0.2307906150817871, 0.010257360525429249, 0.04615812376141548, 0.0294899120926857, 0.010257360525429249, 0.06026199460029602, 0.014103870838880539, 0.06154416501522064, 0.06282633543014526, 0.024361232295632362, 0.06154416501522064, 0.05256897211074829, 0.05769765377044678, 0.02307906188070774, 0.00769302062690258, 0.020514721050858498, 0.2847787141799927, 0.7000809907913208, 0.06994893401861191, 0.0022276730742305517, 0.01960352249443531, 0.051682014018297195, 0.041880249977111816, 0.18712453544139862, 0.06816679239273071, 0.03519723191857338, 0.04544452950358391, 0.03296956047415733, 0.08509710431098938, 0.01960352249443531, 0.007128553465008736, 0.02450440265238285, 0.023167798295617104, 0.008910692296922207, 0.008465156890451908, 0.02450440265238285, 0.02004905603826046, 0.05569182336330414, 0.0253954716026783, 0.01915798708796501, 0.074404276907444, 0.005791949573904276, 0.014257106930017471, 0.028514213860034943, 0.15608973801136017, 0.007804486900568008, 0.007804486900568008, 0.001560897333547473, 0.10614102333784103, 0.14672435820102692, 0.0561923049390316, 0.08897115290164948, 0.06867948174476624, 0.04682692140340805, 0.001560897333547473, 0.12018910050392151, 0.0280961524695158, 0.02965705096721649, 0.0374615378677845, 0.07804486900568008, 0.0140480762347579, 0.9641269445419312, 0.7087316513061523, 0.05249863862991333, 0.20999455451965332, 0.035712502896785736, 0.015872223302721977, 0.11904167383909225, 0.04960069805383682, 0.07340902835130692, 0.20237083733081818, 0.025792362168431282, 0.035712502896785736, 0.07539305835962296, 0.15872223675251007, 0.017856251448392868, 0.07539305835962296, 0.02380833402276039, 0.029760418459773064, 0.055552780628204346, 0.04308672994375229, 0.08617345988750458, 0.021543364971876144, 0.8186478614807129, 0.89400714635849, 0.047053009271621704, 0.038330078125, 0.19459885358810425, 0.1533203125, 0.07371168583631516, 0.058969348669052124, 0.06486628204584122, 0.17395958304405212, 0.050123948603868484, 0.026536207646131516, 0.06781475245952606, 0.017690805718302727, 0.02358774095773697, 0.041278544813394547, 0.017690805718302727, 0.1719469577074051, 0.4203147888183594, 0.0382104329764843, 0.06495773792266846, 0.24836783111095428, 0.05349460989236832, 0.9370164275169373, 0.70412278175354, 0.057479411363601685, 0.014369852840900421, 0.10058896988630295, 0.057479411363601685, 0.03592463210225105, 0.02155477926135063, 0.1818757951259613, 0.033068325370550156, 0.10747206211090088, 0.10747206211090088, 0.20667703449726105, 0.10747206211090088, 0.016534162685275078, 0.23147828876972198, 0.9037969708442688, 0.04518984630703926, 0.937471330165863, 0.9549208283424377, 0.08624661713838577, 0.06468496471643448, 0.06468496471643448, 0.021561654284596443, 0.1617124080657959, 0.4420138895511627, 0.15093158185482025, 0.04493649676442146, 0.21906542778015137, 0.275236040353775, 0.3707261085510254, 0.0617876835167408, 0.02246824838221073, 0.023961002007126808, 0.5031810402870178, 0.05590900406241417, 0.4073370397090912, 0.0184306763112545, 0.1658760905265808, 0.0184306763112545, 0.00921533815562725, 0.0230383463203907, 0.0645073726773262, 0.2580294907093048, 0.01382300816476345, 0.1382300853729248, 0.004607669077813625, 0.0230383463203907, 0.1428377479314804, 0.0414690226316452, 0.073722705245018, 0.6527862548828125, 0.19379591941833496, 0.02039957046508789, 0.12239742279052734, 0.9628027677536011, 0.9675808548927307, 0.7047107815742493, 0.2727912664413452, 0.9234073162078857, 0.8221099376678467, 0.14680534601211548, 0.826782763004303, 0.1585610806941986, 0.9683423638343811, 0.940981924533844, 0.18032583594322205, 0.00667873490601778, 0.11353848874568939, 0.09350229054689407, 0.00667873490601778, 0.03339367359876633, 0.05342987924814224, 0.06010861322283745, 0.02671493962407112, 0.34061548113822937, 0.05342987924814224, 0.03339367359876633, 0.0623360201716423, 0.9142616391181946, 0.08960731327533722, 0.45443710684776306, 0.4480365812778473, 0.025590509176254272, 0.20472407341003418, 0.7421247363090515, 0.9478642344474792, 0.9351815581321716, 0.1430838406085968, 0.7440360188484192, 0.0858503058552742, 0.09156575053930283, 0.8698746562004089, 0.022891437634825706, 0.9037670493125916, 0.9896961450576782, 0.9137572050094604, 0.904560923576355, 0.9655277132987976, 0.048452191054821014, 0.9205916523933411, 0.1339896321296692, 0.017733922228217125, 0.0748765617609024, 0.025615664198994637, 0.1753687858581543, 0.06896524876356125, 0.16354617476463318, 0.045320022851228714, 0.007881742902100086, 0.1083739697933197, 0.06502438336610794, 0.031526971608400345, 0.009852178394794464, 0.031526971608400345, 0.03546784445643425, 0.0019704357255250216, 0.05091919004917145, 0.059904929250478745, 0.14377182722091675, 0.05091919004917145, 0.2126625031232834, 0.05391443893313408, 0.017971478402614594, 0.005990493111312389, 0.15275757014751434, 0.005990493111312389, 0.04193345084786415, 0.1018383800983429, 0.02695721946656704, 0.07188591361045837, 0.9011582136154175, 0.9696127772331238, 0.01795579120516777, 0.8787907958030701, 0.9552905559539795, 0.9232203960418701, 0.030774014070630074, 0.8188481330871582, 0.10436299443244934, 0.03211168944835663, 0.03211168944835663, 0.9723238945007324, 0.9493134021759033, 0.1452551633119583, 0.10894136875867844, 0.09986291825771332, 0.6445697546005249, 0.894604504108429, 0.9279077649116516, 0.9296712875366211, 0.05596071481704712, 0.8953714370727539, 0.17791038751602173, 0.050831541419029236, 0.08895519375801086, 0.050831541419029236, 0.012707885354757309, 0.050831541419029236, 0.03812365606427193, 0.50831538438797, 0.006234076805412769, 0.5136879086494446, 0.07605573534965515, 0.07979618012905121, 0.014961783774197102, 0.0012468153145164251, 0.0461321659386158, 0.006234076805412769, 0.03366401419043541, 0.017455413937568665, 0.02244267612695694, 0.009974522516131401, 0.024936307221651077, 0.03366401419043541, 0.03366401419043541, 0.02368949167430401, 0.019949045032262802, 0.024936307221651077, 0.012468153610825539, 0.963114857673645, 0.9523376226425171, 0.9089530110359192, 0.9513734579086304, 0.9315376877784729, 0.0987086370587349, 0.8813271522521973, 0.014101234264671803, 0.9658019542694092, 0.02414504811167717, 0.09343723952770233, 0.10678541660308838, 0.787542462348938, 0.013348177075386047, 0.10652036964893341, 0.05639313906431198, 0.025063617154955864, 0.11278627812862396, 0.03759542480111122, 0.1754453182220459, 0.08772265911102295, 0.2694338858127594, 0.13158398866653442, 0.9108906388282776, 0.06946078687906265, 0.046307191252708435, 0.046307191252708435, 0.5325326919555664, 0.3009967505931854, 0.08785830438137054, 0.06833423674106598, 0.013016045093536377, 0.09436632692813873, 0.0553181916475296, 0.07484225928783417, 0.05206418037414551, 0.08135028183460236, 0.042302146553993225, 0.10412836074829102, 0.0553181916475296, 0.14317649602890015, 0.08135028183460236, 0.02277807891368866, 0.019524067640304565, 0.29282599687576294, 0.08705637603998184, 0.2532549202442169, 0.03957108035683632, 0.03957108035683632, 0.2690833508968353, 0.015828432515263557, 0.9553321003913879, 0.027331965044140816, 0.14056439697742462, 0.09175731241703033, 0.03904566541314125, 0.0019522832008078694, 0.06247306242585182, 0.1229938417673111, 0.0370933823287487, 0.03318881615996361, 0.10932786017656326, 0.042950231581926346, 0.04880708083510399, 0.02342739887535572, 0.029284248128533363, 0.05466393008828163, 0.02342739887535572, 0.029284248128533363, 0.0780913308262825, 0.003904566401615739, 0.9147633910179138, 0.15145784616470337, 0.04093455150723457, 0.1637382060289383, 0.012280365452170372, 0.04502800479531288, 0.06140182539820671, 0.020467275753617287, 0.008186910301446915, 0.053214915096759796, 0.1678316593170166, 0.020467275753617287, 0.06549528241157532, 0.15964475274085999, 0.020467275753617287, 0.1039668396115303, 0.40101492404937744, 0.49012938141822815, 0.08544868975877762, 0.3631569445133209, 0.0801081508398056, 0.010681086219847202, 0.13885411620140076, 0.08544868975877762, 0.14419466257095337, 0.08544868975877762, 0.9017509818077087, 0.19080595672130585, 0.1431044638156891, 0.6519203782081604, 0.9357438683509827, 0.964414119720459, 0.2057790458202362, 0.1161181777715683, 0.052914611995220184, 0.06761311739683151, 0.15580414235591888, 0.06761311739683151, 0.0073492517694830894, 0.03086685761809349, 0.0073492517694830894, 0.04703520983457565, 0.0014698503073304892, 0.058794014155864716, 0.07937192171812057, 0.008819102309644222, 0.004409551154822111, 0.013228652998805046, 0.029397007077932358, 0.0014698503073304892, 0.03233670815825462, 0.011758802458643913, 0.14910520613193512, 0.3884583115577698, 0.01177146378904581, 0.07062878459692001, 0.054933495819568634, 0.06278114020824432, 0.04708585515618324, 0.02354292757809162, 0.13733375072479248, 0.05885731801390648, 0.9916346669197083, 0.9712878465652466, 0.8783144354820251, 0.045626722276210785, 0.06273674219846725, 0.005703340284526348, 0.11108628660440445, 0.0025834019761532545, 0.39009371399879456, 0.12141989171504974, 0.04133443161845207, 0.0025834019761532545, 0.0671684518456459, 0.05425144359469414, 0.04908463731408119, 0.04908463731408119, 0.06458505243062973, 0.020667215809226036, 0.02325061708688736, 0.9769952893257141, 0.9326156377792358, 0.051811978220939636, 0.1844443529844284, 0.08607403188943863, 0.7254811525344849, 0.047930583357810974, 0.1917223334312439, 0.10384959727525711, 0.39143311977386475, 0.11183802783489227, 0.055919013917446136, 0.03195372223854065, 0.0639074444770813, 0.956321120262146, 0.6282250285148621, 0.36452561616897583, 0.020087430253624916, 0.14061200618743896, 0.010043715126812458, 0.26113659143447876, 0.4620108902454376, 0.07030600309371948, 0.03013114631175995, 0.1372566670179367, 0.04334421083331108, 0.3973219394683838, 0.2167210578918457, 0.1950489580631256, 0.9352010488510132, 0.9593824744224548, 0.053206901997327805, 0.6278414726257324, 0.15962070226669312, 0.1489793211221695, 0.9769254922866821, 0.9011574387550354, 0.9558735489845276, 0.012083856388926506, 0.03625157102942467, 0.09667085111141205, 0.20542556047439575, 0.6283605694770813, 0.044240519404411316, 0.9290509223937988, 0.9564846158027649, 0.8985577821731567, 0.9424331188201904, 0.914810061454773, 0.05283060669898987, 0.1479257047176361, 0.7924591302871704, 0.6581344604492188, 0.0499848946928978, 0.0499848946928978, 0.0249924473464489, 0.0499848946928978, 0.0416540801525116, 0.12496224045753479, 0.12554629147052765, 0.11413300037384033, 0.7532777786254883, 0.9705320596694946, 0.11252524703741074, 0.8833231925964355, 0.9772319793701172, 0.014695217832922935, 0.8048951625823975, 0.18445514142513275, 0.01579577848315239, 0.039489444345235825, 0.01579577848315239, 0.001128269825130701, 0.04174598306417465, 0.07559408247470856, 0.027078475803136826, 0.13990545272827148, 0.074465811252594, 0.03159155696630478, 0.025950206443667412, 0.01579577848315239, 0.020308857783675194, 0.05641349032521248, 0.08913331478834152, 0.0959029346704483, 0.01918058656156063, 0.04061771556735039, 0.029335016384720802, 0.007897889241576195, 0.04400252178311348, 0.06882446259260178, 0.01579577848315239, 0.006769618950784206, 0.01609141007065773, 0.12068558484315872, 0.4344680905342102, 0.4183766841888428, 0.9493134021759033, 0.9824250936508179, 0.7706682085990906, 0.20104388892650604, 0.9713121056556702, 0.07906534522771835, 0.2446751892566681, 0.13783012330532074, 0.011752956546843052, 0.052354078739881516, 0.11432421952486038, 0.016026759520173073, 0.03525887057185173, 0.037395771592855453, 0.023505913093686104, 0.01068450603634119, 0.019232111051678658, 0.02136901207268238, 0.03419042006134987, 0.018163660541176796, 0.007479154504835606, 0.02136901207268238, 0.038464222103357315, 0.025642814114689827, 0.04701182618737221, 0.005342253018170595, 0.9427973031997681, 0.0813763439655304, 0.1627526879310608, 0.027125447988510132, 0.7052616477012634, 0.9322448968887329, 0.9665847420692444, 0.9154159426689148, 0.9574006199836731, 0.9456315040588379, 0.965525209903717, 0.955001175403595, 0.9715811610221863, 0.07063594460487366, 0.2648847997188568, 0.6357235312461853, 0.1583457589149475, 0.7917287945747375, 0.5959419012069702, 0.06621576845645905, 0.16439776122570038, 0.009133209474384785, 0.011416511610150337, 0.009133209474384785, 0.004566604737192392, 0.011416511610150337, 0.002283302368596196, 0.050232648849487305, 0.009133209474384785, 0.015983115881681442, 0.025116324424743652, 0.022833023220300674, 0.18891534209251404, 0.1563437283039093, 0.3029159605503082, 0.039085932075977325, 0.02605728805065155, 0.05862889811396599, 0.006514322012662888, 0.1628580540418625, 0.055371735244989395, 0.14357401430606842, 0.028714802116155624, 0.7752996683120728, 0.9028236269950867, 0.03817559406161308, 0.9162142872810364, 0.9346619844436646, 0.9719008207321167, 0.4425094723701477, 0.03839123249053955, 0.03839123249053955, 0.0020205911714583635, 0.060617733746767044, 0.008082364685833454, 0.016164729371666908, 0.03839123249053955, 0.09294719249010086, 0.040411822497844696, 0.022226503118872643, 0.030308866873383522, 0.030308866873383522, 0.07072069495916367, 0.06870009750127792, 0.10831629484891891, 0.05054760351777077, 0.1552533507347107, 0.021663257852196693, 0.07943195104598999, 0.04332651570439339, 0.025273801758885384, 0.10470575094223022, 0.05415814742445946, 0.06137923151254654, 0.032494887709617615, 0.08665303140878677, 0.16247443854808807, 0.010831628926098347, 0.979119062423706, 0.0023383277002722025, 0.005845819599926472, 0.12860803306102753, 0.11107057332992554, 0.01636829413473606, 0.01987578719854355, 0.03507491573691368, 0.004676655400544405, 0.042089901864528656, 0.07599565386772156, 0.03273658826947212, 0.023383278399705887, 0.025721605867147446, 0.028059933334589005, 0.08067230880260468, 0.07599565386772156, 0.03741324320435524, 0.05611986666917801, 0.01753745786845684, 0.04793572053313255, 0.06547317653894424, 0.042089901864528656, 0.025721605867147446, 0.84669029712677, 0.07697184383869171, 0.038485921919345856, 0.9598172903060913, 0.7079442143440247, 0.019556470215320587, 0.007822588086128235, 0.01564517617225647, 0.027379058301448822, 0.027379058301448822, 0.1760082244873047, 0.01564517617225647, 0.1427096575498581, 0.8205804824829102, 0.0755404680967331, 0.11179989576339722, 0.3958320617675781, 0.003021618817001581, 0.06345399469137192, 0.05136752128601074, 0.009064856916666031, 0.045324284583330154, 0.036259427666664124, 0.10877827554941177, 0.05438913777470589, 0.0483459010720253, 0.9311858415603638, 0.9197127223014832, 0.9758648872375488, 0.9599272608757019, 0.9197731614112854, 0.9569807648658752, 0.14934976398944855, 0.8214236497879028, 0.561358630657196, 0.011694971472024918, 0.16372959315776825, 0.1286446899175644, 0.1286446899175644, 0.34696537256240845, 0.043370671570301056, 0.5855040550231934, 0.9798776507377625, 0.9257634878158569, 0.9469723105430603, 0.9493800401687622, 0.1086142510175705, 0.020887356251478195, 0.007310574408620596, 0.05952896177768707, 0.03341976925730705, 0.043863445520401, 0.0010443677892908454, 0.02610919438302517, 0.014621148817241192, 0.02402045950293541, 0.02402045950293541, 0.22558343410491943, 0.03550850600004196, 0.06266206502914429, 0.10548114776611328, 0.025064826011657715, 0.09608183801174164, 0.011488045565783978, 0.038641609251499176, 0.014621148817241192, 0.020887356251478195, 0.0010443677892908454, 0.033434245735406876, 0.8915799260139465, 0.04457899555563927, 0.022289497777819633, 0.9132760763168335, 0.5088799595832825, 0.028271110728383064, 0.03769481182098389, 0.07538962364196777, 0.1696266531944275, 0.12250814586877823, 0.04711851850152016, 0.036351848393678665, 0.04543980956077576, 0.23628699779510498, 0.5543656349182129, 0.11814349889755249, 0.10661262273788452, 0.035537540912628174, 0.8351321816444397, 0.04776347801089287, 0.2865808606147766, 0.07960579544305801, 0.015921158716082573, 0.5731617212295532, 0.28251075744628906, 0.08475323021411896, 0.5932726263999939, 0.9517292976379395, 0.880848228931427, 0.039456807076931, 0.7694077491760254, 0.157827228307724, 0.9281937479972839, 0.9325557947158813, 0.028259266167879105, 0.18971940875053406, 0.7859804034233093, 0.026051700115203857, 0.9639129042625427, 0.9494110941886902, 0.18239688873291016, 0.7751867771148682, 0.9143769145011902, 0.06956198066473007, 0.034780990332365036, 0.8695247173309326, 0.42726758122444153, 0.3987830877304077, 0.17090703547000885, 0.8938276767730713, 0.07005611062049866, 0.056044887751340866, 0.04203366860747337, 0.8126509189605713, 0.014011221937835217, 0.6074672937393188, 0.09996297210454941, 0.053826212882995605, 0.09996297210454941, 0.053826212882995605, 0.0346025675535202, 0.049981486052274704, 0.0618099719285965, 0.8653395771980286, 0.9736273288726807, 0.9165450930595398, 0.31463560461997986, 0.6686006784439087, 0.003538438118994236, 0.8138407468795776, 0.03892282024025917, 0.04953813552856445, 0.007076876237988472, 0.053076572716236115, 0.028307504951953888, 0.9267539381980896, 0.1534617692232132, 0.0383654423058033, 0.6905779242515564, 0.0767308846116066, 0.3826514184474945, 0.12477763742208481, 0.37433290481567383, 0.10814061760902405, 0.9141573309898376, 0.053021837025880814, 0.23248036205768585, 0.028550218790769577, 0.036707423627376556, 0.24063755571842194, 0.028550218790769577, 0.020393013954162598, 0.020393013954162598, 0.11012227088212967, 0.012235808186233044, 0.008157205767929554, 0.08157205581665039, 0.12643668055534363, 0.16940529644489288, 0.20328634977340698, 0.00423513213172555, 0.029645925387740135, 0.2414025366306305, 0.02117566205561161, 0.06352698802947998, 0.08470264822244644, 0.05929185077548027, 0.05505672097206116, 0.0677621141076088, 0.9719220399856567, 0.9138766527175903, 0.1435367614030838, 0.8325132131576538, 0.1846691071987152, 0.6859138607978821, 0.013190650381147861, 0.0923345535993576, 0.9175602793693542, 0.06680706888437271, 0.8016847968101501, 0.06680706888437271, 0.033403534442186356, 0.48678910732269287, 0.49927088618278503, 0.003820368554443121, 0.0324731320142746, 0.009550921618938446, 0.10314995050430298, 0.01337128970772028, 0.02674257941544056, 0.11843142658472061, 0.019101843237876892, 0.4317016303539276, 0.036293499171733856, 0.003820368554443121, 0.036293499171733856, 0.11652123928070068, 0.038203686475753784, 0.007640737108886242, 0.9518032670021057, 0.07170698046684265, 0.19556449353694916, 0.07561827450990677, 0.019556449726223946, 0.037809137254953384, 0.06518816947937012, 0.03520160913467407, 0.03259408473968506, 0.10560482740402222, 0.006518816575407982, 0.08604837954044342, 0.05084677040576935, 0.009126342833042145, 0.03650537133216858, 0.058669351041316986, 0.026075266301631927, 0.013037633150815964, 0.007822579704225063, 0.03520160913467407, 0.006518816575407982, 0.02216397598385811, 0.9304185509681702, 0.9699800610542297, 0.9398767948150635, 0.9699258804321289, 0.024368416517972946, 0.08060322701931, 0.011246961541473866, 0.046862341463565826, 0.05248581990599632, 0.14621050655841827, 0.03561537712812424, 0.011246961541473866, 0.09372468292713165, 0.08435221016407013, 0.01312145497649908, 0.03561537712812424, 0.02999189682304859, 0.3074169456958771, 0.02624290995299816, 0.001874493551440537, 0.9061819911003113, 0.14855170249938965, 0.17140580713748932, 0.13712464272975922, 0.5370715260505676, 0.08999402821063995, 0.08570859581232071, 0.34283438324928284, 0.03428344056010246, 0.07713773846626282, 0.0942794606089592, 0.12856289744377136, 0.06428144872188568, 0.07713773846626282, 0.008570860140025616, 0.9738871455192566, 0.317955881357193, 0.07570378482341766, 0.3330966532230377, 0.007570378482341766, 0.25739285349845886, 0.1165471002459526, 0.854678750038147, 0.04136606305837631, 0.03423398360610008, 0.0798792913556099, 0.134083092212677, 0.03851322829723358, 0.0014264158671721816, 0.02139623835682869, 0.10412836074829102, 0.05563022196292877, 0.17830199003219604, 0.0713207945227623, 0.05563022196292877, 0.022822653874754906, 0.027101902291178703, 0.005705663468688726, 0.00427924795076251, 0.0798792913556099, 0.01711699180305004, 0.019969822838902473, 0.00427924795076251, 0.9657120108604431, 0.012023732997477055, 0.38475945591926575, 0.09218195080757141, 0.13226105272769928, 0.004007910843938589, 0.1963876336812973, 0.052102841436862946, 0.06813448667526245, 0.052102841436862946, 0.07669558376073837, 0.05413806065917015, 0.26166731119155884, 0.4015239477157593, 0.004511504899710417, 0.06767257302999496, 0.013534515164792538, 0.08120708912611008, 0.03158053755760193, 0.87630295753479, 0.14196977019309998, 0.07985799759626389, 0.04436555504798889, 0.09760422259569168, 0.12422355264425278, 0.15971599519252777, 0.33717823028564453, 0.008873110637068748, 0.24808549880981445, 0.719447910785675, 0.06638475507497787, 0.7700631618499756, 0.013276951387524605, 0.13276951014995575, 0.9560511112213135, 0.22788743674755096, 0.11394371837377548, 0.016277674585580826, 0.0651106983423233, 0.569718599319458, 0.9571039080619812, 0.9754682779312134, 0.9622780680656433, 0.9847947359085083, 0.01095580030232668, 0.03615414351224899, 0.0032867402769625187, 0.0010955800535157323, 0.02300718054175377, 0.12380054593086243, 0.0942198857665062, 0.004382320214062929, 0.10408010333776474, 0.018624860793352127, 0.014242541044950485, 0.03505856171250343, 0.007669060491025448, 0.020816020667552948, 0.09312430769205093, 0.019720440730452538, 0.05039668455719948, 0.1380430907011032, 0.17310164868831635, 0.02848508208990097, 0.08536477386951447, 0.17072954773902893, 0.056909848004579544, 0.014227462001144886, 0.03556865453720093, 0.09247849881649017, 0.32011789083480835, 0.09247849881649017, 0.1280471533536911, 0.12907636165618896, 0.03687896206974983, 0.02212737686932087, 0.10326109081506729, 0.30978327989578247, 0.07007002830505371, 0.003687896067276597, 0.08482161164283752, 0.12907636165618896, 0.014751584269106388, 0.08850950747728348, 0.003687896067276597, 0.8608875870704651, 0.11956772208213806, 0.9138767123222351, 0.9859288334846497, 0.15392155945301056, 0.2247743457555771, 0.009772798046469688, 0.05619358643889427, 0.09284158051013947, 0.009772798046469688, 0.07329598069190979, 0.043977588415145874, 0.10994397103786469, 0.039091192185878754, 0.021988794207572937, 0.04642079025506973, 0.09284158051013947, 0.019545596092939377, 0.1661636382341385, 0.027693940326571465, 0.7754303216934204, 0.029452063143253326, 0.1178082525730133, 0.13253428041934967, 0.04417809471487999, 0.007363015785813332, 0.15462332963943481, 0.022089047357439995, 0.4123288691043854, 0.014726031571626663, 0.03681507706642151, 0.022089047357439995, 0.9530304670333862, 0.07794854044914246, 0.011692280881106853, 0.42481955885887146, 0.011692280881106853, 0.3819478452205658, 0.031179416924715042, 0.062358833849430084, 0.8854274153709412, 0.09572188556194305, 0.03933166712522507, 0.07866333425045013, 0.014749376103281975, 0.21632418036460876, 0.26548877358436584, 0.044248126447200775, 0.044248126447200775, 0.22615709900856018, 0.07374688237905502, 0.05409536883234978, 0.03500288724899292, 0.09228033572435379, 0.05727745220065117, 0.1718323528766632, 0.11773698031902313, 0.028638726100325584, 0.0063641611486673355, 0.20683524012565613, 0.10182657837867737, 0.019092483446002007, 0.02227456495165825, 0.06682369112968445, 0.019092483446002007, 0.04073767736554146, 0.11861853301525116, 0.12460936605930328, 0.04672851040959358, 0.07428634911775589, 0.09345702081918716, 0.02276517264544964, 0.05631384626030922, 0.019170671701431274, 0.04073767736554146, 0.016774337738752365, 0.05751201510429382, 0.04313401132822037, 0.007189001888036728, 0.01557617075741291, 0.06230468302965164, 0.07548452168703079, 0.01557617075741291, 0.019170671701431274, 0.005990834906697273, 0.041935842484235764, 0.07570359855890274, 0.03785179927945137, 0.06939496845006943, 0.11355540156364441, 0.08201222866773605, 0.09462949633598328, 0.49522772431373596, 0.028388850390911102, 0.01565772108733654, 0.06367473304271698, 0.11795482784509659, 0.014613872393965721, 0.0647185817360878, 0.040710072964429855, 0.01878926530480385, 0.16597184538841248, 0.039666224271059036, 0.038622379302978516, 0.01670156791806221, 0.01670156791806221, 0.011482328176498413, 0.07306936383247375, 0.0699378177523613, 0.08977093547582626, 0.04384161904454231, 0.08142014592885971, 0.005219240207225084, 0.009394632652401924, 0.1106647327542305, 0.09222061187028885, 0.20288534462451935, 0.5717678070068359, 0.13632789254188538, 0.0878557562828064, 0.03029508702456951, 0.042413122951984406, 0.07270821183919907, 0.05150165036320686, 0.03635410591959953, 0.16662298142910004, 0.04847213998436928, 0.00302950874902308, 0.2181246280670166, 0.06059017404913902, 0.042413122951984406, 0.9469723105430603, 0.20872709155082703, 0.7752720713615417], \"Term\": [\"abide\", \"abilities\", \"abilities\", \"abneys\", \"absconded\", \"absconded\", \"accomac\", \"accommodation\", \"accommodation\", \"accommodation\", \"accommodation\", \"accommodation\", \"accoutrements\", \"accoutrements\", \"accustomed\", \"accustomed\", \"accustomed\", \"acknowledgments\", \"acquaintances\", \"acquia\", \"acre\", \"acre\", \"acre\", \"acre\", \"acres\", \"acres\", \"acres\", \"action\", \"action\", \"action\", \"action\", \"action\", \"action\", \"actions\", \"adams\", \"adams\", \"adams\", \"adams\", \"adams\", \"adams\", \"adams\", \"adaptation\", \"added\", \"added\", \"added\", \"added\", \"added\", \"added\", \"added\", \"added\", \"adjoining\", \"adjoining\", \"adjoining\", \"adjoining\", \"adjoining\", \"adjt\", \"adjutant\", \"admirable\", \"admrs\", \"affidavit\", \"afforded\", \"afforded\", \"afternoon\", \"afternoon\", \"afternoon\", \"afternoon\", \"afternoon\", \"afternoon\", \"afternoon\", \"aged\", \"aged\", \"aged\", \"aged\", \"agent\", \"agent\", \"agent\", \"agent\", \"agent\", \"agent\", \"agent\", \"agent\", \"agent\", \"agent\", \"agent\", \"agent\", \"agent\", \"agent\", \"agricultural\", \"agricultural\", \"agricultural\", \"agricultural\", \"agricultural\", \"aim\", \"air\", \"air\", \"air\", \"airiness\", \"airy\", \"akin\", \"ala\", \"alabama\", \"alabama\", \"ale\", \"alexey\", \"algebra\", \"allies\", \"allies\", \"allspice\", \"almonds\", \"alterations\", \"amateurs\", \"amelia\", \"amelia\", \"amelia\", \"american\", \"american\", \"american\", \"american\", \"american\", \"american\", \"american\", \"american\", \"american\", \"american\", \"american\", \"american\", \"american\", \"american\", \"american\", \"amount\", \"amount\", \"amount\", \"amount\", \"amount\", \"amount\", \"amount\", \"amount\", \"amount\", \"amp\", \"amp\", \"amp\", \"amp\", \"amp\", \"amp\", \"amp\", \"amp\", \"amp\", \"amp\", \"amp\", \"amp\", \"amp\", \"amp\", \"amp\", \"amp\", \"amp\", \"amp\", \"amp\", \"amp\", \"amp\", \"amp\", \"amp\", \"amp\", \"amp\", \"amp\", \"amp\", \"amp\", \"amp\", \"angles\", \"annual\", \"annual\", \"annual\", \"annual\", \"annual\", \"another\", \"another\", \"another\", \"another\", \"another\", \"another\", \"another\", \"another\", \"another\", \"another\", \"another\", \"answer\", \"answer\", \"answer\", \"anthony\", \"antique\", \"antoni\", \"antoni\", \"apparel\", \"apparel\", \"apparel\", \"appearance\", \"appearance\", \"appearance\", \"appearance\", \"appearance\", \"appearance\", \"appearance\", \"apperson\", \"apperson\", \"apperson\", \"apperson\", \"apple\", \"apple\", \"apples\", \"appliances\", \"apply\", \"apply\", \"apply\", \"apply\", \"apply\", \"apply\", \"apply\", \"apply\", \"apply\", \"apply\", \"apply\", \"apply\", \"apply\", \"apply\", \"apply\", \"apply\", \"apron\", \"apto\", \"arab\", \"arch\", \"arch\", \"arch\", \"architects\", \"arents\", \"arithmetic\", \"armory\", \"armory\", \"armory\", \"armory\", \"armory\", \"army\", \"army\", \"army\", \"army\", \"army\", \"army\", \"arraigned\", \"arrd\", \"arrested\", \"arrested\", \"arrested\", \"arrival\", \"arrival\", \"arrival\", \"arrival\", \"arrive\", \"arrive\", \"arrive\", \"arrived\", \"arrived\", \"arrived\", \"arrived\", \"arrived\", \"arrived\", \"arriving\", \"art\", \"art\", \"art\", \"art\", \"articles\", \"articles\", \"articles\", \"articles\", \"articles\", \"articles\", \"articles\", \"articles\", \"articles\", \"articles\", \"articles\", \"articles\", \"articles\", \"articles\", \"artillery\", \"artillery\", \"artist\", \"artist\", \"artists\", \"artists\", \"artists\", \"ashland\", \"ashland\", \"ashland\", \"ashore\", \"ask\", \"ask\", \"ask\", \"ask\", \"assault\", \"assault\", \"assault\", \"assaulting\", \"assemble\", \"assemble\", \"assets\", \"assistants\", \"assistants\", \"assisted\", \"assisted\", \"association\", \"association\", \"association\", \"association\", \"association\", \"association\", \"association\", \"assortment\", \"assortment\", \"assortment\", \"assortment\", \"assortment\", \"assortment\", \"assortment\", \"assortment\", \"assortment\", \"assortment\", \"assortment\", \"assortment\", \"attack\", \"attack\", \"attack\", \"attend\", \"attend\", \"attend\", \"attend\", \"attend\", \"attend\", \"attend\", \"attend\", \"attend\", \"attending\", \"attending\", \"attending\", \"attending\", \"attending\", \"attention\", \"attention\", \"attention\", \"attention\", \"attention\", \"attention\", \"attention\", \"attention\", \"attention\", \"attention\", \"attention\", \"attention\", \"attention\", \"attention\", \"attention\", \"attention\", \"attention\", \"attention\", \"attention\", \"attention\", \"attorneys\", \"attractions\", \"auction\", \"auction\", \"auction\", \"auction\", \"auction\", \"auction\", \"auction\", \"auction\", \"aucts\", \"aucts\", \"audience\", \"audience\", \"aug\", \"away\", \"away\", \"away\", \"away\", \"away\", \"away\", \"away\", \"baby\", \"baby\", \"baby\", \"back\", \"back\", \"back\", \"back\", \"back\", \"back\", \"back\", \"back\", \"back\", \"back\", \"bacon\", \"bacon\", \"bacon\", \"bacon\", \"bags\", \"bags\", \"bags\", \"bags\", \"bags\", \"bags\", \"bags\", \"bags\", \"baker\", \"baker\", \"baker\", \"baker\", \"baker\", \"baker\", \"baker\", \"baker\", \"baker\", \"baker\", \"baker\", \"bakers\", \"bakers\", \"bakers\", \"bakers\", \"baking\", \"balance\", \"balance\", \"balance\", \"balance\", \"balance\", \"balance\", \"balance\", \"baldness\", \"bales\", \"bales\", \"bales\", \"bales\", \"balloon\", \"balmoral\", \"balsamic\", \"baltimore\", \"baltimore\", \"baltimore\", \"baltimore\", \"baltimore\", \"baltimore\", \"baltimore\", \"baltimore\", \"baltimore\", \"baltimore\", \"baltimore\", \"baltimore\", \"baltimore\", \"bandages\", \"bank\", \"bank\", \"bank\", \"bank\", \"bank\", \"bank\", \"bank\", \"bank\", \"bank\", \"bank\", \"bank\", \"banks\", \"banks\", \"banks\", \"banks\", \"banks\", \"banner\", \"barbour\", \"bargains\", \"bargains\", \"bargains\", \"bargains\", \"barns\", \"barns\", \"barouches\", \"baskets\", \"baskets\", \"baskets\", \"battalion\", \"bayly\", \"bbl\", \"bbl\", \"bbls\", \"bbls\", \"bbls\", \"beating\", \"beating\", \"beds\", \"beds\", \"beds\", \"bedsteads\", \"beers\", \"began\", \"behavior\", \"behavior\", \"behle\", \"bell\", \"bell\", \"bell\", \"bell\", \"bell\", \"bell\", \"bells\", \"bells\", \"belvidere\", \"belvins\", \"beneficiary\", \"berths\", \"best\", \"best\", \"best\", \"best\", \"best\", \"best\", \"best\", \"best\", \"best\", \"best\", \"best\", \"best\", \"best\", \"best\", \"best\", \"best\", \"best\", \"bet\", \"bet\", \"bet\", \"bet\", \"bet\", \"bet\", \"betn\", \"biglers\", \"biles\", \"bill\", \"bill\", \"bill\", \"bill\", \"bill\", \"bill\", \"bill\", \"bill\", \"bills\", \"bills\", \"bills\", \"bills\", \"bills\", \"bills\", \"bills\", \"bills\", \"bills\", \"binding\", \"binding\", \"binford\", \"binford\", \"bitters\", \"black\", \"black\", \"black\", \"black\", \"black\", \"black\", \"black\", \"black\", \"black\", \"black\", \"black\", \"bladder\", \"bladder\", \"blankets\", \"blankets\", \"blankets\", \"blankets\", \"blankets\", \"blankets\", \"blankinship\", \"blasted\", \"blasted\", \"bledsoe\", \"blind\", \"blind\", \"blower\", \"boar\", \"board\", \"board\", \"board\", \"board\", \"board\", \"board\", \"board\", \"board\", \"board\", \"board\", \"board\", \"board\", \"board\", \"boat\", \"boat\", \"boat\", \"boat\", \"boat\", \"boat\", \"boat\", \"bogwell\", \"boiler\", \"boilers\", \"bolt\", \"bonds\", \"bonds\", \"bonds\", \"bonds\", \"bonds\", \"bonds\", \"bonds\", \"bonnets\", \"bonnets\", \"bonnets\", \"bonnets\", \"bonsacks\", \"booth\", \"booth\", \"boots\", \"boots\", \"boots\", \"boots\", \"boots\", \"boots\", \"bosoms\", \"bosoms\", \"bosoms\", \"bosoms\", \"botany\", \"botetourt\", \"bottle\", \"bottle\", \"bottle\", \"bottle\", \"bottled\", \"bouquets\", \"boxes\", \"boxes\", \"boxes\", \"boxes\", \"boxes\", \"boxes\", \"boxes\", \"boys\", \"boys\", \"boys\", \"boys\", \"boys\", \"boys\", \"boys\", \"boys\", \"boys\", \"brackett\", \"brackett\", \"braid\", \"branches\", \"branches\", \"branches\", \"branches\", \"branches\", \"brandies\", \"brands\", \"brands\", \"brands\", \"brandy\", \"brandy\", \"brandy\", \"brandy\", \"brandy\", \"brass\", \"brass\", \"brass\", \"brass\", \"brave\", \"brave\", \"brazilian\", \"bread\", \"bread\", \"bread\", \"bread\", \"bread\", \"breasts\", \"breasts\", \"breckinridge\", \"breckinridge\", \"breckinridges\", \"brett\", \"brick\", \"brick\", \"brick\", \"brick\", \"brick\", \"bridgford\", \"bridgford\", \"briel\", \"brimstone\", \"british\", \"british\", \"british\", \"bro\", \"bro\", \"bro\", \"bro\", \"bro\", \"broad\", \"broad\", \"broad\", \"broad\", \"broad\", \"broad\", \"broad\", \"broad\", \"broad\", \"broad\", \"broad\", \"broad\", \"broad\", \"broad\", \"broad\", \"broad\", \"brogans\", \"bronze\", \"brummel\", \"brushes\", \"brushes\", \"brushes\", \"brushes\", \"bryant\", \"bryant\", \"buchanan\", \"buchanan\", \"buchanan\", \"buchu\", \"buchu\", \"buffalo\", \"buffalo\", \"buffalo\", \"buffalo\", \"buggies\", \"buggy\", \"buggy\", \"buggy\", \"bulkley\", \"bulkley\", \"bumgardners\", \"buoyant\", \"buoyant\", \"burned\", \"burners\", \"burners\", \"burning\", \"burning\", \"burning\", \"burning\", \"burning\", \"burning\", \"bus\", \"bus\", \"bushel\", \"bushel\", \"bushel\", \"business\", \"business\", \"business\", \"business\", \"business\", \"business\", \"business\", \"business\", \"business\", \"business\", \"business\", \"business\", \"business\", \"business\", \"business\", \"buskins\", \"butler\", \"butter\", \"butter\", \"butter\", \"buttons\", \"buttons\", \"buttons\", \"calf\", \"calf\", \"calf\", \"calf\", \"call\", \"call\", \"call\", \"call\", \"call\", \"call\", \"call\", \"call\", \"call\", \"call\", \"call\", \"call\", \"call\", \"call\", \"call\", \"call\", \"call\", \"call\", \"call\", \"cambric\", \"cambric\", \"camp\", \"camp\", \"camp\", \"camp\", \"camp\", \"camp\", \"candies\", \"candies\", \"candies\", \"candlesticks\", \"candy\", \"cane\", \"cane\", \"cane\", \"cannot\", \"cannot\", \"cannot\", \"cannot\", \"cannot\", \"cannot\", \"cannot\", \"cannot\", \"cannot\", \"cannot\", \"cannot\", \"cannot\", \"cannot\", \"cannot\", \"cannot\", \"cannot\", \"cannot\", \"canot\", \"capital\", \"capital\", \"capital\", \"capital\", \"capital\", \"capital\", \"capital\", \"capital\", \"cappahoosic\", \"caps\", \"caps\", \"caps\", \"capt\", \"capt\", \"capt\", \"capt\", \"capt\", \"capt\", \"capt\", \"captured\", \"captured\", \"captured\", \"carbon\", \"cargo\", \"cargo\", \"cargo\", \"cargo\", \"carolina\", \"carolina\", \"carolina\", \"carolina\", \"carolina\", \"carolina\", \"caroline\", \"caroline\", \"caroline\", \"caroline\", \"caroline\", \"caroline\", \"caroline\", \"carpenter\", \"carpenter\", \"carpets\", \"carpets\", \"carpets\", \"carrington\", \"carrington\", \"carrington\", \"carrington\", \"carts\", \"carts\", \"carts\", \"cary\", \"cary\", \"cary\", \"cary\", \"cary\", \"cary\", \"cary\", \"cary\", \"cary\", \"cary\", \"cary\", \"cary\", \"cary\", \"cary\", \"case\", \"case\", \"case\", \"case\", \"case\", \"case\", \"case\", \"case\", \"case\", \"case\", \"case\", \"case\", \"case\", \"cash\", \"cash\", \"cash\", \"cash\", \"cash\", \"cash\", \"cash\", \"cash\", \"cash\", \"cash\", \"cashier\", \"cashier\", \"cashmere\", \"cassimere\", \"cassimere\", \"castilon\", \"castors\", \"cath\", \"catharine\", \"cavalry\", \"cavalry\", \"cavalry\", \"cent\", \"cent\", \"cent\", \"cent\", \"cent\", \"cent\", \"cent\", \"cent\", \"centrals\", \"cents\", \"cents\", \"cents\", \"cents\", \"cents\", \"cents\", \"cents\", \"cents\", \"cents\", \"centum\", \"certified\", \"certify\", \"certify\", \"chairs\", \"chairs\", \"chalet\", \"challenges\", \"chandeliers\", \"chandeliers\", \"charge\", \"charge\", \"charge\", \"charge\", \"charge\", \"charge\", \"charge\", \"charge\", \"charge\", \"charge\", \"charge\", \"charged\", \"charged\", \"charged\", \"charged\", \"charged\", \"charged\", \"charges\", \"charges\", \"charges\", \"charles\", \"charles\", \"charles\", \"charles\", \"charles\", \"charles\", \"charles\", \"charles\", \"charles\", \"charles\", \"charles\", \"charles\", \"charles\", \"charles\", \"charlotte\", \"charlotte\", \"charlotte\", \"charlotte\", \"charlotte\", \"chas\", \"chas\", \"chas\", \"chas\", \"chas\", \"chas\", \"chas\", \"chas\", \"chas\", \"chas\", \"chastain\", \"chattanooga\", \"cheap\", \"cheap\", \"cheap\", \"cheap\", \"cheap\", \"cheap\", \"cheap\", \"cheap\", \"checked\", \"cheese\", \"cheese\", \"chelsea\", \"chelsea\", \"chemicals\", \"chemicals\", \"chemistry\", \"chesnut\", \"chesnut\", \"chesterfield\", \"chesterfield\", \"chesterfield\", \"chesterfield\", \"chesterfield\", \"chesterfield\", \"chests\", \"chewing\", \"chewing\", \"chicago\", \"chicago\", \"chicago\", \"chicago\", \"chicago\", \"children\", \"children\", \"children\", \"children\", \"children\", \"children\", \"children\", \"children\", \"children\", \"chimney\", \"chinese\", \"chinn\", \"chinn\", \"cholic\", \"christiansburg\", \"christy\", \"christy\", \"christys\", \"chronic\", \"chronic\", \"chula\", \"church\", \"church\", \"church\", \"church\", \"church\", \"church\", \"church\", \"church\", \"church\", \"church\", \"church\", \"church\", \"churchs\", \"cider\", \"cigars\", \"cigars\", \"cigars\", \"cigars\", \"cigars\", \"cigars\", \"cinder\", \"circulation\", \"circulation\", \"circulation\", \"circulation\", \"citizen\", \"citizen\", \"citizen\", \"citizen\", \"citizen\", \"citizens\", \"citizens\", \"citizens\", \"citizens\", \"citizens\", \"citizens\", \"city\", \"city\", \"city\", \"city\", \"city\", \"city\", \"city\", \"city\", \"city\", \"city\", \"city\", \"city\", \"city\", \"city\", \"city\", \"city\", \"city\", \"city\", \"city\", \"city\", \"city\", \"city\", \"city\", \"city\", \"city\", \"city\", \"city\", \"city\", \"city\", \"civility\", \"claremont\", \"clasps\", \"class\", \"class\", \"class\", \"class\", \"class\", \"class\", \"class\", \"class\", \"class\", \"class\", \"class\", \"classical\", \"cld\", \"cleopatra\", \"cloaks\", \"cloaks\", \"cloaks\", \"cloaks\", \"clocks\", \"clocks\", \"clocks\", \"clopton\", \"close\", \"close\", \"close\", \"close\", \"close\", \"close\", \"close\", \"close\", \"close\", \"closed\", \"closed\", \"closed\", \"closed\", \"closed\", \"closed\", \"closed\", \"closed\", \"closest\", \"clothing\", \"clothing\", \"clothing\", \"clothing\", \"clothing\", \"clothing\", \"clothing\", \"cloths\", \"cloths\", \"cloths\", \"cloths\", \"co\", \"co\", \"co\", \"co\", \"co\", \"co\", \"co\", \"co\", \"co\", \"co\", \"co\", \"co\", \"co\", \"co\", \"co\", \"co\", \"co\", \"co\", \"co\", \"coal\", \"coal\", \"coal\", \"coal\", \"coal\", \"coal\", \"coal\", \"coal\", \"coat\", \"coat\", \"coat\", \"coat\", \"coat\", \"coat\", \"coat\", \"coats\", \"coats\", \"coats\", \"cobham\", \"cochineal\", \"coco\", \"coffee\", \"coffee\", \"coffee\", \"coffee\", \"coffee\", \"cognac\", \"cohoke\", \"coke\", \"coke\", \"col\", \"col\", \"col\", \"colds\", \"collars\", \"collars\", \"collars\", \"collars\", \"college\", \"college\", \"college\", \"college\", \"college\", \"college\", \"colonel\", \"colored\", \"colored\", \"colored\", \"colored\", \"colored\", \"colored\", \"colored\", \"colored\", \"colored\", \"colquitt\", \"colquitt\", \"columbus\", \"columbus\", \"comdg\", \"comedy\", \"commissioned\", \"committed\", \"committed\", \"committed\", \"committed\", \"companies\", \"companies\", \"companies\", \"companies\", \"companies\", \"company\", \"company\", \"company\", \"company\", \"company\", \"company\", \"company\", \"company\", \"company\", \"company\", \"company\", \"company\", \"company\", \"company\", \"company\", \"company\", \"compete\", \"compound\", \"compounded\", \"comr\", \"comrs\", \"comrs\", \"concerts\", \"concord\", \"concord\", \"condition\", \"condition\", \"condition\", \"condition\", \"condition\", \"condition\", \"condition\", \"condition\", \"condition\", \"confounded\", \"connecticut\", \"connecticut\", \"consequences\", \"conservative\", \"conservative\", \"consider\", \"consider\", \"considers\", \"consignees\", \"consignment\", \"consignments\", \"consignments\", \"consignments\", \"consignments\", \"consols\", \"constitution\", \"constitution\", \"constitution\", \"constitutional\", \"constitutional\", \"consultation\", \"consultation\", \"consumptive\", \"contagious\", \"containing\", \"containing\", \"containing\", \"containing\", \"containing\", \"containing\", \"containing\", \"contingent\", \"continuance\", \"continuance\", \"continuance\", \"continuance\", \"continuance\", \"convenient\", \"convenient\", \"convenient\", \"convention\", \"convention\", \"conveyed\", \"conveyed\", \"conveyed\", \"conveyed\", \"convicted\", \"cook\", \"cook\", \"cook\", \"cook\", \"cook\", \"copperas\", \"corinthian\", \"corn\", \"corn\", \"corn\", \"corn\", \"corn\", \"corn\", \"corn\", \"corn\", \"corn\", \"corn\", \"corner\", \"corner\", \"corner\", \"corner\", \"corner\", \"corner\", \"corner\", \"corner\", \"corner\", \"corner\", \"corner\", \"corner\", \"corner\", \"corner\", \"corner\", \"corner\", \"corner\", \"corner\", \"corner\", \"correspondent\", \"correspondent\", \"correspondent\", \"correspondent\", \"corsets\", \"cos\", \"costing\", \"cotton\", \"cotton\", \"cotton\", \"cotton\", \"cotton\", \"cotton\", \"cotton\", \"cotton\", \"cottrell\", \"couch\", \"couch\", \"coughs\", \"coughs\", \"counties\", \"counties\", \"counties\", \"counties\", \"counties\", \"counties\", \"countries\", \"country\", \"country\", \"country\", \"country\", \"country\", \"country\", \"country\", \"country\", \"country\", \"country\", \"country\", \"country\", \"country\", \"country\", \"country\", \"country\", \"county\", \"county\", \"county\", \"county\", \"county\", \"county\", \"county\", \"county\", \"county\", \"county\", \"county\", \"county\", \"county\", \"county\", \"courage\", \"course\", \"course\", \"course\", \"course\", \"course\", \"course\", \"course\", \"course\", \"course\", \"course\", \"course\", \"course\", \"course\", \"course\", \"court\", \"court\", \"court\", \"court\", \"court\", \"court\", \"court\", \"court\", \"court\", \"courts\", \"courts\", \"courts\", \"courts\", \"cove\", \"cowardin\", \"cowardin\", \"cows\", \"cows\", \"cows\", \"cpt\", \"cramps\", \"creature\", \"credit\", \"credit\", \"credit\", \"credit\", \"credit\", \"credit\", \"credit\", \"crisis\", \"crochet\", \"crowded\", \"crowded\", \"crowded\", \"crystals\", \"cts\", \"cts\", \"cts\", \"cts\", \"cts\", \"cts\", \"cts\", \"cuffs\", \"culpeper\", \"culpeper\", \"cultivate\", \"cultivate\", \"cupping\", \"curative\", \"curators\", \"cure\", \"cure\", \"cure\", \"curer\", \"cures\", \"curiosity\", \"curly\", \"currency\", \"currency\", \"curtis\", \"curtis\", \"curtis\", \"cut\", \"cut\", \"cut\", \"cut\", \"cut\", \"cut\", \"cut\", \"cut\", \"cut\", \"cut\", \"cwt\", \"cwts\", \"cylinder\", \"cyrus\", \"cyrus\", \"daily\", \"daily\", \"daily\", \"daily\", \"daily\", \"daily\", \"daily\", \"daily\", \"daily\", \"daily\", \"daily\", \"daily\", \"daily\", \"daily\", \"daily\", \"dandruff\", \"danes\", \"daring\", \"davenport\", \"davenport\", \"davenport\", \"davenport\", \"davenport\", \"davenport\", \"day\", \"day\", \"day\", \"day\", \"day\", \"day\", \"day\", \"day\", \"day\", \"day\", \"day\", \"day\", \"day\", \"day\", \"day\", \"day\", \"day\", \"day\", \"day\", \"day\", \"day\", \"day\", \"daylight\", \"daylight\", \"dayton\", \"dead\", \"dead\", \"dead\", \"dead\", \"death\", \"death\", \"death\", \"death\", \"death\", \"death\", \"death\", \"debt\", \"debt\", \"debt\", \"debt\", \"debt\", \"debts\", \"debts\", \"debts\", \"decatur\", \"decd\", \"decd\", \"decd\", \"decd\", \"decd\", \"deck\", \"decline\", \"decline\", \"decorated\", \"decorated\", \"deduct\", \"deed\", \"deed\", \"deed\", \"defence\", \"defence\", \"defence\", \"deferred\", \"defies\", \"deg\", \"deitrick\", \"delaine\", \"delaines\", \"delaware\", \"delaware\", \"delaware\", \"delaware\", \"delegates\", \"delicacies\", \"delivery\", \"delivery\", \"delivery\", \"delivery\", \"delivery\", \"democrats\", \"denominations\", \"denominations\", \"denominations\", \"dentist\", \"dentist\", \"depositions\", \"depot\", \"depot\", \"depot\", \"depot\", \"depot\", \"depot\", \"depot\", \"depot\", \"deputy\", \"despairing\", \"detroit\", \"deupree\", \"devereux\", \"devisees\", \"diarrh\\u0153a\", \"diarrh\\u0153a\", \"died\", \"died\", \"died\", \"died\", \"died\", \"died\", \"diem\", \"difficulty\", \"difficulty\", \"difficulty\", \"difficulty\", \"difficulty\", \"difficulty\", \"difficulty\", \"difficulty\", \"dine\", \"dining\", \"dinner\", \"dinner\", \"dinner\", \"dinner\", \"dinner\", \"dinwiddie\", \"diploma\", \"diploma\", \"diploma\", \"directors\", \"directors\", \"directors\", \"directors\", \"directors\", \"disbursements\", \"disc\", \"discharged\", \"discharged\", \"discharged\", \"discontinue\", \"discontinue\", \"discount\", \"discount\", \"discount\", \"discounted\", \"discounts\", \"discovered\", \"discovered\", \"discovered\", \"discovered\", \"diseases\", \"diseases\", \"diseases\", \"diseases\", \"dishes\", \"dishes\", \"disorderly\", \"dispatch\", \"dispatch\", \"dispatch\", \"dispatch\", \"dispatch\", \"dispatch\", \"dispatch\", \"dispatch\", \"dispatch\", \"dispatch\", \"dissatisfied\", \"dissecting\", \"dissolution\", \"dist\", \"district\", \"district\", \"district\", \"disunion\", \"disunion\", \"diuretic\", \"divans\", \"diversities\", \"dividend\", \"dividend\", \"dividends\", \"doddridge\", \"donley\", \"donnelly\", \"door\", \"door\", \"door\", \"door\", \"door\", \"door\", \"door\", \"door\", \"door\", \"door\", \"door\", \"dorsey\", \"doswell\", \"doswell\", \"douglas\", \"douglas\", \"dove\", \"dove\", \"dove\", \"doz\", \"dr\", \"dr\", \"dr\", \"dr\", \"dr\", \"dr\", \"dr\", \"dr\", \"dr\", \"dr\", \"dr\", \"dr\", \"dr\", \"dr\", \"draughtsmen\", \"dray\", \"dray\", \"drayage\", \"dress\", \"dress\", \"dress\", \"dress\", \"dress\", \"dress\", \"dress\", \"dress\", \"dress\", \"dress\", \"dressing\", \"drill\", \"drill\", \"drill\", \"dropsy\", \"drowned\", \"drug\", \"drug\", \"drug\", \"druggists\", \"druggists\", \"druggists\", \"druggists\", \"druggists\", \"druggists\", \"druggists\", \"druggists\", \"druggists\", \"drugs\", \"drugs\", \"drums\", \"drums\", \"drunk\", \"dry\", \"dry\", \"dry\", \"dry\", \"dry\", \"dry\", \"dry\", \"dry\", \"dry\", \"dtd\", \"dtj\", \"dudley\", \"dudley\", \"dudley\", \"due\", \"due\", \"due\", \"due\", \"due\", \"due\", \"duke\", \"duke\", \"duke\", \"dull\", \"dunlop\", \"dunlop\", \"dunlop\", \"durable\", \"duvals\", \"duvals\", \"dwelling\", \"dye\", \"eastern\", \"eastern\", \"eastern\", \"eastern\", \"eastern\", \"eastern\", \"eastern\", \"eastham\", \"eddy\", \"edgemont\", \"effort\", \"effort\", \"effort\", \"effort\", \"elastic\", \"elect\", \"elect\", \"elect\", \"elected\", \"elected\", \"elected\", \"elected\", \"election\", \"election\", \"election\", \"election\", \"election\", \"election\", \"election\", \"election\", \"electors\", \"electricity\", \"elm\", \"emanuel\", \"embroider\", \"emergency\", \"emerys\", \"emett\", \"emperor\", \"empress\", \"enables\", \"enables\", \"enamelled\", \"encumbrance\", \"engage\", \"engaged\", \"engaged\", \"engaged\", \"engaged\", \"engaged\", \"engaged\", \"engaged\", \"engineer\", \"engineer\", \"england\", \"england\", \"england\", \"england\", \"england\", \"england\", \"england\", \"england\", \"english\", \"english\", \"english\", \"english\", \"english\", \"english\", \"english\", \"english\", \"engraved\", \"engravings\", \"enormous\", \"entertainment\", \"entrances\", \"entrusted\", \"entrusted\", \"entrusted\", \"epaulettes\", \"episcopal\", \"eps\", \"equal\", \"equal\", \"equal\", \"equal\", \"equal\", \"equal\", \"equal\", \"equal\", \"equality\", \"eradicating\", \"eruptions\", \"esq\", \"esq\", \"esq\", \"esq\", \"esq\", \"esq\", \"esq\", \"esq\", \"esq\", \"estate\", \"estate\", \"estate\", \"estate\", \"estate\", \"estate\", \"eugene\", \"eugene\", \"evening\", \"evening\", \"evening\", \"evening\", \"evening\", \"evening\", \"evening\", \"evening\", \"evening\", \"evening\", \"ever\", \"ever\", \"ever\", \"ever\", \"ever\", \"ever\", \"ever\", \"ever\", \"ever\", \"ever\", \"ever\", \"ever\", \"ever\", \"examinations\", \"examinations\", \"examine\", \"examine\", \"examine\", \"examine\", \"examine\", \"examine\", \"examine\", \"examine\", \"examine\", \"examine\", \"examine\", \"excelled\", \"excellent\", \"excellent\", \"excellent\", \"excellent\", \"excellent\", \"excels\", \"except\", \"except\", \"except\", \"except\", \"except\", \"except\", \"except\", \"except\", \"except\", \"except\", \"except\", \"except\", \"exchange\", \"exchange\", \"exchange\", \"exchange\", \"exchange\", \"exchange\", \"exchange\", \"exchange\", \"exchange\", \"exchange\", \"exchange\", \"exchange\", \"exchange\", \"exchange\", \"excused\", \"executing\", \"executing\", \"executor\", \"exors\", \"experience\", \"experience\", \"experience\", \"experience\", \"experience\", \"explosion\", \"express\", \"express\", \"express\", \"express\", \"express\", \"express\", \"expresses\", \"exrs\", \"ext\", \"exterminate\", \"extra\", \"extra\", \"extra\", \"extra\", \"extra\", \"extra\", \"extra\", \"extra\", \"extra\", \"extra\", \"extra\", \"extra\", \"extract\", \"extract\", \"extract\", \"extract\", \"extract\", \"extracting\", \"ezekiels\", \"ezekiels\", \"ezekiels\", \"faculties\", \"faculties\", \"failures\", \"fair\", \"fair\", \"fair\", \"fair\", \"fair\", \"fair\", \"fair\", \"fair\", \"fair\", \"fair\", \"fair\", \"fair\", \"fair\", \"fairs\", \"fairs\", \"falls\", \"falls\", \"fancy\", \"fancy\", \"fancy\", \"fancy\", \"fancy\", \"fancy\", \"fancy\", \"fancy\", \"fare\", \"fare\", \"fare\", \"fare\", \"fare\", \"farm\", \"farm\", \"farm\", \"farm\", \"farmers\", \"farmers\", \"farmers\", \"farmers\", \"farmers\", \"farmers\", \"farming\", \"farming\", \"fatigue\", \"fatigue\", \"fault\", \"fault\", \"fault\", \"feather\", \"federal\", \"federal\", \"federal\", \"feet\", \"feet\", \"feet\", \"feet\", \"feet\", \"feet\", \"feet\", \"feet\", \"fell\", \"fell\", \"fell\", \"fell\", \"feloniously\", \"fenders\", \"fenders\", \"filed\", \"finder\", \"finder\", \"fine\", \"fine\", \"fine\", \"fine\", \"fine\", \"fine\", \"fine\", \"fine\", \"fine\", \"fine\", \"fine\", \"fine\", \"fine\", \"fine\", \"fine\", \"fine\", \"fine\", \"fine\", \"fine\", \"fine\", \"fined\", \"fined\", \"fined\", \"fire\", \"fire\", \"fire\", \"fire\", \"fire\", \"fire\", \"fire\", \"fire\", \"fire\", \"fire\", \"fire\", \"fire\", \"firm\", \"firm\", \"firm\", \"firm\", \"firm\", \"firm\", \"firm\", \"firm\", \"firm\", \"firmer\", \"first\", \"first\", \"first\", \"first\", \"first\", \"first\", \"first\", \"first\", \"first\", \"first\", \"first\", \"first\", \"first\", \"first\", \"first\", \"first\", \"first\", \"first\", \"first\", \"first\", \"first\", \"first\", \"fitter\", \"five\", \"five\", \"five\", \"five\", \"five\", \"five\", \"five\", \"five\", \"five\", \"five\", \"five\", \"five\", \"five\", \"five\", \"five\", \"five\", \"five\", \"five\", \"flag\", \"flag\", \"flank\", \"flasks\", \"flor\", \"flour\", \"flour\", \"flour\", \"flour\", \"flour\", \"flour\", \"flour\", \"flour\", \"flour\", \"flour\", \"flour\", \"flour\", \"fluid\", \"fluid\", \"fluid\", \"fluid\", \"fodder\", \"following\", \"following\", \"following\", \"following\", \"following\", \"following\", \"following\", \"following\", \"following\", \"following\", \"following\", \"following\", \"following\", \"following\", \"following\", \"following\", \"fondren\", \"fonts\", \"forest\", \"fort\", \"fort\", \"fort\", \"forts\", \"forts\", \"forwarded\", \"forwarded\", \"forwarded\", \"found\", \"found\", \"found\", \"found\", \"found\", \"found\", \"found\", \"found\", \"found\", \"found\", \"found\", \"found\", \"found\", \"found\", \"four\", \"four\", \"four\", \"four\", \"four\", \"four\", \"four\", \"four\", \"four\", \"four\", \"four\", \"fourteenth\", \"fractions\", \"france\", \"france\", \"france\", \"france\", \"francisco\", \"francisco\", \"franklin\", \"franklin\", \"franklin\", \"franklin\", \"franklin\", \"franklin\", \"franklin\", \"franklin\", \"franklin\", \"franklin\", \"franklin\", \"franklin\", \"franklin\", \"franklin\", \"franklin\", \"franklin\", \"frazer\", \"free\", \"free\", \"free\", \"free\", \"free\", \"free\", \"free\", \"free\", \"free\", \"free\", \"free\", \"free\", \"free\", \"free\", \"free\", \"freight\", \"freight\", \"freight\", \"freight\", \"freight\", \"freight\", \"freight\", \"freight\", \"freights\", \"freights\", \"freights\", \"french\", \"french\", \"french\", \"french\", \"french\", \"french\", \"french\", \"french\", \"french\", \"french\", \"french\", \"fresh\", \"fresh\", \"fresh\", \"fresh\", \"fresh\", \"fresh\", \"fresh\", \"fresh\", \"fresh\", \"fresh\", \"friday\", \"friday\", \"friday\", \"friday\", \"friday\", \"friday\", \"friday\", \"friday\", \"friday\", \"friday\", \"friday\", \"friday\", \"friday\", \"fridays\", \"fridays\", \"friend\", \"friend\", \"friend\", \"friend\", \"friend\", \"friend\", \"friend\", \"friends\", \"friends\", \"friends\", \"friends\", \"friends\", \"friends\", \"friends\", \"friends\", \"friends\", \"friends\", \"friends\", \"friends\", \"friends\", \"fringes\", \"fronting\", \"fronting\", \"fronting\", \"frosts\", \"frs\", \"fruits\", \"fruits\", \"fruits\", \"fuchsia\", \"full\", \"full\", \"full\", \"full\", \"full\", \"full\", \"full\", \"full\", \"full\", \"full\", \"full\", \"full\", \"full\", \"full\", \"full\", \"full\", \"full\", \"full\", \"full\", \"full\", \"fulled\", \"fulled\", \"fulton\", \"fulton\", \"fund\", \"fund\", \"fund\", \"fund\", \"funeral\", \"furnaces\", \"furniture\", \"furniture\", \"furniture\", \"furniture\", \"furniture\", \"furniture\", \"ga\", \"ga\", \"gab\", \"gain\", \"gain\", \"gain\", \"gains\", \"gaiter\", \"gaiters\", \"gaiters\", \"gaiters\", \"gale\", \"galleries\", \"garibaldi\", \"garibaldi\", \"garibaldi\", \"garments\", \"garrick\", \"gas\", \"gas\", \"gas\", \"gas\", \"gas\", \"gaston\", \"gault\", \"gelatine\", \"gelatine\", \"gen\", \"gen\", \"gen\", \"gen\", \"gen\", \"gen\", \"gen\", \"general\", \"general\", \"general\", \"general\", \"general\", \"general\", \"general\", \"general\", \"general\", \"general\", \"general\", \"general\", \"general\", \"gentleman\", \"gentleman\", \"gentleman\", \"gentleman\", \"gentleman\", \"gentleman\", \"gentleman\", \"gentleman\", \"gentlemens\", \"gents\", \"gents\", \"gents\", \"gents\", \"gents\", \"geo\", \"geo\", \"geo\", \"geo\", \"geo\", \"geo\", \"geo\", \"geo\", \"geo\", \"geo\", \"geo\", \"geo\", \"geography\", \"georgia\", \"georgia\", \"georgia\", \"georgia\", \"georgia\", \"georgia\", \"germans\", \"get\", \"get\", \"get\", \"get\", \"get\", \"get\", \"get\", \"get\", \"get\", \"get\", \"get\", \"get\", \"get\", \"ginter\", \"give\", \"give\", \"give\", \"give\", \"give\", \"give\", \"give\", \"give\", \"give\", \"give\", \"give\", \"give\", \"give\", \"give\", \"give\", \"give\", \"give\", \"give\", \"give\", \"give\", \"given\", \"given\", \"given\", \"given\", \"given\", \"given\", \"given\", \"given\", \"given\", \"given\", \"given\", \"given\", \"given\", \"given\", \"given\", \"given\", \"given\", \"given\", \"given\", \"gives\", \"gives\", \"gives\", \"gives\", \"gives\", \"gives\", \"gives\", \"gives\", \"gives\", \"glen\", \"glossy\", \"go\", \"go\", \"go\", \"go\", \"go\", \"go\", \"go\", \"go\", \"go\", \"go\", \"goddin\", \"goddin\", \"goddin\", \"goggin\", \"gold\", \"gold\", \"gold\", \"gold\", \"gold\", \"gold\", \"gold\", \"gold\", \"gold\", \"gold\", \"gold\", \"gold\", \"gold\", \"goldsmit\", \"goldsmit\", \"goldsmit\", \"goldsmits\", \"gonorrh\\u0153a\", \"good\", \"good\", \"good\", \"good\", \"good\", \"good\", \"good\", \"good\", \"good\", \"good\", \"good\", \"good\", \"good\", \"good\", \"good\", \"good\", \"good\", \"good\", \"good\", \"good\", \"good\", \"good\", \"goods\", \"goods\", \"goods\", \"goods\", \"goods\", \"goods\", \"goods\", \"goods\", \"goods\", \"goods\", \"goods\", \"goods\", \"goods\", \"goods\", \"goods\", \"goods\", \"goods\", \"gordon\", \"gordon\", \"gordon\", \"gothic\", \"gothic\", \"gov\", \"gov\", \"gov\", \"gov\", \"gov\", \"gov\", \"governing\", \"government\", \"government\", \"government\", \"government\", \"government\", \"governments\", \"govr\", \"grammar\", \"grand\", \"grand\", \"grand\", \"grand\", \"grand\", \"grand\", \"grand\", \"grand\", \"grand\", \"grand\", \"grand\", \"grandfather\", \"granulated\", \"grates\", \"grates\", \"grating\", \"gratis\", \"gravel\", \"grayson\", \"great\", \"great\", \"great\", \"great\", \"great\", \"great\", \"great\", \"great\", \"great\", \"great\", \"great\", \"great\", \"great\", \"great\", \"great\", \"great\", \"great\", \"great\", \"great\", \"great\", \"great\", \"greater\", \"greater\", \"greater\", \"greater\", \"griffin\", \"griffin\", \"grundy\", \"guilty\", \"guilty\", \"guttering\", \"gwatkin\", \"gwinn\", \"haden\", \"hagerty\", \"haley\", \"half\", \"half\", \"half\", \"half\", \"half\", \"half\", \"half\", \"half\", \"half\", \"half\", \"half\", \"half\", \"half\", \"half\", \"half\", \"half\", \"hall\", \"hall\", \"hall\", \"hall\", \"hall\", \"hall\", \"hall\", \"hall\", \"hall\", \"hall\", \"hall\", \"hall\", \"hall\", \"hall\", \"hall\", \"hamilton\", \"hamilton\", \"hammered\", \"hampton\", \"hampton\", \"hampton\", \"hamptons\", \"hams\", \"hancock\", \"hancock\", \"hancock\", \"hancock\", \"hancock\", \"hand\", \"hand\", \"hand\", \"hand\", \"hand\", \"hand\", \"hand\", \"hand\", \"hand\", \"hand\", \"hand\", \"hand\", \"hand\", \"hand\", \"hand\", \"hand\", \"hand\", \"hand\", \"hand\", \"hand\", \"hangers\", \"hardaway\", \"hardwick\", \"harman\", \"harman\", \"harrisburg\", \"harvies\", \"hats\", \"hats\", \"hats\", \"hats\", \"hats\", \"hawleys\", \"haxalls\", \"hdqrs\", \"hearth\", \"heats\", \"heavy\", \"heavy\", \"heavy\", \"heavy\", \"heavy\", \"heavy\", \"heavy\", \"heavy\", \"heavy\", \"heavy\", \"heavy\", \"heavy\", \"heeled\", \"heels\", \"heels\", \"heels\", \"height\", \"heirs\", \"heirs\", \"held\", \"held\", \"held\", \"held\", \"held\", \"held\", \"held\", \"held\", \"held\", \"held\", \"held\", \"held\", \"held\", \"heller\", \"heller\", \"helmbold\", \"helmbolds\", \"help\", \"help\", \"help\", \"hennessey\", \"hereof\", \"heretofore\", \"heretofore\", \"heretofore\", \"heretofore\", \"heretofore\", \"heretofore\", \"heretofore\", \"heretofore\", \"heretofore\", \"heretofore\", \"heretofore\", \"herricks\", \"hhds\", \"hhds\", \"hill\", \"hill\", \"hill\", \"hill\", \"hill\", \"hill\", \"hill\", \"hill\", \"hill\", \"hill\", \"hill\", \"hindrance\", \"hired\", \"hired\", \"hiring\", \"hiring\", \"history\", \"history\", \"history\", \"history\", \"history\", \"hoarseness\", \"hob\", \"hods\", \"hogsheads\", \"hogsheads\", \"holman\", \"hon\", \"hon\", \"hon\", \"hon\", \"hon\", \"hon\", \"hoppe\", \"horace\", \"horace\", \"horace\", \"horse\", \"horse\", \"horse\", \"horse\", \"horse\", \"horse\", \"horse\", \"horse\", \"horse\", \"horse\", \"hose\", \"hose\", \"hose\", \"hose\", \"hospital\", \"hospital\", \"hospital\", \"hospitals\", \"hotel\", \"hotel\", \"hotel\", \"hotel\", \"hotel\", \"hotel\", \"hotel\", \"hotel\", \"hotel\", \"hotel\", \"hotel\", \"hotel\", \"hotel\", \"hotel\", \"hotel\", \"hotel\", \"hotel\", \"house\", \"house\", \"house\", \"house\", \"house\", \"house\", \"house\", \"house\", \"house\", \"house\", \"house\", \"house\", \"house\", \"house\", \"house\", \"house\", \"house\", \"house\", \"house\", \"house\", \"house\", \"house\", \"house\", \"house\", \"house\", \"household\", \"household\", \"household\", \"household\", \"household\", \"housekeepers\", \"housekeeping\", \"housekeeping\", \"hull\", \"hull\", \"hundred\", \"hundred\", \"hundred\", \"hundred\", \"hundred\", \"hundred\", \"hundred\", \"hundred\", \"hundred\", \"hundred\", \"hundred\", \"hunter\", \"hunter\", \"hunter\", \"hunter\", \"hyman\", \"hyman\", \"hymans\", \"image\", \"image\", \"immediately\", \"immediately\", \"immediately\", \"immediately\", \"immediately\", \"immediately\", \"immediately\", \"immediately\", \"immediately\", \"immediately\", \"immediately\", \"immediately\", \"implements\", \"imprisonment\", \"impure\", \"inattention\", \"include\", \"include\", \"ind\", \"indiana\", \"indiana\", \"indiana\", \"indiana\", \"indians\", \"indians\", \"indians\", \"indicted\", \"indictment\", \"inducements\", \"inducements\", \"inducements\", \"inducements\", \"industrious\", \"industrious\", \"industrious\", \"inestimable\", \"infirmary\", \"ingrain\", \"inks\", \"inloes\", \"insanity\", \"insert\", \"institute\", \"institute\", \"institute\", \"institute\", \"institutions\", \"institutions\", \"instructors\", \"instruments\", \"instruments\", \"instruments\", \"insurance\", \"insurance\", \"insurance\", \"insurance\", \"insurance\", \"insurance\", \"int\", \"int\", \"intercourse\", \"intercourse\", \"interest\", \"interest\", \"interest\", \"interest\", \"interest\", \"interest\", \"interest\", \"interest\", \"interest\", \"interest\", \"interest\", \"interest\", \"interest\", \"interest\", \"interests\", \"interests\", \"interests\", \"invalid\", \"ira\", \"irby\", \"irby\", \"iron\", \"iron\", \"iron\", \"iron\", \"iron\", \"iron\", \"iron\", \"iron\", \"iron\", \"ironer\", \"ironer\", \"irving\", \"irving\", \"irving\", \"italy\", \"jackets\", \"jackets\", \"jackets\", \"jackets\", \"jacksons\", \"jacksons\", \"jacksons\", \"jail\", \"jail\", \"jail\", \"jail\", \"jail\", \"jail\", \"jamaica\", \"james\", \"james\", \"james\", \"james\", \"james\", \"james\", \"james\", \"james\", \"james\", \"james\", \"james\", \"james\", \"james\", \"james\", \"james\", \"james\", \"james\", \"jamestown\", \"jamestown\", \"jamestown\", \"jams\", \"jane\", \"jane\", \"japanned\", \"jas\", \"jas\", \"jas\", \"jas\", \"jas\", \"jas\", \"jas\", \"jas\", \"jas\", \"jas\", \"jas\", \"jas\", \"jas\", \"jas\", \"jeffersonville\", \"jefford\", \"jesse\", \"jesse\", \"jewelry\", \"jewelry\", \"jewelry\", \"jewelry\", \"jewish\", \"jno\", \"jno\", \"jno\", \"jno\", \"jno\", \"jno\", \"jno\", \"jno\", \"jno\", \"jobbing\", \"john\", \"john\", \"john\", \"john\", \"john\", \"john\", \"john\", \"john\", \"john\", \"john\", \"john\", \"john\", \"john\", \"john\", \"john\", \"john\", \"john\", \"john\", \"john\", \"joint\", \"joint\", \"jones\", \"jones\", \"jones\", \"jones\", \"jones\", \"jones\", \"jordon\", \"jos\", \"jos\", \"jos\", \"jos\", \"jos\", \"jos\", \"jos\", \"jos\", \"journals\", \"journals\", \"joynes\", \"jr\", \"jr\", \"jr\", \"jr\", \"jr\", \"jr\", \"jr\", \"jr\", \"jr\", \"jr\", \"jr\", \"juanita\", \"judge\", \"judge\", \"judge\", \"jules\", \"jury\", \"keen\", \"keen\", \"keene\", \"keep\", \"keep\", \"keep\", \"keep\", \"keep\", \"keep\", \"keep\", \"keep\", \"keeps\", \"keeps\", \"keeps\", \"keeps\", \"keeps\", \"kegs\", \"kegs\", \"kegs\", \"kent\", \"kent\", \"kent\", \"kent\", \"kent\", \"kent\", \"kent\", \"kentucky\", \"kentucky\", \"kentucky\", \"kentucky\", \"kentucky\", \"kerosine\", \"kid\", \"kid\", \"kidneys\", \"kidneys\", \"killer\", \"kinds\", \"kinds\", \"kinds\", \"kinds\", \"kinds\", \"kinds\", \"kinds\", \"kinds\", \"kinds\", \"kings\", \"kitchen\", \"kitchen\", \"kitchen\", \"kitchen\", \"kits\", \"knotts\", \"know\", \"know\", \"know\", \"know\", \"know\", \"know\", \"know\", \"know\", \"kunkel\", \"lace\", \"lace\", \"lace\", \"ladies\", \"ladies\", \"ladies\", \"ladies\", \"ladies\", \"ladies\", \"ladies\", \"ladies\", \"ladies\", \"ladies\", \"ladies\", \"ladies\", \"ladies\", \"ladies\", \"laguayra\", \"laidleys\", \"laidleys\", \"land\", \"land\", \"land\", \"land\", \"land\", \"land\", \"landed\", \"landed\", \"landed\", \"landed\", \"landing\", \"landing\", \"landing\", \"landing\", \"landrum\", \"landrum\", \"landscape\", \"landscapes\", \"langley\", \"langley\", \"large\", \"large\", \"large\", \"large\", \"large\", \"large\", \"large\", \"large\", \"large\", \"large\", \"large\", \"large\", \"large\", \"large\", \"large\", \"large\", \"large\", \"large\", \"large\", \"large\", \"large\", \"large\", \"large\", \"large\", \"large\", \"largely\", \"largely\", \"largely\", \"largest\", \"largest\", \"largest\", \"largest\", \"largest\", \"largest\", \"largest\", \"largest\", \"largest\", \"largest\", \"largest\", \"largest\", \"last\", \"last\", \"last\", \"last\", \"last\", \"last\", \"last\", \"last\", \"last\", \"last\", \"last\", \"last\", \"last\", \"last\", \"last\", \"late\", \"late\", \"late\", \"late\", \"late\", \"late\", \"late\", \"late\", \"late\", \"late\", \"late\", \"late\", \"late\", \"late\", \"late\", \"late\", \"late\", \"lathes\", \"latin\", \"laurel\", \"laurel\", \"laws\", \"laws\", \"laws\", \"laws\", \"lb\", \"lbs\", \"lbs\", \"lbs\", \"lbs\", \"lbs\", \"lbs\", \"leaf\", \"leaf\", \"leaf\", \"learning\", \"learning\", \"learns\", \"leave\", \"leave\", \"leave\", \"leave\", \"leave\", \"leave\", \"leave\", \"leave\", \"leave\", \"leave\", \"leave\", \"leave\", \"leave\", \"leave\", \"leaving\", \"leaving\", \"leaving\", \"leaving\", \"leaving\", \"leaving\", \"leaving\", \"leeches\", \"leeches\", \"leeching\", \"legislature\", \"legislature\", \"legislature\", \"legislature\", \"legislature\", \"lennet\", \"leonard\", \"leonard\", \"lessees\", \"lessons\", \"lessons\", \"lessons\", \"let\", \"let\", \"let\", \"let\", \"letchers\", \"levy\", \"levy\", \"lewis\", \"lewis\", \"lewis\", \"lewis\", \"lewis\", \"lewis\", \"lewis\", \"lewis\", \"lewis\", \"lewis\", \"lewis\", \"lewis\", \"lewisburg\", \"lewisburg\", \"lexington\", \"lexington\", \"lexington\", \"liberty\", \"liberty\", \"liberty\", \"liberty\", \"lieut\", \"lieut\", \"lieut\", \"life\", \"life\", \"life\", \"life\", \"life\", \"life\", \"life\", \"life\", \"life\", \"life\", \"light\", \"light\", \"light\", \"light\", \"light\", \"light\", \"light\", \"light\", \"light\", \"like\", \"like\", \"like\", \"like\", \"like\", \"like\", \"like\", \"like\", \"liked\", \"likenesses\", \"limbs\", \"limbs\", \"lincolns\", \"lincolns\", \"lincolns\", \"lincolns\", \"line\", \"line\", \"line\", \"line\", \"line\", \"line\", \"line\", \"line\", \"line\", \"line\", \"line\", \"line\", \"line\", \"line\", \"line\", \"linen\", \"linen\", \"linen\", \"linen\", \"linens\", \"linseys\", \"lion\", \"listed\", \"listen\", \"literature\", \"literature\", \"literature\", \"little\", \"little\", \"little\", \"little\", \"little\", \"little\", \"little\", \"little\", \"little\", \"little\", \"little\", \"little\", \"little\", \"liverpool\", \"liverpool\", \"liverpool\", \"liverpool\", \"load\", \"load\", \"load\", \"loaf\", \"loaf\", \"loans\", \"loans\", \"locust\", \"lombard\", \"london\", \"london\", \"london\", \"london\", \"london\", \"london\", \"london\", \"london\", \"london\", \"long\", \"long\", \"long\", \"long\", \"long\", \"long\", \"long\", \"long\", \"long\", \"long\", \"long\", \"long\", \"long\", \"lordship\", \"lot\", \"lot\", \"lot\", \"lot\", \"lot\", \"lot\", \"lot\", \"lot\", \"lotion\", \"lots\", \"lots\", \"lots\", \"lots\", \"lots\", \"loudoun\", \"louis\", \"louis\", \"louis\", \"louis\", \"louis\", \"louis\", \"louis\", \"louis\", \"louis\", \"low\", \"low\", \"low\", \"low\", \"low\", \"low\", \"low\", \"low\", \"low\", \"low\", \"low\", \"low\", \"low\", \"low\", \"lowenberg\", \"lower\", \"lower\", \"lower\", \"lower\", \"lulu\", \"lumber\", \"lumber\", \"lumber\", \"lumber\", \"lumber\", \"lumsden\", \"lurking\", \"luther\", \"lybrock\", \"lynchburg\", \"lynchburg\", \"lynchburg\", \"lynchburg\", \"lynchburg\", \"lynchburg\", \"machines\", \"machines\", \"machines\", \"machines\", \"machines\", \"machines\", \"mackerelerel\", \"maddoxville\", \"made\", \"made\", \"made\", \"made\", \"made\", \"made\", \"made\", \"made\", \"made\", \"made\", \"made\", \"made\", \"made\", \"made\", \"made\", \"made\", \"made\", \"made\", \"made\", \"made\", \"made\", \"made\", \"made\", \"made\", \"madeira\", \"madeira\", \"magenta\", \"mahogany\", \"mahogany\", \"mailerts\", \"main\", \"main\", \"main\", \"main\", \"main\", \"main\", \"main\", \"main\", \"main\", \"main\", \"main\", \"main\", \"main\", \"main\", \"main\", \"main\", \"main\", \"main\", \"main\", \"main\", \"main\", \"main\", \"main\", \"main\", \"majority\", \"majority\", \"majority\", \"majority\", \"make\", \"make\", \"make\", \"make\", \"make\", \"make\", \"make\", \"make\", \"make\", \"make\", \"make\", \"make\", \"make\", \"make\", \"make\", \"making\", \"making\", \"making\", \"making\", \"making\", \"making\", \"making\", \"making\", \"making\", \"making\", \"making\", \"making\", \"making\", \"making\", \"man\", \"man\", \"man\", \"man\", \"man\", \"man\", \"man\", \"man\", \"man\", \"man\", \"man\", \"man\", \"man\", \"man\", \"man\", \"manager\", \"manager\", \"manager\", \"manufactories\", \"many\", \"many\", \"many\", \"many\", \"many\", \"many\", \"many\", \"many\", \"many\", \"many\", \"many\", \"many\", \"many\", \"many\", \"many\", \"marble\", \"marble\", \"marble\", \"marble\", \"marcus\", \"marcus\", \"marguerite\", \"mark\", \"mark\", \"mark\", \"market\", \"market\", \"market\", \"market\", \"market\", \"market\", \"market\", \"market\", \"market\", \"market\", \"market\", \"market\", \"market\", \"market\", \"marketing\", \"maroon\", \"marseilles\", \"marseilles\", \"marseilles\", \"marseilles\", \"martha\", \"mary\", \"mary\", \"mary\", \"mary\", \"mary\", \"mary\", \"mary\", \"maryland\", \"maryland\", \"maryland\", \"mathematical\", \"mathematics\", \"matron\", \"mats\", \"mattaponi\", \"matthews\", \"matthews\", \"matthews\", \"mattoax\", \"mattresses\", \"maule\", \"maupin\", \"may\", \"may\", \"may\", \"may\", \"may\", \"may\", \"may\", \"may\", \"may\", \"may\", \"may\", \"may\", \"may\", \"may\", \"may\", \"may\", \"may\", \"may\", \"may\", \"may\", \"may\", \"may\", \"may\", \"mayo\", \"mayo\", \"mayo\", \"mayo\", \"mayo\", \"mayor\", \"mayor\", \"mayor\", \"mayos\", \"mayos\", \"mayos\", \"mccaw\", \"mcchesny\", \"mcconnal\", \"md\", \"md\", \"md\", \"mdse\", \"mdze\", \"mdze\", \"meade\", \"meade\", \"meade\", \"meadow\", \"meadow\", \"meadow\", \"meadow\", \"meat\", \"mechanics\", \"mechanics\", \"mechanics\", \"mechanics\", \"mechanics\", \"mechanics\", \"medal\", \"medal\", \"medals\", \"medical\", \"medical\", \"medical\", \"medical\", \"medical\", \"medical\", \"medical\", \"medicinal\", \"medicine\", \"medicine\", \"medicine\", \"medicine\", \"medicine\", \"medicine\", \"medicines\", \"medicines\", \"medicines\", \"medicines\", \"medicines\", \"medicines\", \"medicines\", \"meetings\", \"member\", \"member\", \"member\", \"member\", \"memory\", \"memory\", \"memory\", \"men\", \"men\", \"men\", \"men\", \"men\", \"men\", \"men\", \"men\", \"men\", \"men\", \"men\", \"men\", \"men\", \"merchandize\", \"merchandize\", \"merchandize\", \"mercurial\", \"merinoes\", \"merinos\", \"mess\", \"messengers\", \"messrs\", \"messrs\", \"messrs\", \"messrs\", \"messrs\", \"messrs\", \"messrs\", \"messrs\", \"metals\", \"mh\", \"mice\", \"microscopes\", \"middling\", \"midlothian\", \"might\", \"might\", \"might\", \"might\", \"might\", \"might\", \"milch\", \"milch\", \"military\", \"military\", \"military\", \"military\", \"military\", \"military\", \"military\", \"milk\", \"milk\", \"mill\", \"mill\", \"mill\", \"mill\", \"millboro\", \"milledgeville\", \"milledgeville\", \"milliner\", \"minor\", \"minstrels\", \"misdemeanor\", \"miss\", \"miss\", \"miss\", \"miss\", \"missed\", \"missouri\", \"missouri\", \"missouri\", \"missouri\", \"mistaken\", \"mitchells\", \"mitteldorfer\", \"mixed\", \"mixed\", \"moffetts\", \"molasses\", \"molasses\", \"moleskin\", \"monahan\", \"moncure\", \"moncure\", \"moncure\", \"mondays\", \"mondays\", \"money\", \"money\", \"money\", \"money\", \"money\", \"money\", \"money\", \"money\", \"money\", \"money\", \"money\", \"money\", \"money\", \"money\", \"money\", \"monnaies\", \"monongahela\", \"montgomery\", \"montgomery\", \"montgomery\", \"montgomery\", \"montgomery\", \"montgomery\", \"months\", \"months\", \"months\", \"months\", \"months\", \"months\", \"months\", \"months\", \"months\", \"months\", \"moodys\", \"morning\", \"morning\", \"morning\", \"morning\", \"morning\", \"morning\", \"morning\", \"morning\", \"morning\", \"morning\", \"morning\", \"morning\", \"morning\", \"morning\", \"morning\", \"mortar\", \"mortar\", \"mortgage\", \"mortgage\", \"mortimer\", \"mother\", \"mother\", \"mother\", \"motion\", \"motion\", \"motion\", \"motion\", \"motts\", \"moulds\", \"mount\", \"mount\", \"mount\", \"mowbray\", \"moxley\", \"mr\", \"mr\", \"mr\", \"mr\", \"mr\", \"mr\", \"mr\", \"mr\", \"mr\", \"mr\", \"mr\", \"mr\", \"mr\", \"mr\", \"mr\", \"mr\", \"mr\", \"mr\", \"mr\", \"mr\", \"mrs\", \"mrs\", \"mrs\", \"mrs\", \"mrs\", \"mrs\", \"mrs\", \"mrs\", \"much\", \"much\", \"much\", \"much\", \"much\", \"much\", \"much\", \"much\", \"much\", \"much\", \"much\", \"much\", \"much\", \"much\", \"mulatto\", \"murder\", \"murder\", \"murray\", \"music\", \"music\", \"music\", \"music\", \"music\", \"music\", \"must\", \"must\", \"must\", \"must\", \"must\", \"must\", \"must\", \"must\", \"must\", \"must\", \"must\", \"must\", \"must\", \"nailed\", \"named\", \"named\", \"named\", \"named\", \"named\", \"named\", \"named\", \"named\", \"named\", \"named\", \"nansemond\", \"napier\", \"naples\", \"naples\", \"near\", \"near\", \"near\", \"near\", \"near\", \"near\", \"near\", \"near\", \"near\", \"near\", \"near\", \"near\", \"near\", \"near\", \"near\", \"near\", \"near\", \"near\", \"needles\", \"negotiable\", \"negro\", \"negro\", \"negro\", \"negro\", \"negro\", \"negro\", \"negro\", \"negro\", \"negro\", \"negro\", \"new\", \"new\", \"new\", \"new\", \"new\", \"new\", \"new\", \"new\", \"new\", \"new\", \"new\", \"new\", \"new\", \"new\", \"new\", \"new\", \"new\", \"new\", \"new\", \"new\", \"new\", \"new\", \"new\", \"new\", \"new\", \"newest\", \"news\", \"news\", \"news\", \"news\", \"news\", \"news\", \"newspaper\", \"newspaper\", \"newspapers\", \"next\", \"next\", \"next\", \"next\", \"next\", \"next\", \"next\", \"next\", \"next\", \"next\", \"next\", \"next\", \"next\", \"next\", \"next\", \"next\", \"next\", \"next\", \"next\", \"next\", \"niagara\", \"night\", \"night\", \"night\", \"night\", \"night\", \"night\", \"night\", \"night\", \"night\", \"night\", \"noah\", \"noah\", \"nobby\", \"nominally\", \"norberg\", \"norfleet\", \"norfolk\", \"norfolk\", \"norfolk\", \"norfolk\", \"norfolk\", \"norfolk\", \"norfolk\", \"norfolk\", \"norfolk\", \"norfolk\", \"norfolk\", \"norfolk\", \"norfolk\", \"north\", \"north\", \"north\", \"north\", \"north\", \"north\", \"north\", \"north\", \"north\", \"north\", \"north\", \"north\", \"north\", \"north\", \"northumberland\", \"nos\", \"nos\", \"nos\", \"nos\", \"notary\", \"notary\", \"notes\", \"notes\", \"notes\", \"notes\", \"notes\", \"notes\", \"notes\", \"notes\", \"nott\", \"nott\", \"nov\", \"nov\", \"nov\", \"nov\", \"nov\", \"nov\", \"nov\", \"nov\", \"nov\", \"nov\", \"nov\", \"nov\", \"nov\", \"nov\", \"nov\", \"nov\", \"nov\", \"nov\", \"november\", \"november\", \"november\", \"november\", \"november\", \"november\", \"november\", \"november\", \"november\", \"november\", \"november\", \"november\", \"november\", \"november\", \"number\", \"number\", \"number\", \"number\", \"number\", \"number\", \"number\", \"number\", \"number\", \"number\", \"nutmegs\", \"nuts\", \"nuts\", \"oak\", \"oak\", \"oak\", \"oak\", \"oak\", \"oakland\", \"oaks\", \"obstetrical\", \"oc\", \"oc\", \"oc\", \"oc\", \"oc\", \"oc\", \"oc\", \"oc\", \"oc\", \"oc\", \"oc\", \"oc\", \"oc\", \"oc\", \"oc\", \"oc\", \"oc\", \"oc\", \"oc\", \"oc\", \"oc\", \"occupancy\", \"occurred\", \"occurred\", \"occurred\", \"occurred\", \"oclock\", \"oclock\", \"oclock\", \"oclock\", \"oclock\", \"oclock\", \"oclock\", \"oclock\", \"oclock\", \"oclock\", \"oclock\", \"oclock\", \"oclock\", \"oclock\", \"oclock\", \"oct\", \"oct\", \"oct\", \"oct\", \"oct\", \"oct\", \"oct\", \"oct\", \"oct\", \"oct\", \"oct\", \"october\", \"october\", \"october\", \"october\", \"october\", \"october\", \"october\", \"october\", \"october\", \"october\", \"october\", \"october\", \"october\", \"october\", \"ocular\", \"odors\", \"offence\", \"offence\", \"offer\", \"offer\", \"offer\", \"offer\", \"offer\", \"offer\", \"offer\", \"offer\", \"offer\", \"offer\", \"offer\", \"offer\", \"offer\", \"offer\", \"offerings\", \"office\", \"office\", \"office\", \"office\", \"office\", \"office\", \"office\", \"office\", \"office\", \"office\", \"office\", \"office\", \"office\", \"office\", \"office\", \"office\", \"office\", \"office\", \"office\", \"office\", \"office\", \"office\", \"office\", \"officers\", \"officers\", \"officers\", \"officers\", \"officers\", \"officers\", \"officers\", \"officers\", \"official\", \"official\", \"official\", \"official\", \"oftener\", \"oil\", \"oil\", \"oil\", \"oil\", \"oil\", \"oil\", \"oils\", \"oils\", \"oils\", \"old\", \"old\", \"old\", \"old\", \"old\", \"old\", \"old\", \"old\", \"old\", \"old\", \"old\", \"old\", \"old\", \"old\", \"old\", \"old\", \"old\", \"old\", \"old\", \"old\", \"old\", \"old\", \"old\", \"olive\", \"olivia\", \"omnibus\", \"one\", \"one\", \"one\", \"one\", \"one\", \"one\", \"one\", \"one\", \"one\", \"one\", \"one\", \"one\", \"one\", \"one\", \"one\", \"one\", \"one\", \"one\", \"one\", \"one\", \"one\", \"one\", \"one\", \"one\", \"one\", \"one\", \"one\", \"open\", \"open\", \"open\", \"open\", \"open\", \"open\", \"open\", \"open\", \"open\", \"open\", \"open\", \"open\", \"opening\", \"opening\", \"opening\", \"opening\", \"opening\", \"opening\", \"opinions\", \"opticians\", \"order\", \"order\", \"order\", \"order\", \"order\", \"order\", \"order\", \"order\", \"order\", \"order\", \"order\", \"order\", \"order\", \"order\", \"order\", \"order\", \"orders\", \"orders\", \"orders\", \"orders\", \"orders\", \"orders\", \"orders\", \"orders\", \"orders\", \"orders\", \"orders\", \"orders\", \"orders\", \"orders\", \"orders\", \"orders\", \"ordnance\", \"oregon\", \"organs\", \"organs\", \"oswego\", \"otard\", \"ottoman\", \"overcoats\", \"overcoats\", \"overcoats\", \"oxford\", \"oxford\", \"oz\", \"packages\", \"packages\", \"packages\", \"page\", \"page\", \"page\", \"page\", \"page\", \"page\", \"page\", \"page\", \"page\", \"paid\", \"paid\", \"paid\", \"paid\", \"paid\", \"paid\", \"paid\", \"paid\", \"paid\", \"paid\", \"paid\", \"paid\", \"paid\", \"pains\", \"pains\", \"pains\", \"pains\", \"pains\", \"paints\", \"paints\", \"pairs\", \"palmer\", \"palmer\", \"palmer\", \"palmer\", \"palmerston\", \"palmetto\", \"parade\", \"parade\", \"parade\", \"parks\", \"parliament\", \"parr\", \"parsons\", \"part\", \"part\", \"part\", \"part\", \"part\", \"part\", \"part\", \"part\", \"part\", \"part\", \"part\", \"part\", \"part\", \"part\", \"part\", \"part\", \"particular\", \"particular\", \"particular\", \"particular\", \"particular\", \"particular\", \"particular\", \"particular\", \"particular\", \"party\", \"party\", \"party\", \"party\", \"party\", \"party\", \"party\", \"party\", \"passage\", \"passage\", \"passage\", \"passage\", \"passage\", \"passage\", \"passed\", \"passed\", \"passed\", \"passed\", \"passed\", \"passed\", \"pastry\", \"pastry\", \"pastry\", \"pate\", \"patient\", \"patient\", \"patient\", \"patients\", \"patients\", \"patrick\", \"patrick\", \"patrick\", \"patrick\", \"patrick\", \"patronise\", \"patterns\", \"patterns\", \"patterns\", \"patterns\", \"payment\", \"payment\", \"payment\", \"payment\", \"payment\", \"payment\", \"payments\", \"payments\", \"peace\", \"peace\", \"peace\", \"peace\", \"pebble\", \"pecan\", \"peck\", \"pedigree\", \"peers\", \"pegged\", \"peggy\", \"pembertons\", \"penitentiary\", \"penitentiary\", \"people\", \"people\", \"people\", \"people\", \"people\", \"people\", \"people\", \"people\", \"people\", \"people\", \"per\", \"per\", \"per\", \"per\", \"per\", \"per\", \"per\", \"per\", \"per\", \"per\", \"per\", \"per\", \"per\", \"per\", \"per\", \"perfumeries\", \"perfumery\", \"perfumery\", \"perfumery\", \"periods\", \"periods\", \"periscopic\", \"permission\", \"permit\", \"permitting\", \"persons\", \"persons\", \"persons\", \"persons\", \"persons\", \"persons\", \"persons\", \"persons\", \"persons\", \"persons\", \"persons\", \"persons\", \"persons\", \"persons\", \"pertain\", \"petersburg\", \"petersburg\", \"petersburg\", \"petersburg\", \"petersburg\", \"petersburg\", \"petersburg\", \"petersburg\", \"petersburg\", \"peterson\", \"peterson\", \"petre\", \"pharmaceutists\", \"philosophy\", \"phosphate\", \"photographs\", \"photographs\", \"physician\", \"physician\", \"physician\", \"physician\", \"physician\", \"physicians\", \"physicians\", \"physicians\", \"physicians\", \"physicians\", \"physicians\", \"pianos\", \"pickets\", \"pine\", \"pine\", \"pine\", \"pine\", \"pine\", \"pippins\", \"pitchers\", \"place\", \"place\", \"place\", \"place\", \"place\", \"place\", \"place\", \"place\", \"place\", \"place\", \"place\", \"place\", \"place\", \"place\", \"place\", \"place\", \"place\", \"place\", \"plaid\", \"plaid\", \"plaintiff\", \"plaintiffs\", \"plan\", \"plan\", \"plan\", \"plan\", \"plan\", \"plan\", \"plantations\", \"plantations\", \"plate\", \"plate\", \"plate\", \"played\", \"played\", \"pleasantly\", \"pleasants\", \"pleasants\", \"pleasants\", \"pleasants\", \"pleased\", \"pleased\", \"pleased\", \"pleased\", \"plow\", \"pltf\", \"plumbing\", \"plush\", \"ply\", \"point\", \"point\", \"point\", \"point\", \"point\", \"point\", \"point\", \"point\", \"point\", \"point\", \"pointer\", \"points\", \"points\", \"points\", \"points\", \"points\", \"pokers\", \"police\", \"police\", \"police\", \"polished\", \"political\", \"political\", \"political\", \"political\", \"political\", \"pollards\", \"poplins\", \"popularity\", \"pork\", \"porte\", \"portion\", \"portion\", \"portion\", \"portion\", \"portion\", \"portion\", \"portion\", \"portion\", \"portion\", \"portrait\", \"portrait\", \"portraiture\", \"portsmouth\", \"portsmouth\", \"portsmouth\", \"portsmouth\", \"portsmouth\", \"post\", \"post\", \"post\", \"post\", \"post\", \"post\", \"postmaster\", \"postmaster\", \"potteries\", \"poured\", \"poured\", \"powder\", \"powder\", \"powder\", \"powell\", \"powell\", \"power\", \"power\", \"power\", \"power\", \"pox\", \"pox\", \"practices\", \"preferring\", \"prem\", \"premises\", \"premises\", \"premises\", \"premises\", \"premises\", \"premiums\", \"prescriptions\", \"present\", \"present\", \"present\", \"present\", \"present\", \"present\", \"present\", \"present\", \"present\", \"present\", \"present\", \"present\", \"present\", \"present\", \"present\", \"present\", \"present\", \"present\", \"president\", \"president\", \"president\", \"president\", \"president\", \"president\", \"president\", \"press\", \"press\", \"press\", \"press\", \"presses\", \"presses\", \"presses\", \"price\", \"price\", \"price\", \"price\", \"price\", \"price\", \"price\", \"price\", \"price\", \"price\", \"price\", \"price\", \"price\", \"price\", \"price\", \"prices\", \"prices\", \"prices\", \"prices\", \"prices\", \"prices\", \"prices\", \"prices\", \"prices\", \"prices\", \"prices\", \"prices\", \"prices\", \"prices\", \"prices\", \"prices\", \"prime\", \"prime\", \"prime\", \"prime\", \"prime\", \"prime\", \"prince\", \"prince\", \"prince\", \"princess\", \"princess\", \"princess\", \"princess\", \"princess\", \"principal\", \"principal\", \"principal\", \"principal\", \"principal\", \"principe\", \"principe\", \"principles\", \"principles\", \"prison\", \"privacy\", \"privacy\", \"private\", \"private\", \"private\", \"private\", \"private\", \"private\", \"private\", \"private\", \"private\", \"private\", \"private\", \"privates\", \"privates\", \"privileges\", \"proceeded\", \"procure\", \"procure\", \"procure\", \"procure\", \"procure\", \"procure\", \"produce\", \"produce\", \"produce\", \"produce\", \"produce\", \"produce\", \"produce\", \"professors\", \"professors\", \"professors\", \"pronounced\", \"pronounced\", \"pronounced\", \"pronounced\", \"pronounced\", \"prosecution\", \"protoxide\", \"proverbially\", \"prudently\", \"prunes\", \"public\", \"public\", \"public\", \"public\", \"public\", \"public\", \"public\", \"public\", \"public\", \"public\", \"public\", \"public\", \"public\", \"public\", \"public\", \"public\", \"public\", \"public\", \"public\", \"public\", \"public\", \"public\", \"public\", \"pullen\", \"punctually\", \"purchase\", \"purchase\", \"purchase\", \"purchase\", \"purchase\", \"purchase\", \"purchase\", \"purchase\", \"purchase\", \"purchase\", \"purchaser\", \"purchaser\", \"purchaser\", \"purchaser\", \"purchasers\", \"purchasers\", \"purchasers\", \"purchasers\", \"purchasers\", \"purchasers\", \"purchasers\", \"pure\", \"pure\", \"pure\", \"pure\", \"pure\", \"pure\", \"pure\", \"pure\", \"pure\", \"pure\", \"putty\", \"qualities\", \"qualities\", \"qualities\", \"qualities\", \"quality\", \"quality\", \"quality\", \"quality\", \"quality\", \"quality\", \"quality\", \"quality\", \"quality\", \"quality\", \"quality\", \"quality\", \"quality\", \"queenstown\", \"question\", \"question\", \"question\", \"question\", \"question\", \"quick\", \"quick\", \"quick\", \"quick\", \"quiet\", \"quiet\", \"quiet\", \"quiet\", \"quiet\", \"quotations\", \"quote\", \"quoted\", \"rady\", \"railroad\", \"railroad\", \"railroad\", \"railroad\", \"railroad\", \"railroad\", \"railroad\", \"railroad\", \"railroad\", \"railroad\", \"railroad\", \"railroad\", \"railroad\", \"railroad\", \"railroad\", \"railroad\", \"ralph\", \"randolph\", \"randolph\", \"randolph\", \"randolph\", \"randolph\", \"rat\", \"rate\", \"rate\", \"rate\", \"rate\", \"rate\", \"rate\", \"rate\", \"rate\", \"rate\", \"rate\", \"ration\", \"reading\", \"reading\", \"reading\", \"reading\", \"reading\", \"realize\", \"rebecca\", \"rebecca\", \"rebecca\", \"rebecca\", \"rebuilt\", \"receipts\", \"receipts\", \"received\", \"received\", \"received\", \"received\", \"received\", \"received\", \"received\", \"received\", \"received\", \"received\", \"received\", \"received\", \"received\", \"received\", \"received\", \"received\", \"received\", \"received\", \"received\", \"received\", \"recent\", \"recent\", \"recent\", \"recent\", \"recent\", \"recorded\", \"recorded\", \"recorded\", \"recorded\", \"recorded\", \"recovering\", \"rees\", \"rees\", \"refd\", \"refectory\", \"refinery\", \"refrigerator\", \"reg\", \"regiment\", \"regiment\", \"regiment\", \"regulate\", \"regulation\", \"regulation\", \"reliability\", \"reliable\", \"reliable\", \"reliable\", \"reliable\", \"reliable\", \"reliable\", \"reliable\", \"remanded\", \"remedy\", \"remedy\", \"renovators\", \"renting\", \"replied\", \"replied\", \"replied\", \"report\", \"report\", \"report\", \"report\", \"report\", \"report\", \"reporting\", \"reputation\", \"reputation\", \"reputation\", \"reputation\", \"reputation\", \"reside\", \"resident\", \"resident\", \"resident\", \"resident\", \"resident\", \"residing\", \"resolutions\", \"resolutions\", \"resolved\", \"resolved\", \"resolved\", \"respectfully\", \"respectfully\", \"respectfully\", \"respectfully\", \"respectfully\", \"respectfully\", \"respectfully\", \"respectfully\", \"respectfully\", \"respectfully\", \"respectfully\", \"respectfully\", \"respectfully\", \"respectfully\", \"restorative\", \"retained\", \"retained\", \"retained\", \"returns\", \"returns\", \"returns\", \"returns\", \"returns\", \"returns\", \"rev\", \"rev\", \"rev\", \"rev\", \"rev\", \"rev\", \"revolution\", \"reward\", \"reward\", \"reward\", \"reward\", \"reward\", \"reward\", \"rewarded\", \"rewarded\", \"rhetoric\", \"rheumatism\", \"rheumatism\", \"rice\", \"rice\", \"rice\", \"rice\", \"rice\", \"rice\", \"rich\", \"rich\", \"rich\", \"rich\", \"rich\", \"rich\", \"rich\", \"rich\", \"rich\", \"rich\", \"richardsons\", \"richardsons\", \"richings\", \"richings\", \"richmond\", \"richmond\", \"richmond\", \"richmond\", \"richmond\", \"richmond\", \"richmond\", \"richmond\", \"richmond\", \"richmond\", \"richmond\", \"richmond\", \"richmond\", \"richmond\", \"richmond\", \"richmond\", \"richmond\", \"richmond\", \"richmond\", \"richmond\", \"richmond\", \"richmond\", \"richmond\", \"richmond\", \"richmond\", \"richmond\", \"richmond\", \"rights\", \"rights\", \"rights\", \"rights\", \"rigney\", \"rio\", \"rio\", \"rio\", \"ritchie\", \"river\", \"river\", \"river\", \"river\", \"river\", \"river\", \"river\", \"river\", \"river\", \"river\", \"river\", \"river\", \"river\", \"river\", \"river\", \"ro\", \"ro\", \"ro\", \"ro\", \"ro\", \"ro\", \"ro\", \"ro\", \"ro\", \"roanoke\", \"roanoke\", \"roanoke\", \"roanoke\", \"roanoke\", \"roanoke\", \"robertson\", \"robertson\", \"robertson\", \"robertson\", \"robertson\", \"robes\", \"robes\", \"robin\", \"rockaway\", \"rocketts\", \"rocketts\", \"rocketts\", \"rocketts\", \"rocketts\", \"rocketts\", \"rocketts\", \"rocketts\", \"rockland\", \"rocks\", \"rocks\", \"roof\", \"roof\", \"roof\", \"roofing\", \"rooms\", \"rooms\", \"rooms\", \"rooms\", \"rooms\", \"rooms\", \"rooms\", \"rooms\", \"ropewalk\", \"roses\", \"roses\", \"rosin\", \"ross\", \"route\", \"route\", \"route\", \"route\", \"route\", \"royal\", \"royster\", \"rufus\", \"rufus\", \"rules\", \"rules\", \"rules\", \"rules\", \"rules\", \"running\", \"running\", \"running\", \"running\", \"running\", \"running\", \"russia\", \"rye\", \"rye\", \"rye\", \"sail\", \"sail\", \"sailed\", \"sailed\", \"sailing\", \"sailing\", \"sale\", \"sale\", \"sale\", \"sale\", \"sale\", \"sale\", \"sale\", \"sale\", \"sale\", \"sale\", \"sale\", \"sale\", \"sale\", \"sale\", \"sale\", \"sale\", \"sale\", \"sale\", \"sale\", \"sale\", \"sale\", \"sale\", \"sale\", \"sales\", \"sales\", \"sales\", \"sales\", \"sales\", \"sales\", \"sales\", \"sales\", \"salesman\", \"salesman\", \"salts\", \"saluda\", \"salve\", \"samson\", \"samson\", \"san\", \"san\", \"sardines\", \"sardinian\", \"satinets\", \"satisfactory\", \"satisfactory\", \"satisfactory\", \"satisfactory\", \"sattler\", \"saturday\", \"saturday\", \"saturday\", \"saturday\", \"saturday\", \"saturday\", \"saturday\", \"saturday\", \"saturday\", \"saturday\", \"saturday\", \"saturday\", \"saturday\", \"saturday\", \"saturday\", \"saturdays\", \"saturdays\", \"saturdays\", \"savings\", \"sazarac\", \"scales\", \"scales\", \"scales\", \"scarcely\", \"scarcely\", \"scarcely\", \"sceneries\", \"scenery\", \"scenery\", \"scenery\", \"school\", \"school\", \"school\", \"school\", \"school\", \"school\", \"schr\", \"schr\", \"schrs\", \"scotland\", \"scotland\", \"scoured\", \"script\", \"scuttles\", \"sea\", \"sea\", \"sea\", \"sea\", \"seasons\", \"secede\", \"secede\", \"secession\", \"secession\", \"secretary\", \"secretary\", \"secretary\", \"secretary\", \"secretary\", \"secretary\", \"secretary\", \"sectional\", \"sections\", \"seeds\", \"seeds\", \"seeds\", \"selection\", \"selection\", \"selection\", \"sell\", \"sell\", \"sell\", \"sell\", \"sell\", \"sell\", \"sell\", \"sell\", \"sell\", \"semon\", \"semples\", \"senate\", \"senate\", \"senate\", \"senator\", \"senator\", \"senator\", \"send\", \"send\", \"send\", \"send\", \"send\", \"send\", \"send\", \"send\", \"send\", \"send\", \"sentence\", \"sentence\", \"sentenced\", \"september\", \"september\", \"september\", \"september\", \"sergeants\", \"sergt\", \"sergt\", \"servants\", \"servants\", \"servants\", \"servants\", \"servants\", \"servants\", \"servants\", \"servants\", \"servants\", \"sets\", \"sets\", \"sets\", \"sets\", \"settees\", \"setts\", \"several\", \"several\", \"several\", \"several\", \"several\", \"several\", \"several\", \"several\", \"several\", \"several\", \"several\", \"several\", \"several\", \"several\", \"sewed\", \"sewed\", \"sexual\", \"shades\", \"shades\", \"shades\", \"shades\", \"shampooing\", \"shares\", \"shawsville\", \"shed\", \"shed\", \"shed\", \"sheet\", \"sheet\", \"sheetings\", \"shepherds\", \"sherry\", \"shetland\", \"shilling\", \"ships\", \"ships\", \"shirt\", \"shirt\", \"shirts\", \"shirts\", \"shirts\", \"shirts\", \"shirts\", \"shirts\", \"shoes\", \"shoes\", \"shoes\", \"shoes\", \"shoes\", \"shoes\", \"shoes\", \"shoes\", \"shooters\", \"shooters\", \"shop\", \"shop\", \"shop\", \"shop\", \"shop\", \"shopkeepers\", \"shore\", \"shore\", \"shore\", \"short\", \"short\", \"short\", \"short\", \"short\", \"short\", \"short\", \"short\", \"short\", \"short\", \"short\", \"short\", \"short\", \"shoulders\", \"shoulders\", \"shovels\", \"shuttle\", \"sideboard\", \"sign\", \"sign\", \"sign\", \"signals\", \"silks\", \"silks\", \"silks\", \"sills\", \"silver\", \"silver\", \"silver\", \"silver\", \"silver\", \"silver\", \"silver\", \"silver\", \"silver\", \"silver\", \"sincere\", \"singer\", \"singer\", \"singers\", \"sisters\", \"sisters\", \"situation\", \"situation\", \"situation\", \"situation\", \"situation\", \"sixteen\", \"sixteen\", \"sixteen\", \"sixteen\", \"sixteen\", \"sixth\", \"sixth\", \"sixth\", \"sixth\", \"slabs\", \"slave\", \"slave\", \"slave\", \"slave\", \"slave\", \"slave\", \"slavery\", \"slaves\", \"slaves\", \"slaves\", \"slaves\", \"slaves\", \"slaves\", \"slaves\", \"slaves\", \"sleep\", \"sleep\", \"sleeve\", \"slippers\", \"slippers\", \"slips\", \"slut\", \"small\", \"small\", \"small\", \"small\", \"small\", \"small\", \"small\", \"small\", \"small\", \"small\", \"small\", \"small\", \"small\", \"small\", \"small\", \"small\", \"small\", \"small\", \"small\", \"small\", \"smith\", \"smith\", \"smith\", \"smith\", \"smith\", \"smith\", \"smith\", \"smith\", \"smith\", \"smith\", \"smith\", \"smith\", \"smoking\", \"smoking\", \"smoking\", \"smoking\", \"snow\", \"snow\", \"snow\", \"snow\", \"sofas\", \"sofas\", \"sold\", \"sold\", \"sold\", \"sold\", \"sold\", \"sold\", \"sold\", \"sold\", \"sold\", \"sold\", \"sold\", \"sold\", \"sold\", \"sold\", \"sold\", \"sold\", \"sold\", \"sold\", \"sold\", \"sold\", \"sold\", \"solferino\", \"solferinos\", \"solicited\", \"solicited\", \"solicited\", \"solicited\", \"solicited\", \"solvent\", \"sons\", \"sons\", \"sons\", \"sons\", \"sons\", \"sons\", \"sores\", \"south\", \"south\", \"south\", \"south\", \"south\", \"south\", \"south\", \"south\", \"south\", \"south\", \"south\", \"south\", \"south\", \"south\", \"south\", \"south\", \"southern\", \"southern\", \"southern\", \"southern\", \"southern\", \"southern\", \"southern\", \"southern\", \"southern\", \"sovereign\", \"spain\", \"spain\", \"sparkling\", \"sparkling\", \"sparkling\", \"specie\", \"specie\", \"specie\", \"specie\", \"spectacles\", \"spectacles\", \"spectacles\", \"spectacles\", \"spelter\", \"spilman\", \"springs\", \"springs\", \"springs\", \"springs\", \"springs\", \"springs\", \"spurs\", \"spurs\", \"squads\", \"square\", \"square\", \"square\", \"square\", \"square\", \"square\", \"square\", \"square\", \"st\", \"st\", \"st\", \"st\", \"st\", \"st\", \"st\", \"st\", \"st\", \"st\", \"st\", \"st\", \"st\", \"st\", \"st\", \"st\", \"st\", \"st\", \"st\", \"st\", \"st\", \"st\", \"st\", \"st\", \"st\", \"st\", \"st\", \"st\", \"stafford\", \"stages\", \"stages\", \"stanard\", \"standing\", \"standing\", \"standing\", \"standing\", \"starke\", \"starke\", \"starke\", \"starke\", \"starke\", \"state\", \"state\", \"state\", \"state\", \"state\", \"state\", \"state\", \"state\", \"state\", \"state\", \"state\", \"state\", \"state\", \"state\", \"state\", \"state\", \"state\", \"state\", \"state\", \"state\", \"statement\", \"statement\", \"statement\", \"statement\", \"states\", \"states\", \"states\", \"states\", \"states\", \"states\", \"states\", \"states\", \"states\", \"states\", \"states\", \"states\", \"station\", \"station\", \"station\", \"stationed\", \"stations\", \"stations\", \"staunton\", \"staunton\", \"steady\", \"steady\", \"steady\", \"steady\", \"stealing\", \"steamer\", \"steamer\", \"steamer\", \"steamer\", \"steamer\", \"steamer\", \"steamer\", \"steamer\", \"steamer\", \"steamer\", \"steamer\", \"steamer\", \"steamship\", \"steamship\", \"steamship\", \"steamship\", \"steamship\", \"steamship\", \"steamships\", \"steamships\", \"steamships\", \"stebbins\", \"steger\", \"steger\", \"stephens\", \"stephens\", \"steward\", \"steward\", \"still\", \"still\", \"still\", \"still\", \"still\", \"still\", \"still\", \"still\", \"still\", \"still\", \"stjan\", \"stock\", \"stock\", \"stock\", \"stock\", \"stock\", \"stock\", \"stock\", \"stock\", \"stock\", \"stock\", \"stock\", \"stock\", \"stock\", \"stock\", \"stock\", \"stock\", \"stockholders\", \"stockholders\", \"stockholders\", \"stockholders\", \"stolen\", \"stolen\", \"stopping\", \"stopping\", \"stopping\", \"stopping\", \"store\", \"store\", \"store\", \"store\", \"store\", \"store\", \"store\", \"store\", \"store\", \"store\", \"store\", \"store\", \"store\", \"store\", \"store\", \"store\", \"store\", \"store\", \"store\", \"store\", \"store\", \"stoves\", \"stoves\", \"street\", \"street\", \"street\", \"street\", \"street\", \"street\", \"street\", \"street\", \"street\", \"street\", \"street\", \"street\", \"street\", \"street\", \"street\", \"street\", \"street\", \"street\", \"street\", \"street\", \"street\", \"street\", \"street\", \"street\", \"street\", \"street\", \"streets\", \"streets\", \"streets\", \"streets\", \"streets\", \"streets\", \"streets\", \"streets\", \"streets\", \"streets\", \"streets\", \"streets\", \"streets\", \"streets\", \"streets\", \"streets\", \"streets\", \"striped\", \"struck\", \"struck\", \"struck\", \"sts\", \"sts\", \"sts\", \"sts\", \"sts\", \"sts\", \"sts\", \"sts\", \"sts\", \"sts\", \"sts\", \"sts\", \"sts\", \"sts\", \"sts\", \"study\", \"study\", \"study\", \"study\", \"stuffs\", \"stuffs\", \"style\", \"style\", \"style\", \"style\", \"style\", \"style\", \"style\", \"style\", \"style\", \"style\", \"style\", \"style\", \"style\", \"style\", \"styles\", \"styles\", \"styles\", \"styles\", \"styles\", \"styles\", \"stylish\", \"subject\", \"subject\", \"subject\", \"subject\", \"subject\", \"subject\", \"subject\", \"subscribers\", \"subscribers\", \"subscribers\", \"subscribers\", \"subscribers\", \"subscribers\", \"subscribers\", \"subscribers\", \"substantial\", \"substantial\", \"substantiated\", \"sufferers\", \"suffering\", \"suffering\", \"suffering\", \"suffering\", \"suffering\", \"suffering\", \"suffering\", \"sugar\", \"sugar\", \"sugar\", \"sugar\", \"sugar\", \"sugar\", \"sugars\", \"sugars\", \"sugars\", \"sugars\", \"suit\", \"suit\", \"suit\", \"suit\", \"suit\", \"suit\", \"suit\", \"suit\", \"suit\", \"suit\", \"suit\", \"suit\", \"suit\", \"suit\", \"suits\", \"suits\", \"suits\", \"suits\", \"sulkies\", \"sulph\", \"sulphur\", \"sulphur\", \"summoned\", \"sumner\", \"sumner\", \"sundays\", \"sundays\", \"superintends\", \"supervision\", \"supplied\", \"supplied\", \"supplied\", \"supplied\", \"supplied\", \"supplied\", \"supplied\", \"supplied\", \"supplied\", \"supplied\", \"supplied\", \"supplied\", \"surgeons\", \"surgeons\", \"surgical\", \"surgical\", \"surgical\", \"surplus\", \"surplus\", \"surplus\", \"survey\", \"surveying\", \"suspended\", \"suspended\", \"suspended\", \"suspension\", \"suspension\", \"suspension\", \"sutherlands\", \"swamp\", \"swelled\", \"swts\", \"synagogue\", \"tables\", \"tables\", \"take\", \"take\", \"take\", \"take\", \"take\", \"take\", \"take\", \"take\", \"take\", \"take\", \"take\", \"take\", \"take\", \"take\", \"take\", \"take\", \"taken\", \"taken\", \"taken\", \"taken\", \"taken\", \"taken\", \"taken\", \"taken\", \"taken\", \"taken\", \"taken\", \"taken\", \"taken\", \"taken\", \"talcott\", \"talley\", \"talley\", \"tardy\", \"tarlatans\", \"td\", \"td\", \"tea\", \"tea\", \"tea\", \"tea\", \"teacher\", \"teaches\", \"teeth\", \"teeth\", \"teeth\", \"teeth\", \"telescopes\", \"tempest\", \"tenders\", \"tenth\", \"tenth\", \"term\", \"term\", \"term\", \"term\", \"term\", \"term\", \"term\", \"term\", \"terms\", \"terms\", \"terms\", \"terms\", \"terms\", \"terms\", \"terms\", \"terms\", \"terms\", \"terms\", \"terms\", \"terms\", \"terms\", \"terms\", \"terms\", \"terms\", \"terms\", \"terms\", \"terms\", \"terrible\", \"teste\", \"testimonial\", \"tete\", \"tf\", \"thence\", \"thence\", \"thence\", \"thereafter\", \"thereafter\", \"thick\", \"thick\", \"thick\", \"thick\", \"thomas\", \"thomas\", \"thomas\", \"thomas\", \"thomas\", \"thomas\", \"thomas\", \"thomas\", \"thomas\", \"thoroughbred\", \"thoroughly\", \"thoroughly\", \"thoroughly\", \"thoroughly\", \"thoroughly\", \"thos\", \"thos\", \"thos\", \"thos\", \"thos\", \"thos\", \"thos\", \"thos\", \"thos\", \"thos\", \"thos\", \"thos\", \"thos\", \"thos\", \"thos\", \"though\", \"though\", \"though\", \"though\", \"though\", \"though\", \"though\", \"thread\", \"three\", \"three\", \"three\", \"three\", \"three\", \"three\", \"three\", \"three\", \"three\", \"three\", \"three\", \"three\", \"three\", \"three\", \"three\", \"three\", \"three\", \"three\", \"three\", \"threshing\", \"thursday\", \"thursday\", \"thursday\", \"thursday\", \"thursday\", \"thursday\", \"thursday\", \"thursday\", \"thursday\", \"thursday\", \"thursday\", \"thursday\", \"thursday\", \"thursday\", \"thursdays\", \"thursdays\", \"thursdays\", \"tickets\", \"tickets\", \"tickets\", \"tickets\", \"tickets\", \"tickets\", \"tickets\", \"tickets\", \"tidy\", \"ties\", \"ties\", \"ties\", \"tightness\", \"timber\", \"time\", \"time\", \"time\", \"time\", \"time\", \"time\", \"time\", \"time\", \"time\", \"time\", \"time\", \"time\", \"time\", \"time\", \"time\", \"time\", \"time\", \"time\", \"time\", \"time\", \"times\", \"times\", \"times\", \"times\", \"times\", \"times\", \"times\", \"times\", \"times\", \"times\", \"tincture\", \"tinners\", \"title\", \"title\", \"title\", \"title\", \"tobacco\", \"tobacco\", \"tobacco\", \"tobacco\", \"tobacco\", \"tobacco\", \"tobacco\", \"tobacco\", \"tobacco\", \"tobacco\", \"tobacco\", \"tobacco\", \"tobacco\", \"ton\", \"tongs\", \"tongs\", \"tons\", \"tons\", \"tons\", \"took\", \"took\", \"took\", \"took\", \"took\", \"took\", \"took\", \"took\", \"toombs\", \"tract\", \"tract\", \"train\", \"train\", \"train\", \"train\", \"train\", \"train\", \"train\", \"trains\", \"trains\", \"trains\", \"trains\", \"trains\", \"trap\", \"trays\", \"treatment\", \"treatment\", \"treatment\", \"treatment\", \"treaty\", \"trego\", \"trevillians\", \"trial\", \"trial\", \"trial\", \"trial\", \"trial\", \"tribune\", \"tribune\", \"triplett\", \"trips\", \"troop\", \"trooper\", \"troops\", \"troops\", \"troops\", \"true\", \"true\", \"true\", \"true\", \"true\", \"true\", \"true\", \"trunks\", \"trunks\", \"trunks\", \"trusses\", \"trust\", \"trust\", \"trustee\", \"trustee\", \"trustees\", \"trustees\", \"ts\", \"ts\", \"ts\", \"ts\", \"ts\", \"ts\", \"ts\", \"ts\", \"ts\", \"ts\", \"ts\", \"ts\", \"ts\", \"ts\", \"ts\", \"ts\", \"ts\", \"ts\", \"ts\", \"ts\", \"ts\", \"ts\", \"ts\", \"ts\", \"tuesdays\", \"tuesdays\", \"tuesdays\", \"tuesdays\", \"tuition\", \"tunstalls\", \"tupman\", \"tupman\", \"tuscaloosa\", \"two\", \"two\", \"two\", \"two\", \"two\", \"two\", \"two\", \"two\", \"two\", \"two\", \"two\", \"two\", \"two\", \"two\", \"two\", \"two\", \"two\", \"two\", \"two\", \"two\", \"two\", \"twymans\", \"tyler\", \"tyler\", \"tyler\", \"tyler\", \"tylers\", \"ulcers\", \"unbleached\", \"unchanged\", \"underwear\", \"undone\", \"unequaled\", \"unhesitatingly\", \"uniform\", \"uniform\", \"uniform\", \"uniforms\", \"uniforms\", \"union\", \"union\", \"union\", \"union\", \"union\", \"union\", \"union\", \"union\", \"union\", \"union\", \"union\", \"union\", \"union\", \"union\", \"united\", \"united\", \"united\", \"united\", \"united\", \"united\", \"united\", \"united\", \"united\", \"university\", \"university\", \"university\", \"unlawful\", \"unsettled\", \"unsettled\", \"urbanna\", \"urns\", \"us\", \"us\", \"us\", \"us\", \"us\", \"us\", \"us\", \"us\", \"us\", \"us\", \"us\", \"us\", \"us\", \"us\", \"us\", \"use\", \"use\", \"use\", \"use\", \"use\", \"use\", \"use\", \"use\", \"use\", \"use\", \"use\", \"use\", \"use\", \"use\", \"utensils\", \"va\", \"va\", \"va\", \"va\", \"va\", \"va\", \"va\", \"va\", \"va\", \"va\", \"va\", \"va\", \"va\", \"va\", \"va\", \"va\", \"va\", \"va\", \"va\", \"va\", \"va\", \"va\", \"va\", \"vacant\", \"vacant\", \"vacant\", \"vacation\", \"valuable\", \"valuable\", \"valuable\", \"valuable\", \"valuable\", \"valuable\", \"valuable\", \"valuable\", \"varied\", \"varied\", \"variety\", \"variety\", \"variety\", \"variety\", \"variety\", \"variety\", \"variety\", \"variety\", \"variety\", \"variety\", \"variety\", \"variety\", \"varnishes\", \"vault\", \"velours\", \"velveteen\", \"vendors\", \"venet\", \"vermont\", \"vermont\", \"vests\", \"vests\", \"vests\", \"vests\", \"vests\", \"vice\", \"vice\", \"vice\", \"victor\", \"vieux\", \"vincennes\", \"vinegar\", \"virginia\", \"virginia\", \"virginia\", \"virginia\", \"virginia\", \"virginia\", \"virginia\", \"virginia\", \"virginia\", \"virginia\", \"virginia\", \"virginia\", \"virginia\", \"virginia\", \"virginia\", \"virginia\", \"virginia\", \"virginia\", \"virginia\", \"virginia\", \"virginia\", \"virginia\", \"virtue\", \"virtue\", \"virtue\", \"virtue\", \"vision\", \"visit\", \"visit\", \"visit\", \"visit\", \"visit\", \"visit\", \"visit\", \"visiting\", \"visiting\", \"visiting\", \"visiting\", \"visiting\", \"volume\", \"volume\", \"volume\", \"vote\", \"vote\", \"vote\", \"vote\", \"vote\", \"votes\", \"votes\", \"votes\", \"vouched\", \"vulcanite\", \"wade\", \"wade\", \"wade\", \"wadsworth\", \"wales\", \"wales\", \"walking\", \"walking\", \"wallace\", \"wallace\", \"wallaces\", \"walnut\", \"walnut\", \"walnuts\", \"wanting\", \"wanting\", \"wanting\", \"war\", \"war\", \"war\", \"wardrobes\", \"wards\", \"wards\", \"wards\", \"wards\", \"wards\", \"ware\", \"ware\", \"ware\", \"ware\", \"ware\", \"ware\", \"ware\", \"wares\", \"wares\", \"warmers\", \"warrington\", \"washer\", \"washer\", \"washington\", \"washington\", \"washington\", \"washington\", \"washington\", \"washington\", \"washington\", \"washstands\", \"watch\", \"watch\", \"watch\", \"watch\", \"watches\", \"watches\", \"watches\", \"watches\", \"watchmen\", \"water\", \"water\", \"water\", \"water\", \"water\", \"water\", \"water\", \"water\", \"water\", \"water\", \"water\", \"water\", \"water\", \"way\", \"way\", \"way\", \"way\", \"way\", \"way\", \"way\", \"way\", \"way\", \"way\", \"way\", \"waynesboro\", \"weakened\", \"wearing\", \"wearing\", \"webb\", \"webb\", \"webb\", \"webb\", \"webbing\", \"wedding\", \"wedding\", \"wedding\", \"wedding\", \"wednesdays\", \"wednesdays\", \"week\", \"week\", \"week\", \"week\", \"week\", \"week\", \"week\", \"week\", \"week\", \"week\", \"week\", \"week\", \"week\", \"week\", \"week\", \"weilbacher\", \"well\", \"well\", \"well\", \"well\", \"well\", \"well\", \"well\", \"well\", \"well\", \"well\", \"well\", \"well\", \"well\", \"well\", \"well\", \"well\", \"well\", \"well\", \"well\", \"well\", \"well\", \"wellford\", \"werth\", \"wertheimer\", \"wessons\", \"west\", \"west\", \"west\", \"west\", \"west\", \"west\", \"west\", \"west\", \"west\", \"west\", \"west\", \"west\", \"west\", \"west\", \"west\", \"west\", \"wetzel\", \"wharf\", \"wharf\", \"wharf\", \"wharf\", \"wheat\", \"wheat\", \"wheat\", \"wheat\", \"wheat\", \"wheat\", \"wheat\", \"wheat\", \"wheat\", \"wheat\", \"whenever\", \"whiskey\", \"whiskey\", \"whiskey\", \"whiskey\", \"whiskey\", \"whiskeys\", \"whiskeys\", \"white\", \"white\", \"white\", \"white\", \"white\", \"white\", \"white\", \"white\", \"white\", \"white\", \"white\", \"white\", \"white\", \"white\", \"white\", \"white\", \"white\", \"white\", \"white\", \"white\", \"whitney\", \"wholesale\", \"wholesale\", \"wholesale\", \"wholesale\", \"wholesale\", \"wholesale\", \"wholesale\", \"wholesale\", \"wholesale\", \"wife\", \"wife\", \"wife\", \"wife\", \"wife\", \"wife\", \"wife\", \"wife\", \"wife\", \"wilcoxs\", \"williams\", \"williams\", \"williams\", \"williams\", \"williams\", \"williams\", \"williams\", \"williams\", \"wilmington\", \"wilmington\", \"wines\", \"wines\", \"wines\", \"wines\", \"wing\", \"winston\", \"winston\", \"winston\", \"winston\", \"winston\", \"winstons\", \"wireman\", \"withdraw\", \"witnesses\", \"wm\", \"wm\", \"wm\", \"wm\", \"wm\", \"wm\", \"wm\", \"wm\", \"wm\", \"wm\", \"wm\", \"wm\", \"wm\", \"wm\", \"wm\", \"wm\", \"wm\", \"wm\", \"wm\", \"wm\", \"woman\", \"woman\", \"woman\", \"woman\", \"woman\", \"woman\", \"woman\", \"woman\", \"woman\", \"wood\", \"wood\", \"wood\", \"wood\", \"wood\", \"wood\", \"wood\", \"wood\", \"wood\", \"wood\", \"wood\", \"wood\", \"wooden\", \"wooden\", \"woolhouse\", \"worbinton\", \"work\", \"work\", \"work\", \"work\", \"work\", \"work\", \"work\", \"work\", \"work\", \"work\", \"work\", \"work\", \"work\", \"work\", \"workmen\", \"workmen\", \"workmen\", \"works\", \"works\", \"works\", \"works\", \"works\", \"works\", \"works\", \"works\", \"works\", \"works\", \"works\", \"worm\", \"worth\", \"worth\", \"worth\", \"worth\", \"worth\", \"worth\", \"worth\", \"wounded\", \"wounded\", \"yard\", \"yard\", \"yard\", \"yard\", \"yard\", \"yard\", \"yard\", \"yard\", \"yard\", \"year\", \"year\", \"year\", \"year\", \"year\", \"year\", \"year\", \"year\", \"year\", \"year\", \"year\", \"year\", \"year\", \"year\", \"years\", \"years\", \"years\", \"years\", \"years\", \"years\", \"years\", \"years\", \"years\", \"years\", \"years\", \"years\", \"years\", \"years\", \"years\", \"years\", \"years\", \"years\", \"years\", \"years\", \"years\", \"yesterday\", \"yesterday\", \"yesterday\", \"yesterday\", \"yesterday\", \"yesterday\", \"yesterday\", \"yesterday\", \"york\", \"york\", \"york\", \"york\", \"york\", \"york\", \"york\", \"york\", \"york\", \"york\", \"york\", \"york\", \"york\", \"york\", \"york\", \"york\", \"york\", \"york\", \"york\", \"york\", \"yorktown\", \"yorktown\", \"yorktown\", \"yorktown\", \"young\", \"young\", \"young\", \"young\", \"young\", \"young\", \"young\", \"young\", \"young\", \"young\", \"young\", \"young\", \"young\", \"zanesville\", \"zouave\", \"zouave\"]}, \"R\": 30, \"lambda.step\": 0.01, \"plot.opts\": {\"xlab\": \"PC1\", \"ylab\": \"PC2\"}, \"topic.order\": [27, 3, 25, 7, 24, 4, 2, 9, 14, 1, 18, 16, 11, 13, 12, 5, 19, 8, 29, 21, 22, 20, 30, 17, 6, 23, 28, 10, 26, 15]};\n",
       "\n",
       "function LDAvis_load_lib(url, callback){\n",
       "  var s = document.createElement('script');\n",
       "  s.src = url;\n",
       "  s.async = true;\n",
       "  s.onreadystatechange = s.onload = callback;\n",
       "  s.onerror = function(){console.warn(\"failed to load library \" + url);};\n",
       "  document.getElementsByTagName(\"head\")[0].appendChild(s);\n",
       "}\n",
       "\n",
       "if(typeof(LDAvis) !== \"undefined\"){\n",
       "   // already loaded: just create the visualization\n",
       "   !function(LDAvis){\n",
       "       new LDAvis(\"#\" + \"ldavis_el450341406256159867685444818446\", ldavis_el450341406256159867685444818446_data);\n",
       "   }(LDAvis);\n",
       "}else if(typeof define === \"function\" && define.amd){\n",
       "   // require.js is available: use it to load d3/LDAvis\n",
       "   require.config({paths: {d3: \"https://cdnjs.cloudflare.com/ajax/libs/d3/3.5.5/d3.min\"}});\n",
       "   require([\"d3\"], function(d3){\n",
       "      window.d3 = d3;\n",
       "      LDAvis_load_lib(\"https://cdn.rawgit.com/bmabey/pyLDAvis/files/ldavis.v1.0.0.js\", function(){\n",
       "        new LDAvis(\"#\" + \"ldavis_el450341406256159867685444818446\", ldavis_el450341406256159867685444818446_data);\n",
       "      });\n",
       "    });\n",
       "}else{\n",
       "    // require.js not available: dynamically load d3 & LDAvis\n",
       "    LDAvis_load_lib(\"https://cdnjs.cloudflare.com/ajax/libs/d3/3.5.5/d3.min.js\", function(){\n",
       "         LDAvis_load_lib(\"https://cdn.rawgit.com/bmabey/pyLDAvis/files/ldavis.v1.0.0.js\", function(){\n",
       "                 new LDAvis(\"#\" + \"ldavis_el450341406256159867685444818446\", ldavis_el450341406256159867685444818446_data);\n",
       "            })\n",
       "         });\n",
       "}\n",
       "</script>"
      ],
      "text/plain": [
       "PreparedData(topic_coordinates=              x         y  topics  cluster      Freq\n",
       "topic                                               \n",
       "26     0.201412  0.182953       1        1  8.515550\n",
       "2      0.041742 -0.173234       2        1  6.999181\n",
       "24     0.195027  0.136601       3        1  5.465129\n",
       "6      0.174588  0.012720       4        1  4.929238\n",
       "23    -0.218087  0.097274       5        1  4.770684\n",
       "3     -0.161923  0.151760       6        1  4.575382\n",
       "1      0.199279  0.041051       7        1  4.235716\n",
       "8      0.225868  0.028580       8        1  4.167234\n",
       "13     0.022239 -0.200675       9        1  3.677657\n",
       "0     -0.190587  0.047214      10        1  3.359592\n",
       "17     0.027739  0.016010      11        1  3.327706\n",
       "15    -0.055950 -0.082614      12        1  3.215659\n",
       "10    -0.093349  0.019940      13        1  3.159924\n",
       "12    -0.135931  0.075752      14        1  3.024631\n",
       "11    -0.042061 -0.015579      15        1  2.906144\n",
       "4      0.198614  0.088473      16        1  2.742028\n",
       "18     0.033267 -0.095314      17        1  2.731114\n",
       "7     -0.030952 -0.096218      18        1  2.703804\n",
       "28    -0.028971 -0.014671      19        1  2.669471\n",
       "20    -0.009578 -0.152655      20        1  2.432825\n",
       "21    -0.121058  0.066050      21        1  2.288582\n",
       "19    -0.032984 -0.067534      22        1  2.253728\n",
       "29    -0.132678  0.015335      23        1  2.202251\n",
       "16    -0.105315 -0.009167      24        1  2.175992\n",
       "5     -0.070818 -0.042601      25        1  2.162203\n",
       "22     0.031953 -0.162755      26        1  2.117065\n",
       "27    -0.027883  0.015099      27        1  1.986438\n",
       "9      0.202326 -0.030660      28        1  1.829295\n",
       "25    -0.015172  0.014814      29        1  1.733027\n",
       "14    -0.080759  0.134053      30        1  1.642750, topic_info=     Category         Freq    Term        Total  loglift  logprob\n",
       "26    Default  4825.000000     amp  4825.000000  30.0000  30.0000\n",
       "1423  Default  1063.000000    feet  1063.000000  29.0000  29.0000\n",
       "3261  Default   587.000000     mrs   587.000000  28.0000  28.0000\n",
       "295   Default  2131.000000    sale  2131.000000  27.0000  27.0000\n",
       "250   Default  1601.000000      co  1601.000000  26.0000  26.0000\n",
       "...       ...          ...     ...          ...      ...      ...\n",
       "20    Topic30    63.903255  street  2244.494629   0.5499  -4.6856\n",
       "3172  Topic30    46.529560   goods  1257.298340   0.8122  -5.0029\n",
       "12    Topic30    47.601933    main  1904.289185   0.4198  -4.9801\n",
       "26    Topic30    45.645988     amp  4825.205566  -0.5519  -5.0221\n",
       "404   Topic30    39.419128    call   841.185608   1.0482  -5.1687\n",
       "\n",
       "[2270 rows x 6 columns], token_table=       Topic      Freq        Term\n",
       "term                              \n",
       "5887       1  0.957464       abide\n",
       "11634     15  0.065828   abilities\n",
       "11634     26  0.855767   abilities\n",
       "5820      21  0.925763      abneys\n",
       "6019      18  0.047456   absconded\n",
       "...      ...       ...         ...\n",
       "1109      26  0.060590       young\n",
       "1109      28  0.042413       young\n",
       "7458       4  0.946972  zanesville\n",
       "5117       6  0.208727      zouave\n",
       "5117      30  0.775272      zouave\n",
       "\n",
       "[7316 rows x 3 columns], R=30, lambda_step=0.01, plot_opts={'xlab': 'PC1', 'ylab': 'PC2'}, topic_order=[27, 3, 25, 7, 24, 4, 2, 9, 14, 1, 18, 16, 11, 13, 12, 5, 19, 8, 29, 21, 22, 20, 30, 17, 6, 23, 28, 10, 26, 15])"
      ]
     },
     "execution_count": 131,
     "metadata": {},
     "output_type": "execute_result"
    }
   ],
   "source": [
    "# Visualize the topics\n",
    "pyLDAvis.enable_notebook()\n",
    "pyLDAvis.gensim.prepare(lda_model, corpus, dictionary)"
   ]
  },
  {
   "cell_type": "code",
   "execution_count": null,
   "metadata": {},
   "outputs": [],
   "source": []
  },
  {
   "cell_type": "markdown",
   "metadata": {},
   "source": [
    "# Let's explore our topics more"
   ]
  },
  {
   "cell_type": "code",
   "execution_count": 132,
   "metadata": {},
   "outputs": [
    {
     "data": {
      "text/html": [
       "<div>\n",
       "<style scoped>\n",
       "    .dataframe tbody tr th:only-of-type {\n",
       "        vertical-align: middle;\n",
       "    }\n",
       "\n",
       "    .dataframe tbody tr th {\n",
       "        vertical-align: top;\n",
       "    }\n",
       "\n",
       "    .dataframe thead th {\n",
       "        text-align: right;\n",
       "    }\n",
       "</style>\n",
       "<table border=\"1\" class=\"dataframe\">\n",
       "  <thead>\n",
       "    <tr style=\"text-align: right;\">\n",
       "      <th></th>\n",
       "      <th>month</th>\n",
       "      <th>date</th>\n",
       "      <th>type</th>\n",
       "      <th>header</th>\n",
       "      <th>content</th>\n",
       "      <th>textData</th>\n",
       "      <th>textDataLists</th>\n",
       "      <th>textDataListsFiltered</th>\n",
       "    </tr>\n",
       "  </thead>\n",
       "  <tbody>\n",
       "    <tr>\n",
       "      <th>1</th>\n",
       "      <td>1860-01-02</td>\n",
       "      <td>1860-02-13</td>\n",
       "      <td>advert</td>\n",
       "      <td>NaN</td>\n",
       "      <td>\\n \\n\\n\\nDr. Geo. W. Briggs offers his profes...</td>\n",
       "      <td>\\n \\n\\n\\nDr. Geo. W. Briggs offers his profes...</td>\n",
       "      <td>[dr, geo, briggs, offers, his, professional, s...</td>\n",
       "      <td>[dr, geo, briggs, offers, professional, servic...</td>\n",
       "    </tr>\n",
       "    <tr>\n",
       "      <th>2</th>\n",
       "      <td>1860-01-02</td>\n",
       "      <td>1860-02-13</td>\n",
       "      <td>advert</td>\n",
       "      <td>Preston M. Quarles, Notary public for the City...</td>\n",
       "      <td>\\n \\n\\n\\n --As Notary, will take depositions ...</td>\n",
       "      <td>\\n \\n\\n\\n --As Notary, will take depositions ...</td>\n",
       "      <td>[as, notary, will, take, depositions, and, ack...</td>\n",
       "      <td>[notary, take, depositions, acknowledgments, a...</td>\n",
       "    </tr>\n",
       "    <tr>\n",
       "      <th>3</th>\n",
       "      <td>1860-01-02</td>\n",
       "      <td>1860-02-13</td>\n",
       "      <td>advert</td>\n",
       "      <td>NaN</td>\n",
       "      <td>\\nHenry Coalter Cabell.\\n\\nJ. H. Sands.Cabell...</td>\n",
       "      <td>\\nHenry Coalter Cabell.\\n\\nJ. H. Sands.Cabell...</td>\n",
       "      <td>[henry, coalter, cabell, sands, cabell, amp, s...</td>\n",
       "      <td>[henry, coalter, cabell, sands, cabell, amp, s...</td>\n",
       "    </tr>\n",
       "    <tr>\n",
       "      <th>4</th>\n",
       "      <td>1860-01-02</td>\n",
       "      <td>1860-02-13</td>\n",
       "      <td>advert</td>\n",
       "      <td>Edward E. Orvis,Attorney at Lawand Notary publ...</td>\n",
       "      <td>\\n \\n\\n\\n Will attend promptly to all busines...</td>\n",
       "      <td>\\n \\n\\n\\n Will attend promptly to all busines...</td>\n",
       "      <td>[will, attend, promptly, to, all, business, pl...</td>\n",
       "      <td>[attend, promptly, business, placed, hands, of...</td>\n",
       "    </tr>\n",
       "    <tr>\n",
       "      <th>5</th>\n",
       "      <td>1860-01-02</td>\n",
       "      <td>1860-02-13</td>\n",
       "      <td>advert</td>\n",
       "      <td>Shockoe Hill GeneralAgency.G. W. H. Tyler.</td>\n",
       "      <td>\\n \\n\\n\\n Office on Marshall, between Sixth a...</td>\n",
       "      <td>\\n \\n\\n\\n Office on Marshall, between Sixth a...</td>\n",
       "      <td>[office, on, marshall, between, sixth, and, se...</td>\n",
       "      <td>[office, marshall, sixth, seventh, streets, co...</td>\n",
       "    </tr>\n",
       "  </tbody>\n",
       "</table>\n",
       "</div>"
      ],
      "text/plain": [
       "       month        date    type  \\\n",
       "1 1860-01-02  1860-02-13  advert   \n",
       "2 1860-01-02  1860-02-13  advert   \n",
       "3 1860-01-02  1860-02-13  advert   \n",
       "4 1860-01-02  1860-02-13  advert   \n",
       "5 1860-01-02  1860-02-13  advert   \n",
       "\n",
       "                                              header  \\\n",
       "1                                                NaN   \n",
       "2  Preston M. Quarles, Notary public for the City...   \n",
       "3                                                NaN   \n",
       "4  Edward E. Orvis,Attorney at Lawand Notary publ...   \n",
       "5         Shockoe Hill GeneralAgency.G. W. H. Tyler.   \n",
       "\n",
       "                                             content  \\\n",
       "1   \\n \\n\\n\\nDr. Geo. W. Briggs offers his profes...   \n",
       "2   \\n \\n\\n\\n --As Notary, will take depositions ...   \n",
       "3   \\nHenry Coalter Cabell.\\n\\nJ. H. Sands.Cabell...   \n",
       "4   \\n \\n\\n\\n Will attend promptly to all busines...   \n",
       "5   \\n \\n\\n\\n Office on Marshall, between Sixth a...   \n",
       "\n",
       "                                            textData  \\\n",
       "1   \\n \\n\\n\\nDr. Geo. W. Briggs offers his profes...   \n",
       "2   \\n \\n\\n\\n --As Notary, will take depositions ...   \n",
       "3   \\nHenry Coalter Cabell.\\n\\nJ. H. Sands.Cabell...   \n",
       "4   \\n \\n\\n\\n Will attend promptly to all busines...   \n",
       "5   \\n \\n\\n\\n Office on Marshall, between Sixth a...   \n",
       "\n",
       "                                       textDataLists  \\\n",
       "1  [dr, geo, briggs, offers, his, professional, s...   \n",
       "2  [as, notary, will, take, depositions, and, ack...   \n",
       "3  [henry, coalter, cabell, sands, cabell, amp, s...   \n",
       "4  [will, attend, promptly, to, all, business, pl...   \n",
       "5  [office, on, marshall, between, sixth, and, se...   \n",
       "\n",
       "                               textDataListsFiltered  \n",
       "1  [dr, geo, briggs, offers, professional, servic...  \n",
       "2  [notary, take, depositions, acknowledgments, a...  \n",
       "3  [henry, coalter, cabell, sands, cabell, amp, s...  \n",
       "4  [attend, promptly, business, placed, hands, of...  \n",
       "5  [office, marshall, sixth, seventh, streets, co...  "
      ]
     },
     "execution_count": 132,
     "metadata": {},
     "output_type": "execute_result"
    }
   ],
   "source": [
    "dispatch_light.head()"
   ]
  },
  {
   "cell_type": "markdown",
   "metadata": {},
   "source": [
    "We can remove columns (we have too many of them now) in the following manner (numbers refer to the ordinal number of columns; counting from zero!):"
   ]
  },
  {
   "cell_type": "code",
   "execution_count": 133,
   "metadata": {},
   "outputs": [
    {
     "data": {
      "text/html": [
       "<div>\n",
       "<style scoped>\n",
       "    .dataframe tbody tr th:only-of-type {\n",
       "        vertical-align: middle;\n",
       "    }\n",
       "\n",
       "    .dataframe tbody tr th {\n",
       "        vertical-align: top;\n",
       "    }\n",
       "\n",
       "    .dataframe thead th {\n",
       "        text-align: right;\n",
       "    }\n",
       "</style>\n",
       "<table border=\"1\" class=\"dataframe\">\n",
       "  <thead>\n",
       "    <tr style=\"text-align: right;\">\n",
       "      <th></th>\n",
       "      <th>month</th>\n",
       "      <th>date</th>\n",
       "      <th>type</th>\n",
       "      <th>header</th>\n",
       "      <th>content</th>\n",
       "      <th>textData</th>\n",
       "    </tr>\n",
       "  </thead>\n",
       "  <tbody>\n",
       "    <tr>\n",
       "      <th>1</th>\n",
       "      <td>1860-01-02</td>\n",
       "      <td>1860-02-13</td>\n",
       "      <td>advert</td>\n",
       "      <td>NaN</td>\n",
       "      <td>\\n \\n\\n\\nDr. Geo. W. Briggs offers his profes...</td>\n",
       "      <td>\\n \\n\\n\\nDr. Geo. W. Briggs offers his profes...</td>\n",
       "    </tr>\n",
       "    <tr>\n",
       "      <th>2</th>\n",
       "      <td>1860-01-02</td>\n",
       "      <td>1860-02-13</td>\n",
       "      <td>advert</td>\n",
       "      <td>Preston M. Quarles, Notary public for the City...</td>\n",
       "      <td>\\n \\n\\n\\n --As Notary, will take depositions ...</td>\n",
       "      <td>\\n \\n\\n\\n --As Notary, will take depositions ...</td>\n",
       "    </tr>\n",
       "    <tr>\n",
       "      <th>3</th>\n",
       "      <td>1860-01-02</td>\n",
       "      <td>1860-02-13</td>\n",
       "      <td>advert</td>\n",
       "      <td>NaN</td>\n",
       "      <td>\\nHenry Coalter Cabell.\\n\\nJ. H. Sands.Cabell...</td>\n",
       "      <td>\\nHenry Coalter Cabell.\\n\\nJ. H. Sands.Cabell...</td>\n",
       "    </tr>\n",
       "    <tr>\n",
       "      <th>4</th>\n",
       "      <td>1860-01-02</td>\n",
       "      <td>1860-02-13</td>\n",
       "      <td>advert</td>\n",
       "      <td>Edward E. Orvis,Attorney at Lawand Notary publ...</td>\n",
       "      <td>\\n \\n\\n\\n Will attend promptly to all busines...</td>\n",
       "      <td>\\n \\n\\n\\n Will attend promptly to all busines...</td>\n",
       "    </tr>\n",
       "    <tr>\n",
       "      <th>5</th>\n",
       "      <td>1860-01-02</td>\n",
       "      <td>1860-02-13</td>\n",
       "      <td>advert</td>\n",
       "      <td>Shockoe Hill GeneralAgency.G. W. H. Tyler.</td>\n",
       "      <td>\\n \\n\\n\\n Office on Marshall, between Sixth a...</td>\n",
       "      <td>\\n \\n\\n\\n Office on Marshall, between Sixth a...</td>\n",
       "    </tr>\n",
       "  </tbody>\n",
       "</table>\n",
       "</div>"
      ],
      "text/plain": [
       "       month        date    type  \\\n",
       "1 1860-01-02  1860-02-13  advert   \n",
       "2 1860-01-02  1860-02-13  advert   \n",
       "3 1860-01-02  1860-02-13  advert   \n",
       "4 1860-01-02  1860-02-13  advert   \n",
       "5 1860-01-02  1860-02-13  advert   \n",
       "\n",
       "                                              header  \\\n",
       "1                                                NaN   \n",
       "2  Preston M. Quarles, Notary public for the City...   \n",
       "3                                                NaN   \n",
       "4  Edward E. Orvis,Attorney at Lawand Notary publ...   \n",
       "5         Shockoe Hill GeneralAgency.G. W. H. Tyler.   \n",
       "\n",
       "                                             content  \\\n",
       "1   \\n \\n\\n\\nDr. Geo. W. Briggs offers his profes...   \n",
       "2   \\n \\n\\n\\n --As Notary, will take depositions ...   \n",
       "3   \\nHenry Coalter Cabell.\\n\\nJ. H. Sands.Cabell...   \n",
       "4   \\n \\n\\n\\n Will attend promptly to all busines...   \n",
       "5   \\n \\n\\n\\n Office on Marshall, between Sixth a...   \n",
       "\n",
       "                                            textData  \n",
       "1   \\n \\n\\n\\nDr. Geo. W. Briggs offers his profes...  \n",
       "2   \\n \\n\\n\\n --As Notary, will take depositions ...  \n",
       "3   \\nHenry Coalter Cabell.\\n\\nJ. H. Sands.Cabell...  \n",
       "4   \\n \\n\\n\\n Will attend promptly to all busines...  \n",
       "5   \\n \\n\\n\\n Office on Marshall, between Sixth a...  "
      ]
     },
     "execution_count": 133,
     "metadata": {},
     "output_type": "execute_result"
    }
   ],
   "source": [
    "dispatch_lightest = dispatch_light.drop(dispatch_light.columns[[6, 7]], axis=1)\n",
    "dispatch_lightest.head()"
   ]
  },
  {
   "cell_type": "code",
   "execution_count": 137,
   "metadata": {},
   "outputs": [],
   "source": [
    "number_of_topics = 30"
   ]
  },
  {
   "cell_type": "markdown",
   "metadata": {},
   "source": [
    "## `get_document_topics` for the entire corpus"
   ]
  },
  {
   "cell_type": "markdown",
   "metadata": {},
   "source": [
    "You can get `doc_topics`, `word_topics` and `phi_values` (probabilities of words for topics) for all the documents in the corpus in the following manner:"
   ]
  },
  {
   "cell_type": "code",
   "execution_count": 138,
   "metadata": {},
   "outputs": [
    {
     "name": "stdout",
     "output_type": "stream",
     "text": [
      "--------------------------------------------------\n",
      "CPU times: user 865 µs, sys: 0 ns, total: 865 µs\n",
      "Wall time: 649 µs\n"
     ]
    }
   ],
   "source": [
    "%%time\n",
    "all_topics = lda_model.get_document_topics(corpus, per_word_topics=True)\n",
    "print(\"-\"*50)"
   ]
  },
  {
   "cell_type": "markdown",
   "metadata": {},
   "source": [
    "Let's print out data for the first document:"
   ]
  },
  {
   "cell_type": "code",
   "execution_count": 139,
   "metadata": {},
   "outputs": [
    {
     "name": "stdout",
     "output_type": "stream",
     "text": [
      "New Document\n",
      "\n",
      "Document topics: [(6, 0.08902816), (7, 0.079364), (12, 0.53893304), (20, 0.27528057)]\n",
      "\n",
      "Word topics: [(0, [20]), (1, [12, 20, 6]), (2, [6]), (3, [12, 6]), (4, [12, 6]), (5, [12, 20, 6]), (6, [7]), (7, [20, 12]), (8, [20, 12, 7]), (9, [20, 6]), (10, [20, 6]), (11, [12, 7, 20]), (12, [12, 20, 7]), (13, [12, 6]), (14, [12, 20]), (15, [12, 7, 20, 6]), (16, [12]), (17, [20, 12, 7]), (18, [12, 7, 20, 6]), (19, [12, 6]), (20, [12, 20, 7, 6]), (21, [12, 20]), (22, [12])]\n",
      "\n",
      "Phi values: [(0, [(20, 0.99911463)]), (1, [(6, 0.02955524), (12, 0.8168769), (20, 0.15350613)]), (2, [(6, 0.9995749)]), (3, [(6, 0.08689495), (12, 0.9129578)]), (4, [(6, 0.24851474), (12, 0.75100046)]), (5, [(6, 0.017782647), (12, 0.64270395), (20, 0.33949098)]), (6, [(7, 0.98507404)]), (7, [(12, 0.09938827), (20, 0.9001804)]), (8, [(7, 0.09621509), (12, 0.43426248), (20, 0.46945757)]), (9, [(6, 0.030473849), (20, 0.9694414)]), (10, [(6, 0.07196228), (20, 0.92792714)]), (11, [(7, 0.122986816), (12, 0.84296966), (20, 0.0339021)]), (12, [(7, 0.01241627), (12, 0.96936965), (20, 0.01541327)]), (13, [(6, 0.3998246), (12, 0.60001147)]), (14, [(12, 0.59390926), (20, 0.40591085)]), (15, [(6, 0.07310959), (7, 0.28258), (12, 0.40542176), (20, 0.23885037)]), (16, [(12, 0.99972236)]), (17, [(7, 0.0147635415), (12, 0.38875356), (20, 0.5963738)]), (18, [(6, 0.05202496), (7, 0.30014986), (12, 0.49833062), (20, 0.1494729)]), (19, [(6, 0.044462163), (12, 0.955424)]), (20, [(6, 0.016705986), (7, 0.032973256), (12, 0.8939372), (20, 0.05637019)]), (21, [(12, 0.81448805), (20, 0.18548886)]), (22, [(12, 0.9982798)])]\n",
      "-------------- \n",
      "\n",
      "--------------------------------------------------\n",
      "CPU times: user 4.83 ms, sys: 4.28 ms, total: 9.11 ms\n",
      "Wall time: 8.98 ms\n"
     ]
    }
   ],
   "source": [
    "%%time\n",
    "\n",
    "for doc_topics, word_topics, phi_values in all_topics[:1]:\n",
    "    print('New Document')\n",
    "    print('\\nDocument topics:', doc_topics)\n",
    "    print('\\nWord topics:', word_topics)\n",
    "    print('\\nPhi values:', phi_values)\n",
    "    #print(\" \")\n",
    "    print('-------------- \\n')\n",
    "\n",
    "print(\"-\"*50)"
   ]
  },
  {
   "cell_type": "markdown",
   "metadata": {},
   "source": [
    "Let's build a dataframe with topic values for every item (article) from the Dispatch. This will allow us to do more interesting things.\n",
    "\n",
    "**NB:** for the entire run of Dispatch it took:\n",
    "```\n",
    "--------------------------------------------------\n",
    "CPU times: user 26min 26s, sys: 3min 20s, total: 29min 46s\n",
    "Wall time: 16min 3s\n",
    "```"
   ]
  },
  {
   "cell_type": "code",
   "execution_count": 140,
   "metadata": {},
   "outputs": [
    {
     "name": "stdout",
     "output_type": "stream",
     "text": [
      "CPU times: user 27.4 ms, sys: 7.69 ms, total: 35.1 ms\n",
      "Wall time: 33.1 ms\n"
     ]
    }
   ],
   "source": [
    "%%time\n",
    "\n",
    "topicTableCols = [] # empty table for topic values (technically, a list still)\n",
    "topicDic = {} # a dictionary with top words per topic\n",
    "\n",
    "for i in range(0, number_of_topics, 1):\n",
    "    tVal = \"t%02d\" % i\n",
    "    topicTableCols.append(tVal)\n",
    "    \n",
    "    topicVals  = lda_model.show_topic(i)\n",
    "    topicWords = \", \".join([word for word, prob in topicVals])\n",
    "    topicDic[tVal] = topicWords\n"
   ]
  },
  {
   "cell_type": "code",
   "execution_count": 141,
   "metadata": {},
   "outputs": [
    {
     "name": "stdout",
     "output_type": "stream",
     "text": [
      "{'t00': 'amp, main, co, sale, store, brushes, street, rheumatism, medicines, '\n",
      "        'best',\n",
      " 't01': 'new, one, last, time, night, mr, take, morning, little, old',\n",
      " 't02': 'sale, day, amp, terms, fair, auction, one, sell, house, oclock',\n",
      " 't03': 'goods, ladies, amp, prices, stock, black, new, fine, large, cloaks',\n",
      " 't04': 'one, made, mr, day, night, last, well, man, virginia, principal',\n",
      " 't05': 'bbls, sale, wm, amp, new, richmond, hhds, extra, sons, york',\n",
      " 't06': 'washington, state, states, new, mr, house, nov, convention, day, '\n",
      "        'carolina',\n",
      " 't07': 'richmond, office, leave, daily, express, city, expresses, new, '\n",
      "        'courts, streets',\n",
      " 't08': 'mr, messrs, two, one, company, col, regiment, last, number, capt',\n",
      " 't09': 'yesterday, court, mayor, john, last, charge, night, found, morning, '\n",
      "        'saturday',\n",
      " 't10': 'per, cents, virginia, stock, bbls, oil, sales, amp, bonds, richings',\n",
      " 't11': 'week, patients, per, persons, rooms, private, white, medical, st, '\n",
      "        'physicians',\n",
      " 't12': 'main, amp, street, clothing, corner, st, sts, new, made, best',\n",
      " 't13': 'feet, lot, street, acres, heretofore, charged, st, plan, near, estate',\n",
      " 't14': 'remedy, great, diuretic, standing, long, cure, extract, ladies, '\n",
      "        'buchu, helmbolds',\n",
      " 't15': 'amp, apply, oc, ts, gas, freight, street, burners, wm, dispatch',\n",
      " 't16': 'point, richmond, west, street, stock, arrive, leave, page, dispatch, '\n",
      "        'amp',\n",
      " 't17': 'new, york, market, cotton, banks, nov, city, per, dull, firm',\n",
      " 't18': 'bank, st, talley, notes, virginia, banks, state, john, due, day',\n",
      " 't19': 'schr, oclock, amp, order, nov, st, co, new, richmond, evening',\n",
      " 't20': 'mrs, miss, jno, good, amp, apply, wm, ts, cook, coke',\n",
      " 't21': 'new, amp, mechanics, institute, co, price, virginia, oil, sts, '\n",
      "        'richmond',\n",
      " 't22': 'wm, county, john, business, city, reward, office, insurance, corner, '\n",
      "        'geo',\n",
      " 't23': 'amp, co, sale, goods, oil, stock, main, large, st, call',\n",
      " 't24': 'one, american, prince, two, english, great, years, england, london, '\n",
      "        'times',\n",
      " 't25': 'breckinridge, bell, douglas, majority, co, counties, official, '\n",
      "        'county, vote, stock',\n",
      " 't26': 'south, state, states, people, may, southern, union, men, us, '\n",
      "        'government',\n",
      " 't27': 'street, main, cts, teeth, gold, city, oclock, lewis, south, price',\n",
      " 't28': 'amp, richmond, train, ts, jacksons, staunton, railroad, river, '\n",
      "        'farmers, main',\n",
      " 't29': 'st, main, amp, broad, late, surgical, sale, styles, meade, week'}\n"
     ]
    }
   ],
   "source": [
    "pprint(topicDic)"
   ]
  },
  {
   "cell_type": "markdown",
   "metadata": {},
   "source": [
    "The following step may take a couple minutes.\n",
    "\n",
    "- Here were creating an empty row (filled with zeros) for each document in our corpus\n",
    "- then we loop through all topic values for every given document\n",
    "- and feed existing values into our row with zeros (if we have a value, it will replace a zero)\n",
    "- you can uncomment `print` lines in the code below to see the steps of the process"
   ]
  },
  {
   "cell_type": "code",
   "execution_count": 142,
   "metadata": {},
   "outputs": [
    {
     "name": "stdout",
     "output_type": "stream",
     "text": [
      "--------------------------------------------------\n",
      "CPU times: user 27 s, sys: 5.78 s, total: 32.7 s\n",
      "Wall time: 19.6 s\n"
     ]
    }
   ],
   "source": [
    "%%time\n",
    "\n",
    "topicTableRows = [] # now we are feeding topic values into our empty table\n",
    "\n",
    "for doc_topics, word_topics, phi_values in all_topics:\n",
    "    rawRow = [0] * number_of_topics\n",
    "    #print(rawRow)\n",
    "    #print(doc_topics)\n",
    "    for t in doc_topics:\n",
    "        #print(t)\n",
    "        rawRow[t[0]] = t[1]\n",
    "    #input(rawRow)\n",
    "    topicTableRows.append(rawRow)\n",
    "\n",
    "print(\"-\"*50)"
   ]
  },
  {
   "cell_type": "markdown",
   "metadata": {},
   "source": [
    "So, our corpus table length:"
   ]
  },
  {
   "cell_type": "code",
   "execution_count": 143,
   "metadata": {},
   "outputs": [
    {
     "data": {
      "text/plain": [
       "7743"
      ]
     },
     "execution_count": 143,
     "metadata": {},
     "output_type": "execute_result"
    }
   ],
   "source": [
    "len(dispatch_lightest)"
   ]
  },
  {
   "cell_type": "markdown",
   "metadata": {},
   "source": [
    "And our topic table length:"
   ]
  },
  {
   "cell_type": "code",
   "execution_count": 144,
   "metadata": {},
   "outputs": [
    {
     "data": {
      "text/plain": [
       "7743"
      ]
     },
     "execution_count": 144,
     "metadata": {},
     "output_type": "execute_result"
    }
   ],
   "source": [
    "len(topicTableRows)"
   ]
  },
  {
   "cell_type": "markdown",
   "metadata": {},
   "source": [
    "We just need to convert it into a proper dataframe format:"
   ]
  },
  {
   "cell_type": "code",
   "execution_count": 145,
   "metadata": {},
   "outputs": [
    {
     "data": {
      "text/html": [
       "<div>\n",
       "<style scoped>\n",
       "    .dataframe tbody tr th:only-of-type {\n",
       "        vertical-align: middle;\n",
       "    }\n",
       "\n",
       "    .dataframe tbody tr th {\n",
       "        vertical-align: top;\n",
       "    }\n",
       "\n",
       "    .dataframe thead th {\n",
       "        text-align: right;\n",
       "    }\n",
       "</style>\n",
       "<table border=\"1\" class=\"dataframe\">\n",
       "  <thead>\n",
       "    <tr style=\"text-align: right;\">\n",
       "      <th></th>\n",
       "      <th>t00</th>\n",
       "      <th>t01</th>\n",
       "      <th>t02</th>\n",
       "      <th>t03</th>\n",
       "      <th>t04</th>\n",
       "      <th>t05</th>\n",
       "      <th>t06</th>\n",
       "      <th>t07</th>\n",
       "      <th>t08</th>\n",
       "      <th>t09</th>\n",
       "      <th>...</th>\n",
       "      <th>t20</th>\n",
       "      <th>t21</th>\n",
       "      <th>t22</th>\n",
       "      <th>t23</th>\n",
       "      <th>t24</th>\n",
       "      <th>t25</th>\n",
       "      <th>t26</th>\n",
       "      <th>t27</th>\n",
       "      <th>t28</th>\n",
       "      <th>t29</th>\n",
       "    </tr>\n",
       "  </thead>\n",
       "  <tbody>\n",
       "    <tr>\n",
       "      <th>0</th>\n",
       "      <td>0.000000</td>\n",
       "      <td>0.000000</td>\n",
       "      <td>0.000000</td>\n",
       "      <td>0.000000</td>\n",
       "      <td>0.0</td>\n",
       "      <td>0.0</td>\n",
       "      <td>0.088916</td>\n",
       "      <td>0.079428</td>\n",
       "      <td>0.0</td>\n",
       "      <td>0.000000</td>\n",
       "      <td>...</td>\n",
       "      <td>0.275306</td>\n",
       "      <td>0.000000</td>\n",
       "      <td>0.000000</td>\n",
       "      <td>0.000000</td>\n",
       "      <td>0.000000</td>\n",
       "      <td>0.000000</td>\n",
       "      <td>0.000000</td>\n",
       "      <td>0.0</td>\n",
       "      <td>0.000000</td>\n",
       "      <td>0.0</td>\n",
       "    </tr>\n",
       "    <tr>\n",
       "      <th>1</th>\n",
       "      <td>0.000000</td>\n",
       "      <td>0.066974</td>\n",
       "      <td>0.000000</td>\n",
       "      <td>0.000000</td>\n",
       "      <td>0.0</td>\n",
       "      <td>0.0</td>\n",
       "      <td>0.191098</td>\n",
       "      <td>0.681389</td>\n",
       "      <td>0.0</td>\n",
       "      <td>0.000000</td>\n",
       "      <td>...</td>\n",
       "      <td>0.000000</td>\n",
       "      <td>0.000000</td>\n",
       "      <td>0.000000</td>\n",
       "      <td>0.000000</td>\n",
       "      <td>0.000000</td>\n",
       "      <td>0.000000</td>\n",
       "      <td>0.000000</td>\n",
       "      <td>0.0</td>\n",
       "      <td>0.000000</td>\n",
       "      <td>0.0</td>\n",
       "    </tr>\n",
       "    <tr>\n",
       "      <th>2</th>\n",
       "      <td>0.000000</td>\n",
       "      <td>0.000000</td>\n",
       "      <td>0.000000</td>\n",
       "      <td>0.000000</td>\n",
       "      <td>0.0</td>\n",
       "      <td>0.0</td>\n",
       "      <td>0.000000</td>\n",
       "      <td>0.984757</td>\n",
       "      <td>0.0</td>\n",
       "      <td>0.000000</td>\n",
       "      <td>...</td>\n",
       "      <td>0.000000</td>\n",
       "      <td>0.000000</td>\n",
       "      <td>0.000000</td>\n",
       "      <td>0.000000</td>\n",
       "      <td>0.000000</td>\n",
       "      <td>0.000000</td>\n",
       "      <td>0.000000</td>\n",
       "      <td>0.0</td>\n",
       "      <td>0.000000</td>\n",
       "      <td>0.0</td>\n",
       "    </tr>\n",
       "    <tr>\n",
       "      <th>3</th>\n",
       "      <td>0.000000</td>\n",
       "      <td>0.233837</td>\n",
       "      <td>0.000000</td>\n",
       "      <td>0.000000</td>\n",
       "      <td>0.0</td>\n",
       "      <td>0.0</td>\n",
       "      <td>0.000000</td>\n",
       "      <td>0.000000</td>\n",
       "      <td>0.0</td>\n",
       "      <td>0.097991</td>\n",
       "      <td>...</td>\n",
       "      <td>0.000000</td>\n",
       "      <td>0.205206</td>\n",
       "      <td>0.204873</td>\n",
       "      <td>0.000000</td>\n",
       "      <td>0.000000</td>\n",
       "      <td>0.000000</td>\n",
       "      <td>0.000000</td>\n",
       "      <td>0.0</td>\n",
       "      <td>0.000000</td>\n",
       "      <td>0.0</td>\n",
       "    </tr>\n",
       "    <tr>\n",
       "      <th>4</th>\n",
       "      <td>0.000000</td>\n",
       "      <td>0.000000</td>\n",
       "      <td>0.000000</td>\n",
       "      <td>0.000000</td>\n",
       "      <td>0.0</td>\n",
       "      <td>0.0</td>\n",
       "      <td>0.000000</td>\n",
       "      <td>0.000000</td>\n",
       "      <td>0.0</td>\n",
       "      <td>0.000000</td>\n",
       "      <td>...</td>\n",
       "      <td>0.000000</td>\n",
       "      <td>0.000000</td>\n",
       "      <td>0.000000</td>\n",
       "      <td>0.000000</td>\n",
       "      <td>0.000000</td>\n",
       "      <td>0.000000</td>\n",
       "      <td>0.000000</td>\n",
       "      <td>0.0</td>\n",
       "      <td>0.000000</td>\n",
       "      <td>0.0</td>\n",
       "    </tr>\n",
       "    <tr>\n",
       "      <th>5</th>\n",
       "      <td>0.000000</td>\n",
       "      <td>0.000000</td>\n",
       "      <td>0.000000</td>\n",
       "      <td>0.000000</td>\n",
       "      <td>0.0</td>\n",
       "      <td>0.0</td>\n",
       "      <td>0.000000</td>\n",
       "      <td>0.985243</td>\n",
       "      <td>0.0</td>\n",
       "      <td>0.000000</td>\n",
       "      <td>...</td>\n",
       "      <td>0.000000</td>\n",
       "      <td>0.000000</td>\n",
       "      <td>0.000000</td>\n",
       "      <td>0.000000</td>\n",
       "      <td>0.000000</td>\n",
       "      <td>0.000000</td>\n",
       "      <td>0.000000</td>\n",
       "      <td>0.0</td>\n",
       "      <td>0.000000</td>\n",
       "      <td>0.0</td>\n",
       "    </tr>\n",
       "    <tr>\n",
       "      <th>6</th>\n",
       "      <td>0.000000</td>\n",
       "      <td>0.000000</td>\n",
       "      <td>0.000000</td>\n",
       "      <td>0.000000</td>\n",
       "      <td>0.0</td>\n",
       "      <td>0.0</td>\n",
       "      <td>0.972160</td>\n",
       "      <td>0.000000</td>\n",
       "      <td>0.0</td>\n",
       "      <td>0.000000</td>\n",
       "      <td>...</td>\n",
       "      <td>0.000000</td>\n",
       "      <td>0.000000</td>\n",
       "      <td>0.000000</td>\n",
       "      <td>0.000000</td>\n",
       "      <td>0.000000</td>\n",
       "      <td>0.000000</td>\n",
       "      <td>0.000000</td>\n",
       "      <td>0.0</td>\n",
       "      <td>0.000000</td>\n",
       "      <td>0.0</td>\n",
       "    </tr>\n",
       "    <tr>\n",
       "      <th>7</th>\n",
       "      <td>0.000000</td>\n",
       "      <td>0.000000</td>\n",
       "      <td>0.000000</td>\n",
       "      <td>0.000000</td>\n",
       "      <td>0.0</td>\n",
       "      <td>0.0</td>\n",
       "      <td>0.000000</td>\n",
       "      <td>0.981768</td>\n",
       "      <td>0.0</td>\n",
       "      <td>0.000000</td>\n",
       "      <td>...</td>\n",
       "      <td>0.000000</td>\n",
       "      <td>0.000000</td>\n",
       "      <td>0.000000</td>\n",
       "      <td>0.000000</td>\n",
       "      <td>0.000000</td>\n",
       "      <td>0.000000</td>\n",
       "      <td>0.000000</td>\n",
       "      <td>0.0</td>\n",
       "      <td>0.000000</td>\n",
       "      <td>0.0</td>\n",
       "    </tr>\n",
       "    <tr>\n",
       "      <th>8</th>\n",
       "      <td>0.000000</td>\n",
       "      <td>0.000000</td>\n",
       "      <td>0.179856</td>\n",
       "      <td>0.000000</td>\n",
       "      <td>0.0</td>\n",
       "      <td>0.0</td>\n",
       "      <td>0.000000</td>\n",
       "      <td>0.137641</td>\n",
       "      <td>0.0</td>\n",
       "      <td>0.000000</td>\n",
       "      <td>...</td>\n",
       "      <td>0.000000</td>\n",
       "      <td>0.000000</td>\n",
       "      <td>0.000000</td>\n",
       "      <td>0.000000</td>\n",
       "      <td>0.199006</td>\n",
       "      <td>0.035929</td>\n",
       "      <td>0.182181</td>\n",
       "      <td>0.0</td>\n",
       "      <td>0.000000</td>\n",
       "      <td>0.0</td>\n",
       "    </tr>\n",
       "    <tr>\n",
       "      <th>9</th>\n",
       "      <td>0.000000</td>\n",
       "      <td>0.000000</td>\n",
       "      <td>0.000000</td>\n",
       "      <td>0.000000</td>\n",
       "      <td>0.0</td>\n",
       "      <td>0.0</td>\n",
       "      <td>0.000000</td>\n",
       "      <td>0.000000</td>\n",
       "      <td>0.0</td>\n",
       "      <td>0.000000</td>\n",
       "      <td>...</td>\n",
       "      <td>0.000000</td>\n",
       "      <td>0.000000</td>\n",
       "      <td>0.000000</td>\n",
       "      <td>0.000000</td>\n",
       "      <td>0.000000</td>\n",
       "      <td>0.000000</td>\n",
       "      <td>0.000000</td>\n",
       "      <td>0.0</td>\n",
       "      <td>0.000000</td>\n",
       "      <td>0.0</td>\n",
       "    </tr>\n",
       "    <tr>\n",
       "      <th>10</th>\n",
       "      <td>0.140389</td>\n",
       "      <td>0.000000</td>\n",
       "      <td>0.162352</td>\n",
       "      <td>0.000000</td>\n",
       "      <td>0.0</td>\n",
       "      <td>0.0</td>\n",
       "      <td>0.152088</td>\n",
       "      <td>0.166346</td>\n",
       "      <td>0.0</td>\n",
       "      <td>0.000000</td>\n",
       "      <td>...</td>\n",
       "      <td>0.000000</td>\n",
       "      <td>0.189388</td>\n",
       "      <td>0.000000</td>\n",
       "      <td>0.110761</td>\n",
       "      <td>0.000000</td>\n",
       "      <td>0.000000</td>\n",
       "      <td>0.000000</td>\n",
       "      <td>0.0</td>\n",
       "      <td>0.000000</td>\n",
       "      <td>0.0</td>\n",
       "    </tr>\n",
       "    <tr>\n",
       "      <th>11</th>\n",
       "      <td>0.000000</td>\n",
       "      <td>0.000000</td>\n",
       "      <td>0.000000</td>\n",
       "      <td>0.000000</td>\n",
       "      <td>0.0</td>\n",
       "      <td>0.0</td>\n",
       "      <td>0.000000</td>\n",
       "      <td>0.000000</td>\n",
       "      <td>0.0</td>\n",
       "      <td>0.000000</td>\n",
       "      <td>...</td>\n",
       "      <td>0.000000</td>\n",
       "      <td>0.989938</td>\n",
       "      <td>0.000000</td>\n",
       "      <td>0.000000</td>\n",
       "      <td>0.000000</td>\n",
       "      <td>0.000000</td>\n",
       "      <td>0.000000</td>\n",
       "      <td>0.0</td>\n",
       "      <td>0.000000</td>\n",
       "      <td>0.0</td>\n",
       "    </tr>\n",
       "    <tr>\n",
       "      <th>12</th>\n",
       "      <td>0.000000</td>\n",
       "      <td>0.000000</td>\n",
       "      <td>0.000000</td>\n",
       "      <td>0.057973</td>\n",
       "      <td>0.0</td>\n",
       "      <td>0.0</td>\n",
       "      <td>0.000000</td>\n",
       "      <td>0.000000</td>\n",
       "      <td>0.0</td>\n",
       "      <td>0.294621</td>\n",
       "      <td>...</td>\n",
       "      <td>0.109258</td>\n",
       "      <td>0.000000</td>\n",
       "      <td>0.000000</td>\n",
       "      <td>0.397850</td>\n",
       "      <td>0.000000</td>\n",
       "      <td>0.000000</td>\n",
       "      <td>0.000000</td>\n",
       "      <td>0.0</td>\n",
       "      <td>0.069298</td>\n",
       "      <td>0.0</td>\n",
       "    </tr>\n",
       "    <tr>\n",
       "      <th>13</th>\n",
       "      <td>0.325289</td>\n",
       "      <td>0.000000</td>\n",
       "      <td>0.000000</td>\n",
       "      <td>0.000000</td>\n",
       "      <td>0.0</td>\n",
       "      <td>0.0</td>\n",
       "      <td>0.000000</td>\n",
       "      <td>0.000000</td>\n",
       "      <td>0.0</td>\n",
       "      <td>0.000000</td>\n",
       "      <td>...</td>\n",
       "      <td>0.000000</td>\n",
       "      <td>0.604841</td>\n",
       "      <td>0.000000</td>\n",
       "      <td>0.000000</td>\n",
       "      <td>0.000000</td>\n",
       "      <td>0.000000</td>\n",
       "      <td>0.000000</td>\n",
       "      <td>0.0</td>\n",
       "      <td>0.000000</td>\n",
       "      <td>0.0</td>\n",
       "    </tr>\n",
       "    <tr>\n",
       "      <th>14</th>\n",
       "      <td>0.000000</td>\n",
       "      <td>0.000000</td>\n",
       "      <td>0.000000</td>\n",
       "      <td>0.000000</td>\n",
       "      <td>0.0</td>\n",
       "      <td>0.0</td>\n",
       "      <td>0.760186</td>\n",
       "      <td>0.095666</td>\n",
       "      <td>0.0</td>\n",
       "      <td>0.000000</td>\n",
       "      <td>...</td>\n",
       "      <td>0.000000</td>\n",
       "      <td>0.000000</td>\n",
       "      <td>0.000000</td>\n",
       "      <td>0.000000</td>\n",
       "      <td>0.000000</td>\n",
       "      <td>0.000000</td>\n",
       "      <td>0.000000</td>\n",
       "      <td>0.0</td>\n",
       "      <td>0.000000</td>\n",
       "      <td>0.0</td>\n",
       "    </tr>\n",
       "  </tbody>\n",
       "</table>\n",
       "<p>15 rows × 30 columns</p>\n",
       "</div>"
      ],
      "text/plain": [
       "         t00       t01       t02       t03  t04  t05       t06       t07  t08  \\\n",
       "0   0.000000  0.000000  0.000000  0.000000  0.0  0.0  0.088916  0.079428  0.0   \n",
       "1   0.000000  0.066974  0.000000  0.000000  0.0  0.0  0.191098  0.681389  0.0   \n",
       "2   0.000000  0.000000  0.000000  0.000000  0.0  0.0  0.000000  0.984757  0.0   \n",
       "3   0.000000  0.233837  0.000000  0.000000  0.0  0.0  0.000000  0.000000  0.0   \n",
       "4   0.000000  0.000000  0.000000  0.000000  0.0  0.0  0.000000  0.000000  0.0   \n",
       "5   0.000000  0.000000  0.000000  0.000000  0.0  0.0  0.000000  0.985243  0.0   \n",
       "6   0.000000  0.000000  0.000000  0.000000  0.0  0.0  0.972160  0.000000  0.0   \n",
       "7   0.000000  0.000000  0.000000  0.000000  0.0  0.0  0.000000  0.981768  0.0   \n",
       "8   0.000000  0.000000  0.179856  0.000000  0.0  0.0  0.000000  0.137641  0.0   \n",
       "9   0.000000  0.000000  0.000000  0.000000  0.0  0.0  0.000000  0.000000  0.0   \n",
       "10  0.140389  0.000000  0.162352  0.000000  0.0  0.0  0.152088  0.166346  0.0   \n",
       "11  0.000000  0.000000  0.000000  0.000000  0.0  0.0  0.000000  0.000000  0.0   \n",
       "12  0.000000  0.000000  0.000000  0.057973  0.0  0.0  0.000000  0.000000  0.0   \n",
       "13  0.325289  0.000000  0.000000  0.000000  0.0  0.0  0.000000  0.000000  0.0   \n",
       "14  0.000000  0.000000  0.000000  0.000000  0.0  0.0  0.760186  0.095666  0.0   \n",
       "\n",
       "         t09  ...       t20       t21       t22       t23       t24       t25  \\\n",
       "0   0.000000  ...  0.275306  0.000000  0.000000  0.000000  0.000000  0.000000   \n",
       "1   0.000000  ...  0.000000  0.000000  0.000000  0.000000  0.000000  0.000000   \n",
       "2   0.000000  ...  0.000000  0.000000  0.000000  0.000000  0.000000  0.000000   \n",
       "3   0.097991  ...  0.000000  0.205206  0.204873  0.000000  0.000000  0.000000   \n",
       "4   0.000000  ...  0.000000  0.000000  0.000000  0.000000  0.000000  0.000000   \n",
       "5   0.000000  ...  0.000000  0.000000  0.000000  0.000000  0.000000  0.000000   \n",
       "6   0.000000  ...  0.000000  0.000000  0.000000  0.000000  0.000000  0.000000   \n",
       "7   0.000000  ...  0.000000  0.000000  0.000000  0.000000  0.000000  0.000000   \n",
       "8   0.000000  ...  0.000000  0.000000  0.000000  0.000000  0.199006  0.035929   \n",
       "9   0.000000  ...  0.000000  0.000000  0.000000  0.000000  0.000000  0.000000   \n",
       "10  0.000000  ...  0.000000  0.189388  0.000000  0.110761  0.000000  0.000000   \n",
       "11  0.000000  ...  0.000000  0.989938  0.000000  0.000000  0.000000  0.000000   \n",
       "12  0.294621  ...  0.109258  0.000000  0.000000  0.397850  0.000000  0.000000   \n",
       "13  0.000000  ...  0.000000  0.604841  0.000000  0.000000  0.000000  0.000000   \n",
       "14  0.000000  ...  0.000000  0.000000  0.000000  0.000000  0.000000  0.000000   \n",
       "\n",
       "         t26  t27       t28  t29  \n",
       "0   0.000000  0.0  0.000000  0.0  \n",
       "1   0.000000  0.0  0.000000  0.0  \n",
       "2   0.000000  0.0  0.000000  0.0  \n",
       "3   0.000000  0.0  0.000000  0.0  \n",
       "4   0.000000  0.0  0.000000  0.0  \n",
       "5   0.000000  0.0  0.000000  0.0  \n",
       "6   0.000000  0.0  0.000000  0.0  \n",
       "7   0.000000  0.0  0.000000  0.0  \n",
       "8   0.182181  0.0  0.000000  0.0  \n",
       "9   0.000000  0.0  0.000000  0.0  \n",
       "10  0.000000  0.0  0.000000  0.0  \n",
       "11  0.000000  0.0  0.000000  0.0  \n",
       "12  0.000000  0.0  0.069298  0.0  \n",
       "13  0.000000  0.0  0.000000  0.0  \n",
       "14  0.000000  0.0  0.000000  0.0  \n",
       "\n",
       "[15 rows x 30 columns]"
      ]
     },
     "execution_count": 145,
     "metadata": {},
     "output_type": "execute_result"
    }
   ],
   "source": [
    "topicTable = pandas.DataFrame(topicTableRows, columns=topicTableCols)\n",
    "topicTable.head(15)"
   ]
  },
  {
   "cell_type": "markdown",
   "metadata": {},
   "source": [
    "While our topic table has the same dimensions (number of rows) as our Dispatch data, the rows in the topic table are indexed differently (starting from 0, while the Dispatch data starts from 1). We need to fix that before we can join topics table to the Dispatch data. Since default count in Python is from 0, it is easier to reset the Dispatch data like this:"
   ]
  },
  {
   "cell_type": "code",
   "execution_count": 146,
   "metadata": {},
   "outputs": [
    {
     "data": {
      "text/html": [
       "<div>\n",
       "<style scoped>\n",
       "    .dataframe tbody tr th:only-of-type {\n",
       "        vertical-align: middle;\n",
       "    }\n",
       "\n",
       "    .dataframe tbody tr th {\n",
       "        vertical-align: top;\n",
       "    }\n",
       "\n",
       "    .dataframe thead th {\n",
       "        text-align: right;\n",
       "    }\n",
       "</style>\n",
       "<table border=\"1\" class=\"dataframe\">\n",
       "  <thead>\n",
       "    <tr style=\"text-align: right;\">\n",
       "      <th></th>\n",
       "      <th>month</th>\n",
       "      <th>date</th>\n",
       "      <th>type</th>\n",
       "      <th>header</th>\n",
       "      <th>content</th>\n",
       "      <th>textData</th>\n",
       "    </tr>\n",
       "  </thead>\n",
       "  <tbody>\n",
       "    <tr>\n",
       "      <th>0</th>\n",
       "      <td>1860-01-02</td>\n",
       "      <td>1860-02-13</td>\n",
       "      <td>advert</td>\n",
       "      <td>NaN</td>\n",
       "      <td>\\n \\n\\n\\nDr. Geo. W. Briggs offers his profes...</td>\n",
       "      <td>\\n \\n\\n\\nDr. Geo. W. Briggs offers his profes...</td>\n",
       "    </tr>\n",
       "    <tr>\n",
       "      <th>1</th>\n",
       "      <td>1860-01-02</td>\n",
       "      <td>1860-02-13</td>\n",
       "      <td>advert</td>\n",
       "      <td>Preston M. Quarles, Notary public for the City...</td>\n",
       "      <td>\\n \\n\\n\\n --As Notary, will take depositions ...</td>\n",
       "      <td>\\n \\n\\n\\n --As Notary, will take depositions ...</td>\n",
       "    </tr>\n",
       "    <tr>\n",
       "      <th>2</th>\n",
       "      <td>1860-01-02</td>\n",
       "      <td>1860-02-13</td>\n",
       "      <td>advert</td>\n",
       "      <td>NaN</td>\n",
       "      <td>\\nHenry Coalter Cabell.\\n\\nJ. H. Sands.Cabell...</td>\n",
       "      <td>\\nHenry Coalter Cabell.\\n\\nJ. H. Sands.Cabell...</td>\n",
       "    </tr>\n",
       "    <tr>\n",
       "      <th>3</th>\n",
       "      <td>1860-01-02</td>\n",
       "      <td>1860-02-13</td>\n",
       "      <td>advert</td>\n",
       "      <td>Edward E. Orvis,Attorney at Lawand Notary publ...</td>\n",
       "      <td>\\n \\n\\n\\n Will attend promptly to all busines...</td>\n",
       "      <td>\\n \\n\\n\\n Will attend promptly to all busines...</td>\n",
       "    </tr>\n",
       "    <tr>\n",
       "      <th>4</th>\n",
       "      <td>1860-01-02</td>\n",
       "      <td>1860-02-13</td>\n",
       "      <td>advert</td>\n",
       "      <td>Shockoe Hill GeneralAgency.G. W. H. Tyler.</td>\n",
       "      <td>\\n \\n\\n\\n Office on Marshall, between Sixth a...</td>\n",
       "      <td>\\n \\n\\n\\n Office on Marshall, between Sixth a...</td>\n",
       "    </tr>\n",
       "    <tr>\n",
       "      <th>5</th>\n",
       "      <td>1860-01-02</td>\n",
       "      <td>1860-02-13</td>\n",
       "      <td>advert</td>\n",
       "      <td>Henry Hudnall.,Attorney at Lawand Notary public,</td>\n",
       "      <td>\\n \\n\\n\\n Practices in all the Courts held in...</td>\n",
       "      <td>\\n \\n\\n\\n Practices in all the Courts held in...</td>\n",
       "    </tr>\n",
       "    <tr>\n",
       "      <th>6</th>\n",
       "      <td>1860-01-02</td>\n",
       "      <td>1860-02-13</td>\n",
       "      <td>advert</td>\n",
       "      <td>A Card.Wm. F. Watson.Attorney at Law,United St...</td>\n",
       "      <td>\\n \\n\\n\\n Note.--In the latter capacity, will...</td>\n",
       "      <td>\\n \\n\\n\\n Note.--In the latter capacity, will...</td>\n",
       "    </tr>\n",
       "    <tr>\n",
       "      <th>7</th>\n",
       "      <td>1860-01-02</td>\n",
       "      <td>1860-02-13</td>\n",
       "      <td>advert</td>\n",
       "      <td>Lawrence S. Marye,Attorney at Law,</td>\n",
       "      <td>\\n \\n\\n\\n Practices in the Courts of the city...</td>\n",
       "      <td>\\n \\n\\n\\n Practices in the Courts of the city...</td>\n",
       "    </tr>\n",
       "    <tr>\n",
       "      <th>8</th>\n",
       "      <td>1860-01-02</td>\n",
       "      <td>1860-02-13</td>\n",
       "      <td>advert</td>\n",
       "      <td>Exchange Hotel and BallardHouse.Richmond, Janu...</td>\n",
       "      <td>\\n \\n\\n\\n The proprietors of this well-known ...</td>\n",
       "      <td>\\n \\n\\n\\n The proprietors of this well-known ...</td>\n",
       "    </tr>\n",
       "    <tr>\n",
       "      <th>9</th>\n",
       "      <td>1860-01-02</td>\n",
       "      <td>1860-02-13</td>\n",
       "      <td>advert</td>\n",
       "      <td>Spotswood House,Richmond, Va.</td>\n",
       "      <td>\\n \\n\\n\\n This new Hotel, at the corner of Ma...</td>\n",
       "      <td>\\n \\n\\n\\n This new Hotel, at the corner of Ma...</td>\n",
       "    </tr>\n",
       "    <tr>\n",
       "      <th>10</th>\n",
       "      <td>1860-01-02</td>\n",
       "      <td>1860-02-13</td>\n",
       "      <td>advert</td>\n",
       "      <td>Georgia State Lotteries.drawn by State authori...</td>\n",
       "      <td>\\n \\n\\n\\n The following splendid Schemes will...</td>\n",
       "      <td>\\n \\n\\n\\n The following splendid Schemes will...</td>\n",
       "    </tr>\n",
       "    <tr>\n",
       "      <th>11</th>\n",
       "      <td>1860-01-02</td>\n",
       "      <td>1860-02-13</td>\n",
       "      <td>advert</td>\n",
       "      <td>Wood, Eddy &amp;amp; Co.'sLotteries.</td>\n",
       "      <td>\\n \\n\\n\\n Authorized by the States of  \\n\\n\\n...</td>\n",
       "      <td>\\n \\n\\n\\n Authorized by the States of  \\n\\n\\n...</td>\n",
       "    </tr>\n",
       "    <tr>\n",
       "      <th>12</th>\n",
       "      <td>1860-01-02</td>\n",
       "      <td>1860-02-13</td>\n",
       "      <td>advert</td>\n",
       "      <td>Home-manufactured Iron.</td>\n",
       "      <td>\\n \\n\\n\\n --A large assortment, consisting of...</td>\n",
       "      <td>\\n \\n\\n\\n --A large assortment, consisting of...</td>\n",
       "    </tr>\n",
       "    <tr>\n",
       "      <th>13</th>\n",
       "      <td>1860-01-02</td>\n",
       "      <td>1860-02-13</td>\n",
       "      <td>advert</td>\n",
       "      <td>Wilcox &amp;amp; Gibbs' Sewing Machine.</td>\n",
       "      <td>\\n \\n\\n\\n The highest premium awarded at the ...</td>\n",
       "      <td>\\n \\n\\n\\n The highest premium awarded at the ...</td>\n",
       "    </tr>\n",
       "    <tr>\n",
       "      <th>14</th>\n",
       "      <td>1860-01-02</td>\n",
       "      <td>1860-02-13</td>\n",
       "      <td>advert</td>\n",
       "      <td>Special notice to creditors.</td>\n",
       "      <td>\\n \\n\\n\\n --Wm. J. Watkins,--All persons havi...</td>\n",
       "      <td>\\n \\n\\n\\n --Wm. J. Watkins,--All persons havi...</td>\n",
       "    </tr>\n",
       "  </tbody>\n",
       "</table>\n",
       "</div>"
      ],
      "text/plain": [
       "        month        date    type  \\\n",
       "0  1860-01-02  1860-02-13  advert   \n",
       "1  1860-01-02  1860-02-13  advert   \n",
       "2  1860-01-02  1860-02-13  advert   \n",
       "3  1860-01-02  1860-02-13  advert   \n",
       "4  1860-01-02  1860-02-13  advert   \n",
       "5  1860-01-02  1860-02-13  advert   \n",
       "6  1860-01-02  1860-02-13  advert   \n",
       "7  1860-01-02  1860-02-13  advert   \n",
       "8  1860-01-02  1860-02-13  advert   \n",
       "9  1860-01-02  1860-02-13  advert   \n",
       "10 1860-01-02  1860-02-13  advert   \n",
       "11 1860-01-02  1860-02-13  advert   \n",
       "12 1860-01-02  1860-02-13  advert   \n",
       "13 1860-01-02  1860-02-13  advert   \n",
       "14 1860-01-02  1860-02-13  advert   \n",
       "\n",
       "                                               header  \\\n",
       "0                                                 NaN   \n",
       "1   Preston M. Quarles, Notary public for the City...   \n",
       "2                                                 NaN   \n",
       "3   Edward E. Orvis,Attorney at Lawand Notary publ...   \n",
       "4          Shockoe Hill GeneralAgency.G. W. H. Tyler.   \n",
       "5    Henry Hudnall.,Attorney at Lawand Notary public,   \n",
       "6   A Card.Wm. F. Watson.Attorney at Law,United St...   \n",
       "7                  Lawrence S. Marye,Attorney at Law,   \n",
       "8   Exchange Hotel and BallardHouse.Richmond, Janu...   \n",
       "9                       Spotswood House,Richmond, Va.   \n",
       "10  Georgia State Lotteries.drawn by State authori...   \n",
       "11                   Wood, Eddy &amp; Co.'sLotteries.   \n",
       "12                            Home-manufactured Iron.   \n",
       "13                Wilcox &amp; Gibbs' Sewing Machine.   \n",
       "14                       Special notice to creditors.   \n",
       "\n",
       "                                              content  \\\n",
       "0    \\n \\n\\n\\nDr. Geo. W. Briggs offers his profes...   \n",
       "1    \\n \\n\\n\\n --As Notary, will take depositions ...   \n",
       "2    \\nHenry Coalter Cabell.\\n\\nJ. H. Sands.Cabell...   \n",
       "3    \\n \\n\\n\\n Will attend promptly to all busines...   \n",
       "4    \\n \\n\\n\\n Office on Marshall, between Sixth a...   \n",
       "5    \\n \\n\\n\\n Practices in all the Courts held in...   \n",
       "6    \\n \\n\\n\\n Note.--In the latter capacity, will...   \n",
       "7    \\n \\n\\n\\n Practices in the Courts of the city...   \n",
       "8    \\n \\n\\n\\n The proprietors of this well-known ...   \n",
       "9    \\n \\n\\n\\n This new Hotel, at the corner of Ma...   \n",
       "10   \\n \\n\\n\\n The following splendid Schemes will...   \n",
       "11   \\n \\n\\n\\n Authorized by the States of  \\n\\n\\n...   \n",
       "12   \\n \\n\\n\\n --A large assortment, consisting of...   \n",
       "13   \\n \\n\\n\\n The highest premium awarded at the ...   \n",
       "14   \\n \\n\\n\\n --Wm. J. Watkins,--All persons havi...   \n",
       "\n",
       "                                             textData  \n",
       "0    \\n \\n\\n\\nDr. Geo. W. Briggs offers his profes...  \n",
       "1    \\n \\n\\n\\n --As Notary, will take depositions ...  \n",
       "2    \\nHenry Coalter Cabell.\\n\\nJ. H. Sands.Cabell...  \n",
       "3    \\n \\n\\n\\n Will attend promptly to all busines...  \n",
       "4    \\n \\n\\n\\n Office on Marshall, between Sixth a...  \n",
       "5    \\n \\n\\n\\n Practices in all the Courts held in...  \n",
       "6    \\n \\n\\n\\n Note.--In the latter capacity, will...  \n",
       "7    \\n \\n\\n\\n Practices in the Courts of the city...  \n",
       "8    \\n \\n\\n\\n The proprietors of this well-known ...  \n",
       "9    \\n \\n\\n\\n This new Hotel, at the corner of Ma...  \n",
       "10   \\n \\n\\n\\n The following splendid Schemes will...  \n",
       "11   \\n \\n\\n\\n Authorized by the States of  \\n\\n\\n...  \n",
       "12   \\n \\n\\n\\n --A large assortment, consisting of...  \n",
       "13   \\n \\n\\n\\n The highest premium awarded at the ...  \n",
       "14   \\n \\n\\n\\n --Wm. J. Watkins,--All persons havi...  "
      ]
     },
     "execution_count": 146,
     "metadata": {},
     "output_type": "execute_result"
    }
   ],
   "source": [
    "dispatch_lightest = dispatch_lightest.reset_index(drop=True)\n",
    "dispatch_lightest.head(15)"
   ]
  },
  {
   "cell_type": "markdown",
   "metadata": {},
   "source": [
    "Now, we can merge them without any issues:"
   ]
  },
  {
   "cell_type": "code",
   "execution_count": 147,
   "metadata": {},
   "outputs": [
    {
     "data": {
      "text/plain": [
       "7743"
      ]
     },
     "execution_count": 147,
     "metadata": {},
     "output_type": "execute_result"
    }
   ],
   "source": [
    "mergedTable = pandas.concat([dispatch_lightest, topicTable], axis=1, sort=False)\n",
    "len(mergedTable)"
   ]
  },
  {
   "cell_type": "code",
   "execution_count": 148,
   "metadata": {},
   "outputs": [
    {
     "data": {
      "text/html": [
       "<div>\n",
       "<style scoped>\n",
       "    .dataframe tbody tr th:only-of-type {\n",
       "        vertical-align: middle;\n",
       "    }\n",
       "\n",
       "    .dataframe tbody tr th {\n",
       "        vertical-align: top;\n",
       "    }\n",
       "\n",
       "    .dataframe thead th {\n",
       "        text-align: right;\n",
       "    }\n",
       "</style>\n",
       "<table border=\"1\" class=\"dataframe\">\n",
       "  <thead>\n",
       "    <tr style=\"text-align: right;\">\n",
       "      <th></th>\n",
       "      <th>month</th>\n",
       "      <th>date</th>\n",
       "      <th>type</th>\n",
       "      <th>header</th>\n",
       "      <th>content</th>\n",
       "      <th>textData</th>\n",
       "      <th>t00</th>\n",
       "      <th>t01</th>\n",
       "      <th>t02</th>\n",
       "      <th>t03</th>\n",
       "      <th>...</th>\n",
       "      <th>t20</th>\n",
       "      <th>t21</th>\n",
       "      <th>t22</th>\n",
       "      <th>t23</th>\n",
       "      <th>t24</th>\n",
       "      <th>t25</th>\n",
       "      <th>t26</th>\n",
       "      <th>t27</th>\n",
       "      <th>t28</th>\n",
       "      <th>t29</th>\n",
       "    </tr>\n",
       "  </thead>\n",
       "  <tbody>\n",
       "    <tr>\n",
       "      <th>0</th>\n",
       "      <td>1860-01-02</td>\n",
       "      <td>1860-02-13</td>\n",
       "      <td>advert</td>\n",
       "      <td>NaN</td>\n",
       "      <td>\\n \\n\\n\\nDr. Geo. W. Briggs offers his profes...</td>\n",
       "      <td>\\n \\n\\n\\nDr. Geo. W. Briggs offers his profes...</td>\n",
       "      <td>0.0</td>\n",
       "      <td>0.000000</td>\n",
       "      <td>0.0</td>\n",
       "      <td>0.0</td>\n",
       "      <td>...</td>\n",
       "      <td>0.275306</td>\n",
       "      <td>0.000000</td>\n",
       "      <td>0.000000</td>\n",
       "      <td>0.000000</td>\n",
       "      <td>0.0</td>\n",
       "      <td>0.0</td>\n",
       "      <td>0.0</td>\n",
       "      <td>0.0</td>\n",
       "      <td>0.000000</td>\n",
       "      <td>0.0</td>\n",
       "    </tr>\n",
       "    <tr>\n",
       "      <th>1</th>\n",
       "      <td>1860-01-02</td>\n",
       "      <td>1860-02-13</td>\n",
       "      <td>advert</td>\n",
       "      <td>Preston M. Quarles, Notary public for the City...</td>\n",
       "      <td>\\n \\n\\n\\n --As Notary, will take depositions ...</td>\n",
       "      <td>\\n \\n\\n\\n --As Notary, will take depositions ...</td>\n",
       "      <td>0.0</td>\n",
       "      <td>0.066974</td>\n",
       "      <td>0.0</td>\n",
       "      <td>0.0</td>\n",
       "      <td>...</td>\n",
       "      <td>0.000000</td>\n",
       "      <td>0.000000</td>\n",
       "      <td>0.000000</td>\n",
       "      <td>0.000000</td>\n",
       "      <td>0.0</td>\n",
       "      <td>0.0</td>\n",
       "      <td>0.0</td>\n",
       "      <td>0.0</td>\n",
       "      <td>0.000000</td>\n",
       "      <td>0.0</td>\n",
       "    </tr>\n",
       "    <tr>\n",
       "      <th>2</th>\n",
       "      <td>1860-01-02</td>\n",
       "      <td>1860-02-13</td>\n",
       "      <td>advert</td>\n",
       "      <td>NaN</td>\n",
       "      <td>\\nHenry Coalter Cabell.\\n\\nJ. H. Sands.Cabell...</td>\n",
       "      <td>\\nHenry Coalter Cabell.\\n\\nJ. H. Sands.Cabell...</td>\n",
       "      <td>0.0</td>\n",
       "      <td>0.000000</td>\n",
       "      <td>0.0</td>\n",
       "      <td>0.0</td>\n",
       "      <td>...</td>\n",
       "      <td>0.000000</td>\n",
       "      <td>0.000000</td>\n",
       "      <td>0.000000</td>\n",
       "      <td>0.000000</td>\n",
       "      <td>0.0</td>\n",
       "      <td>0.0</td>\n",
       "      <td>0.0</td>\n",
       "      <td>0.0</td>\n",
       "      <td>0.000000</td>\n",
       "      <td>0.0</td>\n",
       "    </tr>\n",
       "    <tr>\n",
       "      <th>3</th>\n",
       "      <td>1860-01-02</td>\n",
       "      <td>1860-02-13</td>\n",
       "      <td>advert</td>\n",
       "      <td>Edward E. Orvis,Attorney at Lawand Notary publ...</td>\n",
       "      <td>\\n \\n\\n\\n Will attend promptly to all busines...</td>\n",
       "      <td>\\n \\n\\n\\n Will attend promptly to all busines...</td>\n",
       "      <td>0.0</td>\n",
       "      <td>0.233837</td>\n",
       "      <td>0.0</td>\n",
       "      <td>0.0</td>\n",
       "      <td>...</td>\n",
       "      <td>0.000000</td>\n",
       "      <td>0.205206</td>\n",
       "      <td>0.204873</td>\n",
       "      <td>0.000000</td>\n",
       "      <td>0.0</td>\n",
       "      <td>0.0</td>\n",
       "      <td>0.0</td>\n",
       "      <td>0.0</td>\n",
       "      <td>0.000000</td>\n",
       "      <td>0.0</td>\n",
       "    </tr>\n",
       "    <tr>\n",
       "      <th>4</th>\n",
       "      <td>1860-01-02</td>\n",
       "      <td>1860-02-13</td>\n",
       "      <td>advert</td>\n",
       "      <td>Shockoe Hill GeneralAgency.G. W. H. Tyler.</td>\n",
       "      <td>\\n \\n\\n\\n Office on Marshall, between Sixth a...</td>\n",
       "      <td>\\n \\n\\n\\n Office on Marshall, between Sixth a...</td>\n",
       "      <td>0.0</td>\n",
       "      <td>0.000000</td>\n",
       "      <td>0.0</td>\n",
       "      <td>0.0</td>\n",
       "      <td>...</td>\n",
       "      <td>0.000000</td>\n",
       "      <td>0.000000</td>\n",
       "      <td>0.000000</td>\n",
       "      <td>0.000000</td>\n",
       "      <td>0.0</td>\n",
       "      <td>0.0</td>\n",
       "      <td>0.0</td>\n",
       "      <td>0.0</td>\n",
       "      <td>0.000000</td>\n",
       "      <td>0.0</td>\n",
       "    </tr>\n",
       "    <tr>\n",
       "      <th>...</th>\n",
       "      <td>...</td>\n",
       "      <td>...</td>\n",
       "      <td>...</td>\n",
       "      <td>...</td>\n",
       "      <td>...</td>\n",
       "      <td>...</td>\n",
       "      <td>...</td>\n",
       "      <td>...</td>\n",
       "      <td>...</td>\n",
       "      <td>...</td>\n",
       "      <td>...</td>\n",
       "      <td>...</td>\n",
       "      <td>...</td>\n",
       "      <td>...</td>\n",
       "      <td>...</td>\n",
       "      <td>...</td>\n",
       "      <td>...</td>\n",
       "      <td>...</td>\n",
       "      <td>...</td>\n",
       "      <td>...</td>\n",
       "      <td>...</td>\n",
       "    </tr>\n",
       "    <tr>\n",
       "      <th>7738</th>\n",
       "      <td>1860-01-11</td>\n",
       "      <td>1860-11-26</td>\n",
       "      <td>advert</td>\n",
       "      <td>NaN</td>\n",
       "      <td>\\n \\n\\n\\nP. Weilbacher, Wm. Paul,  \\nof Richm...</td>\n",
       "      <td>\\n \\n\\n\\nP. Weilbacher, Wm. Paul,  \\nof Richm...</td>\n",
       "      <td>0.0</td>\n",
       "      <td>0.000000</td>\n",
       "      <td>0.0</td>\n",
       "      <td>0.0</td>\n",
       "      <td>...</td>\n",
       "      <td>0.000000</td>\n",
       "      <td>0.000000</td>\n",
       "      <td>0.000000</td>\n",
       "      <td>0.263444</td>\n",
       "      <td>0.0</td>\n",
       "      <td>0.0</td>\n",
       "      <td>0.0</td>\n",
       "      <td>0.0</td>\n",
       "      <td>0.000000</td>\n",
       "      <td>0.0</td>\n",
       "    </tr>\n",
       "    <tr>\n",
       "      <th>7739</th>\n",
       "      <td>1860-01-11</td>\n",
       "      <td>1860-11-26</td>\n",
       "      <td>advert</td>\n",
       "      <td>Robert Wendenburg,</td>\n",
       "      <td>\\n \\n\\n\\nship Broker, Commission and  \\n\\n\\nF...</td>\n",
       "      <td>\\n \\n\\n\\nship Broker, Commission and  \\n\\n\\nF...</td>\n",
       "      <td>0.0</td>\n",
       "      <td>0.000000</td>\n",
       "      <td>0.0</td>\n",
       "      <td>0.0</td>\n",
       "      <td>...</td>\n",
       "      <td>0.000000</td>\n",
       "      <td>0.000000</td>\n",
       "      <td>0.000000</td>\n",
       "      <td>0.000000</td>\n",
       "      <td>0.0</td>\n",
       "      <td>0.0</td>\n",
       "      <td>0.0</td>\n",
       "      <td>0.0</td>\n",
       "      <td>0.000000</td>\n",
       "      <td>0.0</td>\n",
       "    </tr>\n",
       "    <tr>\n",
       "      <th>7740</th>\n",
       "      <td>1860-01-11</td>\n",
       "      <td>1860-11-26</td>\n",
       "      <td>article</td>\n",
       "      <td>$20 reward.</td>\n",
       "      <td>\\n \\n\\n\\n --Escaped from Mr. Benjamin Davis J...</td>\n",
       "      <td>\\n \\n\\n\\n --Escaped from Mr. Benjamin Davis J...</td>\n",
       "      <td>0.0</td>\n",
       "      <td>0.000000</td>\n",
       "      <td>0.0</td>\n",
       "      <td>0.0</td>\n",
       "      <td>...</td>\n",
       "      <td>0.000000</td>\n",
       "      <td>0.000000</td>\n",
       "      <td>0.000000</td>\n",
       "      <td>0.000000</td>\n",
       "      <td>0.0</td>\n",
       "      <td>0.0</td>\n",
       "      <td>0.0</td>\n",
       "      <td>0.0</td>\n",
       "      <td>0.994657</td>\n",
       "      <td>0.0</td>\n",
       "    </tr>\n",
       "    <tr>\n",
       "      <th>7741</th>\n",
       "      <td>1860-01-11</td>\n",
       "      <td>1860-11-26</td>\n",
       "      <td>article</td>\n",
       "      <td>$20 reward.</td>\n",
       "      <td>\\n \\n\\n\\n --Ran away on Saturday, the 3d inst...</td>\n",
       "      <td>\\n \\n\\n\\n --Ran away on Saturday, the 3d inst...</td>\n",
       "      <td>0.0</td>\n",
       "      <td>0.000000</td>\n",
       "      <td>0.0</td>\n",
       "      <td>0.0</td>\n",
       "      <td>...</td>\n",
       "      <td>0.000000</td>\n",
       "      <td>0.000000</td>\n",
       "      <td>0.994904</td>\n",
       "      <td>0.000000</td>\n",
       "      <td>0.0</td>\n",
       "      <td>0.0</td>\n",
       "      <td>0.0</td>\n",
       "      <td>0.0</td>\n",
       "      <td>0.000000</td>\n",
       "      <td>0.0</td>\n",
       "    </tr>\n",
       "    <tr>\n",
       "      <th>7742</th>\n",
       "      <td>1860-01-11</td>\n",
       "      <td>1860-11-26</td>\n",
       "      <td>article</td>\n",
       "      <td>Seventy-five Dollars reward.</td>\n",
       "      <td>\\n \\n\\n\\n --I will pay $75 00 for the apprehe...</td>\n",
       "      <td>\\n \\n\\n\\n --I will pay $75 00 for the apprehe...</td>\n",
       "      <td>0.0</td>\n",
       "      <td>0.000000</td>\n",
       "      <td>0.0</td>\n",
       "      <td>0.0</td>\n",
       "      <td>...</td>\n",
       "      <td>0.000000</td>\n",
       "      <td>0.000000</td>\n",
       "      <td>0.000000</td>\n",
       "      <td>0.000000</td>\n",
       "      <td>0.0</td>\n",
       "      <td>0.0</td>\n",
       "      <td>0.0</td>\n",
       "      <td>0.0</td>\n",
       "      <td>0.986446</td>\n",
       "      <td>0.0</td>\n",
       "    </tr>\n",
       "  </tbody>\n",
       "</table>\n",
       "<p>7743 rows × 36 columns</p>\n",
       "</div>"
      ],
      "text/plain": [
       "          month        date     type  \\\n",
       "0    1860-01-02  1860-02-13   advert   \n",
       "1    1860-01-02  1860-02-13   advert   \n",
       "2    1860-01-02  1860-02-13   advert   \n",
       "3    1860-01-02  1860-02-13   advert   \n",
       "4    1860-01-02  1860-02-13   advert   \n",
       "...         ...         ...      ...   \n",
       "7738 1860-01-11  1860-11-26   advert   \n",
       "7739 1860-01-11  1860-11-26   advert   \n",
       "7740 1860-01-11  1860-11-26  article   \n",
       "7741 1860-01-11  1860-11-26  article   \n",
       "7742 1860-01-11  1860-11-26  article   \n",
       "\n",
       "                                                 header  \\\n",
       "0                                                   NaN   \n",
       "1     Preston M. Quarles, Notary public for the City...   \n",
       "2                                                   NaN   \n",
       "3     Edward E. Orvis,Attorney at Lawand Notary publ...   \n",
       "4            Shockoe Hill GeneralAgency.G. W. H. Tyler.   \n",
       "...                                                 ...   \n",
       "7738                                                NaN   \n",
       "7739                                 Robert Wendenburg,   \n",
       "7740                                        $20 reward.   \n",
       "7741                                        $20 reward.   \n",
       "7742                       Seventy-five Dollars reward.   \n",
       "\n",
       "                                                content  \\\n",
       "0      \\n \\n\\n\\nDr. Geo. W. Briggs offers his profes...   \n",
       "1      \\n \\n\\n\\n --As Notary, will take depositions ...   \n",
       "2      \\nHenry Coalter Cabell.\\n\\nJ. H. Sands.Cabell...   \n",
       "3      \\n \\n\\n\\n Will attend promptly to all busines...   \n",
       "4      \\n \\n\\n\\n Office on Marshall, between Sixth a...   \n",
       "...                                                 ...   \n",
       "7738   \\n \\n\\n\\nP. Weilbacher, Wm. Paul,  \\nof Richm...   \n",
       "7739   \\n \\n\\n\\nship Broker, Commission and  \\n\\n\\nF...   \n",
       "7740   \\n \\n\\n\\n --Escaped from Mr. Benjamin Davis J...   \n",
       "7741   \\n \\n\\n\\n --Ran away on Saturday, the 3d inst...   \n",
       "7742   \\n \\n\\n\\n --I will pay $75 00 for the apprehe...   \n",
       "\n",
       "                                               textData  t00       t01  t02  \\\n",
       "0      \\n \\n\\n\\nDr. Geo. W. Briggs offers his profes...  0.0  0.000000  0.0   \n",
       "1      \\n \\n\\n\\n --As Notary, will take depositions ...  0.0  0.066974  0.0   \n",
       "2      \\nHenry Coalter Cabell.\\n\\nJ. H. Sands.Cabell...  0.0  0.000000  0.0   \n",
       "3      \\n \\n\\n\\n Will attend promptly to all busines...  0.0  0.233837  0.0   \n",
       "4      \\n \\n\\n\\n Office on Marshall, between Sixth a...  0.0  0.000000  0.0   \n",
       "...                                                 ...  ...       ...  ...   \n",
       "7738   \\n \\n\\n\\nP. Weilbacher, Wm. Paul,  \\nof Richm...  0.0  0.000000  0.0   \n",
       "7739   \\n \\n\\n\\nship Broker, Commission and  \\n\\n\\nF...  0.0  0.000000  0.0   \n",
       "7740   \\n \\n\\n\\n --Escaped from Mr. Benjamin Davis J...  0.0  0.000000  0.0   \n",
       "7741   \\n \\n\\n\\n --Ran away on Saturday, the 3d inst...  0.0  0.000000  0.0   \n",
       "7742   \\n \\n\\n\\n --I will pay $75 00 for the apprehe...  0.0  0.000000  0.0   \n",
       "\n",
       "      t03  ...       t20       t21       t22       t23  t24  t25  t26  t27  \\\n",
       "0     0.0  ...  0.275306  0.000000  0.000000  0.000000  0.0  0.0  0.0  0.0   \n",
       "1     0.0  ...  0.000000  0.000000  0.000000  0.000000  0.0  0.0  0.0  0.0   \n",
       "2     0.0  ...  0.000000  0.000000  0.000000  0.000000  0.0  0.0  0.0  0.0   \n",
       "3     0.0  ...  0.000000  0.205206  0.204873  0.000000  0.0  0.0  0.0  0.0   \n",
       "4     0.0  ...  0.000000  0.000000  0.000000  0.000000  0.0  0.0  0.0  0.0   \n",
       "...   ...  ...       ...       ...       ...       ...  ...  ...  ...  ...   \n",
       "7738  0.0  ...  0.000000  0.000000  0.000000  0.263444  0.0  0.0  0.0  0.0   \n",
       "7739  0.0  ...  0.000000  0.000000  0.000000  0.000000  0.0  0.0  0.0  0.0   \n",
       "7740  0.0  ...  0.000000  0.000000  0.000000  0.000000  0.0  0.0  0.0  0.0   \n",
       "7741  0.0  ...  0.000000  0.000000  0.994904  0.000000  0.0  0.0  0.0  0.0   \n",
       "7742  0.0  ...  0.000000  0.000000  0.000000  0.000000  0.0  0.0  0.0  0.0   \n",
       "\n",
       "           t28  t29  \n",
       "0     0.000000  0.0  \n",
       "1     0.000000  0.0  \n",
       "2     0.000000  0.0  \n",
       "3     0.000000  0.0  \n",
       "4     0.000000  0.0  \n",
       "...        ...  ...  \n",
       "7738  0.000000  0.0  \n",
       "7739  0.000000  0.0  \n",
       "7740  0.994657  0.0  \n",
       "7741  0.000000  0.0  \n",
       "7742  0.986446  0.0  \n",
       "\n",
       "[7743 rows x 36 columns]"
      ]
     },
     "execution_count": 148,
     "metadata": {},
     "output_type": "execute_result"
    }
   ],
   "source": [
    "mergedTable"
   ]
  },
  {
   "cell_type": "code",
   "execution_count": 149,
   "metadata": {},
   "outputs": [
    {
     "data": {
      "text/plain": [
       "\" \\n \\n\\n\\nFor Rent--A fine Wood or Coal Yard, adjoining Wm. Gray's store, on the Canal, near the Armory.\\n\\nIt will hold fifty thousand bushels coal.\\n\\nPossession given the 1st January next.--Apply to [oc 29--1m] Wm. Gray.\\n\\nof R.   \\n\""
      ]
     },
     "execution_count": 149,
     "metadata": {},
     "output_type": "execute_result"
    }
   ],
   "source": [
    "mergedTable[\"content\"][394]"
   ]
  },
  {
   "cell_type": "markdown",
   "metadata": {},
   "source": [
    "# Graphing topics over time"
   ]
  },
  {
   "cell_type": "markdown",
   "metadata": {},
   "source": [
    "One of the most interesting things that we can do with data like ours is to check how topics are distributed over time. Our data is already prepared for this, we only need to summarize topics values by days or months before we can graph them (for more [details](https://www.shanelynn.ie/summarising-aggregation-and-grouping-data-in-python-pandas/)). `pandas` library has all we need, but there many specialized graphing libraries that may produce better visual results. (For more details, check this [overview](https://www.shanelynn.ie/plotting-with-python-and-pandas-libraries-for-data-visualisation/))"
   ]
  },
  {
   "cell_type": "code",
   "execution_count": 150,
   "metadata": {},
   "outputs": [
    {
     "data": {
      "text/html": [
       "<div>\n",
       "<style scoped>\n",
       "    .dataframe tbody tr th:only-of-type {\n",
       "        vertical-align: middle;\n",
       "    }\n",
       "\n",
       "    .dataframe tbody tr th {\n",
       "        vertical-align: top;\n",
       "    }\n",
       "\n",
       "    .dataframe thead th {\n",
       "        text-align: right;\n",
       "    }\n",
       "</style>\n",
       "<table border=\"1\" class=\"dataframe\">\n",
       "  <thead>\n",
       "    <tr style=\"text-align: right;\">\n",
       "      <th></th>\n",
       "      <th>t00</th>\n",
       "      <th>t01</th>\n",
       "      <th>t02</th>\n",
       "      <th>t03</th>\n",
       "      <th>t04</th>\n",
       "      <th>t05</th>\n",
       "      <th>t06</th>\n",
       "      <th>t07</th>\n",
       "      <th>t08</th>\n",
       "      <th>t09</th>\n",
       "      <th>...</th>\n",
       "      <th>t21</th>\n",
       "      <th>t22</th>\n",
       "      <th>t23</th>\n",
       "      <th>t24</th>\n",
       "      <th>t25</th>\n",
       "      <th>t26</th>\n",
       "      <th>t27</th>\n",
       "      <th>t28</th>\n",
       "      <th>t29</th>\n",
       "      <th>date</th>\n",
       "    </tr>\n",
       "    <tr>\n",
       "      <th>date</th>\n",
       "      <th></th>\n",
       "      <th></th>\n",
       "      <th></th>\n",
       "      <th></th>\n",
       "      <th></th>\n",
       "      <th></th>\n",
       "      <th></th>\n",
       "      <th></th>\n",
       "      <th></th>\n",
       "      <th></th>\n",
       "      <th></th>\n",
       "      <th></th>\n",
       "      <th></th>\n",
       "      <th></th>\n",
       "      <th></th>\n",
       "      <th></th>\n",
       "      <th></th>\n",
       "      <th></th>\n",
       "      <th></th>\n",
       "      <th></th>\n",
       "      <th></th>\n",
       "    </tr>\n",
       "  </thead>\n",
       "  <tbody>\n",
       "    <tr>\n",
       "      <th>1860-02-13</th>\n",
       "      <td>11.547841</td>\n",
       "      <td>8.969576</td>\n",
       "      <td>4.384787</td>\n",
       "      <td>9.959778</td>\n",
       "      <td>9.041194</td>\n",
       "      <td>7.094381</td>\n",
       "      <td>14.146168</td>\n",
       "      <td>10.028889</td>\n",
       "      <td>16.275581</td>\n",
       "      <td>5.437777</td>\n",
       "      <td>...</td>\n",
       "      <td>6.565423</td>\n",
       "      <td>7.235219</td>\n",
       "      <td>10.172650</td>\n",
       "      <td>10.255226</td>\n",
       "      <td>2.929230</td>\n",
       "      <td>10.470887</td>\n",
       "      <td>5.276558</td>\n",
       "      <td>2.640792</td>\n",
       "      <td>3.401364</td>\n",
       "      <td>1860-02-13</td>\n",
       "    </tr>\n",
       "    <tr>\n",
       "      <th>1860-11-01</th>\n",
       "      <td>24.701655</td>\n",
       "      <td>15.320524</td>\n",
       "      <td>20.688137</td>\n",
       "      <td>26.800761</td>\n",
       "      <td>9.507876</td>\n",
       "      <td>19.724983</td>\n",
       "      <td>12.162148</td>\n",
       "      <td>17.212000</td>\n",
       "      <td>12.565421</td>\n",
       "      <td>9.269004</td>\n",
       "      <td>...</td>\n",
       "      <td>12.022841</td>\n",
       "      <td>10.105459</td>\n",
       "      <td>52.390503</td>\n",
       "      <td>15.167048</td>\n",
       "      <td>5.948738</td>\n",
       "      <td>8.425576</td>\n",
       "      <td>12.326523</td>\n",
       "      <td>18.439652</td>\n",
       "      <td>15.895457</td>\n",
       "      <td>1860-11-01</td>\n",
       "    </tr>\n",
       "    <tr>\n",
       "      <th>1860-11-02</th>\n",
       "      <td>34.497866</td>\n",
       "      <td>13.403440</td>\n",
       "      <td>24.752271</td>\n",
       "      <td>29.837357</td>\n",
       "      <td>10.644605</td>\n",
       "      <td>35.999504</td>\n",
       "      <td>12.663689</td>\n",
       "      <td>17.339759</td>\n",
       "      <td>13.290537</td>\n",
       "      <td>6.110515</td>\n",
       "      <td>...</td>\n",
       "      <td>13.310257</td>\n",
       "      <td>9.942564</td>\n",
       "      <td>60.870232</td>\n",
       "      <td>17.311889</td>\n",
       "      <td>6.737040</td>\n",
       "      <td>9.096448</td>\n",
       "      <td>10.890201</td>\n",
       "      <td>17.961434</td>\n",
       "      <td>16.340556</td>\n",
       "      <td>1860-11-02</td>\n",
       "    </tr>\n",
       "    <tr>\n",
       "      <th>1860-11-03</th>\n",
       "      <td>25.648969</td>\n",
       "      <td>12.454383</td>\n",
       "      <td>26.599497</td>\n",
       "      <td>24.317126</td>\n",
       "      <td>11.877466</td>\n",
       "      <td>23.699603</td>\n",
       "      <td>13.301183</td>\n",
       "      <td>15.368058</td>\n",
       "      <td>14.506896</td>\n",
       "      <td>8.228682</td>\n",
       "      <td>...</td>\n",
       "      <td>12.235937</td>\n",
       "      <td>11.043794</td>\n",
       "      <td>50.163584</td>\n",
       "      <td>16.538452</td>\n",
       "      <td>8.237454</td>\n",
       "      <td>14.264497</td>\n",
       "      <td>10.044558</td>\n",
       "      <td>16.511435</td>\n",
       "      <td>10.895197</td>\n",
       "      <td>1860-11-03</td>\n",
       "    </tr>\n",
       "    <tr>\n",
       "      <th>1860-11-05</th>\n",
       "      <td>27.861943</td>\n",
       "      <td>16.000815</td>\n",
       "      <td>23.737720</td>\n",
       "      <td>24.907908</td>\n",
       "      <td>11.176312</td>\n",
       "      <td>26.568657</td>\n",
       "      <td>14.732040</td>\n",
       "      <td>14.665108</td>\n",
       "      <td>11.969213</td>\n",
       "      <td>11.152809</td>\n",
       "      <td>...</td>\n",
       "      <td>13.051386</td>\n",
       "      <td>6.821220</td>\n",
       "      <td>46.726264</td>\n",
       "      <td>13.580639</td>\n",
       "      <td>8.727424</td>\n",
       "      <td>8.876288</td>\n",
       "      <td>11.135354</td>\n",
       "      <td>15.535345</td>\n",
       "      <td>14.109067</td>\n",
       "      <td>1860-11-05</td>\n",
       "    </tr>\n",
       "  </tbody>\n",
       "</table>\n",
       "<p>5 rows × 31 columns</p>\n",
       "</div>"
      ],
      "text/plain": [
       "                  t00        t01        t02        t03        t04        t05  \\\n",
       "date                                                                           \n",
       "1860-02-13  11.547841   8.969576   4.384787   9.959778   9.041194   7.094381   \n",
       "1860-11-01  24.701655  15.320524  20.688137  26.800761   9.507876  19.724983   \n",
       "1860-11-02  34.497866  13.403440  24.752271  29.837357  10.644605  35.999504   \n",
       "1860-11-03  25.648969  12.454383  26.599497  24.317126  11.877466  23.699603   \n",
       "1860-11-05  27.861943  16.000815  23.737720  24.907908  11.176312  26.568657   \n",
       "\n",
       "                  t06        t07        t08        t09  ...        t21  \\\n",
       "date                                                    ...              \n",
       "1860-02-13  14.146168  10.028889  16.275581   5.437777  ...   6.565423   \n",
       "1860-11-01  12.162148  17.212000  12.565421   9.269004  ...  12.022841   \n",
       "1860-11-02  12.663689  17.339759  13.290537   6.110515  ...  13.310257   \n",
       "1860-11-03  13.301183  15.368058  14.506896   8.228682  ...  12.235937   \n",
       "1860-11-05  14.732040  14.665108  11.969213  11.152809  ...  13.051386   \n",
       "\n",
       "                  t22        t23        t24       t25        t26        t27  \\\n",
       "date                                                                          \n",
       "1860-02-13   7.235219  10.172650  10.255226  2.929230  10.470887   5.276558   \n",
       "1860-11-01  10.105459  52.390503  15.167048  5.948738   8.425576  12.326523   \n",
       "1860-11-02   9.942564  60.870232  17.311889  6.737040   9.096448  10.890201   \n",
       "1860-11-03  11.043794  50.163584  16.538452  8.237454  14.264497  10.044558   \n",
       "1860-11-05   6.821220  46.726264  13.580639  8.727424   8.876288  11.135354   \n",
       "\n",
       "                  t28        t29        date  \n",
       "date                                          \n",
       "1860-02-13   2.640792   3.401364  1860-02-13  \n",
       "1860-11-01  18.439652  15.895457  1860-11-01  \n",
       "1860-11-02  17.961434  16.340556  1860-11-02  \n",
       "1860-11-03  16.511435  10.895197  1860-11-03  \n",
       "1860-11-05  15.535345  14.109067  1860-11-05  \n",
       "\n",
       "[5 rows x 31 columns]"
      ]
     },
     "execution_count": 150,
     "metadata": {},
     "output_type": "execute_result"
    }
   ],
   "source": [
    "topicSum = mergedTable.groupby(\"date\").sum().copy()\n",
    "topicSum[\"date\"] = topicSum.index\n",
    "topicSum.head()"
   ]
  },
  {
   "cell_type": "code",
   "execution_count": 151,
   "metadata": {},
   "outputs": [
    {
     "data": {
      "image/png": "[encoded data removed]",
      "text/plain": [
       "<Figure size 1440x648 with 1 Axes>"
      ]
     },
     "metadata": {
      "needs_background": "light"
     },
     "output_type": "display_data"
    }
   ],
   "source": [
    "topic = \"t19\"\n",
    "\n",
    "# Plotting directly from DataFrames with Pandas\n",
    "topicSum.plot(\n",
    "    x='date', \n",
    "    y=topic,  \n",
    "    legend=True, \n",
    "    color='blue'\n",
    ")\n",
    "# The plot is now created, and we use Matplotlib style\n",
    "# commands to enhance the output.\n",
    "plt.rcParams[\"figure.figsize\"] = (20,9)\n",
    "plt.ylabel(\"Topic salience\")\n",
    "plt.xlabel(\"Dates\")\n",
    "plt.title(topic+\": \"+topicDic[topic])\n",
    "plt.gca().yaxis.grid(linestyle=':')"
   ]
  },
  {
   "cell_type": "markdown",
   "metadata": {},
   "source": [
    "You can run the cell below to print out items most representative of this topic."
   ]
  },
  {
   "cell_type": "code",
   "execution_count": 152,
   "metadata": {},
   "outputs": [
    {
     "data": {
      "text/html": [
       "<div>\n",
       "<style scoped>\n",
       "    .dataframe tbody tr th:only-of-type {\n",
       "        vertical-align: middle;\n",
       "    }\n",
       "\n",
       "    .dataframe tbody tr th {\n",
       "        vertical-align: top;\n",
       "    }\n",
       "\n",
       "    .dataframe thead th {\n",
       "        text-align: right;\n",
       "    }\n",
       "</style>\n",
       "<table border=\"1\" class=\"dataframe\">\n",
       "  <thead>\n",
       "    <tr style=\"text-align: right;\">\n",
       "      <th></th>\n",
       "      <th>date</th>\n",
       "      <th>content</th>\n",
       "      <th>t19</th>\n",
       "    </tr>\n",
       "  </thead>\n",
       "  <tbody>\n",
       "    <tr>\n",
       "      <th>6245</th>\n",
       "      <td>1860-11-22</td>\n",
       "      <td>\\n \\n\\n\\n arrived  \\n\\n\\n Schr. Dan'l Townsen...</td>\n",
       "      <td>0.994648</td>\n",
       "    </tr>\n",
       "    <tr>\n",
       "      <th>3421</th>\n",
       "      <td>1860-11-12</td>\n",
       "      <td>\\n \\n\\n\\n Holmes' Hole. Nov.\\n\\n--Sl'd, schr....</td>\n",
       "      <td>0.993948</td>\n",
       "    </tr>\n",
       "    <tr>\n",
       "      <th>2059</th>\n",
       "      <td>1860-11-05</td>\n",
       "      <td>\\n \\n\\n\\n --300 boxes Raisins, in different s...</td>\n",
       "      <td>0.993339</td>\n",
       "    </tr>\n",
       "    <tr>\n",
       "      <th>6072</th>\n",
       "      <td>1860-11-21</td>\n",
       "      <td>\\n \\n\\n\\n --300 boxes Raisins, in different s...</td>\n",
       "      <td>0.993339</td>\n",
       "    </tr>\n",
       "    <tr>\n",
       "      <th>6522</th>\n",
       "      <td>1860-11-22</td>\n",
       "      <td>\\n \\n\\n\\n --300 boxes Raisins, in different s...</td>\n",
       "      <td>0.993339</td>\n",
       "    </tr>\n",
       "    <tr>\n",
       "      <th>2841</th>\n",
       "      <td>1860-11-09</td>\n",
       "      <td>\\n \\n\\n\\n--300 boxes Raisins, in different si...</td>\n",
       "      <td>0.993339</td>\n",
       "    </tr>\n",
       "    <tr>\n",
       "      <th>329</th>\n",
       "      <td>1860-11-01</td>\n",
       "      <td>\\nHdq'rs Chesterfield Lt.Dragoons, Co. \"a\" 23...</td>\n",
       "      <td>0.993339</td>\n",
       "    </tr>\n",
       "    <tr>\n",
       "      <th>5399</th>\n",
       "      <td>1860-11-20</td>\n",
       "      <td>\\n \\n\\n\\n --300 boxes Raisings, in different ...</td>\n",
       "      <td>0.993142</td>\n",
       "    </tr>\n",
       "    <tr>\n",
       "      <th>1659</th>\n",
       "      <td>1860-11-03</td>\n",
       "      <td>\\n \\n\\n\\n --300 boxes Raising, in different s...</td>\n",
       "      <td>0.992823</td>\n",
       "    </tr>\n",
       "    <tr>\n",
       "      <th>1484</th>\n",
       "      <td>1860-11-03</td>\n",
       "      <td>\\n  Manchester, October 31st. 1860.  \\n\\n\\nPa...</td>\n",
       "      <td>0.992593</td>\n",
       "    </tr>\n",
       "    <tr>\n",
       "      <th>1045</th>\n",
       "      <td>1860-11-02</td>\n",
       "      <td>\\n \\n\\n\\n I have not discontinued business on...</td>\n",
       "      <td>0.992087</td>\n",
       "    </tr>\n",
       "    <tr>\n",
       "      <th>6925</th>\n",
       "      <td>1860-11-23</td>\n",
       "      <td>\\n \\n\\n\\n I have not discontinued business on...</td>\n",
       "      <td>0.992087</td>\n",
       "    </tr>\n",
       "    <tr>\n",
       "      <th>3625</th>\n",
       "      <td>1860-11-12</td>\n",
       "      <td>\\n \\n\\n\\n I have not discontinued business on...</td>\n",
       "      <td>0.992087</td>\n",
       "    </tr>\n",
       "    <tr>\n",
       "      <th>2101</th>\n",
       "      <td>1860-11-05</td>\n",
       "      <td>\\n \\n\\n\\n I have not discontinued business on...</td>\n",
       "      <td>0.992087</td>\n",
       "    </tr>\n",
       "    <tr>\n",
       "      <th>5611</th>\n",
       "      <td>1860-11-20</td>\n",
       "      <td>\\n \\n\\n\\n I have not discontinued business on...</td>\n",
       "      <td>0.992087</td>\n",
       "    </tr>\n",
       "  </tbody>\n",
       "</table>\n",
       "</div>"
      ],
      "text/plain": [
       "            date                                            content       t19\n",
       "6245  1860-11-22   \\n \\n\\n\\n arrived  \\n\\n\\n Schr. Dan'l Townsen...  0.994648\n",
       "3421  1860-11-12   \\n \\n\\n\\n Holmes' Hole. Nov.\\n\\n--Sl'd, schr....  0.993948\n",
       "2059  1860-11-05   \\n \\n\\n\\n --300 boxes Raisins, in different s...  0.993339\n",
       "6072  1860-11-21   \\n \\n\\n\\n --300 boxes Raisins, in different s...  0.993339\n",
       "6522  1860-11-22   \\n \\n\\n\\n --300 boxes Raisins, in different s...  0.993339\n",
       "2841  1860-11-09   \\n \\n\\n\\n--300 boxes Raisins, in different si...  0.993339\n",
       "329   1860-11-01   \\nHdq'rs Chesterfield Lt.Dragoons, Co. \"a\" 23...  0.993339\n",
       "5399  1860-11-20   \\n \\n\\n\\n --300 boxes Raisings, in different ...  0.993142\n",
       "1659  1860-11-03   \\n \\n\\n\\n --300 boxes Raising, in different s...  0.992823\n",
       "1484  1860-11-03   \\n  Manchester, October 31st. 1860.  \\n\\n\\nPa...  0.992593\n",
       "1045  1860-11-02   \\n \\n\\n\\n I have not discontinued business on...  0.992087\n",
       "6925  1860-11-23   \\n \\n\\n\\n I have not discontinued business on...  0.992087\n",
       "3625  1860-11-12   \\n \\n\\n\\n I have not discontinued business on...  0.992087\n",
       "2101  1860-11-05   \\n \\n\\n\\n I have not discontinued business on...  0.992087\n",
       "5611  1860-11-20   \\n \\n\\n\\n I have not discontinued business on...  0.992087"
      ]
     },
     "execution_count": 152,
     "metadata": {},
     "output_type": "execute_result"
    }
   ],
   "source": [
    "temp = mergedTable[mergedTable[topic] > 0.95].sort_values(by=topic, ascending=False)\n",
    "temp[[\"date\", \"content\", topic]].head(15)"
   ]
  },
  {
   "cell_type": "markdown",
   "metadata": {},
   "source": [
    "And you can check individual items like this:"
   ]
  },
  {
   "cell_type": "code",
   "execution_count": 153,
   "metadata": {},
   "outputs": [
    {
     "data": {
      "text/plain": [
       "' \\n \\n\\n\\n 50 bbls. Extra C. Sugar 75 bbs. Cut Loaf Sugar, landing, for sale.  \\n\\n\\n ja 20 Lewis Webb &amp; John G. Wade.   \\n'"
      ]
     },
     "execution_count": 153,
     "metadata": {},
     "output_type": "execute_result"
    }
   ],
   "source": [
    "mergedTable[\"content\"][75]"
   ]
  },
  {
   "cell_type": "markdown",
   "metadata": {},
   "source": [
    "We can also use `plotly` library to generat dynamic graphs:"
   ]
  },
  {
   "cell_type": "code",
   "execution_count": 154,
   "metadata": {},
   "outputs": [
    {
     "data": {
      "text/html": [
       "        <script type=\"text/javascript\">\n",
       "        window.PlotlyConfig = {MathJaxConfig: 'local'};\n",
       "        if (window.MathJax) {MathJax.Hub.Config({SVG: {font: \"STIX-Web\"}});}\n",
       "        if (typeof require !== 'undefined') {\n",
       "        require.undef(\"plotly\");\n",
       "        requirejs.config({\n",
       "            paths: {\n",
       "                'plotly': ['https://cdn.plot.ly/plotly-latest.min']\n",
       "            }\n",
       "        });\n",
       "        require(['plotly'], function(Plotly) {\n",
       "            window._Plotly = Plotly;\n",
       "        });\n",
       "        }\n",
       "        </script>\n",
       "        "
      ]
     },
     "metadata": {},
     "output_type": "display_data"
    }
   ],
   "source": [
    "import plotly.graph_objs as go\n",
    "from plotly.offline import init_notebook_mode, plot, iplot\n",
    "init_notebook_mode(connected=True)"
   ]
  },
  {
   "cell_type": "code",
   "execution_count": 155,
   "metadata": {
    "scrolled": true
   },
   "outputs": [
    {
     "data": {
      "application/vnd.plotly.v1+json": {
       "config": {
        "linkText": "Export to plot.ly",
        "plotlyServerURL": "https://plot.ly",
        "showLink": false
       },
       "data": [
        {
         "type": "bar",
         "x": [
          "1860-02-13",
          "1860-11-01",
          "1860-11-02",
          "1860-11-03",
          "1860-11-05",
          "1860-11-06",
          "1860-11-07",
          "1860-11-08",
          "1860-11-09",
          "1860-11-10",
          "1860-11-12",
          "1860-11-13",
          "1860-11-14",
          "1860-11-15",
          "1860-11-16",
          "1860-11-19",
          "1860-11-20",
          "1860-11-21",
          "1860-11-22",
          "1860-11-23",
          "1860-11-24",
          "1860-11-26"
         ],
         "y": [
          9.910189423710108,
          15.91168518178165,
          23.0870731882751,
          18.546265192329884,
          22.465004801750183,
          6.482598029077053,
          0.575607743114233,
          11.255559362471104,
          18.789571247063577,
          8.707982590422034,
          13.67974404618144,
          10.085102829150856,
          4.645259140059352,
          2.8507332988083363,
          10.216099327430129,
          12.171130686998367,
          15.581996365450323,
          13.047604631632566,
          10.939713757485151,
          12.054111536592245,
          8.743537770584226,
          15.499764701351523
         ]
        }
       ],
       "layout": {
        "template": {
         "data": {
          "bar": [
           {
            "error_x": {
             "color": "#2a3f5f"
            },
            "error_y": {
             "color": "#2a3f5f"
            },
            "marker": {
             "line": {
              "color": "#E5ECF6",
              "width": 0.5
             }
            },
            "type": "bar"
           }
          ],
          "barpolar": [
           {
            "marker": {
             "line": {
              "color": "#E5ECF6",
              "width": 0.5
             }
            },
            "type": "barpolar"
           }
          ],
          "carpet": [
           {
            "aaxis": {
             "endlinecolor": "#2a3f5f",
             "gridcolor": "white",
             "linecolor": "white",
             "minorgridcolor": "white",
             "startlinecolor": "#2a3f5f"
            },
            "baxis": {
             "endlinecolor": "#2a3f5f",
             "gridcolor": "white",
             "linecolor": "white",
             "minorgridcolor": "white",
             "startlinecolor": "#2a3f5f"
            },
            "type": "carpet"
           }
          ],
          "choropleth": [
           {
            "colorbar": {
             "outlinewidth": 0,
             "ticks": ""
            },
            "type": "choropleth"
           }
          ],
          "contour": [
           {
            "colorbar": {
             "outlinewidth": 0,
             "ticks": ""
            },
            "colorscale": [
             [
              0,
              "#0d0887"
             ],
             [
              0.1111111111111111,
              "#46039f"
             ],
             [
              0.2222222222222222,
              "#7201a8"
             ],
             [
              0.3333333333333333,
              "#9c179e"
             ],
             [
              0.4444444444444444,
              "#bd3786"
             ],
             [
              0.5555555555555556,
              "#d8576b"
             ],
             [
              0.6666666666666666,
              "#ed7953"
             ],
             [
              0.7777777777777778,
              "#fb9f3a"
             ],
             [
              0.8888888888888888,
              "#fdca26"
             ],
             [
              1,
              "#f0f921"
             ]
            ],
            "type": "contour"
           }
          ],
          "contourcarpet": [
           {
            "colorbar": {
             "outlinewidth": 0,
             "ticks": ""
            },
            "type": "contourcarpet"
           }
          ],
          "heatmap": [
           {
            "colorbar": {
             "outlinewidth": 0,
             "ticks": ""
            },
            "colorscale": [
             [
              0,
              "#0d0887"
             ],
             [
              0.1111111111111111,
              "#46039f"
             ],
             [
              0.2222222222222222,
              "#7201a8"
             ],
             [
              0.3333333333333333,
              "#9c179e"
             ],
             [
              0.4444444444444444,
              "#bd3786"
             ],
             [
              0.5555555555555556,
              "#d8576b"
             ],
             [
              0.6666666666666666,
              "#ed7953"
             ],
             [
              0.7777777777777778,
              "#fb9f3a"
             ],
             [
              0.8888888888888888,
              "#fdca26"
             ],
             [
              1,
              "#f0f921"
             ]
            ],
            "type": "heatmap"
           }
          ],
          "heatmapgl": [
           {
            "colorbar": {
             "outlinewidth": 0,
             "ticks": ""
            },
            "colorscale": [
             [
              0,
              "#0d0887"
             ],
             [
              0.1111111111111111,
              "#46039f"
             ],
             [
              0.2222222222222222,
              "#7201a8"
             ],
             [
              0.3333333333333333,
              "#9c179e"
             ],
             [
              0.4444444444444444,
              "#bd3786"
             ],
             [
              0.5555555555555556,
              "#d8576b"
             ],
             [
              0.6666666666666666,
              "#ed7953"
             ],
             [
              0.7777777777777778,
              "#fb9f3a"
             ],
             [
              0.8888888888888888,
              "#fdca26"
             ],
             [
              1,
              "#f0f921"
             ]
            ],
            "type": "heatmapgl"
           }
          ],
          "histogram": [
           {
            "marker": {
             "colorbar": {
              "outlinewidth": 0,
              "ticks": ""
             }
            },
            "type": "histogram"
           }
          ],
          "histogram2d": [
           {
            "colorbar": {
             "outlinewidth": 0,
             "ticks": ""
            },
            "colorscale": [
             [
              0,
              "#0d0887"
             ],
             [
              0.1111111111111111,
              "#46039f"
             ],
             [
              0.2222222222222222,
              "#7201a8"
             ],
             [
              0.3333333333333333,
              "#9c179e"
             ],
             [
              0.4444444444444444,
              "#bd3786"
             ],
             [
              0.5555555555555556,
              "#d8576b"
             ],
             [
              0.6666666666666666,
              "#ed7953"
             ],
             [
              0.7777777777777778,
              "#fb9f3a"
             ],
             [
              0.8888888888888888,
              "#fdca26"
             ],
             [
              1,
              "#f0f921"
             ]
            ],
            "type": "histogram2d"
           }
          ],
          "histogram2dcontour": [
           {
            "colorbar": {
             "outlinewidth": 0,
             "ticks": ""
            },
            "colorscale": [
             [
              0,
              "#0d0887"
             ],
             [
              0.1111111111111111,
              "#46039f"
             ],
             [
              0.2222222222222222,
              "#7201a8"
             ],
             [
              0.3333333333333333,
              "#9c179e"
             ],
             [
              0.4444444444444444,
              "#bd3786"
             ],
             [
              0.5555555555555556,
              "#d8576b"
             ],
             [
              0.6666666666666666,
              "#ed7953"
             ],
             [
              0.7777777777777778,
              "#fb9f3a"
             ],
             [
              0.8888888888888888,
              "#fdca26"
             ],
             [
              1,
              "#f0f921"
             ]
            ],
            "type": "histogram2dcontour"
           }
          ],
          "mesh3d": [
           {
            "colorbar": {
             "outlinewidth": 0,
             "ticks": ""
            },
            "type": "mesh3d"
           }
          ],
          "parcoords": [
           {
            "line": {
             "colorbar": {
              "outlinewidth": 0,
              "ticks": ""
             }
            },
            "type": "parcoords"
           }
          ],
          "pie": [
           {
            "automargin": true,
            "type": "pie"
           }
          ],
          "scatter": [
           {
            "marker": {
             "colorbar": {
              "outlinewidth": 0,
              "ticks": ""
             }
            },
            "type": "scatter"
           }
          ],
          "scatter3d": [
           {
            "line": {
             "colorbar": {
              "outlinewidth": 0,
              "ticks": ""
             }
            },
            "marker": {
             "colorbar": {
              "outlinewidth": 0,
              "ticks": ""
             }
            },
            "type": "scatter3d"
           }
          ],
          "scattercarpet": [
           {
            "marker": {
             "colorbar": {
              "outlinewidth": 0,
              "ticks": ""
             }
            },
            "type": "scattercarpet"
           }
          ],
          "scattergeo": [
           {
            "marker": {
             "colorbar": {
              "outlinewidth": 0,
              "ticks": ""
             }
            },
            "type": "scattergeo"
           }
          ],
          "scattergl": [
           {
            "marker": {
             "colorbar": {
              "outlinewidth": 0,
              "ticks": ""
             }
            },
            "type": "scattergl"
           }
          ],
          "scattermapbox": [
           {
            "marker": {
             "colorbar": {
              "outlinewidth": 0,
              "ticks": ""
             }
            },
            "type": "scattermapbox"
           }
          ],
          "scatterpolar": [
           {
            "marker": {
             "colorbar": {
              "outlinewidth": 0,
              "ticks": ""
             }
            },
            "type": "scatterpolar"
           }
          ],
          "scatterpolargl": [
           {
            "marker": {
             "colorbar": {
              "outlinewidth": 0,
              "ticks": ""
             }
            },
            "type": "scatterpolargl"
           }
          ],
          "scatterternary": [
           {
            "marker": {
             "colorbar": {
              "outlinewidth": 0,
              "ticks": ""
             }
            },
            "type": "scatterternary"
           }
          ],
          "surface": [
           {
            "colorbar": {
             "outlinewidth": 0,
             "ticks": ""
            },
            "colorscale": [
             [
              0,
              "#0d0887"
             ],
             [
              0.1111111111111111,
              "#46039f"
             ],
             [
              0.2222222222222222,
              "#7201a8"
             ],
             [
              0.3333333333333333,
              "#9c179e"
             ],
             [
              0.4444444444444444,
              "#bd3786"
             ],
             [
              0.5555555555555556,
              "#d8576b"
             ],
             [
              0.6666666666666666,
              "#ed7953"
             ],
             [
              0.7777777777777778,
              "#fb9f3a"
             ],
             [
              0.8888888888888888,
              "#fdca26"
             ],
             [
              1,
              "#f0f921"
             ]
            ],
            "type": "surface"
           }
          ],
          "table": [
           {
            "cells": {
             "fill": {
              "color": "#EBF0F8"
             },
             "line": {
              "color": "white"
             }
            },
            "header": {
             "fill": {
              "color": "#C8D4E3"
             },
             "line": {
              "color": "white"
             }
            },
            "type": "table"
           }
          ]
         },
         "layout": {
          "annotationdefaults": {
           "arrowcolor": "#2a3f5f",
           "arrowhead": 0,
           "arrowwidth": 1
          },
          "coloraxis": {
           "colorbar": {
            "outlinewidth": 0,
            "ticks": ""
           }
          },
          "colorscale": {
           "diverging": [
            [
             0,
             "#8e0152"
            ],
            [
             0.1,
             "#c51b7d"
            ],
            [
             0.2,
             "#de77ae"
            ],
            [
             0.3,
             "#f1b6da"
            ],
            [
             0.4,
             "#fde0ef"
            ],
            [
             0.5,
             "#f7f7f7"
            ],
            [
             0.6,
             "#e6f5d0"
            ],
            [
             0.7,
             "#b8e186"
            ],
            [
             0.8,
             "#7fbc41"
            ],
            [
             0.9,
             "#4d9221"
            ],
            [
             1,
             "#276419"
            ]
           ],
           "sequential": [
            [
             0,
             "#0d0887"
            ],
            [
             0.1111111111111111,
             "#46039f"
            ],
            [
             0.2222222222222222,
             "#7201a8"
            ],
            [
             0.3333333333333333,
             "#9c179e"
            ],
            [
             0.4444444444444444,
             "#bd3786"
            ],
            [
             0.5555555555555556,
             "#d8576b"
            ],
            [
             0.6666666666666666,
             "#ed7953"
            ],
            [
             0.7777777777777778,
             "#fb9f3a"
            ],
            [
             0.8888888888888888,
             "#fdca26"
            ],
            [
             1,
             "#f0f921"
            ]
           ],
           "sequentialminus": [
            [
             0,
             "#0d0887"
            ],
            [
             0.1111111111111111,
             "#46039f"
            ],
            [
             0.2222222222222222,
             "#7201a8"
            ],
            [
             0.3333333333333333,
             "#9c179e"
            ],
            [
             0.4444444444444444,
             "#bd3786"
            ],
            [
             0.5555555555555556,
             "#d8576b"
            ],
            [
             0.6666666666666666,
             "#ed7953"
            ],
            [
             0.7777777777777778,
             "#fb9f3a"
            ],
            [
             0.8888888888888888,
             "#fdca26"
            ],
            [
             1,
             "#f0f921"
            ]
           ]
          },
          "colorway": [
           "#636efa",
           "#EF553B",
           "#00cc96",
           "#ab63fa",
           "#FFA15A",
           "#19d3f3",
           "#FF6692",
           "#B6E880",
           "#FF97FF",
           "#FECB52"
          ],
          "font": {
           "color": "#2a3f5f"
          },
          "geo": {
           "bgcolor": "white",
           "lakecolor": "white",
           "landcolor": "#E5ECF6",
           "showlakes": true,
           "showland": true,
           "subunitcolor": "white"
          },
          "hoverlabel": {
           "align": "left"
          },
          "hovermode": "closest",
          "mapbox": {
           "style": "light"
          },
          "paper_bgcolor": "white",
          "plot_bgcolor": "#E5ECF6",
          "polar": {
           "angularaxis": {
            "gridcolor": "white",
            "linecolor": "white",
            "ticks": ""
           },
           "bgcolor": "#E5ECF6",
           "radialaxis": {
            "gridcolor": "white",
            "linecolor": "white",
            "ticks": ""
           }
          },
          "scene": {
           "xaxis": {
            "backgroundcolor": "#E5ECF6",
            "gridcolor": "white",
            "gridwidth": 2,
            "linecolor": "white",
            "showbackground": true,
            "ticks": "",
            "zerolinecolor": "white"
           },
           "yaxis": {
            "backgroundcolor": "#E5ECF6",
            "gridcolor": "white",
            "gridwidth": 2,
            "linecolor": "white",
            "showbackground": true,
            "ticks": "",
            "zerolinecolor": "white"
           },
           "zaxis": {
            "backgroundcolor": "#E5ECF6",
            "gridcolor": "white",
            "gridwidth": 2,
            "linecolor": "white",
            "showbackground": true,
            "ticks": "",
            "zerolinecolor": "white"
           }
          },
          "shapedefaults": {
           "line": {
            "color": "#2a3f5f"
           }
          },
          "ternary": {
           "aaxis": {
            "gridcolor": "white",
            "linecolor": "white",
            "ticks": ""
           },
           "baxis": {
            "gridcolor": "white",
            "linecolor": "white",
            "ticks": ""
           },
           "bgcolor": "#E5ECF6",
           "caxis": {
            "gridcolor": "white",
            "linecolor": "white",
            "ticks": ""
           }
          },
          "title": {
           "x": 0.05
          },
          "xaxis": {
           "automargin": true,
           "gridcolor": "white",
           "linecolor": "white",
           "ticks": "",
           "title": {
            "standoff": 15
           },
           "zerolinecolor": "white",
           "zerolinewidth": 2
          },
          "yaxis": {
           "automargin": true,
           "gridcolor": "white",
           "linecolor": "white",
           "ticks": "",
           "title": {
            "standoff": 15
           },
           "zerolinecolor": "white",
           "zerolinewidth": 2
          }
         }
        },
        "title": {
         "text": "t19: schr, oclock, amp, order, nov, st, co, new, richmond, evening"
        },
        "xaxis": {
         "title": {
          "text": "Dates"
         }
        },
        "yaxis": {
         "title": {
          "text": "Topic Salience"
         }
        }
       }
      },
      "text/html": [
       "<div>\n",
       "        \n",
       "        \n",
       "            <div id=\"3374ea03-7f51-42d9-8577-9ab4acf9c804\" class=\"plotly-graph-div\" style=\"height:525px; width:100%;\"></div>\n",
       "            <script type=\"text/javascript\">\n",
       "                require([\"plotly\"], function(Plotly) {\n",
       "                    window.PLOTLYENV=window.PLOTLYENV || {};\n",
       "                    \n",
       "                if (document.getElementById(\"3374ea03-7f51-42d9-8577-9ab4acf9c804\")) {\n",
       "                    Plotly.newPlot(\n",
       "                        '3374ea03-7f51-42d9-8577-9ab4acf9c804',\n",
       "                        [{\"type\": \"bar\", \"x\": [\"1860-02-13\", \"1860-11-01\", \"1860-11-02\", \"1860-11-03\", \"1860-11-05\", \"1860-11-06\", \"1860-11-07\", \"1860-11-08\", \"1860-11-09\", \"1860-11-10\", \"1860-11-12\", \"1860-11-13\", \"1860-11-14\", \"1860-11-15\", \"1860-11-16\", \"1860-11-19\", \"1860-11-20\", \"1860-11-21\", \"1860-11-22\", \"1860-11-23\", \"1860-11-24\", \"1860-11-26\"], \"y\": [9.910189423710108, 15.91168518178165, 23.0870731882751, 18.546265192329884, 22.465004801750183, 6.482598029077053, 0.575607743114233, 11.255559362471104, 18.789571247063577, 8.707982590422034, 13.67974404618144, 10.085102829150856, 4.645259140059352, 2.8507332988083363, 10.216099327430129, 12.171130686998367, 15.581996365450323, 13.047604631632566, 10.939713757485151, 12.054111536592245, 8.743537770584226, 15.499764701351523]}],\n",
       "                        {\"template\": {\"data\": {\"bar\": [{\"error_x\": {\"color\": \"#2a3f5f\"}, \"error_y\": {\"color\": \"#2a3f5f\"}, \"marker\": {\"line\": {\"color\": \"#E5ECF6\", \"width\": 0.5}}, \"type\": \"bar\"}], \"barpolar\": [{\"marker\": {\"line\": {\"color\": \"#E5ECF6\", \"width\": 0.5}}, \"type\": \"barpolar\"}], \"carpet\": [{\"aaxis\": {\"endlinecolor\": \"#2a3f5f\", \"gridcolor\": \"white\", \"linecolor\": \"white\", \"minorgridcolor\": \"white\", \"startlinecolor\": \"#2a3f5f\"}, \"baxis\": {\"endlinecolor\": \"#2a3f5f\", \"gridcolor\": \"white\", \"linecolor\": \"white\", \"minorgridcolor\": \"white\", \"startlinecolor\": \"#2a3f5f\"}, \"type\": \"carpet\"}], \"choropleth\": [{\"colorbar\": {\"outlinewidth\": 0, \"ticks\": \"\"}, \"type\": \"choropleth\"}], \"contour\": [{\"colorbar\": {\"outlinewidth\": 0, \"ticks\": \"\"}, \"colorscale\": [[0.0, \"#0d0887\"], [0.1111111111111111, \"#46039f\"], [0.2222222222222222, \"#7201a8\"], [0.3333333333333333, \"#9c179e\"], [0.4444444444444444, \"#bd3786\"], [0.5555555555555556, \"#d8576b\"], [0.6666666666666666, \"#ed7953\"], [0.7777777777777778, \"#fb9f3a\"], [0.8888888888888888, \"#fdca26\"], [1.0, \"#f0f921\"]], \"type\": \"contour\"}], \"contourcarpet\": [{\"colorbar\": {\"outlinewidth\": 0, \"ticks\": \"\"}, \"type\": \"contourcarpet\"}], \"heatmap\": [{\"colorbar\": {\"outlinewidth\": 0, \"ticks\": \"\"}, \"colorscale\": [[0.0, \"#0d0887\"], [0.1111111111111111, \"#46039f\"], [0.2222222222222222, \"#7201a8\"], [0.3333333333333333, \"#9c179e\"], [0.4444444444444444, \"#bd3786\"], [0.5555555555555556, \"#d8576b\"], [0.6666666666666666, \"#ed7953\"], [0.7777777777777778, \"#fb9f3a\"], [0.8888888888888888, \"#fdca26\"], [1.0, \"#f0f921\"]], \"type\": \"heatmap\"}], \"heatmapgl\": [{\"colorbar\": {\"outlinewidth\": 0, \"ticks\": \"\"}, \"colorscale\": [[0.0, \"#0d0887\"], [0.1111111111111111, \"#46039f\"], [0.2222222222222222, \"#7201a8\"], [0.3333333333333333, \"#9c179e\"], [0.4444444444444444, \"#bd3786\"], [0.5555555555555556, \"#d8576b\"], [0.6666666666666666, \"#ed7953\"], [0.7777777777777778, \"#fb9f3a\"], [0.8888888888888888, \"#fdca26\"], [1.0, \"#f0f921\"]], \"type\": \"heatmapgl\"}], \"histogram\": [{\"marker\": {\"colorbar\": {\"outlinewidth\": 0, \"ticks\": \"\"}}, \"type\": \"histogram\"}], \"histogram2d\": [{\"colorbar\": {\"outlinewidth\": 0, \"ticks\": \"\"}, \"colorscale\": [[0.0, \"#0d0887\"], [0.1111111111111111, \"#46039f\"], [0.2222222222222222, \"#7201a8\"], [0.3333333333333333, \"#9c179e\"], [0.4444444444444444, \"#bd3786\"], [0.5555555555555556, \"#d8576b\"], [0.6666666666666666, \"#ed7953\"], [0.7777777777777778, \"#fb9f3a\"], [0.8888888888888888, \"#fdca26\"], [1.0, \"#f0f921\"]], \"type\": \"histogram2d\"}], \"histogram2dcontour\": [{\"colorbar\": {\"outlinewidth\": 0, \"ticks\": \"\"}, \"colorscale\": [[0.0, \"#0d0887\"], [0.1111111111111111, \"#46039f\"], [0.2222222222222222, \"#7201a8\"], [0.3333333333333333, \"#9c179e\"], [0.4444444444444444, \"#bd3786\"], [0.5555555555555556, \"#d8576b\"], [0.6666666666666666, \"#ed7953\"], [0.7777777777777778, \"#fb9f3a\"], [0.8888888888888888, \"#fdca26\"], [1.0, \"#f0f921\"]], \"type\": \"histogram2dcontour\"}], \"mesh3d\": [{\"colorbar\": {\"outlinewidth\": 0, \"ticks\": \"\"}, \"type\": \"mesh3d\"}], \"parcoords\": [{\"line\": {\"colorbar\": {\"outlinewidth\": 0, \"ticks\": \"\"}}, \"type\": \"parcoords\"}], \"pie\": [{\"automargin\": true, \"type\": \"pie\"}], \"scatter\": [{\"marker\": {\"colorbar\": {\"outlinewidth\": 0, \"ticks\": \"\"}}, \"type\": \"scatter\"}], \"scatter3d\": [{\"line\": {\"colorbar\": {\"outlinewidth\": 0, \"ticks\": \"\"}}, \"marker\": {\"colorbar\": {\"outlinewidth\": 0, \"ticks\": \"\"}}, \"type\": \"scatter3d\"}], \"scattercarpet\": [{\"marker\": {\"colorbar\": {\"outlinewidth\": 0, \"ticks\": \"\"}}, \"type\": \"scattercarpet\"}], \"scattergeo\": [{\"marker\": {\"colorbar\": {\"outlinewidth\": 0, \"ticks\": \"\"}}, \"type\": \"scattergeo\"}], \"scattergl\": [{\"marker\": {\"colorbar\": {\"outlinewidth\": 0, \"ticks\": \"\"}}, \"type\": \"scattergl\"}], \"scattermapbox\": [{\"marker\": {\"colorbar\": {\"outlinewidth\": 0, \"ticks\": \"\"}}, \"type\": \"scattermapbox\"}], \"scatterpolar\": [{\"marker\": {\"colorbar\": {\"outlinewidth\": 0, \"ticks\": \"\"}}, \"type\": \"scatterpolar\"}], \"scatterpolargl\": [{\"marker\": {\"colorbar\": {\"outlinewidth\": 0, \"ticks\": \"\"}}, \"type\": \"scatterpolargl\"}], \"scatterternary\": [{\"marker\": {\"colorbar\": {\"outlinewidth\": 0, \"ticks\": \"\"}}, \"type\": \"scatterternary\"}], \"surface\": [{\"colorbar\": {\"outlinewidth\": 0, \"ticks\": \"\"}, \"colorscale\": [[0.0, \"#0d0887\"], [0.1111111111111111, \"#46039f\"], [0.2222222222222222, \"#7201a8\"], [0.3333333333333333, \"#9c179e\"], [0.4444444444444444, \"#bd3786\"], [0.5555555555555556, \"#d8576b\"], [0.6666666666666666, \"#ed7953\"], [0.7777777777777778, \"#fb9f3a\"], [0.8888888888888888, \"#fdca26\"], [1.0, \"#f0f921\"]], \"type\": \"surface\"}], \"table\": [{\"cells\": {\"fill\": {\"color\": \"#EBF0F8\"}, \"line\": {\"color\": \"white\"}}, \"header\": {\"fill\": {\"color\": \"#C8D4E3\"}, \"line\": {\"color\": \"white\"}}, \"type\": \"table\"}]}, \"layout\": {\"annotationdefaults\": {\"arrowcolor\": \"#2a3f5f\", \"arrowhead\": 0, \"arrowwidth\": 1}, \"coloraxis\": {\"colorbar\": {\"outlinewidth\": 0, \"ticks\": \"\"}}, \"colorscale\": {\"diverging\": [[0, \"#8e0152\"], [0.1, \"#c51b7d\"], [0.2, \"#de77ae\"], [0.3, \"#f1b6da\"], [0.4, \"#fde0ef\"], [0.5, \"#f7f7f7\"], [0.6, \"#e6f5d0\"], [0.7, \"#b8e186\"], [0.8, \"#7fbc41\"], [0.9, \"#4d9221\"], [1, \"#276419\"]], \"sequential\": [[0.0, \"#0d0887\"], [0.1111111111111111, \"#46039f\"], [0.2222222222222222, \"#7201a8\"], [0.3333333333333333, \"#9c179e\"], [0.4444444444444444, \"#bd3786\"], [0.5555555555555556, \"#d8576b\"], [0.6666666666666666, \"#ed7953\"], [0.7777777777777778, \"#fb9f3a\"], [0.8888888888888888, \"#fdca26\"], [1.0, \"#f0f921\"]], \"sequentialminus\": [[0.0, \"#0d0887\"], [0.1111111111111111, \"#46039f\"], [0.2222222222222222, \"#7201a8\"], [0.3333333333333333, \"#9c179e\"], [0.4444444444444444, \"#bd3786\"], [0.5555555555555556, \"#d8576b\"], [0.6666666666666666, \"#ed7953\"], [0.7777777777777778, \"#fb9f3a\"], [0.8888888888888888, \"#fdca26\"], [1.0, \"#f0f921\"]]}, \"colorway\": [\"#636efa\", \"#EF553B\", \"#00cc96\", \"#ab63fa\", \"#FFA15A\", \"#19d3f3\", \"#FF6692\", \"#B6E880\", \"#FF97FF\", \"#FECB52\"], \"font\": {\"color\": \"#2a3f5f\"}, \"geo\": {\"bgcolor\": \"white\", \"lakecolor\": \"white\", \"landcolor\": \"#E5ECF6\", \"showlakes\": true, \"showland\": true, \"subunitcolor\": \"white\"}, \"hoverlabel\": {\"align\": \"left\"}, \"hovermode\": \"closest\", \"mapbox\": {\"style\": \"light\"}, \"paper_bgcolor\": \"white\", \"plot_bgcolor\": \"#E5ECF6\", \"polar\": {\"angularaxis\": {\"gridcolor\": \"white\", \"linecolor\": \"white\", \"ticks\": \"\"}, \"bgcolor\": \"#E5ECF6\", \"radialaxis\": {\"gridcolor\": \"white\", \"linecolor\": \"white\", \"ticks\": \"\"}}, \"scene\": {\"xaxis\": {\"backgroundcolor\": \"#E5ECF6\", \"gridcolor\": \"white\", \"gridwidth\": 2, \"linecolor\": \"white\", \"showbackground\": true, \"ticks\": \"\", \"zerolinecolor\": \"white\"}, \"yaxis\": {\"backgroundcolor\": \"#E5ECF6\", \"gridcolor\": \"white\", \"gridwidth\": 2, \"linecolor\": \"white\", \"showbackground\": true, \"ticks\": \"\", \"zerolinecolor\": \"white\"}, \"zaxis\": {\"backgroundcolor\": \"#E5ECF6\", \"gridcolor\": \"white\", \"gridwidth\": 2, \"linecolor\": \"white\", \"showbackground\": true, \"ticks\": \"\", \"zerolinecolor\": \"white\"}}, \"shapedefaults\": {\"line\": {\"color\": \"#2a3f5f\"}}, \"ternary\": {\"aaxis\": {\"gridcolor\": \"white\", \"linecolor\": \"white\", \"ticks\": \"\"}, \"baxis\": {\"gridcolor\": \"white\", \"linecolor\": \"white\", \"ticks\": \"\"}, \"bgcolor\": \"#E5ECF6\", \"caxis\": {\"gridcolor\": \"white\", \"linecolor\": \"white\", \"ticks\": \"\"}}, \"title\": {\"x\": 0.05}, \"xaxis\": {\"automargin\": true, \"gridcolor\": \"white\", \"linecolor\": \"white\", \"ticks\": \"\", \"title\": {\"standoff\": 15}, \"zerolinecolor\": \"white\", \"zerolinewidth\": 2}, \"yaxis\": {\"automargin\": true, \"gridcolor\": \"white\", \"linecolor\": \"white\", \"ticks\": \"\", \"title\": {\"standoff\": 15}, \"zerolinecolor\": \"white\", \"zerolinewidth\": 2}}}, \"title\": {\"text\": \"t19: schr, oclock, amp, order, nov, st, co, new, richmond, evening\"}, \"xaxis\": {\"title\": {\"text\": \"Dates\"}}, \"yaxis\": {\"title\": {\"text\": \"Topic Salience\"}}},\n",
       "                        {\"responsive\": true}\n",
       "                    ).then(function(){\n",
       "                            \n",
       "var gd = document.getElementById('3374ea03-7f51-42d9-8577-9ab4acf9c804');\n",
       "var x = new MutationObserver(function (mutations, observer) {{\n",
       "        var display = window.getComputedStyle(gd).display;\n",
       "        if (!display || display === 'none') {{\n",
       "            console.log([gd, 'removed!']);\n",
       "            Plotly.purge(gd);\n",
       "            observer.disconnect();\n",
       "        }}\n",
       "}});\n",
       "\n",
       "// Listen for the removal of the full notebook cells\n",
       "var notebookContainer = gd.closest('#notebook-container');\n",
       "if (notebookContainer) {{\n",
       "    x.observe(notebookContainer, {childList: true});\n",
       "}}\n",
       "\n",
       "// Listen for the clearing of the current output cell\n",
       "var outputEl = gd.closest('.output');\n",
       "if (outputEl) {{\n",
       "    x.observe(outputEl, {childList: true});\n",
       "}}\n",
       "\n",
       "                        })\n",
       "                };\n",
       "                });\n",
       "            </script>\n",
       "        </div>"
      ]
     },
     "metadata": {},
     "output_type": "display_data"
    }
   ],
   "source": [
    "# Create the data for the bar chart\n",
    "bar_data = go.Bar(\n",
    "    x=topicSum[\"date\"], \n",
    "    y=topicSum[topic]\n",
    ")\n",
    "# Create the layout information for display\n",
    "layout = go.Layout(\n",
    "    title=topic+\": \"+topicDic[topic],    \n",
    "    xaxis=dict(title='Dates'),\n",
    "    yaxis=dict(title='Topic Salience')\n",
    ")\n",
    "# These two together create the \"figure\"\n",
    "figure = go.Figure(data=[bar_data], layout=layout)\n",
    "# Use \"iplot\" to create the figure in the Jupyter notebook\n",
    "iplot(figure)"
   ]
  },
  {
   "cell_type": "markdown",
   "metadata": {},
   "source": [
    "`Plotly` also allows one to save a graph into a separate file for sharing and embedding:"
   ]
  },
  {
   "cell_type": "code",
   "execution_count": 156,
   "metadata": {},
   "outputs": [
    {
     "data": {
      "text/plain": [
       "'dispatch_1864.html'"
      ]
     },
     "execution_count": 156,
     "metadata": {},
     "output_type": "execute_result"
    }
   ],
   "source": [
    "plot(figure, filename=\"dispatch_1864.html\")"
   ]
  },
  {
   "cell_type": "markdown",
   "metadata": {},
   "source": [
    "We can also summarize our data by months:"
   ]
  },
  {
   "cell_type": "code",
   "execution_count": 157,
   "metadata": {},
   "outputs": [
    {
     "data": {
      "text/html": [
       "<div>\n",
       "<style scoped>\n",
       "    .dataframe tbody tr th:only-of-type {\n",
       "        vertical-align: middle;\n",
       "    }\n",
       "\n",
       "    .dataframe tbody tr th {\n",
       "        vertical-align: top;\n",
       "    }\n",
       "\n",
       "    .dataframe thead th {\n",
       "        text-align: right;\n",
       "    }\n",
       "</style>\n",
       "<table border=\"1\" class=\"dataframe\">\n",
       "  <thead>\n",
       "    <tr style=\"text-align: right;\">\n",
       "      <th></th>\n",
       "      <th>t00</th>\n",
       "      <th>t01</th>\n",
       "      <th>t02</th>\n",
       "      <th>t03</th>\n",
       "      <th>t04</th>\n",
       "      <th>t05</th>\n",
       "      <th>t06</th>\n",
       "      <th>t07</th>\n",
       "      <th>t08</th>\n",
       "      <th>t09</th>\n",
       "      <th>...</th>\n",
       "      <th>t21</th>\n",
       "      <th>t22</th>\n",
       "      <th>t23</th>\n",
       "      <th>t24</th>\n",
       "      <th>t25</th>\n",
       "      <th>t26</th>\n",
       "      <th>t27</th>\n",
       "      <th>t28</th>\n",
       "      <th>t29</th>\n",
       "      <th>month</th>\n",
       "    </tr>\n",
       "    <tr>\n",
       "      <th>month</th>\n",
       "      <th></th>\n",
       "      <th></th>\n",
       "      <th></th>\n",
       "      <th></th>\n",
       "      <th></th>\n",
       "      <th></th>\n",
       "      <th></th>\n",
       "      <th></th>\n",
       "      <th></th>\n",
       "      <th></th>\n",
       "      <th></th>\n",
       "      <th></th>\n",
       "      <th></th>\n",
       "      <th></th>\n",
       "      <th></th>\n",
       "      <th></th>\n",
       "      <th></th>\n",
       "      <th></th>\n",
       "      <th></th>\n",
       "      <th></th>\n",
       "      <th></th>\n",
       "    </tr>\n",
       "  </thead>\n",
       "  <tbody>\n",
       "    <tr>\n",
       "      <th>1860-01-02</th>\n",
       "      <td>11.547841</td>\n",
       "      <td>8.969576</td>\n",
       "      <td>4.384787</td>\n",
       "      <td>9.959778</td>\n",
       "      <td>9.041194</td>\n",
       "      <td>7.094381</td>\n",
       "      <td>14.146168</td>\n",
       "      <td>10.028889</td>\n",
       "      <td>16.275581</td>\n",
       "      <td>5.437777</td>\n",
       "      <td>...</td>\n",
       "      <td>6.565423</td>\n",
       "      <td>7.235219</td>\n",
       "      <td>10.17265</td>\n",
       "      <td>10.255226</td>\n",
       "      <td>2.929230</td>\n",
       "      <td>10.470887</td>\n",
       "      <td>5.276558</td>\n",
       "      <td>2.640792</td>\n",
       "      <td>3.401364</td>\n",
       "      <td>1860-01-02</td>\n",
       "    </tr>\n",
       "    <tr>\n",
       "      <th>1860-01-11</th>\n",
       "      <td>375.489187</td>\n",
       "      <td>230.562199</td>\n",
       "      <td>440.594599</td>\n",
       "      <td>351.792513</td>\n",
       "      <td>157.158701</td>\n",
       "      <td>309.080873</td>\n",
       "      <td>273.224912</td>\n",
       "      <td>232.711891</td>\n",
       "      <td>218.986596</td>\n",
       "      <td>161.648735</td>\n",
       "      <td>...</td>\n",
       "      <td>193.393633</td>\n",
       "      <td>168.957287</td>\n",
       "      <td>629.13419</td>\n",
       "      <td>249.623180</td>\n",
       "      <td>123.929673</td>\n",
       "      <td>213.584704</td>\n",
       "      <td>171.677918</td>\n",
       "      <td>220.939919</td>\n",
       "      <td>219.261901</td>\n",
       "      <td>1860-01-11</td>\n",
       "    </tr>\n",
       "  </tbody>\n",
       "</table>\n",
       "<p>2 rows × 31 columns</p>\n",
       "</div>"
      ],
      "text/plain": [
       "                   t00         t01         t02         t03         t04  \\\n",
       "month                                                                    \n",
       "1860-01-02   11.547841    8.969576    4.384787    9.959778    9.041194   \n",
       "1860-01-11  375.489187  230.562199  440.594599  351.792513  157.158701   \n",
       "\n",
       "                   t05         t06         t07         t08         t09  ...  \\\n",
       "month                                                                   ...   \n",
       "1860-01-02    7.094381   14.146168   10.028889   16.275581    5.437777  ...   \n",
       "1860-01-11  309.080873  273.224912  232.711891  218.986596  161.648735  ...   \n",
       "\n",
       "                   t21         t22        t23         t24         t25  \\\n",
       "month                                                                   \n",
       "1860-01-02    6.565423    7.235219   10.17265   10.255226    2.929230   \n",
       "1860-01-11  193.393633  168.957287  629.13419  249.623180  123.929673   \n",
       "\n",
       "                   t26         t27         t28         t29      month  \n",
       "month                                                                  \n",
       "1860-01-02   10.470887    5.276558    2.640792    3.401364 1860-01-02  \n",
       "1860-01-11  213.584704  171.677918  220.939919  219.261901 1860-01-11  \n",
       "\n",
       "[2 rows x 31 columns]"
      ]
     },
     "execution_count": 157,
     "metadata": {},
     "output_type": "execute_result"
    }
   ],
   "source": [
    "topicSumM = mergedTable.groupby(\"month\").sum().copy()\n",
    "topicSumM[\"month\"] = topicSumM.index\n",
    "topicSumM"
   ]
  },
  {
   "cell_type": "code",
   "execution_count": 158,
   "metadata": {},
   "outputs": [
    {
     "data": {
      "application/vnd.plotly.v1+json": {
       "config": {
        "linkText": "Export to plot.ly",
        "plotlyServerURL": "https://plot.ly",
        "showLink": false
       },
       "data": [
        {
         "type": "bar",
         "x": [
          "1860-01-02T00:00:00",
          "1860-01-11T00:00:00"
         ],
         "y": [
          9.910189423710108,
          255.33614542800933
         ]
        }
       ],
       "layout": {
        "template": {
         "data": {
          "bar": [
           {
            "error_x": {
             "color": "#2a3f5f"
            },
            "error_y": {
             "color": "#2a3f5f"
            },
            "marker": {
             "line": {
              "color": "#E5ECF6",
              "width": 0.5
             }
            },
            "type": "bar"
           }
          ],
          "barpolar": [
           {
            "marker": {
             "line": {
              "color": "#E5ECF6",
              "width": 0.5
             }
            },
            "type": "barpolar"
           }
          ],
          "carpet": [
           {
            "aaxis": {
             "endlinecolor": "#2a3f5f",
             "gridcolor": "white",
             "linecolor": "white",
             "minorgridcolor": "white",
             "startlinecolor": "#2a3f5f"
            },
            "baxis": {
             "endlinecolor": "#2a3f5f",
             "gridcolor": "white",
             "linecolor": "white",
             "minorgridcolor": "white",
             "startlinecolor": "#2a3f5f"
            },
            "type": "carpet"
           }
          ],
          "choropleth": [
           {
            "colorbar": {
             "outlinewidth": 0,
             "ticks": ""
            },
            "type": "choropleth"
           }
          ],
          "contour": [
           {
            "colorbar": {
             "outlinewidth": 0,
             "ticks": ""
            },
            "colorscale": [
             [
              0,
              "#0d0887"
             ],
             [
              0.1111111111111111,
              "#46039f"
             ],
             [
              0.2222222222222222,
              "#7201a8"
             ],
             [
              0.3333333333333333,
              "#9c179e"
             ],
             [
              0.4444444444444444,
              "#bd3786"
             ],
             [
              0.5555555555555556,
              "#d8576b"
             ],
             [
              0.6666666666666666,
              "#ed7953"
             ],
             [
              0.7777777777777778,
              "#fb9f3a"
             ],
             [
              0.8888888888888888,
              "#fdca26"
             ],
             [
              1,
              "#f0f921"
             ]
            ],
            "type": "contour"
           }
          ],
          "contourcarpet": [
           {
            "colorbar": {
             "outlinewidth": 0,
             "ticks": ""
            },
            "type": "contourcarpet"
           }
          ],
          "heatmap": [
           {
            "colorbar": {
             "outlinewidth": 0,
             "ticks": ""
            },
            "colorscale": [
             [
              0,
              "#0d0887"
             ],
             [
              0.1111111111111111,
              "#46039f"
             ],
             [
              0.2222222222222222,
              "#7201a8"
             ],
             [
              0.3333333333333333,
              "#9c179e"
             ],
             [
              0.4444444444444444,
              "#bd3786"
             ],
             [
              0.5555555555555556,
              "#d8576b"
             ],
             [
              0.6666666666666666,
              "#ed7953"
             ],
             [
              0.7777777777777778,
              "#fb9f3a"
             ],
             [
              0.8888888888888888,
              "#fdca26"
             ],
             [
              1,
              "#f0f921"
             ]
            ],
            "type": "heatmap"
           }
          ],
          "heatmapgl": [
           {
            "colorbar": {
             "outlinewidth": 0,
             "ticks": ""
            },
            "colorscale": [
             [
              0,
              "#0d0887"
             ],
             [
              0.1111111111111111,
              "#46039f"
             ],
             [
              0.2222222222222222,
              "#7201a8"
             ],
             [
              0.3333333333333333,
              "#9c179e"
             ],
             [
              0.4444444444444444,
              "#bd3786"
             ],
             [
              0.5555555555555556,
              "#d8576b"
             ],
             [
              0.6666666666666666,
              "#ed7953"
             ],
             [
              0.7777777777777778,
              "#fb9f3a"
             ],
             [
              0.8888888888888888,
              "#fdca26"
             ],
             [
              1,
              "#f0f921"
             ]
            ],
            "type": "heatmapgl"
           }
          ],
          "histogram": [
           {
            "marker": {
             "colorbar": {
              "outlinewidth": 0,
              "ticks": ""
             }
            },
            "type": "histogram"
           }
          ],
          "histogram2d": [
           {
            "colorbar": {
             "outlinewidth": 0,
             "ticks": ""
            },
            "colorscale": [
             [
              0,
              "#0d0887"
             ],
             [
              0.1111111111111111,
              "#46039f"
             ],
             [
              0.2222222222222222,
              "#7201a8"
             ],
             [
              0.3333333333333333,
              "#9c179e"
             ],
             [
              0.4444444444444444,
              "#bd3786"
             ],
             [
              0.5555555555555556,
              "#d8576b"
             ],
             [
              0.6666666666666666,
              "#ed7953"
             ],
             [
              0.7777777777777778,
              "#fb9f3a"
             ],
             [
              0.8888888888888888,
              "#fdca26"
             ],
             [
              1,
              "#f0f921"
             ]
            ],
            "type": "histogram2d"
           }
          ],
          "histogram2dcontour": [
           {
            "colorbar": {
             "outlinewidth": 0,
             "ticks": ""
            },
            "colorscale": [
             [
              0,
              "#0d0887"
             ],
             [
              0.1111111111111111,
              "#46039f"
             ],
             [
              0.2222222222222222,
              "#7201a8"
             ],
             [
              0.3333333333333333,
              "#9c179e"
             ],
             [
              0.4444444444444444,
              "#bd3786"
             ],
             [
              0.5555555555555556,
              "#d8576b"
             ],
             [
              0.6666666666666666,
              "#ed7953"
             ],
             [
              0.7777777777777778,
              "#fb9f3a"
             ],
             [
              0.8888888888888888,
              "#fdca26"
             ],
             [
              1,
              "#f0f921"
             ]
            ],
            "type": "histogram2dcontour"
           }
          ],
          "mesh3d": [
           {
            "colorbar": {
             "outlinewidth": 0,
             "ticks": ""
            },
            "type": "mesh3d"
           }
          ],
          "parcoords": [
           {
            "line": {
             "colorbar": {
              "outlinewidth": 0,
              "ticks": ""
             }
            },
            "type": "parcoords"
           }
          ],
          "pie": [
           {
            "automargin": true,
            "type": "pie"
           }
          ],
          "scatter": [
           {
            "marker": {
             "colorbar": {
              "outlinewidth": 0,
              "ticks": ""
             }
            },
            "type": "scatter"
           }
          ],
          "scatter3d": [
           {
            "line": {
             "colorbar": {
              "outlinewidth": 0,
              "ticks": ""
             }
            },
            "marker": {
             "colorbar": {
              "outlinewidth": 0,
              "ticks": ""
             }
            },
            "type": "scatter3d"
           }
          ],
          "scattercarpet": [
           {
            "marker": {
             "colorbar": {
              "outlinewidth": 0,
              "ticks": ""
             }
            },
            "type": "scattercarpet"
           }
          ],
          "scattergeo": [
           {
            "marker": {
             "colorbar": {
              "outlinewidth": 0,
              "ticks": ""
             }
            },
            "type": "scattergeo"
           }
          ],
          "scattergl": [
           {
            "marker": {
             "colorbar": {
              "outlinewidth": 0,
              "ticks": ""
             }
            },
            "type": "scattergl"
           }
          ],
          "scattermapbox": [
           {
            "marker": {
             "colorbar": {
              "outlinewidth": 0,
              "ticks": ""
             }
            },
            "type": "scattermapbox"
           }
          ],
          "scatterpolar": [
           {
            "marker": {
             "colorbar": {
              "outlinewidth": 0,
              "ticks": ""
             }
            },
            "type": "scatterpolar"
           }
          ],
          "scatterpolargl": [
           {
            "marker": {
             "colorbar": {
              "outlinewidth": 0,
              "ticks": ""
             }
            },
            "type": "scatterpolargl"
           }
          ],
          "scatterternary": [
           {
            "marker": {
             "colorbar": {
              "outlinewidth": 0,
              "ticks": ""
             }
            },
            "type": "scatterternary"
           }
          ],
          "surface": [
           {
            "colorbar": {
             "outlinewidth": 0,
             "ticks": ""
            },
            "colorscale": [
             [
              0,
              "#0d0887"
             ],
             [
              0.1111111111111111,
              "#46039f"
             ],
             [
              0.2222222222222222,
              "#7201a8"
             ],
             [
              0.3333333333333333,
              "#9c179e"
             ],
             [
              0.4444444444444444,
              "#bd3786"
             ],
             [
              0.5555555555555556,
              "#d8576b"
             ],
             [
              0.6666666666666666,
              "#ed7953"
             ],
             [
              0.7777777777777778,
              "#fb9f3a"
             ],
             [
              0.8888888888888888,
              "#fdca26"
             ],
             [
              1,
              "#f0f921"
             ]
            ],
            "type": "surface"
           }
          ],
          "table": [
           {
            "cells": {
             "fill": {
              "color": "#EBF0F8"
             },
             "line": {
              "color": "white"
             }
            },
            "header": {
             "fill": {
              "color": "#C8D4E3"
             },
             "line": {
              "color": "white"
             }
            },
            "type": "table"
           }
          ]
         },
         "layout": {
          "annotationdefaults": {
           "arrowcolor": "#2a3f5f",
           "arrowhead": 0,
           "arrowwidth": 1
          },
          "coloraxis": {
           "colorbar": {
            "outlinewidth": 0,
            "ticks": ""
           }
          },
          "colorscale": {
           "diverging": [
            [
             0,
             "#8e0152"
            ],
            [
             0.1,
             "#c51b7d"
            ],
            [
             0.2,
             "#de77ae"
            ],
            [
             0.3,
             "#f1b6da"
            ],
            [
             0.4,
             "#fde0ef"
            ],
            [
             0.5,
             "#f7f7f7"
            ],
            [
             0.6,
             "#e6f5d0"
            ],
            [
             0.7,
             "#b8e186"
            ],
            [
             0.8,
             "#7fbc41"
            ],
            [
             0.9,
             "#4d9221"
            ],
            [
             1,
             "#276419"
            ]
           ],
           "sequential": [
            [
             0,
             "#0d0887"
            ],
            [
             0.1111111111111111,
             "#46039f"
            ],
            [
             0.2222222222222222,
             "#7201a8"
            ],
            [
             0.3333333333333333,
             "#9c179e"
            ],
            [
             0.4444444444444444,
             "#bd3786"
            ],
            [
             0.5555555555555556,
             "#d8576b"
            ],
            [
             0.6666666666666666,
             "#ed7953"
            ],
            [
             0.7777777777777778,
             "#fb9f3a"
            ],
            [
             0.8888888888888888,
             "#fdca26"
            ],
            [
             1,
             "#f0f921"
            ]
           ],
           "sequentialminus": [
            [
             0,
             "#0d0887"
            ],
            [
             0.1111111111111111,
             "#46039f"
            ],
            [
             0.2222222222222222,
             "#7201a8"
            ],
            [
             0.3333333333333333,
             "#9c179e"
            ],
            [
             0.4444444444444444,
             "#bd3786"
            ],
            [
             0.5555555555555556,
             "#d8576b"
            ],
            [
             0.6666666666666666,
             "#ed7953"
            ],
            [
             0.7777777777777778,
             "#fb9f3a"
            ],
            [
             0.8888888888888888,
             "#fdca26"
            ],
            [
             1,
             "#f0f921"
            ]
           ]
          },
          "colorway": [
           "#636efa",
           "#EF553B",
           "#00cc96",
           "#ab63fa",
           "#FFA15A",
           "#19d3f3",
           "#FF6692",
           "#B6E880",
           "#FF97FF",
           "#FECB52"
          ],
          "font": {
           "color": "#2a3f5f"
          },
          "geo": {
           "bgcolor": "white",
           "lakecolor": "white",
           "landcolor": "#E5ECF6",
           "showlakes": true,
           "showland": true,
           "subunitcolor": "white"
          },
          "hoverlabel": {
           "align": "left"
          },
          "hovermode": "closest",
          "mapbox": {
           "style": "light"
          },
          "paper_bgcolor": "white",
          "plot_bgcolor": "#E5ECF6",
          "polar": {
           "angularaxis": {
            "gridcolor": "white",
            "linecolor": "white",
            "ticks": ""
           },
           "bgcolor": "#E5ECF6",
           "radialaxis": {
            "gridcolor": "white",
            "linecolor": "white",
            "ticks": ""
           }
          },
          "scene": {
           "xaxis": {
            "backgroundcolor": "#E5ECF6",
            "gridcolor": "white",
            "gridwidth": 2,
            "linecolor": "white",
            "showbackground": true,
            "ticks": "",
            "zerolinecolor": "white"
           },
           "yaxis": {
            "backgroundcolor": "#E5ECF6",
            "gridcolor": "white",
            "gridwidth": 2,
            "linecolor": "white",
            "showbackground": true,
            "ticks": "",
            "zerolinecolor": "white"
           },
           "zaxis": {
            "backgroundcolor": "#E5ECF6",
            "gridcolor": "white",
            "gridwidth": 2,
            "linecolor": "white",
            "showbackground": true,
            "ticks": "",
            "zerolinecolor": "white"
           }
          },
          "shapedefaults": {
           "line": {
            "color": "#2a3f5f"
           }
          },
          "ternary": {
           "aaxis": {
            "gridcolor": "white",
            "linecolor": "white",
            "ticks": ""
           },
           "baxis": {
            "gridcolor": "white",
            "linecolor": "white",
            "ticks": ""
           },
           "bgcolor": "#E5ECF6",
           "caxis": {
            "gridcolor": "white",
            "linecolor": "white",
            "ticks": ""
           }
          },
          "title": {
           "x": 0.05
          },
          "xaxis": {
           "automargin": true,
           "gridcolor": "white",
           "linecolor": "white",
           "ticks": "",
           "title": {
            "standoff": 15
           },
           "zerolinecolor": "white",
           "zerolinewidth": 2
          },
          "yaxis": {
           "automargin": true,
           "gridcolor": "white",
           "linecolor": "white",
           "ticks": "",
           "title": {
            "standoff": 15
           },
           "zerolinecolor": "white",
           "zerolinewidth": 2
          }
         }
        },
        "title": {
         "text": "t19: schr, oclock, amp, order, nov, st, co, new, richmond, evening"
        },
        "xaxis": {
         "title": {
          "text": "Dates"
         }
        },
        "yaxis": {
         "title": {
          "text": "Topic Salience"
         }
        }
       }
      },
      "text/html": [
       "<div>\n",
       "        \n",
       "        \n",
       "            <div id=\"318d1672-5381-4bcf-8518-f0b48cdf4b79\" class=\"plotly-graph-div\" style=\"height:525px; width:100%;\"></div>\n",
       "            <script type=\"text/javascript\">\n",
       "                require([\"plotly\"], function(Plotly) {\n",
       "                    window.PLOTLYENV=window.PLOTLYENV || {};\n",
       "                    \n",
       "                if (document.getElementById(\"318d1672-5381-4bcf-8518-f0b48cdf4b79\")) {\n",
       "                    Plotly.newPlot(\n",
       "                        '318d1672-5381-4bcf-8518-f0b48cdf4b79',\n",
       "                        [{\"type\": \"bar\", \"x\": [\"1860-01-02T00:00:00\", \"1860-01-11T00:00:00\"], \"y\": [9.910189423710108, 255.33614542800933]}],\n",
       "                        {\"template\": {\"data\": {\"bar\": [{\"error_x\": {\"color\": \"#2a3f5f\"}, \"error_y\": {\"color\": \"#2a3f5f\"}, \"marker\": {\"line\": {\"color\": \"#E5ECF6\", \"width\": 0.5}}, \"type\": \"bar\"}], \"barpolar\": [{\"marker\": {\"line\": {\"color\": \"#E5ECF6\", \"width\": 0.5}}, \"type\": \"barpolar\"}], \"carpet\": [{\"aaxis\": {\"endlinecolor\": \"#2a3f5f\", \"gridcolor\": \"white\", \"linecolor\": \"white\", \"minorgridcolor\": \"white\", \"startlinecolor\": \"#2a3f5f\"}, \"baxis\": {\"endlinecolor\": \"#2a3f5f\", \"gridcolor\": \"white\", \"linecolor\": \"white\", \"minorgridcolor\": \"white\", \"startlinecolor\": \"#2a3f5f\"}, \"type\": \"carpet\"}], \"choropleth\": [{\"colorbar\": {\"outlinewidth\": 0, \"ticks\": \"\"}, \"type\": \"choropleth\"}], \"contour\": [{\"colorbar\": {\"outlinewidth\": 0, \"ticks\": \"\"}, \"colorscale\": [[0.0, \"#0d0887\"], [0.1111111111111111, \"#46039f\"], [0.2222222222222222, \"#7201a8\"], [0.3333333333333333, \"#9c179e\"], [0.4444444444444444, \"#bd3786\"], [0.5555555555555556, \"#d8576b\"], [0.6666666666666666, \"#ed7953\"], [0.7777777777777778, \"#fb9f3a\"], [0.8888888888888888, \"#fdca26\"], [1.0, \"#f0f921\"]], \"type\": \"contour\"}], \"contourcarpet\": [{\"colorbar\": {\"outlinewidth\": 0, \"ticks\": \"\"}, \"type\": \"contourcarpet\"}], \"heatmap\": [{\"colorbar\": {\"outlinewidth\": 0, \"ticks\": \"\"}, \"colorscale\": [[0.0, \"#0d0887\"], [0.1111111111111111, \"#46039f\"], [0.2222222222222222, \"#7201a8\"], [0.3333333333333333, \"#9c179e\"], [0.4444444444444444, \"#bd3786\"], [0.5555555555555556, \"#d8576b\"], [0.6666666666666666, \"#ed7953\"], [0.7777777777777778, \"#fb9f3a\"], [0.8888888888888888, \"#fdca26\"], [1.0, \"#f0f921\"]], \"type\": \"heatmap\"}], \"heatmapgl\": [{\"colorbar\": {\"outlinewidth\": 0, \"ticks\": \"\"}, \"colorscale\": [[0.0, \"#0d0887\"], [0.1111111111111111, \"#46039f\"], [0.2222222222222222, \"#7201a8\"], [0.3333333333333333, \"#9c179e\"], [0.4444444444444444, \"#bd3786\"], [0.5555555555555556, \"#d8576b\"], [0.6666666666666666, \"#ed7953\"], [0.7777777777777778, \"#fb9f3a\"], [0.8888888888888888, \"#fdca26\"], [1.0, \"#f0f921\"]], \"type\": \"heatmapgl\"}], \"histogram\": [{\"marker\": {\"colorbar\": {\"outlinewidth\": 0, \"ticks\": \"\"}}, \"type\": \"histogram\"}], \"histogram2d\": [{\"colorbar\": {\"outlinewidth\": 0, \"ticks\": \"\"}, \"colorscale\": [[0.0, \"#0d0887\"], [0.1111111111111111, \"#46039f\"], [0.2222222222222222, \"#7201a8\"], [0.3333333333333333, \"#9c179e\"], [0.4444444444444444, \"#bd3786\"], [0.5555555555555556, \"#d8576b\"], [0.6666666666666666, \"#ed7953\"], [0.7777777777777778, \"#fb9f3a\"], [0.8888888888888888, \"#fdca26\"], [1.0, \"#f0f921\"]], \"type\": \"histogram2d\"}], \"histogram2dcontour\": [{\"colorbar\": {\"outlinewidth\": 0, \"ticks\": \"\"}, \"colorscale\": [[0.0, \"#0d0887\"], [0.1111111111111111, \"#46039f\"], [0.2222222222222222, \"#7201a8\"], [0.3333333333333333, \"#9c179e\"], [0.4444444444444444, \"#bd3786\"], [0.5555555555555556, \"#d8576b\"], [0.6666666666666666, \"#ed7953\"], [0.7777777777777778, \"#fb9f3a\"], [0.8888888888888888, \"#fdca26\"], [1.0, \"#f0f921\"]], \"type\": \"histogram2dcontour\"}], \"mesh3d\": [{\"colorbar\": {\"outlinewidth\": 0, \"ticks\": \"\"}, \"type\": \"mesh3d\"}], \"parcoords\": [{\"line\": {\"colorbar\": {\"outlinewidth\": 0, \"ticks\": \"\"}}, \"type\": \"parcoords\"}], \"pie\": [{\"automargin\": true, \"type\": \"pie\"}], \"scatter\": [{\"marker\": {\"colorbar\": {\"outlinewidth\": 0, \"ticks\": \"\"}}, \"type\": \"scatter\"}], \"scatter3d\": [{\"line\": {\"colorbar\": {\"outlinewidth\": 0, \"ticks\": \"\"}}, \"marker\": {\"colorbar\": {\"outlinewidth\": 0, \"ticks\": \"\"}}, \"type\": \"scatter3d\"}], \"scattercarpet\": [{\"marker\": {\"colorbar\": {\"outlinewidth\": 0, \"ticks\": \"\"}}, \"type\": \"scattercarpet\"}], \"scattergeo\": [{\"marker\": {\"colorbar\": {\"outlinewidth\": 0, \"ticks\": \"\"}}, \"type\": \"scattergeo\"}], \"scattergl\": [{\"marker\": {\"colorbar\": {\"outlinewidth\": 0, \"ticks\": \"\"}}, \"type\": \"scattergl\"}], \"scattermapbox\": [{\"marker\": {\"colorbar\": {\"outlinewidth\": 0, \"ticks\": \"\"}}, \"type\": \"scattermapbox\"}], \"scatterpolar\": [{\"marker\": {\"colorbar\": {\"outlinewidth\": 0, \"ticks\": \"\"}}, \"type\": \"scatterpolar\"}], \"scatterpolargl\": [{\"marker\": {\"colorbar\": {\"outlinewidth\": 0, \"ticks\": \"\"}}, \"type\": \"scatterpolargl\"}], \"scatterternary\": [{\"marker\": {\"colorbar\": {\"outlinewidth\": 0, \"ticks\": \"\"}}, \"type\": \"scatterternary\"}], \"surface\": [{\"colorbar\": {\"outlinewidth\": 0, \"ticks\": \"\"}, \"colorscale\": [[0.0, \"#0d0887\"], [0.1111111111111111, \"#46039f\"], [0.2222222222222222, \"#7201a8\"], [0.3333333333333333, \"#9c179e\"], [0.4444444444444444, \"#bd3786\"], [0.5555555555555556, \"#d8576b\"], [0.6666666666666666, \"#ed7953\"], [0.7777777777777778, \"#fb9f3a\"], [0.8888888888888888, \"#fdca26\"], [1.0, \"#f0f921\"]], \"type\": \"surface\"}], \"table\": [{\"cells\": {\"fill\": {\"color\": \"#EBF0F8\"}, \"line\": {\"color\": \"white\"}}, \"header\": {\"fill\": {\"color\": \"#C8D4E3\"}, \"line\": {\"color\": \"white\"}}, \"type\": \"table\"}]}, \"layout\": {\"annotationdefaults\": {\"arrowcolor\": \"#2a3f5f\", \"arrowhead\": 0, \"arrowwidth\": 1}, \"coloraxis\": {\"colorbar\": {\"outlinewidth\": 0, \"ticks\": \"\"}}, \"colorscale\": {\"diverging\": [[0, \"#8e0152\"], [0.1, \"#c51b7d\"], [0.2, \"#de77ae\"], [0.3, \"#f1b6da\"], [0.4, \"#fde0ef\"], [0.5, \"#f7f7f7\"], [0.6, \"#e6f5d0\"], [0.7, \"#b8e186\"], [0.8, \"#7fbc41\"], [0.9, \"#4d9221\"], [1, \"#276419\"]], \"sequential\": [[0.0, \"#0d0887\"], [0.1111111111111111, \"#46039f\"], [0.2222222222222222, \"#7201a8\"], [0.3333333333333333, \"#9c179e\"], [0.4444444444444444, \"#bd3786\"], [0.5555555555555556, \"#d8576b\"], [0.6666666666666666, \"#ed7953\"], [0.7777777777777778, \"#fb9f3a\"], [0.8888888888888888, \"#fdca26\"], [1.0, \"#f0f921\"]], \"sequentialminus\": [[0.0, \"#0d0887\"], [0.1111111111111111, \"#46039f\"], [0.2222222222222222, \"#7201a8\"], [0.3333333333333333, \"#9c179e\"], [0.4444444444444444, \"#bd3786\"], [0.5555555555555556, \"#d8576b\"], [0.6666666666666666, \"#ed7953\"], [0.7777777777777778, \"#fb9f3a\"], [0.8888888888888888, \"#fdca26\"], [1.0, \"#f0f921\"]]}, \"colorway\": [\"#636efa\", \"#EF553B\", \"#00cc96\", \"#ab63fa\", \"#FFA15A\", \"#19d3f3\", \"#FF6692\", \"#B6E880\", \"#FF97FF\", \"#FECB52\"], \"font\": {\"color\": \"#2a3f5f\"}, \"geo\": {\"bgcolor\": \"white\", \"lakecolor\": \"white\", \"landcolor\": \"#E5ECF6\", \"showlakes\": true, \"showland\": true, \"subunitcolor\": \"white\"}, \"hoverlabel\": {\"align\": \"left\"}, \"hovermode\": \"closest\", \"mapbox\": {\"style\": \"light\"}, \"paper_bgcolor\": \"white\", \"plot_bgcolor\": \"#E5ECF6\", \"polar\": {\"angularaxis\": {\"gridcolor\": \"white\", \"linecolor\": \"white\", \"ticks\": \"\"}, \"bgcolor\": \"#E5ECF6\", \"radialaxis\": {\"gridcolor\": \"white\", \"linecolor\": \"white\", \"ticks\": \"\"}}, \"scene\": {\"xaxis\": {\"backgroundcolor\": \"#E5ECF6\", \"gridcolor\": \"white\", \"gridwidth\": 2, \"linecolor\": \"white\", \"showbackground\": true, \"ticks\": \"\", \"zerolinecolor\": \"white\"}, \"yaxis\": {\"backgroundcolor\": \"#E5ECF6\", \"gridcolor\": \"white\", \"gridwidth\": 2, \"linecolor\": \"white\", \"showbackground\": true, \"ticks\": \"\", \"zerolinecolor\": \"white\"}, \"zaxis\": {\"backgroundcolor\": \"#E5ECF6\", \"gridcolor\": \"white\", \"gridwidth\": 2, \"linecolor\": \"white\", \"showbackground\": true, \"ticks\": \"\", \"zerolinecolor\": \"white\"}}, \"shapedefaults\": {\"line\": {\"color\": \"#2a3f5f\"}}, \"ternary\": {\"aaxis\": {\"gridcolor\": \"white\", \"linecolor\": \"white\", \"ticks\": \"\"}, \"baxis\": {\"gridcolor\": \"white\", \"linecolor\": \"white\", \"ticks\": \"\"}, \"bgcolor\": \"#E5ECF6\", \"caxis\": {\"gridcolor\": \"white\", \"linecolor\": \"white\", \"ticks\": \"\"}}, \"title\": {\"x\": 0.05}, \"xaxis\": {\"automargin\": true, \"gridcolor\": \"white\", \"linecolor\": \"white\", \"ticks\": \"\", \"title\": {\"standoff\": 15}, \"zerolinecolor\": \"white\", \"zerolinewidth\": 2}, \"yaxis\": {\"automargin\": true, \"gridcolor\": \"white\", \"linecolor\": \"white\", \"ticks\": \"\", \"title\": {\"standoff\": 15}, \"zerolinecolor\": \"white\", \"zerolinewidth\": 2}}}, \"title\": {\"text\": \"t19: schr, oclock, amp, order, nov, st, co, new, richmond, evening\"}, \"xaxis\": {\"title\": {\"text\": \"Dates\"}}, \"yaxis\": {\"title\": {\"text\": \"Topic Salience\"}}},\n",
       "                        {\"responsive\": true}\n",
       "                    ).then(function(){\n",
       "                            \n",
       "var gd = document.getElementById('318d1672-5381-4bcf-8518-f0b48cdf4b79');\n",
       "var x = new MutationObserver(function (mutations, observer) {{\n",
       "        var display = window.getComputedStyle(gd).display;\n",
       "        if (!display || display === 'none') {{\n",
       "            console.log([gd, 'removed!']);\n",
       "            Plotly.purge(gd);\n",
       "            observer.disconnect();\n",
       "        }}\n",
       "}});\n",
       "\n",
       "// Listen for the removal of the full notebook cells\n",
       "var notebookContainer = gd.closest('#notebook-container');\n",
       "if (notebookContainer) {{\n",
       "    x.observe(notebookContainer, {childList: true});\n",
       "}}\n",
       "\n",
       "// Listen for the clearing of the current output cell\n",
       "var outputEl = gd.closest('.output');\n",
       "if (outputEl) {{\n",
       "    x.observe(outputEl, {childList: true});\n",
       "}}\n",
       "\n",
       "                        })\n",
       "                };\n",
       "                });\n",
       "            </script>\n",
       "        </div>"
      ]
     },
     "metadata": {},
     "output_type": "display_data"
    }
   ],
   "source": [
    "# Create the data for the bar chart\n",
    "bar_data = go.Bar(\n",
    "    x=topicSumM[\"month\"], \n",
    "    y=topicSumM[topic]\n",
    ")\n",
    "# Create the layout information for display\n",
    "layout = go.Layout(\n",
    "    title=topic+\": \"+topicDic[topic],    \n",
    "    xaxis=dict(title='Dates'),\n",
    "    yaxis=dict(title='Topic Salience')\n",
    ")\n",
    "# These two together create the \"figure\"\n",
    "figure = go.Figure(data=[bar_data], layout=layout)\n",
    "# Use \"iplot\" to create the figure in the Jupyter notebook\n",
    "iplot(figure)\n",
    "# use \"plot\" to create a HTML file for sharing / embedding\n",
    "#plot(figure)"
   ]
  },
  {
   "cell_type": "code",
   "execution_count": null,
   "metadata": {},
   "outputs": [],
   "source": []
  },
  {
   "cell_type": "markdown",
   "metadata": {},
   "source": [
    "# Re-using our LDA model"
   ]
  },
  {
   "cell_type": "markdown",
   "metadata": {},
   "source": [
    "The trained LDA model can be applied to new texts, although this, of course should be done with utmost care. In general, this works as follows (we'll start with text already split into a list of words, converted into lower case):"
   ]
  },
  {
   "cell_type": "code",
   "execution_count": 159,
   "metadata": {},
   "outputs": [
    {
     "name": "stdout",
     "output_type": "stream",
     "text": [
      "[(762, 1), (972, 1), (9934, 1)]\n",
      "[(24, 0.52550423), (26, 0.3477442)]\n"
     ]
    }
   ],
   "source": [
    "new_doc = ['caliph', 'umar', 'led', 'conquest', 'several', 'iranian', 'provinces']\n",
    "new_doc_bow = dictionary.doc2bow(new_doc)\n",
    "print(new_doc_bow)\n",
    "print(lda_model.get_document_topics(new_doc_bow))"
   ]
  },
  {
   "cell_type": "markdown",
   "metadata": {},
   "source": [
    "The first list is the words that match words in our model. The second list is the topics and their proportions. You can check the matching words by typing `dictionary[number]` where `number` is the first number in the tuple (`(1290, 1)`). You can also check the ropics by typing `lda_model.print_topic(number)`, where the number is the number of the topic in the tuples of the second liist. Try them below:"
   ]
  },
  {
   "cell_type": "code",
   "execution_count": null,
   "metadata": {},
   "outputs": [],
   "source": []
  },
  {
   "cell_type": "code",
   "execution_count": 160,
   "metadata": {},
   "outputs": [
    {
     "data": {
      "text/plain": [
       "'0.030*\"main\" + 0.015*\"amp\" + 0.015*\"street\" + 0.012*\"clothing\" + 0.009*\"corner\" + 0.008*\"st\" + 0.008*\"sts\" + 0.008*\"new\" + 0.007*\"made\" + 0.007*\"best\"'"
      ]
     },
     "execution_count": 160,
     "metadata": {},
     "output_type": "execute_result"
    }
   ],
   "source": [
    "lda_model.print_topic(12)"
   ]
  },
  {
   "cell_type": "code",
   "execution_count": null,
   "metadata": {},
   "outputs": [],
   "source": []
  },
  {
   "cell_type": "code",
   "execution_count": null,
   "metadata": {},
   "outputs": [],
   "source": []
  },
  {
   "cell_type": "code",
   "execution_count": null,
   "metadata": {},
   "outputs": [],
   "source": []
  },
  {
   "cell_type": "markdown",
   "metadata": {},
   "source": [
    "Results for texts from the same period and region should, however, be much better. Let;s take another example (just a few lines from [here](https://www.thoughtco.com/the-battle-of-antietam-1773739)):"
   ]
  },
  {
   "cell_type": "markdown",
   "metadata": {},
   "source": [
    "> After a summer of defeats in Virginia in the summer of 1862, the Union Army was demoralized in its camps near Washington, D.C. at the beginning of September. On the Confederate side, General Robert E. Lee was hoping to strike a decisive blow by invading the North. Lee's plan was to strike into Pennsylvania, imperiling the city of Washington and forcing an end to the war. The Confederate Army began crossing the Potomac on September 4, and within a few days had entered Frederick, a town in western Maryland. The citizens of the town stared at the Confederates as they passed through, hardly extending the warm welcome Lee had hoped to receive in Maryland. Lee split up his forces, sending part of the Army of Northern Virginia to capture the town of Harpers Ferry and its federal arsenal (which had been the site of John Brown's raid three years earlier)."
   ]
  },
  {
   "cell_type": "code",
   "execution_count": 161,
   "metadata": {},
   "outputs": [
    {
     "name": "stdout",
     "output_type": "stream",
     "text": [
      "[(3, 1), (51, 1), (64, 1), (66, 2), (72, 1), (81, 1), (97, 1), (172, 1), (184, 1), (235, 1), (514, 1), (570, 2), (598, 1), (644, 1), (674, 1), (830, 1), (851, 1), (985, 1), (1070, 1), (1086, 1), (1088, 1), (1091, 2), (1098, 1), (1103, 1), (1152, 1), (1232, 2), (1237, 1), (1286, 1), (1305, 1), (1355, 1), (1514, 1), (1681, 3), (2141, 1), (2394, 1), (2441, 4), (2595, 1), (2598, 1), (3047, 1), (3254, 1), (3567, 1), (3783, 1), (3786, 1), (3937, 1), (4104, 2), (4134, 3), (4142, 1), (4596, 1), (4628, 1), (4653, 1), (5393, 1), (5565, 1), (6634, 2), (8811, 2), (8956, 1), (9634, 1), (10509, 1), (11118, 1), (11509, 1), (12173, 1), (13048, 1), (13634, 1)]\n",
      "[(1, 0.045164734), (4, 0.08700314), (6, 0.12006116), (7, 0.014818107), (8, 0.19177112), (13, 0.12891866), (18, 0.027100548), (21, 0.031235715), (24, 0.15361452), (26, 0.15325814), (28, 0.029868694), (29, 0.013354248)]\n"
     ]
    }
   ],
   "source": [
    "testDoc = [\"after\", \"a\", \"summer\", \"of\", \"defeats\", \"in\", \"virginia\", \"in\", \"the\", \"summer\",\n",
    "           \"of\", \"1862\", \"the\", \"union\", \"army\", \"was\", \"demoralized\", \"in\", \"its\", \"camps\",\n",
    "           \"near\", \"washington\", \"d\", \"c\", \"at\", \"the\", \"beginning\", \"of\", \"september\", \"on\",\n",
    "           \"the\", \"confederate\", \"side\", \"general\", \"robert\", \"e\", \"lee\", \"was\", \"hoping\",\n",
    "           \"to\", \"strike\", \"a\", \"decisive\", \"blow\", \"by\", \"invading\", \"the\", \"north\", \"lee\",\n",
    "           \"s\", \"plan\", \"was\", \"to\", \"strike\", \"into\", \"pennsylvania\", \"imperiling\", \"the\",\n",
    "           \"city\", \"of\", \"washington\", \"and\", \"forcing\", \"an\", \"end\", \"to\", \"the\", \"war\",\n",
    "           \"the\", \"confederate\", \"army\", \"began\", \"crossing\", \"the\", \"potomac\", \"on\", \"september\",\n",
    "           \"4\", \"and\", \"within\", \"a\", \"few\", \"days\", \"had\", \"entered\", \"frederick\", \"a\", \"town\",\n",
    "           \"in\", \"western\", \"maryland\", \"the\", \"citizens\", \"of\", \"the\", \"town\", \"stared\", \"at\",\n",
    "           \"the\", \"confederates\", \"as\", \"they\", \"passed\", \"through\", \"hardly\", \"extending\", \"the\",\n",
    "           \"warm\", \"welcome\", \"lee\", \"had\", \"hoped\", \"to\", \"receive\", \"in\", \"maryland\", \"lee\",\n",
    "           \"split\", \"up\", \"his\", \"forces\", \"sending\", \"part\", \"of\", \"the\", \"army\", \"of\",\n",
    "           \"northern\", \"virginia\", \"to\", \"capture\", \"the\", \"town\", \"of\", \"harpers\", \"ferry\",\n",
    "           \"and\", \"its\", \"federal\", \"arsenal\", \"which\", \"had\", \"been\", \"the\", \"site\", \"of\",\n",
    "           \"john\", \"brown\", \"s\", \"raid\", \"three\", \"years\", \"earlier\"]\n",
    "\n",
    "testDoc = dictionary.doc2bow(testDoc)\n",
    "print(testDoc)\n",
    "print(lda_model.get_document_topics(testDoc))"
   ]
  },
  {
   "cell_type": "markdown",
   "metadata": {},
   "source": [
    "What is the dominant topic? Try your code below:"
   ]
  },
  {
   "cell_type": "code",
   "execution_count": 162,
   "metadata": {},
   "outputs": [
    {
     "data": {
      "text/plain": [
       "'0.015*\"amp\" + 0.015*\"apply\" + 0.010*\"oc\" + 0.009*\"ts\" + 0.008*\"gas\" + 0.008*\"freight\" + 0.008*\"street\" + 0.007*\"burners\" + 0.007*\"wm\" + 0.007*\"dispatch\"'"
      ]
     },
     "execution_count": 162,
     "metadata": {},
     "output_type": "execute_result"
    }
   ],
   "source": [
    "lda_model.print_topic(15)"
   ]
  },
  {
   "cell_type": "code",
   "execution_count": null,
   "metadata": {},
   "outputs": [],
   "source": []
  },
  {
   "cell_type": "code",
   "execution_count": null,
   "metadata": {},
   "outputs": [],
   "source": []
  },
  {
   "cell_type": "code",
   "execution_count": null,
   "metadata": {},
   "outputs": [],
   "source": []
  }
 ],
 "metadata": {
  "kernelspec": {
   "display_name": "Python 3",
   "language": "python",
   "name": "python3"
  },
  "language_info": {
   "codemirror_mode": {
    "name": "ipython",
    "version": 3
   },
   "file_extension": ".py",
   "mimetype": "text/x-python",
   "name": "python",
   "nbconvert_exporter": "python",
   "pygments_lexer": "ipython3",
   "version": "3.7.6"
  }
 },
 "nbformat": 4,
 "nbformat_minor": 2
}
